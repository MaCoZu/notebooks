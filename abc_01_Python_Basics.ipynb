{
 "cells": [
  {
   "cell_type": "code",
   "execution_count": 1,
   "metadata": {},
   "outputs": [
    {
     "name": "stdout",
     "output_type": "stream",
     "text": [
      "hello world\n"
     ]
    }
   ],
   "source": [
    "print(\"hello world\")"
   ]
  },
  {
   "cell_type": "code",
   "execution_count": 1,
   "metadata": {},
   "outputs": [
    {
     "name": "stdout",
     "output_type": "stream",
     "text": [
      "The Zen of Python, by Tim Peters\n",
      "\n",
      "Beautiful is better than ugly.\n",
      "Explicit is better than implicit.\n",
      "Simple is better than complex.\n",
      "Complex is better than complicated.\n",
      "Flat is better than nested.\n",
      "Sparse is better than dense.\n",
      "Readability counts.\n",
      "Special cases aren't special enough to break the rules.\n",
      "Although practicality beats purity.\n",
      "Errors should never pass silently.\n",
      "Unless explicitly silenced.\n",
      "In the face of ambiguity, refuse the temptation to guess.\n",
      "There should be one-- and preferably only one --obvious way to do it.\n",
      "Although that way may not be obvious at first unless you're Dutch.\n",
      "Now is better than never.\n",
      "Although never is often better than *right* now.\n",
      "If the implementation is hard to explain, it's a bad idea.\n",
      "If the implementation is easy to explain, it may be a good idea.\n",
      "Namespaces are one honking great idea -- let's do more of those!\n"
     ]
    }
   ],
   "source": [
    "import this"
   ]
  },
  {
   "cell_type": "markdown",
   "metadata": {},
   "source": [
    "# variables"
   ]
  },
  {
   "cell_type": "code",
   "execution_count": 3,
   "metadata": {},
   "outputs": [
    {
     "name": "stdout",
     "output_type": "stream",
     "text": [
      "19.95\n"
     ]
    }
   ],
   "source": [
    "age = 20                            # integer - whole number\n",
    "price = 19.95                   # float - decimal\n",
    "first_name = \"Marco\"    # string - underscore_for readability\n",
    "is_online = True              # boolean - python is case-sensitive\n",
    "print(price)"
   ]
  },
  {
   "cell_type": "markdown",
   "metadata": {},
   "source": [
    "## define many variables in one go"
   ]
  },
  {
   "cell_type": "code",
   "execution_count": 47,
   "metadata": {},
   "outputs": [
    {
     "data": {
      "text/plain": [
       "('Orange', 'Banana', 'Cherry')"
      ]
     },
     "execution_count": 47,
     "metadata": {},
     "output_type": "execute_result"
    }
   ],
   "source": [
    "x, y, z = \"Orange\", \"Banana\", \"Cherry\"\n",
    "x, y, z"
   ]
  },
  {
   "cell_type": "markdown",
   "metadata": {},
   "source": [
    "## One Value to Multiple Variables"
   ]
  },
  {
   "cell_type": "code",
   "execution_count": 11,
   "metadata": {},
   "outputs": [
    {
     "name": "stdout",
     "output_type": "stream",
     "text": [
      "Orange Orange Orange\n"
     ]
    }
   ],
   "source": [
    "x = y = z = \"Orange\"        # all variables are \"Orange\"\n",
    "print(x, y, z)"
   ]
  },
  {
   "cell_type": "markdown",
   "metadata": {},
   "source": [
    "## unpacking a collection"
   ]
  },
  {
   "cell_type": "code",
   "execution_count": 12,
   "metadata": {},
   "outputs": [
    {
     "name": "stdout",
     "output_type": "stream",
     "text": [
      "apple banana cherry\n"
     ]
    }
   ],
   "source": [
    "fruits = [\"apple\", \"banana\", \"cherry\"]\n",
    "x, y, z = fruits\n",
    "print(x, y, z)    # apple, banana, cherry"
   ]
  },
  {
   "cell_type": "code",
   "execution_count": 17,
   "metadata": {},
   "outputs": [
    {
     "data": {
      "text/plain": [
       "[2, 3, 5]"
      ]
     },
     "execution_count": 17,
     "metadata": {},
     "output_type": "execute_result"
    }
   ],
   "source": [
    "# The asterisk operator (*) is used to unpack all the values of an iterable that have not been assigned yet.\n",
    "first, *unused, last = [1, 2, 3, 5, 7]\n",
    "unused"
   ]
  },
  {
   "cell_type": "code",
   "execution_count": 18,
   "metadata": {},
   "outputs": [
    {
     "data": {
      "text/plain": [
       "[2, 3, 5]"
      ]
     },
     "execution_count": 18,
     "metadata": {},
     "output_type": "execute_result"
    }
   ],
   "source": [
    "# The preferred way to discard values is to use an underscore variable (_), \n",
    "# which is sometimes used as a “dummy variable”.\n",
    "first, *_, last = [1, 2, 3, 5, 7]\n",
    "_"
   ]
  },
  {
   "cell_type": "code",
   "execution_count": 20,
   "metadata": {},
   "outputs": [
    {
     "data": {
      "text/plain": [
       "['P', 'y', 't', 'h', 'o', 'n', 'I', 's', 'T', 'h', 'e', 'B', 'e', 's', 't']"
      ]
     },
     "execution_count": 20,
     "metadata": {},
     "output_type": "execute_result"
    }
   ],
   "source": [
    "# If we want to unpack all the values of an iterable to a single variable, we must set up a tuple, \n",
    "# hence adding a simple comma will be enough\n",
    "*string, = 'PythonIsTheBest'\n",
    "string"
   ]
  },
  {
   "cell_type": "code",
   "execution_count": 21,
   "metadata": {},
   "outputs": [
    {
     "data": {
      "text/plain": [
       "[0, 1, 2, 3, 4]"
      ]
     },
     "execution_count": 21,
     "metadata": {},
     "output_type": "execute_result"
    }
   ],
   "source": [
    "*numbers, = range(5)\n",
    "numbers"
   ]
  },
  {
   "cell_type": "markdown",
   "metadata": {},
   "source": [
    "## unpack a dictionary"
   ]
  },
  {
   "cell_type": "code",
   "execution_count": 23,
   "metadata": {},
   "outputs": [
    {
     "data": {
      "text/plain": [
       "{'fish': 3, 'meat': 5, 'pasta': 9, 'red': 'intensity', 'yellow': 'happiness'}"
      ]
     },
     "execution_count": 23,
     "metadata": {},
     "output_type": "execute_result"
    }
   ],
   "source": [
    "food = {'fish':3, 'meat':5, 'pasta':9} \n",
    "colors = {'red': 'intensity', 'yellow':'happiness'}\n",
    "merged_dict = {**food, **colors}\n",
    "merged_dict"
   ]
  },
  {
   "cell_type": "markdown",
   "metadata": {},
   "source": [
    "## conversion"
   ]
  },
  {
   "cell_type": "code",
   "execution_count": 13,
   "metadata": {},
   "outputs": [
    {
     "name": "stdout",
     "output_type": "stream",
     "text": [
      "34\n"
     ]
    }
   ],
   "source": [
    "birth_date = input(\"whats your birth year: \")   # input is a string\n",
    "age2 = 2021 - int(birth_date)                   # 2021 is a integer, birth_date is a string\n",
    "print(age2)"
   ]
  },
  {
   "cell_type": "markdown",
   "metadata": {},
   "source": [
    "## converting variables"
   ]
  },
  {
   "cell_type": "code",
   "execution_count": 10,
   "metadata": {},
   "outputs": [
    {
     "name": "stdout",
     "output_type": "stream",
     "text": [
      "1,   23.0,    False\n",
      "<class 'str'>\n"
     ]
    }
   ],
   "source": [
    "print(f\"{int(1.3556)},   {float(23)},    {bool(0)}\")\n",
    "print(type(str(40)))"
   ]
  },
  {
   "cell_type": "markdown",
   "metadata": {},
   "source": [
    "## type conversion"
   ]
  },
  {
   "cell_type": "code",
   "execution_count": 2,
   "metadata": {},
   "outputs": [
    {
     "name": "stdout",
     "output_type": "stream",
     "text": [
      "first value:  30\n",
      "second value:  20\n"
     ]
    },
    {
     "name": "stdout",
     "output_type": "stream",
     "text": [
      "Sum: 50.0\n"
     ]
    }
   ],
   "source": [
    "first = float(input(\"first value: \"))\n",
    "second = float(input(\"second value: \"))\n",
    "sum = first + second                          # only float for decimals\n",
    "print(\"Sum: \" + str(sum))                     # concatenation only of same variable types"
   ]
  },
  {
   "cell_type": "markdown",
   "metadata": {},
   "source": [
    "# arithmetic operator"
   ]
  },
  {
   "cell_type": "code",
   "execution_count": 1,
   "metadata": {},
   "outputs": [
    {
     "name": "stdout",
     "output_type": "stream",
     "text": [
      "12\n",
      "3.3333333333333335\n",
      "3\n",
      "1\n",
      "1000\n"
     ]
    }
   ],
   "source": [
    "print(10+2)\n",
    "print(10/3)         # decimal division\n",
    "print(10//3)        # integer division\n",
    "print(10%3)         # modulos gives remainder of the integer divison\n",
    "print(10**3)        # exponent 10 to the power of three"
   ]
  },
  {
   "cell_type": "markdown",
   "metadata": {},
   "source": [
    "## augmented assignment operator"
   ]
  },
  {
   "cell_type": "code",
   "execution_count": 2,
   "metadata": {},
   "outputs": [
    {
     "name": "stdout",
     "output_type": "stream",
     "text": [
      "13\n",
      "16\n",
      "48\n"
     ]
    }
   ],
   "source": [
    "x = 10\n",
    "x = x+3\n",
    "print(x)\n",
    "x +=3               # is the same as the line before\n",
    "print(x)\n",
    "x *=3\n",
    "print(x)"
   ]
  },
  {
   "cell_type": "markdown",
   "metadata": {},
   "source": [
    "## operater precedence"
   ]
  },
  {
   "cell_type": "code",
   "execution_count": 3,
   "metadata": {},
   "outputs": [
    {
     "name": "stdout",
     "output_type": "stream",
     "text": [
      "16\n",
      "26\n"
     ]
    }
   ],
   "source": [
    "x = 10 + 3*2        # first multiplication then addition\n",
    "print(x)\n",
    "\n",
    "x = (10+3) *2       # 13 * 2\n",
    "print(x)"
   ]
  },
  {
   "cell_type": "markdown",
   "metadata": {},
   "source": [
    "## comparison operators"
   ]
  },
  {
   "cell_type": "code",
   "execution_count": 4,
   "metadata": {},
   "outputs": [
    {
     "name": "stdout",
     "output_type": "stream",
     "text": [
      "True\n",
      "False\n",
      "True\n"
     ]
    }
   ],
   "source": [
    "x = 3>2             # creates a boolean also <, <=, >=,\n",
    "print(x)\n",
    "\n",
    "y = 3==2            # equality operator, not to be confused with \"=\" assignment operator\n",
    "print(y)\n",
    "\n",
    "z = 4!=2            # unequal\n",
    "print(z)"
   ]
  },
  {
   "cell_type": "markdown",
   "metadata": {},
   "source": [
    "# logical operators"
   ]
  },
  {
   "cell_type": "markdown",
   "metadata": {},
   "source": [
    "## and, or, not,  and not"
   ]
  },
  {
   "cell_type": "code",
   "execution_count": null,
   "metadata": {},
   "outputs": [
    {
     "name": "stdout",
     "output_type": "stream",
     "text": [
      "True\n",
      "True\n",
      "True\n",
      "True\n",
      "False\n"
     ]
    }
   ],
   "source": [
    "price = 25\n",
    "print (price >10 and price < 30)    # both have to be hold\n",
    "print (price >10 or price < 20)       # one has to hold\n",
    "print(price <= 25 and not price >=50)\n",
    "print(price == 25)\n",
    "print (not price >10 )              # changes the boolean output\n"
   ]
  },
  {
   "cell_type": "markdown",
   "metadata": {},
   "source": [
    "## all()\n",
    "- returns True if all items in an iterable are true, otherwise it returns False.\n",
    "- If the iterable object is empty, the all() function also returns True."
   ]
  },
  {
   "cell_type": "code",
   "execution_count": null,
   "metadata": {},
   "outputs": [
    {
     "name": "stdout",
     "output_type": "stream",
     "text": [
      "False\n"
     ]
    }
   ],
   "source": [
    "x = all([True, False, True])\n",
    "x"
   ]
  },
  {
   "cell_type": "markdown",
   "metadata": {},
   "source": [
    "## any()\n",
    "- any() function returns True if any item in an iterable are true, otherwise it returns False.\n",
    "- If the iterable object is empty, the any() function will return False."
   ]
  },
  {
   "cell_type": "code",
   "execution_count": null,
   "metadata": {},
   "outputs": [
    {
     "data": {
      "text/plain": [
       "True"
      ]
     },
     "metadata": {},
     "output_type": "display_data"
    }
   ],
   "source": [
    "# 1 = True, 0 = False\n",
    "x = any([0, 1, False])\n",
    "x"
   ]
  },
  {
   "cell_type": "markdown",
   "metadata": {},
   "source": [
    "## nested if"
   ]
  },
  {
   "cell_type": "code",
   "execution_count": 2,
   "metadata": {},
   "outputs": [
    {
     "name": "stdout",
     "output_type": "stream",
     "text": [
      "x greater than 5\n",
      "x is not more than 10\n"
     ]
    }
   ],
   "source": [
    "x = 7\n",
    "if x > 5:\n",
    "    print('x greater than 5')\n",
    "    if x >10:\n",
    "        print('x greater than 10')\n",
    "    else: print('x is not more than 10')\n",
    "\n"
   ]
  },
  {
   "cell_type": "markdown",
   "metadata": {},
   "source": [
    "## Ternary Operators, or Conditional Expressions"
   ]
  },
  {
   "cell_type": "code",
   "execution_count": null,
   "metadata": {},
   "outputs": [
    {
     "name": "stdout",
     "output_type": "stream",
     "text": [
      "a is greater than b\n",
      "A\n",
      "C > B\n"
     ]
    }
   ],
   "source": [
    "# If you have only one statement to execute,\n",
    "# you can put it on the same line as the if statement.\n",
    "a = 50; b = 40; c=60\n",
    "if a > b: print(\"a is greater than b\")\n",
    "\n",
    "print(\"A\") if a > b else print(\"B\")\n",
    "\n",
    "# This technique is known as Ternary Operators, or Conditional Expressions.\n",
    "print(\"B > C\") if b > c else print(\"B=C\") if b == c else print(\"C > B\")\n",
    "\n",
    "# assign value depending on if...else\n",
    "str = 'a is 30' if a == 30 else \"a isn't 30\""
   ]
  },
  {
   "cell_type": "markdown",
   "metadata": {},
   "source": [
    "# collections, containers\n",
    "- lists: mutable sequence of values\n",
    "- tuple: fixed squence of values\n",
    "- set: sequence of distinct values\n",
    "- dictionary: mutable set of key-value pairs"
   ]
  },
  {
   "cell_type": "markdown",
   "metadata": {},
   "source": [
    "## lists\n",
    "- are not tuples()\n",
    "- List items are indexed, the first item has index [0],\n",
    "- to store multiple items in a single variable.\n",
    "- List items are ordered, changeable, and allow duplicate values."
   ]
  },
  {
   "cell_type": "code",
   "execution_count": null,
   "metadata": {},
   "outputs": [
    {
     "name": "stdout",
     "output_type": "stream",
     "text": [
      "6\n",
      "male\n",
      "<class 'list'>\n"
     ]
    }
   ],
   "source": [
    "list1 = [\"abc\", 34, True, 40, \"male\", \"male\"]\n",
    "print(len(list1))\n",
    "print(list1[5])         # pick by index\n",
    "print(type(list1))   # type"
   ]
  },
  {
   "cell_type": "code",
   "execution_count": 6,
   "metadata": {},
   "outputs": [
    {
     "name": "stdout",
     "output_type": "stream",
     "text": [
      "6\n"
     ]
    },
    {
     "data": {
      "text/plain": [
       "[[1, 2, 3], ['string', 0.1, True], []]"
      ]
     },
     "execution_count": 6,
     "metadata": {},
     "output_type": "execute_result"
    }
   ],
   "source": [
    "integer_list = [1, 2, 3]\n",
    "heterogeneous_list = [\"string\", 0.1, True]\n",
    "list_of_lists = [integer_list, heterogeneous_list, []]\n",
    "print(sum(integer_list))\n",
    "list_of_lists"
   ]
  },
  {
   "cell_type": "code",
   "execution_count": 7,
   "metadata": {},
   "outputs": [
    {
     "name": "stdout",
     "output_type": "stream",
     "text": [
      "[0, 3, 6, 9]\n",
      "[5, 4, 3]\n"
     ]
    }
   ],
   "source": [
    "x = [0, 1, 2, 3, 4, 5, 6, 7, 8, 9]\n",
    "# A slice can take a third argument to indicate its stride, which can be negative\n",
    "every_third = x[::3]\n",
    "five_to_three = x[5:2:-1]\n",
    "\n",
    "print(every_third)\n",
    "print(five_to_three)"
   ]
  },
  {
   "cell_type": "markdown",
   "metadata": {},
   "source": [
    "### list constructor"
   ]
  },
  {
   "cell_type": "code",
   "execution_count": 10,
   "metadata": {},
   "outputs": [
    {
     "name": "stdout",
     "output_type": "stream",
     "text": [
      "John\n",
      "John\n",
      "['Julia', 'John']\n",
      "['John', 'Marco', 'Marry']\n",
      "['Marry', 'Julia', 'John']\n",
      "['John', 'Marco', 'Marry', 'Julia']\n",
      "\n",
      "\n",
      "['John', 'Marco', 'Marry', 'Julia', 'John', 'Phillip', 'Victoria', 'Ulli', 'Agnes']\n",
      "\n",
      "\n",
      "['Hannah', 'Ria', 'Marco', 'Marry', 'Julia', 'John']\n",
      "['Hannah', 'Ria', 'Marco', 'Marry', 'Julia', 'John', 'Frederik', 'Youssuf']\n",
      "['Hannah', 'Ria', 'Marco', 'Marry', 'Julia', 'John', 'Frederik', 'Youssuf', 'Latifa']\n"
     ]
    }
   ],
   "source": [
    "thislist = list((\"apple\", \"banana\", \"cherry\"))        # note the double round-brackets\n",
    "names = [\"John\", \"Marco\", \"Marry\", \"Julia\", \"John\"]\n",
    "\n",
    "print(names[0])                     # prints first value - counting bigins at 0\n",
    "print(names[-1])                    # gives last item of list\n",
    "print(names[-2:])                   # the last two item\n",
    "print(names[0:3])                  # 1th to 4th value\n",
    "print(names[2:])                    # from 3 item to the last\n",
    "print(names[:4])                    # from first to 5th\n",
    "print(\"\\n\")\n",
    "\n",
    "more_names =[\"Phillip\", \"Victoria\"]\n",
    "print(names + more_names + [\"Ulli\", \"Agnes\"])   # list concatenation\n",
    "print(\"\\n\")\n",
    "\n",
    "names[0] = \"Jon\"                            # updates the list/ replace a value lists are mutable\n",
    "names[0:1] = ['Hannah', 'Ria']      # replace first two\n",
    "print(names)\n",
    "\n",
    "\n",
    "names.extend(['Frederik', 'Youssuf'])\n",
    "print(names)\n",
    "\n",
    "names.append('Latifa')\n",
    "print(names)"
   ]
  },
  {
   "cell_type": "markdown",
   "metadata": {},
   "source": [
    "### list comprehension\n",
    "- offers a shorter syntax when you want to create a new list based on the values of an existing list.\n",
    "- Syntax - newlist = [expression for item in iterable if condition == True]"
   ]
  },
  {
   "cell_type": "code",
   "execution_count": null,
   "metadata": {},
   "outputs": [
    {
     "name": "stdout",
     "output_type": "stream",
     "text": [
      "[\"HELLO IT'S SMALL LETTERS GOING BIG\"]\n"
     ]
    }
   ],
   "source": [
    "letters=[\"hello it's small letters going big\"]\n",
    "comp_upcase_list = [i.upper() for i in letters]     # same as above in one line\n",
    "print(comp_upcase_list)"
   ]
  },
  {
   "cell_type": "markdown",
   "metadata": {},
   "source": [
    "### list methods"
   ]
  },
  {
   "cell_type": "code",
   "execution_count": null,
   "id": "e9d1fd5a-7e4a-40d8-b88c-be2c0d93ea5e",
   "metadata": {},
   "outputs": [],
   "source": [
    "o = [\"murat\", \"gaston\"]\n",
    "m.append(o)             \n",
    "o.insert(1, \"ferdinand\")\n",
    "o.index(\"gaston\")         # gives index of the value \"gaston\" back\n",
    "o.insert(1, \"gaston\")\n",
    "o.count(\"gaston\")         # number of gastons in a list\n",
    "o.sort()\n",
    "o.reverse()\n",
    "o.pop()"
   ]
  },
  {
   "cell_type": "markdown",
   "metadata": {},
   "source": [
    "### append"
   ]
  },
  {
   "cell_type": "code",
   "execution_count": null,
   "metadata": {},
   "outputs": [
    {
     "data": {
      "text/plain": [
       "[1, 2, 3, 4, 5, 6]"
      ]
     },
     "metadata": {},
     "output_type": "display_data"
    }
   ],
   "source": [
    "numbers =[1,2,3,4,5]\n",
    "numbers.append(6)           # adds a element at the end\n",
    "numbers"
   ]
  },
  {
   "cell_type": "markdown",
   "metadata": {},
   "source": [
    "### insert"
   ]
  },
  {
   "cell_type": "code",
   "execution_count": null,
   "metadata": {},
   "outputs": [
    {
     "data": {
      "text/plain": [
       "[-1, 1, 2, 45, 3, 4, 5, 6]"
      ]
     },
     "metadata": {},
     "output_type": "display_data"
    }
   ],
   "source": [
    "\n",
    "numbers.insert(0, -1)       # insert(position, value) add an element at the beginning\n",
    "numbers.insert(3, 45)       # add 45 on 4th place\n",
    "numbers"
   ]
  },
  {
   "cell_type": "markdown",
   "metadata": {},
   "source": [
    "### remove, del, pop"
   ]
  },
  {
   "cell_type": "code",
   "execution_count": null,
   "metadata": {},
   "outputs": [
    {
     "data": {
      "text/plain": [
       "[0, 1, 2, 4]"
      ]
     },
     "metadata": {},
     "output_type": "display_data"
    }
   ],
   "source": [
    "\n",
    "numbers =[0, 1, 2, 3, 4, 5, 6]\n",
    "numbers.remove(3)           # removes the value 3, just the first intance of the value is deleted\n",
    "del numbers[4]                   # deletes value at position 0\n",
    "numbers.pop()                    # removes the last item in a list\n",
    "numbers"
   ]
  },
  {
   "cell_type": "markdown",
   "metadata": {},
   "source": [
    "### clear"
   ]
  },
  {
   "cell_type": "code",
   "execution_count": null,
   "metadata": {},
   "outputs": [
    {
     "data": {
      "text/plain": [
       "[]"
      ]
     },
     "metadata": {},
     "output_type": "display_data"
    }
   ],
   "source": [
    "numbers =[0, 1, 2, 3, 4, 5, 6]\n",
    "numbers.clear()               # clears the whole list\n",
    "numbers"
   ]
  },
  {
   "cell_type": "markdown",
   "metadata": {},
   "source": [
    "### in, len"
   ]
  },
  {
   "cell_type": "code",
   "execution_count": null,
   "metadata": {},
   "outputs": [
    {
     "name": "stdout",
     "output_type": "stream",
     "text": [
      "True\n",
      "5\n"
     ]
    }
   ],
   "source": [
    "numbers =[1,2,3,4,5]\n",
    "print(1 in numbers)         # is there a \"1\" in \"numbers\"?\n",
    "\n",
    "numbers = [1, 2, 3, 4, 5]\n",
    "print(len(numbers))"
   ]
  },
  {
   "cell_type": "markdown",
   "metadata": {},
   "source": [
    "### sort, sorted"
   ]
  },
  {
   "cell_type": "code",
   "execution_count": null,
   "metadata": {},
   "outputs": [
    {
     "name": "stdout",
     "output_type": "stream",
     "text": [
      "[1, 2, 3, 4, 9, 89]\n",
      "[2, 3, 89, 4, 9, 1]\n",
      "[1, 2, 3, 4, 9, 89]\n",
      "1\n"
     ]
    }
   ],
   "source": [
    "x = [2, 3, 89, 4, 9, 1]\n",
    "print(sorted(x))            # temporarily sorted\n",
    "print(x)\n",
    "\n",
    "x.sort()                          # sorts the original list permanently, from smallest to highest value\n",
    "print(x)\n",
    "\n",
    "print(numbers.count(5))  # counts the occurences\n"
   ]
  },
  {
   "cell_type": "markdown",
   "metadata": {},
   "source": [
    "### reversed"
   ]
  },
  {
   "cell_type": "code",
   "execution_count": null,
   "metadata": {},
   "outputs": [
    {
     "data": {
      "text/plain": [
       "[7, 6, 5, 4, 3, 2, 1]"
      ]
     },
     "metadata": {},
     "output_type": "display_data"
    }
   ],
   "source": [
    "x = [1, 2, 3, 4, 5, 6, 7]\n",
    "y = list(reversed(x))  # does not work???\n",
    "y"
   ]
  },
  {
   "cell_type": "markdown",
   "metadata": {},
   "source": [
    "### .index()"
   ]
  },
  {
   "cell_type": "code",
   "execution_count": null,
   "metadata": {},
   "outputs": [],
   "source": [
    "\n",
    "numbers = [1, 2, 4, 5, 8, 5, 10]\n",
    "print(numbers.index(10))          # give back index of the value"
   ]
  },
  {
   "cell_type": "markdown",
   "metadata": {},
   "source": [
    "### copy()"
   ]
  },
  {
   "cell_type": "code",
   "execution_count": null,
   "metadata": {},
   "outputs": [],
   "source": [
    "numbers2 = numbers.copy()         # make a copy not a reference"
   ]
  },
  {
   "cell_type": "markdown",
   "metadata": {},
   "source": [
    "### nested lists"
   ]
  },
  {
   "cell_type": "code",
   "execution_count": null,
   "metadata": {},
   "outputs": [
    {
     "name": "stdout",
     "output_type": "stream",
     "text": [
      "[['a', 'b', 'c'], [1, 2, 3]]\n"
     ]
    }
   ],
   "source": [
    "a = ['a', 'b', 'c']\n",
    "n = [1, 2, 3]\n",
    "x = [a, n]\n",
    "print(x)\n"
   ]
  },
  {
   "cell_type": "markdown",
   "metadata": {},
   "source": [
    "### list of pairs"
   ]
  },
  {
   "cell_type": "code",
   "execution_count": null,
   "metadata": {},
   "outputs": [
    {
     "data": {
      "text/plain": [
       "[(0, 1), (0, 2), (1, 2), (1, 3), (2, 3), (3, 4)]"
      ]
     },
     "metadata": {},
     "output_type": "display_data"
    }
   ],
   "source": [
    "friendship_pairs = [(0, 1), (0, 2), (1, 2), (1, 3), (2, 3), (3, 4), (4, 5), (5, 6), (5, 7), (6, 8), (7, 8), (8, 9)]\n",
    "friendship_pairs[0:6]"
   ]
  },
  {
   "cell_type": "markdown",
   "metadata": {},
   "source": [
    "### iterate over a list  - range"
   ]
  },
  {
   "cell_type": "code",
   "execution_count": null,
   "metadata": {},
   "outputs": [
    {
     "name": "stdout",
     "output_type": "stream",
     "text": [
      "Index 0 in supplies is: pens\n",
      "Index 1 in supplies is: staplers\n",
      "Index 2 in supplies is: flamethrowers\n",
      "Index 3 in supplies is: binders\n"
     ]
    }
   ],
   "source": [
    "supplies = ['pens', 'staplers', 'flamethrowers', 'binders']\n",
    "for i in range(len(supplies)):\n",
    "    print('Index ' + str(i) + ' in supplies is: ' + supplies[i])"
   ]
  },
  {
   "cell_type": "markdown",
   "metadata": {},
   "source": [
    "### enumarate()\n",
    "enumerate() will return two values: the index and the item in the list."
   ]
  },
  {
   "cell_type": "code",
   "execution_count": null,
   "metadata": {},
   "outputs": [
    {
     "name": "stdout",
     "output_type": "stream",
     "text": [
      "0 pens\n",
      "1 staplers\n",
      "2 flamethrowers\n",
      "3 binders\n"
     ]
    }
   ],
   "source": [
    "\n",
    "supplies = ['pens', 'staplers', 'flamethrowers', 'binders']\n",
    "for index, item in enumerate(supplies):\n",
    "    print(index, item)\n"
   ]
  },
  {
   "cell_type": "markdown",
   "id": "57e2c5c6-45cf-4405-b6fa-8f602facb400",
   "metadata": {},
   "source": [
    "### flattening "
   ]
  },
  {
   "cell_type": "code",
   "execution_count": null,
   "id": "a3ada331-7f9e-47d6-a4a9-3a026523bf9c",
   "metadata": {
    "tags": []
   },
   "outputs": [
    {
     "data": {
      "text/plain": [
       "[0, 1, 2, 3, 4, 5, 6, 7, 8]"
      ]
     },
     "metadata": {},
     "output_type": "display_data"
    }
   ],
   "source": [
    "from pandas.core.common import flatten\n",
    "l = [0, 1, 2, [3, 4, 5, [6, 7, 8]]]\n",
    "m = list(flatten(l))\n",
    "m"
   ]
  },
  {
   "cell_type": "markdown",
   "metadata": {},
   "source": [
    "### random choice -->"
   ]
  },
  {
   "cell_type": "code",
   "execution_count": null,
   "metadata": {},
   "outputs": [
    {
     "name": "stdout",
     "output_type": "stream",
     "text": [
      "cat\n",
      "['cat', 'horse', 'parrot', 'dog', 'bunny']\n"
     ]
    }
   ],
   "source": [
    "import random\n",
    "pet = [\"dog\", \"cat\", \"parrot\", \"bunny\", \"horse\"]\n",
    "print(random.choice(pet))\n",
    "random.shuffle(pet)\n",
    "print(pet)\n"
   ]
  },
  {
   "cell_type": "code",
   "execution_count": null,
   "metadata": {},
   "outputs": [
    {
     "name": "stdout",
     "output_type": "stream",
     "text": [
      "15\n",
      "Gerd\n"
     ]
    }
   ],
   "source": [
    "import random                 \n",
    "print(random.randint(10, 30))    # cooses numer between 10 and 30\n",
    "liste = [\"Gerd\", \"Harald\", \"Husalka\", \"Anna\", \"Julia\"]\n",
    "print(random.choice(liste))  # chooese one of the names in the list"
   ]
  },
  {
   "cell_type": "code",
   "execution_count": null,
   "metadata": {},
   "outputs": [
    {
     "name": "stdout",
     "output_type": "stream",
     "text": [
      "(6, 3)\n"
     ]
    }
   ],
   "source": [
    "import random\n",
    "class Dice:\n",
    "    def roll():\n",
    "        x = random.randint(1, 6)      # random no. between 1 and 6\n",
    "        y = random.randint(1, 6)\n",
    "        return x,y\n",
    "dice1 = Dice\n",
    "print(dice1.roll())\n"
   ]
  },
  {
   "cell_type": "markdown",
   "metadata": {},
   "source": [
    "### line continuation"
   ]
  },
  {
   "cell_type": "code",
   "execution_count": null,
   "metadata": {},
   "outputs": [
    {
     "name": "stdout",
     "output_type": "stream",
     "text": [
      "hello there\n"
     ]
    }
   ],
   "source": [
    "print(\"hello \" +\n",
    "                \"there\")"
   ]
  },
  {
   "cell_type": "markdown",
   "metadata": {},
   "source": [
    "### matrix -- 2D lists"
   ]
  },
  {
   "cell_type": "code",
   "execution_count": null,
   "metadata": {},
   "outputs": [
    {
     "data": {
      "text/plain": [
       "[[1, 20, 3], [4, 5, 6], [7, 8, 9], [[1, 2], [3, 4], [6, 5]]]"
      ]
     },
     "metadata": {},
     "output_type": "display_data"
    }
   ],
   "source": [
    "matrix = [\n",
    "    [1, 2, 3],\n",
    "    [4, 5, 6],\n",
    "    [7, 8, 9],\n",
    "    [[1,2], [3,4], [6,5]]]\n",
    "\n",
    "matrix[0][1] = 20              # change value to 20 [row][item]\n",
    "matrix\n"
   ]
  },
  {
   "cell_type": "code",
   "execution_count": null,
   "metadata": {},
   "outputs": [
    {
     "name": "stdout",
     "output_type": "stream",
     "text": [
      "20\n"
     ]
    },
    {
     "data": {
      "text/plain": [
       "[[1, 20, 3],\n",
       " [4, 5, 6],\n",
       " [7, 8, 9],\n",
       " [{'age': '22', 'life_expect': '65'}, [22, 65], (90, 100)]]"
      ]
     },
     "metadata": {},
     "output_type": "display_data"
    }
   ],
   "source": [
    "print(matrix[0][1])                 # access the matrix[first row][second item]\n",
    "matrix[3][1] = [22, 65]          # change the values in the nested matrix - list\n",
    "matrix[3][2] = 90, 100           # change the values in the nested matrix - tupel\n",
    "matrix[3][0] = {\"age\": \"22\",\"life_expect\": \"65\"}  # puts a dictionary in the list\n",
    "matrix\n"
   ]
  },
  {
   "cell_type": "code",
   "execution_count": null,
   "metadata": {},
   "outputs": [
    {
     "name": "stdout",
     "output_type": "stream",
     "text": [
      "22\n"
     ]
    }
   ],
   "source": [
    "print(matrix[3][0].get(\"age\"))  # gets the value of the key age out of the nested dict"
   ]
  },
  {
   "cell_type": "code",
   "execution_count": null,
   "metadata": {},
   "outputs": [
    {
     "name": "stdout",
     "output_type": "stream",
     "text": [
      "1\n",
      "20\n",
      "3\n",
      "4\n",
      "5\n",
      "6\n",
      "7\n",
      "8\n",
      "9\n",
      "{'age': '22', 'life_expect': '65'}\n",
      "[22, 65]\n",
      "(90, 100)\n"
     ]
    }
   ],
   "source": [
    "for row in matrix:\n",
    "    for item in row:\n",
    "        print(item)"
   ]
  },
  {
   "cell_type": "markdown",
   "metadata": {},
   "source": [
    "### delete duplicates"
   ]
  },
  {
   "cell_type": "code",
   "execution_count": null,
   "metadata": {},
   "outputs": [
    {
     "data": {
      "text/plain": [
       "[1, 2, 4, 5, 8, 6, 7]"
      ]
     },
     "metadata": {},
     "output_type": "display_data"
    }
   ],
   "source": [
    "numbers = [1, 2, 4, 5, 8, 5, 6, 7, 7]\n",
    "for number in numbers:\n",
    "    if number not in uniques:\n",
    "        uniques.append(number)\n",
    "        \n",
    "uniques\n"
   ]
  },
  {
   "cell_type": "markdown",
   "metadata": {},
   "source": [
    "\n",
    "## tuple \n",
    "- is ordered and UNCHANGABLE allow duplicate values \n",
    "- use them when you need an ordered sequence of values that never changes.\n",
    "- because they are immutable, using tuples is slightly faster than code using lists.\n",
    "- Tuples are a convenient way to return multiple values from functions\n"
   ]
  },
  {
   "cell_type": "code",
   "execution_count": null,
   "metadata": {},
   "outputs": [
    {
     "name": "stdout",
     "output_type": "stream",
     "text": [
      "4\n"
     ]
    }
   ],
   "source": [
    "numbers = (1, 2, 4)         # tuples are unchangeable\n",
    "#numbers[1] = 8              # TypeError b/c unchangable\n",
    "print(numbers[2])"
   ]
  },
  {
   "cell_type": "code",
   "execution_count": null,
   "metadata": {},
   "outputs": [
    {
     "name": "stdout",
     "output_type": "stream",
     "text": [
      "2\n"
     ]
    },
    {
     "data": {
      "text/plain": [
       "(1, 2, 3, 3)"
      ]
     },
     "metadata": {},
     "output_type": "display_data"
    }
   ],
   "source": [
    "numbers = (1,2,3,3)\n",
    "print(numbers.count(3))     # count() the occurances of the value 3\n",
    "numbers"
   ]
  },
  {
   "cell_type": "code",
   "execution_count": null,
   "metadata": {},
   "outputs": [
    {
     "data": {
      "text/plain": [
       "tuple"
      ]
     },
     "metadata": {},
     "output_type": "display_data"
    }
   ],
   "source": [
    "tuple1 = (\"abc\", 34, True, 40, \"male\")\n",
    "tuple2 = (\"apple\",)                                     # tuple with one item - mind the comma\n",
    "no_tuple = (\"apple\")                                 # this is NOT a tuple its a string\n",
    "type(tuple2)                                  "
   ]
  },
  {
   "cell_type": "code",
   "execution_count": 17,
   "metadata": {},
   "outputs": [
    {
     "name": "stdout",
     "output_type": "stream",
     "text": [
      "(5, 6)\n",
      "5 6\n"
     ]
    }
   ],
   "source": [
    "def sum_and_product(x, y):\n",
    "    return (x + y), (x * y)\n",
    "\n",
    "sp = sum_and_product(2, 3) # get a tuple return\n",
    "s, p = sum_and_product(2, 3) # get single values from returned tuple\n",
    "print(sp)\n",
    "print(s, p)"
   ]
  },
  {
   "cell_type": "code",
   "execution_count": null,
   "metadata": {},
   "outputs": [],
   "source": [
    "\n",
    "# h = \"hello\"\n",
    "# print(f\"{h}         id: {id(h)}\")\n",
    "# h += \" world\"                   # this creates a new string in the computer memory\n",
    "# print(f\"{h}   id: {id(h)}\")     # the place in the memory is totally different from the variable h\n",
    "\n"
   ]
  },
  {
   "cell_type": "markdown",
   "metadata": {},
   "source": [
    "## set \n",
    "- collection  of distinct elements\n",
    "- a collection which is both unordered and unindexed\n",
    "- set items are unordered, unchangeable, and do not allow duplicate values.\n",
    "- If we have a large collection of items that we want to use\n",
    "for a membership test, a set is more appropriate than a list\n",
    "- The second reason to use sets is to find the distinct items in a collection"
   ]
  },
  {
   "cell_type": "code",
   "execution_count": 39,
   "metadata": {},
   "outputs": [
    {
     "data": {
      "text/plain": [
       "True"
      ]
     },
     "execution_count": 39,
     "metadata": {},
     "output_type": "execute_result"
    }
   ],
   "source": [
    "set1 = {\"abc\", 34, True, 40, \"male\"}\n",
    "thisset = set((\"apple\", \"banana\", \"cherry\"))    # set constructor\n",
    "\n",
    "print('apple' in thisset)"
   ]
  },
  {
   "cell_type": "code",
   "execution_count": 41,
   "metadata": {},
   "outputs": [
    {
     "name": "stdout",
     "output_type": "stream",
     "text": [
      "6\n",
      "3\n"
     ]
    },
    {
     "data": {
      "text/plain": [
       "[1, 2, 3]"
      ]
     },
     "execution_count": 41,
     "metadata": {},
     "output_type": "execute_result"
    }
   ],
   "source": [
    "item_list = [1, 2, 3, 1, 2, 3]\n",
    "print(len(item_list))\n",
    "\n",
    "item_set = set(item_list)\n",
    "print(len(item_set)) # distinct items\n",
    "\n",
    "list(item_set) # filtered only distinct items"
   ]
  },
  {
   "cell_type": "markdown",
   "metadata": {},
   "source": [
    "## dictionary \n",
    "- changeable, ordered, indexed and does not allow duplicates\n",
    "- As of Python 3.7, dictionaries are ordered.\n",
    "- dictionaries - values can be anything, but no key-duplicates are allowed"
   ]
  },
  {
   "cell_type": "code",
   "execution_count": 20,
   "metadata": {},
   "outputs": [
    {
     "data": {
      "text/plain": [
       "{'name': 'John Smith', 'age': 30, 'is_verified': True}"
      ]
     },
     "execution_count": 20,
     "metadata": {},
     "output_type": "execute_result"
    }
   ],
   "source": [
    "customer ={\n",
    "    \"name\": \"John Smith\",      # key - value pair\n",
    "    \"age\": 30,                             # each key must be unique\n",
    "    \"is_verified\": True              # key can have any value\n",
    "}\n",
    "customer"
   ]
  },
  {
   "cell_type": "markdown",
   "metadata": {},
   "source": [
    "### dict constructor\n"
   ]
  },
  {
   "cell_type": "code",
   "execution_count": 18,
   "metadata": {},
   "outputs": [
    {
     "name": "stdout",
     "output_type": "stream",
     "text": [
      "{'name': 'John', 'age': 36, 'country': 'Norway'}\n",
      "{'name': 'John', 'age': 36, 'country': 'Norway'}\n"
     ]
    }
   ],
   "source": [
    "x = dict(name = \"John\", age = 36, country = \"Norway\")    # less Pythonic\n",
    "y = {'name': \"John\", 'age': 36, 'country': \"Norway\"}           #  Pythonic\n",
    "print(x)\n",
    "print(y)"
   ]
  },
  {
   "cell_type": "code",
   "execution_count": 21,
   "metadata": {},
   "outputs": [
    {
     "name": "stdout",
     "output_type": "stream",
     "text": [
      "Jack Smith\n",
      "someday\n",
      "{'name': 'John Smith', 'age': 30, 'is_verified': True, 'status': 'active'}\n"
     ]
    }
   ],
   "source": [
    "customer[\"name\"] = \"Jack Smith\"                           # change value\n",
    "print(customer[\"name\"])                                          # gives the value of the key \"name\" = John Smith\n",
    "print(customer.get(\"birthdate\", \"someday\"))       # get does not produce an error if no birthdate is in the dict\n",
    "customer[\"status\"] = \"active\"                                   # adds new key-value pair\n",
    "customer.update({\"name\": \"John Smith\" })\n",
    "print(customer)"
   ]
  },
  {
   "cell_type": "code",
   "execution_count": 22,
   "metadata": {},
   "outputs": [
    {
     "data": {
      "text/plain": [
       "True"
      ]
     },
     "execution_count": 22,
     "metadata": {},
     "output_type": "execute_result"
    }
   ],
   "source": [
    "\"name\" in customer\n",
    "\"name\" in customer.keys()                "
   ]
  },
  {
   "cell_type": "code",
   "execution_count": null,
   "metadata": {},
   "outputs": [
    {
     "data": {
      "text/plain": [
       "'Jack Smith'"
      ]
     },
     "metadata": {},
     "output_type": "display_data"
    }
   ],
   "source": [
    "customer.get(\"name\", \"nobody\")            # get the value of \"name\" key or a fallback value if theres is no such key"
   ]
  },
  {
   "cell_type": "markdown",
   "metadata": {},
   "source": [
    "### setdefault"
   ]
  },
  {
   "cell_type": "code",
   "execution_count": null,
   "metadata": {},
   "outputs": [
    {
     "data": {
      "text/plain": [
       "{'name': 'Jack Smith',\n",
       " 'age': 30,\n",
       " 'is_verified': True,\n",
       " 'status': 'active',\n",
       " 'gender': 'male',\n",
       " 'color': 'white'}"
      ]
     },
     "metadata": {},
     "output_type": "display_data"
    }
   ],
   "source": [
    "customer.setdefault(\"color\", \"white\")     # asks for the value of \"color\" if there is no such key its sets the key-valuse pair\n",
    "customer"
   ]
  },
  {
   "cell_type": "code",
   "execution_count": null,
   "metadata": {},
   "outputs": [
    {
     "data": {
      "text/plain": [
       "{'name': 'Jack Smith',\n",
       " 'age': 30,\n",
       " 'is_verified': True,\n",
       " 'status': 'active',\n",
       " 'gender': 'male',\n",
       " 'color': 'white'}"
      ]
     },
     "metadata": {},
     "output_type": "display_data"
    }
   ],
   "source": [
    "if \"gender\" not in customer:              # is there a certain key\n",
    "  customer[\"gender\"] = \"male\"             # if not, set one\n",
    "  \n",
    "customer"
   ]
  },
  {
   "cell_type": "markdown",
   "metadata": {},
   "source": [
    "### dictionary function\n"
   ]
  },
  {
   "cell_type": "code",
   "execution_count": null,
   "metadata": {},
   "outputs": [
    {
     "name": "stdout",
     "output_type": "stream",
     "text": [
      "dict_keys(['name', 'age', 'is_verified', 'status', 'gender', 'color'])\n",
      "dict_values(['Jack Smith', 30, True, 'active', 'male', 'white'])\n",
      "dict_items([('name', 'Jack Smith'), ('age', 30), ('is_verified', True), ('status', 'active'), ('gender', 'male'), ('color', 'white')])\n"
     ]
    }
   ],
   "source": [
    "print(customer.keys())            # returns keys of the dict\n",
    "print(customer.values())         # returns values\n",
    "print(customer.items())          # returns both"
   ]
  },
  {
   "cell_type": "code",
   "execution_count": null,
   "metadata": {},
   "outputs": [
    {
     "data": {
      "text/plain": [
       "{'brand': 'Ford', 'year': 2021, 'color': 'red'}"
      ]
     },
     "metadata": {},
     "output_type": "display_data"
    }
   ],
   "source": [
    "car =\t{\"brand\": \"Ford\",\n",
    "\"model\": \"Mustang\",\n",
    "\"year\": 1964}\n",
    "\n",
    "car.update({\"year\": 2021})    # update/override value\n",
    "car.pop(\"model\")                    # remove key\n",
    "car[\"color\"] =\"red\"\n",
    "car\n"
   ]
  },
  {
   "cell_type": "markdown",
   "metadata": {},
   "source": [
    "#### popitem()"
   ]
  },
  {
   "cell_type": "code",
   "execution_count": null,
   "metadata": {},
   "outputs": [
    {
     "data": {
      "text/plain": [
       "dict_items([('brand', 'Ford'), ('year', 2021)])"
      ]
     },
     "metadata": {},
     "output_type": "display_data"
    }
   ],
   "source": [
    "car.popitem()                  # removes the last inserted item\n",
    "car.items()\n"
   ]
  },
  {
   "cell_type": "markdown",
   "metadata": {},
   "source": [
    "### del item"
   ]
  },
  {
   "cell_type": "code",
   "execution_count": null,
   "metadata": {},
   "outputs": [
    {
     "name": "stdout",
     "output_type": "stream",
     "text": [
      "dict_items([('year', 2021)])\n"
     ]
    }
   ],
   "source": [
    "del car[\"brand\"]           # deletes specified key\n",
    "print(car.items())"
   ]
  },
  {
   "cell_type": "markdown",
   "metadata": {},
   "source": [
    "### clear"
   ]
  },
  {
   "cell_type": "code",
   "execution_count": null,
   "metadata": {},
   "outputs": [
    {
     "name": "stdout",
     "output_type": "stream",
     "text": [
      "dict_items([])\n"
     ]
    }
   ],
   "source": [
    "car.clear()                # empties the dictionary\n",
    "print(car.items())\n"
   ]
  },
  {
   "cell_type": "markdown",
   "metadata": {},
   "source": [
    "### del dict"
   ]
  },
  {
   "cell_type": "code",
   "execution_count": null,
   "metadata": {},
   "outputs": [
    {
     "ename": "NameError",
     "evalue": "name 'car' is not defined",
     "output_type": "error",
     "traceback": [
      "\u001b[0;31m---------------------------------------------------------------------------\u001b[0m\n",
      "\u001b[0;31mNameError\u001b[0m                                 Traceback (most recent call last)\n",
      "\u001b[0;32m/tmp/ipykernel_4447/1819571622.py\u001b[0m in \u001b[0;36m<module>\u001b[0;34m\u001b[0m\n",
      "\u001b[1;32m      1\u001b[0m \u001b[0;32mdel\u001b[0m \u001b[0mcar\u001b[0m                    \u001b[0;31m# deletes the dictionary\u001b[0m\u001b[0;34m\u001b[0m\u001b[0;34m\u001b[0m\u001b[0m\n",
      "\u001b[0;32m----> 2\u001b[0;31m \u001b[0mprint\u001b[0m\u001b[0;34m(\u001b[0m\u001b[0mcar\u001b[0m\u001b[0;34m.\u001b[0m\u001b[0mitems\u001b[0m\u001b[0;34m(\u001b[0m\u001b[0;34m)\u001b[0m\u001b[0;34m)\u001b[0m\u001b[0;34m\u001b[0m\u001b[0;34m\u001b[0m\u001b[0m\n",
      "\u001b[0m\n",
      "\u001b[0;31mNameError\u001b[0m: name 'car' is not defined"
     ]
    }
   ],
   "source": [
    "del car                    # deletes the dictionary\n",
    "print(car.items())"
   ]
  },
  {
   "cell_type": "markdown",
   "metadata": {},
   "source": [
    "### zip\n",
    "Iterate over several iterables in parallel, producing tuples with an item from each one."
   ]
  },
  {
   "cell_type": "code",
   "execution_count": null,
   "metadata": {},
   "outputs": [
    {
     "data": {
      "text/plain": [
       "{'BMW': 2175, 'IBM': 1127, 'SHELL': 2750}"
      ]
     },
     "metadata": {},
     "output_type": "display_data"
    }
   ],
   "source": [
    "stocks = ['BMW', 'IBM', \"SHELL\"]\n",
    "prices = [2175, 1127, 2750]\n",
    "dictionary = dict(zip(stocks, prices))\n",
    "dictionary"
   ]
  },
  {
   "cell_type": "code",
   "execution_count": 8,
   "metadata": {},
   "outputs": [
    {
     "name": "stdout",
     "output_type": "stream",
     "text": [
      "(1, 'sugar')\n",
      "(2, 'spice')\n",
      "(3, 'everything nice')\n"
     ]
    }
   ],
   "source": [
    "items =  zip([1, 2, 3], ['sugar', 'spice', 'everything nice'])\n",
    "for item in items:\n",
    "    print(item)"
   ]
  },
  {
   "cell_type": "markdown",
   "metadata": {},
   "source": [
    "### unzip"
   ]
  },
  {
   "cell_type": "code",
   "execution_count": 12,
   "metadata": {},
   "outputs": [
    {
     "data": {
      "text/plain": [
       "('a', 'b', 'c')"
      ]
     },
     "execution_count": 12,
     "metadata": {},
     "output_type": "execute_result"
    }
   ],
   "source": [
    "pairs = [('a', 1), ('b', 2), ('c', 3)]\n",
    "letters, numbers = zip(*pairs)\n",
    "letters"
   ]
  },
  {
   "cell_type": "markdown",
   "metadata": {},
   "source": [
    "### dict comprehension"
   ]
  },
  {
   "cell_type": "code",
   "execution_count": null,
   "metadata": {},
   "outputs": [
    {
     "data": {
      "text/plain": [
       "{'BMW': 3175, 'IBM': 2127, 'SHELL': 3750}"
      ]
     },
     "metadata": {},
     "output_type": "display_data"
    }
   ],
   "source": [
    "new_dict = {stocks: prices + 1000 for stocks, prices in dictionary.items()}\n",
    "new_dict"
   ]
  },
  {
   "cell_type": "code",
   "execution_count": null,
   "metadata": {},
   "outputs": [
    {
     "name": "stdout",
     "output_type": "stream",
     "text": [
      "{'Peter': 24, 'Mary': 25, 'George': 22, 'Emma': 20}\n"
     ]
    }
   ],
   "source": [
    "students = ['Peter', 'Mary', 'George', 'Emma']\n",
    "student_ages = [24, 25, 22, 20]\n",
    "student_ages_dict = {key: value for key, value in zip(students, student_ages)}\n",
    "print(student_ages_dict)"
   ]
  },
  {
   "cell_type": "code",
   "execution_count": null,
   "id": "d07ffffa-d678-4b62-b268-d64f7af991f7",
   "metadata": {
    "collapsed": true,
    "jupyter": {
     "outputs_hidden": true
    }
   },
   "outputs": [
    {
     "data": {
      "text/plain": [
       "{'a': 20, 'b': 40, 'c': 60, 'd': 80, 'e': 100}"
      ]
     },
     "metadata": {},
     "output_type": "display_data"
    }
   ],
   "source": [
    "dict1 = {'a': 1, 'b': 2, 'c': 3, 'd': 4, 'e': 5}\n",
    "# multiply each value in the dictionary\n",
    "double_dict1 = {k:v*20 for (k,v) in dict1.items()}\n",
    "double_dict1"
   ]
  },
  {
   "cell_type": "markdown",
   "metadata": {},
   "source": [
    "### access the items of a dict"
   ]
  },
  {
   "cell_type": "code",
   "execution_count": null,
   "metadata": {},
   "outputs": [
    {
     "name": "stdout",
     "output_type": "stream",
     "text": [
      "Ford\n",
      "2020\n"
     ]
    }
   ],
   "source": [
    "thisdict =\t{\"brand\": \"Ford\",\n",
    "\"model\": \"Mustang\",\n",
    "\"year\": 1964,\n",
    "\"year\": 2020}    # duplicates override other values\n",
    "\n",
    "print(thisdict[\"brand\"])\n",
    "print(thisdict.get(\"year\"))  # get() is a method\n"
   ]
  },
  {
   "cell_type": "code",
   "execution_count": null,
   "metadata": {},
   "outputs": [
    {
     "name": "stdout",
     "output_type": "stream",
     "text": [
      "One Two Three Four \n"
     ]
    }
   ],
   "source": [
    "phone = input(\"Phonenumber: \")\n",
    "digits_mapping = {\n",
    "    \"1\": \"One\",             # Zuordnung der 1 zur One\n",
    "    \"2\": \"Two\",\n",
    "    \"3\": \"Three\",\n",
    "    \"4\": \"Four\",\n",
    "    \"5\": \"Five\"\n",
    "}\n",
    "output = \"\"                            # empty string that gets filled\n",
    "for ch in phone:                       # takes every value after another from phone, gives it to the get-fct\n",
    "    output += digits_mapping.get(ch, \"missing\") + \" \"   # gives back \"missing\" when there is no entry in the dictionary\n",
    "print(output)"
   ]
  },
  {
   "cell_type": "code",
   "execution_count": null,
   "metadata": {},
   "outputs": [
    {
     "name": "stdout",
     "output_type": "stream",
     "text": [
      "😊 \n"
     ]
    }
   ],
   "source": [
    "text = input(\"smiley or grumpy> \")\n",
    "words = text.split(\" \")             # divides at space\n",
    "emojis = {                                  # dictionary: name = {}\n",
    "    \":)\": \"😊\",\n",
    "    \":(\": \"😒\"\n",
    "}\n",
    "output = \"\"\n",
    "for word in words:\n",
    "    output += emojis.get(word, word) + \" \"    # looks in emojis (dict) for the word if there's no entry it gives back the word itself\n",
    "print(output)"
   ]
  },
  {
   "cell_type": "markdown",
   "metadata": {},
   "source": [
    "### index() method to fetch Dictionary key using value."
   ]
  },
  {
   "cell_type": "code",
   "execution_count": null,
   "metadata": {},
   "outputs": [
    {
     "name": "stdout",
     "output_type": "stream",
     "text": [
      "python\n",
      "python\n"
     ]
    }
   ],
   "source": [
    "\n",
    "my_dict ={\"java\":100, \"python\":112, \"c\":11}\n",
    "\n",
    "# list out keys and values separately\n",
    "key_list = list(my_dict.keys())\n",
    "val_list = list(my_dict.values())\n",
    "\n",
    "# print key with val 112\n",
    "position = val_list.index(112)   # get index of the value\n",
    "print(key_list[position])            # look at keys at the index\n",
    "\n",
    "# one-liner\n",
    "print(list(my_dict.keys())[list(my_dict.values()).index(112)])"
   ]
  },
  {
   "cell_type": "markdown",
   "metadata": {},
   "source": [
    "### print all key names in the dictionary,"
   ]
  },
  {
   "cell_type": "code",
   "execution_count": null,
   "metadata": {},
   "outputs": [
    {
     "name": "stdout",
     "output_type": "stream",
     "text": [
      "brand\n",
      "model\n",
      "year\n",
      "brand\n",
      "model\n",
      "year\n"
     ]
    }
   ],
   "source": [
    "car = {\n",
    "\"brand\": \"Ford\",\n",
    "\"model\": \"Mustang\",\n",
    "\"year\": 1964\n",
    "}\n",
    "\n",
    "for x in car:\n",
    "  print(x)\n",
    "\n",
    "# same\n",
    "for x in car.keys():\n",
    "    print(x)\n"
   ]
  },
  {
   "cell_type": "markdown",
   "metadata": {},
   "source": [
    "### print all values in the dictionary"
   ]
  },
  {
   "cell_type": "code",
   "execution_count": null,
   "metadata": {},
   "outputs": [
    {
     "name": "stdout",
     "output_type": "stream",
     "text": [
      "Ford\n",
      "Mustang\n",
      "1964\n",
      "Ford\n",
      "Mustang\n",
      "1964\n"
     ]
    }
   ],
   "source": [
    "for x in car:\n",
    "    print(car[x])\n",
    "\n",
    "# same\n",
    "for x in car.values():\n",
    "  print(x)"
   ]
  },
  {
   "cell_type": "markdown",
   "metadata": {},
   "source": [
    "### coping a dictionary"
   ]
  },
  {
   "cell_type": "code",
   "execution_count": null,
   "metadata": {},
   "outputs": [
    {
     "name": "stdout",
     "output_type": "stream",
     "text": [
      "dict_items([('brand', 'Mercedes'), ('model', 'Mustang'), ('year', 1964)]) \n",
      "\n",
      "dict_items([('brand', 'Audi'), ('model', 'Mustang'), ('year', 1964)]) \n",
      "\n",
      "dict_items([('brand', 'Mercedes'), ('model', 'Mustang'), ('year', 1964)])\n",
      "dict_items([('brand', 'Audi'), ('model', 'Mustang'), ('year', 1964)]) \n",
      "\n",
      "dict_items([('brand', 'Mercedes'), ('model', 'Mustang'), ('year', 1964)])\n"
     ]
    }
   ],
   "source": [
    "car2 = car                                      # car2 is just a reference to car,\n",
    "print(car2.items(), \"\\n\")\n",
    "\n",
    "car[\"brand\"] = \"Audi\"                  # changes in car happen to also to car2\n",
    "print(car2.items(), \"\\n\")\n",
    "\n",
    "car3 = car.copy()                            # make a proper copy of car\n",
    "car[\"brand\"] = \"Mercedes\"         # change to car does not apply to car3\n",
    "print(car.items())\n",
    "print(car3.items(), \"\\n\")\n",
    "\n",
    "car4 = dict(car)                             # another method to make a copy\n",
    "print(car4.items())"
   ]
  },
  {
   "cell_type": "markdown",
   "id": "0f2369eb-56bf-4f10-8f7f-011849afdee7",
   "metadata": {
    "tags": []
   },
   "source": [
    "### copy a dict -->"
   ]
  },
  {
   "cell_type": "code",
   "execution_count": null,
   "id": "d0650a3c-093f-4234-b8d5-ead2e822e853",
   "metadata": {
    "collapsed": true,
    "jupyter": {
     "outputs_hidden": true
    }
   },
   "outputs": [
    {
     "data": {
      "text/plain": [
       "{'Jessa': 90, 'Arul': 80, 'Emma': 66, 'Kelly': 68, 'Harry': 50}"
      ]
     },
     "metadata": {},
     "output_type": "display_data"
    }
   ],
   "source": [
    "dict6 = dict1\n",
    "# changes to dict6 happen in dict1 - they are connected\n",
    "dict6.update({\"Jessa\": 90})\n",
    "dict1"
   ]
  },
  {
   "cell_type": "code",
   "execution_count": null,
   "id": "4148f06b-4aab-4d7c-9bd0-210b856343e4",
   "metadata": {
    "collapsed": true,
    "jupyter": {
     "outputs_hidden": true
    }
   },
   "outputs": [
    {
     "data": {
      "text/plain": [
       "{'Jessa': 70, 'Arul': 80, 'Emma': 66, 'Kelly': 68, 'Harry': 50}"
      ]
     },
     "metadata": {},
     "output_type": "display_data"
    }
   ],
   "source": [
    "dict3 = dict1.copy()\n",
    "dict3"
   ]
  },
  {
   "cell_type": "code",
   "execution_count": null,
   "id": "c91e82b7-31cd-4830-8e05-9d29de040119",
   "metadata": {
    "collapsed": true,
    "jupyter": {
     "outputs_hidden": true
    }
   },
   "outputs": [
    {
     "data": {
      "text/plain": [
       "{'Jessa': 70, 'Arul': 80, 'Emma': 66, 'Kelly': 68, 'Harry': 50}"
      ]
     },
     "metadata": {},
     "output_type": "display_data"
    }
   ],
   "source": [
    "# Copy dictionary using dict() constructor\n",
    "dict4 = dict(dict1)\n",
    "dict4"
   ]
  },
  {
   "cell_type": "code",
   "execution_count": null,
   "id": "17926e45-05b8-4b2b-b5e3-075a5ae74be9",
   "metadata": {
    "collapsed": true,
    "jupyter": {
     "outputs_hidden": true
    }
   },
   "outputs": [
    {
     "data": {
      "text/plain": [
       "{'Jessa': 70, 'Arul': 80, 'Emma': 66, 'Kelly': 68, 'Harry': 50}"
      ]
     },
     "metadata": {},
     "output_type": "display_data"
    }
   ],
   "source": [
    "# Copy dictionary using the output of items() methods\n",
    "dict5 = dict(dict1.items())\n",
    "dict5"
   ]
  },
  {
   "cell_type": "markdown",
   "id": "620d4867-e691-4f76-a355-260e82835d3b",
   "metadata": {},
   "source": [
    "### join two dicts"
   ]
  },
  {
   "cell_type": "code",
   "execution_count": null,
   "id": "cee77127-37ee-4068-9ecc-4a2d6105b98f",
   "metadata": {
    "collapsed": true,
    "jupyter": {
     "outputs_hidden": true
    }
   },
   "outputs": [
    {
     "data": {
      "text/plain": [
       "{'Jessa': 70, 'Arul': 80, 'Emma': 66, 'Kelly': 68, 'Harry': 50}"
      ]
     },
     "metadata": {},
     "output_type": "display_data"
    }
   ],
   "source": [
    "dict1 = {'Jessa': 70, 'Arul': 80, 'Emma': 55}\n",
    "dict2 = {'Kelly': 68, 'Harry': 50, 'Emma': 66}\n",
    "\n",
    "# join two dictionaries with some common items\n",
    "dict1.update(dict2)\n",
    "\n",
    "# In the case of the same key in two dictionaries \n",
    "# the latest one will override the old one. -> Emma: 66\n",
    "dict1"
   ]
  },
  {
   "cell_type": "markdown",
   "metadata": {},
   "source": [
    "### nested dictionary - dict in a dict"
   ]
  },
  {
   "cell_type": "code",
   "execution_count": null,
   "metadata": {},
   "outputs": [
    {
     "name": "stdout",
     "output_type": "stream",
     "text": [
      "{'name': 'Emil', 'year': 2004}\n",
      "Emil\n",
      "{'name': 'Luna', 'year': '2004', 'health': 'psycho'}\n",
      "{'name': 'Luna', 'year': '2004'}\n"
     ]
    }
   ],
   "source": [
    "myfamily = {\n",
    "  \"child1\" : {\"name\" : \"Emil\", \"year\" : 2004},\n",
    "  \"child2\" : {\"name\" : \"Tobias\", \"year\" : 2007},\n",
    "  \"child3\" : {\"name\" : \"Linus\", \"year\" : 2011}    }\n",
    "print(myfamily[\"child1\"])   # key is child1 and in \" \" b/c its a str\n",
    "print(myfamily[\"child1\"][\"name\"])  # get value of nested dict\n",
    "\n",
    "myfamily[\"child4\"] = {\"name\": \"Luna\"}     # add a item/key-value pair\n",
    "myfamily[\"child4\"][\"year\"] = \"2004\"         # add value afterwards\n",
    "myfamily[\"child4\"][\"health\"] = \"psycho\"  # add an extra key\n",
    "\n",
    "print(myfamily[\"child4\"])\n",
    "del myfamily[\"child4\"][\"health\"]\n",
    "print(myfamily[\"child4\"])\n"
   ]
  },
  {
   "cell_type": "markdown",
   "id": "8a9787c7-b32f-4751-bc90-cd6aec393e19",
   "metadata": {},
   "source": [
    "### dictionay of dictionaries"
   ]
  },
  {
   "cell_type": "code",
   "execution_count": null,
   "id": "d5725bc3-7156-402e-94aa-1df20684d5a9",
   "metadata": {
    "collapsed": true,
    "jupyter": {
     "outputs_hidden": true
    },
    "tags": []
   },
   "outputs": [
    {
     "name": "stdout",
     "output_type": "stream",
     "text": [
      "\n",
      "Class details\n",
      "\n",
      "student1\n",
      "name : Jessa\n",
      "state : Texas\n",
      "city : Houston\n",
      "marks : 75\n",
      "\n",
      "\n",
      "student2\n",
      "name : Emma\n",
      "state : Texas\n",
      "city : Dallas\n",
      "marks : 60\n",
      "\n",
      "\n",
      "student3\n",
      "name : Kelly\n",
      "state : Texas\n",
      "city : Austin\n",
      "marks : 85\n",
      "\n",
      "\n"
     ]
    }
   ],
   "source": [
    "# Iterating outer dictionary\n",
    "print(\"\\nClass details\\n\")\n",
    "for key, value in class_six.items():\n",
    "    # Iterating through nested dictionary\n",
    "    # Display each student data\n",
    "    print(key)\n",
    "    for nested_key, nested_value in value.items():\n",
    "        print(nested_key,':', nested_value)\n",
    "    print('\\n')"
   ]
  },
  {
   "cell_type": "code",
   "execution_count": null,
   "id": "98a90070-93e0-4c1f-80b2-afc4ef26cc47",
   "metadata": {},
   "outputs": [
    {
     "data": {
      "text/plain": [
       "3"
      ]
     },
     "metadata": {},
     "output_type": "display_data"
    }
   ],
   "source": [
    "dict = {1:'aaa',2:'bbb',3:'AAA'}\n",
    "max(dict)"
   ]
  },
  {
   "cell_type": "code",
   "execution_count": null,
   "id": "ae9cdc82-e092-4bec-ac23-c38af465a3c7",
   "metadata": {},
   "outputs": [
    {
     "data": {
      "text/plain": [
       "1"
      ]
     },
     "metadata": {},
     "output_type": "display_data"
    }
   ],
   "source": [
    "min(dict)"
   ]
  },
  {
   "cell_type": "code",
   "execution_count": null,
   "id": "6cae57c0-dd0f-45c5-ac41-1557c1dcc2e6",
   "metadata": {},
   "outputs": [
    {
     "data": {
      "text/plain": [
       "False"
      ]
     },
     "metadata": {},
     "output_type": "display_data"
    }
   ],
   "source": [
    "# any() function will return true if dictionary keys contain anyone false \n",
    "# which could be 0 or false. \n",
    "# it returns false for empty dictionary and all false dictionary.\n",
    "dict1 = {1:'True',1:'False'}\n",
    "dict2 = {0:'True',1:'False'}\n",
    "dict3= {}\n",
    "dict4 = {'0':False}\n",
    "dict5 = {0:False}\n",
    "\n",
    "any(dict5)"
   ]
  },
  {
   "cell_type": "markdown",
   "id": "dd7bed50-3883-4681-987f-35024020b1c6",
   "metadata": {},
   "source": [
    "### dictionaries summary"
   ]
  },
  {
   "cell_type": "code",
   "execution_count": null,
   "id": "2654e4a7-cfc4-400a-a69f-3eacd22aa4b0",
   "metadata": {},
   "outputs": [],
   "source": [
    "dict({'a': 10, 'b': 20})\t# Create a dictionary using a dict() constructor.\n",
    "d2 = {}\t                    #  Create an empty dictionary.\n",
    "d1.get('a')\t                # Retrieve value using the key name a.\n",
    "d1.keys()\t                # Returns a list of keys present in the dictionary.\n",
    "d1.values()\t                # Returns a list with all the values in the dictionary.\n",
    "d1.items()\t                # Returns a list of all the items in the dictionary with each key-value pair inside a tuple.\n",
    "len(d1)\t                    # Returns number of items in a dictionary.\n",
    "d1['d'] = 40\t            # Update dictionary by adding a new key.\n",
    "d1.update({'e': 50, 'f': 60})\t# Add multiple keys to the dictionary.\n",
    "d1.setdefault('g', 70)\t    # Set the default value if a key doesn’t exist.\n",
    "d1['b'] = 100\t            # Modify the values of the existing key.\n",
    "d1.pop('b')\t                # Remove the key b from the dictionary.\n",
    "d1.popitem()\t            # Remove any random item from a dictionary.\n",
    "d1.clear()\t                # Removes all items from the dictionary.\n",
    "'key' in d1.keys()\t        # Check if a key exists in a dictionary.\n",
    "d1.update(d2)\t            # Add all items of dictionary d2 into d1.\n",
    "d3= {**d1, **d2}\t        # Join two dictionaries.\n",
    "d2 = d1.copy()\t            # Copy dictionary d1 into d2.\n",
    "max(d1)\t                    # Returns the key with the maximum value in the dictionary d1\n",
    "min(d1)\t                    # Returns the key with the minimum value in the dictionary d1"
   ]
  },
  {
   "cell_type": "markdown",
   "id": "9997c9b2",
   "metadata": {},
   "source": [
    "# advanced collections\n",
    "- found in  collections module\n",
    "- The collections module provides alternatives to built-in container data types\n",
    "- namedtuple: tuple with named fields\n",
    "- OrderedDict, defaultdict: dictionaries with special properties\n",
    "- Counter: counts distinct values\n",
    "- deque: double-ended list\n",
    "\n",
    "## collections\n",
    "- __namedtuple()__ - factory function for creating tuple subclasses with named fields\n",
    "- __deque__ - list-like container with fast appends and pops on either end\n",
    "- __ChainMap__ - dict-like class for creating a single view of multiple mappings\n",
    "- __Counter__ - dict subclass for counting hashable objects\n",
    "- __OrderedDict__ - dict subclass that remembers the order entries were added\n",
    "- __defaultdict__ - dict subclass that calls a factory function to supply missing values\n",
    "- __UserDict__ - wrapper around dictionary objects for easier dict subclassing\n",
    "- __UserList__ - wrapper around list objects for easier list subclassing\n",
    "- __UserString__ - wrapper around string objects for easier string subclassing"
   ]
  },
  {
   "cell_type": "markdown",
   "id": "b2669f9e",
   "metadata": {},
   "source": [
    "__namedtuple()__\n",
    "\n",
    "The namedtuple() function returns a tuple-like object with named fields. </br>\n",
    "These field attributes are accessible by lookup as well as by index. </br>\n",
    "Named tuples allow you to create tuples and assign meaningful names to the positions of the tuple’s elements.</br>\n",
    "Technically, a named tuple is a subclass of tuple. On top of that, it adds property names to the positional elements.</br>"
   ]
  },
  {
   "cell_type": "code",
   "execution_count": null,
   "id": "2b73633c",
   "metadata": {},
   "outputs": [
    {
     "name": "stdout",
     "output_type": "stream",
     "text": [
      "Imran\n",
      "98\n"
     ]
    }
   ],
   "source": [
    "from collections import namedtuple\n",
    "student = namedtuple('student', [\"name\", \"age\", \"marks\"])  # declares a student class having name, age and marks as fields\n",
    "s1 = student(\"Imran\", 21, 98)  #create a new object of this namedtuple\n",
    "print(s1.name)  # fields are accessible by attribute lookup\n",
    "print(s1[2]) # or index"
   ]
  },
  {
   "cell_type": "code",
   "execution_count": null,
   "id": "e12c453e",
   "metadata": {},
   "outputs": [
    {
     "name": "stdout",
     "output_type": "stream",
     "text": [
      "Point(x=10, y=20)\n",
      "30\n",
      "20\n",
      "Point(x=15, y=20)\n"
     ]
    }
   ],
   "source": [
    "Point = namedtuple('Point', 'x y') # alternative naming \n",
    "p1 = Point(10, 20)\n",
    "p2 = Point(30, 40)\n",
    "\n",
    "print(p1)\n",
    "print(p2.x) # instead of p2[1]\n",
    "print(p1.y)\n",
    "\n",
    "p1 = p1._replace(x=15)  # change value using it's name\n",
    "print(p1)"
   ]
  },
  {
   "cell_type": "markdown",
   "id": "a272f086",
   "metadata": {},
   "source": [
    "## OrderedDict()\n",
    "- The OrderedDict() function is similar to a normal dictionary object in Python. \n",
    "- However, it remembers the order of the keys in which they were first inserted. \n",
    "- Upon traversing the dictionary, pairs will appear in the order of their insertion. \n",
    "- pop item from the top is possible"
   ]
  },
  {
   "cell_type": "code",
   "execution_count": null,
   "id": "d84fc566",
   "metadata": {},
   "outputs": [
    {
     "name": "stdout",
     "output_type": "stream",
     "text": [
      "A 65\n",
      "C 67\n",
      "B 66\n",
      "D 68\n"
     ]
    }
   ],
   "source": [
    "from collections import OrderedDict \n",
    "d1 = OrderedDict()\n",
    "d1['A'] = 65\n",
    "d1['C'] = 67\n",
    "d1['B'] = 66\n",
    "d1['D'] = 68\n",
    "\n",
    "for k,v in d1.items():\n",
    "    print (k,v)"
   ]
  },
  {
   "cell_type": "code",
   "execution_count": null,
   "id": "63b9bf0a",
   "metadata": {},
   "outputs": [
    {
     "name": "stdout",
     "output_type": "stream",
     "text": [
      "('A', 65)\n",
      "('D', 68)\n",
      "OrderedDict([('C', 67), ('B', 66)])\n"
     ]
    }
   ],
   "source": [
    "first = d1.popitem(False) # removes first item in the dict\n",
    "last = d1.popitem() # removes the last\n",
    "print(first)\n",
    "print(last)\n",
    "print(d1)"
   ]
  },
  {
   "cell_type": "code",
   "execution_count": null,
   "id": "81b109f9",
   "metadata": {},
   "outputs": [
    {
     "name": "stdout",
     "output_type": "stream",
     "text": [
      "False\n",
      "True\n"
     ]
    }
   ],
   "source": [
    "a = OrderedDict({'a': 1, 'b': 2, 'c': 3})\n",
    "b = OrderedDict({'a': 1, 'c': 3, 'b': 2})\n",
    "c = {'a': 1, 'c': 3, 'b': 2}\n",
    "\n",
    "print(a==b) # order matters for OrderdDict\n",
    "print(a==c) # for ordinary dict order does not matter"
   ]
  },
  {
   "cell_type": "markdown",
   "id": "cf585491",
   "metadata": {},
   "source": [
    "## __defaultdict__\n",
    "- A defaultdict is like a regular dictionary, except that when you try\n",
    "to look up a key it doesn’t contain, it first adds a value for it using a zero-argument function you provided when you created it.\n",
    "- "
   ]
  },
  {
   "cell_type": "code",
   "execution_count": 27,
   "metadata": {},
   "outputs": [
    {
     "data": {
      "text/plain": [
       "defaultdict(int,\n",
       "            {'A': 1,\n",
       "             ' ': 7,\n",
       "             'd': 3,\n",
       "             'e': 3,\n",
       "             'f': 1,\n",
       "             'a': 4,\n",
       "             'u': 2,\n",
       "             'l': 3,\n",
       "             't': 3,\n",
       "             'i': 5,\n",
       "             'c': 2,\n",
       "             's': 1,\n",
       "             'k': 1,\n",
       "             'r': 3,\n",
       "             'g': 1,\n",
       "             'o': 1,\n",
       "             'n': 1,\n",
       "             'y': 1,\n",
       "             '.': 3})"
      ]
     },
     "execution_count": 27,
     "metadata": {},
     "output_type": "execute_result"
    }
   ],
   "source": [
    "from collections import defaultdict\n",
    "\n",
    "document = '''A defaultdict is like a regular dictionary... '''\n",
    "\n",
    "letter_counts = defaultdict(int)\n",
    "# int() produces 0\n",
    "\n",
    "for letter in document:\n",
    "    letter_counts[letter] += 1\n",
    "\n",
    "letter_counts"
   ]
  },
  {
   "cell_type": "code",
   "execution_count": 28,
   "metadata": {},
   "outputs": [
    {
     "data": {
      "text/plain": [
       "defaultdict(list, {2: [1]})"
      ]
     },
     "execution_count": 28,
     "metadata": {},
     "output_type": "execute_result"
    }
   ],
   "source": [
    "# list() produces an empty list\n",
    "dd_list = defaultdict(list)\n",
    "dd_list[2].append(1)\n",
    "dd_list"
   ]
  },
  {
   "cell_type": "code",
   "execution_count": 29,
   "metadata": {},
   "outputs": [
    {
     "data": {
      "text/plain": [
       "defaultdict(dict, {'Joel': {'City': 'Seattle'}})"
      ]
     },
     "execution_count": 29,
     "metadata": {},
     "output_type": "execute_result"
    }
   ],
   "source": [
    "dd_dict = defaultdict(dict) # dict() produces an empty dict\n",
    "dd_dict[\"Joel\"][\"City\"] = \"Seattle\"\n",
    "dd_dict"
   ]
  },
  {
   "cell_type": "code",
   "execution_count": 30,
   "metadata": {},
   "outputs": [
    {
     "data": {
      "text/plain": [
       "defaultdict(<function __main__.<lambda>()>, {2: [0, 1]})"
      ]
     },
     "execution_count": 30,
     "metadata": {},
     "output_type": "execute_result"
    }
   ],
   "source": [
    "dd_pair = defaultdict(lambda: [0, 0])\n",
    "dd_pair[2][1] = 1 \n",
    "dd_pair"
   ]
  },
  {
   "cell_type": "code",
   "execution_count": null,
   "id": "0a16a0ee",
   "metadata": {},
   "outputs": [
    {
     "data": {
      "text/plain": [
       "{'apple': 2, 'pear': 1, 'banana': 2, 'peach': 1, 'cherry': 1}"
      ]
     },
     "metadata": {},
     "output_type": "display_data"
    }
   ],
   "source": [
    "fruits = ['apple', 'pear', 'banana', 'apple', 'peach', 'cherry', 'banana']\n",
    "fruitCounter={} # dict that should count the fruits\n",
    "\n",
    "for fruit in fruits:\n",
    "    if fruit in fruitCounter.keys():   # error if there is no fruit initilized in the dict\n",
    "        fruitCounter[fruit] += 1\n",
    "    else:\n",
    "        fruitCounter[fruit] = 1  # thus we need to check and insert a key (fruit) first \n",
    "\n",
    "fruitCounter"
   ]
  },
  {
   "cell_type": "code",
   "execution_count": null,
   "id": "04bdb6ea",
   "metadata": {},
   "outputs": [
    {
     "name": "stdout",
     "output_type": "stream",
     "text": [
      "apple : 102\n",
      "pear : 101\n",
      "banana : 102\n",
      "peach : 101\n",
      "cherry : 101\n"
     ]
    }
   ],
   "source": [
    "# above code can be shortened and the\n",
    "# initilizing switched with a defaultdict\n",
    "from collections import defaultdict\n",
    "# int is the factory fct. and produces a default key if there is none\n",
    "fruitCounter = defaultdict(lambda: 100)\n",
    "\n",
    "for fruit in fruits:\n",
    "# now no chceking for key is required bc. defaultdict sets a default key\n",
    "        fruitCounter[fruit] += 1\n",
    "\n",
    "for k, v in fruitCounter.items():\n",
    "    print(k,':', v)"
   ]
  },
  {
   "cell_type": "markdown",
   "id": "e5d5ec47",
   "metadata": {},
   "source": [
    "## Counter\n",
    "- dict that counts hashable objects"
   ]
  },
  {
   "cell_type": "code",
   "execution_count": 36,
   "id": "90957d17",
   "metadata": {},
   "outputs": [],
   "source": [
    "from collections import Counter\n",
    "class1 = ['Bob', 'Jenny', 'Hannes', 'Greg', 'Boris', 'Lara', 'Hannah', 'Suse', 'Kara', 'Bob', 'Lara']\n",
    "class2=['Lara', 'Steffen', 'Simon', 'Becky', 'Lila', 'Gunna', 'Lena', 'Rose', 'Greg', 'Jenny']\n",
    "\n",
    "c1= Counter(class1)\n",
    "c2= Counter(class2)"
   ]
  },
  {
   "cell_type": "code",
   "execution_count": 38,
   "metadata": {},
   "outputs": [
    {
     "name": "stdout",
     "output_type": "stream",
     "text": [
      "Bob 2\n",
      "Lara 2\n",
      "Jenny 1\n"
     ]
    }
   ],
   "source": [
    "for name, count in c1.most_common(3): # three most common names\n",
    "    print(name, count)"
   ]
  },
  {
   "cell_type": "code",
   "execution_count": null,
   "id": "84a68411",
   "metadata": {},
   "outputs": [
    {
     "name": "stdout",
     "output_type": "stream",
     "text": [
      "2\n",
      "10  students in class 1\n"
     ]
    }
   ],
   "source": [
    "print(c1['Bob']) # how many Bob's are in c1?\n",
    "print(sum(c1.values()), ' students in class 1')"
   ]
  },
  {
   "cell_type": "code",
   "execution_count": null,
   "id": "83804184",
   "metadata": {},
   "outputs": [
    {
     "name": "stdout",
     "output_type": "stream",
     "text": [
      "20  students in class 1\n"
     ]
    }
   ],
   "source": [
    "c1.update(class2) # combine two sets\n",
    "print(sum(c1.values()), ' students in class 1')"
   ]
  },
  {
   "cell_type": "code",
   "execution_count": null,
   "id": "de8bdf93",
   "metadata": {},
   "outputs": [
    {
     "name": "stdout",
     "output_type": "stream",
     "text": [
      "[('Bob', 2), ('Jenny', 2), ('Greg', 2)]\n"
     ]
    }
   ],
   "source": [
    "print(c1.most_common(3))"
   ]
  },
  {
   "cell_type": "code",
   "execution_count": null,
   "id": "120d8ebc",
   "metadata": {},
   "outputs": [
    {
     "name": "stdout",
     "output_type": "stream",
     "text": [
      "[('Bob', 2), ('Hannes', 1), ('Boris', 1)]\n"
     ]
    }
   ],
   "source": [
    "c1.subtract(class2) # separate the sets again\n",
    "print(c1.most_common(3))"
   ]
  },
  {
   "cell_type": "code",
   "execution_count": null,
   "id": "ff12fbe5",
   "metadata": {},
   "outputs": [
    {
     "name": "stdout",
     "output_type": "stream",
     "text": [
      "Counter({'Jenny': 1, 'Greg': 1, 'Lara': 1})\n"
     ]
    }
   ],
   "source": [
    "print(c1 & c2) # common objects in both"
   ]
  },
  {
   "cell_type": "markdown",
   "id": "d7fc4e78",
   "metadata": {},
   "source": [
    "## deque\n",
    "- double-ended queue, pronounced 'deck'\n",
    "- accessible from both sides\n",
    "- appendleft(), append(), popleft(), pop(), rotate(): \n",
    "- A deque object support appends and pops from either ends of a list. </br>\n",
    "- It is more memory efficient than a normal list object. </br>\n",
    "- In a normal list object, the removal of any item causes all items to the right<br>\n",
    " to be shifted towards left by one index. </br>\n",
    "- Deque is preferred over a list in the cases where we need quicker append and <br>\n",
    "pop operations from both the ends of the container, as deque provides an O(1) time<br>\n",
    " complexity for append and pop operations as compared to list which provides O(n) time complexity."
   ]
  },
  {
   "cell_type": "code",
   "execution_count": 2,
   "id": "31ec8994",
   "metadata": {},
   "outputs": [
    {
     "data": {
      "text/plain": [
       "deque([10, 20, 30, 40])"
      ]
     },
     "execution_count": 2,
     "metadata": {},
     "output_type": "execute_result"
    }
   ],
   "source": [
    "from collections import deque\n",
    "\n",
    "q=deque([10,20,30,40])\n",
    "q.appendleft(0); q\n",
    "q.append(50); q\n",
    "q.pop(); q # drops last appended (right) item\n",
    "q.popleft(); q "
   ]
  },
  {
   "cell_type": "code",
   "execution_count": null,
   "id": "9bc28f4e",
   "metadata": {},
   "outputs": [
    {
     "data": {
      "text/plain": [
       "'abcdefghijklmnopqrstuvwxyz'"
      ]
     },
     "metadata": {},
     "output_type": "display_data"
    }
   ],
   "source": [
    "string.ascii_lowercase"
   ]
  },
  {
   "cell_type": "code",
   "execution_count": 22,
   "id": "8221985f",
   "metadata": {},
   "outputs": [
    {
     "name": "stdout",
     "output_type": "stream",
     "text": [
      "deque(['a', 'b', 'c', 'd', 'e', 'f', 'g', 'h', 'i', 'j', 'k', 'l', 'm', 'n', 'o', 'p', 'q', 'r', 's', 't', 'u', 'v', 'w', 'x', 'y', 'z'])\n",
      "Item count:  26\n",
      "A,B,C,D,E,F,G,H,I,J,K,L,M,N,O,P,Q,R,S,T,U,V,W,X,Y,Z,"
     ]
    }
   ],
   "source": [
    "from collections import deque\n",
    "import string\n",
    "d = deque(string.ascii_lowercase) # initilized with lowercase letters\n",
    "\n",
    "print(d)\n",
    "\n",
    "# lenght of string.ascii_lowercas\n",
    "print(\"Item count: \", str(len(d)))\n",
    "\n",
    "# convert lower to uppercase letters\n",
    "for elem in d:\n",
    "    print(elem.upper(), end=',')"
   ]
  },
  {
   "cell_type": "code",
   "execution_count": 15,
   "id": "707d1c5f",
   "metadata": {},
   "outputs": [
    {
     "name": "stdout",
     "output_type": "stream",
     "text": [
      "deque(['G', 'F', 'D', 1, 'b', 'c', 'd', 'e', 'f', 'g', 'h', 'i', 'j', 'k', 'l', 'm', 'n', 'o', 'p', 'q', 'r', 's', 't', 'u', 'v', 'w', 'x', 'y', 30, 4, 5, 6])\n"
     ]
    }
   ],
   "source": [
    "d.pop()\n",
    "d.popleft()\n",
    "d.appendleft(1)\n",
    "d.append(30)\n",
    "d.extend([4, 5, 6])\n",
    "d.extendleft(['D', 'F', 'G'])\n",
    "print(d)"
   ]
  },
  {
   "cell_type": "code",
   "execution_count": 23,
   "id": "6ded95ac",
   "metadata": {},
   "outputs": [
    {
     "name": "stdout",
     "output_type": "stream",
     "text": [
      "deque(['a', 'b', 'c', 'd', 'e', 'f', 'g', 'h', 'i', 'j', 'k', 'l', 'm', 'n', 'o', 'p', 'q', 'r', 's', 't', 'u', 'v', 'w', 'x', 'y', 'z'])\n",
      "deque(['g', 'h', 'i', 'j', 'k', 'l', 'm', 'n', 'o', 'p', 'q', 'r', 's', 't', 'u', 'v', 'w', 'x', 'y', 'z', 'a', 'b', 'c', 'd', 'e', 'f'])\n"
     ]
    }
   ],
   "source": [
    "print(d)\n",
    "# rotates the sequence, \n",
    "# -n takes first n elements to the end (right)\n",
    "# +n takes the last n elements to the front (left)\n",
    "d.rotate(20)\n",
    "print(d)"
   ]
  },
  {
   "cell_type": "markdown",
   "id": "eba4b137",
   "metadata": {},
   "source": [
    "# Comprehensions"
   ]
  },
  {
   "cell_type": "markdown",
   "id": "1351c36f",
   "metadata": {},
   "source": [
    "## list comprehension"
   ]
  },
  {
   "cell_type": "code",
   "execution_count": null,
   "id": "0f56ad57",
   "metadata": {},
   "outputs": [
    {
     "data": {
      "text/plain": [
       "[89.6, 149.0, 219.2, 413.6]"
      ]
     },
     "metadata": {},
     "output_type": "display_data"
    }
   ],
   "source": [
    "# a list of converted elements can be produced like this or...\n",
    "def FahrenheitToCelsius(t):\n",
    "    return (t * 9 / 5) + 32\n",
    "\n",
    "list(map(FahrenheitToCelsius, [32, 65, 104, 212]))"
   ]
  },
  {
   "cell_type": "code",
   "execution_count": null,
   "id": "e935027e",
   "metadata": {},
   "outputs": [
    {
     "data": {
      "text/plain": [
       "[89.6, 149.0, 219.2, 413.6]"
      ]
     },
     "metadata": {},
     "output_type": "display_data"
    }
   ],
   "source": [
    "# ... much shorter with list comprehension\n",
    "[(t * 9 / 5) + 32 for t in [32, 65, 104, 212]]"
   ]
  },
  {
   "cell_type": "code",
   "execution_count": null,
   "id": "38d22f19",
   "metadata": {},
   "outputs": [
    {
     "data": {
      "text/plain": [
       "[4, 16, 36, 64, 100, 144, 196, 256, 324, 400]"
      ]
     },
     "metadata": {},
     "output_type": "display_data"
    }
   ],
   "source": [
    "evens = [2, 4, 6, 8, 10, 12, 14, 16, 18, 20]\n",
    "list(map(lambda e: e**2, evens)) \n",
    "[e**2 for e in evens] # the same but shorter"
   ]
  },
  {
   "cell_type": "markdown",
   "id": "39100425",
   "metadata": {},
   "source": [
    "## comprehension with predicate expression / condition"
   ]
  },
  {
   "cell_type": "code",
   "execution_count": null,
   "id": "b2dd9679",
   "metadata": {},
   "outputs": [
    {
     "data": {
      "text/plain": [
       "[25, 49, 81, 121, 169, 225]"
      ]
     },
     "metadata": {},
     "output_type": "display_data"
    }
   ],
   "source": [
    "odds = [1, 3, 5, 7, 9, 11, 13, 15, 17, 19]\n",
    "[e**2 for e in odds if e>3 and e <17] "
   ]
  },
  {
   "cell_type": "markdown",
   "id": "8f4630e1",
   "metadata": {},
   "source": [
    "## dictionary comprehension"
   ]
  },
  {
   "cell_type": "code",
   "execution_count": null,
   "id": "388f763d",
   "metadata": {},
   "outputs": [
    {
     "name": "stdout",
     "output_type": "stream",
     "text": [
      "{0: 32.0, 12: 53.6, 34: 93.2}\n",
      "53.6\n"
     ]
    }
   ],
   "source": [
    "ctemps =[0, 12, 34, 100]\n",
    "tempDict={t: (t*9/5) +32 for t in ctemps if t<100}\n",
    "print(tempDict)\n",
    "print(tempDict[12])"
   ]
  },
  {
   "cell_type": "code",
   "execution_count": null,
   "id": "ee0935da",
   "metadata": {},
   "outputs": [
    {
     "data": {
      "text/plain": [
       "{'Jones': 24,\n",
       " 'Jameson': 18,\n",
       " 'Smith': 58,\n",
       " 'Burns': 7,\n",
       " 'White': 12,\n",
       " 'Macke': 88,\n",
       " 'Pierce': 4}"
      ]
     },
     "metadata": {},
     "output_type": "display_data"
    }
   ],
   "source": [
    "team1 = {\"Jones\": 24, \"Jameson\": 18, \"Smith\": 58, \"Burns\": 7}\n",
    "team2={\"White\": 12, \"Macke\": 88, \"Pierce\": 4}\n",
    "\n",
    "# do not get more complex in a comprehension\n",
    "newTeam={k: v for team in (team1, team2) for k, v in team.items()}\n",
    "newTeam"
   ]
  },
  {
   "cell_type": "markdown",
   "id": "2a44d73b",
   "metadata": {},
   "source": [
    "## set comprehension"
   ]
  },
  {
   "cell_type": "code",
   "execution_count": null,
   "id": "f4ca0f75",
   "metadata": {},
   "outputs": [
    {
     "name": "stdout",
     "output_type": "stream",
     "text": [
      "[0.0, 18.0, 21.6, 25.2, 18.0, 41.4, 21.6, 61.2, 61.2, 180.0, 180.0]\n",
      "{0.0, 41.4, 18.0, 180.0, 21.6, 25.2, 61.2}\n"
     ]
    }
   ],
   "source": [
    "ctemps = [0, 10, 12, 14, 10, 23, 12, 34, 34, 100, 100]\n",
    "ftemps1 = [(t*9/5) for t in ctemps]\n",
    "# when we do not use kev-value pairs\n",
    "# curly brackets create a set, sets do not allow duplicates\n",
    "ftemps2 = {(t*9/5) for t in ctemps}\n",
    "print(ftemps1)\n",
    "print(ftemps2)"
   ]
  },
  {
   "cell_type": "code",
   "execution_count": null,
   "id": "6758d662",
   "metadata": {},
   "outputs": [
    {
     "name": "stdout",
     "output_type": "stream",
     "text": [
      "['A', 'B', 'C', 'D', 'E', 'F', 'G', 'H', 'I', 'J', 'K', 'L', 'M', 'N', 'O', 'P', 'Q', 'R', 'T', 'U', 'V', 'W', 'X', 'Y', 'Z']\n"
     ]
    }
   ],
   "source": [
    "sTemp = \"The quick brown fox jumped over the lazy dog\"\n",
    "chars = {c.upper() for c in sTemp if not c.isspace()}\n",
    "print(sorted(chars))"
   ]
  },
  {
   "cell_type": "markdown",
   "metadata": {},
   "source": [
    "# copy() and deepcopy()"
   ]
  },
  {
   "cell_type": "code",
   "execution_count": null,
   "metadata": {},
   "outputs": [
    {
     "name": "stdout",
     "output_type": "stream",
     "text": [
      "[1, 'hello', 3]   id: 139714182565312\n",
      "[1, 2, 3]         id: 139714182565376\n"
     ]
    }
   ],
   "source": [
    "import copy\n",
    "spam = [1, 2, 3]\n",
    "nspam = copy.copy(spam)     # nspam looks like spam but is not referencing the same list\n",
    "spam[1] = \"hello\"\n",
    "print(f\"{spam}   id: {id(spam)}\")\n",
    "print(f\"{nspam}         id: {id(nspam)}\")  # thus is stored in a different memory storage"
   ]
  },
  {
   "cell_type": "markdown",
   "metadata": {},
   "source": [
    "### shallow copy -for list in lists use\n",
    "- A shallow copy creates a new object which stores the reference of the original elements.\n",
    "- So, a shallow copy doesn't create a copy of nested objects, instead it just copies the reference of nested objects. \n",
    "- This means, a copy process does not recurse or create copies of nested objects itself.\n"
   ]
  },
  {
   "cell_type": "code",
   "execution_count": null,
   "metadata": {},
   "outputs": [
    {
     "name": "stdout",
     "output_type": "stream",
     "text": [
      "Old list: [[1, 2, 3], [4, 5, 6], [7, 8, 9]]\n",
      "New list: [[1, 2, 3], [4, 5, 6], [7, 8, 9]]\n"
     ]
    }
   ],
   "source": [
    "import copy\n",
    "old_list = [[1, 2, 3], [4, 5, 6], [7, 8, 9]]\n",
    "new_list = copy.copy(old_list)\n",
    "print(\"Old list:\", old_list)\n",
    "print(\"New list:\", new_list)"
   ]
  },
  {
   "cell_type": "markdown",
   "metadata": {},
   "source": [
    "- We create a shallow copy of old_list. The new_list contains references to original nested objects stored in old_list. \n",
    "- Then we add the new list i.e [4, 4, 4] into old_list. This new sublist is not copied in new_list.\n",
    "- However, when you change any nested objects in old_list, the changes appear in new_list."
   ]
  },
  {
   "cell_type": "code",
   "execution_count": null,
   "metadata": {},
   "outputs": [
    {
     "name": "stdout",
     "output_type": "stream",
     "text": [
      "Old list: [[1, 1, 1], [2, 2, 2], [3, 3, 3], [4, 4, 4]]\n",
      "New list: [[1, 1, 1], [2, 2, 2], [3, 3, 3]]\n",
      "Old list: [[1, 1, 1], [2, 'AA', 2], [3, 3, 3], [4, 4, 4]]\n",
      "New list: [[1, 1, 1], [2, 'AA', 2], [3, 3, 3]]\n"
     ]
    }
   ],
   "source": [
    "old_list = [[1, 1, 1], [2, 2, 2], [3, 3, 3]]\n",
    "new_list = copy.copy(old_list)\n",
    "old_list.append([4, 4, 4])\n",
    "\n",
    "print(\"Old list:\", old_list)\n",
    "print(\"New list:\", new_list)\n",
    "\n",
    "old_list[1][1] = 'AA'\n",
    "print(\"Old list:\", old_list)\n",
    "print(\"New list:\", new_list)"
   ]
  },
  {
   "cell_type": "markdown",
   "metadata": {},
   "source": [
    "## deepcopy\n",
    "- A deep copy creates a new object and recursively adds the copies of nested objects present in the original elements.\n",
    "- The deep copy creates independent copy of original object and all its nested objects."
   ]
  },
  {
   "cell_type": "code",
   "execution_count": null,
   "metadata": {},
   "outputs": [
    {
     "name": "stdout",
     "output_type": "stream",
     "text": [
      "Old list: [[1, 1, 1], ['BB', 2, 2], [3, 3, 3]]\n",
      "New list: [[1, 1, 1], [2, 2, 2], [3, 3, 3]]\n"
     ]
    }
   ],
   "source": [
    "old_list = [[1, 1, 1], [2, 2, 2], [3, 3, 3]]\n",
    "new_list = copy.deepcopy(old_list)\n",
    "\n",
    "old_list[1][0] = 'BB'\n",
    "print(\"Old list:\", old_list)\n",
    "print(\"New list:\", new_list)"
   ]
  },
  {
   "cell_type": "markdown",
   "metadata": {},
   "source": [
    "# loops\n",
    "- repetitive execution of statements"
   ]
  },
  {
   "cell_type": "markdown",
   "metadata": {},
   "source": [
    "## for loop\n",
    "- iterate over a sequence"
   ]
  },
  {
   "cell_type": "code",
   "execution_count": null,
   "metadata": {},
   "outputs": [
    {
     "name": "stdout",
     "output_type": "stream",
     "text": [
      "1\n",
      "2\n",
      "3\n",
      "4\n",
      "5\n"
     ]
    }
   ],
   "source": [
    "numbers = [1,2,3,4,5]        # iterates over the members of a sequence in order, executing the block each time.\n",
    "for item in numbers:\n",
    "    print(item)"
   ]
  },
  {
   "cell_type": "markdown",
   "metadata": {},
   "source": [
    "## range()\n",
    "- for repetiton you need a sequence range() helps you create one"
   ]
  },
  {
   "cell_type": "code",
   "execution_count": 4,
   "metadata": {},
   "outputs": [
    {
     "name": "stdout",
     "output_type": "stream",
     "text": [
      "range\n",
      "range\n",
      "range\n",
      "range\n",
      "range exhausted\n"
     ]
    }
   ],
   "source": [
    "for x in range(4):\n",
    "    print('range')\n",
    "else: print('range exhausted')"
   ]
  },
  {
   "cell_type": "markdown",
   "metadata": {},
   "source": [
    "## if statement\n",
    "- for nested if statements and ternary operators look at chapter logical operators"
   ]
  },
  {
   "cell_type": "code",
   "execution_count": null,
   "metadata": {},
   "outputs": [
    {
     "name": "stdout",
     "output_type": "stream",
     "text": [
      "cold\n",
      "done\n"
     ]
    }
   ],
   "source": [
    "temperature = 9\n",
    "\n",
    "if temperature > 30:                # block fo code starts if true\n",
    "    print(\"It's a hot day\")\n",
    "    print(\"drink my son\")\n",
    "elif temperature > 20:              # in case the first 'if' is FALSE the 'elif' block is executed when TRUE\n",
    "    print(\"it's a nice day\")\n",
    "elif temperature > 10:\n",
    "    print(\"coldish\")\n",
    "else:                                           # if nothing of the above holds\n",
    "    print(\"cold\")\n",
    "    print(\"done\")                       # not part of the block\n"
   ]
  },
  {
   "cell_type": "markdown",
   "metadata": {},
   "source": [
    "\n",
    "## while loops\n",
    "- exec a group of statements as long as a given expression is True"
   ]
  },
  {
   "cell_type": "code",
   "execution_count": 5,
   "metadata": {},
   "outputs": [
    {
     "name": "stdout",
     "output_type": "stream",
     "text": [
      "*\n",
      "**\n",
      "***\n",
      "****\n",
      "*****\n"
     ]
    }
   ],
   "source": [
    "i =1\n",
    "while i <= 5:          # block will continue till condition is met\n",
    "    print(i * \"*\")      # repeats the string i times\n",
    "    i= i+1                  # incrementing the counter is important, otherwise loop would continue endless\n"
   ]
  },
  {
   "cell_type": "markdown",
   "metadata": {},
   "source": [
    "## while True"
   ]
  },
  {
   "cell_type": "code",
   "execution_count": null,
   "metadata": {},
   "outputs": [],
   "source": [
    "while True:             # allways ask name\n",
    "    print('Who are you?')\n",
    "    name = input()\n",
    "    if name != 'Joe':   # if not Joe asks again\n",
    "        print(f\"There's no {name} in our database\")\n",
    "        continue        # jumps back to while loop if True, if False (Joe) goes to next line\n",
    "    print('Hello, Joe. What is the password? (It is a fish.)')\n",
    "    password = input()\n",
    "    if password != 'swordfish':\n",
    "        print(\"Wrong password\")\n",
    "    else: break  # if password is correct if, goes to next line\n",
    "    print('Access granted.')\n"
   ]
  },
  {
   "cell_type": "markdown",
   "metadata": {},
   "source": [
    "## sys.exit() function to terminate program"
   ]
  },
  {
   "cell_type": "code",
   "execution_count": 15,
   "metadata": {},
   "outputs": [
    {
     "name": "stdout",
     "output_type": "stream",
     "text": [
      "Type exit to exit.\n"
     ]
    },
    {
     "ename": "SystemExit",
     "evalue": "",
     "output_type": "error",
     "traceback": [
      "An exception has occurred, use %tb to see the full traceback.\n",
      "\u001b[0;31mSystemExit\u001b[0m\n"
     ]
    },
    {
     "name": "stderr",
     "output_type": "stream",
     "text": [
      "/home/mz/.pyenv/versions/3.8.12/envs/lewagon/lib/python3.8/site-packages/IPython/core/interactiveshell.py:3465: UserWarning: To exit: use 'exit', 'quit', or Ctrl-D.\n",
      "  warn(\"To exit: use 'exit', 'quit', or Ctrl-D.\", stacklevel=1)\n"
     ]
    }
   ],
   "source": [
    "import sys\n",
    "while True:\n",
    "    print('Type exit to exit.')\n",
    "    response = input()\n",
    "    if response == 'exit':\n",
    "        sys.exit()\n",
    "print('You typed ' + response + '.')\n"
   ]
  },
  {
   "cell_type": "code",
   "execution_count": null,
   "metadata": {},
   "outputs": [],
   "source": []
  },
  {
   "cell_type": "markdown",
   "metadata": {},
   "source": [
    "## nested loop, one loop inside another\n",
    "- The \"inner loop\" will be executed one time for each iteration of the \"outer loop\":"
   ]
  },
  {
   "cell_type": "code",
   "execution_count": 326,
   "metadata": {},
   "outputs": [
    {
     "name": "stdout",
     "output_type": "stream",
     "text": [
      "(0, 0)\n",
      "(0, 1)\n",
      "(1, 0)\n",
      "(1, 1)\n",
      "(2, 0)\n",
      "(2, 1)\n"
     ]
    }
   ],
   "source": [
    "for x in range(3):                  # inner loop excecutes times the outer loop\n",
    "    for y in range(2):              # outer loop gets started again after inner loop terminates, and iterates\n",
    "        print(f\"({x}, {y})\")         # than inner loop starts again\n"
   ]
  },
  {
   "cell_type": "markdown",
   "metadata": {},
   "source": [
    "## pass\n",
    "pass - is a placeholder when a statement is syntactically required. "
   ]
  },
  {
   "cell_type": "code",
   "execution_count": 354,
   "metadata": {},
   "outputs": [],
   "source": [
    "for x in [0, 1, 2]:\n",
    "  pass"
   ]
  },
  {
   "cell_type": "markdown",
   "metadata": {},
   "source": [
    "## break\n",
    "- stops the excution of the current loop\n",
    "- "
   ]
  },
  {
   "cell_type": "code",
   "execution_count": 7,
   "metadata": {},
   "outputs": [
    {
     "name": "stdout",
     "output_type": "stream",
     "text": [
      "3\n"
     ]
    }
   ],
   "source": [
    "for i in range(9):\n",
    "    if i == 3:\n",
    "        print(i)    # 3 is still printed bc. break comes after print\n",
    "        break"
   ]
  },
  {
   "cell_type": "code",
   "execution_count": 9,
   "metadata": {},
   "outputs": [
    {
     "name": "stdout",
     "output_type": "stream",
     "text": [
      "1\n",
      "2\n",
      "3\n",
      "4\n"
     ]
    }
   ],
   "source": [
    "i = 1\n",
    "while i < 9:\n",
    "    if i == 5:\n",
    "        break       # here break stops before the print\n",
    "    print(i)\n",
    "    i += 1"
   ]
  },
  {
   "cell_type": "markdown",
   "metadata": {},
   "source": [
    "## continue\n",
    "- "
   ]
  },
  {
   "cell_type": "code",
   "execution_count": 10,
   "metadata": {},
   "outputs": [
    {
     "name": "stdout",
     "output_type": "stream",
     "text": [
      "cat\n",
      "dog\n",
      "hamster\n"
     ]
    }
   ],
   "source": [
    "for i in ['cat', 'dog' ,'bunny', 'hamster']:\n",
    "    if i == 'bunny':\n",
    "        continue        # jumps over the current iteration of the loop\n",
    "    print(i)\n"
   ]
  },
  {
   "cell_type": "markdown",
   "metadata": {},
   "source": [
    "## error message\n"
   ]
  },
  {
   "cell_type": "code",
   "execution_count": 329,
   "metadata": {},
   "outputs": [
    {
     "name": "stdout",
     "output_type": "stream",
     "text": [
      "Please give me an integer\n"
     ]
    }
   ],
   "source": [
    "try:\n",
    "    age = int(input(\"Age: \"))\n",
    "    print(age)\n",
    "    zero_divison = 200/age\n",
    "    print(zero_divison)\n",
    "except ValueError:                # when we try to divide by 0\n",
    "    print(\"Please give me an integer\")\n",
    "except ZeroDivisionError:\n",
    "    print(\"no division with zero\")\n"
   ]
  },
  {
   "cell_type": "markdown",
   "metadata": {},
   "source": [
    "## range() function\n",
    "The range() function returns a sequence of numbers,\n",
    "starting from 0 by default, and increments by 1 (by default),\n",
    "and ends at a specified number.\n"
   ]
  },
  {
   "cell_type": "code",
   "execution_count": 171,
   "metadata": {},
   "outputs": [
    {
     "name": "stdout",
     "output_type": "stream",
     "text": [
      "5\n",
      "7\n",
      "9\n"
     ]
    }
   ],
   "source": [
    "for number in range(5, 10, 2):  # range from 5 to 9, with a step of 2\n",
    "    print(number)\n"
   ]
  },
  {
   "cell_type": "code",
   "execution_count": null,
   "id": "f07c6cc4-6b0c-4e41-9ceb-16c3cff2c4fa",
   "metadata": {
    "collapsed": true,
    "jupyter": {
     "outputs_hidden": true
    },
    "tags": []
   },
   "outputs": [
    {
     "data": {
      "text/plain": [
       "[20, 17, 14, 11, 8, 5, 2, -1, -4, -7, -10, -13]"
      ]
     },
     "metadata": {},
     "output_type": "display_data"
    }
   ],
   "source": [
    "x =list(range(20, -15, -3))\n",
    "x"
   ]
  },
  {
   "cell_type": "code",
   "execution_count": null,
   "id": "1ef67623-8bdf-4c8c-ad70-97f3a83fd130",
   "metadata": {
    "collapsed": true,
    "jupyter": {
     "outputs_hidden": true
    },
    "tags": []
   },
   "outputs": [
    {
     "name": "stdout",
     "output_type": "stream",
     "text": [
      "70\n",
      "78\n",
      "86\n",
      "94\n"
     ]
    }
   ],
   "source": [
    "for i in range(70, 100, 8):\n",
    "    print(i)"
   ]
  },
  {
   "cell_type": "markdown",
   "id": "7bcfdb03-e0b5-4867-98bf-e41af4bafa44",
   "metadata": {},
   "source": [
    "##  reversed"
   ]
  },
  {
   "cell_type": "code",
   "execution_count": null,
   "id": "26527b02-2618-4e3a-bf13-6a3e3bb4f37a",
   "metadata": {
    "collapsed": true,
    "jupyter": {
     "outputs_hidden": true
    },
    "tags": []
   },
   "outputs": [
    {
     "data": {
      "text/plain": [
       "[19, 17, 15, 13, 11, 9, 7, 5, 3, 1, -1, -3, -5, -7, -9, -11, -13, -15]"
      ]
     },
     "metadata": {},
     "output_type": "display_data"
    }
   ],
   "source": [
    "list(reversed(range(-15, 21, 2)))"
   ]
  },
  {
   "cell_type": "code",
   "execution_count": null,
   "id": "c339d1a0-5306-4ab2-914e-a3826a1382a9",
   "metadata": {
    "collapsed": true,
    "jupyter": {
     "outputs_hidden": true
    },
    "tags": []
   },
   "outputs": [
    {
     "data": {
      "text/plain": [
       "'olleH'"
      ]
     },
     "metadata": {},
     "output_type": "display_data"
    }
   ],
   "source": [
    "s = \"Hello\"\n",
    "result = \"\"\n",
    "for i in reversed(s): \n",
    "    result += i\n",
    "    \n",
    "result"
   ]
  },
  {
   "cell_type": "markdown",
   "id": "1078ccc3-9770-4f59-81c5-86362dbab7a0",
   "metadata": {},
   "source": [
    "## iterate a list using range()"
   ]
  },
  {
   "cell_type": "code",
   "execution_count": null,
   "id": "a53aca08-9d20-4ef2-b659-1feab0535240",
   "metadata": {
    "collapsed": true,
    "jupyter": {
     "outputs_hidden": true
    }
   },
   "outputs": [
    {
     "name": "stdout",
     "output_type": "stream",
     "text": [
      "Jessa\n",
      "Emma\n",
      "20\n",
      "75.5\n"
     ]
    }
   ],
   "source": [
    "list1 = ['Jessa', 'Emma', 20, 75.5]\n",
    "for i in range(len(list1)):\n",
    "    print(list1[i])"
   ]
  },
  {
   "cell_type": "code",
   "execution_count": null,
   "id": "7deefad9-f2f5-4df3-94c2-bc07e4f84cbf",
   "metadata": {
    "collapsed": true,
    "jupyter": {
     "outputs_hidden": true
    }
   },
   "outputs": [
    {
     "name": "stdout",
     "output_type": "stream",
     "text": [
      "20 18 16 14 12 10 "
     ]
    }
   ],
   "source": [
    "for i in reversed(range(10, 21, 2)):\n",
    "    print(i, end=' ')"
   ]
  },
  {
   "cell_type": "code",
   "execution_count": null,
   "id": "2d46fc44-3fd0-4161-af37-ed97290546e3",
   "metadata": {
    "collapsed": true,
    "jupyter": {
     "outputs_hidden": true
    }
   },
   "outputs": [
    {
     "data": {
      "text/plain": [
       "[20, 22, 24, 26, 28, 30, 32, 34, 36, 38]"
      ]
     },
     "metadata": {},
     "output_type": "display_data"
    }
   ],
   "source": [
    "list(range(20,40,2)) # range object needs to be convererted to list to show its content"
   ]
  },
  {
   "cell_type": "markdown",
   "id": "34be3787-4e04-4e3d-89c2-b52e727dd898",
   "metadata": {},
   "source": [
    "### inclusive range"
   ]
  },
  {
   "cell_type": "code",
   "execution_count": 31,
   "id": "b3ec27ef-07ec-4f2d-8a21-eb8df4198252",
   "metadata": {
    "collapsed": true,
    "jupyter": {
     "outputs_hidden": true
    }
   },
   "outputs": [
    {
     "data": {
      "text/plain": [
       "[20, 22, 24, 26, 28, 30, 32, 34, 36, 38, 40]"
      ]
     },
     "execution_count": 31,
     "metadata": {},
     "output_type": "execute_result"
    }
   ],
   "source": [
    "list(range(20, 40+2, 2))"
   ]
  },
  {
   "cell_type": "markdown",
   "id": "57a82ba1-626f-4247-a1f2-8f4dc745d09e",
   "metadata": {},
   "source": [
    "## range has indices"
   ]
  },
  {
   "cell_type": "code",
   "execution_count": 28,
   "id": "754736ae-6816-4e45-ac6a-a0eb9f1f8466",
   "metadata": {
    "collapsed": true,
    "jupyter": {
     "outputs_hidden": true
    }
   },
   "outputs": [
    {
     "name": "stdout",
     "output_type": "stream",
     "text": [
      "[10, 12, 14, 16, 18, 20, 22, 24, 26, 28]\n",
      "16\n",
      "10\n",
      "29\n",
      "28\n"
     ]
    }
   ],
   "source": [
    "r1 = range(10,30,2)\n",
    "print(list(r1))\n",
    "print(r1[3])\n",
    "print(r1.start)\n",
    "print(r1.stop - 1)\n",
    "print(r1[-1])"
   ]
  },
  {
   "cell_type": "markdown",
   "metadata": {},
   "source": [
    "# Strings"
   ]
  },
  {
   "cell_type": "code",
   "execution_count": 152,
   "metadata": {},
   "outputs": [
    {
     "name": "stdout",
     "output_type": "stream",
     "text": [
      "Python's Course\n",
      "Python for \"Beginners\"\n"
     ]
    }
   ],
   "source": [
    "course = \"Python's Course\"               # apostrohpe\n",
    "course1 = 'Python for \"Beginners\"'  # double quotes\n",
    "print(course)\n",
    "print(course1)\n"
   ]
  },
  {
   "cell_type": "markdown",
   "metadata": {},
   "source": [
    "## Comments"
   ]
  },
  {
   "cell_type": "markdown",
   "metadata": {},
   "source": [
    "### multiline comment\n",
    "comments - not what but why and how, explain assumptions"
   ]
  },
  {
   "cell_type": "code",
   "execution_count": 278,
   "metadata": {},
   "outputs": [
    {
     "data": {
      "text/plain": [
       "'\\nthis is a\\nmultiline comment\\nand can go on and\\non\\n'"
      ]
     },
     "execution_count": 278,
     "metadata": {},
     "output_type": "execute_result"
    }
   ],
   "source": [
    "\"\"\"\n",
    "this is a\n",
    "multiline comment\n",
    "and can go on and\n",
    "on\n",
    "\"\"\""
   ]
  },
  {
   "cell_type": "code",
   "execution_count": 159,
   "metadata": {},
   "outputs": [
    {
     "name": "stdout",
     "output_type": "stream",
     "text": [
      "Hallo,)\n",
      "das ist eine\n",
      "mehrzeilige Ausgabe\n",
      "in Python\n"
     ]
    }
   ],
   "source": [
    "# multiline string - gets rid of the new-line in the beginning\n",
    "print('''\\\n",
    "Hallo,)\n",
    "das ist eine\n",
    "mehrzeilige Ausgabe\n",
    "in Python''')"
   ]
  },
  {
   "cell_type": "markdown",
   "metadata": {},
   "source": [
    "## Escape characters"
   ]
  },
  {
   "cell_type": "code",
   "execution_count": null,
   "metadata": {},
   "outputs": [],
   "source": [
    "# \\' Single quote\n",
    "# \\\" Double quote\n",
    "# \\t Tab\n",
    "# \\n Newline (line break)\n",
    "# \\\\ Backslash\n",
    "\n",
    "# print function\n",
    "# Syntax: print(object(s), sep=separator, end=end, file=file, flush=flush)\n",
    "print(\"Hello\", \"how are you?\", sep=\"---\")\n",
    "print(\"no line break after the last print statement -- \", end=\"\")\n",
    "print(\"end\")\n",
    "print(\"I’m Marco’s subconciousness\")      # prints single quotes\n",
    "print('He said: \"No way\"')                # prints double quotes '' (not these``)\n",
    "print(\"He said: \\\"No way\\\"\")              # escape character\n",
    "print(\"tap \\t tab\")                      # \\t    for tab\n",
    "print(\"Line \\nBreak\")                    # \\n    for newline\n",
    "print(\"friend\\\\lover\")                    # \\\\    for backslash\n",
    "print(r\"home\\usr\\bin\")              # raw-string no escaping \\ needed, practical with lots of special signs\n",
    "print(r'That is Carol\\'s cat.')     # raw string prints all escape characters\n"
   ]
  },
  {
   "cell_type": "code",
   "execution_count": null,
   "metadata": {},
   "outputs": [],
   "source": []
  },
  {
   "cell_type": "markdown",
   "metadata": {},
   "source": [
    "## pretty printing"
   ]
  },
  {
   "cell_type": "code",
   "execution_count": 178,
   "metadata": {},
   "outputs": [
    {
     "name": "stdout",
     "output_type": "stream",
     "text": [
      "{'age': 30,\n",
      " 'color': 'white',\n",
      " 'gender': 'male',\n",
      " 'is_verified': True,\n",
      " 'name': 'Jack Smith',\n",
      " 'status': 'active'}\n"
     ]
    }
   ],
   "source": [
    "import pprint\n",
    "pprint.pprint(customer)          # prettified output - ascending order"
   ]
  },
  {
   "cell_type": "code",
   "execution_count": 179,
   "metadata": {},
   "outputs": [
    {
     "data": {
      "text/plain": [
       "\"{'age': 30,\\n 'color': 'white',\\n 'gender': 'male',\\n 'is_verified': True,\\n 'name': 'Jack Smith',\\n 'status': 'active'}\""
      ]
     },
     "execution_count": 179,
     "metadata": {},
     "output_type": "execute_result"
    }
   ],
   "source": [
    "pprint.pformat(customer)      # prettified text as string"
   ]
  },
  {
   "cell_type": "code",
   "execution_count": 180,
   "metadata": {},
   "outputs": [
    {
     "name": "stdout",
     "output_type": "stream",
     "text": [
      "('name', 'Jack Smith')\n",
      "('age', 30)\n",
      "('is_verified', True)\n",
      "('status', 'active')\n",
      "('gender', 'male')\n",
      "('color', 'white')\n"
     ]
    }
   ],
   "source": [
    "for k in customer.items():\n",
    "  pprint.pprint(k)"
   ]
  },
  {
   "cell_type": "markdown",
   "metadata": {},
   "source": [
    "## textwrap"
   ]
  },
  {
   "cell_type": "code",
   "execution_count": 253,
   "metadata": {},
   "outputs": [
    {
     "name": "stdout",
     "output_type": "stream",
     "text": [
      "hello,       what up      ?\n"
     ]
    }
   ],
   "source": [
    "import textwrap\n",
    "paragraph = \"\"\"    hello,       what up      ?\"\"\"\n",
    "print(textwrap.dedent(paragraph).strip())"
   ]
  },
  {
   "cell_type": "markdown",
   "metadata": {},
   "source": [
    "## slicing  a string"
   ]
  },
  {
   "cell_type": "code",
   "execution_count": 263,
   "metadata": {},
   "outputs": [
    {
     "name": "stdout",
     "output_type": "stream",
     "text": [
      "llo worl\n",
      "d\n",
      "hello \n"
     ]
    }
   ],
   "source": [
    "x = \"hello world\"\n",
    "print(x[2:10])\n",
    "print(x[10])\n",
    "print(x[0:6])"
   ]
  },
  {
   "cell_type": "markdown",
   "metadata": {},
   "source": [
    "## in / not in"
   ]
  },
  {
   "cell_type": "code",
   "execution_count": 265,
   "metadata": {},
   "outputs": [
    {
     "name": "stdout",
     "output_type": "stream",
     "text": [
      "True\n",
      "False\n",
      "True\n",
      "True\n",
      "True\n"
     ]
    }
   ],
   "source": [
    "print(\"hello\" in x)\n",
    "print(\"Hello\" in x)     # case sensitive\n",
    "print(\"Hello\" not in x)\n",
    "print(\"D\" not in x)\n",
    "print(\" \" in x)"
   ]
  },
  {
   "cell_type": "markdown",
   "metadata": {},
   "source": [
    "## find, replace"
   ]
  },
  {
   "cell_type": "code",
   "execution_count": null,
   "metadata": {},
   "outputs": [],
   "source": [
    "course = \"Python for Beginners\"\n",
    "print(course.find(\"y\"))  # finds the first \"y\" in the string\n",
    "print(course.replace(\"for\", \"4\"))\n"
   ]
  },
  {
   "cell_type": "markdown",
   "metadata": {},
   "source": [
    "## input"
   ]
  },
  {
   "cell_type": "code",
   "execution_count": 269,
   "metadata": {},
   "outputs": [
    {
     "name": "stdout",
     "output_type": "stream",
     "text": [
      "Hello MAn\n"
     ]
    }
   ],
   "source": [
    "name = input(\"what`s your name\")                # takes the input\n",
    "print(\"Hello \" + name)                           # string concatenation"
   ]
  },
  {
   "cell_type": "markdown",
   "metadata": {},
   "source": [
    "## string.format\n",
    "- strings can be modified where the curly bracket stands in"
   ]
  },
  {
   "cell_type": "code",
   "execution_count": 11,
   "metadata": {},
   "outputs": [
    {
     "data": {
      "text/plain": [
       "'I love coding very much!'"
      ]
     },
     "execution_count": 11,
     "metadata": {},
     "output_type": "execute_result"
    }
   ],
   "source": [
    "x = 'I love {} very much!'\n",
    "x.format('coding')"
   ]
  },
  {
   "cell_type": "code",
   "execution_count": 12,
   "metadata": {},
   "outputs": [
    {
     "data": {
      "text/plain": [
       "'I eat eggs, liver and cheese every day.'"
      ]
     },
     "execution_count": 12,
     "metadata": {},
     "output_type": "execute_result"
    }
   ],
   "source": [
    "y = 'I eat {}, {} and {} every day.'  # multiple placeholders\n",
    "y.format('eggs', 'liver', 'cheese')"
   ]
  },
  {
   "cell_type": "code",
   "execution_count": 14,
   "metadata": {},
   "outputs": [
    {
     "data": {
      "text/plain": [
       "'I eat cheese, liver and eggs every day.'"
      ]
     },
     "execution_count": 14,
     "metadata": {},
     "output_type": "execute_result"
    }
   ],
   "source": [
    "z = 'I eat {2}, {1} and {0} every day.'  # indexed placeholders\n",
    "z.format('eggs', 'liver', 'cheese')"
   ]
  },
  {
   "cell_type": "code",
   "execution_count": 15,
   "metadata": {},
   "outputs": [
    {
     "data": {
      "text/plain": [
       "'I eat banana, cheese and liver every day.'"
      ]
     },
     "execution_count": 15,
     "metadata": {},
     "output_type": "execute_result"
    }
   ],
   "source": [
    "z = 'I eat {fruit}, {diary} and {meat} every day.'  # named placeholders\n",
    "z.format(fruit= 'banana', meat= 'liver', diary='cheese')"
   ]
  },
  {
   "cell_type": "markdown",
   "metadata": {},
   "source": [
    "## string interpolation"
   ]
  },
  {
   "cell_type": "code",
   "execution_count": 274,
   "metadata": {},
   "outputs": [
    {
     "name": "stdout",
     "output_type": "stream",
     "text": [
      "I'm Al and 4000 years old.\n"
     ]
    }
   ],
   "source": [
    "name = 'Al'\n",
    "age = 4000\n",
    "print(\"I'm %s and %s years old.\" % (name, age))   # no type conversion needed"
   ]
  },
  {
   "cell_type": "markdown",
   "metadata": {},
   "source": [
    "## f- string"
   ]
  },
  {
   "cell_type": "code",
   "execution_count": 276,
   "metadata": {},
   "outputs": [
    {
     "name": "stdout",
     "output_type": "stream",
     "text": [
      "I'm Al, and 4000 years old\n"
     ]
    }
   ],
   "source": [
    "name = 'Al'\n",
    "age = 4000\n",
    "print(f\"I'm {name}, and {age} years old\")"
   ]
  },
  {
   "cell_type": "markdown",
   "metadata": {},
   "source": [
    "## upper(), lower(), isupper(), islower()"
   ]
  },
  {
   "cell_type": "code",
   "execution_count": 284,
   "metadata": {},
   "outputs": [
    {
     "name": "stdout",
     "output_type": "stream",
     "text": [
      "20\n",
      "PYTHON FOR BEGINNERS\n",
      "python for beginners\n"
     ]
    }
   ],
   "source": [
    "course = 'Python for Beginners'\n",
    "print(len(course))                  # len and print are general purpose fct.\n",
    "print(course.upper())           # prints in upper case\n",
    "print(course.lower())  # lower-case the original string stays the same\n"
   ]
  },
  {
   "cell_type": "code",
   "execution_count": 286,
   "metadata": {},
   "outputs": [
    {
     "name": "stdout",
     "output_type": "stream",
     "text": [
      "lower and upper\n",
      "LOWER AND UPPER\n",
      "True\n",
      "True\n",
      "False\n"
     ]
    }
   ],
   "source": [
    "s = \"lower and UPPER\"\n",
    "print(s.lower())\n",
    "print(s.upper())\n",
    "print(s.upper().isupper())            # indeed upper is upper\n",
    "ss= s.lower()\n",
    "print(ss.islower())                   # True if there is a letter and all in lowercase\n",
    "print(s.isupper())                    # True if there is a letter and all in uppercase\n"
   ]
  },
  {
   "cell_type": "markdown",
   "metadata": {},
   "source": [
    "## isX() methods\n",
    "fct. that belong to a object its a method"
   ]
  },
  {
   "cell_type": "code",
   "execution_count": 309,
   "metadata": {},
   "outputs": [
    {
     "name": "stdout",
     "output_type": "stream",
     "text": [
      "True\n",
      "False\n",
      "True\n",
      "True\n",
      "True\n"
     ]
    }
   ],
   "source": [
    "print(str.isalpha(\"hello\"))                     # True if the string consists only of letters and isn’t blank\n",
    "print(str.isnumeric(\"23ss\"))                     \n",
    "print(str.isdecimal(\"2022\"))                  # True if the string consists only of numeric characters and is not blank\n",
    "print(str.isspace(\"       \\n \\n       \"))        # True if the string consists only of spaces, tabs, and newlines and is not blank\n",
    "print(str.istitle(\"Titel\"))                          # True if the string consists only of words that begin with an uppercase letter followed by only lowercase letters\n"
   ]
  },
  {
   "cell_type": "markdown",
   "metadata": {},
   "source": [
    "## startswith & endswith"
   ]
  },
  {
   "cell_type": "code",
   "execution_count": 4,
   "metadata": {},
   "outputs": [
    {
     "name": "stdout",
     "output_type": "stream",
     "text": [
      "True\n",
      "True\n"
     ]
    }
   ],
   "source": [
    "h = \"Hello, world\"\n",
    "print(h.startswith(\"Hello\"))      # test if string starts with ...\n",
    "print(h.endswith(\"world\"))        # test if str end with ..."
   ]
  },
  {
   "cell_type": "markdown",
   "metadata": {},
   "source": [
    "## join & split"
   ]
  },
  {
   "cell_type": "code",
   "execution_count": 16,
   "metadata": {},
   "outputs": [
    {
     "name": "stdout",
     "output_type": "stream",
     "text": [
      "bread, butter, salami\n",
      "bread... butter... salami\n",
      "['bread', 'butter', 'salami']\n",
      "['bread', 'butter', 'salami']\n",
      "['bread', 'butter', 'salami']\n"
     ]
    }
   ],
   "source": [
    "print(\", \".join([\"bread\", \"butter\", \"salami\"]))    # joins list items with the string it is called on\n",
    "print(\"... \".join([\"bread\", \"butter\", \"salami\"]))\n",
    "print(\"bread butter salami\".split(\" \"))            # splits string into a list - splits at space, tab, newline\n",
    "print(\"bread, butter, salami\".split(\", \"))        # splits at comma now\n",
    "print('''bread              butter  salami'''.split())"
   ]
  },
  {
   "cell_type": "code",
   "execution_count": 17,
   "metadata": {},
   "outputs": [
    {
     "name": "stdout",
     "output_type": "stream",
     "text": [
      "['hello', 'maria', 'how', 'are', 'you']\n"
     ]
    }
   ],
   "source": [
    "m = '''hello\n",
    "maria\n",
    "how\n",
    "are\n",
    "you'''\n",
    "print(m.split(\"\\n\"))"
   ]
  },
  {
   "cell_type": "markdown",
   "metadata": {},
   "source": [
    "### rsplit()\n",
    "- The rsplit() method splits a string into a list, starting from the right.\n",
    "-  string.rsplit(separator, maxsplit) \n",
    "- separator: \tOptional. Specifies the separator to use when splitting the string. By default any whitespace is a separator \n",
    "- maxsplit:    Optional. Specifies how many splits to do. Default value is -1, which is \"all occurrences\""
   ]
  },
  {
   "cell_type": "code",
   "execution_count": 61,
   "metadata": {},
   "outputs": [
    {
     "data": {
      "text/plain": [
       "'apple, banana, cherry,'"
      ]
     },
     "execution_count": 61,
     "metadata": {},
     "output_type": "execute_result"
    }
   ],
   "source": [
    "txt = \"apple, banana, cherry, pear\"\n",
    "\n",
    "# setting the maxsplit parameter to 1, will return a list with 2 elements!\n",
    "# txt is split into two elements - from right till first seperator and the rest on the left\n",
    "# the resulting list is read from left to right, rest is txt[0] and first split is txt[1]\n",
    "x=txt.rsplit(\" \", 1)\n",
    "x[0]"
   ]
  },
  {
   "cell_type": "markdown",
   "metadata": {},
   "source": [
    "## partition"
   ]
  },
  {
   "cell_type": "code",
   "execution_count": 18,
   "metadata": {},
   "outputs": [
    {
     "name": "stdout",
     "output_type": "stream",
     "text": [
      "('hell', 'o', ', world!')\n"
     ]
    }
   ],
   "source": [
    "print(\"hello, world!\".partition(\"o\"))      # returns tuple of three substrings before-seperator-after"
   ]
  },
  {
   "cell_type": "markdown",
   "metadata": {},
   "source": [
    "## rjust, center & ljust"
   ]
  },
  {
   "cell_type": "code",
   "execution_count": 15,
   "metadata": {},
   "outputs": [
    {
     "name": "stdout",
     "output_type": "stream",
     "text": [
      "hello-------------------------------------------------------\n",
      "..........hello\n",
      "*******hello********\n"
     ]
    }
   ],
   "source": [
    "print(\"hello\".ljust(60,\"-\"))       # right-justify \"hello\" in a string of total lenghts 10\n",
    "print(\"hello\".rjust(15,\".\"))     # left-justify\n",
    "print(\"hello\".center(20,\"*\"))"
   ]
  },
  {
   "cell_type": "code",
   "execution_count": 39,
   "metadata": {},
   "outputs": [
    {
     "name": "stdout",
     "output_type": "stream",
     "text": [
      "===PICNIC ITEMS==\n",
      "sandwiches..    4\n",
      "apples......   12\n",
      "cups........    4\n",
      "cookies..... 8000\n",
      "=======PICNIC ITEMS=======\n",
      "sandwiches..........     4\n",
      "apples..............    12\n",
      "cups................     4\n",
      "cookies.............  8000\n"
     ]
    }
   ],
   "source": [
    "\n",
    "# rjust and ljust are especially useful when you need to print tabular data that has correct spacing.\n",
    "def printPicnic(Items, l_width, r_width):\n",
    "    print('PICNIC ITEMS'.center(l_width + r_width, '='))\n",
    "    for k, v in Items.items():\n",
    "        print(k.ljust(l_width, '.') + str(v).rjust(r_width, \" \"))\n",
    "\n",
    "picnicItems = {'sandwiches': 4, 'apples': 12, 'cups': 4, 'cookies': 8000}\n",
    "printPicnic(picnicItems, 12, 5)\n",
    "printPicnic(picnicItems, 20, 6)\n"
   ]
  },
  {
   "cell_type": "markdown",
   "metadata": {},
   "source": [
    "## strip"
   ]
  },
  {
   "cell_type": "code",
   "execution_count": 41,
   "metadata": {},
   "outputs": [
    {
     "name": "stdout",
     "output_type": "stream",
     "text": [
      "Hello       World      ?        \n",
      "Hello       World      ?\n",
      "       Hello       World      ?\n",
      "     Hello  \n"
     ]
    }
   ],
   "source": [
    "x = \"       Hello       World      ?        \"\n",
    "print(x.lstrip())       # cuts left whitespace\n",
    "print(x.strip())        # cuts whitespce in the beginning and end\n",
    "print(x.rstrip())       # cuts right whitespace\n",
    "\n",
    "y = \"yOUuo     Hello  ouyyU\"\n",
    "print(y.strip(\"ouyOU\")) # strips away occurences of passed characters at beginning and end while order doesnt matter"
   ]
  }
 ],
 "metadata": {
  "interpreter": {
   "hash": "ad7afd56c4a9327988b254949fc9ff6c4de57fd051da33a62b5f87e3ddafe8d2"
  },
  "kernelspec": {
   "display_name": "Python 3 (ipykernel)",
   "language": "python",
   "name": "python3"
  },
  "language_info": {
   "codemirror_mode": {
    "name": "ipython",
    "version": 3
   },
   "file_extension": ".py",
   "mimetype": "text/x-python",
   "name": "python",
   "nbconvert_exporter": "python",
   "pygments_lexer": "ipython3",
   "version": "3.8.12"
  },
  "widgets": {
   "application/vnd.jupyter.widget-state+json": {
    "state": {},
    "version_major": 2,
    "version_minor": 0
   }
  }
 },
 "nbformat": 4,
 "nbformat_minor": 4
}
