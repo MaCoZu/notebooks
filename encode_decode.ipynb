{
 "cells": [
  {
   "cell_type": "markdown",
   "metadata": {},
   "source": [
    "Encoding: turns string objects to byte objects<br>\n",
    "Decoding: turns bytes to strings"
   ]
  },
  {
   "cell_type": "code",
   "execution_count": 6,
   "metadata": {},
   "outputs": [
    {
     "data": {
      "text/plain": [
       "b'\\xc3\\x84 ist ein Umlaut .'"
      ]
     },
     "execution_count": 6,
     "metadata": {},
     "output_type": "execute_result"
    }
   ],
   "source": [
    "a = 'Ä ist ein Umlaut .'\n",
    "bytes(a, 'utf-8') # encodes str to bytes\n",
    "a.encode('utf-16')\n",
    "a.encode( )  # encodes str to bytes (utf-8 by default)\n"
   ]
  },
  {
   "cell_type": "markdown",
   "metadata": {},
   "source": [
    "To decode bytes and make strings,  we must know the correct codec to use to get the correct result. "
   ]
  },
  {
   "cell_type": "code",
   "execution_count": 5,
   "metadata": {},
   "outputs": [
    {
     "data": {
      "text/plain": [
       "'Ä ist ein Umlaut .'"
      ]
     },
     "execution_count": 5,
     "metadata": {},
     "output_type": "execute_result"
    }
   ],
   "source": [
    "b'\\xff\\xfe\\xc4\\x00 \\x00i\\x00s\\x00t\\x00 \\x00e\\x00i\\x00n\\x00 \\x00U\\x00m\\x00l\\x00a\\x00u\\x00t\\x00 \\x00.\\x00'.decode('utf-16')"
   ]
  },
  {
   "cell_type": "markdown",
   "metadata": {},
   "source": [
    "We must be sure to remember that using the open method for writing to files will not allow for Unicode strings (that contain non-ASCII characters) to be written to files. In order to do this the strings must be encoded.\n",
    "\n",
    "In Python 3.x all strings are Unicode by default, so if we want to write such a string,  A, to file, we'd need to use str.encode and the wb (binary) mode for *open* to write the string to a file without causing an error, like so:"
   ]
  },
  {
   "cell_type": "code",
   "execution_count": 3,
   "metadata": {},
   "outputs": [
    {
     "name": "stdout",
     "output_type": "stream",
     "text": [
      "The autoreload extension is already loaded. To reload it, use:\n",
      "  %reload_ext autoreload\n"
     ]
    }
   ],
   "source": [
    "%load_ext autoreload\n",
    "%autoreload 2"
   ]
  },
  {
   "cell_type": "code",
   "execution_count": 248,
   "metadata": {},
   "outputs": [],
   "source": [
    "import pandas as pd\n",
    "import json\n",
    "\n",
    "# encoding='iso-8859-1'\n",
    "\n",
    "with open('/home/mz/code/MaCoZu/data/message.json',\n",
    "          'r+',\n",
    "          encoding='latin',\n",
    "          errors='ignore') as json_data:\n",
    "    obj = json.load(json_data, strict=False)\n",
    "frame = pd.DataFrame(obj['messages'])"
   ]
  },
  {
   "cell_type": "code",
   "execution_count": 249,
   "metadata": {},
   "outputs": [],
   "source": [
    "frame.dropna(subset=['content'], inplace=True)\n",
    "frame['content_decoded'] = [str(x).encode('latin').decode() for x in frame['content']]\n",
    "decode = frame[['sender_name', 'content_decoded']].drop_duplicates()"
   ]
  },
  {
   "cell_type": "code",
   "execution_count": 250,
   "metadata": {},
   "outputs": [],
   "source": [
    "from datetime import datetime\n",
    "\n",
    "def ms_timestamp_to_strftime(milliseconds):\n",
    "    # fromtimestamp() method takes the timestamp in seconds. If you have timestamp in milliseconds,\n",
    "    # you can solve this by dividing the timestamp in milliseconds by 1000.\n",
    "    seconds = milliseconds/1000\n",
    "    # Convert Timestamp to Datetime (format)\n",
    "    dt = datetime.fromtimestamp(seconds, tz=None)\n",
    "    # convert timestamp to string in yyyy-mm-dd HH:MM:SS\n",
    "    dt_str = dt.strftime(\"%Y-%m-%d, %H:%M:%S\")  \n",
    "\n",
    "    return dt_str\n",
    "\n",
    "frame['time'] = [ms_timestamp_to_strftime(x) for x in frame.timestamp_ms]"
   ]
  },
  {
   "cell_type": "code",
   "execution_count": 251,
   "metadata": {},
   "outputs": [],
   "source": [
    "import re\n",
    "\n",
    "def cleaner(text):\n",
    "    clean_text = \" \".join([word for word in text.split()])       # remove excess whitespace between words\n",
    "    url_free = re.sub(r'http\\S+', '', clean_text)                       # removes url's\n",
    "    unattached = re.sub(r'\\w+ sent an attachment.$', '', url_free)  # gets rid of '... sent an attachment'\n",
    "    stripped = unattached.strip()   # strip is required for the removal of single char stings\n",
    "    more_than_one = ''.join([x for x in stripped if (len(stripped) > 1)])   # leaves only strings with more than one character\n",
    "    \n",
    "    return more_than_one"
   ]
  },
  {
   "cell_type": "code",
   "execution_count": 252,
   "metadata": {},
   "outputs": [],
   "source": [
    "frame['content_clean'] = [cleaner(x) for x in frame.content_decoded]"
   ]
  },
  {
   "cell_type": "code",
   "execution_count": 253,
   "metadata": {},
   "outputs": [
    {
     "data": {
      "text/html": [
       "<div>\n",
       "<style scoped>\n",
       "    .dataframe tbody tr th:only-of-type {\n",
       "        vertical-align: middle;\n",
       "    }\n",
       "\n",
       "    .dataframe tbody tr th {\n",
       "        vertical-align: top;\n",
       "    }\n",
       "\n",
       "    .dataframe thead th {\n",
       "        text-align: right;\n",
       "    }\n",
       "</style>\n",
       "<table border=\"1\" class=\"dataframe\">\n",
       "  <thead>\n",
       "    <tr style=\"text-align: right;\">\n",
       "      <th></th>\n",
       "      <th>sender_name</th>\n",
       "      <th>time</th>\n",
       "      <th>content_decoded</th>\n",
       "      <th>content_clean</th>\n",
       "    </tr>\n",
       "  </thead>\n",
       "  <tbody>\n",
       "    <tr>\n",
       "      <th>0</th>\n",
       "      <td>Francisco Gileno Santos</td>\n",
       "      <td>2022-07-04, 18:50:57</td>\n",
       "      <td>Êgôriô nanan abôkirê mandêkisaia êkisaô</td>\n",
       "      <td>Êgôriô nanan abôkirê mandêkisaia êkisaô</td>\n",
       "    </tr>\n",
       "    <tr>\n",
       "      <th>1</th>\n",
       "      <td>Francisco Gileno Santos</td>\n",
       "      <td>2022-07-03, 22:58:52</td>\n",
       "      <td>Se mudar de ideia e queira verdadeiramente se despedir de mim e não só esse teatro que sente por mim,meu contato celular e ZAP 71/999065022.......é só ligar ou instalar o ZAP coisa que não creio vc não ter.......</td>\n",
       "      <td>Se mudar de ideia e queira verdadeiramente se despedir de mim e não só esse teatro que sente por mim,meu contato celular e ZAP 71/999065022.......é só ligar ou instalar o ZAP coisa que não creio vc não ter.......</td>\n",
       "    </tr>\n",
       "  </tbody>\n",
       "</table>\n",
       "</div>"
      ],
      "text/plain": [
       "               sender_name                  time  \\\n",
       "0  Francisco Gileno Santos  2022-07-04, 18:50:57   \n",
       "1  Francisco Gileno Santos  2022-07-03, 22:58:52   \n",
       "\n",
       "                                                                                                                                                                                                        content_decoded  \\\n",
       "0                                                                                                                                                                               Êgôriô nanan abôkirê mandêkisaia êkisaô   \n",
       "1  Se mudar de ideia e queira verdadeiramente se despedir de mim e não só esse teatro que sente por mim,meu contato celular e ZAP 71/999065022.......é só ligar ou instalar o ZAP coisa que não creio vc não ter.......   \n",
       "\n",
       "                                                                                                                                                                                                          content_clean  \n",
       "0                                                                                                                                                                               Êgôriô nanan abôkirê mandêkisaia êkisaô  \n",
       "1  Se mudar de ideia e queira verdadeiramente se despedir de mim e não só esse teatro que sente por mim,meu contato celular e ZAP 71/999065022.......é só ligar ou instalar o ZAP coisa que não creio vc não ter.......  "
      ]
     },
     "execution_count": 253,
     "metadata": {},
     "output_type": "execute_result"
    }
   ],
   "source": [
    "pd.set_option('display.max_colwidth', None)\n",
    "clean_df = frame[[ 'sender_name', 'time', 'content_decoded', 'content_clean' ]]\n",
    "clean_df.head(2)"
   ]
  },
  {
   "cell_type": "code",
   "execution_count": 254,
   "metadata": {},
   "outputs": [],
   "source": [
    "no_empty = clean_df[clean_df['content_clean'].astype(bool)]\n",
    "no_na = no_empty.dropna(subset=['content_decoded', 'content_clean'])\n",
    "no_na_reindex = no_na.reset_index(drop=True)  # reset index of df after droping na's\n",
    "last_df = no_na_reindex[['sender_name', 'time', 'content_clean']]"
   ]
  },
  {
   "cell_type": "code",
   "execution_count": 101,
   "metadata": {},
   "outputs": [],
   "source": [
    "with open('gileno4.txt', 'a') as f:\n",
    "    dfAsString = last_df.to_string(\n",
    "        header=False,\n",
    "        index=False,\n",
    "        columns=['sender_name', 'time', 'content_clean'])\n",
    "    f.write(dfAsString)"
   ]
  },
  {
   "cell_type": "code",
   "execution_count": 255,
   "metadata": {},
   "outputs": [],
   "source": [
    "last_df.to_csv('gileno.csv', index=False)"
   ]
  }
 ],
 "metadata": {
  "kernelspec": {
   "display_name": "Python 3.8.12 64-bit ('lewagon')",
   "language": "python",
   "name": "python3"
  },
  "language_info": {
   "codemirror_mode": {
    "name": "ipython",
    "version": 3
   },
   "file_extension": ".py",
   "mimetype": "text/x-python",
   "name": "python",
   "nbconvert_exporter": "python",
   "pygments_lexer": "ipython3",
   "version": "3.8.12"
  },
  "orig_nbformat": 4,
  "vscode": {
   "interpreter": {
    "hash": "ad7afd56c4a9327988b254949fc9ff6c4de57fd051da33a62b5f87e3ddafe8d2"
   }
  }
 },
 "nbformat": 4,
 "nbformat_minor": 2
}
