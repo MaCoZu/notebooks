{
 "cells": [
  {
   "cell_type": "markdown",
   "id": "9eb396a7",
   "metadata": {},
   "source": [
    "# different stuff"
   ]
  },
  {
   "cell_type": "markdown",
   "id": "78e423f2",
   "metadata": {},
   "source": [
    "## if \\_\\_name\\_\\_ == \"\\_\\_main\\_\\_\"\n",
    "- When the interpreter runs a module, the __name__ variable will be set as  __main__ if the module that is being run is the main program.\n",
    "- But if the code is importing the module from another module, then the __name__  variable will be set to that module’s name."
   ]
  },
  {
   "cell_type": "markdown",
   "id": "4f1879db",
   "metadata": {},
   "source": [
    "## Reg Ex\n",
    "__findall__ \tReturns a list containing all matches</br>\n",
    "__search__ \tReturns a Match object if there is a match anywhere in the string</br>\n",
    "__split__ \tReturns a list where the string has been split at each match</br>\n",
    "__sub__ \tReplaces one or many matches with a string</br>\n",
    "https://www.w3schools.com/python/python_regex.asp</br>\n",
    "https://regex101.com/"
   ]
  },
  {
   "cell_type": "code",
   "execution_count": 18,
   "id": "e031a1d8",
   "metadata": {},
   "outputs": [
    {
     "name": "stdout",
     "output_type": "stream",
     "text": [
      "['ai', 'ai']\n"
     ]
    }
   ],
   "source": [
    "import re\n",
    "txt = \"The rain in Spain\"\n",
    "x = re.findall(\"ai\", txt)\n",
    "print(x)\n"
   ]
  },
  {
   "cell_type": "markdown",
   "id": "dbf0457b",
   "metadata": {},
   "source": [
    "## decorators\n",
    "- Add functionality to an existing function with decorators. This is called metaprogramming.\n",
    "- A function can take a function as argument (the function to be decorated) and return the same function with or without extension."
   ]
  },
  {
   "cell_type": "code",
   "execution_count": 422,
   "id": "7972e586",
   "metadata": {},
   "outputs": [
    {
     "name": "stdout",
     "output_type": "stream",
     "text": [
      "Hello \n",
      "Marco\n"
     ]
    }
   ],
   "source": [
    "# hello() is a decorator function, It wraps the function in the other function.\n",
    "def hello(func):\n",
    "    def inner():\n",
    "        print(\"Hello \")\n",
    "        func()\n",
    "    return inner\n",
    "\n",
    "#  name() is decorated by the function hello().\n",
    "def name():\n",
    "    print(\"Marco\")\n",
    "\n",
    "obj = hello(name)  # name is decorated/ feed to hello\n",
    "obj()\n"
   ]
  },
  {
   "cell_type": "code",
   "execution_count": 427,
   "id": "a7747516",
   "metadata": {},
   "outputs": [
    {
     "name": "stdout",
     "output_type": "stream",
     "text": [
      "Hello \n",
      "Müller\n"
     ]
    }
   ],
   "source": [
    "# when we want to decorate name with hello we can use this cleaner decoration with @\n",
    "@hello                                                                                                      \n",
    "def surname():\n",
    "    print(\"Müller\")   \n",
    "    \n",
    "surname()"
   ]
  },
  {
   "cell_type": "code",
   "execution_count": 429,
   "id": "d20368fe",
   "metadata": {},
   "outputs": [
    {
     "name": "stdout",
     "output_type": "stream",
     "text": [
      "Function took 2.002239227294922 seconds to run\n"
     ]
    }
   ],
   "source": [
    "import time\n",
    "\n",
    "# timer function\n",
    "def measure_time(func):\n",
    "    def wrapper(*arg):\n",
    "        t = time.time()\n",
    "        res = func(*arg)\n",
    "        print(\"Function took \" + str(time.time() - t) + \" seconds to run\")\n",
    "        return res\n",
    "    return wrapper\n",
    "\n",
    "# decorate function with the timer fct.\n",
    "@measure_time\n",
    "def myFunction(n):\n",
    "    time.sleep(n)\n",
    "\n",
    "myFunction(2)\n"
   ]
  },
  {
   "cell_type": "code",
   "execution_count": null,
   "id": "b914e068",
   "metadata": {},
   "outputs": [],
   "source": [
    "# It’s critical to emphasize that decorators generally do not alter the calling signature or return value of function being wrapped. \n",
    "# The use of *args and**kwargs is there to make sure that any input arguments can be accepted. \n",
    "# The return value of a decorator is almost always the result of calling func(*args, **kwargs), where func is the original unwrapped function.\n",
    "\n",
    "import time\n",
    "\n",
    "\n",
    "def timeis(func):\n",
    "    '''Decorator that reports the execution time.'''\n",
    "\n",
    "    def wrap(*args, **kwargs):\n",
    "        start = time.time()\n",
    "        result = func(*args, **kwargs)\n",
    "        end = time.time()\n",
    "\n",
    "        print(func.__name__, end - start)\n",
    "        return result\n",
    "\n",
    "    return wrap\n",
    "\n",
    "\n",
    "@timeis\n",
    "def countdown(n):\n",
    "    '''Counts down'''\n",
    "    while n > 0:\n",
    "        n -= 1\n",
    "\n",
    "\n",
    "countdown(5)\n",
    "countdown(1000)\n"
   ]
  },
  {
   "cell_type": "markdown",
   "id": "7d310376",
   "metadata": {},
   "source": [
    "## datetime\n",
    "- to convert a string to a date object."
   ]
  },
  {
   "cell_type": "code",
   "execution_count": 14,
   "id": "7801e6f9",
   "metadata": {},
   "outputs": [
    {
     "name": "stdout",
     "output_type": "stream",
     "text": [
      "The type of the input date string now is:  <class 'datetime.datetime'>\n",
      "The date is 2024-01-21 11:04:19\n",
      "2022-04-27\n",
      "13790 days, 0:00:00\n"
     ]
    }
   ],
   "source": [
    "from datetime import datetime\n",
    "from datetime import date\n",
    "\n",
    "input_str = '21/01/24 11:04:19'\n",
    "dt_object = datetime.strptime(input_str, '%d/%m/%y %H:%M:%S')\n",
    "\n",
    "print(\"The type of the input date string now is: \", type(dt_object))\n",
    "print(\"The date is\", dt_object)\n",
    "\n",
    "print(date.today())\n",
    "birthday = date(1984, 7, 25)\n",
    "print(date.today() - birthday)"
   ]
  },
  {
   "cell_type": "code",
   "execution_count": 464,
   "id": "8d718cdd",
   "metadata": {},
   "outputs": [
    {
     "name": "stdout",
     "output_type": "stream",
     "text": [
      "strptime(string, format) -> struct_time\n",
      "\n",
      "Parse a string to a time tuple according to a format specification.\n",
      "See the library reference manual for formatting codes (same as\n",
      "strftime()).\n",
      "\n",
      "Commonly used format codes:\n",
      "\n",
      "%Y  Year with century as a decimal number.\n",
      "%m  Month as a decimal number [01,12].\n",
      "%d  Day of the month as a decimal number [01,31].\n",
      "%H  Hour (24-hour clock) as a decimal number [00,23].\n",
      "%M  Minute as a decimal number [00,59].\n",
      "%S  Second as a decimal number [00,61].\n",
      "%z  Time zone offset from UTC.\n",
      "%a  Locale's abbreviated weekday name.\n",
      "%A  Locale's full weekday name.\n",
      "%b  Locale's abbreviated month name.\n",
      "%B  Locale's full month name.\n",
      "%c  Locale's appropriate date and time representation.\n",
      "%I  Hour (12-hour clock) as a decimal number [01,12].\n",
      "%p  Locale's equivalent of either AM or PM.\n",
      "\n",
      "Other codes may be available on your platform.  See documentation for\n",
      "the C library strftime function.\n",
      "\n"
     ]
    }
   ],
   "source": [
    "print(time.strptime.__doc__)"
   ]
  },
  {
   "cell_type": "markdown",
   "id": "d7e56877",
   "metadata": {},
   "source": [
    "## compile()\n",
    "- If the Python code is in string form or is an AST object, and you want to change it to a code object, then you can use compile() method.\n",
    "- The code object returned by the compile() method can later be called using methods like: exec() and eval() which will execute dynamically generated Python code.\n",
    "\n",
    "compile(source, filename, mode, flags=0, dont_inherit=False, optimize=-1)\n",
    "\n",
    "- Source – It can be a normal string, a byte string, or an AST object\n",
    "- Filename -This is the file from which the code was read. If it wasn’t read from a file, you can give a name yourself.\n",
    "- Mode – Mode can be exec, eval or single.\n",
    "  - a. eval – If the source is a single expression.\n",
    "  - b. exec – It can take a block of a code that has Python statements, class and functions and so on.\n",
    "  - c. single – It is used if consists of a single interactive statement\n"
   ]
  },
  {
   "cell_type": "code",
   "execution_count": null,
   "id": "d5092d40",
   "metadata": {},
   "outputs": [],
   "source": [
    "# Creating sample sourcecode to multiply two variables\n",
    "# x and y.\n",
    "srcCode = 'x = 10\\ny = 20\\nmul = x * y\\nprint(\"mul =\", mul)'\n",
    "\n",
    "# Converting above source code to an executable\n",
    "execCode = compile(srcCode, 'mulstring', 'exec')\n",
    "\n",
    "# Running the executable code.\n",
    "exec(execCode)"
   ]
  },
  {
   "cell_type": "markdown",
   "id": "ef91f145",
   "metadata": {},
   "source": [
    "## caching "
   ]
  },
  {
   "cell_type": "markdown",
   "id": "b2c7ace5-43f0-4e69-959f-17aa7e0d03a8",
   "metadata": {},
   "source": [
    "## ord() & chr - Char to Int and back\n",
    "- chr() is used for converting an Integer to a Character, while the function \n",
    "- ord() is used to do the reverse, i.e, convert a Character to an Integer."
   ]
  },
  {
   "cell_type": "code",
   "execution_count": null,
   "id": "23f49df4-7e3a-407f-b970-e588f38558d6",
   "metadata": {
    "collapsed": true,
    "jupyter": {
     "outputs_hidden": true
    }
   },
   "outputs": [
    {
     "name": "stdout",
     "output_type": "stream",
     "text": [
      "[97, 98, 99, 100, 101, 102, 103, 104, 105, 106, 107, 108, 109, 110, 111, 112, 113, 114, 115, 116, 117, 118, 119, 120, 121, 122]\n",
      "['a', 'b', 'c', 'd', 'e', 'f', 'g', 'h', 'i', 'j', 'k', 'l', 'm', 'n', 'o', 'p', 'q', 'r', 's', 't', 'u', 'v', 'w', 'x', 'y', 'z']\n"
     ]
    }
   ],
   "source": [
    "def character_range(a, b):\n",
    "    for char in range(ord(a), ord(b) + 1):\n",
    "        yield (char)\n",
    "\n",
    "print(list(character_range(\"a\", \"z\")))\n",
    "unicode = [chr(x) for x in character_range(\"a\", \"z\")]  # one-character string of an integer code point.\n",
    "print(unicode)"
   ]
  },
  {
   "cell_type": "code",
   "execution_count": null,
   "id": "ede2f623",
   "metadata": {},
   "outputs": [
    {
     "name": "stdout",
     "output_type": "stream",
     "text": [
      "65\n",
      "A\n",
      "bytearray(b'\\x00\\x00\\x00\\x00')\n",
      "b'\\x00\\x00\\x00\\x00'\n"
     ]
    }
   ],
   "source": [
    "print(chr(65))  # one-character string of an integer code point.\n",
    "print(bytearray(4))  # The bytearray() method returns a bytearray object which is an array of the given bytes.\n",
    "print(bytes(4))  # Returns a bytes object"
   ]
  },
  {
   "cell_type": "markdown",
   "id": "dfad6659-830e-4921-a819-4fb9e781eb15",
   "metadata": {},
   "source": [
    "## Keywords "
   ]
  },
  {
   "cell_type": "code",
   "execution_count": null,
   "id": "932d27e9-3046-4af1-99e1-1c23bbfe8a7d",
   "metadata": {
    "collapsed": true,
    "jupyter": {
     "outputs_hidden": true
    }
   },
   "outputs": [
    {
     "name": "stdout",
     "output_type": "stream",
     "text": [
      "['False', 'None', 'True', 'and', 'as', 'assert', 'async', 'await', 'break', 'class', 'continue', 'def', 'del', 'elif', 'else', 'except', 'finally', 'for', 'from', 'global', 'if', 'import', 'in', 'is', 'lambda', 'nonlocal', 'not', 'or', 'pass', 'raise', 'return', 'try', 'while', 'with', 'yield']\n",
      "\n",
      "Here is a list of the Python keywords.  Enter any keyword to get more help.\n",
      "\n",
      "False               class               from                or\n",
      "None                continue            global              pass\n",
      "True                def                 if                  raise\n",
      "and                 del                 import              return\n",
      "as                  elif                in                  try\n",
      "assert              else                is                  while\n",
      "async               except              lambda              with\n",
      "await               finally             nonlocal            yield\n",
      "break               for                 not                 \n",
      "\n",
      "None\n",
      "The \"raise\" statement\n",
      "*********************\n",
      "\n",
      "   raise_stmt ::= \"raise\" [expression [\"from\" expression]]\n",
      "\n",
      "If no expressions are present, \"raise\" re-raises the last exception\n",
      "that was active in the current scope.  If no exception is active in\n",
      "the current scope, a \"RuntimeError\" exception is raised indicating\n",
      "that this is an error.\n",
      "\n",
      "Otherwise, \"raise\" evaluates the first expression as the exception\n",
      "object.  It must be either a subclass or an instance of\n",
      "\"BaseException\". If it is a class, the exception instance will be\n",
      "obtained when needed by instantiating the class with no arguments.\n",
      "\n",
      "The *type* of the exception is the exception instance’s class, the\n",
      "*value* is the instance itself.\n",
      "\n",
      "A traceback object is normally created automatically when an exception\n",
      "is raised and attached to it as the \"__traceback__\" attribute, which\n",
      "is writable. You can create an exception and set your own traceback in\n",
      "one step using the \"with_traceback()\" exception method (which returns\n",
      "the same exception instance, with its traceback set to its argument),\n",
      "like so:\n",
      "\n",
      "   raise Exception(\"foo occurred\").with_traceback(tracebackobj)\n",
      "\n",
      "The \"from\" clause is used for exception chaining: if given, the second\n",
      "*expression* must be another exception class or instance. If the\n",
      "second expression is an exception instance, it will be attached to the\n",
      "raised exception as the \"__cause__\" attribute (which is writable). If\n",
      "the expression is an exception class, the class will be instantiated\n",
      "and the resulting exception instance will be attached to the raised\n",
      "exception as the \"__cause__\" attribute. If the raised exception is not\n",
      "handled, both exceptions will be printed:\n",
      "\n",
      "   >>> try:\n",
      "   ...     print(1 / 0)\n",
      "   ... except Exception as exc:\n",
      "   ...     raise RuntimeError(\"Something bad happened\") from exc\n",
      "   ...\n",
      "   Traceback (most recent call last):\n",
      "     File \"<stdin>\", line 2, in <module>\n",
      "   ZeroDivisionError: division by zero\n",
      "\n",
      "   The above exception was the direct cause of the following exception:\n",
      "\n",
      "   Traceback (most recent call last):\n",
      "     File \"<stdin>\", line 4, in <module>\n",
      "   RuntimeError: Something bad happened\n",
      "\n",
      "A similar mechanism works implicitly if an exception is raised inside\n",
      "an exception handler or a \"finally\" clause: the previous exception is\n",
      "then attached as the new exception’s \"__context__\" attribute:\n",
      "\n",
      "   >>> try:\n",
      "   ...     print(1 / 0)\n",
      "   ... except:\n",
      "   ...     raise RuntimeError(\"Something bad happened\")\n",
      "   ...\n",
      "   Traceback (most recent call last):\n",
      "     File \"<stdin>\", line 2, in <module>\n",
      "   ZeroDivisionError: division by zero\n",
      "\n",
      "   During handling of the above exception, another exception occurred:\n",
      "\n",
      "   Traceback (most recent call last):\n",
      "     File \"<stdin>\", line 4, in <module>\n",
      "   RuntimeError: Something bad happened\n",
      "\n",
      "Exception chaining can be explicitly suppressed by specifying \"None\"\n",
      "in the \"from\" clause:\n",
      "\n",
      "   >>> try:\n",
      "   ...     print(1 / 0)\n",
      "   ... except:\n",
      "   ...     raise RuntimeError(\"Something bad happened\") from None\n",
      "   ...\n",
      "   Traceback (most recent call last):\n",
      "     File \"<stdin>\", line 4, in <module>\n",
      "   RuntimeError: Something bad happened\n",
      "\n",
      "Additional information on exceptions can be found in section\n",
      "Exceptions, and information about handling exceptions is in section\n",
      "The try statement.\n",
      "\n",
      "Changed in version 3.3: \"None\" is now permitted as \"Y\" in \"raise X\n",
      "from Y\".\n",
      "\n",
      "New in version 3.3: The \"__suppress_context__\" attribute to suppress\n",
      "automatic display of the exception context.\n",
      "\n",
      "Related help topics: EXCEPTIONS\n",
      "\n"
     ]
    }
   ],
   "source": [
    "import keyword\n",
    "print(keyword.kwlist)\n",
    "print(help(\"keywords\"))\n",
    "help(\"raise\")"
   ]
  },
  {
   "cell_type": "markdown",
   "id": "f94c9003",
   "metadata": {},
   "source": [
    "## file handling - open()\n",
    "- The open() function takes two parameters; filename, and mode.\n",
    "-  There are four different methods (modes) for opening a file:\n",
    "- \"r\" - Read - Default value. Opens a file for reading, error if the file does not exist\n",
    "-  \"a\" - Append - Opens a file for appending, creates the file if it does not exist\n",
    "-  \"w\" - Write - Opens a file for writing, creates the file if it does not exist"
   ]
  },
  {
   "cell_type": "code",
   "execution_count": null,
   "id": "28ea51c3-a7ac-471c-8ad1-20f16557f5ed",
   "metadata": {
    "collapsed": true,
    "jupyter": {
     "outputs_hidden": true
    }
   },
   "outputs": [
    {
     "name": "stdout",
     "output_type": "stream",
     "text": [
      "pwd     # parent working dir\n",
      "ls      # list\n",
      "cd      # change dir\n",
      "\n",
      "ls -a   # show hidden .files too\n",
      "ls -la  # long form and hidden\n",
      "\n",
      "# relative path\n",
      ".    # current dir\n",
      "..   # parent dir\n",
      "\n"
     ]
    }
   ],
   "source": [
    "with open('unix console.txt', 'r', encoding='utf-8') as fp:\n",
    "    # read sample.txt\n",
    "    print(fp.read())"
   ]
  },
  {
   "cell_type": "markdown",
   "id": "5ec6f907",
   "metadata": {},
   "source": [
    "## Path and listing files and directories"
   ]
  },
  {
   "cell_type": "code",
   "execution_count": null,
   "id": "8a7bb5f6",
   "metadata": {},
   "outputs": [],
   "source": [
    "from pathlib import Path\n",
    "path = Path(\"ecommerce\")    # relative path start from current directory\n",
    "p = Path(\"/home/mz/PyScripts/venv001/\")    # absolute Path: usr/local/bin # starts from root\n",
    "print(path.exists())\n",
    "path = Path(\"emails\")\n",
    "path.mkdir()              # create a directory\n",
    "print(Path(\"emails\"))\n",
    "print(path.rmdir())       # when your in the dir erase it\n",
    "path = Path()               # go to current dir\n",
    "for file in path.glob (\"*.txt\"):\n",
    "   print(file)\n"
   ]
  },
  {
   "cell_type": "markdown",
   "id": "0ceda73d",
   "metadata": {},
   "source": [
    "## glob \n",
    "- module provides a function for making file lists from directory wildcard searches:"
   ]
  },
  {
   "cell_type": "code",
   "execution_count": null,
   "id": "7e9d4378",
   "metadata": {},
   "outputs": [
    {
     "name": "stdout",
     "output_type": "stream",
     "text": [
      "['Math_Statistics.ipynb', 'Numpy.ipynb', '01_Python_Basics.ipynb', 'functions.ipynb', 'Pandas.ipynb', 'standard_library_tour.ipynb', 'np_pd_plt_sns_intro.ipynb', '02_Python_Advanced.ipynb', 'automate_stuff.ipynb']\n"
     ]
    }
   ],
   "source": [
    "import glob\n",
    "print(glob.glob('*.ipynb'))\n"
   ]
  },
  {
   "cell_type": "markdown",
   "id": "b88bb12f",
   "metadata": {},
   "source": [
    "## timeit - performance measurement\n",
    "- timeit module quickly demonstrates a modest performance advantage\n",
    "- https://www.guru99.com/timeit-python-examples.html"
   ]
  },
  {
   "cell_type": "code",
   "execution_count": null,
   "id": "ef000886",
   "metadata": {},
   "outputs": [
    {
     "name": "stdout",
     "output_type": "stream",
     "text": [
      "0.08800524700200185\n"
     ]
    }
   ],
   "source": [
    "import timeit\n",
    "\n",
    "import_module = \"import random\"\n",
    "testcode = ''' \n",
    "def test(): \n",
    "    return random.randint(10, 100)\n",
    "'''\n",
    "print(timeit.timeit(stmt=testcode, setup=import_module))\n"
   ]
  },
  {
   "cell_type": "markdown",
   "id": "262f0442",
   "metadata": {},
   "source": [
    "## data compression\n",
    "- Common data archiving and compression formats are directly supported by modules\n",
    "- including: zlib, gzip, bz2, lzma, zipfile and tarfile.\n"
   ]
  },
  {
   "cell_type": "code",
   "execution_count": null,
   "id": "48bca758",
   "metadata": {},
   "outputs": [],
   "source": [
    "import zlib\n",
    "s = b'witch which has which witches wrist watch'\n",
    "print(len(s))\n",
    "t = zlib.compress(s)\n",
    "print(t)\n",
    "print(len(t))\n",
    "print(zlib.decompress(t))\n",
    "print(zlib.crc32(s))\n"
   ]
  }
 ],
 "metadata": {
  "interpreter": {
   "hash": "ad7afd56c4a9327988b254949fc9ff6c4de57fd051da33a62b5f87e3ddafe8d2"
  },
  "kernelspec": {
   "display_name": "Python 3.8.12 64-bit ('lewagon')",
   "language": "python",
   "name": "python3"
  },
  "language_info": {
   "codemirror_mode": {
    "name": "ipython",
    "version": 3
   },
   "file_extension": ".py",
   "mimetype": "text/x-python",
   "name": "python",
   "nbconvert_exporter": "python",
   "pygments_lexer": "ipython3",
   "version": "3.8.12"
  },
  "widgets": {
   "application/vnd.jupyter.widget-state+json": {
    "state": {},
    "version_major": 2,
    "version_minor": 0
   }
  }
 },
 "nbformat": 4,
 "nbformat_minor": 5
}
