{
 "cells": [
  {
   "cell_type": "markdown",
   "metadata": {},
   "source": [
    "# API's\n",
    "We can use a simple *GET* request to retrieve information from the [OpenNotify](http://open-notify.org/) API.\n",
    "\n",
    "OpenNotify has several API **endpoints**. An endpoint is a server route for retrieving specific data from an API. <br>\n",
    "For example, the `/comments` endpoint on the reddit API might retrieve information about comments, <br>\n",
    "while the `/users` endpoint might retrieve data about users.\n",
    "\n",
    "The server will send a status code indicating the success or failure of your request. <br>\n",
    "You can get the status code of the response from response.status_code. <br>\n",
    "We can use a simple *GET* request to retrieve information from the [OpenNotify](http://open-notify.org/) API."
   ]
  },
  {
   "cell_type": "code",
   "execution_count": 23,
   "metadata": {},
   "outputs": [
    {
     "name": "stdout",
     "output_type": "stream",
     "text": [
      "200\n"
     ]
    },
    {
     "data": {
      "text/plain": [
       "b'{\"iss_position\": {\"longitude\": \"105.3414\", \"latitude\": \"48.1592\"}, \"timestamp\": 1668788643, \"message\": \"success\"}'"
      ]
     },
     "execution_count": 23,
     "metadata": {},
     "output_type": "execute_result"
    }
   ],
   "source": [
    "# Make a get request to get the latest position of the ISS from the OpenNotify API.\n",
    "import requests\n",
    "response = requests.get(\"http://api.open-notify.org/iss-now.json\")\n",
    "response.content"
   ]
  },
  {
   "cell_type": "markdown",
   "metadata": {},
   "source": [
    "## Parameters\n",
    "some API's need additional parameters which can be added in the request in two ways."
   ]
  },
  {
   "cell_type": "code",
   "execution_count": 25,
   "metadata": {},
   "outputs": [
    {
     "name": "stdout",
     "output_type": "stream",
     "text": [
      "200\n",
      "b'{\\n    \"error\": false,\\n    \"category\": \"Programming\",\\n    \"type\": \"single\",\\n    \"joke\": \"Documentation is like sex:\\\\nWhen it\\'s good, it\\'s very good.\\\\nWhen it\\'s bad, it\\'s better than nothing...\",\\n    \"flags\": {\\n        \"nsfw\": true,\\n        \"religious\": false,\\n        \"political\": false,\\n        \"racist\": false,\\n        \"sexist\": false,\\n        \"explicit\": false\\n    },\\n    \"safe\": false,\\n    \"id\": 305,\\n    \"lang\": \"en\"\\n}'\n",
      "200\n",
      "b'{\\n    \"error\": false,\\n    \"category\": \"Programming\",\\n    \"type\": \"single\",\\n    \"joke\": \"Documentation is like sex:\\\\nWhen it\\'s good, it\\'s very good.\\\\nWhen it\\'s bad, it\\'s better than nothing...\",\\n    \"flags\": {\\n        \"nsfw\": true,\\n        \"religious\": false,\\n        \"political\": false,\\n        \"racist\": false,\\n        \"sexist\": false,\\n        \"explicit\": false\\n    },\\n    \"safe\": false,\\n    \"id\": 305,\\n    \"lang\": \"en\"\\n}'\n"
     ]
    }
   ],
   "source": [
    "# Set up the parameters we want to pass to the API.\n",
    "# This is the latitude and longitude of New York City.\n",
    "parameters = {\"type\": \"single\", \"contains\": \"sex\", \"amount\": 1}\n",
    "\n",
    "# Make a get request with the parameters.\n",
    "response1 = requests.get(\"https://v2.jokeapi.dev/joke/Any\", params=parameters)\n",
    "\n",
    "print(response1.status_code)\n",
    "print(response1.content)\n",
    "\n",
    "# This gets the same data as the command above\n",
    "response2 = requests.get(\"https://v2.jokeapi.dev/joke/Any?type=single&contains=sex&amount=1\")\n",
    "\n",
    "print(response2.status_code)\n",
    "print(response2.content)"
   ]
  },
  {
   "cell_type": "markdown",
   "metadata": {},
   "source": [
    "## JSON\n",
    "JSON is the main format for sending and receiving data through APIs. <br>\n",
    "This format encodes data structures like lists and dictionaries as strings to ensure that machines can read them easily. <br> Python offers great support for JSON through its `json` library. We can convert *lists* and *dictionaries* to JSON, and vice versa. \n",
    "\n",
    "The JSON library has two main methods:\n",
    "\n",
    "- `dumps` — takes in a Python object and converts it to a string\n",
    "- `loads` — takes in a JSON string and converts it to a Python object"
   ]
  },
  {
   "cell_type": "code",
   "execution_count": 16,
   "metadata": {},
   "outputs": [
    {
     "name": "stdout",
     "output_type": "stream",
     "text": [
      "<class 'list'>\n",
      "<class 'str'>\n",
      "<class 'list'>\n",
      "<class 'str'>\n",
      "<class 'dict'>\n"
     ]
    }
   ],
   "source": [
    "# Make a list of fast food chains.\n",
    "best_food_chains = [\"Taco Bell\", \"Shake Shack\", \"Chipotle\"]\n",
    "print(type(best_food_chains))\n",
    "\n",
    "# Import the JSON library.\n",
    "import json\n",
    "\n",
    "# Use json.dumps to convert best_food_chains to a string.\n",
    "best_food_chains_string = json.dumps(best_food_chains)\n",
    "print(type(best_food_chains_string))\n",
    "\n",
    "# Convert best_food_chains_string back to a list.\n",
    "print(type(json.loads(best_food_chains_string)))\n",
    "\n",
    "# Make a dictionary\n",
    "fast_food_franchise = {\n",
    "    \"Subway\": 24722,\n",
    "    \"McDonalds\": 14098,\n",
    "    \"Starbucks\": 10821,\n",
    "    \"Pizza Hut\": 7600\n",
    "}\n",
    "\n",
    "# We can also dump a dictionary to a string and load it.\n",
    "fast_food_franchise_string = json.dumps(fast_food_franchise)\n",
    "print(type(fast_food_franchise_string))\n",
    "\n",
    "fast_food_franchise_2=json.loads(fast_food_franchise_string)\n",
    "print(type(fast_food_franchise_2))"
   ]
  },
  {
   "cell_type": "markdown",
   "metadata": {},
   "source": [
    "We can get the content of a response as a Python object by using the .json() method on the response."
   ]
  },
  {
   "cell_type": "code",
   "execution_count": 22,
   "metadata": {},
   "outputs": [
    {
     "name": "stdout",
     "output_type": "stream",
     "text": [
      "creep\n",
      "A young, [studly] man with a particularly good butt (from excessive [stair] training). A particularly common jargon among young, female [Dunkin Donuts] employees.\n",
      "I thought that creep was going to stay there for [an hour].... *[sigh] of [longing]*\n"
     ]
    }
   ],
   "source": [
    "import requests\n",
    "import os\n",
    "api_key = os.environ.get(\"RapidAPI_Key\")\n",
    "\n",
    "url = \"https://urban-dictionary7.p.rapidapi.com/v0/define\"\n",
    "\n",
    "querystring = {\"term\":\"creep\"}\n",
    "\n",
    "headers = {\n",
    "\t\"X-RapidAPI-Key\": api_key,\n",
    "\t\"X-RapidAPI-Host\": \"urban-dictionary7.p.rapidapi.com\"\n",
    "}\n",
    "\n",
    "response = requests.request(\"GET\", url, headers=headers, params=querystring)\n",
    "\n",
    "json_data = response.json()\n",
    "print(json_data['list'][0]['word'])\n",
    "print(json_data['list'][0]['definition'])\n",
    "print(json_data['list'][0]['example'])"
   ]
  },
  {
   "cell_type": "markdown",
   "metadata": {},
   "source": [
    "## Content Type\n",
    "\n",
    "The server sends more than a status code and the data when it generates a response. It also sends metadata with information on how it generated the data and how to decode it. This information appears in the response headers. We can access it using the .headers property.\n",
    "\n",
    "The headers will appear as a dictionary. For now, the content-type within the headers is the most important key. It tells us the format of the response, and how to decode it. For the OpenNotify API, the format is JSON, so we were able to decode it with JSON earlier."
   ]
  },
  {
   "cell_type": "code",
   "execution_count": 29,
   "metadata": {},
   "outputs": [
    {
     "name": "stdout",
     "output_type": "stream",
     "text": [
      "{'Server': 'nginx/1.10.3', 'Date': 'Fri, 18 Nov 2022 16:37:17 GMT', 'Content-Type': 'application/json', 'Content-Length': '113', 'Connection': 'keep-alive', 'access-control-allow-origin': '*'}\n"
     ]
    },
    {
     "data": {
      "text/plain": [
       "'application/json'"
      ]
     },
     "execution_count": 29,
     "metadata": {},
     "output_type": "execute_result"
    }
   ],
   "source": [
    "import requests\n",
    "response = requests.get(\"http://api.open-notify.org/iss-now.json\")\n",
    "print(response.headers)\n",
    "response.headers['Content-Type']"
   ]
  }
 ],
 "metadata": {
  "kernelspec": {
   "display_name": "Python 3.10.5 64-bit ('bayes')",
   "language": "python",
   "name": "python3"
  },
  "language_info": {
   "codemirror_mode": {
    "name": "ipython",
    "version": 3
   },
   "file_extension": ".py",
   "mimetype": "text/x-python",
   "name": "python",
   "nbconvert_exporter": "python",
   "pygments_lexer": "ipython3",
   "version": "3.10.5"
  },
  "orig_nbformat": 4,
  "vscode": {
   "interpreter": {
    "hash": "7ada1a2f9ff8c705303b373713926c84dd2165bd628243d92436ff90f342877c"
   }
  }
 },
 "nbformat": 4,
 "nbformat_minor": 2
}
