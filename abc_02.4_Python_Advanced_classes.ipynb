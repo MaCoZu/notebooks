{
 "cells": [
  {
   "cell_type": "markdown",
   "id": "0133975f",
   "metadata": {},
   "source": [
    "# Classes and Objects\n",
    "- Almost everything in Python is an object, with its properties and methods.\n",
    "- Object oriented programming OOP is about data (state) and behavior\n",
    "- A __Class__ is like an object constructor, or a \"blueprint\" for creating objects.\n",
    "- a class gives the shape to an object and contains the default data/instance __attribute__\n",
    "- __objects__ are an Instance of a class - an instance is an object that is built from a class and contains real data. \n",
    "- the __state__ of an object is stored in instance attributes \n",
    "- __behavior__ is define by instance functions in the class definition\n",
    "- behavoir:  set of methods\n",
    "- Put another way, a class is like a form or questionnaire. An instance is like a form that has been filled out with information."
   ]
  },
  {
   "cell_type": "code",
   "execution_count": null,
   "id": "b58402b8",
   "metadata": {},
   "outputs": [],
   "source": [
    "class Point:                                        # Uppercase for classes Pascal-naming-convention\n",
    "    def __init__(self, x=0, y=0):       # initialise constructor with default values\n",
    "        self.x = x                                    # self is a reference to the current obeject and self.x = x gives a value to the attribute self.x\n",
    "        self.y = y                                    #  \n",
    "\n",
    "    # instance methods - Instance methods are functions that are defined inside a class \n",
    "    # and can only be called from an instance of that class. Just like .__init__(), an instance method’s first parameter is always self.\n",
    "    def mov(self):\n",
    "        print(\"move\")\n",
    "\n",
    "    def draw(self):\n",
    "        print(\"draw\")"
   ]
  },
  {
   "cell_type": "markdown",
   "id": "e2d6e35b",
   "metadata": {},
   "source": [
    "- object - is an instance of a class\n",
    "- one of the biggest advantages of using classes to organize data <br>\n",
    " is that instances are guaranteed to have the attributes you expect. "
   ]
  },
  {
   "cell_type": "code",
   "execution_count": null,
   "id": "17501e0f",
   "metadata": {},
   "outputs": [
    {
     "name": "stdout",
     "output_type": "stream",
     "text": [
      "10\n",
      "draw\n",
      "0\n",
      "10 20\n"
     ]
    }
   ],
   "source": [
    "point1 = Point()        # instanciate an object of a Class - specific object of type Point\n",
    "point1.x = 10            # attributes of a particular object\n",
    "point1.y = 20            # y attribute\n",
    "\n",
    "print(point1.x)         # we can access the properties of that object.\n",
    "point1.draw()           # method we defined for the class\n",
    "\n",
    "point2 = Point()        # second object\n",
    "print(point2.x)         # there is no attribute x\n",
    "\n",
    "point3 = Point(10, 20)  # 10 is passed to the x attribute 20 to the y attribute\n",
    "print(point3.x, point3.y)"
   ]
  },
  {
   "cell_type": "markdown",
   "id": "812e6bac",
   "metadata": {},
   "source": [
    "## the constructor - def \\_\\_init\\_\\_(self, x, y): \n",
    "- Every time anobject is created, .__init__() sets the initial state of the object by assigning the values of the object’s properties. \n",
    "- That is, .__\\_\\_init\\_\\_()__ initializes each new instance of the class.\n",
    "\n",
    "\n",
    "- When a new class instance is created, the instance is automatically passed to the self parameter in .__init__() so that new attributes can be defined on the object.\n",
    "- The self parameter is a reference to the current instance of the class, </br> \n",
    "and is used to access variables that belong to the class. **It does not have to be named self, </br> \n",
    "you can call it whatever you like**, but it has to be the first parameter of any function in the class:\n",
    "\n",
    "- Attributes created in .__init__() are called __instance attributes__. An instance attribute’s value is specific to a particular instance of the class. \n",
    "- On the other hand, __class attributes__ are attributes that have the same value for all class instances. You can define a class attribute by assigning a value to a variable name outside of .__init__().\n"
   ]
  },
  {
   "cell_type": "code",
   "execution_count": null,
   "id": "1a899065",
   "metadata": {},
   "outputs": [
    {
     "name": "stdout",
     "output_type": "stream",
     "text": [
      "John\n",
      "Hi it's me John, i'm 36 years old\n",
      "no_name / no_age\n",
      "17\n",
      "Hi it's me Sascha, i'm 17 years old\n"
     ]
    }
   ],
   "source": [
    "class Person:\n",
    "    species = \"human\"  # class attribute\n",
    "    \n",
    "    # here 'self' is named person, the self parameter allows us to access the attributes/ methods of a class\n",
    "    # self (or whatever name you give it) references to the current object\n",
    "    def __init__(person, name=\"no_name\", age=\"no_age\"):\n",
    "        person.name = name    # self (here 'person') is placeholder first for the class name then for the object name\n",
    "        person.age = age            # \n",
    "        \n",
    "    # this  is a class method which every object of that class inherits\n",
    "    # 'instance' is also just a placeholder for the instance name\n",
    "    def talk(instance): \n",
    "        print(f\"Hi it's me {instance.name}, i'm {instance.age} years old\")\n",
    "\n",
    "# Creating a new object from a class is called instantiating an object. Instances are unique.\n",
    "p1 = Person(\"John\", 36)  # p1 is an instance of the class Person, self in class becomes p1\n",
    "print(p1.name)\n",
    "p1.talk()                              # the instance p1 inerited the class method 'talk'\n",
    "\n",
    "p2 = Person()\n",
    "print(p2.name, \"/\", p2.age)\n",
    "p2.name =\"Sascha\"\n",
    "p2.age = \"17\"  # modify object properties\n",
    "print(p2.age)\n",
    "p2.talk()"
   ]
  },
  {
   "cell_type": "code",
   "execution_count": null,
   "id": "17501e0f",
   "metadata": {},
   "outputs": [
    {
     "name": "stdout",
     "output_type": "stream",
     "text": [
      "10\n",
      "draw\n",
      "0\n",
      "10 20\n"
     ]
    }
   ],
   "source": [
    "point1 = Point()        # instanciate an object of a Class - specific object of type Point\n",
    "point1.x = 10            # attributes of a particular object\n",
    "point1.y = 20            # y attribute\n",
    "\n",
    "print(point1.x)         # we can access the properties of that object.\n",
    "point1.draw()           # method we defined for the class\n",
    "\n",
    "point2 = Point()        # second object\n",
    "print(point2.x)         # there is no attribute x\n",
    "\n",
    "point3 = Point(10, 20)  # 10 is passed to the x attribute 20 to the y attribute\n",
    "print(point3.x, point3.y)"
   ]
  },
  {
   "cell_type": "code",
   "execution_count": null,
   "id": "911bf6f1",
   "metadata": {},
   "outputs": [
    {
     "name": "stdout",
     "output_type": "stream",
     "text": [
      "17\n"
     ]
    },
    {
     "ename": "AttributeError",
     "evalue": "'Person' object has no attribute 'myfct2'",
     "output_type": "error",
     "traceback": [
      "\u001b[0;31m---------------------------------------------------------------------------\u001b[0m\n",
      "\u001b[0;31mAttributeError\u001b[0m                            Traceback (most recent call last)\n",
      "\u001b[0;32m/tmp/ipykernel_3124/3236068756.py\u001b[0m in \u001b[0;36m<module>\u001b[0;34m\u001b[0m\n",
      "\u001b[1;32m      2\u001b[0m \u001b[0;31m#del p2  # delete object\u001b[0m\u001b[0;34m\u001b[0m\u001b[0;34m\u001b[0m\u001b[0;34m\u001b[0m\u001b[0m\n",
      "\u001b[1;32m      3\u001b[0m \u001b[0mprint\u001b[0m\u001b[0;34m(\u001b[0m\u001b[0mp2\u001b[0m\u001b[0;34m.\u001b[0m\u001b[0mage\u001b[0m\u001b[0;34m)\u001b[0m\u001b[0;34m\u001b[0m\u001b[0;34m\u001b[0m\u001b[0m\n",
      "\u001b[0;32m----> 4\u001b[0;31m \u001b[0mp2\u001b[0m\u001b[0;34m.\u001b[0m\u001b[0mmyfct2\u001b[0m\u001b[0;34m(\u001b[0m\u001b[0;34m)\u001b[0m\u001b[0;34m\u001b[0m\u001b[0;34m\u001b[0m\u001b[0m\n",
      "\u001b[0m\n",
      "\u001b[0;31mAttributeError\u001b[0m: 'Person' object has no attribute 'myfct2'"
     ]
    }
   ],
   "source": [
    "del p2.name  # delete properties\n",
    "#del p2  # delete object\n",
    "print(p2.age)\n",
    "p2.myfct2()\n"
   ]
  },
  {
   "cell_type": "markdown",
   "id": "2ab0b6dc",
   "metadata": {},
   "source": [
    "## setattr, hasattr, getattr, delattr"
   ]
  },
  {
   "cell_type": "code",
   "execution_count": null,
   "id": "36fd0195",
   "metadata": {},
   "outputs": [
    {
     "name": "stdout",
     "output_type": "stream",
     "text": [
      "False\n",
      "True\n"
     ]
    }
   ],
   "source": [
    "print(hasattr(p1, \"profession\"))\n",
    "print(hasattr(p1, \"name\"))\n"
   ]
  },
  {
   "cell_type": "code",
   "execution_count": null,
   "id": "23d8a81e",
   "metadata": {},
   "outputs": [
    {
     "name": "stdout",
     "output_type": "stream",
     "text": [
      "True\n"
     ]
    }
   ],
   "source": [
    "setattr(Person, \"health\", \"good\")  # set a class attibute with a default\n",
    "print(hasattr(Person, \"health\"))\n"
   ]
  },
  {
   "cell_type": "code",
   "execution_count": null,
   "id": "1a1d306e",
   "metadata": {},
   "outputs": [
    {
     "name": "stdout",
     "output_type": "stream",
     "text": [
      "good\n",
      "John\n"
     ]
    }
   ],
   "source": [
    "print(getattr(p1, \"health\"))\n",
    "print(getattr(p1, \"name\"))"
   ]
  },
  {
   "cell_type": "code",
   "execution_count": null,
   "id": "0a885946",
   "metadata": {},
   "outputs": [
    {
     "name": "stdout",
     "output_type": "stream",
     "text": [
      "False\n"
     ]
    }
   ],
   "source": [
    "delattr(Person, \"health\")\n",
    "print(hasattr(Person, \"health\"))"
   ]
  },
  {
   "cell_type": "code",
   "execution_count": null,
   "id": "7bffc0d8",
   "metadata": {},
   "outputs": [
    {
     "name": "stdout",
     "output_type": "stream",
     "text": [
      "<__main__.Person object at 0x7f79c5251160>\n"
     ]
    }
   ],
   "source": [
    "print(p1)"
   ]
  },
  {
   "cell_type": "markdown",
   "id": "7bc7828d",
   "metadata": {},
   "source": [
    "## inhertance\n",
    "-  inheritance - reuse code, define once (dry)\n",
    "- Instances of child classes inherit all of the attributes and methods of the parent class:\n",
    "- Child classes can override or extend the attributes and methods of parent classes. \n",
    "- In other words, child classes inherit all of the parent’s attributes and methods but can also specify attributes and methods that are unique to themselves."
   ]
  },
  {
   "cell_type": "code",
   "execution_count": null,
   "id": "41888c68",
   "metadata": {},
   "outputs": [
    {
     "name": "stdout",
     "output_type": "stream",
     "text": [
      "I'm Jesus, 24 years old, and male\n"
     ]
    }
   ],
   "source": [
    "# parent class with attributes and methods\n",
    "class Human():\n",
    "    def __init__(self, name=\"nobody\", age=\"30 something\", gender=\"open-mided\"):\n",
    "        self.name=name\n",
    "        self.age=age\n",
    "        self.gender=gender\n",
    "\n",
    "    def talk(self):\n",
    "        print(f\"I'm {self.name}, {self.age} years old, and {self.gender}\")\n",
    "\n",
    "human = Human(\"Jesus\", 24, \"male\")\n",
    "human.gender\n",
    "human.talk()\n"
   ]
  },
  {
   "cell_type": "code",
   "execution_count": null,
   "id": "5c1a14e8",
   "metadata": {},
   "outputs": [
    {
     "name": "stdout",
     "output_type": "stream",
     "text": [
      "I'm Igor, 34 years old, and divers\n",
      "Igor, is a construction worker and has experience as bootlegger\n"
     ]
    }
   ],
   "source": [
    "# child class - inherits from parent class (Human)\n",
    "class Worker(Human):\n",
    "\n",
    "    def __init__(self, name, age, gender, profession, experience): # all attributes of Worker\n",
    "        super().__init__(name, age, gender) # attributes of parent class, which the child inherits\n",
    "        self.profession = profession        # add specific Worker attributes\n",
    "        self.experience = experience\n",
    "\n",
    "    # specfific Worker method\n",
    "    def skills(self):\n",
    "        print(f\"{self.name}, is a {self.profession} and has experience as {self.experience}\")\n",
    "\n",
    "\n",
    "worker = Worker('Igor', 34, 'divers', 'construction worker', 'bootlegger')\n",
    "worker.talk()\n",
    "worker.skills()"
   ]
  },
  {
   "cell_type": "code",
   "execution_count": null,
   "id": "a70246ae",
   "metadata": {},
   "outputs": [
    {
     "name": "stdout",
     "output_type": "stream",
     "text": [
      "<class '__main__.Mammal'>\n",
      "walk\n",
      "\n",
      "\n",
      "walk\n",
      "bark\n",
      "<class '__main__.Dog'>\n",
      "\n",
      "\n",
      "walk\n",
      "<class '__main__.Cat'>\n",
      "False\n",
      "True\n"
     ]
    }
   ],
   "source": [
    "# first create parent class\n",
    "class Mammal:\n",
    "    def walk(self):\n",
    "        print(\"walk\")\n",
    "\n",
    "\n",
    "# create a child class -  that inherits the functionality from another class, by sending\n",
    "# the parent class as a parameter when creating the child class:\n",
    "class Dog(Mammal):      # Dog inherits the Mammal functions\n",
    "    def bark(self):\n",
    "        print(\"bark\")\n",
    "\n",
    "\n",
    "# secon child class without extra functionality\n",
    "class Cat(Mammal):\n",
    "    pass                # pass does nothing\n",
    "\n",
    "\n",
    "# Use the Mammal class to create object, and then execute the methods:\n",
    "mam1 = Mammal();    \n",
    "print(type(mam1));  \n",
    "mam1.walk();     \n",
    "print(\"\\n\")\n",
    "\n",
    "dog1 = Dog();   \n",
    "dog1.walk();    \n",
    "dog1.bark();     \n",
    "print(type(dog1));     \n",
    "print(\"\\n\")\n",
    "\n",
    "cat1 = Cat()\n",
    "cat1.walk()\n",
    "print(type(cat1))\n",
    "print(isinstance(cat1, Dog))\n",
    "print(isinstance(cat1, Cat))\n"
   ]
  },
  {
   "cell_type": "markdown",
   "id": "9f151ccb",
   "metadata": {},
   "source": [
    "### Extend the Functionality of a Parent Class\n",
    "- To override a method defined on the parent class, you define a method with the same name on the child class. \n",
    "- changes to the parent class automatically propagate to child classes, as long as the attribute or method being changed isn’t overridden in the child class."
   ]
  },
  {
   "cell_type": "code",
   "execution_count": null,
   "id": "bfb91734",
   "metadata": {},
   "outputs": [
    {
     "name": "stdout",
     "output_type": "stream",
     "text": [
      "Bernd barks Woof\n",
      "Muschi sings Mau\n",
      "Muschi sings Fauch\n"
     ]
    }
   ],
   "source": [
    "# parent class\n",
    "class Mammal:\n",
    "    def __init__(self, name, age):\n",
    "        self.name = name\n",
    "        self.age = age\n",
    "\n",
    "    def walk(self):\n",
    "        print(\"walk\")\n",
    "\n",
    "    def speak(self, sound):\n",
    "        return f\"{self.name} says {sound}\"\n",
    "\n",
    "# child class\n",
    "class Dog(Mammal):\n",
    "    # override parent method\n",
    "    def speak(self, sound=\"Woof\"):\n",
    "        return f\"{self.name} barks {sound}\"\n",
    "\n",
    "class Cat(Mammal):\n",
    "\n",
    "    def speak(self, sound=\"Mau\"):\n",
    "        return f\"{self.name} sings {sound}\"\n",
    "\n",
    "\n",
    "dog = Dog(\"Bernd\", 7)\n",
    "print(dog.speak())\n",
    "\n",
    "cat =Cat(\"Muschi\", 3)\n",
    "print(cat.speak())\n",
    "# you can still call .speak() with a different sound:\n",
    "print(cat.speak(\"Fauch\"))"
   ]
  },
  {
   "cell_type": "markdown",
   "id": "ba0cf109",
   "metadata": {},
   "source": [
    "### super()\n",
    "- we may want to override a parent method in a child class, but we also dont't want to lose the changes made to the parent method\n",
    "- thus we can call the aprent method in the child class with super\n",
    "- super() does much more than just search the parent class for a method or an attribute. </br>\n",
    "It traverses the entire class hierarchy for a matching method or attribute. If you aren’t careful, super() can have surprising results."
   ]
  },
  {
   "cell_type": "code",
   "execution_count": null,
   "id": "47a2c195",
   "metadata": {},
   "outputs": [
    {
     "data": {
      "text/plain": [
       "'Wolfgang says howl'"
      ]
     },
     "metadata": {},
     "output_type": "display_data"
    }
   ],
   "source": [
    "class Wolf(Mammal):\n",
    "\n",
    "    def speak(self, sound=\"howl\"):\n",
    "        return super().speak(sound)\n",
    "\n",
    "wolf = Wolf(\"Wolfgang\", 3)\n",
    "wolf.speak()\n"
   ]
  },
  {
   "cell_type": "markdown",
   "id": "5484e518",
   "metadata": {},
   "source": [
    "#  Classes advanced"
   ]
  },
  {
   "cell_type": "markdown",
   "id": "12c9fe61",
   "metadata": {},
   "source": [
    "## enumerations\n",
    "-  an enumeration is a set of members that have associated unique constant values. Enumeration is often called enum.\n",
    "- Enumerations are immutable. It means you cannot add or remove members once an enumeration is defined. And you also cannot change the member values.\n",
    "- Python provides you with the enum module that contains the Enum type for defining new enumerations. \n",
    "- And you define a new enumeration type by subclassing the Enum class.\n",
    "- enumeration’s members are constants. \n",
    "- Therefore, their names are in uppercase letters by convention.\n",
    "- Enumeration members are always hashable. It means that you can use the enumeration members as keys in a dictionary or as elements of a Set.\n",
    "- The hash() function accepts an object and returns the hash value as an integer. When you pass an object to the hash() function, Python will execute the __hash__ special method of the object."
   ]
  },
  {
   "cell_type": "code",
   "execution_count": null,
   "id": "8e668d10",
   "metadata": {},
   "outputs": [],
   "source": [
    "from enum import Enum, unique, auto\n",
    "\n",
    "@ unique # decorater that prohibits duplicate values\n",
    "class Color(Enum):  # Color class that inherits from the Enum type\n",
    "    # members of the Color enumeration\n",
    "    # names have to be unique\n",
    "    RED = 1\n",
    "    GREEN = 2\n",
    "    BLUE = 3\n",
    "    # BLUE = 5 # is not allowed - bc its a duplicate\n",
    "    YELLOW = auto() # assigns a random value"
   ]
  },
  {
   "cell_type": "code",
   "execution_count": null,
   "id": "32b50ec3",
   "metadata": {},
   "outputs": [
    {
     "name": "stdout",
     "output_type": "stream",
     "text": [
      "Color.BLUE\n",
      "<enum 'Color'>\n",
      "True\n",
      "RED 1\n",
      "<Color.YELLOW: 4>\n"
     ]
    }
   ],
   "source": [
    "print(Color(3))  # numeration is callable, you can get a member by its value.\n",
    "print(type(Color.RED)) # type\n",
    "print(isinstance(Color.RED, Color)) # Color.Red is an instance of the Color enumeration\n",
    "print(Color.RED.name, Color.RED.value) # name and value\n",
    "print(repr(Color.YELLOW))  # string representation of the object."
   ]
  },
  {
   "cell_type": "code",
   "execution_count": null,
   "id": "c618067c",
   "metadata": {},
   "outputs": [
    {
     "name": "stdout",
     "output_type": "stream",
     "text": [
      "#ff0000\n"
     ]
    }
   ],
   "source": [
    "# enums (as hash value) can be keys in a dictionary\n",
    "rgb = {\n",
    "    Color.RED: '#ff0000', \n",
    "    Color.GREEN: '#00ff00', \n",
    "    Color.BLUE: '#0000ff'\n",
    "    }\n",
    "    \n",
    "print(rgb[Color.RED])"
   ]
  },
  {
   "cell_type": "code",
   "execution_count": null,
   "id": "d13ac9ce",
   "metadata": {},
   "outputs": [
    {
     "name": "stdout",
     "output_type": "stream",
     "text": [
      "Color.RED\n",
      "Color.GREEN\n",
      "Color.BLUE\n",
      "Color.YELLOW\n"
     ]
    }
   ],
   "source": [
    "for color in Color:\n",
    "    print(color)"
   ]
  },
  {
   "cell_type": "markdown",
   "id": "d0785e23",
   "metadata": {},
   "source": [
    "## Special \\_\\_dunder\\_\\_ methods\n",
    "- Dunder (double underscore) Methods , Special Methods and Magic methods are the same thing in Python.\n",
    "- Dunder Methods makes our class compatible with inbuilt functions like abs(), len(), str() etc. <br>\n",
    "and extend the functionality of the class.\n",
    "- They give the ability to create classes that behave like native data structures like lists, tuples, dictionary, set etc.\n",
    "- Users don’t need to remember each and every method to do a certain task, <br>\n",
    "just use inbuilt function and pass the object with required parameters.\n",
    "- The methods have a predefined syntax which is available to implement in our class.\n",
    "- there are many dunder methodes: https://holycoders.com/python-dunder-special-methods/"
   ]
  },
  {
   "cell_type": "markdown",
   "id": "8405361f",
   "metadata": {},
   "source": [
    "### class string functions\n",
    "- __\\_\\_str\\_\\_(self)__ for str() function. </br> \n",
    "Return a string to print the object. Intended for users to see a pretty and useful output. If not implemented, __repr__ will be used as a fallback.\n",
    "- by overriting the function below you can control how your object is represented in string and bytes format\n",
    "- **object.__str__(self)**<br> \n",
    "Return a string to print the object. Intended for users to see a pretty and useful output.\n",
    "- **object.__repr__(self)**<br>\n",
    "It returns a string to print the object. Intended for developers to debug. Must be implemented in any class.\n",
    "- **object.__format__(self, format_spec)**<br>\n",
    "Evaluate formatted string literals like % for percentage format and ‘b’ for binary.\n",
    "- **object.__bytes__(self)** <br>\n",
    "Return a byte object which is the byte string representation of the object."
   ]
  },
  {
   "cell_type": "code",
   "execution_count": null,
   "id": "0719745e",
   "metadata": {},
   "outputs": [],
   "source": [
    "class Person():\n",
    "    def __init__(self):\n",
    "        self.fname='Marco'\n",
    "        self.lname='Duno'\n",
    "        self.age= 25\n",
    "    def __repr__(self): # detailed for debugging\n",
    "        return\"<Person Class - fname:{0}, lname:{1}, age:{2}\".format(\n",
    "            self.fname, self.lname, self.age\n",
    "            )\n",
    "\n",
    "    def __str__(self) -> str: # string for info about object\n",
    "        return\"Person ({0} {1} is {2})\".format(self.fname, self.lname, self.age)\n",
    "\n",
    "    def __bytes__(self):\n",
    "        # string \n",
    "        val = \"Person: {0}:{1}:{2}\".format(self.fname, self.lname, self.age)\n",
    "        return bytes(val.encode('utf-8'))\n"
   ]
  },
  {
   "cell_type": "code",
   "execution_count": null,
   "id": "d30c69fe",
   "metadata": {},
   "outputs": [
    {
     "name": "stdout",
     "output_type": "stream",
     "text": [
      "<Person Class - fname:Marco, lname:Duno, age:25\n",
      "Person (Marco Duno is 25)\n",
      "Formatted: Person (Marco Duno is 25)\n",
      "b'Person: Marco:Duno:25'\n"
     ]
    }
   ],
   "source": [
    "cls1=Person()\n",
    "# repr and str return non-human-readable representations\n",
    "# the definition of reor and str give the object a readable string output\n",
    "'''\n",
    "<__main__.Person object at 0x7f529b5894f0>\n",
    "<__main__.Person object at 0x7f529b5894f0>\n",
    "Formatted: <__main__.Person object at 0x7f529b5894f0>\n",
    "'''\n",
    "print(repr(cls1))\n",
    "print(str(cls1))\n",
    "print(\"Formatted: {0}\".format(cls1))\n",
    "print(bytes(cls1))\n"
   ]
  },
  {
   "cell_type": "markdown",
   "id": "0ce99eb7",
   "metadata": {},
   "source": [
    "### class attribute functions\n",
    "- **object.__getattr__(self, attr)**<br>\n",
    "“catch” references to attributes that don’t exist in your object.<br>\n",
    "using the __getattr__ magic method, we can intercept that inexistent attribute lookup and do something so it doesn’t fail\n",
    "- object.__getattribute__(self, attr)<br>\n",
    "\\_\\_getattribute\\_\\_ is similar to \\_\\_getattr\\_\\_, with the important difference that \\_\\_getattribute\\_\\_ will intercept EVERY attribute lookup, doesn’t matter if the attribute exists or not.<br>\n",
    "- object.__setattr__(self, attr)\n",
    "- object.__delattr__(self, attr)\n",
    "- object.__dir__(self, attr)"
   ]
  },
  {
   "cell_type": "code",
   "execution_count": null,
   "id": "01828865",
   "metadata": {},
   "outputs": [],
   "source": [
    "class myColor():\n",
    "    def __init__(self):\n",
    "        self.red=50\n",
    "        self.green=75\n",
    "        self.blue=100\n",
    "\n",
    "    # dynamically return a value\n",
    "    def __getattr__(self, attr):\n",
    "        if attr == \"rgbcolor\":\n",
    "            return (self.red, self.green, self.blue)\n",
    "        elif attr=='hexcolor':\n",
    "            return \"#{0:02x}{1:02x}{2:02x}\".format(self.red, self.green, self.blue)\n",
    "        else:\n",
    "            raise AttributeError  # indicating an atrribute we don't know was requested \n",
    "\n",
    "    # give the user of the class the ability to set an attribute value\n",
    "    def __setattr__(self, attr, val):\n",
    "        if attr == 'rgbcolor':\n",
    "            self.red = val[0]\n",
    "            self.green = val[1]\n",
    "            self.blue = val[2]\n",
    "        else: # always put the super()__setattr__ as a default \n",
    "            super().__setattr__(attr, val)\n",
    "\n",
    "    # list the available properties\n",
    "    def __dir__(self):\n",
    "        return('red', 'green', 'blue', 'rgbcolor', 'hexcolor')\n"
   ]
  },
  {
   "cell_type": "code",
   "execution_count": null,
   "id": "ad58e8e2",
   "metadata": {},
   "outputs": [
    {
     "name": "stdout",
     "output_type": "stream",
     "text": [
      "(50, 75, 100)\n",
      "#324b64\n",
      "(125, 200, 86)\n",
      "#7dc856\n",
      "125\n",
      "['blue', 'green', 'hexcolor', 'red', 'rgbcolor']\n"
     ]
    }
   ],
   "source": [
    "cls1=myColor()\n",
    "print(cls1.rgbcolor)\n",
    "print(cls1.hexcolor)\n",
    "cls1.rgbcolor = (125, 200, 86)\n",
    "print(cls1.rgbcolor)\n",
    "print(cls1.hexcolor)\n",
    "print(cls1.red)\n",
    "print(dir(cls1))"
   ]
  },
  {
   "cell_type": "markdown",
   "id": "7c03e57e",
   "metadata": {},
   "source": [
    "### class numeric operators\n",
    "Arithmetic Operators\n",
    "- **object.\\_\\_add\\_\\_(self, anotherObj)**: self + other\n",
    "- **object.\\_\\_sub\\_\\_(self, anotherObj)** \n",
    "-  **object.\\_\\_mul\\_\\_(self, anotherObj)**  \n",
    "- **object.\\_\\_matmul\\_\\_(self, anotherObj)** \n",
    "- **object.\\_\\_truediv\\_\\_(self, anotherObj)**  \n",
    "- **object.\\_\\_floordiv\\_\\_(self, anotherObj)**  \n",
    "- **object.\\_\\_pow\\_\\_(self, anotherObj)**\n",
    "- **object.\\_\\_and\\_\\_(self, anotherObj)**\n",
    "- **object.\\_\\_or\\_\\_(self, anotherObj)**"
   ]
  },
  {
   "cell_type": "code",
   "execution_count": null,
   "id": "8efe4f1f",
   "metadata": {},
   "outputs": [],
   "source": [
    "class Point():\n",
    "    def __init__(self, x, y):\n",
    "        self.x = x\n",
    "        self.y = y\n",
    "\n",
    "    def __add__(self, other):\n",
    "        return Point(self.x + other.x, self.y + other.y)\n",
    "\n",
    "    def __repr__(self):\n",
    "        return\"<Point x:{0}, y.{1}>\".format(self.x, self.y)\n",
    "\n",
    "    def __sub__(self, other):\n",
    "        return Point(self.x - other.x, self.y - other.y)\n",
    "\n",
    "    # inplace addition\n",
    "    def __iadd__(self, other):\n",
    "        self.x += other.x\n",
    "        self.y += other.y\n",
    "        return self\n"
   ]
  },
  {
   "cell_type": "code",
   "execution_count": null,
   "id": "2d81c3b6",
   "metadata": {},
   "outputs": [],
   "source": [
    "p1 = Point(10, 20)\n",
    "p2 = Point(15, 5)"
   ]
  },
  {
   "cell_type": "code",
   "execution_count": null,
   "id": "78c86fb0",
   "metadata": {},
   "outputs": [
    {
     "name": "stdout",
     "output_type": "stream",
     "text": [
      "<Point x:10, y.20>\n",
      "<Point x:15, y.5>\n",
      "<Point x:25, y.25>\n",
      "<Point x:-5, y.15>\n"
     ]
    }
   ],
   "source": [
    "print(p1)\n",
    "print(p2)\n",
    "print(p1+p2)\n",
    "print(p1-p2)"
   ]
  },
  {
   "cell_type": "markdown",
   "id": "55a41972",
   "metadata": {},
   "source": [
    "### class comparison operators\n",
    "- **object.\\_\\_lt\\__\\(self, other)**\n",
    "- **object.\\_\\_le\\_\\_(self, other)**\n",
    "- **object.\\_\\_eq\\_\\_(self, other)**\n",
    "- **object.\\_\\_ne\\_\\_(self, other)**\n",
    "- **object.\\_\\_ge\\_\\_(self, other)**\n",
    "- **object.\\_\\_gt\\_\\_(self, other)**"
   ]
  },
  {
   "cell_type": "code",
   "execution_count": null,
   "id": "0b15a118",
   "metadata": {},
   "outputs": [],
   "source": [
    "class Employee():\n",
    "\n",
    "    def __init__(self, fname, lname, level, yrsService):\n",
    "        self.fname = fname\n",
    "        self.lname = lname\n",
    "        self.level = level\n",
    "        self.seniority = yrsService\n",
    "\n",
    "    def __ge__(self, other):\n",
    "        if (self.level == other.level):\n",
    "            return self.seniority >= other.seniority\n",
    "        return self.level >= other.level\n",
    "\n",
    "    def __gt__(self, other):\n",
    "        if (self.level ==other.level):\n",
    "            return self.seniority > other.seniority\n",
    "        return self.level > other.level\n",
    "\n",
    "    def __lt__(self, other):\n",
    "        if (self.level ==other.level):\n",
    "            return self.seniority < other.seniority\n",
    "        return self.level < other.level\n",
    "\n",
    "    def __le__(self, other):\n",
    "        if (self.level == other.level):\n",
    "            return self.seniority <= other.seniority\n",
    "        return self.level <= other.level\n",
    "\n",
    "    def __eq__(self, other):\n",
    "        return self.level == other.level"
   ]
  },
  {
   "cell_type": "code",
   "execution_count": null,
   "id": "2ce65b10",
   "metadata": {},
   "outputs": [],
   "source": [
    "dept =[]\n",
    "dept.append(Employee('Tim', 'Sims', 3, 12))\n",
    "dept.append(Employee('John', 'Doe', 3, 9))\n",
    "dept.append(Employee('Jane', 'Smith', 6, 6))\n",
    "dept.append(Employee('Rebecca', 'Robinson', 5, 11))\n",
    "dept.append(Employee('Tyler', 'Durden', 5, 12))"
   ]
  },
  {
   "cell_type": "code",
   "execution_count": null,
   "id": "63d4af39",
   "metadata": {},
   "outputs": [
    {
     "name": "stdout",
     "output_type": "stream",
     "text": [
      "True\n",
      "False\n"
     ]
    }
   ],
   "source": [
    "print(dept[0] > dept[1])\n",
    "print(dept[3] < dept[4])"
   ]
  },
  {
   "cell_type": "code",
   "execution_count": null,
   "id": "7bf0b002",
   "metadata": {},
   "outputs": [
    {
     "name": "stdout",
     "output_type": "stream",
     "text": [
      "Doe\n",
      "Sims\n",
      "Robinson\n",
      "Durden\n",
      "Smith\n"
     ]
    }
   ],
   "source": [
    "emps = sorted(dept) # sorts by level and seniority\n",
    "\n",
    "for emp in emps:\n",
    "    print(emp.lname)"
   ]
  }
 ],
 "metadata": {
  "kernelspec": {
   "display_name": "Python 3.8.12 64-bit ('lewagon')",
   "language": "python",
   "name": "python3"
  },
  "language_info": {
   "name": "python",
   "version": "3.8.12"
  },
  "orig_nbformat": 4,
  "vscode": {
   "interpreter": {
    "hash": "ad7afd56c4a9327988b254949fc9ff6c4de57fd051da33a62b5f87e3ddafe8d2"
   }
  }
 },
 "nbformat": 4,
 "nbformat_minor": 2
}
