{
 "cells": [
  {
   "cell_type": "markdown",
   "id": "692c154f-2325-4622-90c5-4c294a5f7cfc",
   "metadata": {},
   "source": [
    "## ARIMA model (p,i,q)\n",
    "- the **AIC** (Akaike Information Criterion) is an estimator of prediction error and thereby relative quality of statistical models for a given set of data.\n",
    "- **the lower the AIC the better**\n",
    "- but if AIC of different model approx. the same **choose the simpler model**"
   ]
  },
  {
   "cell_type": "code",
   "execution_count": 42,
   "id": "9731be3b-6e34-4333-a6de-0d6475b8c3c3",
   "metadata": {
    "tags": []
   },
   "outputs": [],
   "source": [
    "alc.index = pd.DatetimeIndex(alc.index.values,\n",
    "                               freq=alc.index.inferred_freq)"
   ]
  },
  {
   "cell_type": "code",
   "execution_count": 61,
   "id": "29b602f1-80b2-490f-a646-7faca9bff1f8",
   "metadata": {
    "tags": []
   },
   "outputs": [
    {
     "name": "stderr",
     "output_type": "stream",
     "text": [
      "/home/mz/.pyenv/versions/3.8.12/envs/lewagon/lib/python3.8/site-packages/statsmodels/base/model.py:604: ConvergenceWarning: Maximum Likelihood optimization failed to converge. Check mle_retvals\n",
      "  warnings.warn(\"Maximum Likelihood optimization failed to \"\n"
     ]
    },
    {
     "data": {
      "text/html": [
       "<table class=\"simpletable\">\n",
       "<caption>SARIMAX Results</caption>\n",
       "<tr>\n",
       "  <th>Dep. Variable:</th>      <td>linearized</td>    <th>  No. Observations:  </th>    <td>360</td>   \n",
       "</tr>\n",
       "<tr>\n",
       "  <th>Model:</th>            <td>ARIMA(2, 1, 3)</td>  <th>  Log Likelihood     </th>  <td>991.930</td> \n",
       "</tr>\n",
       "<tr>\n",
       "  <th>Date:</th>            <td>Fri, 04 Mar 2022</td> <th>  AIC                </th> <td>-1971.860</td>\n",
       "</tr>\n",
       "<tr>\n",
       "  <th>Time:</th>                <td>14:35:11</td>     <th>  BIC                </th> <td>-1948.560</td>\n",
       "</tr>\n",
       "<tr>\n",
       "  <th>Sample:</th>             <td>01-01-1992</td>    <th>  HQIC               </th> <td>-1962.594</td>\n",
       "</tr>\n",
       "<tr>\n",
       "  <th></th>                   <td>- 12-01-2021</td>   <th>                     </th>     <td> </td>    \n",
       "</tr>\n",
       "<tr>\n",
       "  <th>Covariance Type:</th>        <td>opg</td>       <th>                     </th>     <td> </td>    \n",
       "</tr>\n",
       "</table>\n",
       "<table class=\"simpletable\">\n",
       "<tr>\n",
       "     <td></td>       <th>coef</th>     <th>std err</th>      <th>z</th>      <th>P>|z|</th>  <th>[0.025</th>    <th>0.975]</th>  \n",
       "</tr>\n",
       "<tr>\n",
       "  <th>ar.L1</th>  <td>    0.8034</td> <td>    0.355</td> <td>    2.262</td> <td> 0.024</td> <td>    0.107</td> <td>    1.500</td>\n",
       "</tr>\n",
       "<tr>\n",
       "  <th>ar.L2</th>  <td>    0.1081</td> <td>    0.267</td> <td>    0.404</td> <td> 0.686</td> <td>   -0.416</td> <td>    0.632</td>\n",
       "</tr>\n",
       "<tr>\n",
       "  <th>ma.L1</th>  <td>   -1.2113</td> <td>    0.361</td> <td>   -3.356</td> <td> 0.001</td> <td>   -1.919</td> <td>   -0.504</td>\n",
       "</tr>\n",
       "<tr>\n",
       "  <th>ma.L2</th>  <td>    0.5085</td> <td>    0.407</td> <td>    1.249</td> <td> 0.212</td> <td>   -0.290</td> <td>    1.307</td>\n",
       "</tr>\n",
       "<tr>\n",
       "  <th>ma.L3</th>  <td>   -0.1723</td> <td>    0.163</td> <td>   -1.058</td> <td> 0.290</td> <td>   -0.491</td> <td>    0.147</td>\n",
       "</tr>\n",
       "<tr>\n",
       "  <th>sigma2</th> <td>    0.0002</td> <td> 5.93e-06</td> <td>   39.231</td> <td> 0.000</td> <td>    0.000</td> <td>    0.000</td>\n",
       "</tr>\n",
       "</table>\n",
       "<table class=\"simpletable\">\n",
       "<tr>\n",
       "  <th>Ljung-Box (L1) (Q):</th>     <td>0.23</td> <th>  Jarque-Bera (JB):  </th> <td>9512.45</td>\n",
       "</tr>\n",
       "<tr>\n",
       "  <th>Prob(Q):</th>                <td>0.63</td> <th>  Prob(JB):          </th>  <td>0.00</td>  \n",
       "</tr>\n",
       "<tr>\n",
       "  <th>Heteroskedasticity (H):</th> <td>2.03</td> <th>  Skew:              </th>  <td>2.46</td>  \n",
       "</tr>\n",
       "<tr>\n",
       "  <th>Prob(H) (two-sided):</th>    <td>0.00</td> <th>  Kurtosis:          </th>  <td>27.73</td> \n",
       "</tr>\n",
       "</table><br/><br/>Warnings:<br/>[1] Covariance matrix calculated using the outer product of gradients (complex-step)."
      ],
      "text/plain": [
       "<class 'statsmodels.iolib.summary.Summary'>\n",
       "\"\"\"\n",
       "                               SARIMAX Results                                \n",
       "==============================================================================\n",
       "Dep. Variable:             linearized   No. Observations:                  360\n",
       "Model:                 ARIMA(2, 1, 3)   Log Likelihood                 991.930\n",
       "Date:                Fri, 04 Mar 2022   AIC                          -1971.860\n",
       "Time:                        14:35:11   BIC                          -1948.560\n",
       "Sample:                    01-01-1992   HQIC                         -1962.594\n",
       "                         - 12-01-2021                                         \n",
       "Covariance Type:                  opg                                         \n",
       "==============================================================================\n",
       "                 coef    std err          z      P>|z|      [0.025      0.975]\n",
       "------------------------------------------------------------------------------\n",
       "ar.L1          0.8034      0.355      2.262      0.024       0.107       1.500\n",
       "ar.L2          0.1081      0.267      0.404      0.686      -0.416       0.632\n",
       "ma.L1         -1.2113      0.361     -3.356      0.001      -1.919      -0.504\n",
       "ma.L2          0.5085      0.407      1.249      0.212      -0.290       1.307\n",
       "ma.L3         -0.1723      0.163     -1.058      0.290      -0.491       0.147\n",
       "sigma2         0.0002   5.93e-06     39.231      0.000       0.000       0.000\n",
       "===================================================================================\n",
       "Ljung-Box (L1) (Q):                   0.23   Jarque-Bera (JB):              9512.45\n",
       "Prob(Q):                              0.63   Prob(JB):                         0.00\n",
       "Heteroskedasticity (H):               2.03   Skew:                             2.46\n",
       "Prob(H) (two-sided):                  0.00   Kurtosis:                        27.73\n",
       "===================================================================================\n",
       "\n",
       "Warnings:\n",
       "[1] Covariance matrix calculated using the outer product of gradients (complex-step).\n",
       "\"\"\""
      ]
     },
     "execution_count": 61,
     "metadata": {},
     "output_type": "execute_result"
    }
   ],
   "source": [
    "# The (p,d,q) order of the model for the autoregressive, differences, and moving average components.\n",
    "from statsmodels.tsa.arima.model import ARIMA \n",
    "arima = ARIMA(alc['linearized'], order=(2,1,3))\n",
    "res = arima.fit(method='statespace')\n",
    "res.summary()"
   ]
  },
  {
   "cell_type": "markdown",
   "id": "a76e8e89-bca5-4454-8b58-a7ce5e5611a5",
   "metadata": {
    "toc-hr-collapsed": true
   },
   "source": [
    "## Gridsearch for Hyperparameters"
   ]
  },
  {
   "cell_type": "code",
   "execution_count": 44,
   "id": "3bd5de12-2148-41ad-80f1-d4e741fbb5fb",
   "metadata": {
    "collapsed": true,
    "jupyter": {
     "outputs_hidden": true
    },
    "tags": []
   },
   "outputs": [
    {
     "name": "stdout",
     "output_type": "stream",
     "text": [
      "Performing stepwise search to minimize aic\n",
      " ARIMA(1,1,1)(0,0,0)[0] intercept   : AIC=-1990.809, Time=0.05 sec\n",
      " ARIMA(0,1,0)(0,0,0)[0] intercept   : AIC=-1913.590, Time=0.03 sec\n",
      " ARIMA(1,1,0)(0,0,0)[0] intercept   : AIC=-1993.180, Time=0.03 sec\n",
      " ARIMA(0,1,1)(0,0,0)[0] intercept   : AIC=-1978.279, Time=0.12 sec\n",
      " ARIMA(0,1,0)(0,0,0)[0]             : AIC=-1900.508, Time=0.02 sec\n",
      " ARIMA(2,1,0)(0,0,0)[0] intercept   : AIC=-1991.260, Time=0.08 sec\n",
      " ARIMA(2,1,1)(0,0,0)[0] intercept   : AIC=-1989.195, Time=0.24 sec\n",
      " ARIMA(1,1,0)(0,0,0)[0]             : AIC=-1958.492, Time=0.03 sec\n",
      "\n",
      "Best model:  ARIMA(1,1,0)(0,0,0)[0] intercept\n",
      "Total fit time: 0.607 seconds\n"
     ]
    }
   ],
   "source": [
    "import pmdarima as pm\n",
    "smodel = pm.auto_arima(alc['linearized'],\n",
    "                start_p=1, max_p=2,\n",
    "                start_q=1, max_q=2,\n",
    "                seasonal=False,\n",
    "                trace=True)"
   ]
  },
  {
   "cell_type": "code",
   "execution_count": 198,
   "id": "818d6e4f-0de2-4932-9029-5afb5ddcd823",
   "metadata": {
    "collapsed": true,
    "jupyter": {
     "outputs_hidden": true
    },
    "tags": []
   },
   "outputs": [
    {
     "data": {
      "text/html": [
       "<table class=\"simpletable\">\n",
       "<caption>SARIMAX Results</caption>\n",
       "<tr>\n",
       "  <th>Dep. Variable:</th>      <td>linearized</td>    <th>  No. Observations:  </th>    <td>360</td>   \n",
       "</tr>\n",
       "<tr>\n",
       "  <th>Model:</th>            <td>ARIMA(1, 1, 0)</td>  <th>  Log Likelihood     </th>  <td>981.246</td> \n",
       "</tr>\n",
       "<tr>\n",
       "  <th>Date:</th>            <td>Fri, 04 Mar 2022</td> <th>  AIC                </th> <td>-1958.492</td>\n",
       "</tr>\n",
       "<tr>\n",
       "  <th>Time:</th>                <td>17:55:48</td>     <th>  BIC                </th> <td>-1950.725</td>\n",
       "</tr>\n",
       "<tr>\n",
       "  <th>Sample:</th>             <td>01-01-1992</td>    <th>  HQIC               </th> <td>-1955.403</td>\n",
       "</tr>\n",
       "<tr>\n",
       "  <th></th>                   <td>- 12-01-2021</td>   <th>                     </th>     <td> </td>    \n",
       "</tr>\n",
       "<tr>\n",
       "  <th>Covariance Type:</th>        <td>opg</td>       <th>                     </th>     <td> </td>    \n",
       "</tr>\n",
       "</table>\n",
       "<table class=\"simpletable\">\n",
       "<tr>\n",
       "     <td></td>       <th>coef</th>     <th>std err</th>      <th>z</th>      <th>P>|z|</th>  <th>[0.025</th>    <th>0.975]</th>  \n",
       "</tr>\n",
       "<tr>\n",
       "  <th>ar.L1</th>  <td>   -0.3914</td> <td>    0.035</td> <td>  -11.028</td> <td> 0.000</td> <td>   -0.461</td> <td>   -0.322</td>\n",
       "</tr>\n",
       "<tr>\n",
       "  <th>sigma2</th> <td>    0.0002</td> <td> 5.04e-06</td> <td>   49.084</td> <td> 0.000</td> <td>    0.000</td> <td>    0.000</td>\n",
       "</tr>\n",
       "</table>\n",
       "<table class=\"simpletable\">\n",
       "<tr>\n",
       "  <th>Ljung-Box (L1) (Q):</th>     <td>1.59</td> <th>  Jarque-Bera (JB):  </th> <td>11140.93</td>\n",
       "</tr>\n",
       "<tr>\n",
       "  <th>Prob(Q):</th>                <td>0.21</td> <th>  Prob(JB):          </th>   <td>0.00</td>  \n",
       "</tr>\n",
       "<tr>\n",
       "  <th>Heteroskedasticity (H):</th> <td>2.11</td> <th>  Skew:              </th>   <td>2.73</td>  \n",
       "</tr>\n",
       "<tr>\n",
       "  <th>Prob(H) (two-sided):</th>    <td>0.00</td> <th>  Kurtosis:          </th>   <td>29.74</td> \n",
       "</tr>\n",
       "</table><br/><br/>Warnings:<br/>[1] Covariance matrix calculated using the outer product of gradients (complex-step)."
      ],
      "text/plain": [
       "<class 'statsmodels.iolib.summary.Summary'>\n",
       "\"\"\"\n",
       "                               SARIMAX Results                                \n",
       "==============================================================================\n",
       "Dep. Variable:             linearized   No. Observations:                  360\n",
       "Model:                 ARIMA(1, 1, 0)   Log Likelihood                 981.246\n",
       "Date:                Fri, 04 Mar 2022   AIC                          -1958.492\n",
       "Time:                        17:55:48   BIC                          -1950.725\n",
       "Sample:                    01-01-1992   HQIC                         -1955.403\n",
       "                         - 12-01-2021                                         \n",
       "Covariance Type:                  opg                                         \n",
       "==============================================================================\n",
       "                 coef    std err          z      P>|z|      [0.025      0.975]\n",
       "------------------------------------------------------------------------------\n",
       "ar.L1         -0.3914      0.035    -11.028      0.000      -0.461      -0.322\n",
       "sigma2         0.0002   5.04e-06     49.084      0.000       0.000       0.000\n",
       "===================================================================================\n",
       "Ljung-Box (L1) (Q):                   1.59   Jarque-Bera (JB):             11140.93\n",
       "Prob(Q):                              0.21   Prob(JB):                         0.00\n",
       "Heteroskedasticity (H):               2.11   Skew:                             2.73\n",
       "Prob(H) (two-sided):                  0.00   Kurtosis:                        29.74\n",
       "===================================================================================\n",
       "\n",
       "Warnings:\n",
       "[1] Covariance matrix calculated using the outer product of gradients (complex-step).\n",
       "\"\"\""
      ]
     },
     "execution_count": 198,
     "metadata": {},
     "output_type": "execute_result"
    }
   ],
   "source": [
    "# The (p,d,q) order of the model for the autoregressive, differences, and moving average components.\n",
    "arima2 = ARIMA(alc['linearized'], order=(1,1,0))\n",
    "arima2_fit = arima2.fit(method='statespace')\n",
    "arima2_fit.summary()"
   ]
  },
  {
   "cell_type": "markdown",
   "id": "dc64d2fc-cbcd-438a-a582-150a15027b0f",
   "metadata": {
    "toc-hr-collapsed": true
   },
   "source": [
    "## Forecasting - out of sample"
   ]
  },
  {
   "cell_type": "markdown",
   "id": "e7b8fac4-0392-4ba8-846e-ae728b98a98d",
   "metadata": {},
   "source": [
    "### point predictions"
   ]
  },
  {
   "cell_type": "code",
   "execution_count": 199,
   "id": "f7f85a1d-16fe-410c-ad0e-19d62dc8d707",
   "metadata": {
    "collapsed": true,
    "jupyter": {
     "outputs_hidden": true
    },
    "tags": []
   },
   "outputs": [
    {
     "data": {
      "text/plain": [
       "2022-01-01    8.692202\n",
       "Freq: MS, dtype: float64"
      ]
     },
     "execution_count": 199,
     "metadata": {},
     "output_type": "execute_result"
    }
   ],
   "source": [
    "# one-step out-of sample forecast - next value in Series\n",
    "arima2_fit.forecast()"
   ]
  },
  {
   "cell_type": "code",
   "execution_count": 200,
   "id": "af8a5df7-b436-4e54-9d63-27795da61e0a",
   "metadata": {
    "collapsed": true,
    "jupyter": {
     "outputs_hidden": true
    },
    "tags": []
   },
   "outputs": [
    {
     "data": {
      "text/plain": [
       "2022-01-01    8.692202\n",
       "2022-02-01    8.692584\n",
       "2022-03-01    8.692435\n",
       "2022-04-01    8.692493\n",
       "2022-05-01    8.692470\n",
       "2022-06-01    8.692479\n",
       "2022-07-01    8.692476\n",
       "2022-08-01    8.692477\n",
       "2022-09-01    8.692476\n",
       "2022-10-01    8.692477\n",
       "Freq: MS, Name: predicted_mean, dtype: float64"
      ]
     },
     "execution_count": 200,
     "metadata": {},
     "output_type": "execute_result"
    }
   ],
   "source": [
    "# forecast for the next 10 months\n",
    "arima2_fit.forecast(steps=10)"
   ]
  },
  {
   "cell_type": "markdown",
   "id": "76e1a9e6-2e06-4cdc-9d7e-4eed9f1cb4af",
   "metadata": {},
   "source": [
    "### full results including prediction intervals"
   ]
  },
  {
   "cell_type": "code",
   "execution_count": 249,
   "id": "8fe0ec32-af80-4646-a595-e6b171938c2f",
   "metadata": {},
   "outputs": [],
   "source": [
    "forecast = arima2_fit.get_forecast(10)\n",
    "yhat = forecast.predicted_mean\n",
    "yhat_conf_int = forecast.conf_int(alpha=0.05)"
   ]
  },
  {
   "cell_type": "code",
   "execution_count": 246,
   "id": "35ddfa4c-fe72-4319-804f-a4c0ec3bee17",
   "metadata": {},
   "outputs": [
    {
     "data": {
      "image/png": "[encoded data removed]",
      "text/plain": [
       "<Figure size 1080x576 with 1 Axes>"
      ]
     },
     "metadata": {
      "needs_background": "light"
     },
     "output_type": "display_data"
    }
   ],
   "source": [
    "fig, ax = plt.subplots(figsize=(15,8));\n",
    "ax.set(title='Forecast linearized Sales', xlabel='Date', ylabel='Forecast');\n",
    "alc.loc['2020-12-01':, 'linearized'].plot(ax=ax, style='o', label='Observed');\n",
    "yhat.plot(style='o', color='orange');\n",
    "ax.fill_between(yhat_conf_int.index, yhat_conf_int.iloc[:,0], yhat_conf_int.iloc[:,1], color='b', alpha=0.1);"
   ]
  },
  {
   "cell_type": "markdown",
   "id": "353fdb5f-5295-4a65-88af-53228122e9d9",
   "metadata": {
    "tags": [],
    "toc-hr-collapsed": true
   },
   "source": [
    "## Prediction \n",
    "in-sample prediction and out-of-sample forecasting"
   ]
  },
  {
   "cell_type": "markdown",
   "id": "b03baf7e-c9f1-446f-8a56-ed104bc94385",
   "metadata": {
    "tags": []
   },
   "source": [
    "###  Point-prediction - w/o confidence intervals"
   ]
  },
  {
   "cell_type": "code",
   "execution_count": 351,
   "id": "ce5bb7a8-fb83-44d2-83af-5624189eef11",
   "metadata": {
    "tags": []
   },
   "outputs": [],
   "source": [
    "# point prediction - in and out of sample (no confidence intervals)\n",
    "# start = where forecasting starts\n",
    "# end = last forecast\n",
    "prediction = arima2_fit.predict(start = '2020-01-01', end='2022-04-01')"
   ]
  },
  {
   "cell_type": "code",
   "execution_count": 349,
   "id": "5817544f-b0bc-4f8c-ba8d-706cc7b9c1c8",
   "metadata": {},
   "outputs": [
    {
     "data": {
      "image/png": "[encoded data removed]",
      "text/plain": [
       "<Figure size 1080x576 with 1 Axes>"
      ]
     },
     "metadata": {
      "needs_background": "light"
     },
     "output_type": "display_data"
    }
   ],
   "source": [
    "fig, ax = plt.subplots(figsize=(15,8));\n",
    "ax.set(title='in- & out-of sample predictions', xlabel='Date');\n",
    "alc.loc['2019-01-01':, 'linearized'].plot(ax=ax, style='o', color='b', label='Observed');\n",
    "prediction.plot(style='--', color='orange', label='predicted mean');\n",
    "plt.legend(loc=\"right\");\n",
    "#ax.fill_between(yhat_conf_int.index, yhat_conf_int.iloc[:,0], yhat_conf_int.iloc[:,1], color='b', alpha=0.1);"
   ]
  },
  {
   "cell_type": "markdown",
   "id": "4dbb7d44-c13a-4709-aeee-99be763c636f",
   "metadata": {},
   "source": [
    "### confidence intervals"
   ]
  },
  {
   "cell_type": "code",
   "execution_count": 369,
   "id": "276f85d5-e97b-484e-aeac-0fbab8bdb8ef",
   "metadata": {
    "tags": []
   },
   "outputs": [
    {
     "data": {
      "image/png": "[encoded data removed]",
      "text/plain": [
       "<Figure size 1080x576 with 1 Axes>"
      ]
     },
     "metadata": {
      "needs_background": "light"
     },
     "output_type": "display_data"
    }
   ],
   "source": [
    "# In-sample one-step-ahead predictions\n",
    "prediction_get = arima2_fit.get_prediction(start= \"2019-01-01\", end=\"2022-12-01\")\n",
    "mean = prediction_get.predicted_mean[1:]\n",
    "# lower and upper bound confidence interval\n",
    "ci = prediction_get.conf_int()\n",
    "low = predict_ci[1: ][\"lower linearized\"]\n",
    "up = predict_ci[1:][\"upper linearized\"]\n",
    "\n",
    "# dynamic: from the starting value forecasted endogenous values will be used  for the predictions\n",
    "prediction_dy = arima2_fit.get_prediction(start= \"2019-01-01\", end=\"2022-12-01\", dynamic=True)\n",
    "ci_dy = prediction_dy.conf_int()\n",
    "mean_dy = prediction_dy.predicted_mean[1:]\n",
    "low_dy = ci_dy[1: ][\"lower linearized\"]\n",
    "up_dy = ci_dy[1:][\"upper linearized\"]\n",
    "\n",
    "\n",
    "fig, ax = plt.subplots(figsize=(15,8));\n",
    "ax.set(title='in- & out-of sample predictions', xlabel='Date');\n",
    "alc.loc['2015-01-01': , 'linearized'].plot(ax=ax, style='.', color='b', label='Observed');\n",
    "pred_mean.plot(style='--', color='orange', label='predicted mean');\n",
    "mean_dy.plot(style='-', color='y', label='predicted mean dynamic');\n",
    "\n",
    "ax.fill_between(pred_mean.index, low, up, color='b', alpha=0.1, label=\"confidence interval\");\n",
    "ax.fill_between(pred_mean.index, low_dy, up_dy, color='g', alpha=0.1, label=\"confidence interval dynamic\");\n",
    "\n",
    "plt.legend(loc=2);"
   ]
  },
  {
   "cell_type": "markdown",
   "id": "ddc6a659-6eae-4dfe-bbff-ed39464d492c",
   "metadata": {},
   "source": [
    "## Forecast with Train-Test-Split "
   ]
  },
  {
   "cell_type": "code",
   "execution_count": 121,
   "id": "9a3c2d4a-da4e-48cf-98d7-d18ab55d358b",
   "metadata": {
    "collapsed": true,
    "jupyter": {
     "outputs_hidden": true
    },
    "tags": []
   },
   "outputs": [
    {
     "data": {
      "text/html": [
       "<div>\n",
       "<style scoped>\n",
       "    .dataframe tbody tr th:only-of-type {\n",
       "        vertical-align: middle;\n",
       "    }\n",
       "\n",
       "    .dataframe tbody tr th {\n",
       "        vertical-align: top;\n",
       "    }\n",
       "\n",
       "    .dataframe thead th {\n",
       "        text-align: right;\n",
       "    }\n",
       "</style>\n",
       "<table border=\"1\" class=\"dataframe\">\n",
       "  <thead>\n",
       "    <tr style=\"text-align: right;\">\n",
       "      <th></th>\n",
       "      <th>Sales</th>\n",
       "      <th>Sales_inter</th>\n",
       "      <th>deseasonalized</th>\n",
       "      <th>linearized</th>\n",
       "    </tr>\n",
       "  </thead>\n",
       "  <tbody>\n",
       "    <tr>\n",
       "      <th>2013-01-01</th>\n",
       "      <td>3742.0</td>\n",
       "      <td>3742.0</td>\n",
       "      <td>3749.546829</td>\n",
       "      <td>8.229390</td>\n",
       "    </tr>\n",
       "    <tr>\n",
       "      <th>2013-02-01</th>\n",
       "      <td>3788.0</td>\n",
       "      <td>3788.0</td>\n",
       "      <td>3788.902205</td>\n",
       "      <td>8.239832</td>\n",
       "    </tr>\n",
       "    <tr>\n",
       "      <th>2013-03-01</th>\n",
       "      <td>3765.0</td>\n",
       "      <td>3765.0</td>\n",
       "      <td>3750.103014</td>\n",
       "      <td>8.229539</td>\n",
       "    </tr>\n",
       "    <tr>\n",
       "      <th>2013-04-01</th>\n",
       "      <td>3757.0</td>\n",
       "      <td>3757.0</td>\n",
       "      <td>3758.033354</td>\n",
       "      <td>8.231651</td>\n",
       "    </tr>\n",
       "    <tr>\n",
       "      <th>2013-05-01</th>\n",
       "      <td>3787.0</td>\n",
       "      <td>3787.0</td>\n",
       "      <td>3779.580853</td>\n",
       "      <td>8.237368</td>\n",
       "    </tr>\n",
       "    <tr>\n",
       "      <th>...</th>\n",
       "      <td>...</td>\n",
       "      <td>...</td>\n",
       "      <td>...</td>\n",
       "      <td>...</td>\n",
       "    </tr>\n",
       "    <tr>\n",
       "      <th>2021-08-01</th>\n",
       "      <td>5854.0</td>\n",
       "      <td>5854.0</td>\n",
       "      <td>5848.672578</td>\n",
       "      <td>8.673970</td>\n",
       "    </tr>\n",
       "    <tr>\n",
       "      <th>2021-09-01</th>\n",
       "      <td>5839.0</td>\n",
       "      <td>5839.0</td>\n",
       "      <td>5837.889976</td>\n",
       "      <td>8.672125</td>\n",
       "    </tr>\n",
       "    <tr>\n",
       "      <th>2021-10-01</th>\n",
       "      <td>5846.0</td>\n",
       "      <td>5846.0</td>\n",
       "      <td>5855.552445</td>\n",
       "      <td>8.675146</td>\n",
       "    </tr>\n",
       "    <tr>\n",
       "      <th>2021-11-01</th>\n",
       "      <td>5936.0</td>\n",
       "      <td>5936.0</td>\n",
       "      <td>5947.270402</td>\n",
       "      <td>8.690688</td>\n",
       "    </tr>\n",
       "    <tr>\n",
       "      <th>2021-12-01</th>\n",
       "      <td>NaN</td>\n",
       "      <td>5936.0</td>\n",
       "      <td>5962.091982</td>\n",
       "      <td>8.693177</td>\n",
       "    </tr>\n",
       "  </tbody>\n",
       "</table>\n",
       "<p>108 rows × 4 columns</p>\n",
       "</div>"
      ],
      "text/plain": [
       "             Sales  Sales_inter  deseasonalized  linearized\n",
       "2013-01-01  3742.0       3742.0     3749.546829    8.229390\n",
       "2013-02-01  3788.0       3788.0     3788.902205    8.239832\n",
       "2013-03-01  3765.0       3765.0     3750.103014    8.229539\n",
       "2013-04-01  3757.0       3757.0     3758.033354    8.231651\n",
       "2013-05-01  3787.0       3787.0     3779.580853    8.237368\n",
       "...            ...          ...             ...         ...\n",
       "2021-08-01  5854.0       5854.0     5848.672578    8.673970\n",
       "2021-09-01  5839.0       5839.0     5837.889976    8.672125\n",
       "2021-10-01  5846.0       5846.0     5855.552445    8.675146\n",
       "2021-11-01  5936.0       5936.0     5947.270402    8.690688\n",
       "2021-12-01     NaN       5936.0     5962.091982    8.693177\n",
       "\n",
       "[108 rows x 4 columns]"
      ]
     },
     "execution_count": 121,
     "metadata": {},
     "output_type": "execute_result"
    }
   ],
   "source": [
    "train_size = 0.7\n",
    "index = round(train_size*alc.shape[0])\n",
    "alc_train = alc.iloc[:index]\n",
    "alc_test = alc.iloc[index:]"
   ]
  },
  {
   "cell_type": "code",
   "execution_count": 352,
   "id": "58d93f4a-7640-493d-8dba-6d29652b75b4",
   "metadata": {
    "collapsed": true,
    "jupyter": {
     "outputs_hidden": true
    },
    "tags": []
   },
   "outputs": [
    {
     "name": "stdout",
     "output_type": "stream",
     "text": [
      "Performing stepwise search to minimize aic\n",
      " ARIMA(1,1,1)(0,0,0)[0] intercept   : AIC=-1478.815, Time=0.10 sec\n",
      " ARIMA(0,1,0)(0,0,0)[0] intercept   : AIC=-1448.290, Time=0.02 sec\n",
      " ARIMA(1,1,0)(0,0,0)[0] intercept   : AIC=-1479.647, Time=0.09 sec\n",
      " ARIMA(0,1,1)(0,0,0)[0] intercept   : AIC=-1481.095, Time=0.05 sec\n",
      " ARIMA(0,1,0)(0,0,0)[0]             : AIC=-1436.079, Time=0.03 sec\n",
      " ARIMA(0,1,2)(0,0,0)[0] intercept   : AIC=-1480.555, Time=0.23 sec\n",
      " ARIMA(1,1,2)(0,0,0)[0] intercept   : AIC=-1478.178, Time=0.18 sec\n",
      " ARIMA(0,1,1)(0,0,0)[0]             : AIC=-1452.216, Time=0.04 sec\n",
      "\n",
      "Best model:  ARIMA(0,1,1)(0,0,0)[0] intercept\n",
      "Total fit time: 0.752 seconds\n"
     ]
    }
   ],
   "source": [
    "import pmdarima as pm\n",
    "smodel = pm.auto_arima(alc_train['linearized'],\n",
    "                start_p=1, max_p=2,\n",
    "                start_q=1, max_q=2,\n",
    "                seasonal=False,\n",
    "                trace=True)"
   ]
  },
  {
   "cell_type": "code",
   "execution_count": 354,
   "id": "28de796d-10c3-45f2-a295-82658285f134",
   "metadata": {
    "collapsed": true,
    "jupyter": {
     "outputs_hidden": true
    },
    "tags": []
   },
   "outputs": [
    {
     "data": {
      "text/html": [
       "<table class=\"simpletable\">\n",
       "<caption>SARIMAX Results</caption>\n",
       "<tr>\n",
       "  <th>Dep. Variable:</th>      <td>linearized</td>    <th>  No. Observations:  </th>    <td>252</td>   \n",
       "</tr>\n",
       "<tr>\n",
       "  <th>Model:</th>            <td>ARIMA(0, 1, 1)</td>  <th>  Log Likelihood     </th>  <td>728.108</td> \n",
       "</tr>\n",
       "<tr>\n",
       "  <th>Date:</th>            <td>Sat, 05 Mar 2022</td> <th>  AIC                </th> <td>-1452.216</td>\n",
       "</tr>\n",
       "<tr>\n",
       "  <th>Time:</th>                <td>14:23:25</td>     <th>  BIC                </th> <td>-1445.166</td>\n",
       "</tr>\n",
       "<tr>\n",
       "  <th>Sample:</th>             <td>01-01-1992</td>    <th>  HQIC               </th> <td>-1449.379</td>\n",
       "</tr>\n",
       "<tr>\n",
       "  <th></th>                   <td>- 12-01-2012</td>   <th>                     </th>     <td> </td>    \n",
       "</tr>\n",
       "<tr>\n",
       "  <th>Covariance Type:</th>        <td>opg</td>       <th>                     </th>     <td> </td>    \n",
       "</tr>\n",
       "</table>\n",
       "<table class=\"simpletable\">\n",
       "<tr>\n",
       "     <td></td>       <th>coef</th>     <th>std err</th>      <th>z</th>      <th>P>|z|</th>  <th>[0.025</th>    <th>0.975]</th>  \n",
       "</tr>\n",
       "<tr>\n",
       "  <th>ma.L1</th>  <td>   -0.2454</td> <td>    0.053</td> <td>   -4.610</td> <td> 0.000</td> <td>   -0.350</td> <td>   -0.141</td>\n",
       "</tr>\n",
       "<tr>\n",
       "  <th>sigma2</th> <td>    0.0002</td> <td> 1.33e-05</td> <td>   13.254</td> <td> 0.000</td> <td>    0.000</td> <td>    0.000</td>\n",
       "</tr>\n",
       "</table>\n",
       "<table class=\"simpletable\">\n",
       "<tr>\n",
       "  <th>Ljung-Box (L1) (Q):</th>     <td>5.18</td> <th>  Jarque-Bera (JB):  </th> <td>20.57</td>\n",
       "</tr>\n",
       "<tr>\n",
       "  <th>Prob(Q):</th>                <td>0.02</td> <th>  Prob(JB):          </th> <td>0.00</td> \n",
       "</tr>\n",
       "<tr>\n",
       "  <th>Heteroskedasticity (H):</th> <td>1.09</td> <th>  Skew:              </th> <td>0.16</td> \n",
       "</tr>\n",
       "<tr>\n",
       "  <th>Prob(H) (two-sided):</th>    <td>0.70</td> <th>  Kurtosis:          </th> <td>4.37</td> \n",
       "</tr>\n",
       "</table><br/><br/>Warnings:<br/>[1] Covariance matrix calculated using the outer product of gradients (complex-step)."
      ],
      "text/plain": [
       "<class 'statsmodels.iolib.summary.Summary'>\n",
       "\"\"\"\n",
       "                               SARIMAX Results                                \n",
       "==============================================================================\n",
       "Dep. Variable:             linearized   No. Observations:                  252\n",
       "Model:                 ARIMA(0, 1, 1)   Log Likelihood                 728.108\n",
       "Date:                Sat, 05 Mar 2022   AIC                          -1452.216\n",
       "Time:                        14:23:25   BIC                          -1445.166\n",
       "Sample:                    01-01-1992   HQIC                         -1449.379\n",
       "                         - 12-01-2012                                         \n",
       "Covariance Type:                  opg                                         \n",
       "==============================================================================\n",
       "                 coef    std err          z      P>|z|      [0.025      0.975]\n",
       "------------------------------------------------------------------------------\n",
       "ma.L1         -0.2454      0.053     -4.610      0.000      -0.350      -0.141\n",
       "sigma2         0.0002   1.33e-05     13.254      0.000       0.000       0.000\n",
       "===================================================================================\n",
       "Ljung-Box (L1) (Q):                   5.18   Jarque-Bera (JB):                20.57\n",
       "Prob(Q):                              0.02   Prob(JB):                         0.00\n",
       "Heteroskedasticity (H):               1.09   Skew:                             0.16\n",
       "Prob(H) (two-sided):                  0.70   Kurtosis:                         4.37\n",
       "===================================================================================\n",
       "\n",
       "Warnings:\n",
       "[1] Covariance matrix calculated using the outer product of gradients (complex-step).\n",
       "\"\"\""
      ]
     },
     "execution_count": 354,
     "metadata": {},
     "output_type": "execute_result"
    }
   ],
   "source": [
    "from statsmodels.tsa.arima.model import ARIMA \n",
    "arima_train = ARIMA(alc_train['linearized'], order=(0,1,1))\n",
    "arima_train_fit = arima_train.fit(method='statespace')\n",
    "arima_train_fit.summary()"
   ]
  },
  {
   "cell_type": "code",
   "execution_count": 401,
   "id": "486d3b60-029d-46b9-adaa-a0cd4c0eb699",
   "metadata": {},
   "outputs": [],
   "source": [
    "forecast_train = arima_train_fit.get_forecast(steps = len(alc_test), alpha=0.5, dynamic=False)"
   ]
  },
  {
   "cell_type": "code",
   "execution_count": 402,
   "id": "7239a9ce-ef15-4a49-a916-309a74e1fac7",
   "metadata": {},
   "outputs": [
    {
     "data": {
      "text/html": [
       "<div>\n",
       "<style scoped>\n",
       "    .dataframe tbody tr th:only-of-type {\n",
       "        vertical-align: middle;\n",
       "    }\n",
       "\n",
       "    .dataframe tbody tr th {\n",
       "        vertical-align: top;\n",
       "    }\n",
       "\n",
       "    .dataframe thead th {\n",
       "        text-align: right;\n",
       "    }\n",
       "</style>\n",
       "<table border=\"1\" class=\"dataframe\">\n",
       "  <thead>\n",
       "    <tr style=\"text-align: right;\">\n",
       "      <th></th>\n",
       "      <th>lower linearized</th>\n",
       "      <th>upper linearized</th>\n",
       "    </tr>\n",
       "  </thead>\n",
       "  <tbody>\n",
       "    <tr>\n",
       "      <th>2013-01-01</th>\n",
       "      <td>8.224824</td>\n",
       "      <td>8.276947</td>\n",
       "    </tr>\n",
       "    <tr>\n",
       "      <th>2013-02-01</th>\n",
       "      <td>8.218236</td>\n",
       "      <td>8.283535</td>\n",
       "    </tr>\n",
       "    <tr>\n",
       "      <th>2013-03-01</th>\n",
       "      <td>8.212771</td>\n",
       "      <td>8.289000</td>\n",
       "    </tr>\n",
       "    <tr>\n",
       "      <th>2013-04-01</th>\n",
       "      <td>8.207996</td>\n",
       "      <td>8.293775</td>\n",
       "    </tr>\n",
       "    <tr>\n",
       "      <th>2013-05-01</th>\n",
       "      <td>8.203702</td>\n",
       "      <td>8.298069</td>\n",
       "    </tr>\n",
       "  </tbody>\n",
       "</table>\n",
       "</div>"
      ],
      "text/plain": [
       "            lower linearized  upper linearized\n",
       "2013-01-01          8.224824          8.276947\n",
       "2013-02-01          8.218236          8.283535\n",
       "2013-03-01          8.212771          8.289000\n",
       "2013-04-01          8.207996          8.293775\n",
       "2013-05-01          8.203702          8.298069"
      ]
     },
     "execution_count": 402,
     "metadata": {},
     "output_type": "execute_result"
    }
   ],
   "source": [
    "ci_train = forecast_train.conf_int()\n",
    "ci_train.head()"
   ]
  },
  {
   "cell_type": "code",
   "execution_count": 403,
   "id": "88ff6eea-60d3-4ac5-a702-10971c9d4c64",
   "metadata": {},
   "outputs": [],
   "source": [
    "mean_train = forecast_train.predicted_mean"
   ]
  },
  {
   "cell_type": "code",
   "execution_count": 404,
   "id": "4cf8c1f5-7845-4c41-97f6-14db90a026c3",
   "metadata": {
    "collapsed": true,
    "jupyter": {
     "outputs_hidden": true
    },
    "tags": []
   },
   "outputs": [
    {
     "data": {
      "text/plain": [
       "2013-01-01    8.250886\n",
       "2013-02-01    8.250886\n",
       "2013-03-01    8.250886\n",
       "2013-04-01    8.250886\n",
       "2013-05-01    8.250886\n",
       "                ...   \n",
       "2021-08-01    8.250886\n",
       "2021-09-01    8.250886\n",
       "2021-10-01    8.250886\n",
       "2021-11-01    8.250886\n",
       "2021-12-01    8.250886\n",
       "Freq: MS, Name: predicted_mean, Length: 108, dtype: float64"
      ]
     },
     "execution_count": 404,
     "metadata": {},
     "output_type": "execute_result"
    }
   ],
   "source": [
    "mean_train"
   ]
  },
  {
   "cell_type": "code",
   "execution_count": 405,
   "id": "5319e050-7717-43c4-b873-70f9fbb14bec",
   "metadata": {
    "tags": []
   },
   "outputs": [
    {
     "data": {
      "image/png": "[encoded data removed]",
      "text/plain": [
       "<Figure size 1008x288 with 1 Axes>"
      ]
     },
     "metadata": {
      "needs_background": "light"
     },
     "output_type": "display_data"
    }
   ],
   "source": [
    "ax = alc.linearized[\"2010-01-01\":].plot(label='observed', figsize=(14, 4))\n",
    "mean_train.plot(ax=ax, label='Forecast')\n",
    "ax.fill_between(ci_train.index,\n",
    "                ci_train.iloc[:, 0],\n",
    "                ci_train.iloc[:, 1], color='k', alpha=.25)\n",
    "ax.set_xlabel('Date')\n",
    "ax.set_ylabel('Sales')\n",
    "plt.legend()\n",
    "plt.show()"
   ]
  },
  {
   "cell_type": "markdown",
   "id": "d60f3afe-5e88-4e87-9637-c18f29662b01",
   "metadata": {},
   "source": [
    "## Re-compose back to initial time series\n",
    "This wasn't our original time series!</br>\n",
    "This is the linearized version, we extracted the seasonal and exponential components."
   ]
  },
  {
   "cell_type": "code",
   "execution_count": 415,
   "id": "705343d7-e351-442f-91af-4dea0d4d7c31",
   "metadata": {
    "collapsed": true,
    "jupyter": {
     "outputs_hidden": true
    },
    "tags": []
   },
   "outputs": [
    {
     "data": {
      "text/plain": [
       "2013-01-01    3823.306344\n",
       "2013-02-01    3830.104918\n",
       "2013-03-01    3846.235562\n",
       "2013-04-01    3829.963729\n",
       "2013-05-01    3838.537266\n",
       "                 ...     \n",
       "2021-08-01    3834.506738\n",
       "2021-09-01    3831.745586\n",
       "2021-10-01    3824.767428\n",
       "2021-11-01    3823.757165\n",
       "2021-12-01    3814.251421\n",
       "Freq: MS, Length: 108, dtype: float64"
      ]
     },
     "execution_count": 415,
     "metadata": {},
     "output_type": "execute_result"
    }
   ],
   "source": [
    "reconstructed = np.exp(mean_train)*alc_result_mult.seasonal[index:]\n",
    "reconstructed"
   ]
  },
  {
   "cell_type": "code",
   "execution_count": 417,
   "id": "ee5769e6-01ff-4fa5-ae21-2e24e948483c",
   "metadata": {},
   "outputs": [],
   "source": [
    "lower_recons = np.exp(ci_train).iloc[:,0]*result_mul.seasonal[index:]\n",
    "upper_recons = np.exp(ci_train).iloc[:,1]*result_mul.seasonal[index:]"
   ]
  },
  {
   "cell_type": "code",
   "execution_count": 424,
   "id": "a4870cdc-7f16-411e-b023-b72132640e31",
   "metadata": {},
   "outputs": [
    {
     "data": {
      "image/png": "[encoded data removed]",
      "text/plain": [
       "<Figure size 1008x288 with 1 Axes>"
      ]
     },
     "metadata": {
      "needs_background": "light"
     },
     "output_type": "display_data"
    }
   ],
   "source": [
    "ax = alc.Sales[\"2010-01-01\":].plot(label='Original Series', figsize=(14, 4))\n",
    "reconstructed.plot(ax=ax, label='reconstructed Forecast')\n",
    "ax.fill_between(alc_test.index, lower_recons, upper_recons, color='k', alpha=0.25)\n",
    "ax.set_xlabel('Date')\n",
    "ax.set_ylabel('Sales')\n",
    "plt.legend()\n",
    "plt.show()"
   ]
  },
  {
   "cell_type": "code",
   "execution_count": 438,
   "id": "95a6b52f-34ae-4920-bad1-0b358266aad9",
   "metadata": {
    "tags": []
   },
   "outputs": [
    {
     "data": {
      "text/plain": [
       "[<matplotlib.lines.Line2D at 0x7f4e4e67a9a0>]"
      ]
     },
     "execution_count": 438,
     "metadata": {},
     "output_type": "execute_result"
    },
    {
     "data": {
      "image/png": "[encoded data removed]",
      "text/plain": [
       "<Figure size 1000x400 with 1 Axes>"
      ]
     },
     "metadata": {
      "needs_background": "light"
     },
     "output_type": "display_data"
    }
   ],
   "source": [
    "fc_series = pd.Series(reconstructed, index=alc_test.index)\n",
    "# Plot\n",
    "plt.figure(figsize=(10,4), dpi=100)\n",
    "plt.plot(alc.Sales, label='actual', color='g', ls='--')\n",
    "plt.plot(alc_train, label='training', color='black', ls='-.')\n",
    "plt.plot(fc_series, label='forecast', color='orange')"
   ]
  },
  {
   "cell_type": "code",
   "execution_count": null,
   "id": "8bc19aae-af6a-49c2-9c51-7504378a7e88",
   "metadata": {},
   "outputs": [],
   "source": [
    "\n",
    "\n",
    "plt.plot(fc_series, label='forecast', color='orange')\n",
    "if is_confidence_int:\n",
    "plt.fill_between(lower_series.index, lower_series, upper_series, color='k', alpha=.15)\n",
    "plt.title('Forecast vs Actuals')\n",
    "plt.legend(loc='upper left', fontsize=8);"
   ]
  },
  {
   "cell_type": "code",
   "execution_count": 435,
   "id": "be0cf1a2-8dc2-493e-92bf-c9b7c6ceec94",
   "metadata": {},
   "outputs": [
    {
     "data": {
      "text/plain": [
       "1992-01-01    1713.0\n",
       "1992-02-01    1763.0\n",
       "1992-03-01    1753.0\n",
       "1992-04-01    1784.0\n",
       "1992-05-01    1783.0\n",
       "               ...  \n",
       "2021-08-01    5854.0\n",
       "2021-09-01    5839.0\n",
       "2021-10-01    5846.0\n",
       "2021-11-01    5936.0\n",
       "2021-12-01       NaN\n",
       "Freq: MS, Name: Sales, Length: 360, dtype: float64"
      ]
     },
     "execution_count": 435,
     "metadata": {},
     "output_type": "execute_result"
    }
   ],
   "source": [
    "alc.Sales"
   ]
  },
  {
   "cell_type": "code",
   "execution_count": null,
   "id": "7f654aab-4848-4e57-bf74-168baa68b593",
   "metadata": {},
   "outputs": [],
   "source": []
  }
 ],
 "metadata": {
  "kernelspec": {
   "display_name": "Python 3 (ipykernel)",
   "language": "python",
   "name": "python3"
  },
  "language_info": {
   "codemirror_mode": {
    "name": "ipython",
    "version": 3
   },
   "file_extension": ".py",
   "mimetype": "text/x-python",
   "name": "python",
   "nbconvert_exporter": "python",
   "pygments_lexer": "ipython3",
   "version": "3.8.12"
  },
  "widgets": {
   "application/vnd.jupyter.widget-state+json": {
    "state": {},
    "version_major": 2,
    "version_minor": 0
   }
  }
 },
 "nbformat": 4,
 "nbformat_minor": 5
}
