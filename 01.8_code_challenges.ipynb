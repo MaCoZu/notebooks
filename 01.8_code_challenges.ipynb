{
 "cells": [
  {
   "cell_type": "markdown",
   "metadata": {},
   "source": [
    "# HackerRank"
   ]
  },
  {
   "cell_type": "code",
   "execution_count": 6,
   "metadata": {},
   "outputs": [
    {
     "name": "stdout",
     "output_type": "stream",
     "text": [
      "[[0, 0, 0], [0, 0, 1], [0, 1, 0], [0, 1, 1], [1, 0, 0], [1, 0, 1], [1, 1, 0]]\n"
     ]
    }
   ],
   "source": [
    "'''List comprehensions! You are given three integers and representing the dimensions of a cuboid along \n",
    "with an integer. Print a list of all possiblecoordinates given by on a 3D grid where the sum of is not equal to '''\n",
    "\n",
    "if __name__ == '__main__':\n",
    "\n",
    "    x = int(input())\n",
    "    y = int(input())\n",
    "    z = int(input())\n",
    "    n = int(input())\n",
    "\n",
    "    x=[x for x in range(x+1)]\n",
    "    y=[y for y in range(y+1)]\n",
    "    z=[z for z in range(z+1)]\n",
    "\n",
    "    perm = [[i,j,k] for i in x for j in y for k in z] # permutations \n",
    "    per =[]\n",
    "\n",
    "    # sort out duplicates\n",
    "    [per.append(item) for item in perm if item not in per]\n",
    "    \n",
    "    # only those which do not sum to n\n",
    "    res = [p for p in per if sum(p) != n]\n",
    "    print(res)"
   ]
  },
  {
   "cell_type": "code",
   "execution_count": null,
   "metadata": {},
   "outputs": [],
   "source": [
    "\"\"\"Given the participants' score sheet for your University Sports Day, you are\n",
    "required to find the runner-up score. You are given scores. Store them in a\n",
    "list and find the score of the runner-up.\"\"\"\n",
    "\n",
    "if __name__ == '__main__':\n",
    "    n = int(input())\n",
    "    arr = map(int, input().split())\n",
    "    d=[]\n",
    "    [d.append(i) for i in arr if i not in d]\n",
    "    print(sorted(d)[-2])"
   ]
  },
  {
   "cell_type": "code",
   "execution_count": null,
   "metadata": {},
   "outputs": [],
   "source": [
    "\"\"\"Given the names and grades for each student in a class of students, store them in a nested list and\n",
    "print the name(s) of any student(s) having the second lowest grade. Note: If there are multiple students\n",
    "with the second lowest grade, order their names alphabetically and print each name on a new line.\"\"\"\n",
    "\n",
    "if __name__ == '__main__':\n",
    "\n",
    "    students = []\n",
    "\n",
    "    for _ in range(int(input())):\n",
    "        name = input()\n",
    "        score = float(input())\n",
    "        students.append([name, score])\n",
    "\n",
    "# key is a keyword for the max() fct.\n",
    "# lambda i: i[1] creates an anonymous fct. that returns the second element\n",
    "last = min(students, key = lambda i: i[1])\n",
    "\n",
    "second_up =[]\n",
    "# all but the lowest score\n",
    "# don't use 'not in' with numbers use: operators (=, ==, !=, etc.)\n",
    "[second_up.append(i) for i in students if i[1] != last[1]]\n",
    "\n",
    "# sort each inner of the nested list by the element at the given index number\n",
    "second_up.sort(key=lambda i: i[1])\n",
    "\n",
    "sec =[]\n",
    "# pick only the second lowest grades wich are equal to the first in the list\n",
    "[sec.append(i) for i in second_up if i[1] == second_up[0][1]]\n",
    "\n",
    "# order the secod lowest grades by name\n",
    "sec.sort(key=lambda i: i[0])\n",
    "\n",
    "for s in sec:\n",
    "    print(s[0])"
   ]
  },
  {
   "cell_type": "code",
   "execution_count": 9,
   "metadata": {},
   "outputs": [
    {
     "name": "stdout",
     "output_type": "stream",
     "text": [
      "40.0\n"
     ]
    }
   ],
   "source": [
    "\"\"\"The provided code stub will read in a dictionary containing key/value pairs of name:[marks]\n",
    "for a list of students. Print the average of the marks array for the student name provided,\n",
    "showing 2 places after the decimal.\n",
    "Input format: \n",
    "3\n",
    "Krishna 67 68 69\n",
    "Arjun 70 98 63\n",
    "Malika 52 56 60\n",
    "Malika\"\"\"\n",
    "\n",
    "if __name__ == '__main__':\n",
    "    n = int(input())\n",
    "    student_marks = {}\n",
    "    for _ in range(n):\n",
    "        name, *line = input().split()\n",
    "        scores = list(map(float, line))\n",
    "        student_marks[name] = scores\n",
    "    query_name = input()\n",
    "\n",
    "    s = student_marks[query_name]\n",
    "    avg = sum(s)/len(s)\n",
    "    print(\"%.2f\" % avg)"
   ]
  },
  {
   "cell_type": "code",
   "execution_count": null,
   "metadata": {},
   "outputs": [],
   "source": [
    "''' You are given a set and other sets. Your job is to find whether set is a strict superset of each of the\n",
    "sets. Print True, if is a strict superset of each of the sets. Otherwise, print False. A strict superset has at \n",
    "least one element that does not exist in its subset.'''\n",
    "\n"
   ]
  },
  {
   "cell_type": "markdown",
   "metadata": {},
   "source": [
    "# Automate the boring Stuff"
   ]
  },
  {
   "cell_type": "code",
   "execution_count": null,
   "metadata": {},
   "outputs": [
    {
     "name": "stdout",
     "output_type": "stream",
     "text": [
      "Enter the name of cat 1 (Or enter nothing to stop.):\n",
      "Enter the name of cat 2 (Or enter nothing to stop.):\n",
      "Enter the name of cat 3 (Or enter nothing to stop.):\n",
      "The cat names are:\n",
      "  Sue\n",
      "  Sue\n"
     ]
    }
   ],
   "source": [
    "\"\"\"This new version uses a single list and\n",
    "can store any number of cats that the user types in.\"\"\"\n",
    "catNames = []\n",
    "while True:\n",
    "    print('Enter the name of cat ' + str(len(catNames) + 1) +\n",
    "      ' (Or enter nothing to stop.):')\n",
    "    name = input()\n",
    "    if name == '':\n",
    "        break\n",
    "    catNames = catNames + [name]  # list concatenation\n",
    "print('The cat names are:')\n",
    "for name in catNames:\n",
    "    print('  ' + name)"
   ]
  },
  {
   "cell_type": "code",
   "execution_count": null,
   "metadata": {},
   "outputs": [
    {
     "name": "stdout",
     "output_type": "stream",
     "text": [
      "Index 0 in supplies is: pens\n",
      "Index 1 in supplies is: staplers\n",
      "Index 2 in supplies is: flamethrowers\n",
      "Index 3 in supplies is: binders\n"
     ]
    }
   ],
   "source": [
    "\"\"\"A common Python technique is to use range(len(someList)) with a for loop to iterate over the indexes of a list.\"\"\"\n",
    "supplies = ['pens', 'staplers', 'flamethrowers', 'binders']\n",
    "for i in range(len(supplies)):\n",
    "    print('Index ' + str(i) + ' in supplies is: ' + supplies[i])"
   ]
  },
  {
   "cell_type": "code",
   "execution_count": null,
   "metadata": {},
   "outputs": [
    {
     "name": "stdout",
     "output_type": "stream",
     "text": [
      "Enter a pet name:\n",
      "I do not have a pet named GErd, try again.\n",
      "Enter a pet name:\n",
      "Pooka is my pet.\n"
     ]
    }
   ],
   "source": [
    "\"\"\" The in and not in Operators\"\"\"\n",
    "myPets = ['Zophie', 'Pooka', 'Fat-tail']\n",
    "while True:\n",
    "    print('Enter a pet name:')\n",
    "    name = input()\n",
    "    if name not in myPets:\n",
    "        print(f\"I do not have a pet named {name}, try again.\")\n",
    "    else:\n",
    "        print(name + ' is my pet.')\n",
    "        break"
   ]
  }
 ],
 "metadata": {
  "kernelspec": {
   "display_name": "Python 3.10.5 64-bit ('bayes')",
   "language": "python",
   "name": "python3"
  },
  "language_info": {
   "codemirror_mode": {
    "name": "ipython",
    "version": 3
   },
   "file_extension": ".py",
   "mimetype": "text/x-python",
   "name": "python",
   "nbconvert_exporter": "python",
   "pygments_lexer": "ipython3",
   "version": "3.10.5"
  },
  "orig_nbformat": 4,
  "vscode": {
   "interpreter": {
    "hash": "7ada1a2f9ff8c705303b373713926c84dd2165bd628243d92436ff90f342877c"
   }
  }
 },
 "nbformat": 4,
 "nbformat_minor": 2
}
