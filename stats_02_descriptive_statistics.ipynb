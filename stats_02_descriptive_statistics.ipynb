{
 "cells": [
  {
   "cell_type": "markdown",
   "id": "732d15e6-a103-4df9-8379-420150d3381b",
   "metadata": {},
   "source": [
    "# Multivariate Descriptive\n",
    "Descriptive statistics provide simple summaries of (large amounts of) information (or data). These summaries are quantitative (e.g. means, correlations) or displayed visually (in graphs, scatterplots, etc.)."
   ]
  },
  {
   "cell_type": "markdown",
   "id": "2a20e10a-2a68-4fed-82e3-0a4845e0c590",
   "metadata": {},
   "source": [
    "## Lorenz curve"
   ]
  },
  {
   "cell_type": "code",
   "execution_count": null,
   "id": "343330ec-1903-4ec0-93d7-2fa3c0810d67",
   "metadata": {
    "collapsed": true,
    "jupyter": {
     "outputs_hidden": true
    },
    "tags": []
   },
   "outputs": [
    {
     "data": {
      "text/plain": [
       "array([ 10,   9,  12,   9,   6,   8,   9,  12,  11,  13,   9,  15,   9,\n",
       "        17,  14,  11,  16,   7,   9,  11,  11,   7,  14,  11,  10,   6,\n",
       "        12,   6,   9,   4,   5,  15,  12,  14,   6,   8,   6,  15,  12,\n",
       "        13,  99, 111,  79, 106,  88, 102, 100,  87, 116, 103])"
      ]
     },
     "metadata": {},
     "output_type": "display_data"
    }
   ],
   "source": [
    "import numpy as np\n",
    "from matplotlib import pyplot as plt\n",
    "%matplotlib inline\n",
    "# To make a skewed dataset, I append two Poisson random samples together.\n",
    "X = np.append(np.random.poisson(lam=10, size=40), \n",
    "              np.random.poisson(lam=100, size=10))\n",
    "X"
   ]
  },
  {
   "cell_type": "code",
   "execution_count": null,
   "id": "ccacc03d-40b9-4c8d-bd33-ba6286c9631e",
   "metadata": {
    "collapsed": true,
    "jupyter": {
     "outputs_hidden": true
    },
    "tags": []
   },
   "outputs": [
    {
     "data": {
      "image/png": "[encoded data removed]",
      "text/plain": [
       "<Figure size 432x432 with 1 Axes>"
      ]
     },
     "metadata": {},
     "output_type": "display_data"
    }
   ],
   "source": [
    "def lorenz_curve(X):\n",
    "    X_lorenz = X.cumsum() / X.sum()\n",
    "    X_lorenz = np.insert(X_lorenz, 0, 0) \n",
    "    fig, ax = plt.subplots(figsize=[6,6])\n",
    "    ## scatter plot of Lorenz curve\n",
    "    ax.scatter(np.arange(X_lorenz.size)/(X_lorenz.size-1), X_lorenz, \n",
    "               marker='.', color='r', s=100);\n",
    "    ## line plot of equality\n",
    "    ax.plot([0,1], [0,1], color='k')\n",
    "\n",
    "lorenz_curve(X)"
   ]
  },
  {
   "cell_type": "markdown",
   "id": "74ed7aa6-e004-44be-9e11-09d15690257b",
   "metadata": {},
   "source": [
    "## Gini-Coefficient"
   ]
  },
  {
   "cell_type": "code",
   "execution_count": null,
   "id": "40045375-92bd-4630-825c-64aded8853e1",
   "metadata": {},
   "outputs": [
    {
     "data": {
      "text/plain": [
       "0.5566381766381765"
      ]
     },
     "metadata": {},
     "output_type": "display_data"
    }
   ],
   "source": [
    "def gini(arr):\n",
    "    ## first sort\n",
    "    sorted_arr = arr.copy()\n",
    "    sorted_arr.sort()\n",
    "    n = arr.size\n",
    "    coef_ = 2. / n\n",
    "    const_ = (n + 1.) / n\n",
    "    weighted_sum = sum([(i+1)*xi for i, xi in enumerate(sorted_arr)])\n",
    "    return coef_*weighted_sum/(sorted_arr.sum()) - const_\n",
    "\n",
    "gini(X)"
   ]
  },
  {
   "cell_type": "markdown",
   "id": "a9aeea41-d4b6-44a6-bbc4-22e13cd2eb2b",
   "metadata": {},
   "source": [
    "## Contingency table"
   ]
  },
  {
   "cell_type": "markdown",
   "id": "83ad0354-d5fe-4e7b-8dcf-43ace556fba5",
   "metadata": {},
   "source": [
    "### using crosstab</br>\n",
    "pandas.crosstab(index, columns, values=None, rownames=None, colnames=None, aggfunc=None, margins=False, margins_name: str = 'All', dropna: bool = True, normalize=False)"
   ]
  },
  {
   "cell_type": "code",
   "execution_count": null,
   "id": "031c2184-d6a4-4757-90b8-2e3c21a91739",
   "metadata": {},
   "outputs": [],
   "source": [
    "import pandas as pd"
   ]
  },
  {
   "cell_type": "code",
   "execution_count": null,
   "id": "a5009cee-9b5e-4120-92ae-2635df45f938",
   "metadata": {
    "tags": []
   },
   "outputs": [
    {
     "data": {
      "text/html": [
       "<div>\n",
       "<style scoped>\n",
       "    .dataframe tbody tr th:only-of-type {\n",
       "        vertical-align: middle;\n",
       "    }\n",
       "\n",
       "    .dataframe tbody tr th {\n",
       "        vertical-align: top;\n",
       "    }\n",
       "\n",
       "    .dataframe thead th {\n",
       "        text-align: right;\n",
       "    }\n",
       "</style>\n",
       "<table border=\"1\" class=\"dataframe\">\n",
       "  <thead>\n",
       "    <tr style=\"text-align: right;\">\n",
       "      <th></th>\n",
       "      <th>trained</th>\n",
       "      <th>jobless</th>\n",
       "      <th>number</th>\n",
       "    </tr>\n",
       "  </thead>\n",
       "  <tbody>\n",
       "    <tr>\n",
       "      <th>0</th>\n",
       "      <td>no</td>\n",
       "      <td>short</td>\n",
       "      <td>86</td>\n",
       "    </tr>\n",
       "    <tr>\n",
       "      <th>1</th>\n",
       "      <td>no</td>\n",
       "      <td>middel</td>\n",
       "      <td>19</td>\n",
       "    </tr>\n",
       "    <tr>\n",
       "      <th>2</th>\n",
       "      <td>no</td>\n",
       "      <td>long</td>\n",
       "      <td>18</td>\n",
       "    </tr>\n",
       "    <tr>\n",
       "      <th>3</th>\n",
       "      <td>apprentice</td>\n",
       "      <td>short</td>\n",
       "      <td>170</td>\n",
       "    </tr>\n",
       "    <tr>\n",
       "      <th>4</th>\n",
       "      <td>apprentice</td>\n",
       "      <td>middel</td>\n",
       "      <td>43</td>\n",
       "    </tr>\n",
       "    <tr>\n",
       "      <th>5</th>\n",
       "      <td>apprentice</td>\n",
       "      <td>long</td>\n",
       "      <td>20</td>\n",
       "    </tr>\n",
       "    <tr>\n",
       "      <th>6</th>\n",
       "      <td>specialized</td>\n",
       "      <td>short</td>\n",
       "      <td>40</td>\n",
       "    </tr>\n",
       "    <tr>\n",
       "      <th>7</th>\n",
       "      <td>specialized</td>\n",
       "      <td>middel</td>\n",
       "      <td>11</td>\n",
       "    </tr>\n",
       "    <tr>\n",
       "      <th>8</th>\n",
       "      <td>specialized</td>\n",
       "      <td>long</td>\n",
       "      <td>5</td>\n",
       "    </tr>\n",
       "    <tr>\n",
       "      <th>9</th>\n",
       "      <td>academia</td>\n",
       "      <td>short</td>\n",
       "      <td>28</td>\n",
       "    </tr>\n",
       "    <tr>\n",
       "      <th>10</th>\n",
       "      <td>academia</td>\n",
       "      <td>middel</td>\n",
       "      <td>4</td>\n",
       "    </tr>\n",
       "    <tr>\n",
       "      <th>11</th>\n",
       "      <td>academia</td>\n",
       "      <td>long</td>\n",
       "      <td>3</td>\n",
       "    </tr>\n",
       "  </tbody>\n",
       "</table>\n",
       "</div>"
      ],
      "text/plain": [
       "        trained jobless  number\n",
       "0            no   short      86\n",
       "1            no  middel      19\n",
       "2            no    long      18\n",
       "3    apprentice   short     170\n",
       "4    apprentice  middel      43\n",
       "5    apprentice    long      20\n",
       "6   specialized   short      40\n",
       "7   specialized  middel      11\n",
       "8   specialized    long       5\n",
       "9      academia   short      28\n",
       "10     academia  middel       4\n",
       "11     academia    long       3"
      ]
     },
     "metadata": {},
     "output_type": "display_data"
    }
   ],
   "source": [
    "dd = pd.DataFrame([[\"no\", \"short\", 86], [\"no\", \"middel\", 19], [\"no\", \"long\", 18],\n",
    "                                 [\"apprentice\", \"short\", 170], [\"apprentice\", \"middel\", 43], [\"apprentice\", \"long\", 20],\n",
    "                                 [\"specialized\", \"short\", 40], [\"specialized\", \"middel\", 11], [\"specialized\", \"long\",5], \n",
    "                                 [\"academia\", \"short\", 28], [\"academia\", \"middel\", 4], [\"academia\", \"long\", 3]],            \n",
    "                 columns=[\"trained\", \"jobless\", \"number\"])\n",
    "dd"
   ]
  },
  {
   "cell_type": "code",
   "execution_count": null,
   "id": "19bb824b-2677-4eaf-b234-d3e649d64989",
   "metadata": {},
   "outputs": [
    {
     "data": {
      "text/html": [
       "<div>\n",
       "<style scoped>\n",
       "    .dataframe tbody tr th:only-of-type {\n",
       "        vertical-align: middle;\n",
       "    }\n",
       "\n",
       "    .dataframe tbody tr th {\n",
       "        vertical-align: top;\n",
       "    }\n",
       "\n",
       "    .dataframe thead th {\n",
       "        text-align: right;\n",
       "    }\n",
       "</style>\n",
       "<table border=\"1\" class=\"dataframe\">\n",
       "  <thead>\n",
       "    <tr style=\"text-align: right;\">\n",
       "      <th>jobless</th>\n",
       "      <th>long</th>\n",
       "      <th>middel</th>\n",
       "      <th>short</th>\n",
       "      <th>All</th>\n",
       "    </tr>\n",
       "    <tr>\n",
       "      <th>trained</th>\n",
       "      <th></th>\n",
       "      <th></th>\n",
       "      <th></th>\n",
       "      <th></th>\n",
       "    </tr>\n",
       "  </thead>\n",
       "  <tbody>\n",
       "    <tr>\n",
       "      <th>academia</th>\n",
       "      <td>0.065217</td>\n",
       "      <td>0.051948</td>\n",
       "      <td>0.086420</td>\n",
       "      <td>0.078300</td>\n",
       "    </tr>\n",
       "    <tr>\n",
       "      <th>apprentice</th>\n",
       "      <td>0.434783</td>\n",
       "      <td>0.558442</td>\n",
       "      <td>0.524691</td>\n",
       "      <td>0.521253</td>\n",
       "    </tr>\n",
       "    <tr>\n",
       "      <th>no</th>\n",
       "      <td>0.391304</td>\n",
       "      <td>0.246753</td>\n",
       "      <td>0.265432</td>\n",
       "      <td>0.275168</td>\n",
       "    </tr>\n",
       "    <tr>\n",
       "      <th>specialized</th>\n",
       "      <td>0.108696</td>\n",
       "      <td>0.142857</td>\n",
       "      <td>0.123457</td>\n",
       "      <td>0.125280</td>\n",
       "    </tr>\n",
       "  </tbody>\n",
       "</table>\n",
       "</div>"
      ],
      "text/plain": [
       "jobless          long    middel     short       All\n",
       "trained                                            \n",
       "academia     0.065217  0.051948  0.086420  0.078300\n",
       "apprentice   0.434783  0.558442  0.524691  0.521253\n",
       "no           0.391304  0.246753  0.265432  0.275168\n",
       "specialized  0.108696  0.142857  0.123457  0.125280"
      ]
     },
     "metadata": {},
     "output_type": "display_data"
    }
   ],
   "source": [
    "# unfourtunately pd.crosstab crosstab by default arrange the index and \n",
    "# columns in an ascending order & this order can’t be changed.\n",
    "ct = pd.crosstab(index=dd.trained, columns=dd.jobless, values=dd.number, \n",
    "                           aggfunc=\"sum\", margins=True, normalize=\"columns\")         #   ‘columns’ -> sum by level of training\n",
    "ct  "
   ]
  },
  {
   "cell_type": "markdown",
   "id": "5600d6a9-1085-4320-93de-e47452f38080",
   "metadata": {
    "tags": []
   },
   "source": [
    "### heatmap"
   ]
  },
  {
   "cell_type": "code",
   "execution_count": null,
   "id": "4a853957-0ce2-4cd1-87dd-312c96e54d7e",
   "metadata": {},
   "outputs": [
    {
     "data": {
      "text/plain": [
       "<Figure size 432x288 with 0 Axes>"
      ]
     },
     "metadata": {},
     "output_type": "display_data"
    },
    {
     "data": {
      "image/png": "[encoded data removed]",
      "text/plain": [
       "<Figure size 720x576 with 1 Axes>"
      ]
     },
     "metadata": {},
     "output_type": "display_data"
    }
   ],
   "source": [
    "import matplotlib.pyplot as plt\n",
    "import seaborn as sn\n",
    "plt.clf();                                     # Clear the current figure.\n",
    "\n",
    "fig, ax = plt.subplots(figsize=(10, 8), facecolor=\"#FFFFFF\"); # figure color\n",
    "ax.set_aspect(\"auto\");     # \"equal\", or float representing aspect ratio of y to x\n",
    "plt.title(\"Unemployment by level of education\", fontsize=16, y=1.04,  fontweight=\"bold\")\n",
    "ax.xaxis.label.set_fontsize(14)\n",
    "ax.yaxis.label.set_fontsize(14)\n",
    "plt.xticks(fontsize=12)\n",
    "plt.yticks(fontsize=12)\n",
    "\n",
    "cmap = sn.light_palette(\"seagreen\", as_cmap=True);\n",
    "res = sn.heatmap(ct, annot=True, fmt='.3f', cmap=cmap, cbar=False);\n",
    "\n",
    "plt.savefig(\"crosstab.png\", bbox_inches='tight', dpi=200);        # saves the graph\n",
    "plt.show()"
   ]
  },
  {
   "cell_type": "markdown",
   "id": "baf43628-8fe2-4193-a10c-3f6c46c4a604",
   "metadata": {},
   "source": [
    "### selfmade crosstab\n",
    "to impose the preferred order of row & columns one can create a selfmade crosstab"
   ]
  },
  {
   "cell_type": "code",
   "execution_count": null,
   "id": "155d235d-1e9e-4072-9bff-db57900a34a5",
   "metadata": {},
   "outputs": [
    {
     "data": {
      "text/html": [
       "<div>\n",
       "<style scoped>\n",
       "    .dataframe tbody tr th:only-of-type {\n",
       "        vertical-align: middle;\n",
       "    }\n",
       "\n",
       "    .dataframe tbody tr th {\n",
       "        vertical-align: top;\n",
       "    }\n",
       "\n",
       "    .dataframe thead th {\n",
       "        text-align: right;\n",
       "    }\n",
       "</style>\n",
       "<table border=\"1\" class=\"dataframe\">\n",
       "  <thead>\n",
       "    <tr style=\"text-align: right;\">\n",
       "      <th></th>\n",
       "      <th>short</th>\n",
       "      <th>middel</th>\n",
       "      <th>long</th>\n",
       "    </tr>\n",
       "  </thead>\n",
       "  <tbody>\n",
       "    <tr>\n",
       "      <th>no</th>\n",
       "      <td>86</td>\n",
       "      <td>19</td>\n",
       "      <td>18</td>\n",
       "    </tr>\n",
       "    <tr>\n",
       "      <th>apprentice</th>\n",
       "      <td>170</td>\n",
       "      <td>43</td>\n",
       "      <td>20</td>\n",
       "    </tr>\n",
       "    <tr>\n",
       "      <th>specialized</th>\n",
       "      <td>40</td>\n",
       "      <td>11</td>\n",
       "      <td>5</td>\n",
       "    </tr>\n",
       "    <tr>\n",
       "      <th>academia</th>\n",
       "      <td>28</td>\n",
       "      <td>4</td>\n",
       "      <td>3</td>\n",
       "    </tr>\n",
       "  </tbody>\n",
       "</table>\n",
       "</div>"
      ],
      "text/plain": [
       "             short  middel  long\n",
       "no              86      19    18\n",
       "apprentice     170      43    20\n",
       "specialized     40      11     5\n",
       "academia        28       4     3"
      ]
     },
     "metadata": {},
     "output_type": "display_data"
    }
   ],
   "source": [
    "df = pd.DataFrame(\n",
    "{\"short\":[86, 170, 40, 28],\n",
    " \"middel\":[19, 43, 11, 4],\n",
    " \"long\":[18,20,5,3] },\n",
    "index = [\"no\" ,\"apprentice\", \"specialized\", \"academia\"])\n",
    "df"
   ]
  },
  {
   "cell_type": "markdown",
   "id": "a78cbac4-1f4c-4783-ad59-81a63f345013",
   "metadata": {},
   "source": [
    "add margin of rows and columns"
   ]
  },
  {
   "cell_type": "code",
   "execution_count": null,
   "id": "da425756-dd79-44ac-b6da-c20105df5439",
   "metadata": {},
   "outputs": [
    {
     "data": {
      "text/html": [
       "<div>\n",
       "<style scoped>\n",
       "    .dataframe tbody tr th:only-of-type {\n",
       "        vertical-align: middle;\n",
       "    }\n",
       "\n",
       "    .dataframe tbody tr th {\n",
       "        vertical-align: top;\n",
       "    }\n",
       "\n",
       "    .dataframe thead th {\n",
       "        text-align: right;\n",
       "    }\n",
       "</style>\n",
       "<table border=\"1\" class=\"dataframe\">\n",
       "  <thead>\n",
       "    <tr style=\"text-align: right;\">\n",
       "      <th></th>\n",
       "      <th>short</th>\n",
       "      <th>middel</th>\n",
       "      <th>long</th>\n",
       "      <th>sum</th>\n",
       "    </tr>\n",
       "  </thead>\n",
       "  <tbody>\n",
       "    <tr>\n",
       "      <th>no</th>\n",
       "      <td>86.0</td>\n",
       "      <td>19.0</td>\n",
       "      <td>18.0</td>\n",
       "      <td>123.0</td>\n",
       "    </tr>\n",
       "    <tr>\n",
       "      <th>apprentice</th>\n",
       "      <td>170.0</td>\n",
       "      <td>43.0</td>\n",
       "      <td>20.0</td>\n",
       "      <td>233.0</td>\n",
       "    </tr>\n",
       "    <tr>\n",
       "      <th>specialized</th>\n",
       "      <td>40.0</td>\n",
       "      <td>11.0</td>\n",
       "      <td>5.0</td>\n",
       "      <td>56.0</td>\n",
       "    </tr>\n",
       "    <tr>\n",
       "      <th>academia</th>\n",
       "      <td>28.0</td>\n",
       "      <td>4.0</td>\n",
       "      <td>3.0</td>\n",
       "      <td>35.0</td>\n",
       "    </tr>\n",
       "    <tr>\n",
       "      <th>sum</th>\n",
       "      <td>324.0</td>\n",
       "      <td>77.0</td>\n",
       "      <td>46.0</td>\n",
       "      <td>447.0</td>\n",
       "    </tr>\n",
       "  </tbody>\n",
       "</table>\n",
       "</div>"
      ],
      "text/plain": [
       "             short  middel  long    sum\n",
       "no            86.0    19.0  18.0  123.0\n",
       "apprentice   170.0    43.0  20.0  233.0\n",
       "specialized   40.0    11.0   5.0   56.0\n",
       "academia      28.0     4.0   3.0   35.0\n",
       "sum          324.0    77.0  46.0  447.0"
      ]
     },
     "metadata": {},
     "output_type": "display_data"
    }
   ],
   "source": [
    "#Total sum per row: \n",
    "df.loc[:, \"sum\"] = df.sum(axis=1)\n",
    "#Total sum per column: \n",
    "df.loc['sum',:]= df.sum(axis=0)\n",
    "df"
   ]
  },
  {
   "cell_type": "markdown",
   "id": "a0b53c30-1fde-408c-b2a4-1cd1655953d3",
   "metadata": {},
   "source": [
    "### relative frequency"
   ]
  },
  {
   "cell_type": "code",
   "execution_count": null,
   "id": "b4ac2a1c-3e95-4c43-974e-b260ff924a05",
   "metadata": {},
   "outputs": [],
   "source": [
    "rel = round(df/447, 4)  # divided by total, round to 4 figures"
   ]
  },
  {
   "cell_type": "code",
   "execution_count": null,
   "id": "856de73e-676a-43a2-9937-c3a0beb5863a",
   "metadata": {},
   "outputs": [
    {
     "data": {
      "image/png": "[encoded data removed]",
      "text/plain": [
       "<Figure size 432x288 with 2 Axes>"
      ]
     },
     "metadata": {},
     "output_type": "display_data"
    }
   ],
   "source": [
    "# c = sn.light_palette((248,43,71), input=\"husl\", as_cmap=True);\n",
    "c = sn.light_palette(\"#8D3056\", as_cmap=True)\n",
    "res = sn.heatmap(rel, annot=True, fmt='.3f', cmap=c, cbar=True);"
   ]
  }
 ],
 "metadata": {
  "kernelspec": {
   "display_name": "Python 3.8.12 64-bit ('3.8.12')",
   "language": "python",
   "name": "python3"
  },
  "language_info": {
   "name": "python",
   "version": "3.8.12"
  },
  "orig_nbformat": 4,
  "vscode": {
   "interpreter": {
    "hash": "90e46ec4b387b633a89cba001294dbacbdc2d7a1806327e4b9e9ce73f0e3d3ef"
   }
  }
 },
 "nbformat": 4,
 "nbformat_minor": 2
}
