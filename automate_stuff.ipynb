{
 "cells": [
  {
   "cell_type": "code",
   "execution_count": 1,
   "metadata": {},
   "outputs": [
    {
     "name": "stdout",
     "output_type": "stream",
     "text": [
      "Enter the name of cat 1 (Or enter nothing to stop.):\n",
      "Enter the name of cat 2 (Or enter nothing to stop.):\n",
      "Enter the name of cat 3 (Or enter nothing to stop.):\n",
      "The cat names are:\n",
      "  Sue\n",
      "  Sue\n"
     ]
    }
   ],
   "source": [
    "\"\"\"This new version uses a single list and\n",
    "can store any number of cats that the user types in.\"\"\"\n",
    "catNames = []\n",
    "while True:\n",
    "    print('Enter the name of cat ' + str(len(catNames) + 1) +\n",
    "      ' (Or enter nothing to stop.):')\n",
    "    name = input()\n",
    "    if name == '':\n",
    "        break\n",
    "    catNames = catNames + [name]  # list concatenation\n",
    "print('The cat names are:')\n",
    "for name in catNames:\n",
    "    print('  ' + name)"
   ]
  },
  {
   "cell_type": "code",
   "execution_count": 2,
   "metadata": {},
   "outputs": [
    {
     "name": "stdout",
     "output_type": "stream",
     "text": [
      "Index 0 in supplies is: pens\n",
      "Index 1 in supplies is: staplers\n",
      "Index 2 in supplies is: flamethrowers\n",
      "Index 3 in supplies is: binders\n"
     ]
    }
   ],
   "source": [
    "\"\"\"A common Python technique is to use range(len(someList)) with a for loop to iterate over the indexes of a list.\"\"\"\n",
    "supplies = ['pens', 'staplers', 'flamethrowers', 'binders']\n",
    "for i in range(len(supplies)):\n",
    "    print('Index ' + str(i) + ' in supplies is: ' + supplies[i])"
   ]
  },
  {
   "cell_type": "code",
   "execution_count": 3,
   "metadata": {},
   "outputs": [
    {
     "name": "stdout",
     "output_type": "stream",
     "text": [
      "Enter a pet name:\n",
      "I do not have a pet named GErd, try again.\n",
      "Enter a pet name:\n",
      "Pooka is my pet.\n"
     ]
    }
   ],
   "source": [
    "\"\"\" The in and not in Operators\"\"\"\n",
    "myPets = ['Zophie', 'Pooka', 'Fat-tail']\n",
    "while True:\n",
    "    print('Enter a pet name:')\n",
    "    name = input()\n",
    "    if name not in myPets:\n",
    "        print(f\"I do not have a pet named {name}, try again.\")\n",
    "    else:\n",
    "        print(name + ' is my pet.')\n",
    "        break"
   ]
  }
 ],
 "metadata": {
  "interpreter": {
   "hash": "ad7afd56c4a9327988b254949fc9ff6c4de57fd051da33a62b5f87e3ddafe8d2"
  },
  "kernelspec": {
   "display_name": "Python 3.8.12 64-bit ('lewagon')",
   "language": "python",
   "name": "python3"
  },
  "language_info": {
   "codemirror_mode": {
    "name": "ipython",
    "version": 3
   },
   "file_extension": ".py",
   "mimetype": "text/x-python",
   "name": "python",
   "nbconvert_exporter": "python",
   "pygments_lexer": "ipython3",
   "version": "3.8.12"
  },
  "orig_nbformat": 4
 },
 "nbformat": 4,
 "nbformat_minor": 2
}
