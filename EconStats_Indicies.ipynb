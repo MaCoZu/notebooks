{
 "cells": [
  {
   "cell_type": "markdown",
   "id": "c185951b",
   "metadata": {
    "toc": true
   },
   "source": [
    "<h1>Table of Contents<span class=\"tocSkip\"></span></h1>\n",
    "<div class=\"toc\"><ul class=\"toc-item\"><li><span><a href=\"#GDP,-Deflator,-Current-and-Constant-Prices\" data-toc-modified-id=\"GDP,-Deflator,-Current-and-Constant-Prices-1\"><span class=\"toc-item-num\">1&nbsp;&nbsp;</span>GDP, Deflator, Current and Constant Prices</a></span></li><li><span><a href=\"#Index-numbers\" data-toc-modified-id=\"Index-numbers-2\"><span class=\"toc-item-num\">2&nbsp;&nbsp;</span>Index numbers</a></span><ul class=\"toc-item\"><li><span><a href=\"#Base-weighting---Laspeyres-index\" data-toc-modified-id=\"Base-weighting---Laspeyres-index-2.1\"><span class=\"toc-item-num\">2.1&nbsp;&nbsp;</span>Base weighting - Laspeyres index</a></span></li><li><span><a href=\"#Current-weighting---Paasche-index\" data-toc-modified-id=\"Current-weighting---Paasche-index-2.2\"><span class=\"toc-item-num\">2.2&nbsp;&nbsp;</span>Current weighting - Paasche index</a></span></li><li><span><a href=\"#Chaining-index-numbers\" data-toc-modified-id=\"Chaining-index-numbers-2.3\"><span class=\"toc-item-num\">2.3&nbsp;&nbsp;</span>Chaining index numbers</a></span></li></ul></li><li><span><a href=\"#Percentages\" data-toc-modified-id=\"Percentages-3\"><span class=\"toc-item-num\">3&nbsp;&nbsp;</span>Percentages</a></span><ul class=\"toc-item\"><li><span><a href=\"#growth-rates\" data-toc-modified-id=\"growth-rates-3.1\"><span class=\"toc-item-num\">3.1&nbsp;&nbsp;</span>growth rates</a></span><ul class=\"toc-item\"><li><span><a href=\"#Annualised-change.\" data-toc-modified-id=\"Annualised-change.-3.1.1\"><span class=\"toc-item-num\">3.1.1&nbsp;&nbsp;</span>Annualised change.</a></span></li><li><span><a href=\"#annual-rate-for-several-years\" data-toc-modified-id=\"annual-rate-for-several-years-3.1.2\"><span class=\"toc-item-num\">3.1.2&nbsp;&nbsp;</span>annual rate for several years</a></span></li><li><span><a href=\"#monthly-rate-derived-from-annual-rate\" data-toc-modified-id=\"monthly-rate-derived-from-annual-rate-3.1.3\"><span class=\"toc-item-num\">3.1.3&nbsp;&nbsp;</span>monthly rate derived from annual rate</a></span></li></ul></li></ul></li><li><span><a href=\"#Seasonal-adjustment---Moving-averages\" data-toc-modified-id=\"Seasonal-adjustment---Moving-averages-4\"><span class=\"toc-item-num\">4&nbsp;&nbsp;</span>Seasonal adjustment - Moving averages</a></span></li></ul></div>"
   ]
  },
  {
   "cell_type": "code",
   "execution_count": 4,
   "id": "cc5b56ed-bbf0-488f-8c45-b0f1dc113cc1",
   "metadata": {
    "collapsed": true,
    "jupyter": {
     "outputs_hidden": true
    },
    "tags": []
   },
   "outputs": [],
   "source": [
    "import pandas as pd"
   ]
  },
  {
   "cell_type": "markdown",
   "id": "16a32ef4-dee2-4bc6-a481-ecc260945009",
   "metadata": {},
   "source": [
    "# GDP, Deflator, Current and Constant Prices"
   ]
  },
  {
   "cell_type": "code",
   "execution_count": 8,
   "id": "59ca1465-90d1-4792-b89d-79f17f0dc01f",
   "metadata": {
    "collapsed": true,
    "jupyter": {
     "outputs_hidden": true
    }
   },
   "outputs": [],
   "source": [
    "# current prices are in the nominal prices of a given year\n",
    "# constant prices are measured by the prices of the base year\n",
    "current_prices = pd.DataFrame( {\n",
    "    \"year\": [1996, 1997, 1998, 1999, 2000, 2001, 2002, 2003, 2004, 2005 ], \n",
    "    \"current prices\": [7816.9, 8304.3, 8747.0, 9268.4, 9817.0, 10128.0, 10469.6, 10971.2, 11734.3, 12487.1],\n",
    "    \"constant prices\": [8328.9, 8703.5, 9066.9, 9470.3, 9817.0, 9890.7, 10048.8, 10320.6, 10755.7, 11134.8 ]}).set_index(\"year\")"
   ]
  },
  {
   "cell_type": "code",
   "execution_count": 10,
   "id": "da6caadc-a984-4119-8236-49050cdb2814",
   "metadata": {
    "jupyter": {
     "outputs_hidden": true
    }
   },
   "outputs": [
    {
     "data": {
      "text/html": [
       "<div>\n",
       "<style scoped>\n",
       "    .dataframe tbody tr th:only-of-type {\n",
       "        vertical-align: middle;\n",
       "    }\n",
       "\n",
       "    .dataframe tbody tr th {\n",
       "        vertical-align: top;\n",
       "    }\n",
       "\n",
       "    .dataframe thead th {\n",
       "        text-align: right;\n",
       "    }\n",
       "</style>\n",
       "<table border=\"1\" class=\"dataframe\">\n",
       "  <thead>\n",
       "    <tr style=\"text-align: right;\">\n",
       "      <th></th>\n",
       "      <th>current prices</th>\n",
       "      <th>constant prices</th>\n",
       "      <th>price deflator</th>\n",
       "      <th>current price index</th>\n",
       "      <th>constant price index</th>\n",
       "    </tr>\n",
       "    <tr>\n",
       "      <th>year</th>\n",
       "      <th></th>\n",
       "      <th></th>\n",
       "      <th></th>\n",
       "      <th></th>\n",
       "      <th></th>\n",
       "    </tr>\n",
       "  </thead>\n",
       "  <tbody>\n",
       "    <tr>\n",
       "      <th>1996</th>\n",
       "      <td>7816.9</td>\n",
       "      <td>8328.9</td>\n",
       "      <td>93.9</td>\n",
       "      <td>79.626159</td>\n",
       "      <td>84.842</td>\n",
       "    </tr>\n",
       "    <tr>\n",
       "      <th>1997</th>\n",
       "      <td>8304.3</td>\n",
       "      <td>8703.5</td>\n",
       "      <td>95.4</td>\n",
       "      <td>84.591016</td>\n",
       "      <td>88.657</td>\n",
       "    </tr>\n",
       "    <tr>\n",
       "      <th>1998</th>\n",
       "      <td>8747.0</td>\n",
       "      <td>9066.9</td>\n",
       "      <td>96.5</td>\n",
       "      <td>89.100540</td>\n",
       "      <td>92.359</td>\n",
       "    </tr>\n",
       "    <tr>\n",
       "      <th>1999</th>\n",
       "      <td>9268.4</td>\n",
       "      <td>9470.3</td>\n",
       "      <td>97.9</td>\n",
       "      <td>94.411735</td>\n",
       "      <td>96.468</td>\n",
       "    </tr>\n",
       "    <tr>\n",
       "      <th>2000</th>\n",
       "      <td>9817.0</td>\n",
       "      <td>9817.0</td>\n",
       "      <td>100.0</td>\n",
       "      <td>100.000000</td>\n",
       "      <td>100.000</td>\n",
       "    </tr>\n",
       "    <tr>\n",
       "      <th>2001</th>\n",
       "      <td>10128.0</td>\n",
       "      <td>9890.7</td>\n",
       "      <td>102.4</td>\n",
       "      <td>103.167974</td>\n",
       "      <td>100.751</td>\n",
       "    </tr>\n",
       "    <tr>\n",
       "      <th>2002</th>\n",
       "      <td>10469.6</td>\n",
       "      <td>10048.8</td>\n",
       "      <td>104.2</td>\n",
       "      <td>106.647652</td>\n",
       "      <td>102.361</td>\n",
       "    </tr>\n",
       "    <tr>\n",
       "      <th>2003</th>\n",
       "      <td>10971.2</td>\n",
       "      <td>10320.6</td>\n",
       "      <td>106.3</td>\n",
       "      <td>111.757156</td>\n",
       "      <td>105.130</td>\n",
       "    </tr>\n",
       "    <tr>\n",
       "      <th>2004</th>\n",
       "      <td>11734.3</td>\n",
       "      <td>10755.7</td>\n",
       "      <td>109.1</td>\n",
       "      <td>119.530406</td>\n",
       "      <td>109.562</td>\n",
       "    </tr>\n",
       "    <tr>\n",
       "      <th>2005</th>\n",
       "      <td>12487.1</td>\n",
       "      <td>11134.8</td>\n",
       "      <td>112.1</td>\n",
       "      <td>127.198737</td>\n",
       "      <td>113.424</td>\n",
       "    </tr>\n",
       "  </tbody>\n",
       "</table>\n",
       "</div>"
      ],
      "text/plain": [
       "      current prices  constant prices  price deflator  current price index  \\\n",
       "year                                                                         \n",
       "1996          7816.9           8328.9            93.9            79.626159   \n",
       "1997          8304.3           8703.5            95.4            84.591016   \n",
       "1998          8747.0           9066.9            96.5            89.100540   \n",
       "1999          9268.4           9470.3            97.9            94.411735   \n",
       "2000          9817.0           9817.0           100.0           100.000000   \n",
       "2001         10128.0           9890.7           102.4           103.167974   \n",
       "2002         10469.6          10048.8           104.2           106.647652   \n",
       "2003         10971.2          10320.6           106.3           111.757156   \n",
       "2004         11734.3          10755.7           109.1           119.530406   \n",
       "2005         12487.1          11134.8           112.1           127.198737   \n",
       "\n",
       "      constant price index  \n",
       "year                        \n",
       "1996                84.842  \n",
       "1997                88.657  \n",
       "1998                92.359  \n",
       "1999                96.468  \n",
       "2000               100.000  \n",
       "2001               100.751  \n",
       "2002               102.361  \n",
       "2003               105.130  \n",
       "2004               109.562  \n",
       "2005               113.424  "
      ]
     },
     "execution_count": 10,
     "metadata": {},
     "output_type": "execute_result"
    }
   ],
   "source": [
    "# function that fetches the base year value against which the price levels of other year are compared\n",
    "def reference_base(year):\n",
    "    rb = current_prices[current_prices.index == year][\"current prices\"].iat[0]\n",
    "    return rb/100\n",
    "\n",
    "# price deﬂator = Current prices divided by constant prices ( *100)  - inflation rate\n",
    "current_prices[\"price deflator\"] =\\\n",
    "((current_prices[\"current prices\"]/current_prices[\"constant prices\"])*100).round(1)\n",
    "\n",
    "# current price index = Constant prices divided by the value of the reference year/100\n",
    "# index number that shows the nominal development of the prices relative (to base year)\n",
    "current_prices[\"current price index\"] = current_prices[\"current prices\"]/reference_base(2000).round(3)\n",
    "\n",
    "# current price index  = Constant prices divided by value of the reference year/100 \n",
    "# index number that shows the real development of the prices relative (to base year) \n",
    "current_prices[\"constant price index\"] = \\\n",
    "(current_prices[\"constant prices\"]/reference_base(2000)).round(3)\n",
    "current_prices"
   ]
  },
  {
   "cell_type": "markdown",
   "id": "59745aa9-1539-40fe-af90-ba686752c582",
   "metadata": {
    "toc-hr-collapsed": true
   },
   "source": [
    "# Index numbers"
   ]
  },
  {
   "cell_type": "markdown",
   "id": "bf7b4d56-415b-4a28-8063-446074294483",
   "metadata": {},
   "source": [
    "## Base weighting - Laspeyres index\n",
    "The index takes the quantities of a base year and calculates the value of the same quantities at different times and price levels - the index is calculated by dividing the expenditure of diffrentely prices but equaly weight baskets of different years with the base years expenditure."
   ]
  },
  {
   "cell_type": "code",
   "execution_count": 161,
   "id": "63d3ddcd-a928-448e-be66-6d9343d449a9",
   "metadata": {
    "collapsed": true,
    "jupyter": {
     "outputs_hidden": true
    }
   },
   "outputs": [
    {
     "data": {
      "text/html": [
       "<div>\n",
       "<style scoped>\n",
       "    .dataframe tbody tr th:only-of-type {\n",
       "        vertical-align: middle;\n",
       "    }\n",
       "\n",
       "    .dataframe tbody tr th {\n",
       "        vertical-align: top;\n",
       "    }\n",
       "\n",
       "    .dataframe thead th {\n",
       "        text-align: right;\n",
       "    }\n",
       "</style>\n",
       "<table border=\"1\" class=\"dataframe\">\n",
       "  <thead>\n",
       "    <tr style=\"text-align: right;\">\n",
       "      <th></th>\n",
       "      <th>prices in 1995</th>\n",
       "      <th>prices in 2005</th>\n",
       "      <th>Quantity 1995</th>\n",
       "      <th>Quantity 2005</th>\n",
       "    </tr>\n",
       "  </thead>\n",
       "  <tbody>\n",
       "    <tr>\n",
       "      <th>Wine</th>\n",
       "      <td>9</td>\n",
       "      <td>10.5</td>\n",
       "      <td>5</td>\n",
       "      <td>6</td>\n",
       "    </tr>\n",
       "    <tr>\n",
       "      <th>Cheese</th>\n",
       "      <td>5</td>\n",
       "      <td>8.0</td>\n",
       "      <td>2</td>\n",
       "      <td>3</td>\n",
       "    </tr>\n",
       "  </tbody>\n",
       "</table>\n",
       "</div>"
      ],
      "text/plain": [
       "        prices in 1995  prices in 2005  Quantity 1995  Quantity 2005\n",
       "Wine                 9            10.5              5              6\n",
       "Cheese               5             8.0              2              3"
      ]
     },
     "execution_count": 161,
     "metadata": {},
     "output_type": "execute_result"
    }
   ],
   "source": [
    "wine_cheese = pd.DataFrame({\n",
    "                \"prices in 1995\": [9, 5,], \n",
    "                \"prices in 2005\":[10.5, 8],\n",
    "                \"Quantity 1995\": [5,2],\n",
    "                \"Quantity 2005\": [6,3]},\n",
    "                index=[\"Wine\", \"Cheese\"])\n",
    "wine_cheese"
   ]
  },
  {
   "cell_type": "code",
   "execution_count": 178,
   "id": "425de4ec-b90e-45ed-8241-eafe841eaa42",
   "metadata": {
    "collapsed": true,
    "jupyter": {
     "outputs_hidden": true
    }
   },
   "outputs": [],
   "source": [
    "# weekly expenditure in quantity * prices of 1995\n",
    "expenditure_1995 = (wine_cheese[\"prices in 1995\"]*wine_cheese[\"Quantity 1995\"]).sum()\n",
    "# weekly expenditure in 2005 with 1995 quantities but at 2005 prices\n",
    "expenditure_2005 = (wine_cheese[\"prices in 2005\"]*wine_cheese[\"Quantity 1995\"]).sum()"
   ]
  },
  {
   "cell_type": "code",
   "execution_count": 180,
   "id": "c61c437f-2f56-4ede-837a-8e147c9102a6",
   "metadata": {
    "collapsed": true,
    "jupyter": {
     "outputs_hidden": true
    }
   },
   "outputs": [
    {
     "data": {
      "text/html": [
       "<div>\n",
       "<style scoped>\n",
       "    .dataframe tbody tr th:only-of-type {\n",
       "        vertical-align: middle;\n",
       "    }\n",
       "\n",
       "    .dataframe tbody tr th {\n",
       "        vertical-align: top;\n",
       "    }\n",
       "\n",
       "    .dataframe thead th {\n",
       "        text-align: right;\n",
       "    }\n",
       "</style>\n",
       "<table border=\"1\" class=\"dataframe\">\n",
       "  <thead>\n",
       "    <tr style=\"text-align: right;\">\n",
       "      <th></th>\n",
       "      <th>0</th>\n",
       "    </tr>\n",
       "  </thead>\n",
       "  <tbody>\n",
       "    <tr>\n",
       "      <th>index 1995</th>\n",
       "      <td>100.0</td>\n",
       "    </tr>\n",
       "    <tr>\n",
       "      <th>index 2005</th>\n",
       "      <td>124.5</td>\n",
       "    </tr>\n",
       "  </tbody>\n",
       "</table>\n",
       "</div>"
      ],
      "text/plain": [
       "                0\n",
       "index 1995  100.0\n",
       "index 2005  124.5"
      ]
     },
     "execution_count": 180,
     "metadata": {},
     "output_type": "execute_result"
    }
   ],
   "source": [
    "# calculate the index\n",
    "base_weight = pd.DataFrame({\"index 1995\": [(expenditure_1995/expenditure_1995)*100],\n",
    "                                                   \"index 2005\":[(expenditure_2005/expenditure_1995)*100]}).round(1).T\n",
    "base_weight"
   ]
  },
  {
   "cell_type": "markdown",
   "id": "8a1eea56-0021-4abd-8c3e-f62fab44ef47",
   "metadata": {},
   "source": [
    "## Current weighting - Paasche index\n",
    "Weighted averages need revising the weights from time to time.</br>\n",
    "One way to proceed is to calculate a new set of current weights (quantities) at regular intervals. </br>\n",
    "This is known as a current-weighted index, or Paasche index. \n"
   ]
  },
  {
   "cell_type": "code",
   "execution_count": 182,
   "id": "f38a68ed-b547-4560-a6a8-87b8c44690a9",
   "metadata": {
    "collapsed": true,
    "jupyter": {
     "outputs_hidden": true
    }
   },
   "outputs": [],
   "source": [
    "# weekly expenditure in current (2005) quantity  * prices of 1995\n",
    "current_expenditure_1995 = (wine_cheese[\"prices in 1995\"]*wine_cheese[\"Quantity 2005\"]).sum()\n",
    "# weekly expenditure in 2005 quantities and 2005 prices\n",
    "current_expenditure_2005 = (wine_cheese[\"prices in 2005\"]*wine_cheese[\"Quantity 2005\"]).sum()"
   ]
  },
  {
   "cell_type": "code",
   "execution_count": 183,
   "id": "a76adf58-ad27-49d0-8a1b-40cf64ed4175",
   "metadata": {
    "collapsed": true,
    "jupyter": {
     "outputs_hidden": true
    }
   },
   "outputs": [
    {
     "data": {
      "text/html": [
       "<div>\n",
       "<style scoped>\n",
       "    .dataframe tbody tr th:only-of-type {\n",
       "        vertical-align: middle;\n",
       "    }\n",
       "\n",
       "    .dataframe tbody tr th {\n",
       "        vertical-align: top;\n",
       "    }\n",
       "\n",
       "    .dataframe thead th {\n",
       "        text-align: right;\n",
       "    }\n",
       "</style>\n",
       "<table border=\"1\" class=\"dataframe\">\n",
       "  <thead>\n",
       "    <tr style=\"text-align: right;\">\n",
       "      <th></th>\n",
       "      <th>0</th>\n",
       "    </tr>\n",
       "  </thead>\n",
       "  <tbody>\n",
       "    <tr>\n",
       "      <th>index 1995</th>\n",
       "      <td>100.0</td>\n",
       "    </tr>\n",
       "    <tr>\n",
       "      <th>index 2005</th>\n",
       "      <td>126.1</td>\n",
       "    </tr>\n",
       "  </tbody>\n",
       "</table>\n",
       "</div>"
      ],
      "text/plain": [
       "                0\n",
       "index 1995  100.0\n",
       "index 2005  126.1"
      ]
     },
     "execution_count": 183,
     "metadata": {},
     "output_type": "execute_result"
    }
   ],
   "source": [
    "# calculate the index\n",
    "current_weight= pd.DataFrame({\"index 1995\": [(current_expenditure_1995/current_expenditure_1995)*100],\n",
    "                                                    \"index 2005\":[(current_expenditure_2005/current_expenditure_1995)*100]}).round(1).T\n",
    "current_weight"
   ]
  },
  {
   "cell_type": "markdown",
   "id": "bcb78a1e-b446-4b3d-84a4-e13d875e7a1a",
   "metadata": {},
   "source": [
    "1. Base-weighted indices tend to overstate changes over time. </br>\n",
    "2. Current-weighted indices understate long-term changes. </br>\n",
    "- Current-weighted price indices reﬂect changes in both prices and relative volumes, while </br>\n",
    "- base-weighted versions record price changes only.</br></br>\n",
    "Most commonly indices are a combination of base-weighted and current-weighted. </br>\n",
    "A new set of weights might be introduced every ﬁve years or so and the new index then spliced or chained to the old index."
   ]
  },
  {
   "cell_type": "markdown",
   "id": "090da6c7-be8c-4b77-bf0a-d208ed4fc655",
   "metadata": {},
   "source": [
    "## Chaining index numbers\n",
    "1.  Identify one period when there are ﬁgures for both indices; here its 2002 \n",
    "2.  For this period, divide the new ﬁgure by old ﬁgure;  83 / 133 = 0.62.\n",
    "3.  Multiply all old ﬁgures by the result; each ﬁgure in column 3 = ﬁgure in column A * 0.62.\n",
    "4.  Put the rebased data with the new ﬁgures to create one long run of data."
   ]
  },
  {
   "cell_type": "code",
   "execution_count": 206,
   "id": "2a7e651c-47ef-4b10-bb9b-f40e7a591ff5",
   "metadata": {
    "collapsed": true,
    "jupyter": {
     "outputs_hidden": true
    }
   },
   "outputs": [
    {
     "data": {
      "text/html": [
       "<div>\n",
       "<style scoped>\n",
       "    .dataframe tbody tr th:only-of-type {\n",
       "        vertical-align: middle;\n",
       "    }\n",
       "\n",
       "    .dataframe tbody tr th {\n",
       "        vertical-align: top;\n",
       "    }\n",
       "\n",
       "    .dataframe thead th {\n",
       "        text-align: right;\n",
       "    }\n",
       "</style>\n",
       "<table border=\"1\" class=\"dataframe\">\n",
       "  <thead>\n",
       "    <tr style=\"text-align: right;\">\n",
       "      <th></th>\n",
       "      <th>old index</th>\n",
       "      <th>new index</th>\n",
       "    </tr>\n",
       "    <tr>\n",
       "      <th>year</th>\n",
       "      <th></th>\n",
       "      <th></th>\n",
       "    </tr>\n",
       "  </thead>\n",
       "  <tbody>\n",
       "    <tr>\n",
       "      <th>1999</th>\n",
       "      <td>100</td>\n",
       "      <td>0</td>\n",
       "    </tr>\n",
       "    <tr>\n",
       "      <th>2000</th>\n",
       "      <td>110</td>\n",
       "      <td>0</td>\n",
       "    </tr>\n",
       "    <tr>\n",
       "      <th>2001</th>\n",
       "      <td>121</td>\n",
       "      <td>0</td>\n",
       "    </tr>\n",
       "    <tr>\n",
       "      <th>2002</th>\n",
       "      <td>133</td>\n",
       "      <td>83</td>\n",
       "    </tr>\n",
       "    <tr>\n",
       "      <th>2003</th>\n",
       "      <td>0</td>\n",
       "      <td>91</td>\n",
       "    </tr>\n",
       "    <tr>\n",
       "      <th>2004</th>\n",
       "      <td>0</td>\n",
       "      <td>100</td>\n",
       "    </tr>\n",
       "    <tr>\n",
       "      <th>2005</th>\n",
       "      <td>0</td>\n",
       "      <td>110</td>\n",
       "    </tr>\n",
       "  </tbody>\n",
       "</table>\n",
       "</div>"
      ],
      "text/plain": [
       "      old index  new index\n",
       "year                      \n",
       "1999        100          0\n",
       "2000        110          0\n",
       "2001        121          0\n",
       "2002        133         83\n",
       "2003          0         91\n",
       "2004          0        100\n",
       "2005          0        110"
      ]
     },
     "execution_count": 206,
     "metadata": {},
     "output_type": "execute_result"
    }
   ],
   "source": [
    "chain_index = pd.DataFrame( {\n",
    "    \"year\": [1999, 2000, 2001, 2002, 2003, 2004, 2005], \n",
    "    \"old index\": [100, 110, 121, 133, 0, 0,  0],\n",
    "    \"new index\": [0, 0, 0, 83, 91, 100, 110]}).set_index(\"year\")\n",
    "chain_index"
   ]
  },
  {
   "cell_type": "markdown",
   "id": "ef16b590-8e7b-43e2-903c-0a5586576d3f",
   "metadata": {},
   "source": [
    "to bring both index on the same level 133*x=83 -> x=83/133=0.62"
   ]
  },
  {
   "cell_type": "code",
   "execution_count": 216,
   "id": "cf7ad042-6180-4981-b012-3006596358f1",
   "metadata": {
    "collapsed": true,
    "jupyter": {
     "outputs_hidden": true
    }
   },
   "outputs": [
    {
     "data": {
      "text/html": [
       "<div>\n",
       "<style scoped>\n",
       "    .dataframe tbody tr th:only-of-type {\n",
       "        vertical-align: middle;\n",
       "    }\n",
       "\n",
       "    .dataframe tbody tr th {\n",
       "        vertical-align: top;\n",
       "    }\n",
       "\n",
       "    .dataframe thead th {\n",
       "        text-align: right;\n",
       "    }\n",
       "</style>\n",
       "<table border=\"1\" class=\"dataframe\">\n",
       "  <thead>\n",
       "    <tr style=\"text-align: right;\">\n",
       "      <th></th>\n",
       "      <th>old index</th>\n",
       "      <th>new index</th>\n",
       "      <th>old index rebased</th>\n",
       "      <th>chained index</th>\n",
       "    </tr>\n",
       "    <tr>\n",
       "      <th>year</th>\n",
       "      <th></th>\n",
       "      <th></th>\n",
       "      <th></th>\n",
       "      <th></th>\n",
       "    </tr>\n",
       "  </thead>\n",
       "  <tbody>\n",
       "    <tr>\n",
       "      <th>1999</th>\n",
       "      <td>100</td>\n",
       "      <td>0</td>\n",
       "      <td>62.4</td>\n",
       "      <td>62.4</td>\n",
       "    </tr>\n",
       "    <tr>\n",
       "      <th>2000</th>\n",
       "      <td>110</td>\n",
       "      <td>0</td>\n",
       "      <td>68.6</td>\n",
       "      <td>68.6</td>\n",
       "    </tr>\n",
       "    <tr>\n",
       "      <th>2001</th>\n",
       "      <td>121</td>\n",
       "      <td>0</td>\n",
       "      <td>75.5</td>\n",
       "      <td>75.5</td>\n",
       "    </tr>\n",
       "    <tr>\n",
       "      <th>2002</th>\n",
       "      <td>133</td>\n",
       "      <td>83</td>\n",
       "      <td>83.0</td>\n",
       "      <td>83.0</td>\n",
       "    </tr>\n",
       "    <tr>\n",
       "      <th>2003</th>\n",
       "      <td>0</td>\n",
       "      <td>91</td>\n",
       "      <td>0.0</td>\n",
       "      <td>91.0</td>\n",
       "    </tr>\n",
       "    <tr>\n",
       "      <th>2004</th>\n",
       "      <td>0</td>\n",
       "      <td>100</td>\n",
       "      <td>0.0</td>\n",
       "      <td>100.0</td>\n",
       "    </tr>\n",
       "    <tr>\n",
       "      <th>2005</th>\n",
       "      <td>0</td>\n",
       "      <td>110</td>\n",
       "      <td>0.0</td>\n",
       "      <td>110.0</td>\n",
       "    </tr>\n",
       "  </tbody>\n",
       "</table>\n",
       "</div>"
      ],
      "text/plain": [
       "      old index  new index  old index rebased  chained index\n",
       "year                                                        \n",
       "1999        100          0               62.4           62.4\n",
       "2000        110          0               68.6           68.6\n",
       "2001        121          0               75.5           75.5\n",
       "2002        133         83               83.0           83.0\n",
       "2003          0         91                0.0           91.0\n",
       "2004          0        100                0.0          100.0\n",
       "2005          0        110                0.0          110.0"
      ]
     },
     "execution_count": 216,
     "metadata": {},
     "output_type": "execute_result"
    }
   ],
   "source": [
    "rebase = 83/133\n",
    "chain_index[\"old index rebased\"] = (chain_index[\"old index\"]*rebase).round(1)\n",
    "chain_index[\"chained index\"] = chain_index.iloc[0:3,2].append(chain_index.iloc[3:,1])\n",
    "chain_index"
   ]
  },
  {
   "cell_type": "markdown",
   "id": "cd2a79b6-a96e-4c7c-b7f6-4893193ae901",
   "metadata": {
    "tags": [],
    "toc-hr-collapsed": true
   },
   "source": [
    "# Percentages"
   ]
  },
  {
   "cell_type": "code",
   "execution_count": 237,
   "id": "ca3652b9-aa9e-4cd8-9b12-a128b43defe9",
   "metadata": {
    "collapsed": true,
    "jupyter": {
     "outputs_hidden": true
    }
   },
   "outputs": [
    {
     "data": {
      "text/plain": [
       "'120 is 80% of 150'"
      ]
     },
     "execution_count": 237,
     "metadata": {},
     "output_type": "execute_result"
    }
   ],
   "source": [
    "def percentage_of(x,y):\n",
    "    percent = int((y/x)*100)\n",
    "    return f\"{y} is {percent}% of {x}\"\n",
    "\n",
    "percentage_of(150, 120)"
   ]
  },
  {
   "cell_type": "code",
   "execution_count": 235,
   "id": "4442a00f-f2a7-4a82-933d-aa75356de8e5",
   "metadata": {
    "collapsed": true,
    "jupyter": {
     "outputs_hidden": true
    }
   },
   "outputs": [],
   "source": [
    "def percentage_change(x, y):\n",
    "        change = int(((y/x)-1)*100)\n",
    "        return f\"the change from {x} to {y} is {change}% of {x}\""
   ]
  },
  {
   "cell_type": "code",
   "execution_count": 236,
   "id": "dddfd47c-07b6-4ab4-8175-378d2e26b118",
   "metadata": {
    "collapsed": true,
    "jupyter": {
     "outputs_hidden": true
    }
   },
   "outputs": [
    {
     "data": {
      "text/plain": [
       "'the change from 70 to 90 is 28% of 70'"
      ]
     },
     "execution_count": 236,
     "metadata": {},
     "output_type": "execute_result"
    }
   ],
   "source": [
    "percentage_change(70, 90)"
   ]
  },
  {
   "cell_type": "code",
   "execution_count": 264,
   "id": "5b538e2c-faec-4d2c-8bc7-94dfe6886b0b",
   "metadata": {
    "collapsed": true,
    "jupyter": {
     "outputs_hidden": true
    }
   },
   "outputs": [
    {
     "data": {
      "text/plain": [
       "'the change from 1 to 1.103 is 10.3% of 1'"
      ]
     },
     "execution_count": 264,
     "metadata": {},
     "output_type": "execute_result"
    }
   ],
   "source": [
    "def percentage_change(x, y):\n",
    "        change =round( (((y/x)-1)*100), 1)\n",
    "        return f\"the change from {x} to {y} is {change}% of {x}\"\n",
    "    \n",
    "percentage_change(1, 1.103)"
   ]
  },
  {
   "cell_type": "code",
   "execution_count": 241,
   "id": "eec128e9-2255-4515-b320-e1ad1f31e569",
   "metadata": {
    "collapsed": true,
    "jupyter": {
     "outputs_hidden": true
    }
   },
   "outputs": [
    {
     "data": {
      "text/plain": [
       "'120 increased by 25% is 150.0'"
      ]
     },
     "execution_count": 241,
     "metadata": {},
     "output_type": "execute_result"
    }
   ],
   "source": [
    "def growth_by_percent(x,p):\n",
    "    return f\"{x} increased by {p}% is {x*((p/100)+1)}\"\n",
    "\n",
    "growth_by_percent(120, 25)"
   ]
  },
  {
   "cell_type": "code",
   "execution_count": 247,
   "id": "b986b048-ba48-4493-95fb-3f0d1c341632",
   "metadata": {
    "tags": []
   },
   "outputs": [
    {
     "data": {
      "text/plain": [
       "'150 reduced by 20% is 120.0'"
      ]
     },
     "execution_count": 247,
     "metadata": {},
     "output_type": "execute_result"
    }
   ],
   "source": [
    "def reduce_by_percent(x,p):\n",
    "    return f\"{x} reduced by {p}% is {x*(1-(p/100))}\"\n",
    "\n",
    "reduce_by_percent(150, 20)"
   ]
  },
  {
   "cell_type": "markdown",
   "id": "90d57a27-365e-401b-84e7-0d45aec064a4",
   "metadata": {},
   "source": [
    "## growth rates\n",
    "over several periods when the rate over one period is known"
   ]
  },
  {
   "cell_type": "markdown",
   "id": "d392afaf-1944-4a26-ab76-190d1c3f9b1d",
   "metadata": {},
   "source": [
    "### Annualised change. \n",
    "- monthly rate is known - what is the annual rate when the rate stays like this for 12 month?</br>\n",
    "- This is the change which would occur if the movement observed in any period were to continue for exactly</br>\n",
    "12 months. For example, orders rose 6.4% annualised during the ﬁrst three quarters of 2006.</br>"
   ]
  },
  {
   "cell_type": "code",
   "execution_count": 13,
   "id": "0ca6e194-c4a3-4c89-8895-578faa461b53",
   "metadata": {
    "collapsed": true,
    "jupyter": {
     "outputs_hidden": true
    }
   },
   "outputs": [
    {
     "data": {
      "text/plain": [
       "3.659998028813005"
      ]
     },
     "execution_count": 13,
     "metadata": {},
     "output_type": "execute_result"
    }
   ],
   "source": [
    "def annualised_change(r_monthly):\n",
    "    return ((((r_monthly/100)+1)**12)-1)*100\n",
    "\n",
    "annualised_change(0.3)"
   ]
  },
  {
   "cell_type": "markdown",
   "id": "1552a529-f47b-4f49-99db-596282f920d8",
   "metadata": {},
   "source": [
    "### annual rate for several years\n",
    "- when the annual rate (r_annual) is known - what is the rate when this rate would continue to be the case for x years?"
   ]
  },
  {
   "cell_type": "code",
   "execution_count": 269,
   "id": "4fc1225c-47b0-4805-ab6c-60fd33e4af8d",
   "metadata": {
    "collapsed": true,
    "jupyter": {
     "outputs_hidden": true
    }
   },
   "outputs": [
    {
     "data": {
      "text/plain": [
       "106.1031562164711"
      ]
     },
     "execution_count": 269,
     "metadata": {},
     "output_type": "execute_result"
    }
   ],
   "source": [
    "def x_year_growth(r_annual, x):\n",
    "    return ((((r_annual/100)+1)**x)-1)*100\n",
    "\n",
    "x_year_growth(7.5, 10)"
   ]
  },
  {
   "cell_type": "markdown",
   "id": "b29c64a1-d4ce-4e55-8717-3f481806fbfe",
   "metadata": {},
   "source": [
    "###  monthly rate derived from annual rate\n",
    "growth rate over one period when the rate over several periods is known"
   ]
  },
  {
   "cell_type": "code",
   "execution_count": 272,
   "id": "e4cb37ae-0d01-43a5-be84-65277d4b454d",
   "metadata": {
    "collapsed": true,
    "jupyter": {
     "outputs_hidden": true
    }
   },
   "outputs": [
    {
     "data": {
      "text/plain": [
       "0.3032248764614831"
      ]
     },
     "execution_count": 272,
     "metadata": {},
     "output_type": "execute_result"
    }
   ],
   "source": [
    "def yrate_to_mrate(r_year):\n",
    "    return ((((r_year/100)+1)**(1/12))-1)*100\n",
    "\n",
    "yrate_to_mrate(3.7)"
   ]
  },
  {
   "cell_type": "markdown",
   "id": "cc4ada7e-df35-4a88-a77a-badfcca9f388",
   "metadata": {},
   "source": [
    "annual rate derived from rate observed over several years"
   ]
  },
  {
   "cell_type": "code",
   "execution_count": 280,
   "id": "9cf70ef9-f645-478a-9faa-e9fcd6dcc76e",
   "metadata": {
    "collapsed": true,
    "jupyter": {
     "outputs_hidden": true
    },
    "tags": []
   },
   "outputs": [
    {
     "data": {
      "text/plain": [
       "7.499835375830699"
      ]
     },
     "execution_count": 280,
     "metadata": {},
     "output_type": "execute_result"
    }
   ],
   "source": [
    "def annual_rate(r_several, years):\n",
    "    return (((r_several/100)+1)**(1/years)-1)*100\n",
    "            \n",
    "            \n",
    "annual_rate(106.1, 10)"
   ]
  },
  {
   "cell_type": "markdown",
   "id": "a3c28ca8-bd18-49d8-b77b-35c4658046d6",
   "metadata": {
    "tags": []
   },
   "source": [
    "# Seasonal adjustment - Moving averages"
   ]
  },
  {
   "cell_type": "code",
   "execution_count": 14,
   "id": "65474df1-a56e-420e-91b7-7916b3ea80cc",
   "metadata": {
    "collapsed": true,
    "jupyter": {
     "outputs_hidden": true
    }
   },
   "outputs": [],
   "source": [
    "import pandas as pd\n",
    "import eurostat"
   ]
  },
  {
   "cell_type": "code",
   "execution_count": 264,
   "id": "d053c847-910b-41be-82c1-42c0391dee39",
   "metadata": {
    "collapsed": true,
    "jupyter": {
     "outputs_hidden": true
    },
    "tags": []
   },
   "outputs": [],
   "source": [
    "# get monthly oil prices from eurostat\n",
    "oil = eurostat.get_data_df(\"nrg_cb_cosm\", flags=False)"
   ]
  },
  {
   "cell_type": "code",
   "execution_count": 265,
   "id": "47926d98-0d5a-4a83-8e12-ef43cc4061c9",
   "metadata": {
    "collapsed": true,
    "jupyter": {
     "outputs_hidden": true
    },
    "tags": []
   },
   "outputs": [],
   "source": [
    "# select unit, country and import\n",
    "eu_oil_imp = oil[(oil[\"indic_nrg\"]==\"AVGPRC_USD_BBL\")\\\n",
    "                        & (oil[r\"geo\\time\"]==\"DE\")\\\n",
    "                        & (oil[\"nrg_bal\"] == \"IMP\")].T"
   ]
  },
  {
   "cell_type": "code",
   "execution_count": 8,
   "id": "6207f2b3-b847-4f7f-851b-c997a12751d7",
   "metadata": {
    "collapsed": true,
    "jupyter": {
     "outputs_hidden": true
    },
    "tags": []
   },
   "outputs": [],
   "source": [
    "# get rid of summary values \n",
    "a = eu_oil_imp[\"2021M11\":\"2021M01\"]\n",
    "b = eu_oil_imp[\"2020M12\":\"2020M01\"]\n",
    "c =  eu_oil_imp[\"2019M12\":\"2018M11\"]\n",
    "\n",
    "# concatenate series\n",
    "oil_imp = pd.concat([a, b,c])\n",
    "\n",
    "# rename the column\n",
    "oil_imp = oil_imp.rename(columns={4: \"oil prices\"})"
   ]
  },
  {
   "cell_type": "code",
   "execution_count": 9,
   "id": "c3157e99-d277-470a-a5f4-b121b5fad5be",
   "metadata": {
    "collapsed": true,
    "jupyter": {
     "outputs_hidden": true
    },
    "tags": []
   },
   "outputs": [
    {
     "data": {
      "text/html": [
       "<div>\n",
       "<style scoped>\n",
       "    .dataframe tbody tr th:only-of-type {\n",
       "        vertical-align: middle;\n",
       "    }\n",
       "\n",
       "    .dataframe tbody tr th {\n",
       "        vertical-align: top;\n",
       "    }\n",
       "\n",
       "    .dataframe thead th {\n",
       "        text-align: right;\n",
       "    }\n",
       "</style>\n",
       "<table border=\"1\" class=\"dataframe\">\n",
       "  <thead>\n",
       "    <tr style=\"text-align: right;\">\n",
       "      <th></th>\n",
       "      <th>oil prices</th>\n",
       "    </tr>\n",
       "  </thead>\n",
       "  <tbody>\n",
       "    <tr>\n",
       "      <th>2018M11</th>\n",
       "      <td>67.66</td>\n",
       "    </tr>\n",
       "    <tr>\n",
       "      <th>2018M12</th>\n",
       "      <td>58.6</td>\n",
       "    </tr>\n",
       "    <tr>\n",
       "      <th>2019M01</th>\n",
       "      <td>59.48</td>\n",
       "    </tr>\n",
       "    <tr>\n",
       "      <th>2019M02</th>\n",
       "      <td>63.41</td>\n",
       "    </tr>\n",
       "    <tr>\n",
       "      <th>2019M03</th>\n",
       "      <td>64.93</td>\n",
       "    </tr>\n",
       "    <tr>\n",
       "      <th>2019M04</th>\n",
       "      <td>70.5</td>\n",
       "    </tr>\n",
       "    <tr>\n",
       "      <th>2019M05</th>\n",
       "      <td>71.79</td>\n",
       "    </tr>\n",
       "    <tr>\n",
       "      <th>2019M06</th>\n",
       "      <td>66.16</td>\n",
       "    </tr>\n",
       "    <tr>\n",
       "      <th>2019M07</th>\n",
       "      <td>65.04</td>\n",
       "    </tr>\n",
       "    <tr>\n",
       "      <th>2019M08</th>\n",
       "      <td>60.5</td>\n",
       "    </tr>\n",
       "    <tr>\n",
       "      <th>2019M09</th>\n",
       "      <td>61.55</td>\n",
       "    </tr>\n",
       "    <tr>\n",
       "      <th>2019M10</th>\n",
       "      <td>60.29</td>\n",
       "    </tr>\n",
       "    <tr>\n",
       "      <th>2019M11</th>\n",
       "      <td>63.33</td>\n",
       "    </tr>\n",
       "    <tr>\n",
       "      <th>2019M12</th>\n",
       "      <td>66.68</td>\n",
       "    </tr>\n",
       "    <tr>\n",
       "      <th>2020M01</th>\n",
       "      <td>65.338</td>\n",
       "    </tr>\n",
       "    <tr>\n",
       "      <th>2020M02</th>\n",
       "      <td>57.916</td>\n",
       "    </tr>\n",
       "    <tr>\n",
       "      <th>2020M03</th>\n",
       "      <td>34.659</td>\n",
       "    </tr>\n",
       "    <tr>\n",
       "      <th>2020M04</th>\n",
       "      <td>20.592</td>\n",
       "    </tr>\n",
       "    <tr>\n",
       "      <th>2020M05</th>\n",
       "      <td>27.15</td>\n",
       "    </tr>\n",
       "    <tr>\n",
       "      <th>2020M06</th>\n",
       "      <td>38.901</td>\n",
       "    </tr>\n",
       "    <tr>\n",
       "      <th>2020M07</th>\n",
       "      <td>44.165</td>\n",
       "    </tr>\n",
       "    <tr>\n",
       "      <th>2020M08</th>\n",
       "      <td>45.799</td>\n",
       "    </tr>\n",
       "    <tr>\n",
       "      <th>2020M09</th>\n",
       "      <td>42.625</td>\n",
       "    </tr>\n",
       "    <tr>\n",
       "      <th>2020M10</th>\n",
       "      <td>40.583</td>\n",
       "    </tr>\n",
       "    <tr>\n",
       "      <th>2020M11</th>\n",
       "      <td>43.141</td>\n",
       "    </tr>\n",
       "    <tr>\n",
       "      <th>2020M12</th>\n",
       "      <td>48.977</td>\n",
       "    </tr>\n",
       "    <tr>\n",
       "      <th>2021M01</th>\n",
       "      <td>54.695</td>\n",
       "    </tr>\n",
       "    <tr>\n",
       "      <th>2021M02</th>\n",
       "      <td>61.533</td>\n",
       "    </tr>\n",
       "    <tr>\n",
       "      <th>2021M03</th>\n",
       "      <td>64.565</td>\n",
       "    </tr>\n",
       "    <tr>\n",
       "      <th>2021M04</th>\n",
       "      <td>64.647</td>\n",
       "    </tr>\n",
       "    <tr>\n",
       "      <th>2021M05</th>\n",
       "      <td>68.859</td>\n",
       "    </tr>\n",
       "    <tr>\n",
       "      <th>2021M06</th>\n",
       "      <td>72.608</td>\n",
       "    </tr>\n",
       "    <tr>\n",
       "      <th>2021M07</th>\n",
       "      <td>75.464</td>\n",
       "    </tr>\n",
       "    <tr>\n",
       "      <th>2021M08</th>\n",
       "      <td>70.715</td>\n",
       "    </tr>\n",
       "    <tr>\n",
       "      <th>2021M09</th>\n",
       "      <td>74.071</td>\n",
       "    </tr>\n",
       "    <tr>\n",
       "      <th>2021M10</th>\n",
       "      <td>82.99</td>\n",
       "    </tr>\n",
       "    <tr>\n",
       "      <th>2021M11</th>\n",
       "      <td>81.158</td>\n",
       "    </tr>\n",
       "  </tbody>\n",
       "</table>\n",
       "</div>"
      ],
      "text/plain": [
       "        oil prices\n",
       "2018M11      67.66\n",
       "2018M12       58.6\n",
       "2019M01      59.48\n",
       "2019M02      63.41\n",
       "2019M03      64.93\n",
       "2019M04       70.5\n",
       "2019M05      71.79\n",
       "2019M06      66.16\n",
       "2019M07      65.04\n",
       "2019M08       60.5\n",
       "2019M09      61.55\n",
       "2019M10      60.29\n",
       "2019M11      63.33\n",
       "2019M12      66.68\n",
       "2020M01     65.338\n",
       "2020M02     57.916\n",
       "2020M03     34.659\n",
       "2020M04     20.592\n",
       "2020M05      27.15\n",
       "2020M06     38.901\n",
       "2020M07     44.165\n",
       "2020M08     45.799\n",
       "2020M09     42.625\n",
       "2020M10     40.583\n",
       "2020M11     43.141\n",
       "2020M12     48.977\n",
       "2021M01     54.695\n",
       "2021M02     61.533\n",
       "2021M03     64.565\n",
       "2021M04     64.647\n",
       "2021M05     68.859\n",
       "2021M06     72.608\n",
       "2021M07     75.464\n",
       "2021M08     70.715\n",
       "2021M09     74.071\n",
       "2021M10      82.99\n",
       "2021M11     81.158"
      ]
     },
     "execution_count": 9,
     "metadata": {},
     "output_type": "execute_result"
    }
   ],
   "source": [
    "# reverse data order\n",
    "oil_rev = oil_imp[::-1].copy()\n",
    "oil_rev"
   ]
  },
  {
   "cell_type": "code",
   "execution_count": 10,
   "id": "195d6262-cc55-4f35-bf36-c839325dabb1",
   "metadata": {
    "collapsed": true,
    "jupyter": {
     "outputs_hidden": true
    }
   },
   "outputs": [],
   "source": [
    "# function that calculates the monthly growth rate\n",
    "def percentage_change(before, after):\n",
    "    return (((after/before)-1))*100"
   ]
  },
  {
   "cell_type": "code",
   "execution_count": 11,
   "id": "b21493da-50f1-46e0-b2b8-5f5a90f279d0",
   "metadata": {
    "collapsed": true,
    "jupyter": {
     "outputs_hidden": true
    },
    "tags": []
   },
   "outputs": [],
   "source": [
    "#  how much did the price in one month grow in percent of the value of the month before\n",
    "oil_rev[\"% monthly change\"] = percentage_change(oil_rev[\"oil prices\"].shift(1), oil_rev[\"oil prices\"])\n",
    "\n",
    "#  what would the compounded percentage change be if the monthly rate would stay like this for 12 month\n",
    "oil_rev[\"one month % change annualised\"] = annualised_change(oil_rev[\"% monthly change\"])\n",
    "\n",
    "# how much did the price grow over 12 month in % of  the price 12 month past\n",
    "oil_rev[\"% change over 12 month\"] = percentage_change(oil_rev[\"oil prices\"].shift(12), oil_rev[\"oil prices\"])\n",
    "\n",
    "# moving average - the concerning month's price is decribed as a average of the surrounding month's prices to smooth fluctuations\n",
    "oil_rev[\"3 month moving average\"] = ((oil_rev[\"oil prices\"].shift(1) \\\n",
    "                                                           +oil_rev[\"oil prices\"] \\\n",
    "                                                            +oil_rev[\"oil prices\"].shift(-1))/3).astype(float).round(2)"
   ]
  },
  {
   "cell_type": "code",
   "execution_count": 54,
   "id": "8746d4ab-2a2f-481d-8766-8380dc06b227",
   "metadata": {
    "collapsed": true,
    "jupyter": {
     "outputs_hidden": true
    }
   },
   "outputs": [],
   "source": [
    "oil_rev[\"5 month moving average\"] = ((oil_rev[\"oil prices\"].shift(2) \n",
    "                                                             + oil_rev[\"oil prices\"].shift(1) \\\n",
    "                                                             +oil_rev[\"oil prices\"] \\\n",
    "                                                             +oil_rev[\"oil prices\"].shift(-1)\\\n",
    "                                                             + oil_rev[\"oil prices\"].shift(-2))/5).astype(float).round(2)"
   ]
  },
  {
   "cell_type": "code",
   "execution_count": 55,
   "id": "8ddddc2e-968a-4e54-95b6-c1b75e423604",
   "metadata": {
    "collapsed": true,
    "jupyter": {
     "outputs_hidden": true
    },
    "tags": []
   },
   "outputs": [
    {
     "data": {
      "text/html": [
       "<div>\n",
       "<style scoped>\n",
       "    .dataframe tbody tr th:only-of-type {\n",
       "        vertical-align: middle;\n",
       "    }\n",
       "\n",
       "    .dataframe tbody tr th {\n",
       "        vertical-align: top;\n",
       "    }\n",
       "\n",
       "    .dataframe thead th {\n",
       "        text-align: right;\n",
       "    }\n",
       "</style>\n",
       "<table border=\"1\" class=\"dataframe\">\n",
       "  <thead>\n",
       "    <tr style=\"text-align: right;\">\n",
       "      <th></th>\n",
       "      <th>oil prices</th>\n",
       "      <th>% monthly change</th>\n",
       "      <th>one month % change annualised</th>\n",
       "      <th>% change over 12 month</th>\n",
       "      <th>3 month moving average</th>\n",
       "      <th>5 month moving average</th>\n",
       "    </tr>\n",
       "  </thead>\n",
       "  <tbody>\n",
       "    <tr>\n",
       "      <th>2018M11</th>\n",
       "      <td>67.66</td>\n",
       "      <td>NaN</td>\n",
       "      <td>NaN</td>\n",
       "      <td>NaN</td>\n",
       "      <td>NaN</td>\n",
       "      <td>NaN</td>\n",
       "    </tr>\n",
       "    <tr>\n",
       "      <th>2018M12</th>\n",
       "      <td>58.6</td>\n",
       "      <td>-13.390482</td>\n",
       "      <td>-82.184933</td>\n",
       "      <td>NaN</td>\n",
       "      <td>61.91</td>\n",
       "      <td>NaN</td>\n",
       "    </tr>\n",
       "    <tr>\n",
       "      <th>2019M01</th>\n",
       "      <td>59.48</td>\n",
       "      <td>1.501706</td>\n",
       "      <td>19.585941</td>\n",
       "      <td>NaN</td>\n",
       "      <td>60.50</td>\n",
       "      <td>62.82</td>\n",
       "    </tr>\n",
       "    <tr>\n",
       "      <th>2019M02</th>\n",
       "      <td>63.41</td>\n",
       "      <td>6.607263</td>\n",
       "      <td>115.497145</td>\n",
       "      <td>NaN</td>\n",
       "      <td>62.61</td>\n",
       "      <td>63.38</td>\n",
       "    </tr>\n",
       "    <tr>\n",
       "      <th>2019M03</th>\n",
       "      <td>64.93</td>\n",
       "      <td>2.397098</td>\n",
       "      <td>32.877606</td>\n",
       "      <td>NaN</td>\n",
       "      <td>66.28</td>\n",
       "      <td>66.02</td>\n",
       "    </tr>\n",
       "    <tr>\n",
       "      <th>2019M04</th>\n",
       "      <td>70.5</td>\n",
       "      <td>8.578469</td>\n",
       "      <td>168.487808</td>\n",
       "      <td>NaN</td>\n",
       "      <td>69.07</td>\n",
       "      <td>67.36</td>\n",
       "    </tr>\n",
       "    <tr>\n",
       "      <th>2019M05</th>\n",
       "      <td>71.79</td>\n",
       "      <td>1.829787</td>\n",
       "      <td>24.307701</td>\n",
       "      <td>NaN</td>\n",
       "      <td>69.48</td>\n",
       "      <td>67.68</td>\n",
       "    </tr>\n",
       "    <tr>\n",
       "      <th>2019M06</th>\n",
       "      <td>66.16</td>\n",
       "      <td>-7.842318</td>\n",
       "      <td>-62.470004</td>\n",
       "      <td>NaN</td>\n",
       "      <td>67.66</td>\n",
       "      <td>66.80</td>\n",
       "    </tr>\n",
       "    <tr>\n",
       "      <th>2019M07</th>\n",
       "      <td>65.04</td>\n",
       "      <td>-1.692866</td>\n",
       "      <td>-18.525739</td>\n",
       "      <td>NaN</td>\n",
       "      <td>63.90</td>\n",
       "      <td>65.01</td>\n",
       "    </tr>\n",
       "    <tr>\n",
       "      <th>2019M08</th>\n",
       "      <td>60.5</td>\n",
       "      <td>-6.98032</td>\n",
       "      <td>-58.033949</td>\n",
       "      <td>NaN</td>\n",
       "      <td>62.36</td>\n",
       "      <td>62.71</td>\n",
       "    </tr>\n",
       "  </tbody>\n",
       "</table>\n",
       "</div>"
      ],
      "text/plain": [
       "        oil prices % monthly change one month % change annualised  \\\n",
       "2018M11      67.66              NaN                           NaN   \n",
       "2018M12       58.6       -13.390482                    -82.184933   \n",
       "2019M01      59.48         1.501706                     19.585941   \n",
       "2019M02      63.41         6.607263                    115.497145   \n",
       "2019M03      64.93         2.397098                     32.877606   \n",
       "2019M04       70.5         8.578469                    168.487808   \n",
       "2019M05      71.79         1.829787                     24.307701   \n",
       "2019M06      66.16        -7.842318                    -62.470004   \n",
       "2019M07      65.04        -1.692866                    -18.525739   \n",
       "2019M08       60.5         -6.98032                    -58.033949   \n",
       "\n",
       "        % change over 12 month  3 month moving average  5 month moving average  \n",
       "2018M11                    NaN                     NaN                     NaN  \n",
       "2018M12                    NaN                   61.91                     NaN  \n",
       "2019M01                    NaN                   60.50                   62.82  \n",
       "2019M02                    NaN                   62.61                   63.38  \n",
       "2019M03                    NaN                   66.28                   66.02  \n",
       "2019M04                    NaN                   69.07                   67.36  \n",
       "2019M05                    NaN                   69.48                   67.68  \n",
       "2019M06                    NaN                   67.66                   66.80  \n",
       "2019M07                    NaN                   63.90                   65.01  \n",
       "2019M08                    NaN                   62.36                   62.71  "
      ]
     },
     "execution_count": 55,
     "metadata": {},
     "output_type": "execute_result"
    }
   ],
   "source": [
    "oil_rev[:10]"
   ]
  },
  {
   "cell_type": "code",
   "execution_count": 28,
   "id": "48593301-0d1b-4217-bfa4-b1925178a06e",
   "metadata": {
    "collapsed": true,
    "jupyter": {
     "outputs_hidden": true
    }
   },
   "outputs": [],
   "source": [
    "import matplotlib.pyplot as plt\n",
    "import numpy as np"
   ]
  },
  {
   "cell_type": "code",
   "execution_count": 90,
   "id": "210cfd62-caa9-4099-a483-6a57b9cec2b3",
   "metadata": {
    "tags": []
   },
   "outputs": [
    {
     "data": {
      "image/png": "[encoded data removed]",
      "text/plain": [
       "<Figure size 1296x1008 with 1 Axes>"
      ]
     },
     "metadata": {
      "needs_background": "light"
     },
     "output_type": "display_data"
    }
   ],
   "source": [
    "fig, ax = plt.subplots(figsize = (18,14));           # ax is needed for some functions\n",
    "ax.spines[[\"top\", \"right\"]].set_visible(False) # remove axis\n",
    "ax.plot(oil_rev[\"oil prices\"], label=\"oil price\")\n",
    "ax.plot(oil_rev[\"3 month moving average\"], ls=\"--\", color='#6A1848', label=\"3 month mv\")\n",
    "ax.plot(oil_rev[\"5 month moving average\"], ls=\"-\", color=\"#F38F3E\", label=\"5 month mv\")\n",
    "\n",
    "start, end = ax.get_xlim()\n",
    "ax.xaxis.set_ticks(np.arange(0, 38, 5))\n",
    "\n",
    "plt.legend(loc=\"best\")\n",
    "plt.show()"
   ]
  }
 ],
 "metadata": {
  "kernelspec": {
   "display_name": "Python 3.8.12 64-bit ('3.8.12')",
   "language": "python",
   "name": "python3"
  },
  "language_info": {
   "codemirror_mode": {
    "name": "ipython",
    "version": 3
   },
   "file_extension": ".py",
   "mimetype": "text/x-python",
   "name": "python",
   "nbconvert_exporter": "python",
   "pygments_lexer": "ipython3",
   "version": "3.8.12"
  },
  "toc": {
   "base_numbering": 1,
   "nav_menu": {},
   "number_sections": true,
   "sideBar": true,
   "skip_h1_title": false,
   "title_cell": "Table of Contents",
   "title_sidebar": "Contents",
   "toc_cell": true,
   "toc_position": {},
   "toc_section_display": true,
   "toc_window_display": true
  },
  "toc-showtags": false,
  "vscode": {
   "interpreter": {
    "hash": "90e46ec4b387b633a89cba001294dbacbdc2d7a1806327e4b9e9ce73f0e3d3ef"
   }
  },
  "widgets": {
   "application/vnd.jupyter.widget-state+json": {
    "state": {},
    "version_major": 2,
    "version_minor": 0
   }
  }
 },
 "nbformat": 4,
 "nbformat_minor": 5
}
