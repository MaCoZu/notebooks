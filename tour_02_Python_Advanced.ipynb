{
 "cells": [
  {
   "cell_type": "markdown",
   "id": "30e70b02",
   "metadata": {},
   "source": [
    "# Coding Style PEP-8\n",
    "- imports at the top each in tis own line\n",
    "- indent code using space instead of tabs\n",
    "- use for spaces for each  indentation levels\n",
    "- limit lines to 79 chars (72 for comments and docstrings)\n",
    "- seperate functions and classe by two blank lines\n",
    "- in classes one blank line seperates methods\n",
    "- no white spce around functions calls, indexes and keyword arguments\n",
    "\n",
    "Whitespace:\n",
    "- *spam(fn)*  is better than *spam ( fn )*\n",
    "- *list[index]* is better than *list [index]*\n",
    "\n",
    "https://peps.python.org/pep-0008/#whitespace-in-expressions-and-statements"
   ]
  },
  {
   "cell_type": "markdown",
   "id": "c98623ce",
   "metadata": {},
   "source": [
    "# documentation .\\_\\_doc\\_\\_\n"
   ]
  },
  {
   "cell_type": "code",
   "execution_count": 31,
   "id": "dc4f8d08",
   "metadata": {},
   "outputs": [
    {
     "name": "stdout",
     "output_type": "stream",
     "text": [
      "map(func, *iterables) --> map object\n",
      "\n",
      "Make an iterator that computes the function using arguments from\n",
      "each of the iterables.  Stops when the shortest iterable is exhausted.\n"
     ]
    }
   ],
   "source": [
    "# doc of a function\n",
    "print(map.__doc__)"
   ]
  },
  {
   "cell_type": "code",
   "execution_count": 32,
   "id": "cb64a9e0",
   "metadata": {},
   "outputs": [
    {
     "name": "stdout",
     "output_type": "stream",
     "text": [
      "This module implements specialized container datatypes providing\n",
      "alternatives to Python's general purpose built-in containers, dict,\n",
      "list, set, and tuple.\n",
      "\n",
      "* namedtuple   factory function for creating tuple subclasses with named fields\n",
      "* deque        list-like container with fast appends and pops on either end\n",
      "* ChainMap     dict-like class for creating a single view of multiple mappings\n",
      "* Counter      dict subclass for counting hashable objects\n",
      "* OrderedDict  dict subclass that remembers the order entries were added\n",
      "* defaultdict  dict subclass that calls a factory function to supply missing values\n",
      "* UserDict     wrapper around dictionary objects for easier dict subclassing\n",
      "* UserList     wrapper around list objects for easier list subclassing\n",
      "* UserString   wrapper around string objects for easier string subclassing\n",
      "\n",
      "\n"
     ]
    }
   ],
   "source": [
    "import collections\n",
    "# doc of a module\n",
    "print(collections.__doc__)"
   ]
  },
  {
   "cell_type": "markdown",
   "id": "6151c256",
   "metadata": {},
   "source": [
    "# docstring\n",
    "- always in triple quotes\n",
    "- first line should summarize the functionality\n",
    "- Modules: list important classes, function, exceptions\n",
    "- Classes: list important methods, enums, static member fct.\n",
    "- Functions: \n",
    "  - list params and explain in it, one per line\n",
    "  - if there is a return value, list it, otherwise omit\n",
    "  - list exceptions raised by the fct\n",
    "https://docutils.sourceforge.io/docs/peps/pep-0257.html"
   ]
  },
  {
   "cell_type": "code",
   "execution_count": 34,
   "id": "183a43d2",
   "metadata": {},
   "outputs": [
    {
     "name": "stdout",
     "output_type": "stream",
     "text": [
      "myFunction(arg1, arg2=None) --> doesn't really do anything\n",
      "    \n",
      "    Paramaters:\n",
      "    arg1: first argument.\n",
      "    arg2: second argument\n",
      "    \n"
     ]
    }
   ],
   "source": [
    "def myFunction(arg1, arg2=None):\n",
    "    \"\"\"myFunction(arg1, arg2=None) --> doesn't really do anything\n",
    "    \n",
    "    Paramaters:\n",
    "    arg1: first argument.\n",
    "    arg2: second argument\n",
    "    \"\"\"\n",
    "    print(arg1, arg2)\n",
    "\n",
    "\n",
    "print(myFunction.__doc__)"
   ]
  },
  {
   "cell_type": "markdown",
   "id": "5fcfc0ec",
   "metadata": {},
   "source": [
    "# Truth Values\n",
    "Boolean True\n",
    "- any object in Python is considered to be equivalent to boolean True unless it's call defines a bool that returns False or retruns a len(x)=0\n",
    "\n",
    "Built-in objects that evaluate to False\n",
    "- False = None = 0 = 0j = Decimal(0) = Fraction (0, x)\n",
    "- Empty sequences and collections are also false (), [], {}\n",
    "- Empty sets and ranges amount to false set(), range(0)\n",
    "\n",
    "AND, OR, NOT\n",
    "- are short curcuit operators they check just the necessary operands\n",
    "- AND (False AND True) chescks the first operant, if it is False the second operant is not checked\n",
    "- OR only checks the second operand if the first one is False"
   ]
  },
  {
   "cell_type": "markdown",
   "id": "3a99f784",
   "metadata": {},
   "source": [
    "# Strings vs. Bytes\n",
    "- strings and bytes are not directly interchangeable\n",
    "- strings contain unicode\n",
    "- bytes are raw 8-bit values\n",
    "- decode transforms bytes to a string\n",
    "- encode transforms strings in bytes\n",
    "  - letters, punctuation, symbols, whitespace, and control characters become integers and ultimately bits. \n",
    "  - Each character can be encoded to a unique sequence of bits."
   ]
  },
  {
   "cell_type": "code",
   "execution_count": 2,
   "id": "1b4c80fc",
   "metadata": {},
   "outputs": [
    {
     "name": "stdout",
     "output_type": "stream",
     "text": [
      "b'r\\xc3\\xa9sum\\xc3\\xa9'\n",
      "résumé\n"
     ]
    }
   ],
   "source": [
    "# The results of str.encode() is a bytes object.\n",
    "# Both bytes literals (such as b\"r\\xc3\\xa9sum\\xc3\\xa9\") and the representations of bytes permit only ASCII characters.\n",
    "encoded = \"résumé\".encode(\"utf-8\")\n",
    "print(encoded)\n",
    "\n",
    "decoded = b\"r\\xc3\\xa9sum\\xc3\\xa9\".decode(\"utf-8\")\n",
    "print(decoded)"
   ]
  },
  {
   "cell_type": "code",
   "execution_count": 3,
   "id": "beee54a0",
   "metadata": {},
   "outputs": [
    {
     "name": "stdout",
     "output_type": "stream",
     "text": [
      "this is a stringABCD\n"
     ]
    }
   ],
   "source": [
    "# to combine bytes and strings one needs to be en- or decoded\n",
    "b = bytes([0x41, 0x42, 0x43, 0x44])  # asci letters\n",
    "s = 'this is a string'\n",
    "\n",
    "s2 = b.decode('utf-8')\n",
    "print(s + s2)"
   ]
  },
  {
   "cell_type": "code",
   "execution_count": 12,
   "id": "fa714059",
   "metadata": {},
   "outputs": [
    {
     "data": {
      "text/plain": [
       "b'\\xff\\xfe\\x00\\x00t\\x00\\x00\\x00h\\x00\\x00\\x00i\\x00\\x00\\x00s\\x00\\x00\\x00 \\x00\\x00\\x00i\\x00\\x00\\x00s\\x00\\x00\\x00 \\x00\\x00\\x00a\\x00\\x00\\x00 \\x00\\x00\\x00s\\x00\\x00\\x00t\\x00\\x00\\x00r\\x00\\x00\\x00i\\x00\\x00\\x00n\\x00\\x00\\x00g\\x00\\x00\\x00'"
      ]
     },
     "execution_count": 12,
     "metadata": {},
     "output_type": "execute_result"
    }
   ],
   "source": [
    "# hexadecimal\n",
    "b3 = s.encode('utf-32')\n",
    "b3"
   ]
  },
  {
   "cell_type": "markdown",
   "id": "ad1acfa9",
   "metadata": {},
   "source": [
    "# template strings\n",
    "- value subsitution\n",
    "- more secure than the simple format method"
   ]
  },
  {
   "cell_type": "code",
   "execution_count": 18,
   "id": "2afa1792",
   "metadata": {},
   "outputs": [
    {
     "data": {
      "text/plain": [
       "'This is Python Advanced by Marco'"
      ]
     },
     "execution_count": 18,
     "metadata": {},
     "output_type": "execute_result"
    }
   ],
   "source": [
    "# usual formatting with format\n",
    "str1 = 'This is {0} by {1}'.format('Python Advanced', 'Marco')\n",
    "str1"
   ]
  },
  {
   "cell_type": "code",
   "execution_count": 17,
   "id": "dd94cbde",
   "metadata": {},
   "outputs": [
    {
     "data": {
      "text/plain": [
       "'This is Python Advanced by Marco'"
      ]
     },
     "execution_count": 17,
     "metadata": {},
     "output_type": "execute_result"
    }
   ],
   "source": [
    "from string import Template\n",
    "templ = Template('This is ${notebook} by ${author}')\n",
    "str2 = templ.substitute(notebook='Python Advanced', author='Marco')\n",
    "str2"
   ]
  },
  {
   "cell_type": "code",
   "execution_count": 19,
   "id": "f36837ab",
   "metadata": {},
   "outputs": [
    {
     "data": {
      "text/plain": [
       "'This is Python Advanced by Marco'"
      ]
     },
     "execution_count": 19,
     "metadata": {},
     "output_type": "execute_result"
    }
   ],
   "source": [
    "dict = {\n",
    "    'author': 'Marco',\n",
    "    'notebook': 'Python Advanced'\n",
    "}\n",
    "\n",
    "str3 = templ.substitute(dict)\n",
    "str3"
   ]
  },
  {
   "cell_type": "markdown",
   "id": "3fb3ddc6",
   "metadata": {},
   "source": [
    "# Functions\n",
    "- define a function - A function is a block of code, which only runs when it is called.\n",
    "- Arguments are specified after the function name, inside the parentheses."
   ]
  },
  {
   "cell_type": "code",
   "execution_count": 3,
   "id": "3ea03c2e",
   "metadata": {},
   "outputs": [
    {
     "name": "stdout",
     "output_type": "stream",
     "text": [
      "Hi,  Hans, Z\n",
      "Welcome\n",
      "Hi,  Hans, Z\n",
      "Welcome\n"
     ]
    }
   ],
   "source": [
    "def greet_user(fname, lname):            # parameters are the placeholders\n",
    "    print(f\"Hi,  {fname}, {lname}\")         # argument is the definite value given to the function as a parameter\n",
    "    print(\"Welcome\")\n",
    "    \n",
    "greet_user(\"Hans\", \"Z\")             # positional arguments\n",
    "greet_user(lname=\"Z\", fname=\"Hans\") # keyword arguments"
   ]
  },
  {
   "cell_type": "markdown",
   "id": "befff812",
   "metadata": {},
   "source": [
    "## return \n",
    "- You can use the return statement to make your functions send Python objects back to the caller code.\n",
    "- every function returns a NONE when there is no return statement\n",
    "- return stops the functions execution"
   ]
  },
  {
   "cell_type": "code",
   "execution_count": 5,
   "id": "a92a578d",
   "metadata": {},
   "outputs": [
    {
     "name": "stdout",
     "output_type": "stream",
     "text": [
      "9\n"
     ]
    }
   ],
   "source": [
    "def square(number):\n",
    "    return print(number*number)\n",
    "\n",
    "square(3)"
   ]
  },
  {
   "cell_type": "markdown",
   "id": "9031e2e4",
   "metadata": {},
   "source": [
    "## typing\n",
    "- In the following function, the argument name is expected to be of type str\n",
    "- and the return type shold be int. Subtypes are accepted as arguments."
   ]
  },
  {
   "cell_type": "code",
   "execution_count": 63,
   "id": "ce750785",
   "metadata": {},
   "outputs": [
    {
     "data": {
      "text/plain": [
       "5"
      ]
     },
     "execution_count": 63,
     "metadata": {},
     "output_type": "execute_result"
    }
   ],
   "source": [
    "def name_len(name: str) -> int:\n",
    "    return len(name)\n",
    "\n",
    "name_len(\"Marco\")"
   ]
  },
  {
   "cell_type": "markdown",
   "id": "951582ea",
   "metadata": {},
   "source": [
    "## arguments (args)\n",
    "- **Parameters** are defined by the names that appear in a function definition, whereas **arguments** are the values actually passed to a function when calling it. \n",
    "- Parameters define what types of arguments a function can accept. \n",
    "- A __parameter__ is the variable listed inside the parentheses in the function definition.\n",
    "- An __argument__ is the value that are sent to the function when it is called.\n",
    "\n",
    "#### Parameters\n",
    "Parameters are part of a function definition (def or lambda). There are five different kinds of parameters:\n",
    "\n",
    "- **positional-or-keyword**: \n",
    "Normal parameters in a function definition, with or without default values. \n",
    "Each has a name and an index, and can accept a positional argument with the same index, \n",
    "or a keyword argument with the same name, or (if it has a default value) nothing. \n",
    "Technically, every parameter before the first bare *, var-positional, or var-keyword is a positional-or-keyword parameter.\n",
    "- **positional-only**: \n",
    "Only found in builtin/extension functions. \n",
    "Each has a name and an index, but only accepts positional arguments with the same index.\n",
    "- **var-positional**: \n",
    "This is the *args.\n",
    "This accepts a sequence consisting of all positional arguments whose index is larger \n",
    "than any positional-or-keyword or positional-only parameter.\n",
    "(Note that you can also specify a bare * here. In that case, you don't take variable positional arguments.\n",
    "You do this to set off keyword-only from positional-or-keyword parameters.)\n",
    "- **keyword-only**: \n",
    "These are parameters that come after a * or *args, with or without default values.\n",
    "Each has a name only, and accepts only keyword arguments with the same name. \n",
    "Technically, every parameter after the first bare * or var-positional,\n",
    "but before the var-keyword (if any), is a keyword-only parameter.\n",
    "- **var-keyword**: \n",
    "This is the **args.\n",
    "This accepts a mapping consisting of all keyword arguments whose name does not \n",
    "match any positional-or-keyword or keyword-only parameter.\n",
    "\n",
    "#### Arguments\n",
    "Arguments are part of a function call. There are four different kinds of arguments:\n",
    "\n",
    "- **positional**: Arguments without a name.\n",
    "        Each is matched to the positional-or-keyword or positional-only parameter with the same index, or to the var-positional parameter if there is no matching index (or, if there is no var-positional parameter, it's an error if there is no match).\n",
    "- **keyword**: Arguments with a name.\n",
    "        Each is matched to the postional-or-keyword or keyword-only parameter with the same name, or to the var-keyword parameter if there is no matching name (or, if there is no var-keyword parameter, it's an error if there is no match).\n",
    "- **packed positional**: An iterator preceded by *.\n",
    "        The iterator is unpacked, and the values treated as separate positional arguments.\n",
    "- **packed keyword**: A mapping preceded by **.\n",
    "        The mapping is iterated, and the key-value pairs treated as separate keyword arguments.\n",
    "\n",
    "There is no direct connection between parameters with a default value and keyword arguments. You can pass keyword arguments to parameters without default values, or positional arguments to parameters with them.\n"
   ]
  },
  {
   "cell_type": "markdown",
   "id": "0206eab3",
   "metadata": {},
   "source": [
    "### positional args\n",
    "-  By default, a function must be called with the correct number of arguments. \n",
    "-  the args passed are assigned according to their position"
   ]
  },
  {
   "cell_type": "code",
   "execution_count": 113,
   "id": "d5749b9b",
   "metadata": {},
   "outputs": [
    {
     "name": "stdout",
     "output_type": "stream",
     "text": [
      "Emil Hauser\n"
     ]
    }
   ],
   "source": [
    "def my_function(fname, lname):\n",
    "  print(fname + \" \" + lname)\n",
    "\n",
    "my_function(\"Emil\", \"Hauser\") "
   ]
  },
  {
   "cell_type": "markdown",
   "id": "5f5126e2",
   "metadata": {},
   "source": [
    "### keyword args\n",
    "- Keyword Arguments (kwargs)\n",
    "-  You can also send arguments with the 'key = value' syntax.\n",
    "- This way the order of the arguments does not matter."
   ]
  },
  {
   "cell_type": "code",
   "execution_count": null,
   "id": "4de5d186",
   "metadata": {},
   "outputs": [],
   "source": [
    "def my_function(child3, child2, child1):\n",
    "  print(\"The youngest child is \" + child3)\n",
    "\n",
    "my_function(child1 = \"Emil\", child2 = \"Tobias\", child3 = \"Linus\")"
   ]
  },
  {
   "cell_type": "markdown",
   "id": "bbd630a2",
   "metadata": {},
   "source": [
    "#### keyword-only Arguments\n",
    "- if we want the function caller to explicitly use a keyword \n",
    "- the * here means ‘don’t allow any positional arguments beyond this point’\n",
    "- otherwise any further (accidentially) added parameter is taken as the keyword parameter"
   ]
  },
  {
   "cell_type": "code",
   "execution_count": 34,
   "id": "f960ed3d",
   "metadata": {},
   "outputs": [
    {
     "name": "stdout",
     "output_type": "stream",
     "text": [
      "1 2 3\n"
     ]
    }
   ],
   "source": [
    "def k_only(arg1, arg2, *,  sub=False):\n",
    "    return print(arg1, arg2, sub)\n",
    "\n",
    "k_only(1, 2, sub=3)"
   ]
  },
  {
   "cell_type": "markdown",
   "id": "fb67e283",
   "metadata": {},
   "source": [
    "### *args\n",
    "-  *args, Variable Arguments\n",
    "-  *args gets all the excess positional arguments\n",
    "-  If you do not know how many arguments will be passed into your function\n",
    "-  This way the function will receive a tuple of arguments, and can access the items accordingly\n",
    "- good when # of args is small\n",
    "- add flexibility to the fct.\n"
   ]
  },
  {
   "cell_type": "code",
   "execution_count": null,
   "id": "11798b05",
   "metadata": {},
   "outputs": [],
   "source": [
    "def my_function(*kids):\n",
    "  print(\"The youngest child is \" + kids[2])\n",
    "\n",
    "my_function(\"Emil\", \"Tobias\", \"Linus\")"
   ]
  },
  {
   "cell_type": "code",
   "execution_count": 15,
   "id": "affcda59",
   "metadata": {},
   "outputs": [
    {
     "name": "stdout",
     "output_type": "stream",
     "text": [
      "11\n",
      "156\n",
      "27\n"
     ]
    }
   ],
   "source": [
    "# if we add a positional param like this addition(base, *args)\n",
    "# the fct. is off bc it takes base and misses the last value in the *args\n",
    "def addition(*args):\n",
    "    result=0\n",
    "    for arg in args:\n",
    "        result += arg\n",
    "    return result\n",
    "\n",
    "print(addition(2, 4, 5))\n",
    "print(addition(10 ,20, 4, 81, 41))\n",
    "nums = [1, 4, 6, 6, 10]\n",
    "print(addition(*nums))"
   ]
  },
  {
   "cell_type": "markdown",
   "id": "931764da",
   "metadata": {},
   "source": [
    "### kwargs\n",
    "- var-keyword parameter/ keyword dictionary parameter slot\n",
    "- **kwargs, variable Keyword Arguments\n",
    "- **kwargs gets all the excess keyword arguments\n",
    "- If the number of keyword arguments is unknown, add a double ** before the parameter name.\n"
   ]
  },
  {
   "cell_type": "code",
   "execution_count": null,
   "id": "2cea0d3e",
   "metadata": {},
   "outputs": [],
   "source": [
    "def my_function(**kid):\n",
    "  print(\"His last name is \" + kid[\"lname\"])\n",
    "\n",
    "my_function(fname = \"Tobias\", lname = \"Refsnes\")"
   ]
  },
  {
   "cell_type": "code",
   "execution_count": null,
   "id": "43a6be75",
   "metadata": {},
   "outputs": [],
   "source": [
    "# default argument\n",
    "def my_function(country = \"Norway\"):\n",
    "  print(\"I am from \" + country)\n",
    "\n",
    "my_function(\"India\")\n",
    "my_function()"
   ]
  },
  {
   "cell_type": "markdown",
   "id": "2f509494",
   "metadata": {},
   "source": [
    "## higher order function \n",
    "- contains other functions as a parameter or returns a function as an output"
   ]
  },
  {
   "cell_type": "code",
   "execution_count": 68,
   "id": "e3e44e93",
   "metadata": {},
   "outputs": [
    {
     "name": "stdout",
     "output_type": "stream",
     "text": [
      "HELLO\n"
     ]
    }
   ],
   "source": [
    "def shout(text):\n",
    "    return text.upper()\n",
    "\n",
    "print(shout('Hello'))\n"
   ]
  },
  {
   "cell_type": "markdown",
   "id": "09a18b82",
   "metadata": {},
   "source": [
    "## Passing a Function as an argument to another function"
   ]
  },
  {
   "cell_type": "code",
   "execution_count": 73,
   "id": "e3cd5557",
   "metadata": {},
   "outputs": [
    {
     "name": "stdout",
     "output_type": "stream",
     "text": [
      "HI, I AM CREATED BY A FUNCTION PASSED AS AN ARGUMENT.\n",
      "hi, i am created by a function passed as an argument.\n"
     ]
    }
   ],
   "source": [
    "def shout(text):\n",
    "    return text.upper()\n",
    "\n",
    "def whisper(text):\n",
    "    return text.lower()\n",
    "\n",
    "def greet(func):\n",
    "    # storing the function in a variable\n",
    "    greeting = func(\"Hi, I am created by a function passed as an argument.\")\n",
    "    print(greeting)\n",
    "\n",
    "greet(shout)  # function greet which takes a function as an argument\n",
    "greet(whisper)"
   ]
  },
  {
   "cell_type": "markdown",
   "id": "1cbad3e8",
   "metadata": {},
   "source": [
    "## recursion"
   ]
  },
  {
   "cell_type": "code",
   "execution_count": null,
   "id": "7e45b6df",
   "metadata": {},
   "outputs": [
    {
     "name": "stdout",
     "output_type": "stream",
     "text": [
      "\n",
      "Recursion Example Results\n",
      "k: 1, k-1: 0, result: 1\n",
      "k: 2, k-1: 1, result: 3\n",
      "3\n"
     ]
    }
   ],
   "source": [
    "# recursion - means a defined function can call itself\n",
    "def tri_recursion(k):\n",
    "  if(k > 0):\n",
    "    result = k + tri_recursion(k - 1)\n",
    "    print(f\"k: {k}, k-1: {k-1}, result: {result}\")\n",
    "  else:\n",
    "    result = 0\n",
    "  return result\n",
    "print(\"\\nRecursion Example Results\")\n",
    "x = tri_recursion(2)\n",
    "print(x)"
   ]
  },
  {
   "cell_type": "markdown",
   "id": "a9c10c58",
   "metadata": {},
   "source": [
    "## Assigning function to a variable"
   ]
  },
  {
   "cell_type": "code",
   "execution_count": 70,
   "id": "43fe1fe1",
   "metadata": {},
   "outputs": [
    {
     "name": "stdout",
     "output_type": "stream",
     "text": [
      "HELLO\n"
     ]
    }
   ],
   "source": [
    "yell = shout\n",
    "print(yell('Hello'))"
   ]
  },
  {
   "cell_type": "markdown",
   "id": "746e2cdc",
   "metadata": {},
   "source": [
    "## lambda function\n",
    "- lambda function is a small anonymous fct.\n",
    "- they don't have names\n",
    "- can be passed as arguments to other fct.\n",
    "- can take any number of arguments, but has only one expression\n",
    "- lambda(parameters) : (expression)"
   ]
  },
  {
   "cell_type": "code",
   "execution_count": null,
   "id": "74b2cf48",
   "metadata": {},
   "outputs": [
    {
     "name": "stdout",
     "output_type": "stream",
     "text": [
      "8\n"
     ]
    }
   ],
   "source": [
    "x = lambda a, b : a ** b           # two args followed by clause\n",
    "print(x(2, 3))                              # x is return"
   ]
  },
  {
   "cell_type": "code",
   "execution_count": 23,
   "id": "c8a96647",
   "metadata": {},
   "outputs": [
    {
     "data": {
      "text/plain": [
       "[32.0, 53.6, 93.2, 212.0]"
      ]
     },
     "execution_count": 23,
     "metadata": {},
     "output_type": "execute_result"
    }
   ],
   "source": [
    "ctemp =[0, 12, 34, 100]\n",
    "#  temp conversion is a very mall fct\n",
    "# we can easliy put it in a lambda\n",
    "list(map(lambda t: (t*9/5)+32, ctemp))"
   ]
  },
  {
   "cell_type": "code",
   "execution_count": null,
   "id": "24ae6321",
   "metadata": {},
   "outputs": [
    {
     "name": "stdout",
     "output_type": "stream",
     "text": [
      "121\n",
      "16\n"
     ]
    }
   ],
   "source": [
    "# power of lambda is better shown when you use them \n",
    "# as an anonymous function inside another function\n",
    "def times(n):\n",
    "  return lambda a : a ** n\n",
    "\n",
    "squared = times(2)\n",
    "print(squared(11))\n",
    "\n",
    "power_4 = times(4)\n",
    "print(power_4(2))"
   ]
  },
  {
   "cell_type": "code",
   "execution_count": null,
   "id": "cfbd7ccb",
   "metadata": {},
   "outputs": [
    {
     "name": "stdout",
     "output_type": "stream",
     "text": [
      "2\n"
     ]
    }
   ],
   "source": [
    "# Example of lambda function using if-else\n",
    "max = lambda a, b : a if(a > b) else b\n",
    "print(max(1, 2))"
   ]
  },
  {
   "cell_type": "code",
   "execution_count": null,
   "id": "add8f433",
   "metadata": {},
   "outputs": [
    {
     "name": "stdout",
     "output_type": "stream",
     "text": [
      "[3, 16, 9]\n"
     ]
    }
   ],
   "source": [
    "# lambda - inner and outer function\n",
    "List = [[2,3,4],[1, 4, 16, 64],[3, 6, 9, 12]]\n",
    "sortList = lambda x: (sorted(i) for i in x)                     # Sort each sublist - inner fct.\n",
    "secondLargest = lambda l, sL : [i[-2] for i in sL(l)]     # Get the second largest element - outer fct.\n",
    "res = secondLargest(List, sortList)\n",
    "print(res)"
   ]
  },
  {
   "cell_type": "markdown",
   "id": "379bf67a",
   "metadata": {},
   "source": [
    "# map, reduce, filter"
   ]
  },
  {
   "cell_type": "markdown",
   "id": "d651625e",
   "metadata": {},
   "source": [
    "## map()\n",
    "- map() returns a map object (which is an iterator) of the results after\n",
    "- applying the given function to each item of a given iterable (list, tuple etc.)\n",
    "- The map() function executes a specified function for each item in an iterable.\n",
    "-  The item is sent to the function as a parameter."
   ]
  },
  {
   "cell_type": "code",
   "execution_count": 47,
   "id": "f5ca9341",
   "metadata": {},
   "outputs": [
    {
     "name": "stdout",
     "output_type": "stream",
     "text": [
      "[25, 49, 484, 9409, 2916, 3844, 5929, 529, 5329, 3721]\n"
     ]
    }
   ],
   "source": [
    "li = [5, 7, 22, 97, 54, 62, 77, 23, 73, 61]\n",
    "final_list = list(map(lambda x: x**2, li))\n",
    "print(final_list)\n"
   ]
  },
  {
   "cell_type": "code",
   "execution_count": 1,
   "id": "657378c5",
   "metadata": {},
   "outputs": [],
   "source": [
    "def toGrades(x):\n",
    "    if x > 90: return 'A'\n",
    "    elif 80 <= x & x < 90: return 'B'\n",
    "    elif 70 <= x & x <80: return 'C'\n",
    "    elif 65 <= x & x <70: return 'D'\n",
    "    else: return 'F'"
   ]
  },
  {
   "cell_type": "code",
   "execution_count": 6,
   "id": "6db1a565",
   "metadata": {},
   "outputs": [
    {
     "name": "stdout",
     "output_type": "stream",
     "text": [
      "[50, 60, 67, 76, 81, 86, 99, 102]\n",
      "['F', 'F', 'D', 'C', 'B', 'B', 'A', 'A']\n"
     ]
    }
   ],
   "source": [
    "grades = (102, 99, 86, 67, 50, 81, 76, 60)\n",
    "grade_sort = sorted(grades)\n",
    "# maps letters to numbers according to the function\n",
    "letters = list(map(toGrades, grade_sort))\n",
    "print(grade_sort)\n",
    "print(letters)"
   ]
  },
  {
   "cell_type": "code",
   "execution_count": null,
   "id": "b7f76d8d",
   "metadata": {},
   "outputs": [
    {
     "data": {
      "text/plain": [
       "[100, 200, 300, 400]"
      ]
     },
     "metadata": {},
     "output_type": "display_data"
    }
   ],
   "source": [
    "numbers = (1, 2, 3, 4)\n",
    "scale = lambda a: a*100\n",
    "result = map(scale, numbers) # takes each item of numbers applies the fct. and returns a list\n",
    "list(result)"
   ]
  },
  {
   "cell_type": "code",
   "execution_count": null,
   "id": "87c41a7a",
   "metadata": {},
   "outputs": [
    {
     "name": "stdout",
     "output_type": "stream",
     "text": [
      "[5, 6, 6]\n"
     ]
    }
   ],
   "source": [
    "len_func = lambda x: len(x)\n",
    "\n",
    "x = list(map(len_func, ('apple', 'banana', 'cherry')))    # map creates an map object, thus convert it to a list\n",
    "print(x)\n"
   ]
  },
  {
   "cell_type": "markdown",
   "id": "ccd21378",
   "metadata": {},
   "source": [
    "## filter()\n",
    "- filter() takes in a function and a list as arguments.\n",
    "- __filters out all the elements of a sequence, for which the function returns True.__\n",
    "- filter(function, iterable)"
   ]
  },
  {
   "cell_type": "code",
   "execution_count": null,
   "id": "bc83179d",
   "metadata": {},
   "outputs": [
    {
     "data": {
      "text/plain": [
       "[22, 54, 62]"
      ]
     },
     "metadata": {},
     "output_type": "display_data"
    }
   ],
   "source": [
    "li = [5, 7, 22, 97, 54, 62, 77, 23, 73, 61]\n",
    "final_list = list(filter(lambda x: (x%2 == 0) , li))\n",
    "final_list"
   ]
  },
  {
   "cell_type": "code",
   "execution_count": null,
   "id": "d8098141",
   "metadata": {},
   "outputs": [
    {
     "name": "stdout",
     "output_type": "stream",
     "text": [
      "[90, 59, 21, 60]\n"
     ]
    }
   ],
   "source": [
    "ages = [13, 90, 17, 59, 21, 60, 5]\n",
    "adults = list(filter(lambda age: age>18, ages))\n",
    "print(adults)"
   ]
  },
  {
   "cell_type": "markdown",
   "id": "5932c4d6",
   "metadata": {},
   "source": [
    "## reduce()\n",
    "- needs to be imported as it resides in the functools module.\n",
    "- performs a repetitive operation over the pairs of the iterable.\n",
    "-  implements a technique called folding - reduce a list of items to a single cumulative value\n",
    "- takes an existing function, applys it cumulatively to all the items in an iterable"
   ]
  },
  {
   "cell_type": "code",
   "execution_count": null,
   "id": "d4edb61a",
   "metadata": {},
   "outputs": [
    {
     "name": "stdout",
     "output_type": "stream",
     "text": [
      "The maximum element of the list is : 76\n"
     ]
    }
   ],
   "source": [
    "from functools import reduce\n",
    "lis = [10, 32, 51, 76, 2]\n",
    "maximum = reduce(lambda a,b : a if a > b else b,lis)\n",
    "print (f\"The maximum element of the list is : {maximum}\")"
   ]
  },
  {
   "cell_type": "markdown",
   "id": "13ab0b38",
   "metadata": {},
   "source": [
    "# built-in functions"
   ]
  },
  {
   "cell_type": "code",
   "execution_count": null,
   "id": "570581a1",
   "metadata": {},
   "outputs": [],
   "source": [
    "abs()\t        # Returns the absolute value of a number\n",
    "all()\t          # Returns True if all items in an iterable object are true\n",
    "any()\t        # Returns True if any item in an iterable object is true\n",
    "ascii()\t        # Returns a readable version of an object. Replaces none-ascii characters with escape character\n",
    "bin()\t        # Returns the binary version of a number\n",
    "bool()\t            # Returns the boolean value of the specified object\n",
    "bytearray()\t    # Returns an array of bytes\n",
    "bytes()\t            # Returns a bytes object\n",
    "callable()\t              # Returns True if the specified object is callable, otherwise False\n",
    "chr()\t                     # Returns a character from the specified Unicode code.\n",
    "ord()\t                    # Convert an integer representing the Unicode of the specified character\n",
    "classmethod()\t    # Converts a method into a class method\n",
    "compile()\t            # Returns the specified source as an object, ready to be executed\n",
    "complex()\t           # Returns a complex number\n",
    "delattr()\t              # Deletes the specified attribute (property or method) from the specified object\n",
    "dict()\t                    # Returns a dictionary (Array)\n",
    "dir()\t                     # Returns a list of the specified object's properties and methods\n",
    "divmod()\t           # Returns the quotient and the remainder when argument1 is divided by argument2\n",
    "enumerate()\t        # Takes a collection (e.g. a tuple) and returns it as an enumerate object\n",
    "eval()\t                   # Evaluates and executes an expression\n",
    "exec()\t                  # Executes the specified code (or object)\n",
    "filter()\t          # Use a filter function to exclude items in an iterable object\n",
    "float()\t             # Returns a floating point number\n",
    "format()\t      # Formats a specified value     \n",
    "frozenset()\t    # Returns a frozenset object\n",
    "\n",
    "getattr()\t      # Returns the value of the specified attribute (property or method)\n",
    "setattr()\t       # Sets an attribute (property/method) of an object\n",
    "hasattr()\t      # Returns True if the specified object has the specified attribute (property/method)\n",
    "isinstance()\t             # Returns True if a specified object is an instance of a specified object\n",
    "issubclass()\t             # Returns True if a specified class is a subclass of a specified object\n",
    "\n",
    "globals()\t      # Returns the current global symbol table as a dictionary\n",
    "hash()\t            # Returns the hash value of a specified object\n",
    "help()\t            # Executes the built-in help system\n",
    "hex()\t            # Converts a number into a hexadecimal value\n",
    "id()\t              # Returns the id of an object\n",
    "input()\t           # Allowing user input\n",
    "int()\t             # Returns an integer number\n",
    "iter()\t             # Returns an iterator object\n",
    "len()\t             # Returns the length of an object\n",
    "list()\t              # Returns a list\n",
    "locals()\t        # Returns an updated dictionary of the current local symbol table\n",
    "map()\t            # Returns the specified iterator with the specified function applied to each item\n",
    "max()\t            # Returns the largest item in an iterable\n",
    "memoryview()\t             # Returns a memory view object\n",
    "min()\t             # Returns the smallest item in an iterable\n",
    "next()\t             # Returns the next item in an iterable\n",
    "object()\t       # Returns a new object\n",
    "oct()\t              # Converts a number into an octal\n",
    "open()\t           # Opens a file and returns a file object\n",
    "pow()\t            # Returns the value of x to the power of y\n",
    "print()\t             # Prints to the standard output device\n",
    "property()\t             # Gets, sets, deletes a property\n",
    "range()\t            # Returns a sequence of numbers, starting from 0 and increments by 1 (by default)\n",
    "repr()\t             # Returns a readable version of an object\n",
    "reversed()\t             # Returns a reversed iterator\n",
    "round()\t          # Rounds a numbers\n",
    "set()\t             # Returns a new set object\n",
    "slice()\t             # Returns a slice object\n",
    "sorted()\t      # Returns a sorted list\n",
    "staticmethod()\t             # Converts a method into a static method\n",
    "str()\t                # Returns a string object\n",
    "sum()\t             # Sums the items of an iterator\n",
    "super()\t            # Returns an object that represents the parent class\n",
    "tuple()\t             # Returns a tuple\n",
    "type()\t             # Returns the type of an object\n",
    "vars()\t             # Returns the __dict__ property of an object\n",
    "zip()\t              # Returns an iterator, from two or more iterators"
   ]
  },
  {
   "cell_type": "code",
   "execution_count": 21,
   "id": "9b87cfad",
   "metadata": {},
   "outputs": [
    {
     "name": "stdout",
     "output_type": "stream",
     "text": [
      "True\n",
      "False\n"
     ]
    }
   ],
   "source": [
    "list1=[1, 2, 3, 0, 5, 6]\n",
    "# 'any' goes through the list and returns True if any of the values evaluates to True\n",
    "print(any(list1))\n",
    "print(all(list1)) # are all True?\n"
   ]
  },
  {
   "cell_type": "markdown",
   "id": "eba4b137",
   "metadata": {},
   "source": [
    "# Comprehensions"
   ]
  },
  {
   "cell_type": "markdown",
   "id": "1351c36f",
   "metadata": {},
   "source": [
    "## list comprehension"
   ]
  },
  {
   "cell_type": "code",
   "execution_count": 3,
   "id": "0f56ad57",
   "metadata": {},
   "outputs": [
    {
     "data": {
      "text/plain": [
       "[89.6, 149.0, 219.2, 413.6]"
      ]
     },
     "execution_count": 3,
     "metadata": {},
     "output_type": "execute_result"
    }
   ],
   "source": [
    "# a list of converted elements can be produced like this or...\n",
    "def FahrenheitToCelsius(t):\n",
    "    return (t * 9 / 5) + 32\n",
    "\n",
    "list(map(FahrenheitToCelsius, [32, 65, 104, 212]))"
   ]
  },
  {
   "cell_type": "code",
   "execution_count": 2,
   "id": "e935027e",
   "metadata": {},
   "outputs": [
    {
     "data": {
      "text/plain": [
       "[89.6, 149.0, 219.2, 413.6]"
      ]
     },
     "execution_count": 2,
     "metadata": {},
     "output_type": "execute_result"
    }
   ],
   "source": [
    "# ... much shorter with list comprehension\n",
    "[(t * 9 / 5) + 32 for t in [32, 65, 104, 212]]"
   ]
  },
  {
   "cell_type": "code",
   "execution_count": 7,
   "id": "38d22f19",
   "metadata": {},
   "outputs": [
    {
     "data": {
      "text/plain": [
       "[4, 16, 36, 64, 100, 144, 196, 256, 324, 400]"
      ]
     },
     "execution_count": 7,
     "metadata": {},
     "output_type": "execute_result"
    }
   ],
   "source": [
    "evens = [2, 4, 6, 8, 10, 12, 14, 16, 18, 20]\n",
    "list(map(lambda e: e**2, evens)) \n",
    "[e**2 for e in evens] # the same but shorter"
   ]
  },
  {
   "cell_type": "markdown",
   "id": "39100425",
   "metadata": {},
   "source": [
    "## comprehension with predicate expression / condition"
   ]
  },
  {
   "cell_type": "code",
   "execution_count": 8,
   "id": "b2dd9679",
   "metadata": {},
   "outputs": [
    {
     "data": {
      "text/plain": [
       "[25, 49, 81, 121, 169, 225]"
      ]
     },
     "execution_count": 8,
     "metadata": {},
     "output_type": "execute_result"
    }
   ],
   "source": [
    "odds = [1, 3, 5, 7, 9, 11, 13, 15, 17, 19]\n",
    "[e**2 for e in odds if e>3 and e <17] "
   ]
  },
  {
   "cell_type": "markdown",
   "id": "8f4630e1",
   "metadata": {},
   "source": [
    "## dictionary comprehension"
   ]
  },
  {
   "cell_type": "code",
   "execution_count": 10,
   "id": "388f763d",
   "metadata": {},
   "outputs": [
    {
     "name": "stdout",
     "output_type": "stream",
     "text": [
      "{0: 32.0, 12: 53.6, 34: 93.2}\n",
      "53.6\n"
     ]
    }
   ],
   "source": [
    "ctemps =[0, 12, 34, 100]\n",
    "tempDict={t: (t*9/5) +32 for t in ctemps if t<100}\n",
    "print(tempDict)\n",
    "print(tempDict[12])"
   ]
  },
  {
   "cell_type": "code",
   "execution_count": 13,
   "id": "ee0935da",
   "metadata": {},
   "outputs": [
    {
     "data": {
      "text/plain": [
       "{'Jones': 24,\n",
       " 'Jameson': 18,\n",
       " 'Smith': 58,\n",
       " 'Burns': 7,\n",
       " 'White': 12,\n",
       " 'Macke': 88,\n",
       " 'Pierce': 4}"
      ]
     },
     "execution_count": 13,
     "metadata": {},
     "output_type": "execute_result"
    }
   ],
   "source": [
    "team1 = {\"Jones\": 24, \"Jameson\": 18, \"Smith\": 58, \"Burns\": 7}\n",
    "team2={\"White\": 12, \"Macke\": 88, \"Pierce\": 4}\n",
    "\n",
    "# do not get more complex in a comprehension\n",
    "newTeam={k: v for team in (team1, team2) for k, v in team.items()}\n",
    "newTeam"
   ]
  },
  {
   "cell_type": "markdown",
   "id": "2a44d73b",
   "metadata": {},
   "source": [
    "## set comprehension"
   ]
  },
  {
   "cell_type": "code",
   "execution_count": 16,
   "id": "f4ca0f75",
   "metadata": {},
   "outputs": [
    {
     "name": "stdout",
     "output_type": "stream",
     "text": [
      "[0.0, 18.0, 21.6, 25.2, 18.0, 41.4, 21.6, 61.2, 61.2, 180.0, 180.0]\n",
      "{0.0, 41.4, 18.0, 180.0, 21.6, 25.2, 61.2}\n"
     ]
    }
   ],
   "source": [
    "ctemps = [0, 10, 12, 14, 10, 23, 12, 34, 34, 100, 100]\n",
    "ftemps1 = [(t*9/5) for t in ctemps]\n",
    "# when we do not use kev-value pairs\n",
    "# curly brackets create a set, sets do not allow duplicates\n",
    "ftemps2 = {(t*9/5) for t in ctemps}\n",
    "print(ftemps1)\n",
    "print(ftemps2)"
   ]
  },
  {
   "cell_type": "code",
   "execution_count": 21,
   "id": "6758d662",
   "metadata": {},
   "outputs": [
    {
     "name": "stdout",
     "output_type": "stream",
     "text": [
      "['A', 'B', 'C', 'D', 'E', 'F', 'G', 'H', 'I', 'J', 'K', 'L', 'M', 'N', 'O', 'P', 'Q', 'R', 'T', 'U', 'V', 'W', 'X', 'Y', 'Z']\n"
     ]
    }
   ],
   "source": [
    "sTemp = \"The quick brown fox jumped over the lazy dog\"\n",
    "chars = {c.upper() for c in sTemp if not c.isspace()}\n",
    "print(sorted(chars))"
   ]
  },
  {
   "cell_type": "markdown",
   "id": "20e52a9f",
   "metadata": {},
   "source": [
    "# Iterators\n",
    "- help cleaning up the code \n",
    "- uses them instead of for-loops"
   ]
  },
  {
   "cell_type": "markdown",
   "id": "1f1e9f7a",
   "metadata": {},
   "source": [
    "## iter"
   ]
  },
  {
   "cell_type": "code",
   "execution_count": 31,
   "id": "d2514d39",
   "metadata": {},
   "outputs": [
    {
     "name": "stdout",
     "output_type": "stream",
     "text": [
      "Sunday\n",
      "Monday\n",
      "Tuesday\n",
      "Wednesday\n",
      "Thursday\n"
     ]
    }
   ],
   "source": [
    "days = ['Sunday', 'Monday', 'Tuesday', 'Wednesday', 'Thursday', 'Friday', 'Saturday']\n",
    "i=iter(days)\n",
    "print(next(i))\n",
    "print(next(i))\n",
    "print(next(i))\n",
    "print(next(i))\n",
    "print(next(i))"
   ]
  },
  {
   "cell_type": "markdown",
   "id": "c207f6d6",
   "metadata": {},
   "source": [
    "## enumerate"
   ]
  },
  {
   "cell_type": "code",
   "execution_count": 28,
   "id": "9e7a5f44",
   "metadata": {},
   "outputs": [
    {
     "name": "stdout",
     "output_type": "stream",
     "text": [
      "1 Sun\n",
      "2 Mon\n",
      "3 Tue\n",
      "4 Wed\n",
      "5 Thu\n",
      "6 Fri\n",
      "7 Sat\n"
     ]
    }
   ],
   "source": [
    "for i, m in enumerate(days, start=1):\n",
    "    print(i, m)"
   ]
  },
  {
   "cell_type": "markdown",
   "id": "b86d71bc",
   "metadata": {},
   "source": [
    "## zip"
   ]
  },
  {
   "cell_type": "code",
   "execution_count": 32,
   "id": "96e8f289",
   "metadata": {},
   "outputs": [
    {
     "name": "stdout",
     "output_type": "stream",
     "text": [
      "('Sunday', 'Sonntag')\n",
      "('Monday', 'Montag')\n",
      "('Tuesday', 'Dienstag')\n",
      "('Wednesday', 'Mittwoch')\n",
      "('Thursday', 'Donerstag')\n",
      "('Friday', 'Freitag')\n",
      "('Saturday', 'Samstag')\n"
     ]
    }
   ],
   "source": [
    "days = [ 'Sunday', 'Monday', 'Tuesday', 'Wednesday', 'Thursday', 'Friday', 'Saturday' ]\n",
    "day_ger = ['Sonntag', 'Montag', 'Dienstag', 'Mittwoch', 'Donerstag', 'Freitag', 'Samstag']\n",
    "for m in zip(days, day_ger):\n",
    "    print(m)"
   ]
  },
  {
   "cell_type": "code",
   "execution_count": null,
   "id": "61c4871c",
   "metadata": {},
   "outputs": [
    {
     "name": "stdout",
     "output_type": "stream",
     "text": [
      "[(1, 'a'), (2, 'b'), (3, 'c')]\n",
      "{1: 'a', 2: 'b', 3: 'c'}\n"
     ]
    }
   ],
   "source": [
    "l = list(zip([1, 2, 3], ['a', 'b', 'c']))   # pairs the two list to a list of tuples\n",
    "d = dict(zip([1, 2, 3], ['a', 'b', 'c']))   # pairs two lists to a dict\n",
    "print(l)\n",
    "print(d)\n"
   ]
  },
  {
   "cell_type": "code",
   "execution_count": 34,
   "id": "8d5fddc4",
   "metadata": {},
   "outputs": [
    {
     "name": "stdout",
     "output_type": "stream",
     "text": [
      "0 Sunday = Sonntag in german\n",
      "1 Monday = Montag in german\n",
      "2 Tuesday = Dienstag in german\n",
      "3 Wednesday = Mittwoch in german\n",
      "4 Thursday = Donerstag in german\n",
      "5 Friday = Freitag in german\n",
      "6 Saturday = Samstag in german\n"
     ]
    }
   ],
   "source": [
    "for i, m in enumerate(zip(days, day_ger)):\n",
    "    print(i, m[0], '=', m[1], 'in german')"
   ]
  },
  {
   "cell_type": "markdown",
   "id": "b0537648",
   "metadata": {},
   "source": [
    "# itertools"
   ]
  },
  {
   "cell_type": "code",
   "execution_count": 7,
   "id": "d79255da",
   "metadata": {},
   "outputs": [],
   "source": [
    "import itertools"
   ]
  },
  {
   "cell_type": "code",
   "execution_count": 9,
   "id": "1f3759e5",
   "metadata": {},
   "outputs": [
    {
     "name": "stdout",
     "output_type": "stream",
     "text": [
      "Joe\n",
      "Jana\n",
      "Joseph\n",
      "Joe\n"
     ]
    }
   ],
   "source": [
    "# cycle iterator cycles over a collection\n",
    "seq1 = ['Joe', 'Jana', 'Joseph']\n",
    "cycle1 = itertools.cycle(seq1)\n",
    "print(next(cycle1))\n",
    "print(next(cycle1))\n",
    "print(next(cycle1))\n",
    "print(next(cycle1)) # cycles to the beginning"
   ]
  },
  {
   "cell_type": "code",
   "execution_count": 10,
   "id": "48cae5ec",
   "metadata": {},
   "outputs": [
    {
     "name": "stdout",
     "output_type": "stream",
     "text": [
      "100\n",
      "110\n",
      "120\n",
      "130\n",
      "140\n"
     ]
    }
   ],
   "source": [
    "# count iterator\n",
    "count1 = itertools.count(100, 10)\n",
    "print(next(count1))\n",
    "print(next(count1))\n",
    "print(next(count1))\n",
    "print(next(count1))\n",
    "print(next(count1))"
   ]
  },
  {
   "cell_type": "code",
   "execution_count": 13,
   "id": "0c7f5e86",
   "metadata": {},
   "outputs": [
    {
     "name": "stdout",
     "output_type": "stream",
     "text": [
      "[10, 30, 90, 130, 180, 195, 225]\n"
     ]
    }
   ],
   "source": [
    "# accumulate iterator - running addition\n",
    "vals = [10, 20, 60, 40, 50, 15, 30]\n",
    "accu = itertools.accumulate(vals)\n",
    "print(list(accu))"
   ]
  },
  {
   "cell_type": "code",
   "execution_count": 14,
   "id": "3bb4d994",
   "metadata": {},
   "outputs": [
    {
     "name": "stdout",
     "output_type": "stream",
     "text": [
      "[10, 20, 60, 60, 60, 60, 60]\n"
     ]
    }
   ],
   "source": [
    "# goes over the numbers and sticks with the max \n",
    "accu2 = itertools.accumulate(vals, max)\n",
    "print(list(accu2))"
   ]
  },
  {
   "cell_type": "code",
   "execution_count": 16,
   "id": "48f4db71",
   "metadata": {},
   "outputs": [
    {
     "name": "stdout",
     "output_type": "stream",
     "text": [
      "['A', 'B', 'C', 'D', '1', '2', '3', '4']\n"
     ]
    }
   ],
   "source": [
    "# chain - chains to sequences\n",
    "x =itertools.chain('ABCD', '1234')\n",
    "print(list(x))"
   ]
  },
  {
   "cell_type": "code",
   "execution_count": 23,
   "id": "321c3e14",
   "metadata": {},
   "outputs": [],
   "source": [
    "def fct(x):\n",
    "    return x < 40"
   ]
  },
  {
   "cell_type": "code",
   "execution_count": 25,
   "id": "7c5006f1",
   "metadata": {},
   "outputs": [
    {
     "name": "stdout",
     "output_type": "stream",
     "text": [
      "[10, 20, 60, 40, 50, 15, 30]\n",
      "[60, 40, 50, 15, 30]\n",
      "[10, 20]\n"
     ]
    }
   ],
   "source": [
    "print(vals)\n",
    "# drops values as long as (fct retuns True) trigger point is not reached\n",
    "print(list(itertools.dropwhile(fct, vals)))\n",
    "# returns values until (fct is False) trigger is reached\n",
    "print(list(itertools.takewhile(fct, vals)))"
   ]
  },
  {
   "cell_type": "markdown",
   "id": "9997c9b2",
   "metadata": {},
   "source": [
    "# advanced collections\n",
    "- found in  collections module\n",
    "- The collections module provides alternatives to built-in container data types\n",
    "- namedtuple: tuple with named fields\n",
    "- OrderedDict, defaultdict: dictionaries with special properties\n",
    "- Counter: counts distinct values\n",
    "- deque: double-ended list"
   ]
  },
  {
   "cell_type": "markdown",
   "id": "b2669f9e",
   "metadata": {},
   "source": [
    "__namedtuple()__\n",
    "\n",
    "The namedtuple() function returns a tuple-like object with named fields. </br>\n",
    "These field attributes are accessible by lookup as well as by index. </br>\n",
    "Named tuples allow you to create tuples and assign meaningful names to the positions of the tuple’s elements.</br>\n",
    "Technically, a named tuple is a subclass of tuple. On top of that, it adds property names to the positional elements.</br>"
   ]
  },
  {
   "cell_type": "code",
   "execution_count": 37,
   "id": "2b73633c",
   "metadata": {},
   "outputs": [
    {
     "name": "stdout",
     "output_type": "stream",
     "text": [
      "Imran\n",
      "98\n"
     ]
    }
   ],
   "source": [
    "from collections import namedtuple\n",
    "student = namedtuple('student', [\"name\", \"age\", \"marks\"])  # declares a student class having name, age and marks as fields\n",
    "s1 = student(\"Imran\", 21, 98)  #create a new object of this namedtuple\n",
    "print(s1.name)  # fields are accessible by attribute lookup\n",
    "print(s1[2]) # or index"
   ]
  },
  {
   "cell_type": "code",
   "execution_count": 40,
   "id": "e12c453e",
   "metadata": {},
   "outputs": [
    {
     "name": "stdout",
     "output_type": "stream",
     "text": [
      "Point(x=10, y=20)\n",
      "30\n",
      "20\n",
      "Point(x=15, y=20)\n"
     ]
    }
   ],
   "source": [
    "Point = namedtuple('Point', 'x y') # alternative naming \n",
    "p1 = Point(10, 20)\n",
    "p2 = Point(30, 40)\n",
    "\n",
    "print(p1)\n",
    "print(p2.x) # instead of p2[1]\n",
    "print(p1.y)\n",
    "\n",
    "p1 = p1._replace(x=15)  # change value using it's name\n",
    "print(p1)"
   ]
  },
  {
   "cell_type": "markdown",
   "id": "a272f086",
   "metadata": {},
   "source": [
    "## OrderedDict()\n",
    "- The OrderedDict() function is similar to a normal dictionary object in Python. \n",
    "- However, it remembers the order of the keys in which they were first inserted. \n",
    "- Upon traversing the dictionary, pairs will appear in the order of their insertion. \n",
    "- pop item from the top is possible"
   ]
  },
  {
   "cell_type": "code",
   "execution_count": 80,
   "id": "d84fc566",
   "metadata": {},
   "outputs": [
    {
     "name": "stdout",
     "output_type": "stream",
     "text": [
      "A 65\n",
      "C 67\n",
      "B 66\n",
      "D 68\n"
     ]
    }
   ],
   "source": [
    "from collections import OrderedDict \n",
    "d1 = OrderedDict()\n",
    "d1['A'] = 65\n",
    "d1['C'] = 67\n",
    "d1['B'] = 66\n",
    "d1['D'] = 68\n",
    "\n",
    "for k,v in d1.items():\n",
    "    print (k,v)"
   ]
  },
  {
   "cell_type": "code",
   "execution_count": 81,
   "id": "63b9bf0a",
   "metadata": {},
   "outputs": [
    {
     "name": "stdout",
     "output_type": "stream",
     "text": [
      "('A', 65)\n",
      "('D', 68)\n",
      "OrderedDict([('C', 67), ('B', 66)])\n"
     ]
    }
   ],
   "source": [
    "first = d1.popitem(False) # removes first item in the dict\n",
    "last = d1.popitem() # removes the last\n",
    "print(first)\n",
    "print(last)\n",
    "print(d1)"
   ]
  },
  {
   "cell_type": "code",
   "execution_count": 82,
   "id": "81b109f9",
   "metadata": {},
   "outputs": [
    {
     "name": "stdout",
     "output_type": "stream",
     "text": [
      "False\n",
      "True\n"
     ]
    }
   ],
   "source": [
    "a = OrderedDict({'a': 1, 'b': 2, 'c': 3})\n",
    "b = OrderedDict({'a': 1, 'c': 3, 'b': 2})\n",
    "c = {'a': 1, 'c': 3, 'b': 2}\n",
    "\n",
    "print(a==b) # order matters for OrderdDict\n",
    "print(a==c) # for ordinary dict order does not matter"
   ]
  },
  {
   "cell_type": "markdown",
   "id": "cf585491",
   "metadata": {},
   "source": [
    "## __defaultdict__"
   ]
  },
  {
   "cell_type": "code",
   "execution_count": null,
   "id": "0a16a0ee",
   "metadata": {},
   "outputs": [
    {
     "data": {
      "text/plain": [
       "{'apple': 2, 'pear': 1, 'banana': 2, 'peach': 1, 'cherry': 1}"
      ]
     },
     "execution_count": 43,
     "metadata": {},
     "output_type": "execute_result"
    }
   ],
   "source": [
    "fruits = ['apple', 'pear', 'banana', 'apple', 'peach', 'cherry', 'banana']\n",
    "fruitCounter={} # dict that should count the fruits\n",
    "\n",
    "for fruit in fruits:\n",
    "    if fruit in fruitCounter.keys():   # error if there is no fruit initilized in the dict\n",
    "        fruitCounter[fruit] += 1\n",
    "    else:\n",
    "        fruitCounter[fruit] = 1  # thus we need to check and insert a key (fruit) first \n",
    "\n",
    "fruitCounter"
   ]
  },
  {
   "cell_type": "code",
   "execution_count": 49,
   "id": "04bdb6ea",
   "metadata": {},
   "outputs": [
    {
     "name": "stdout",
     "output_type": "stream",
     "text": [
      "apple : 102\n",
      "pear : 101\n",
      "banana : 102\n",
      "peach : 101\n",
      "cherry : 101\n"
     ]
    }
   ],
   "source": [
    "# above code can be shortened and the\n",
    "# initilizing switched with a defaultdict\n",
    "from collections import defaultdict\n",
    "# int is the factory fct. and produces a default key if there is none\n",
    "fruitCounter = defaultdict(lambda: 100)\n",
    "\n",
    "for fruit in fruits:\n",
    "# now no chceking for key is required bc. defaultdict sets a default key\n",
    "        fruitCounter[fruit] += 1\n",
    "\n",
    "for k, v in fruitCounter.items():\n",
    "    print(k,':', v)"
   ]
  },
  {
   "cell_type": "markdown",
   "id": "e5d5ec47",
   "metadata": {},
   "source": [
    "## Counter\n",
    "- dict that counts hashable objects"
   ]
  },
  {
   "cell_type": "code",
   "execution_count": 69,
   "id": "90957d17",
   "metadata": {},
   "outputs": [],
   "source": [
    "from collections import Counter\n",
    "class1 = ['Bob', 'Jenny', 'Hannes', 'Greg', 'Boris', 'Lara', 'Hannah', 'Suse', 'Kara', 'Bob']\n",
    "class2=['Lara', 'Steffen', 'Simon', 'Becky', 'Lila', 'Gunna', 'Lena', 'Rose', 'Greg', 'Jenny']\n",
    "\n",
    "c1= Counter(class1)\n",
    "c2= Counter(class2)"
   ]
  },
  {
   "cell_type": "code",
   "execution_count": 63,
   "id": "84a68411",
   "metadata": {},
   "outputs": [
    {
     "name": "stdout",
     "output_type": "stream",
     "text": [
      "2\n",
      "10  students in class 1\n"
     ]
    }
   ],
   "source": [
    "print(c1['Bob']) # how many Bob's are in c1?\n",
    "print(sum(c1.values()), ' students in class 1')"
   ]
  },
  {
   "cell_type": "code",
   "execution_count": 64,
   "id": "83804184",
   "metadata": {},
   "outputs": [
    {
     "name": "stdout",
     "output_type": "stream",
     "text": [
      "20  students in class 1\n"
     ]
    }
   ],
   "source": [
    "c1.update(class2) # combine two sets\n",
    "print(sum(c1.values()), ' students in class 1')"
   ]
  },
  {
   "cell_type": "code",
   "execution_count": 65,
   "id": "de8bdf93",
   "metadata": {},
   "outputs": [
    {
     "name": "stdout",
     "output_type": "stream",
     "text": [
      "[('Bob', 2), ('Jenny', 2), ('Greg', 2)]\n"
     ]
    }
   ],
   "source": [
    "print(c1.most_common(3))"
   ]
  },
  {
   "cell_type": "code",
   "execution_count": 67,
   "id": "120d8ebc",
   "metadata": {},
   "outputs": [
    {
     "name": "stdout",
     "output_type": "stream",
     "text": [
      "[('Bob', 2), ('Hannes', 1), ('Boris', 1)]\n"
     ]
    }
   ],
   "source": [
    "c1.subtract(class2) # separate the sets again\n",
    "print(c1.most_common(3))"
   ]
  },
  {
   "cell_type": "code",
   "execution_count": 70,
   "id": "ff12fbe5",
   "metadata": {},
   "outputs": [
    {
     "name": "stdout",
     "output_type": "stream",
     "text": [
      "Counter({'Jenny': 1, 'Greg': 1, 'Lara': 1})\n"
     ]
    }
   ],
   "source": [
    "print(c1 & c2) # common objects in both"
   ]
  },
  {
   "cell_type": "markdown",
   "id": "d7fc4e78",
   "metadata": {},
   "source": [
    "## deque\n",
    "- double-ended queue, pronounced 'deck'\n",
    "- accessible from both sides\n",
    "- appendleft(), append(), popleft(), pop()\n",
    "- rotate(): "
   ]
  },
  {
   "cell_type": "code",
   "execution_count": 89,
   "id": "9bc28f4e",
   "metadata": {},
   "outputs": [
    {
     "data": {
      "text/plain": [
       "'abcdefghijklmnopqrstuvwxyz'"
      ]
     },
     "execution_count": 89,
     "metadata": {},
     "output_type": "execute_result"
    }
   ],
   "source": [
    "string.ascii_lowercase"
   ]
  },
  {
   "cell_type": "code",
   "execution_count": 106,
   "id": "8221985f",
   "metadata": {},
   "outputs": [
    {
     "name": "stdout",
     "output_type": "stream",
     "text": [
      "Item count:  26\n",
      "A,B,C,D,E,F,G,H,I,J,K,L,M,N,O,P,Q,R,S,T,U,V,W,X,Y,Z,"
     ]
    }
   ],
   "source": [
    "from collections import deque\n",
    "import string\n",
    "d = deque(string.ascii_lowercase) # initilized with lowercase letters\n",
    "\n",
    "# lenght of string.ascii_lowercas\n",
    "print(\"Item count: \", str(len(d)))\n",
    "\n",
    "# convert lower to uppercase letters\n",
    "for elem in d:\n",
    "    print(elem.upper(), end=',')"
   ]
  },
  {
   "cell_type": "code",
   "execution_count": 102,
   "id": "707d1c5f",
   "metadata": {},
   "outputs": [
    {
     "name": "stdout",
     "output_type": "stream",
     "text": [
      "deque([1, 'b', 'c', 'd', 'e', 'f', 'g', 'h', 'i', 'j', 'k', 'l', 'm', 'n', 'o', 'p', 'q', 'r', 's', 't', 'u', 'v', 'w', 'x', 'y', 30])\n"
     ]
    }
   ],
   "source": [
    "d.pop()\n",
    "d.popleft()\n",
    "d.appendleft(1)\n",
    "d.append(30)\n",
    "print(d)"
   ]
  },
  {
   "cell_type": "code",
   "execution_count": 107,
   "id": "6ded95ac",
   "metadata": {},
   "outputs": [
    {
     "name": "stdout",
     "output_type": "stream",
     "text": [
      "deque(['a', 'b', 'c', 'd', 'e', 'f', 'g', 'h', 'i', 'j', 'k', 'l', 'm', 'n', 'o', 'p', 'q', 'r', 's', 't', 'u', 'v', 'w', 'x', 'y', 'z'])\n",
      "deque(['q', 'r', 's', 't', 'u', 'v', 'w', 'x', 'y', 'z', 'a', 'b', 'c', 'd', 'e', 'f', 'g', 'h', 'i', 'j', 'k', 'l', 'm', 'n', 'o', 'p'])\n"
     ]
    }
   ],
   "source": [
    "print(d)\n",
    "d.rotate(10)\n",
    "print(d)"
   ]
  },
  {
   "cell_type": "markdown",
   "id": "a6312353",
   "metadata": {},
   "source": [
    "# generator functions\n",
    "- generator functions return a lazy iterator an iterator object with a sequence of values\n",
    "- These are objects that you can loop over but unlike lists, lazy iterators do not store their contents in memory. \n",
    "- Using __yield__ will result in a generator object. - Using __return__ will result in the first line of the file only.\n",
    "-  Calling a generator function creates an generator object.  However, it does not start running the function.\n",
    "- The function only executes on next()\n",
    "-  The difference between yield and return is that yield returns a value and pauses the execution while maintaining the internal states, </br>\n",
    "whereas the return statement returns a value and terminates the execution of the function. \n",
    "-  The generator is called just like a normal function. However, __its execution is paused on encountering the yield keyword.__ </br>\n",
    "This sends the first value of the iterator stream to the calling environment. However, __local variables and their states are saved internally.__ </br>\n",
    "This includes any variable bindings local to the generator, the instruction pointer, the internal stack, and any exception handling.</br>\n",
    "- This allows you to resume function execution whenever you call one of the generator’s methods.  </br>\n",
    "- That way, when next() is called on a generator object (either explicitly or implicitly within a for loop), </br>\n",
    "the previously yielded variable num is incremented, and then yielded again. \n",
    "- Unless your generator is infinite, __you can iterate through it one time only.__\n",
    "- Once all values have been evaluated, the generator is deemed exhausted. The iteration will stop and the for loop will exit. \n",
    "- If you used next(), then instead you’ll get an explicit StopIteration exception.\n",
    "\n",
    "One of the __advantages__ of the generator over the iterator is that __elements are generated dynamically.__</br>\n",
    "Since the next item is generated only after the first is consumed, it is __more memory efficient__ than the iterator. \n",
    "\n",
    "    1. Do you need the entire results in memory?\n",
    "    2. Do you need to reuse the raw results as is?\n",
    "    3. Is your result reasonably small to fit in the memory?\n",
    "    4. Do you want to process the results after you have obtained all the results?\n",
    "\n",
    "If all of the above is yes, then an iterator should suffice. Otherwise, you may want to consider using a generator to benefit from the delayed execution and yielding on the fly.\n"
   ]
  },
  {
   "cell_type": "code",
   "execution_count": 375,
   "id": "6964d071",
   "metadata": {},
   "outputs": [],
   "source": [
    "def get_sequence_upto(x):\n",
    "    for i in range(x):\n",
    "        yield i"
   ]
  },
  {
   "cell_type": "code",
   "execution_count": 379,
   "id": "b5b1d347",
   "metadata": {},
   "outputs": [
    {
     "name": "stdout",
     "output_type": "stream",
     "text": [
      "0\n",
      "1\n",
      "2\n",
      "3\n",
      "4\n"
     ]
    },
    {
     "ename": "StopIteration",
     "evalue": "",
     "output_type": "error",
     "traceback": [
      "\u001b[0;31m---------------------------------------------------------------------------\u001b[0m",
      "\u001b[0;31mStopIteration\u001b[0m                             Traceback (most recent call last)",
      "\u001b[0;32m/tmp/ipykernel_15928/488879664.py\u001b[0m in \u001b[0;36m<module>\u001b[0;34m\u001b[0m\n\u001b[1;32m      5\u001b[0m \u001b[0mprint\u001b[0m\u001b[0;34m(\u001b[0m\u001b[0mnext\u001b[0m\u001b[0;34m(\u001b[0m\u001b[0mseq\u001b[0m\u001b[0;34m)\u001b[0m\u001b[0;34m)\u001b[0m\u001b[0;34m\u001b[0m\u001b[0;34m\u001b[0m\u001b[0m\n\u001b[1;32m      6\u001b[0m \u001b[0mprint\u001b[0m\u001b[0;34m(\u001b[0m\u001b[0mnext\u001b[0m\u001b[0;34m(\u001b[0m\u001b[0mseq\u001b[0m\u001b[0;34m)\u001b[0m\u001b[0;34m)\u001b[0m\u001b[0;34m\u001b[0m\u001b[0;34m\u001b[0m\u001b[0m\n\u001b[0;32m----> 7\u001b[0;31m \u001b[0mprint\u001b[0m\u001b[0;34m(\u001b[0m\u001b[0mnext\u001b[0m\u001b[0;34m(\u001b[0m\u001b[0mseq\u001b[0m\u001b[0;34m)\u001b[0m\u001b[0;34m)\u001b[0m\u001b[0;34m\u001b[0m\u001b[0;34m\u001b[0m\u001b[0m\n\u001b[0m\u001b[1;32m      8\u001b[0m \u001b[0;34m\u001b[0m\u001b[0m\n",
      "\u001b[0;31mStopIteration\u001b[0m: "
     ]
    }
   ],
   "source": [
    "seq = get_sequence_upto(5)\n",
    "print(next(seq))\n",
    "print(next(seq))\n",
    "print(next(seq))\n",
    "print(next(seq))\n",
    "print(next(seq))\n",
    "print(next(seq))  # The function finally terminates when next() encounters the StopIteration error."
   ]
  },
  {
   "cell_type": "code",
   "execution_count": 383,
   "id": "cfab2d4d",
   "metadata": {},
   "outputs": [
    {
     "name": "stdout",
     "output_type": "stream",
     "text": [
      "Received on next():  0\n",
      "Received on next():  1\n",
      "Received on next():  4\n",
      "Received on next():  9\n",
      "Received on next():  16\n"
     ]
    }
   ],
   "source": [
    "# In the following example, function square_of_sequence() acts as a generator.\n",
    "# It yields the square of a number successively on every call of next().\n",
    "\n",
    "def square_of_sequence(x):\n",
    "    for i in range(x):\n",
    "        yield i * i\n",
    "\n",
    "\n",
    "gen = square_of_sequence(5)\n",
    "\n",
    "while True:\n",
    "    try:\n",
    "        print(\"Received on next(): \", next(gen))\n",
    "    except StopIteration:\n",
    "        break"
   ]
  },
  {
   "cell_type": "code",
   "execution_count": 384,
   "id": "a31ae4c1",
   "metadata": {},
   "outputs": [
    {
     "name": "stdout",
     "output_type": "stream",
     "text": [
      "0\n",
      "1\n",
      "4\n",
      "9\n",
      "16\n"
     ]
    }
   ],
   "source": [
    "# We can use the for loop to traverse the elements over the generator. \n",
    "# In this case, the next() function is called implicitly and the StopIteration is also automatically taken care of.\n",
    "squres = square_of_sequence(5)\n",
    "for sqr in squres:\n",
    "    print(sqr)"
   ]
  },
  {
   "cell_type": "markdown",
   "id": "b9848c31",
   "metadata": {},
   "source": [
    "## generator comprehension\n",
    "- shorter way of defining simple generator functions.\n",
    "- They’re useful in the same cases where list comprehensions are used, with an added benefit: </br>\n",
    "you can create them without building and holding the entire object in memory before iteration. "
   ]
  },
  {
   "cell_type": "code",
   "execution_count": 397,
   "id": "db365997",
   "metadata": {},
   "outputs": [
    {
     "name": "stdout",
     "output_type": "stream",
     "text": [
      "[0, 4, 16, 36, 64]\n",
      "<generator object <genexpr> at 0x7ff81ec957b0>\n",
      "0\n",
      "4\n",
      "16\n"
     ]
    }
   ],
   "source": [
    "liste_ = [x * x for x in range(10) if x %2 ==0]\n",
    "print(liste_)\n",
    "\n",
    "# (expression for i in s if condition)\n",
    "gen = (x * x for x in range(10) if x % 2 == 0)\n",
    "print(gen)\n",
    "print(next(gen))\n",
    "print(next(gen))\n",
    "print(next(gen))"
   ]
  },
  {
   "cell_type": "code",
   "execution_count": 395,
   "id": "f7b96a3c",
   "metadata": {},
   "outputs": [
    {
     "data": {
      "text/plain": [
       "285"
      ]
     },
     "execution_count": 395,
     "metadata": {},
     "output_type": "execute_result"
    }
   ],
   "source": [
    "# The generator expression can also be passed in a function. It should be passed without parentheses.\n",
    "sum(x * x for x in range(10))\n"
   ]
  },
  {
   "cell_type": "markdown",
   "id": "ae42305e",
   "metadata": {},
   "source": [
    "## A Generator Solution"
   ]
  },
  {
   "cell_type": "code",
   "execution_count": 408,
   "id": "c3d5af9d",
   "metadata": {},
   "outputs": [
    {
     "name": "stdout",
     "output_type": "stream",
     "text": [
      "Total 135667\n"
     ]
    }
   ],
   "source": [
    "with open(\"../data/test.txt\") as wwwlog:\n",
    "    bytecolumn = (line.rsplit(\" \", 1)[1] for line in wwwlog)\n",
    "    bytes_sent = (int(x) for x in bytecolumn if x != '-')\n",
    "    print(\"Total\", sum(bytes_sent))"
   ]
  },
  {
   "cell_type": "markdown",
   "id": "a75a62a5",
   "metadata": {},
   "source": [
    "## Performance - of generator objects\n",
    "- list you get from the list comprehension is 87,624 bytes, while the generator object is only 120. \n",
    "- This means that the list is over 700 times larger than the generator object!"
   ]
  },
  {
   "cell_type": "code",
   "execution_count": 249,
   "id": "14346d9e",
   "metadata": {},
   "outputs": [
    {
     "name": "stdout",
     "output_type": "stream",
     "text": [
      "87616\n",
      "112\n"
     ]
    }
   ],
   "source": [
    "import sys\n",
    "nums_squared_lc = [i * 2 for i in range(10000)]\n",
    "print(sys.getsizeof(nums_squared_lc))\n",
    "\n",
    "nums_squared_gc = (i ** 2 for i in range(10000))\n",
    "print(sys.getsizeof(nums_squared_gc))"
   ]
  },
  {
   "cell_type": "markdown",
   "id": "353fa130",
   "metadata": {},
   "source": [
    "## memory vs. speed\n",
    "- If the list is smaller than the running machine’s available memory, then list comprehensions can be faster to evaluate than the equivalent generator expression.\n",
    "- Here, you can see that summing across all values in the list comprehension took about a third of the time as summing across the generator. \n",
    "- If speed is an issue and memory isn’t, then a list comprehension is likely a better tool for the job."
   ]
  },
  {
   "cell_type": "code",
   "execution_count": 252,
   "id": "8ab8292b",
   "metadata": {},
   "outputs": [
    {
     "name": "stdout",
     "output_type": "stream",
     "text": [
      "         5 function calls in 0.001 seconds\n",
      "\n",
      "   Ordered by: standard name\n",
      "\n",
      "   ncalls  tottime  percall  cumtime  percall filename:lineno(function)\n",
      "        1    0.001    0.001    0.001    0.001 <string>:1(<listcomp>)\n",
      "        1    0.000    0.000    0.001    0.001 <string>:1(<module>)\n",
      "        1    0.000    0.000    0.001    0.001 {built-in method builtins.exec}\n",
      "        1    0.000    0.000    0.000    0.000 {built-in method builtins.sum}\n",
      "        1    0.000    0.000    0.000    0.000 {method 'disable' of '_lsprof.Profiler' objects}\n",
      "\n",
      "\n"
     ]
    }
   ],
   "source": [
    "import cProfile\n",
    "cProfile.run('sum([i * 2 for i in range(10000)])')"
   ]
  },
  {
   "cell_type": "code",
   "execution_count": 253,
   "id": "69788f1e",
   "metadata": {},
   "outputs": [
    {
     "name": "stdout",
     "output_type": "stream",
     "text": [
      "         10005 function calls in 0.002 seconds\n",
      "\n",
      "   Ordered by: standard name\n",
      "\n",
      "   ncalls  tottime  percall  cumtime  percall filename:lineno(function)\n",
      "    10001    0.001    0.000    0.001    0.000 <string>:1(<genexpr>)\n",
      "        1    0.000    0.000    0.002    0.002 <string>:1(<module>)\n",
      "        1    0.000    0.000    0.002    0.002 {built-in method builtins.exec}\n",
      "        1    0.001    0.001    0.002    0.002 {built-in method builtins.sum}\n",
      "        1    0.000    0.000    0.000    0.000 {method 'disable' of '_lsprof.Profiler' objects}\n",
      "\n",
      "\n"
     ]
    }
   ],
   "source": [
    "cProfile.run('sum((i * 2 for i in range(10000)))')"
   ]
  },
  {
   "cell_type": "markdown",
   "id": "4c03efa1",
   "metadata": {},
   "source": [
    "## send, throw, close - Advanced Generator Methods"
   ]
  },
  {
   "cell_type": "markdown",
   "id": "47189b74",
   "metadata": {},
   "source": [
    "### send()\n",
    "- Resumes the execution and “sends” a value into the generator function."
   ]
  },
  {
   "cell_type": "code",
   "execution_count": 299,
   "id": "24b5220d",
   "metadata": {},
   "outputs": [
    {
     "data": {
      "text/plain": [
       "8"
      ]
     },
     "execution_count": 299,
     "metadata": {},
     "output_type": "execute_result"
    }
   ],
   "source": [
    "def f(x=None):\n",
    "    while True:\n",
    "        x = yield\n",
    "        yield x*2\n",
    "             \n",
    "g = f()\n",
    "next(g)\n",
    "g.send(4)"
   ]
  },
  {
   "cell_type": "code",
   "execution_count": 300,
   "id": "ebf84aaf",
   "metadata": {},
   "outputs": [
    {
     "data": {
      "text/plain": [
       "20"
      ]
     },
     "execution_count": 300,
     "metadata": {},
     "output_type": "execute_result"
    }
   ],
   "source": [
    "next(g)\n",
    "g.send(10)"
   ]
  },
  {
   "cell_type": "markdown",
   "id": "17819e6f",
   "metadata": {},
   "source": [
    "### throw\n",
    "-allows you to throw exceptions with the generator."
   ]
  },
  {
   "cell_type": "markdown",
   "id": "65f6c574",
   "metadata": {},
   "source": [
    "### close\n",
    "- allows you to stop a generator."
   ]
  },
  {
   "cell_type": "markdown",
   "id": "0133975f",
   "metadata": {},
   "source": [
    "# Classes and Objects\n",
    "- Almost everything in Python is an object, with its properties and methods.\n",
    "- Object oriented programming OOP is about data (state) and behavior\n",
    "- A __Class__ is like an object constructor, or a \"blueprint\" for creating objects.\n",
    "- a class gives the shape to an object and contains the default data/instance __attribute__\n",
    "- __objects__ are an Instance of a class - an instance is an object that is built from a class and contains real data. \n",
    "- the __state__ of an object is stored in instance attributes \n",
    "- __behavior__ is define by instance functions in the class definition\n",
    "- behavoir:  set of methods\n",
    "- Put another way, a class is like a form or questionnaire. An instance is like a form that has been filled out with information."
   ]
  },
  {
   "cell_type": "code",
   "execution_count": 15,
   "id": "b58402b8",
   "metadata": {},
   "outputs": [],
   "source": [
    "class Point:                                        # Uppercase for classes Pascal-naming-convention\n",
    "    def __init__(self, x=0, y=0):       # initialise constructor with default values\n",
    "        self.x = x                                    # self is a reference to the current obeject and self.x = x gives a value to the attribute self.x\n",
    "        self.y = y                                    #  \n",
    "\n",
    "    # instance methods - Instance methods are functions that are defined inside a class \n",
    "    # and can only be called from an instance of that class. Just like .__init__(), an instance method’s first parameter is always self.\n",
    "    def mov(self):\n",
    "        print(\"move\")\n",
    "\n",
    "    def draw(self):\n",
    "        print(\"draw\")"
   ]
  },
  {
   "cell_type": "markdown",
   "id": "e2d6e35b",
   "metadata": {},
   "source": [
    "- object - is an instance of a class\n",
    "- one of the biggest advantages of using classes to organize data <br>\n",
    " is that instances are guaranteed to have the attributes you expect. "
   ]
  },
  {
   "cell_type": "code",
   "execution_count": 56,
   "id": "17501e0f",
   "metadata": {},
   "outputs": [
    {
     "name": "stdout",
     "output_type": "stream",
     "text": [
      "10\n",
      "draw\n",
      "0\n",
      "10 20\n"
     ]
    }
   ],
   "source": [
    "point1 = Point()        # instanciate an object of a Class - specific object of type Point\n",
    "point1.x = 10            # attributes of a particular object\n",
    "point1.y = 20            # y attribute\n",
    "\n",
    "print(point1.x)         # we can access the properties of that object.\n",
    "point1.draw()           # method we defined for the class\n",
    "\n",
    "point2 = Point()        # second object\n",
    "print(point2.x)         # there is no attribute x\n",
    "\n",
    "point3 = Point(10, 20)  # 10 is passed to the x attribute 20 to the y attribute\n",
    "print(point3.x, point3.y)"
   ]
  },
  {
   "cell_type": "markdown",
   "id": "812e6bac",
   "metadata": {},
   "source": [
    "## the constructor - def \\_\\_init\\_\\_(self, x, y): \n",
    "- Every time anobject is created, .__init__() sets the initial state of the object by assigning the values of the object’s properties. \n",
    "- That is, .__\\_\\_init\\_\\_()__ initializes each new instance of the class.\n",
    "\n",
    "\n",
    "- When a new class instance is created, the instance is automatically passed to the self parameter in .__init__() so that new attributes can be defined on the object.\n",
    "- The self parameter is a reference to the current instance of the class, </br> \n",
    "and is used to access variables that belong to the class. **It does not have to be named self, </br> \n",
    "you can call it whatever you like**, but it has to be the first parameter of any function in the class:\n",
    "\n",
    "- Attributes created in .__init__() are called __instance attributes__. An instance attribute’s value is specific to a particular instance of the class. \n",
    "- On the other hand, __class attributes__ are attributes that have the same value for all class instances. You can define a class attribute by assigning a value to a variable name outside of .__init__().\n"
   ]
  },
  {
   "cell_type": "code",
   "execution_count": 21,
   "id": "1a899065",
   "metadata": {},
   "outputs": [
    {
     "name": "stdout",
     "output_type": "stream",
     "text": [
      "John\n",
      "Hi it's me John, i'm 36 years old\n",
      "no_name / no_age\n",
      "17\n",
      "Hi it's me Sascha, i'm 17 years old\n"
     ]
    }
   ],
   "source": [
    "class Person:\n",
    "    species = \"human\"  # class attribute\n",
    "    \n",
    "    # here 'self' is named person, the self parameter allows us to access the attributes/ methods of a class\n",
    "    # self (or whatever name you give it) references to the current object\n",
    "    def __init__(person, name=\"no_name\", age=\"no_age\"):\n",
    "        person.name = name    # self (here 'person') is placeholder first for the class name then for the object name\n",
    "        person.age = age            # \n",
    "        \n",
    "    # this  is a class method which every object of that class inherits\n",
    "    # 'instance' is also just a placeholder for the instance name\n",
    "    def talk(instance): \n",
    "        print(f\"Hi it's me {instance.name}, i'm {instance.age} years old\")\n",
    "\n",
    "# Creating a new object from a class is called instantiating an object. Instances are unique.\n",
    "p1 = Person(\"John\", 36)  # p1 is an instance of the class Person, self in class becomes p1\n",
    "print(p1.name)\n",
    "p1.talk()                              # the instance p1 inerited the class method 'talk'\n",
    "\n",
    "p2 = Person()\n",
    "print(p2.name, \"/\", p2.age)\n",
    "p2.name =\"Sascha\"\n",
    "p2.age = \"17\"  # modify object properties\n",
    "print(p2.age)\n",
    "p2.talk()"
   ]
  },
  {
   "cell_type": "code",
   "execution_count": 22,
   "id": "911bf6f1",
   "metadata": {},
   "outputs": [
    {
     "name": "stdout",
     "output_type": "stream",
     "text": [
      "17\n"
     ]
    },
    {
     "ename": "AttributeError",
     "evalue": "'Person' object has no attribute 'myfct2'",
     "output_type": "error",
     "traceback": [
      "\u001b[0;31m---------------------------------------------------------------------------\u001b[0m",
      "\u001b[0;31mAttributeError\u001b[0m                            Traceback (most recent call last)",
      "\u001b[0;32m/tmp/ipykernel_3124/3236068756.py\u001b[0m in \u001b[0;36m<module>\u001b[0;34m\u001b[0m\n\u001b[1;32m      2\u001b[0m \u001b[0;31m#del p2  # delete object\u001b[0m\u001b[0;34m\u001b[0m\u001b[0;34m\u001b[0m\u001b[0;34m\u001b[0m\u001b[0m\n\u001b[1;32m      3\u001b[0m \u001b[0mprint\u001b[0m\u001b[0;34m(\u001b[0m\u001b[0mp2\u001b[0m\u001b[0;34m.\u001b[0m\u001b[0mage\u001b[0m\u001b[0;34m)\u001b[0m\u001b[0;34m\u001b[0m\u001b[0;34m\u001b[0m\u001b[0m\n\u001b[0;32m----> 4\u001b[0;31m \u001b[0mp2\u001b[0m\u001b[0;34m.\u001b[0m\u001b[0mmyfct2\u001b[0m\u001b[0;34m(\u001b[0m\u001b[0;34m)\u001b[0m\u001b[0;34m\u001b[0m\u001b[0;34m\u001b[0m\u001b[0m\n\u001b[0m",
      "\u001b[0;31mAttributeError\u001b[0m: 'Person' object has no attribute 'myfct2'"
     ]
    }
   ],
   "source": [
    "del p2.name  # delete properties\n",
    "#del p2  # delete object\n",
    "print(p2.age)\n",
    "p2.myfct2()\n"
   ]
  },
  {
   "cell_type": "markdown",
   "id": "2ab0b6dc",
   "metadata": {},
   "source": [
    "## setattr, hasattr, getattr, delattr"
   ]
  },
  {
   "cell_type": "code",
   "execution_count": 23,
   "id": "36fd0195",
   "metadata": {},
   "outputs": [
    {
     "name": "stdout",
     "output_type": "stream",
     "text": [
      "False\n",
      "True\n"
     ]
    }
   ],
   "source": [
    "print(hasattr(p1, \"profession\"))\n",
    "print(hasattr(p1, \"name\"))\n"
   ]
  },
  {
   "cell_type": "code",
   "execution_count": 24,
   "id": "23d8a81e",
   "metadata": {},
   "outputs": [
    {
     "name": "stdout",
     "output_type": "stream",
     "text": [
      "True\n"
     ]
    }
   ],
   "source": [
    "setattr(Person, \"health\", \"good\")  # set a class attibute with a default\n",
    "print(hasattr(Person, \"health\"))\n"
   ]
  },
  {
   "cell_type": "code",
   "execution_count": 26,
   "id": "1a1d306e",
   "metadata": {},
   "outputs": [
    {
     "name": "stdout",
     "output_type": "stream",
     "text": [
      "good\n",
      "John\n"
     ]
    }
   ],
   "source": [
    "print(getattr(p1, \"health\"))\n",
    "print(getattr(p1, \"name\"))"
   ]
  },
  {
   "cell_type": "code",
   "execution_count": 27,
   "id": "0a885946",
   "metadata": {},
   "outputs": [
    {
     "name": "stdout",
     "output_type": "stream",
     "text": [
      "False\n"
     ]
    }
   ],
   "source": [
    "delattr(Person, \"health\")\n",
    "print(hasattr(Person, \"health\"))"
   ]
  },
  {
   "cell_type": "code",
   "execution_count": 28,
   "id": "7bffc0d8",
   "metadata": {},
   "outputs": [
    {
     "name": "stdout",
     "output_type": "stream",
     "text": [
      "<__main__.Person object at 0x7f79c5251160>\n"
     ]
    }
   ],
   "source": [
    "print(p1)"
   ]
  },
  {
   "cell_type": "markdown",
   "id": "7bc7828d",
   "metadata": {},
   "source": [
    "## inhertance\n",
    "-  inheritance - reuse code, define once (dry)\n",
    "- Instances of child classes inherit all of the attributes and methods of the parent class:\n",
    "- Child classes can override or extend the attributes and methods of parent classes. \n",
    "- In other words, child classes inherit all of the parent’s attributes and methods but can also specify attributes and methods that are unique to themselves."
   ]
  },
  {
   "cell_type": "code",
   "execution_count": null,
   "id": "41888c68",
   "metadata": {},
   "outputs": [
    {
     "name": "stdout",
     "output_type": "stream",
     "text": [
      "I'm Jesus, 24 years old, and male\n"
     ]
    }
   ],
   "source": [
    "# parent class with attributes and methods\n",
    "class Human():\n",
    "    def __init__(self, name=\"nobody\", age=\"30 something\", gender=\"open-mided\"):\n",
    "        self.name=name\n",
    "        self.age=age\n",
    "        self.gender=gender\n",
    "\n",
    "    def talk(self):\n",
    "        print(f\"I'm {self.name}, {self.age} years old, and {self.gender}\")\n",
    "\n",
    "human = Human(\"Jesus\", 24, \"male\")\n",
    "human.gender\n",
    "human.talk()\n"
   ]
  },
  {
   "cell_type": "code",
   "execution_count": null,
   "id": "5c1a14e8",
   "metadata": {},
   "outputs": [
    {
     "name": "stdout",
     "output_type": "stream",
     "text": [
      "I'm Igor, 34 years old, and divers\n",
      "Igor, is a construction worker and has experience as bootlegger\n"
     ]
    }
   ],
   "source": [
    "# child class - inherits from parent class (Human)\n",
    "class Worker(Human):\n",
    "\n",
    "    def __init__(self, name, age, gender, profession, experience): # all attributes of Worker\n",
    "        super().__init__(name, age, gender) # attributes of parent class, which the child inherits\n",
    "        self.profession = profession        # add specific Worker attributes\n",
    "        self.experience = experience\n",
    "\n",
    "    # specfific Worker method\n",
    "    def skills(self):\n",
    "        print(f\"{self.name}, is a {self.profession} and has experience as {self.experience}\")\n",
    "\n",
    "\n",
    "worker = Worker('Igor', 34, 'divers', 'construction worker', 'bootlegger')\n",
    "worker.talk()\n",
    "worker.skills()"
   ]
  },
  {
   "cell_type": "code",
   "execution_count": 156,
   "id": "a70246ae",
   "metadata": {},
   "outputs": [
    {
     "name": "stdout",
     "output_type": "stream",
     "text": [
      "<class '__main__.Mammal'>\n",
      "walk\n",
      "\n",
      "\n",
      "walk\n",
      "bark\n",
      "<class '__main__.Dog'>\n",
      "\n",
      "\n",
      "walk\n",
      "<class '__main__.Cat'>\n",
      "False\n",
      "True\n"
     ]
    }
   ],
   "source": [
    "# first create parent class\n",
    "class Mammal:\n",
    "    def walk(self):\n",
    "        print(\"walk\")\n",
    "\n",
    "\n",
    "# create a child class -  that inherits the functionality from another class, by sending\n",
    "# the parent class as a parameter when creating the child class:\n",
    "class Dog(Mammal):      # Dog inherits the Mammal functions\n",
    "    def bark(self):\n",
    "        print(\"bark\")\n",
    "\n",
    "\n",
    "# secon child class without extra functionality\n",
    "class Cat(Mammal):\n",
    "    pass                # pass does nothing\n",
    "\n",
    "\n",
    "# Use the Mammal class to create object, and then execute the methods:\n",
    "mam1 = Mammal();    \n",
    "print(type(mam1));  \n",
    "mam1.walk();     \n",
    "print(\"\\n\")\n",
    "\n",
    "dog1 = Dog();   \n",
    "dog1.walk();    \n",
    "dog1.bark();     \n",
    "print(type(dog1));     \n",
    "print(\"\\n\")\n",
    "\n",
    "cat1 = Cat()\n",
    "cat1.walk()\n",
    "print(type(cat1))\n",
    "print(isinstance(cat1, Dog))\n",
    "print(isinstance(cat1, Cat))\n"
   ]
  },
  {
   "cell_type": "markdown",
   "id": "9f151ccb",
   "metadata": {},
   "source": [
    "### Extend the Functionality of a Parent Class\n",
    "- To override a method defined on the parent class, you define a method with the same name on the child class. \n",
    "- changes to the parent class automatically propagate to child classes, as long as the attribute or method being changed isn’t overridden in the child class."
   ]
  },
  {
   "cell_type": "code",
   "execution_count": 170,
   "id": "bfb91734",
   "metadata": {},
   "outputs": [
    {
     "name": "stdout",
     "output_type": "stream",
     "text": [
      "Bernd barks Woof\n",
      "Muschi sings Mau\n",
      "Muschi sings Fauch\n"
     ]
    }
   ],
   "source": [
    "# parent class\n",
    "class Mammal:\n",
    "    def __init__(self, name, age):\n",
    "        self.name = name\n",
    "        self.age = age\n",
    "\n",
    "    def walk(self):\n",
    "        print(\"walk\")\n",
    "\n",
    "    def speak(self, sound):\n",
    "        return f\"{self.name} says {sound}\"\n",
    "\n",
    "# child class\n",
    "class Dog(Mammal):\n",
    "    # override parent method\n",
    "    def speak(self, sound=\"Woof\"):\n",
    "        return f\"{self.name} barks {sound}\"\n",
    "\n",
    "class Cat(Mammal):\n",
    "\n",
    "    def speak(self, sound=\"Mau\"):\n",
    "        return f\"{self.name} sings {sound}\"\n",
    "\n",
    "\n",
    "dog = Dog(\"Bernd\", 7)\n",
    "print(dog.speak())\n",
    "\n",
    "cat =Cat(\"Muschi\", 3)\n",
    "print(cat.speak())\n",
    "# you can still call .speak() with a different sound:\n",
    "print(cat.speak(\"Fauch\"))"
   ]
  },
  {
   "cell_type": "markdown",
   "id": "ba0cf109",
   "metadata": {},
   "source": [
    "### super()\n",
    "- we may want to override a parent method in a child class, but we also dont't want to lose the changes made to the parent method\n",
    "- thus we can call the aprent method in the child class with super\n",
    "- super() does much more than just search the parent class for a method or an attribute. </br>\n",
    "It traverses the entire class hierarchy for a matching method or attribute. If you aren’t careful, super() can have surprising results."
   ]
  },
  {
   "cell_type": "code",
   "execution_count": 173,
   "id": "47a2c195",
   "metadata": {},
   "outputs": [
    {
     "data": {
      "text/plain": [
       "'Wolfgang says howl'"
      ]
     },
     "execution_count": 173,
     "metadata": {},
     "output_type": "execute_result"
    }
   ],
   "source": [
    "class Wolf(Mammal):\n",
    "\n",
    "    def speak(self, sound=\"howl\"):\n",
    "        return super().speak(sound)\n",
    "\n",
    "wolf = Wolf(\"Wolfgang\", 3)\n",
    "wolf.speak()\n"
   ]
  },
  {
   "cell_type": "markdown",
   "id": "5484e518",
   "metadata": {},
   "source": [
    "#  Classes advanced"
   ]
  },
  {
   "cell_type": "markdown",
   "id": "12c9fe61",
   "metadata": {},
   "source": [
    "## enumerations\n",
    "-  an enumeration is a set of members that have associated unique constant values. Enumeration is often called enum.\n",
    "- Enumerations are immutable. It means you cannot add or remove members once an enumeration is defined. And you also cannot change the member values.\n",
    "- Python provides you with the enum module that contains the Enum type for defining new enumerations. \n",
    "- And you define a new enumeration type by subclassing the Enum class.\n",
    "- enumeration’s members are constants. \n",
    "- Therefore, their names are in uppercase letters by convention.\n",
    "- Enumeration members are always hashable. It means that you can use the enumeration members as keys in a dictionary or as elements of a Set.\n",
    "- The hash() function accepts an object and returns the hash value as an integer. When you pass an object to the hash() function, Python will execute the __hash__ special method of the object."
   ]
  },
  {
   "cell_type": "code",
   "execution_count": 13,
   "id": "8e668d10",
   "metadata": {},
   "outputs": [],
   "source": [
    "from enum import Enum, unique, auto\n",
    "\n",
    "@ unique # decorater that prohibits duplicate values\n",
    "class Color(Enum):  # Color class that inherits from the Enum type\n",
    "    # members of the Color enumeration\n",
    "    # names have to be unique\n",
    "    RED = 1\n",
    "    GREEN = 2\n",
    "    BLUE = 3\n",
    "    # BLUE = 5 # is not allowed - bc its a duplicate\n",
    "    YELLOW = auto() # assigns a random value"
   ]
  },
  {
   "cell_type": "code",
   "execution_count": 19,
   "id": "32b50ec3",
   "metadata": {},
   "outputs": [
    {
     "name": "stdout",
     "output_type": "stream",
     "text": [
      "Color.BLUE\n",
      "<enum 'Color'>\n",
      "True\n",
      "RED 1\n",
      "<Color.YELLOW: 4>\n"
     ]
    }
   ],
   "source": [
    "print(Color(3))  # numeration is callable, you can get a member by its value.\n",
    "print(type(Color.RED)) # type\n",
    "print(isinstance(Color.RED, Color)) # Color.Red is an instance of the Color enumeration\n",
    "print(Color.RED.name, Color.RED.value) # name and value\n",
    "print(repr(Color.YELLOW))  # string representation of the object."
   ]
  },
  {
   "cell_type": "code",
   "execution_count": 17,
   "id": "c618067c",
   "metadata": {},
   "outputs": [
    {
     "name": "stdout",
     "output_type": "stream",
     "text": [
      "#ff0000\n"
     ]
    }
   ],
   "source": [
    "# enums (as hash value) can be keys in a dictionary\n",
    "rgb = {\n",
    "    Color.RED: '#ff0000', \n",
    "    Color.GREEN: '#00ff00', \n",
    "    Color.BLUE: '#0000ff'\n",
    "    }\n",
    "    \n",
    "print(rgb[Color.RED])"
   ]
  },
  {
   "cell_type": "code",
   "execution_count": 20,
   "id": "d13ac9ce",
   "metadata": {},
   "outputs": [
    {
     "name": "stdout",
     "output_type": "stream",
     "text": [
      "Color.RED\n",
      "Color.GREEN\n",
      "Color.BLUE\n",
      "Color.YELLOW\n"
     ]
    }
   ],
   "source": [
    "for color in Color:\n",
    "    print(color)"
   ]
  },
  {
   "cell_type": "markdown",
   "id": "d0785e23",
   "metadata": {},
   "source": [
    "## Special \\_\\_dunder\\_\\_ methods\n",
    "- Dunder (double underscore) Methods , Special Methods and Magic methods are the same thing in Python.\n",
    "- Dunder Methods makes our class compatible with inbuilt functions like abs(), len(), str() etc. <br>\n",
    "and extend the functionality of the class.\n",
    "- They give the ability to create classes that behave like native data structures like lists, tuples, dictionary, set etc.\n",
    "- Users don’t need to remember each and every method to do a certain task, <br>\n",
    "just use inbuilt function and pass the object with required parameters.\n",
    "- The methods have a predefined syntax which is available to implement in our class.\n",
    "- there are many dunder methodes: https://holycoders.com/python-dunder-special-methods/"
   ]
  },
  {
   "cell_type": "markdown",
   "id": "8405361f",
   "metadata": {},
   "source": [
    "### class string functions\n",
    "- __\\_\\_str\\_\\_(self)__ for str() function. </br> \n",
    "Return a string to print the object. Intended for users to see a pretty and useful output. If not implemented, __repr__ will be used as a fallback.\n",
    "- by overriting the function below you can control how your object is represented in string and bytes format\n",
    "- **object.__str__(self)**<br> \n",
    "Return a string to print the object. Intended for users to see a pretty and useful output.\n",
    "- **object.__repr__(self)**<br>\n",
    "It returns a string to print the object. Intended for developers to debug. Must be implemented in any class.\n",
    "- **object.__format__(self, format_spec)**<br>\n",
    "Evaluate formatted string literals like % for percentage format and ‘b’ for binary.\n",
    "- **object.__bytes__(self)** <br>\n",
    "Return a byte object which is the byte string representation of the object."
   ]
  },
  {
   "cell_type": "code",
   "execution_count": 46,
   "id": "0719745e",
   "metadata": {},
   "outputs": [],
   "source": [
    "class Person():\n",
    "    def __init__(self):\n",
    "        self.fname='Marco'\n",
    "        self.lname='Duno'\n",
    "        self.age= 25\n",
    "    def __repr__(self): # detailed for debugging\n",
    "        return\"<Person Class - fname:{0}, lname:{1}, age:{2}\".format(\n",
    "            self.fname, self.lname, self.age\n",
    "            )\n",
    "\n",
    "    def __str__(self) -> str: # string for info about object\n",
    "        return\"Person ({0} {1} is {2})\".format(self.fname, self.lname, self.age)\n",
    "\n",
    "    def __bytes__(self):\n",
    "        # string \n",
    "        val = \"Person: {0}:{1}:{2}\".format(self.fname, self.lname, self.age)\n",
    "        return bytes(val.encode('utf-8'))\n"
   ]
  },
  {
   "cell_type": "code",
   "execution_count": 47,
   "id": "d30c69fe",
   "metadata": {},
   "outputs": [
    {
     "name": "stdout",
     "output_type": "stream",
     "text": [
      "<Person Class - fname:Marco, lname:Duno, age:25\n",
      "Person (Marco Duno is 25)\n",
      "Formatted: Person (Marco Duno is 25)\n",
      "b'Person: Marco:Duno:25'\n"
     ]
    }
   ],
   "source": [
    "cls1=Person()\n",
    "# repr and str return non-human-readable representations\n",
    "# the definition of reor and str give the object a readable string output\n",
    "'''\n",
    "<__main__.Person object at 0x7f529b5894f0>\n",
    "<__main__.Person object at 0x7f529b5894f0>\n",
    "Formatted: <__main__.Person object at 0x7f529b5894f0>\n",
    "'''\n",
    "print(repr(cls1))\n",
    "print(str(cls1))\n",
    "print(\"Formatted: {0}\".format(cls1))\n",
    "print(bytes(cls1))\n"
   ]
  },
  {
   "cell_type": "markdown",
   "id": "0ce99eb7",
   "metadata": {},
   "source": [
    "### class attribute functions\n",
    "- **object.__getattr__(self, attr)**<br>\n",
    "“catch” references to attributes that don’t exist in your object.<br>\n",
    "using the __getattr__ magic method, we can intercept that inexistent attribute lookup and do something so it doesn’t fail\n",
    "- object.__getattribute__(self, attr)<br>\n",
    "\\_\\_getattribute\\_\\_ is similar to \\_\\_getattr\\_\\_, with the important difference that \\_\\_getattribute\\_\\_ will intercept EVERY attribute lookup, doesn’t matter if the attribute exists or not.<br>\n",
    "- object.__setattr__(self, attr)\n",
    "- object.__delattr__(self, attr)\n",
    "- object.__dir__(self, attr)"
   ]
  },
  {
   "cell_type": "code",
   "execution_count": 64,
   "id": "01828865",
   "metadata": {},
   "outputs": [],
   "source": [
    "class myColor():\n",
    "    def __init__(self):\n",
    "        self.red=50\n",
    "        self.green=75\n",
    "        self.blue=100\n",
    "\n",
    "    # dynamically return a value\n",
    "    def __getattr__(self, attr):\n",
    "        if attr == \"rgbcolor\":\n",
    "            return (self.red, self.green, self.blue)\n",
    "        elif attr=='hexcolor':\n",
    "            return \"#{0:02x}{1:02x}{2:02x}\".format(self.red, self.green, self.blue)\n",
    "        else:\n",
    "            raise AttributeError  # indicating an atrribute we don't know was requested \n",
    "\n",
    "    # give the user of the class the ability to set an attribute value\n",
    "    def __setattr__(self, attr, val):\n",
    "        if attr == 'rgbcolor':\n",
    "            self.red = val[0]\n",
    "            self.green = val[1]\n",
    "            self.blue = val[2]\n",
    "        else: # always put the super()__setattr__ as a default \n",
    "            super().__setattr__(attr, val)\n",
    "\n",
    "    # list the available properties\n",
    "    def __dir__(self):\n",
    "        return('red', 'green', 'blue', 'rgbcolor', 'hexcolor')\n"
   ]
  },
  {
   "cell_type": "code",
   "execution_count": 66,
   "id": "ad58e8e2",
   "metadata": {},
   "outputs": [
    {
     "name": "stdout",
     "output_type": "stream",
     "text": [
      "(50, 75, 100)\n",
      "#324b64\n",
      "(125, 200, 86)\n",
      "#7dc856\n",
      "125\n",
      "['blue', 'green', 'hexcolor', 'red', 'rgbcolor']\n"
     ]
    }
   ],
   "source": [
    "cls1=myColor()\n",
    "print(cls1.rgbcolor)\n",
    "print(cls1.hexcolor)\n",
    "cls1.rgbcolor = (125, 200, 86)\n",
    "print(cls1.rgbcolor)\n",
    "print(cls1.hexcolor)\n",
    "print(cls1.red)\n",
    "print(dir(cls1))"
   ]
  },
  {
   "cell_type": "markdown",
   "id": "7c03e57e",
   "metadata": {},
   "source": [
    "### class numeric operators\n",
    "Arithmetic Operators\n",
    "- **object.\\_\\_add\\_\\_(self, anotherObj)**: self + other\n",
    "- **object.\\_\\_sub\\_\\_(self, anotherObj)** \n",
    "-  **object.\\_\\_mul\\_\\_(self, anotherObj)**  \n",
    "- **object.\\_\\_matmul\\_\\_(self, anotherObj)** \n",
    "- **object.\\_\\_truediv\\_\\_(self, anotherObj)**  \n",
    "- **object.\\_\\_floordiv\\_\\_(self, anotherObj)**  \n",
    "- **object.\\_\\_pow\\_\\_(self, anotherObj)**\n",
    "- **object.\\_\\_and\\_\\_(self, anotherObj)**\n",
    "- **object.\\_\\_or\\_\\_(self, anotherObj)**"
   ]
  },
  {
   "cell_type": "code",
   "execution_count": 79,
   "id": "8efe4f1f",
   "metadata": {},
   "outputs": [],
   "source": [
    "class Point():\n",
    "    def __init__(self, x, y):\n",
    "        self.x = x\n",
    "        self.y = y\n",
    "\n",
    "    def __add__(self, other):\n",
    "        return Point(self.x + other.x, self.y + other.y)\n",
    "\n",
    "    def __repr__(self):\n",
    "        return\"<Point x:{0}, y.{1}>\".format(self.x, self.y)\n",
    "\n",
    "    def __sub__(self, other):\n",
    "        return Point(self.x - other.x, self.y - other.y)\n",
    "\n",
    "    # inplace addition\n",
    "    def __iadd__(self, other):\n",
    "        self.x += other.x\n",
    "        self.y += other.y\n",
    "        return self\n"
   ]
  },
  {
   "cell_type": "code",
   "execution_count": 80,
   "id": "2d81c3b6",
   "metadata": {},
   "outputs": [],
   "source": [
    "p1 = Point(10, 20)\n",
    "p2 = Point(15, 5)"
   ]
  },
  {
   "cell_type": "code",
   "execution_count": 83,
   "id": "78c86fb0",
   "metadata": {},
   "outputs": [
    {
     "name": "stdout",
     "output_type": "stream",
     "text": [
      "<Point x:10, y.20>\n",
      "<Point x:15, y.5>\n",
      "<Point x:25, y.25>\n",
      "<Point x:-5, y.15>\n"
     ]
    }
   ],
   "source": [
    "print(p1)\n",
    "print(p2)\n",
    "print(p1+p2)\n",
    "print(p1-p2)"
   ]
  },
  {
   "cell_type": "markdown",
   "id": "55a41972",
   "metadata": {},
   "source": [
    "### class comparison operators\n",
    "- **object.\\_\\_lt\\__\\(self, other)**\n",
    "- **object.\\_\\_le\\_\\_(self, other)**\n",
    "- **object.\\_\\_eq\\_\\_(self, other)**\n",
    "- **object.\\_\\_ne\\_\\_(self, other)**\n",
    "- **object.\\_\\_ge\\_\\_(self, other)**\n",
    "- **object.\\_\\_gt\\_\\_(self, other)**"
   ]
  },
  {
   "cell_type": "code",
   "execution_count": 94,
   "id": "0b15a118",
   "metadata": {},
   "outputs": [],
   "source": [
    "class Employee():\n",
    "\n",
    "    def __init__(self, fname, lname, level, yrsService):\n",
    "        self.fname = fname\n",
    "        self.lname = lname\n",
    "        self.level = level\n",
    "        self.seniority = yrsService\n",
    "\n",
    "    def __ge__(self, other):\n",
    "        if (self.level == other.level):\n",
    "            return self.seniority >= other.seniority\n",
    "        return self.level >= other.level\n",
    "\n",
    "    def __gt__(self, other):\n",
    "        if (self.level ==other.level):\n",
    "            return self.seniority > other.seniority\n",
    "        return self.level > other.level\n",
    "\n",
    "    def __lt__(self, other):\n",
    "        if (self.level ==other.level):\n",
    "            return self.seniority < other.seniority\n",
    "        return self.level < other.level\n",
    "\n",
    "    def __le__(self, other):\n",
    "        if (self.level == other.level):\n",
    "            return self.seniority <= other.seniority\n",
    "        return self.level <= other.level\n",
    "\n",
    "    def __eq__(self, other):\n",
    "        return self.level == other.level"
   ]
  },
  {
   "cell_type": "code",
   "execution_count": 115,
   "id": "2ce65b10",
   "metadata": {},
   "outputs": [],
   "source": [
    "dept =[]\n",
    "dept.append(Employee('Tim', 'Sims', 3, 12))\n",
    "dept.append(Employee('John', 'Doe', 3, 9))\n",
    "dept.append(Employee('Jane', 'Smith', 6, 6))\n",
    "dept.append(Employee('Rebecca', 'Robinson', 5, 11))\n",
    "dept.append(Employee('Tyler', 'Durden', 5, 12))"
   ]
  },
  {
   "cell_type": "code",
   "execution_count": 113,
   "id": "63d4af39",
   "metadata": {},
   "outputs": [
    {
     "name": "stdout",
     "output_type": "stream",
     "text": [
      "True\n",
      "False\n"
     ]
    }
   ],
   "source": [
    "print(dept[0] > dept[1])\n",
    "print(dept[3] < dept[4])"
   ]
  },
  {
   "cell_type": "code",
   "execution_count": 116,
   "id": "7bf0b002",
   "metadata": {},
   "outputs": [
    {
     "name": "stdout",
     "output_type": "stream",
     "text": [
      "Doe\n",
      "Sims\n",
      "Robinson\n",
      "Durden\n",
      "Smith\n"
     ]
    }
   ],
   "source": [
    "emps = sorted(dept) # sorts by level and seniority\n",
    "\n",
    "for emp in emps:\n",
    "    print(emp.lname)"
   ]
  },
  {
   "cell_type": "markdown",
   "id": "24e754e2",
   "metadata": {},
   "source": [
    "# logging\n",
    "- captures and records events while app is running\n",
    "- useful debugging feature\n",
    "- real-time debugging is not always possible\n",
    "- events can be categorized for easier analysis\n",
    "- provides a tranaction record of  a program's execution\n",
    "- highly customizable output<br><br>\n",
    "- **logging.debug('This is a debug message')**: diagnostic info for debugging\n",
    "- **logging.info('This is an info message')**: general info about execution results\n",
    "- **logging.warning('This is a warning message')**: sth. unexpected or approaching problem\n",
    "- **logging.error('This is an error message')**: unable to perform specific operation due to problem\n",
    "- **logging.critical('This is a critical message')**: prog may not be able to continue, serious error\n",
    "\n",
    "## Customizations\n",
    "- **%(acstime)s**: human-readable date format when the log was created\n",
    "- **%(filename)s**: filename where the log message originated\n",
    "- **%(funcName) s**: unction name where the log message originated\n",
    "- **%(levelname)s**: string representation of the message level (DEBUG, INFO, etc) \n",
    "- **%(levelno)d**: numeric representation of the message level\n",
    "- **%(lineno)d**: source line number where the logging call was issued (if available)\n",
    "- **%(message)s**: the logged meaasge string itself\n",
    "-**%(module)s**: module name portion of the filename where the message was logged"
   ]
  },
  {
   "cell_type": "code",
   "execution_count": 127,
   "id": "9e5437f3",
   "metadata": {},
   "outputs": [
    {
     "name": "stderr",
     "output_type": "stream",
     "text": [
      "WARNING:root:This is a warning message\n",
      "ERROR:root:This is an error message\n",
      "CRITICAL:root:This is a critical message\n"
     ]
    }
   ],
   "source": [
    "import logging\n",
    "logging.debug('This is a debug message')\n",
    "logging.info('This is an info message')\n",
    "logging.warning('This is a warning message')\n",
    "logging.error('This is an error message')\n",
    "logging.critical('This is a critical message')"
   ]
  },
  {
   "cell_type": "code",
   "execution_count": null,
   "id": "955e6fbd",
   "metadata": {},
   "outputs": [],
   "source": [
    "# Notice that the debug() and info() messages didn’t get logged.\n",
    "# This is because, by default, the logging module logs the messages\n",
    "# with a severity level of WARNING or above. You can change that\n",
    "# by configuring the logging module to log events of all levels if you want.\n",
    "# you need to restart the kernel bc. the basicConfig can only be configured once"
   ]
  },
  {
   "cell_type": "code",
   "execution_count": 1,
   "id": "78adb200",
   "metadata": {},
   "outputs": [],
   "source": [
    "import logging\n",
    "\n",
    "extData={'user': 'joe@example.com'}\n",
    "\n",
    "def anotherFunction():\n",
    "    logging.debug(\"A debug-level message\", extra=extData)\n",
    "\n",
    "# datetime, process ID along with the level,\n",
    "# fct name, line number and message\n",
    "fmtstr = \"User: %(user)s %(asctime)s: %(process)d: %(levelname)s: \\\n",
    "                 %(funcName)s Line:%(lineno)d %(message)s\"\n",
    "\n",
    "# customized date format\n",
    "datestr = \"%m/%d/%Y %I:%M:%S %p\"\n",
    "\n",
    "logging.basicConfig(\n",
    "    level=logging.DEBUG, # lower logging level specified\n",
    "    filemode='w', # 'write log into file default is 'a' for apppend\n",
    "    filename='output.log',\n",
    "    format=fmtstr,\n",
    "    datefmt=datestr)\n",
    "\n",
    "logging.info(\"This is an info-level log message\", extra=extData)\n",
    "logging.info(\"This is will get logged to a file\", extra=extData)\n",
    "logging.debug(\"This is a debug log message\", extra=extData)\n",
    "logging.warning('This a warning message', extra=extData)\n",
    "anotherFunction()"
   ]
  },
  {
   "cell_type": "code",
   "execution_count": null,
   "id": "8cfd5823",
   "metadata": {},
   "outputs": [],
   "source": []
  },
  {
   "cell_type": "markdown",
   "id": "9dc89ac3",
   "metadata": {},
   "source": [
    "# modules\n",
    "- Python files are called modules and they are identified by the .py file extension. \n",
    "- A module can define functions, classes, and variables.\n",
    "- Now  use the module, by import the module in your current file\n",
    "- You can create an alias when you import a module, by using the __as__ keyword"
   ]
  },
  {
   "cell_type": "code",
   "execution_count": 310,
   "id": "9a0fc54e",
   "metadata": {},
   "outputs": [
    {
     "name": "stdout",
     "output_type": "stream",
     "text": [
      "25.4\n"
     ]
    }
   ],
   "source": [
    "import convert_measure as c         # refer to the entire module & use a shorthand\n",
    "print(c.inch_cm(10))"
   ]
  },
  {
   "cell_type": "code",
   "execution_count": null,
   "id": "b7799584",
   "metadata": {},
   "outputs": [],
   "source": [
    "from convert_measure import inch_cm # pick a function of a module\n",
    "print(inch_cm(10))"
   ]
  },
  {
   "cell_type": "markdown",
   "id": "ce4069ae",
   "metadata": {},
   "source": [
    "## dir()\n",
    "- ‘dir()’ can be used to find out which names a module defines. It returns a sorted list of strings."
   ]
  },
  {
   "cell_type": "code",
   "execution_count": 432,
   "id": "9458747b",
   "metadata": {},
   "outputs": [
    {
     "name": "stdout",
     "output_type": "stream",
     "text": [
      "['CLOCK_BOOTTIME', 'CLOCK_MONOTONIC', 'CLOCK_MONOTONIC_RAW', 'CLOCK_PROCESS_CPUTIME_ID', 'CLOCK_REALTIME', 'CLOCK_THREAD_CPUTIME_ID', '_STRUCT_TM_ITEMS', '__doc__', '__loader__', '__name__', '__package__', '__spec__', 'altzone', 'asctime', 'clock_getres', 'clock_gettime', 'clock_gettime_ns', 'clock_settime', 'clock_settime_ns', 'ctime', 'daylight', 'get_clock_info', 'gmtime', 'localtime', 'mktime', 'monotonic', 'monotonic_ns', 'perf_counter', 'perf_counter_ns', 'process_time', 'process_time_ns', 'pthread_getcpuclockid', 'sleep', 'strftime', 'strptime', 'struct_time', 'thread_time', 'thread_time_ns', 'time', 'time_ns', 'timezone', 'tzname', 'tzset']\n"
     ]
    }
   ],
   "source": [
    "print(dir(time))"
   ]
  },
  {
   "cell_type": "markdown",
   "id": "4858a93e",
   "metadata": {},
   "source": [
    " ## .\\_\\_doc\\_\\_\n",
    " - You can see the internal documentation (if available) of a module name by looking at  .\\_\\_doc\\_\\_."
   ]
  },
  {
   "cell_type": "code",
   "execution_count": 458,
   "id": "b38a68e5",
   "metadata": {},
   "outputs": [
    {
     "name": "stdout",
     "output_type": "stream",
     "text": [
      "strftime(format[, tuple]) -> string\n",
      "\n",
      "Convert a time tuple to a string according to a format specification.\n",
      "See the library reference manual for formatting codes. When the time tuple\n",
      "is not present, current time as returned by localtime() is used.\n",
      "\n",
      "Commonly used format codes:\n",
      "\n",
      "%Y  Year with century as a decimal number.\n",
      "%m  Month as a decimal number [01,12].\n",
      "%d  Day of the month as a decimal number [01,31].\n",
      "%H  Hour (24-hour clock) as a decimal number [00,23].\n",
      "%M  Minute as a decimal number [00,59].\n",
      "%S  Second as a decimal number [00,61].\n",
      "%z  Time zone offset from UTC.\n",
      "%a  Locale's abbreviated weekday name.\n",
      "%A  Locale's full weekday name.\n",
      "%b  Locale's abbreviated month name.\n",
      "%B  Locale's full month name.\n",
      "%c  Locale's appropriate date and time representation.\n",
      "%I  Hour (12-hour clock) as a decimal number [01,12].\n",
      "%p  Locale's equivalent of either AM or PM.\n",
      "\n",
      "Other codes may be available on your platform.  See documentation for\n",
      "the C library strftime function.\n",
      "\n"
     ]
    }
   ],
   "source": [
    "import time\n",
    "\n",
    "print(time.strftime.__doc__)"
   ]
  },
  {
   "cell_type": "markdown",
   "id": "5c83e6b5",
   "metadata": {},
   "source": [
    "## built-in modules"
   ]
  },
  {
   "cell_type": "code",
   "execution_count": null,
   "id": "f6f88450",
   "metadata": {},
   "outputs": [],
   "source": [
    "#  list of all available modulesb\n",
    "help(\"modules\")"
   ]
  },
  {
   "cell_type": "markdown",
   "id": "1d97ce02",
   "metadata": {},
   "source": [
    "### os module\n",
    "- provides functions for creating and removing a directory (folder), fetching its contents, changing and identifying the current directory, etc. "
   ]
  },
  {
   "cell_type": "code",
   "execution_count": 321,
   "id": "6ec4c0f8",
   "metadata": {},
   "outputs": [
    {
     "data": {
      "text/plain": [
       "'/home/mz/code/Stuff/pyfiles'"
      ]
     },
     "execution_count": 321,
     "metadata": {},
     "output_type": "execute_result"
    }
   ],
   "source": [
    "import os\n",
    "os.getcwd()\n",
    "os.mkdir(\"test\")  # create folder\n",
    "os.chdir(\"C:\\MyPythonProject\")  # changing current workign directory\n",
    "os.chdir(\"..\")  # to set the current directory to the parent directory use \"..\"\n",
    "os.rmdir(\"test\")  # remove dirb\n",
    "os.listdir()"
   ]
  },
  {
   "cell_type": "markdown",
   "id": "b0e8a56b",
   "metadata": {},
   "source": [
    "### sys module\n",
    "- provides functions and variables used to manipulate different parts of the Python runtime environment."
   ]
  },
  {
   "cell_type": "code",
   "execution_count": 488,
   "id": "a70bef45",
   "metadata": {},
   "outputs": [
    {
     "data": {
      "text/plain": [
       "'linux'"
      ]
     },
     "execution_count": 488,
     "metadata": {},
     "output_type": "execute_result"
    }
   ],
   "source": [
    "sys.platform"
   ]
  },
  {
   "cell_type": "code",
   "execution_count": 442,
   "id": "e4129e06",
   "metadata": {},
   "outputs": [
    {
     "name": "stdout",
     "output_type": "stream",
     "text": [
      "You entered:  --ip=127.0.0.1 --stdin=9038 --control=9036\n"
     ]
    }
   ],
   "source": [
    "import sys\n",
    "print(\"You entered: \", sys.argv[1], sys.argv[2], sys.argv[3])\n"
   ]
  },
  {
   "cell_type": "markdown",
   "id": "e7818d35",
   "metadata": {},
   "source": [
    "__sys.argv__\n",
    "- Python lets you access whatever you have passed to a script while calling it. The ‘command line’ content is stored in the sys.argv list.\n",
    "- The item at index 0 in this list is always the name of the script. The rest of the arguments are stored at the subsequent indices. \n",
    "\n",
    "when you create a file with the content:\n",
    "___\n",
    "import sys</br>\n",
    "print(\"You entered: \",sys.argv[1], sys.argv[2], sys.argv[3])\n",
    "___\n",
    "and execute from the commandline as follows:</br>\n",
    "___\n",
    "$> python test.py Python C# Java\n",
    ">>You entered: Python C# Java \n",
    "\n",
    "- Above, sys.argv[1] contains the first argument 'Python', \n",
    "- sys.argv[2] contains the second argument 'C#', \n",
    "- and sys.argv[3] contains the third argument 'Java'. \n",
    "- sys.argv[0] contains the script file name test.py. \n"
   ]
  },
  {
   "cell_type": "markdown",
   "id": "948fdece",
   "metadata": {},
   "source": [
    "__sys.exit__\n",
    "- This causes the script to exit back to either the Python console or the command prompt. \n",
    "- This is generally used to safely exit from the program in case of generation of an exception. "
   ]
  },
  {
   "cell_type": "markdown",
   "id": "ed3bde76",
   "metadata": {},
   "source": [
    "__sys.maxsize__\n",
    "\n",
    "Returns the largest integer a variable can take. </br>\n",
    "maxsize attribute of the sys module fetches the largest value a variable of data type Py_ssize_t can store. </br>\n",
    "It is the Python platform’s pointer that dictates the maximum size of lists and strings in Python. </br>\n",
    "The size value returned by maxsize depends on the platform architecture:</br>\n",
    "\n",
    "    32-bit: the value will be 2^31 – 1, i.e. 2147483647</br>\n",
    "    64-bit: the value will be 2^63 – 1, i.e. 9223372036854775807"
   ]
  },
  {
   "cell_type": "code",
   "execution_count": 345,
   "id": "5c58cf40",
   "metadata": {},
   "outputs": [
    {
     "name": "stdout",
     "output_type": "stream",
     "text": [
      "9223372036854775807\n",
      "9223372036854775807\n"
     ]
    }
   ],
   "source": [
    "# importing the module\n",
    "import sys\n",
    "max_val = sys.maxsize       # fetching the maximum value\n",
    "list = range(max_val)         # creating list with max size\n",
    "print(max_val)\n",
    "print(len(list))                     # displaying the length of the list"
   ]
  },
  {
   "cell_type": "markdown",
   "id": "edd016f8",
   "metadata": {},
   "source": [
    "__sys.path__\n",
    "\n",
    "This is an environment variable that is a search path for all Python modules. "
   ]
  },
  {
   "cell_type": "code",
   "execution_count": 348,
   "id": "fea2e957",
   "metadata": {},
   "outputs": [
    {
     "data": {
      "text/plain": [
       "['/home/mz/code/Stuff/pyfiles',\n",
       " '/home/mz/.pyenv/versions/3.8.12/envs/lewagon/lib/python3.8/site-packages/git/ext/gitdb',\n",
       " '/home/mz/code/MaCoZu/data-challenges/04-Decision-Science',\n",
       " '/home/mz/code/Stuff/pyfiles',\n",
       " '/home/mz/.pyenv/versions/3.8.12/lib/python38.zip',\n",
       " '/home/mz/.pyenv/versions/3.8.12/lib/python3.8',\n",
       " '/home/mz/.pyenv/versions/3.8.12/lib/python3.8/lib-dynload',\n",
       " '',\n",
       " '/home/mz/.pyenv/versions/3.8.12/envs/lewagon/lib/python3.8/site-packages',\n",
       " '/home/mz/.pyenv/versions/3.8.12/envs/lewagon/lib/python3.8/site-packages/IPython/extensions',\n",
       " '/home/mz/.ipython',\n",
       " '/home/mz/.local/lib/python3.8/site-packages',\n",
       " '/home/mz/.pyenv/versions/3.8.12/envs/lewagon/lib/python3.8/site-packages/gitdb/ext/smmap']"
      ]
     },
     "execution_count": 348,
     "metadata": {},
     "output_type": "execute_result"
    }
   ],
   "source": [
    "sys.path"
   ]
  },
  {
   "cell_type": "markdown",
   "id": "df21641c",
   "metadata": {},
   "source": [
    "__sys.version__\n",
    "\n",
    "This attribute displays a string containing the version number of the current Python interpreter. "
   ]
  },
  {
   "cell_type": "code",
   "execution_count": 361,
   "id": "060771e6",
   "metadata": {},
   "outputs": [
    {
     "data": {
      "text/plain": [
       "'3.8.12 (default, Dec 16 2021, 20:07:31) \\n[GCC 9.3.0]'"
      ]
     },
     "execution_count": 361,
     "metadata": {},
     "output_type": "execute_result"
    }
   ],
   "source": [
    "sys.version"
   ]
  },
  {
   "cell_type": "markdown",
   "id": "95b33dce",
   "metadata": {},
   "source": [
    "# error handling"
   ]
  },
  {
   "cell_type": "markdown",
   "id": "2ea48bf6",
   "metadata": {},
   "source": [
    "## try ... except"
   ]
  },
  {
   "cell_type": "code",
   "execution_count": 39,
   "id": "7d30cb23",
   "metadata": {},
   "outputs": [
    {
     "name": "stdout",
     "output_type": "stream",
     "text": [
      "we have an error\n",
      "\n",
      " the code continues even if there was an error, \n",
      " because we skipped the usual error message \n",
      " replaced it with our own message and got on with work\n"
     ]
    }
   ],
   "source": [
    "try:\n",
    "    print(a)\n",
    "except:\n",
    "    print('we have an error')\n",
    "\n",
    "t = '\\n the code continues even if there was an error, \\n because we skipped the usual error message \\n replaced it with our own message and got on with work'\n",
    "print(t)"
   ]
  },
  {
   "cell_type": "markdown",
   "id": "5292ee0c",
   "metadata": {},
   "source": [
    "## try...except...else"
   ]
  },
  {
   "cell_type": "code",
   "execution_count": 40,
   "id": "68adfcd4",
   "metadata": {},
   "outputs": [
    {
     "name": "stdout",
     "output_type": "stream",
     "text": [
      "hello\n",
      "all went well\n"
     ]
    }
   ],
   "source": [
    "try:\n",
    "    a ='Hello'\n",
    "    print(a)\n",
    "except:\n",
    "    print('we have an error')\n",
    "else: \n",
    "    print('All went well')\n"
   ]
  },
  {
   "cell_type": "markdown",
   "id": "97015723",
   "metadata": {},
   "source": [
    "## finally\n",
    "- get's executed in any case: error or no error"
   ]
  },
  {
   "cell_type": "code",
   "execution_count": 46,
   "id": "588f6705",
   "metadata": {},
   "outputs": [
    {
     "name": "stdout",
     "output_type": "stream",
     "text": [
      "we have an error\n",
      "\n",
      "I wanted to inform you nonetheless\n"
     ]
    }
   ],
   "source": [
    "try:\n",
    "    # a = 'Hello'\n",
    "    print(d)\n",
    "except:\n",
    "    print('we have an error')\n",
    "finally:\n",
    "    print('\\nI wanted to inform you nonetheless')\n"
   ]
  },
  {
   "cell_type": "markdown",
   "id": "e6609df2",
   "metadata": {},
   "source": [
    "## raise exception"
   ]
  },
  {
   "cell_type": "code",
   "execution_count": 48,
   "id": "475b2fc0",
   "metadata": {},
   "outputs": [
    {
     "ename": "Exception",
     "evalue": "num is more than 5",
     "output_type": "error",
     "traceback": [
      "\u001b[0;31m---------------------------------------------------------------------------\u001b[0m",
      "\u001b[0;31mException\u001b[0m                                 Traceback (most recent call last)",
      "\u001b[0;32m/tmp/ipykernel_3124/1864124054.py\u001b[0m in \u001b[0;36m<module>\u001b[0;34m\u001b[0m\n\u001b[1;32m      1\u001b[0m \u001b[0mnum\u001b[0m \u001b[0;34m=\u001b[0m \u001b[0;36m10\u001b[0m\u001b[0;34m\u001b[0m\u001b[0;34m\u001b[0m\u001b[0m\n\u001b[1;32m      2\u001b[0m \u001b[0;32mif\u001b[0m \u001b[0mnum\u001b[0m \u001b[0;34m>\u001b[0m \u001b[0;36m5\u001b[0m\u001b[0;34m:\u001b[0m\u001b[0;34m\u001b[0m\u001b[0;34m\u001b[0m\u001b[0m\n\u001b[0;32m----> 3\u001b[0;31m     \u001b[0;32mraise\u001b[0m \u001b[0mException\u001b[0m\u001b[0;34m(\u001b[0m\u001b[0;34m'num is more than 5'\u001b[0m\u001b[0;34m)\u001b[0m\u001b[0;34m\u001b[0m\u001b[0;34m\u001b[0m\u001b[0m\n\u001b[0m",
      "\u001b[0;31mException\u001b[0m: num is more than 5"
     ]
    }
   ],
   "source": [
    "num = 10 \n",
    "if num > 5:\n",
    "    raise Exception('num is more than 5')"
   ]
  },
  {
   "cell_type": "markdown",
   "id": "c31ccd95",
   "metadata": {},
   "source": [
    "## Exception kind"
   ]
  },
  {
   "cell_type": "code",
   "execution_count": 49,
   "id": "ac595961",
   "metadata": {},
   "outputs": [
    {
     "name": "stdout",
     "output_type": "stream",
     "text": [
      "you useed a variable that is not defined\n"
     ]
    }
   ],
   "source": [
    "try: \n",
    "    print(x)\n",
    "except NameError:\n",
    "    print('You used a variable that is not defined')"
   ]
  },
  {
   "cell_type": "markdown",
   "id": "9eb396a7",
   "metadata": {},
   "source": [
    "# different stuff"
   ]
  },
  {
   "cell_type": "markdown",
   "id": "78e423f2",
   "metadata": {},
   "source": [
    "## if \\_\\_name\\_\\_ == \"\\_\\_main\\_\\_\"\n",
    "- When the interpreter runs a module, the __name__ variable will be set as  __main__ if the module that is being run is the main program.\n",
    "- But if the code is importing the module from another module, then the __name__  variable will be set to that module’s name."
   ]
  },
  {
   "cell_type": "code",
   "execution_count": null,
   "id": "5e69fdbc",
   "metadata": {},
   "outputs": [],
   "source": [
    "# import openpyxl as xl         # xl is an alias for openpyxl\n",
    "# from openpyxl.chart import BarChart, Reference\n",
    "\n",
    "# wb = xl.load_workbook(\"/home/mz/PyScripts/venv001/data/transactions.xlsx\")\n",
    "# sheet = wb[\"Sheet1\"]          # access Sheet1 case-sensitive\n",
    "# cell = sheet[\"a1\"]            # coordinate of a cell column/row\n",
    "# # cell = sheet.cell(1,1)      # the same with cell() method\n",
    "# # print(cell.value)           # value of cell a1\n",
    "# # print(sheet.max_row)        # how many rows?\n"
   ]
  },
  {
   "cell_type": "markdown",
   "id": "4f1879db",
   "metadata": {},
   "source": [
    "## Reg Ex\n",
    "__findall__ \tReturns a list containing all matches</br>\n",
    "__search__ \tReturns a Match object if there is a match anywhere in the string</br>\n",
    "__split__ \tReturns a list where the string has been split at each match</br>\n",
    "__sub__ \tReplaces one or many matches with a string</br>\n",
    "https://www.w3schools.com/python/python_regex.asp</br>\n",
    "https://regex101.com/"
   ]
  },
  {
   "cell_type": "code",
   "execution_count": 18,
   "id": "e031a1d8",
   "metadata": {},
   "outputs": [
    {
     "name": "stdout",
     "output_type": "stream",
     "text": [
      "['ai', 'ai']\n"
     ]
    }
   ],
   "source": [
    "import re\n",
    "txt = \"The rain in Spain\"\n",
    "x = re.findall(\"ai\", txt)\n",
    "print(x)\n"
   ]
  },
  {
   "cell_type": "markdown",
   "id": "dbf0457b",
   "metadata": {},
   "source": [
    "## decorators\n",
    "- Add functionality to an existing function with decorators. This is called metaprogramming.\n",
    "- A function can take a function as argument (the function to be decorated) and return the same function with or without extension."
   ]
  },
  {
   "cell_type": "code",
   "execution_count": 422,
   "id": "7972e586",
   "metadata": {},
   "outputs": [
    {
     "name": "stdout",
     "output_type": "stream",
     "text": [
      "Hello \n",
      "Marco\n"
     ]
    }
   ],
   "source": [
    "# hello() is a decorator function, It wraps the function in the other function.\n",
    "def hello(func):\n",
    "    def inner():\n",
    "        print(\"Hello \")\n",
    "        func()\n",
    "    return inner\n",
    "\n",
    "#  name() is decorated by the function hello().\n",
    "def name():\n",
    "    print(\"Marco\")\n",
    "\n",
    "obj = hello(name)  # name is decorated/ feed to hello\n",
    "obj()\n"
   ]
  },
  {
   "cell_type": "code",
   "execution_count": 427,
   "id": "a7747516",
   "metadata": {},
   "outputs": [
    {
     "name": "stdout",
     "output_type": "stream",
     "text": [
      "Hello \n",
      "Müller\n"
     ]
    }
   ],
   "source": [
    "# when we want to decorate name with hello we can use this cleaner decoration with @\n",
    "@hello                                                                                                      \n",
    "def surname():\n",
    "    print(\"Müller\")   \n",
    "    \n",
    "surname()"
   ]
  },
  {
   "cell_type": "code",
   "execution_count": 429,
   "id": "d20368fe",
   "metadata": {},
   "outputs": [
    {
     "name": "stdout",
     "output_type": "stream",
     "text": [
      "Function took 2.002239227294922 seconds to run\n"
     ]
    }
   ],
   "source": [
    "import time\n",
    "\n",
    "# timer function\n",
    "def measure_time(func):\n",
    "    def wrapper(*arg):\n",
    "        t = time.time()\n",
    "        res = func(*arg)\n",
    "        print(\"Function took \" + str(time.time() - t) + \" seconds to run\")\n",
    "        return res\n",
    "    return wrapper\n",
    "\n",
    "# decorate function with the timer fct.\n",
    "@measure_time\n",
    "def myFunction(n):\n",
    "    time.sleep(n)\n",
    "\n",
    "myFunction(2)\n"
   ]
  },
  {
   "cell_type": "code",
   "execution_count": null,
   "id": "b914e068",
   "metadata": {},
   "outputs": [],
   "source": [
    "# It’s critical to emphasize that decorators generally do not alter the calling signature or return value of function being wrapped. \n",
    "# The use of *args and**kwargs is there to make sure that any input arguments can be accepted. \n",
    "# The return value of a decorator is almost always the result of calling func(*args, **kwargs), where func is the original unwrapped function.\n",
    "\n",
    "import time\n",
    "\n",
    "\n",
    "def timeis(func):\n",
    "    '''Decorator that reports the execution time.'''\n",
    "\n",
    "    def wrap(*args, **kwargs):\n",
    "        start = time.time()\n",
    "        result = func(*args, **kwargs)\n",
    "        end = time.time()\n",
    "\n",
    "        print(func.__name__, end - start)\n",
    "        return result\n",
    "\n",
    "    return wrap\n",
    "\n",
    "\n",
    "@timeis\n",
    "def countdown(n):\n",
    "    '''Counts down'''\n",
    "    while n > 0:\n",
    "        n -= 1\n",
    "\n",
    "\n",
    "countdown(5)\n",
    "countdown(1000)\n"
   ]
  },
  {
   "cell_type": "markdown",
   "id": "50d8fb0c",
   "metadata": {},
   "source": []
  },
  {
   "cell_type": "markdown",
   "id": "7d310376",
   "metadata": {},
   "source": [
    "## datetime\n",
    "- to convert a string to a date object."
   ]
  },
  {
   "cell_type": "code",
   "execution_count": 14,
   "id": "7801e6f9",
   "metadata": {},
   "outputs": [
    {
     "name": "stdout",
     "output_type": "stream",
     "text": [
      "The type of the input date string now is:  <class 'datetime.datetime'>\n",
      "The date is 2024-01-21 11:04:19\n",
      "2022-04-27\n",
      "13790 days, 0:00:00\n"
     ]
    }
   ],
   "source": [
    "from datetime import datetime\n",
    "from datetime import date\n",
    "\n",
    "input_str = '21/01/24 11:04:19'\n",
    "dt_object = datetime.strptime(input_str, '%d/%m/%y %H:%M:%S')\n",
    "\n",
    "print(\"The type of the input date string now is: \", type(dt_object))\n",
    "print(\"The date is\", dt_object)\n",
    "\n",
    "print(date.today())\n",
    "birthday = date(1984, 7, 25)\n",
    "print(date.today() - birthday)"
   ]
  },
  {
   "cell_type": "code",
   "execution_count": 464,
   "id": "8d718cdd",
   "metadata": {},
   "outputs": [
    {
     "name": "stdout",
     "output_type": "stream",
     "text": [
      "strptime(string, format) -> struct_time\n",
      "\n",
      "Parse a string to a time tuple according to a format specification.\n",
      "See the library reference manual for formatting codes (same as\n",
      "strftime()).\n",
      "\n",
      "Commonly used format codes:\n",
      "\n",
      "%Y  Year with century as a decimal number.\n",
      "%m  Month as a decimal number [01,12].\n",
      "%d  Day of the month as a decimal number [01,31].\n",
      "%H  Hour (24-hour clock) as a decimal number [00,23].\n",
      "%M  Minute as a decimal number [00,59].\n",
      "%S  Second as a decimal number [00,61].\n",
      "%z  Time zone offset from UTC.\n",
      "%a  Locale's abbreviated weekday name.\n",
      "%A  Locale's full weekday name.\n",
      "%b  Locale's abbreviated month name.\n",
      "%B  Locale's full month name.\n",
      "%c  Locale's appropriate date and time representation.\n",
      "%I  Hour (12-hour clock) as a decimal number [01,12].\n",
      "%p  Locale's equivalent of either AM or PM.\n",
      "\n",
      "Other codes may be available on your platform.  See documentation for\n",
      "the C library strftime function.\n",
      "\n"
     ]
    }
   ],
   "source": [
    "print(time.strptime.__doc__)"
   ]
  },
  {
   "cell_type": "markdown",
   "id": "d7e56877",
   "metadata": {},
   "source": [
    "## compile()\n",
    "- If the Python code is in string form or is an AST object, and you want to change it to a code object, then you can use compile() method.\n",
    "- The code object returned by the compile() method can later be called using methods like: exec() and eval() which will execute dynamically generated Python code.\n",
    "\n",
    "compile(source, filename, mode, flags=0, dont_inherit=False, optimize=-1)\n",
    "\n",
    "- Source – It can be a normal string, a byte string, or an AST object\n",
    "- Filename -This is the file from which the code was read. If it wasn’t read from a file, you can give a name yourself.\n",
    "- Mode – Mode can be exec, eval or single.\n",
    "  - a. eval – If the source is a single expression.\n",
    "  - b. exec – It can take a block of a code that has Python statements, class and functions and so on.\n",
    "  - c. single – It is used if consists of a single interactive statement\n"
   ]
  },
  {
   "cell_type": "code",
   "execution_count": null,
   "id": "d5092d40",
   "metadata": {},
   "outputs": [],
   "source": [
    "# Creating sample sourcecode to multiply two variables\n",
    "# x and y.\n",
    "srcCode = 'x = 10\\ny = 20\\nmul = x * y\\nprint(\"mul =\", mul)'\n",
    "\n",
    "# Converting above source code to an executable\n",
    "execCode = compile(srcCode, 'mulstring', 'exec')\n",
    "\n",
    "# Running the executable code.\n",
    "exec(execCode)"
   ]
  },
  {
   "cell_type": "markdown",
   "id": "ef91f145",
   "metadata": {},
   "source": [
    "## caching "
   ]
  },
  {
   "cell_type": "markdown",
   "id": "b2c7ace5-43f0-4e69-959f-17aa7e0d03a8",
   "metadata": {},
   "source": [
    "## ord() & chr - Char to Int and back\n",
    "- chr() is used for converting an Integer to a Character, while the function \n",
    "- ord() is used to do the reverse, i.e, convert a Character to an Integer."
   ]
  },
  {
   "cell_type": "code",
   "execution_count": null,
   "id": "23f49df4-7e3a-407f-b970-e588f38558d6",
   "metadata": {
    "collapsed": true,
    "jupyter": {
     "outputs_hidden": true
    }
   },
   "outputs": [
    {
     "name": "stdout",
     "output_type": "stream",
     "text": [
      "[97, 98, 99, 100, 101, 102, 103, 104, 105, 106, 107, 108, 109, 110, 111, 112, 113, 114, 115, 116, 117, 118, 119, 120, 121, 122]\n",
      "['a', 'b', 'c', 'd', 'e', 'f', 'g', 'h', 'i', 'j', 'k', 'l', 'm', 'n', 'o', 'p', 'q', 'r', 's', 't', 'u', 'v', 'w', 'x', 'y', 'z']\n"
     ]
    }
   ],
   "source": [
    "def character_range(a, b):\n",
    "    for char in range(ord(a), ord(b) + 1):\n",
    "        yield (char)\n",
    "\n",
    "print(list(character_range(\"a\", \"z\")))\n",
    "unicode = [chr(x) for x in character_range(\"a\", \"z\")]  # one-character string of an integer code point.\n",
    "print(unicode)"
   ]
  },
  {
   "cell_type": "code",
   "execution_count": null,
   "id": "ede2f623",
   "metadata": {},
   "outputs": [
    {
     "name": "stdout",
     "output_type": "stream",
     "text": [
      "65\n",
      "A\n",
      "bytearray(b'\\x00\\x00\\x00\\x00')\n",
      "b'\\x00\\x00\\x00\\x00'\n"
     ]
    }
   ],
   "source": [
    "print(chr(65))  # one-character string of an integer code point.\n",
    "print(bytearray(4))  # The bytearray() method returns a bytearray object which is an array of the given bytes.\n",
    "print(bytes(4))  # Returns a bytes object"
   ]
  },
  {
   "cell_type": "markdown",
   "id": "dfad6659-830e-4921-a819-4fb9e781eb15",
   "metadata": {},
   "source": [
    "## Keywords "
   ]
  },
  {
   "cell_type": "code",
   "execution_count": null,
   "id": "932d27e9-3046-4af1-99e1-1c23bbfe8a7d",
   "metadata": {
    "collapsed": true,
    "jupyter": {
     "outputs_hidden": true
    }
   },
   "outputs": [
    {
     "name": "stdout",
     "output_type": "stream",
     "text": [
      "['False', 'None', 'True', 'and', 'as', 'assert', 'async', 'await', 'break', 'class', 'continue', 'def', 'del', 'elif', 'else', 'except', 'finally', 'for', 'from', 'global', 'if', 'import', 'in', 'is', 'lambda', 'nonlocal', 'not', 'or', 'pass', 'raise', 'return', 'try', 'while', 'with', 'yield']\n",
      "\n",
      "Here is a list of the Python keywords.  Enter any keyword to get more help.\n",
      "\n",
      "False               class               from                or\n",
      "None                continue            global              pass\n",
      "True                def                 if                  raise\n",
      "and                 del                 import              return\n",
      "as                  elif                in                  try\n",
      "assert              else                is                  while\n",
      "async               except              lambda              with\n",
      "await               finally             nonlocal            yield\n",
      "break               for                 not                 \n",
      "\n",
      "None\n",
      "The \"raise\" statement\n",
      "*********************\n",
      "\n",
      "   raise_stmt ::= \"raise\" [expression [\"from\" expression]]\n",
      "\n",
      "If no expressions are present, \"raise\" re-raises the last exception\n",
      "that was active in the current scope.  If no exception is active in\n",
      "the current scope, a \"RuntimeError\" exception is raised indicating\n",
      "that this is an error.\n",
      "\n",
      "Otherwise, \"raise\" evaluates the first expression as the exception\n",
      "object.  It must be either a subclass or an instance of\n",
      "\"BaseException\". If it is a class, the exception instance will be\n",
      "obtained when needed by instantiating the class with no arguments.\n",
      "\n",
      "The *type* of the exception is the exception instance’s class, the\n",
      "*value* is the instance itself.\n",
      "\n",
      "A traceback object is normally created automatically when an exception\n",
      "is raised and attached to it as the \"__traceback__\" attribute, which\n",
      "is writable. You can create an exception and set your own traceback in\n",
      "one step using the \"with_traceback()\" exception method (which returns\n",
      "the same exception instance, with its traceback set to its argument),\n",
      "like so:\n",
      "\n",
      "   raise Exception(\"foo occurred\").with_traceback(tracebackobj)\n",
      "\n",
      "The \"from\" clause is used for exception chaining: if given, the second\n",
      "*expression* must be another exception class or instance. If the\n",
      "second expression is an exception instance, it will be attached to the\n",
      "raised exception as the \"__cause__\" attribute (which is writable). If\n",
      "the expression is an exception class, the class will be instantiated\n",
      "and the resulting exception instance will be attached to the raised\n",
      "exception as the \"__cause__\" attribute. If the raised exception is not\n",
      "handled, both exceptions will be printed:\n",
      "\n",
      "   >>> try:\n",
      "   ...     print(1 / 0)\n",
      "   ... except Exception as exc:\n",
      "   ...     raise RuntimeError(\"Something bad happened\") from exc\n",
      "   ...\n",
      "   Traceback (most recent call last):\n",
      "     File \"<stdin>\", line 2, in <module>\n",
      "   ZeroDivisionError: division by zero\n",
      "\n",
      "   The above exception was the direct cause of the following exception:\n",
      "\n",
      "   Traceback (most recent call last):\n",
      "     File \"<stdin>\", line 4, in <module>\n",
      "   RuntimeError: Something bad happened\n",
      "\n",
      "A similar mechanism works implicitly if an exception is raised inside\n",
      "an exception handler or a \"finally\" clause: the previous exception is\n",
      "then attached as the new exception’s \"__context__\" attribute:\n",
      "\n",
      "   >>> try:\n",
      "   ...     print(1 / 0)\n",
      "   ... except:\n",
      "   ...     raise RuntimeError(\"Something bad happened\")\n",
      "   ...\n",
      "   Traceback (most recent call last):\n",
      "     File \"<stdin>\", line 2, in <module>\n",
      "   ZeroDivisionError: division by zero\n",
      "\n",
      "   During handling of the above exception, another exception occurred:\n",
      "\n",
      "   Traceback (most recent call last):\n",
      "     File \"<stdin>\", line 4, in <module>\n",
      "   RuntimeError: Something bad happened\n",
      "\n",
      "Exception chaining can be explicitly suppressed by specifying \"None\"\n",
      "in the \"from\" clause:\n",
      "\n",
      "   >>> try:\n",
      "   ...     print(1 / 0)\n",
      "   ... except:\n",
      "   ...     raise RuntimeError(\"Something bad happened\") from None\n",
      "   ...\n",
      "   Traceback (most recent call last):\n",
      "     File \"<stdin>\", line 4, in <module>\n",
      "   RuntimeError: Something bad happened\n",
      "\n",
      "Additional information on exceptions can be found in section\n",
      "Exceptions, and information about handling exceptions is in section\n",
      "The try statement.\n",
      "\n",
      "Changed in version 3.3: \"None\" is now permitted as \"Y\" in \"raise X\n",
      "from Y\".\n",
      "\n",
      "New in version 3.3: The \"__suppress_context__\" attribute to suppress\n",
      "automatic display of the exception context.\n",
      "\n",
      "Related help topics: EXCEPTIONS\n",
      "\n"
     ]
    }
   ],
   "source": [
    "import keyword\n",
    "print(keyword.kwlist)\n",
    "print(help(\"keywords\"))\n",
    "help(\"raise\")"
   ]
  },
  {
   "cell_type": "markdown",
   "id": "f94c9003",
   "metadata": {},
   "source": [
    "## file handling - open()\n",
    "- The open() function takes two parameters; filename, and mode.\n",
    "-  There are four different methods (modes) for opening a file:\n",
    "- \"r\" - Read - Default value. Opens a file for reading, error if the file does not exist\n",
    "-  \"a\" - Append - Opens a file for appending, creates the file if it does not exist\n",
    "-  \"w\" - Write - Opens a file for writing, creates the file if it does not exist"
   ]
  },
  {
   "cell_type": "code",
   "execution_count": null,
   "id": "28ea51c3-a7ac-471c-8ad1-20f16557f5ed",
   "metadata": {
    "collapsed": true,
    "jupyter": {
     "outputs_hidden": true
    }
   },
   "outputs": [
    {
     "name": "stdout",
     "output_type": "stream",
     "text": [
      "pwd     # parent working dir\n",
      "ls      # list\n",
      "cd      # change dir\n",
      "\n",
      "ls -a   # show hidden .files too\n",
      "ls -la  # long form and hidden\n",
      "\n",
      "# relative path\n",
      ".    # current dir\n",
      "..   # parent dir\n",
      "\n"
     ]
    }
   ],
   "source": [
    "with open('unix console.txt', 'r', encoding='utf-8') as fp:\n",
    "    # read sample.txt\n",
    "    print(fp.read())"
   ]
  },
  {
   "cell_type": "markdown",
   "id": "5ec6f907",
   "metadata": {},
   "source": [
    "## Path and listing files and directories"
   ]
  },
  {
   "cell_type": "code",
   "execution_count": null,
   "id": "8a7bb5f6",
   "metadata": {},
   "outputs": [],
   "source": [
    "from pathlib import Path\n",
    "path = Path(\"ecommerce\")    # relative path start from current directory\n",
    "p = Path(\"/home/mz/PyScripts/venv001/\")    # absolute Path: usr/local/bin # starts from root\n",
    "print(path.exists())\n",
    "path = Path(\"emails\")\n",
    "path.mkdir()              # create a directory\n",
    "print(Path(\"emails\"))\n",
    "print(path.rmdir())       # when your in the dir erase it\n",
    "path = Path()               # go to current dir\n",
    "for file in path.glob (\"*.txt\"):\n",
    "   print(file)\n"
   ]
  },
  {
   "cell_type": "markdown",
   "id": "0ceda73d",
   "metadata": {},
   "source": [
    "## glob \n",
    "- module provides a function for making file lists from directory wildcard searches:"
   ]
  },
  {
   "cell_type": "code",
   "execution_count": null,
   "id": "7e9d4378",
   "metadata": {},
   "outputs": [
    {
     "name": "stdout",
     "output_type": "stream",
     "text": [
      "['Math_Statistics.ipynb', 'Numpy.ipynb', '01_Python_Basics.ipynb', 'functions.ipynb', 'Pandas.ipynb', 'standard_library_tour.ipynb', 'np_pd_plt_sns_intro.ipynb', '02_Python_Advanced.ipynb', 'automate_stuff.ipynb']\n"
     ]
    }
   ],
   "source": [
    "import glob\n",
    "print(glob.glob('*.ipynb'))\n"
   ]
  },
  {
   "cell_type": "markdown",
   "id": "ccfc0fd7",
   "metadata": {},
   "source": [
    "## os"
   ]
  },
  {
   "cell_type": "code",
   "execution_count": null,
   "id": "a8fd3643",
   "metadata": {},
   "outputs": [],
   "source": [
    "print(dir(os))                  # list of all module functions"
   ]
  },
  {
   "cell_type": "code",
   "execution_count": null,
   "id": "3459a6d9",
   "metadata": {},
   "outputs": [
    {
     "name": "stdout",
     "output_type": "stream",
     "text": [
      "Help on module os:\n",
      "\n",
      "NAME\n",
      "    os - OS routines for NT or Posix depending on what system we're on.\n",
      "\n",
      "MODULE REFERENCE\n",
      "    https://docs.python.org/3.8/library/os\n",
      "    \n",
      "    The following documentation is automatically generated from the Python\n",
      "    source files.  It may be incomplete, incorrect or include features that\n",
      "    are considered implementation detail and may vary between Python\n",
      "    implementations.  When in doubt, consult the module reference at the\n",
      "    location listed above.\n",
      "\n",
      "DESCRIPTION\n",
      "    This exports:\n",
      "      - all functions from posix or nt, e.g. unlink, stat, etc.\n",
      "      - os.path is either posixpath or ntpath\n",
      "      - os.name is either 'posix' or 'nt'\n",
      "      - os.curdir is a string representing the current directory (always '.')\n",
      "      - os.pardir is a string representing the parent directory (always '..')\n",
      "      - os.sep is the (or a most common) pathname separator ('/' or '\\\\')\n",
      "      - os.extsep is the extension separator (always '.')\n",
      "      - os.altsep is the alternate pathname separator (None or '/')\n",
      "      - os.pathsep is the component separator used in $PATH etc\n",
      "      - os.linesep is the line separator in text files ('\\r' or '\\n' or '\\r\\n')\n",
      "      - os.defpath is the default search path for executables\n",
      "      - os.devnull is the file path of the null device ('/dev/null', etc.)\n",
      "    \n",
      "    Programs that import and use 'os' stand a better chance of being\n",
      "    portable between different platforms.  Of course, they must then\n",
      "    only use functions that are defined by all platforms (e.g., unlink\n",
      "    and opendir), and leave all pathname manipulation to os.path\n",
      "    (e.g., split and join).\n",
      "\n",
      "CLASSES\n",
      "    builtins.Exception(builtins.BaseException)\n",
      "        builtins.OSError\n",
      "    builtins.object\n",
      "        posix.DirEntry\n",
      "    builtins.tuple(builtins.object)\n",
      "        stat_result\n",
      "        statvfs_result\n",
      "        terminal_size\n",
      "        posix.sched_param\n",
      "        posix.times_result\n",
      "        posix.uname_result\n",
      "        posix.waitid_result\n",
      "    \n",
      "    class DirEntry(builtins.object)\n",
      "     |  Methods defined here:\n",
      "     |  \n",
      "     |  __fspath__(self, /)\n",
      "     |      Returns the path for the entry.\n",
      "     |  \n",
      "     |  __repr__(self, /)\n",
      "     |      Return repr(self).\n",
      "     |  \n",
      "     |  inode(self, /)\n",
      "     |      Return inode of the entry; cached per entry.\n",
      "     |  \n",
      "     |  is_dir(self, /, *, follow_symlinks=True)\n",
      "     |      Return True if the entry is a directory; cached per entry.\n",
      "     |  \n",
      "     |  is_file(self, /, *, follow_symlinks=True)\n",
      "     |      Return True if the entry is a file; cached per entry.\n",
      "     |  \n",
      "     |  is_symlink(self, /)\n",
      "     |      Return True if the entry is a symbolic link; cached per entry.\n",
      "     |  \n",
      "     |  stat(self, /, *, follow_symlinks=True)\n",
      "     |      Return stat_result object for the entry; cached per entry.\n",
      "     |  \n",
      "     |  ----------------------------------------------------------------------\n",
      "     |  Data descriptors defined here:\n",
      "     |  \n",
      "     |  name\n",
      "     |      the entry's base filename, relative to scandir() \"path\" argument\n",
      "     |  \n",
      "     |  path\n",
      "     |      the entry's full path name; equivalent to os.path.join(scandir_path, entry.name)\n",
      "    \n",
      "    error = class OSError(Exception)\n",
      "     |  Base class for I/O related errors.\n",
      "     |  \n",
      "     |  Method resolution order:\n",
      "     |      OSError\n",
      "     |      Exception\n",
      "     |      BaseException\n",
      "     |      object\n",
      "     |  \n",
      "     |  Built-in subclasses:\n",
      "     |      BlockingIOError\n",
      "     |      ChildProcessError\n",
      "     |      ConnectionError\n",
      "     |      FileExistsError\n",
      "     |      ... and 7 other subclasses\n",
      "     |  \n",
      "     |  Methods defined here:\n",
      "     |  \n",
      "     |  __init__(self, /, *args, **kwargs)\n",
      "     |      Initialize self.  See help(type(self)) for accurate signature.\n",
      "     |  \n",
      "     |  __reduce__(...)\n",
      "     |      Helper for pickle.\n",
      "     |  \n",
      "     |  __str__(self, /)\n",
      "     |      Return str(self).\n",
      "     |  \n",
      "     |  ----------------------------------------------------------------------\n",
      "     |  Static methods defined here:\n",
      "     |  \n",
      "     |  __new__(*args, **kwargs) from builtins.type\n",
      "     |      Create and return a new object.  See help(type) for accurate signature.\n",
      "     |  \n",
      "     |  ----------------------------------------------------------------------\n",
      "     |  Data descriptors defined here:\n",
      "     |  \n",
      "     |  characters_written\n",
      "     |  \n",
      "     |  errno\n",
      "     |      POSIX exception code\n",
      "     |  \n",
      "     |  filename\n",
      "     |      exception filename\n",
      "     |  \n",
      "     |  filename2\n",
      "     |      second exception filename\n",
      "     |  \n",
      "     |  strerror\n",
      "     |      exception strerror\n",
      "     |  \n",
      "     |  ----------------------------------------------------------------------\n",
      "     |  Methods inherited from BaseException:\n",
      "     |  \n",
      "     |  __delattr__(self, name, /)\n",
      "     |      Implement delattr(self, name).\n",
      "     |  \n",
      "     |  __getattribute__(self, name, /)\n",
      "     |      Return getattr(self, name).\n",
      "     |  \n",
      "     |  __repr__(self, /)\n",
      "     |      Return repr(self).\n",
      "     |  \n",
      "     |  __setattr__(self, name, value, /)\n",
      "     |      Implement setattr(self, name, value).\n",
      "     |  \n",
      "     |  __setstate__(...)\n",
      "     |  \n",
      "     |  with_traceback(...)\n",
      "     |      Exception.with_traceback(tb) --\n",
      "     |      set self.__traceback__ to tb and return self.\n",
      "     |  \n",
      "     |  ----------------------------------------------------------------------\n",
      "     |  Data descriptors inherited from BaseException:\n",
      "     |  \n",
      "     |  __cause__\n",
      "     |      exception cause\n",
      "     |  \n",
      "     |  __context__\n",
      "     |      exception context\n",
      "     |  \n",
      "     |  __dict__\n",
      "     |  \n",
      "     |  __suppress_context__\n",
      "     |  \n",
      "     |  __traceback__\n",
      "     |  \n",
      "     |  args\n",
      "    \n",
      "    class sched_param(builtins.tuple)\n",
      "     |  sched_param(iterable=(), /)\n",
      "     |  \n",
      "     |  Current has only one field: sched_priority\");\n",
      "     |  \n",
      "     |  sched_priority\n",
      "     |    A scheduling parameter.\n",
      "     |  \n",
      "     |  Method resolution order:\n",
      "     |      sched_param\n",
      "     |      builtins.tuple\n",
      "     |      builtins.object\n",
      "     |  \n",
      "     |  Methods defined here:\n",
      "     |  \n",
      "     |  __reduce__(...)\n",
      "     |      Helper for pickle.\n",
      "     |  \n",
      "     |  __repr__(self, /)\n",
      "     |      Return repr(self).\n",
      "     |  \n",
      "     |  ----------------------------------------------------------------------\n",
      "     |  Static methods defined here:\n",
      "     |  \n",
      "     |  __new__(*args, **kwargs) from builtins.type\n",
      "     |      Create and return a new object.  See help(type) for accurate signature.\n",
      "     |  \n",
      "     |  ----------------------------------------------------------------------\n",
      "     |  Data descriptors defined here:\n",
      "     |  \n",
      "     |  sched_priority\n",
      "     |      the scheduling priority\n",
      "     |  \n",
      "     |  ----------------------------------------------------------------------\n",
      "     |  Data and other attributes defined here:\n",
      "     |  \n",
      "     |  n_fields = 1\n",
      "     |  \n",
      "     |  n_sequence_fields = 1\n",
      "     |  \n",
      "     |  n_unnamed_fields = 0\n",
      "     |  \n",
      "     |  ----------------------------------------------------------------------\n",
      "     |  Methods inherited from builtins.tuple:\n",
      "     |  \n",
      "     |  __add__(self, value, /)\n",
      "     |      Return self+value.\n",
      "     |  \n",
      "     |  __contains__(self, key, /)\n",
      "     |      Return key in self.\n",
      "     |  \n",
      "     |  __eq__(self, value, /)\n",
      "     |      Return self==value.\n",
      "     |  \n",
      "     |  __ge__(self, value, /)\n",
      "     |      Return self>=value.\n",
      "     |  \n",
      "     |  __getattribute__(self, name, /)\n",
      "     |      Return getattr(self, name).\n",
      "     |  \n",
      "     |  __getitem__(self, key, /)\n",
      "     |      Return self[key].\n",
      "     |  \n",
      "     |  __getnewargs__(self, /)\n",
      "     |  \n",
      "     |  __gt__(self, value, /)\n",
      "     |      Return self>value.\n",
      "     |  \n",
      "     |  __hash__(self, /)\n",
      "     |      Return hash(self).\n",
      "     |  \n",
      "     |  __iter__(self, /)\n",
      "     |      Implement iter(self).\n",
      "     |  \n",
      "     |  __le__(self, value, /)\n",
      "     |      Return self<=value.\n",
      "     |  \n",
      "     |  __len__(self, /)\n",
      "     |      Return len(self).\n",
      "     |  \n",
      "     |  __lt__(self, value, /)\n",
      "     |      Return self<value.\n",
      "     |  \n",
      "     |  __mul__(self, value, /)\n",
      "     |      Return self*value.\n",
      "     |  \n",
      "     |  __ne__(self, value, /)\n",
      "     |      Return self!=value.\n",
      "     |  \n",
      "     |  __rmul__(self, value, /)\n",
      "     |      Return value*self.\n",
      "     |  \n",
      "     |  count(self, value, /)\n",
      "     |      Return number of occurrences of value.\n",
      "     |  \n",
      "     |  index(self, value, start=0, stop=9223372036854775807, /)\n",
      "     |      Return first index of value.\n",
      "     |      \n",
      "     |      Raises ValueError if the value is not present.\n",
      "    \n",
      "    class stat_result(builtins.tuple)\n",
      "     |  stat_result(iterable=(), /)\n",
      "     |  \n",
      "     |  stat_result: Result from stat, fstat, or lstat.\n",
      "     |  \n",
      "     |  This object may be accessed either as a tuple of\n",
      "     |    (mode, ino, dev, nlink, uid, gid, size, atime, mtime, ctime)\n",
      "     |  or via the attributes st_mode, st_ino, st_dev, st_nlink, st_uid, and so on.\n",
      "     |  \n",
      "     |  Posix/windows: If your platform supports st_blksize, st_blocks, st_rdev,\n",
      "     |  or st_flags, they are available as attributes only.\n",
      "     |  \n",
      "     |  See os.stat for more information.\n",
      "     |  \n",
      "     |  Method resolution order:\n",
      "     |      stat_result\n",
      "     |      builtins.tuple\n",
      "     |      builtins.object\n",
      "     |  \n",
      "     |  Methods defined here:\n",
      "     |  \n",
      "     |  __reduce__(...)\n",
      "     |      Helper for pickle.\n",
      "     |  \n",
      "     |  __repr__(self, /)\n",
      "     |      Return repr(self).\n",
      "     |  \n",
      "     |  ----------------------------------------------------------------------\n",
      "     |  Static methods defined here:\n",
      "     |  \n",
      "     |  __new__(*args, **kwargs) from builtins.type\n",
      "     |      Create and return a new object.  See help(type) for accurate signature.\n",
      "     |  \n",
      "     |  ----------------------------------------------------------------------\n",
      "     |  Data descriptors defined here:\n",
      "     |  \n",
      "     |  st_atime\n",
      "     |      time of last access\n",
      "     |  \n",
      "     |  st_atime_ns\n",
      "     |      time of last access in nanoseconds\n",
      "     |  \n",
      "     |  st_blksize\n",
      "     |      blocksize for filesystem I/O\n",
      "     |  \n",
      "     |  st_blocks\n",
      "     |      number of blocks allocated\n",
      "     |  \n",
      "     |  st_ctime\n",
      "     |      time of last change\n",
      "     |  \n",
      "     |  st_ctime_ns\n",
      "     |      time of last change in nanoseconds\n",
      "     |  \n",
      "     |  st_dev\n",
      "     |      device\n",
      "     |  \n",
      "     |  st_gid\n",
      "     |      group ID of owner\n",
      "     |  \n",
      "     |  st_ino\n",
      "     |      inode\n",
      "     |  \n",
      "     |  st_mode\n",
      "     |      protection bits\n",
      "     |  \n",
      "     |  st_mtime\n",
      "     |      time of last modification\n",
      "     |  \n",
      "     |  st_mtime_ns\n",
      "     |      time of last modification in nanoseconds\n",
      "     |  \n",
      "     |  st_nlink\n",
      "     |      number of hard links\n",
      "     |  \n",
      "     |  st_rdev\n",
      "     |      device type (if inode device)\n",
      "     |  \n",
      "     |  st_size\n",
      "     |      total size, in bytes\n",
      "     |  \n",
      "     |  st_uid\n",
      "     |      user ID of owner\n",
      "     |  \n",
      "     |  ----------------------------------------------------------------------\n",
      "     |  Data and other attributes defined here:\n",
      "     |  \n",
      "     |  n_fields = 19\n",
      "     |  \n",
      "     |  n_sequence_fields = 10\n",
      "     |  \n",
      "     |  n_unnamed_fields = 3\n",
      "     |  \n",
      "     |  ----------------------------------------------------------------------\n",
      "     |  Methods inherited from builtins.tuple:\n",
      "     |  \n",
      "     |  __add__(self, value, /)\n",
      "     |      Return self+value.\n",
      "     |  \n",
      "     |  __contains__(self, key, /)\n",
      "     |      Return key in self.\n",
      "     |  \n",
      "     |  __eq__(self, value, /)\n",
      "     |      Return self==value.\n",
      "     |  \n",
      "     |  __ge__(self, value, /)\n",
      "     |      Return self>=value.\n",
      "     |  \n",
      "     |  __getattribute__(self, name, /)\n",
      "     |      Return getattr(self, name).\n",
      "     |  \n",
      "     |  __getitem__(self, key, /)\n",
      "     |      Return self[key].\n",
      "     |  \n",
      "     |  __getnewargs__(self, /)\n",
      "     |  \n",
      "     |  __gt__(self, value, /)\n",
      "     |      Return self>value.\n",
      "     |  \n",
      "     |  __hash__(self, /)\n",
      "     |      Return hash(self).\n",
      "     |  \n",
      "     |  __iter__(self, /)\n",
      "     |      Implement iter(self).\n",
      "     |  \n",
      "     |  __le__(self, value, /)\n",
      "     |      Return self<=value.\n",
      "     |  \n",
      "     |  __len__(self, /)\n",
      "     |      Return len(self).\n",
      "     |  \n",
      "     |  __lt__(self, value, /)\n",
      "     |      Return self<value.\n",
      "     |  \n",
      "     |  __mul__(self, value, /)\n",
      "     |      Return self*value.\n",
      "     |  \n",
      "     |  __ne__(self, value, /)\n",
      "     |      Return self!=value.\n",
      "     |  \n",
      "     |  __rmul__(self, value, /)\n",
      "     |      Return value*self.\n",
      "     |  \n",
      "     |  count(self, value, /)\n",
      "     |      Return number of occurrences of value.\n",
      "     |  \n",
      "     |  index(self, value, start=0, stop=9223372036854775807, /)\n",
      "     |      Return first index of value.\n",
      "     |      \n",
      "     |      Raises ValueError if the value is not present.\n",
      "    \n",
      "    class statvfs_result(builtins.tuple)\n",
      "     |  statvfs_result(iterable=(), /)\n",
      "     |  \n",
      "     |  statvfs_result: Result from statvfs or fstatvfs.\n",
      "     |  \n",
      "     |  This object may be accessed either as a tuple of\n",
      "     |    (bsize, frsize, blocks, bfree, bavail, files, ffree, favail, flag, namemax),\n",
      "     |  or via the attributes f_bsize, f_frsize, f_blocks, f_bfree, and so on.\n",
      "     |  \n",
      "     |  See os.statvfs for more information.\n",
      "     |  \n",
      "     |  Method resolution order:\n",
      "     |      statvfs_result\n",
      "     |      builtins.tuple\n",
      "     |      builtins.object\n",
      "     |  \n",
      "     |  Methods defined here:\n",
      "     |  \n",
      "     |  __reduce__(...)\n",
      "     |      Helper for pickle.\n",
      "     |  \n",
      "     |  __repr__(self, /)\n",
      "     |      Return repr(self).\n",
      "     |  \n",
      "     |  ----------------------------------------------------------------------\n",
      "     |  Static methods defined here:\n",
      "     |  \n",
      "     |  __new__(*args, **kwargs) from builtins.type\n",
      "     |      Create and return a new object.  See help(type) for accurate signature.\n",
      "     |  \n",
      "     |  ----------------------------------------------------------------------\n",
      "     |  Data descriptors defined here:\n",
      "     |  \n",
      "     |  f_bavail\n",
      "     |  \n",
      "     |  f_bfree\n",
      "     |  \n",
      "     |  f_blocks\n",
      "     |  \n",
      "     |  f_bsize\n",
      "     |  \n",
      "     |  f_favail\n",
      "     |  \n",
      "     |  f_ffree\n",
      "     |  \n",
      "     |  f_files\n",
      "     |  \n",
      "     |  f_flag\n",
      "     |  \n",
      "     |  f_frsize\n",
      "     |  \n",
      "     |  f_fsid\n",
      "     |  \n",
      "     |  f_namemax\n",
      "     |  \n",
      "     |  ----------------------------------------------------------------------\n",
      "     |  Data and other attributes defined here:\n",
      "     |  \n",
      "     |  n_fields = 11\n",
      "     |  \n",
      "     |  n_sequence_fields = 10\n",
      "     |  \n",
      "     |  n_unnamed_fields = 0\n",
      "     |  \n",
      "     |  ----------------------------------------------------------------------\n",
      "     |  Methods inherited from builtins.tuple:\n",
      "     |  \n",
      "     |  __add__(self, value, /)\n",
      "     |      Return self+value.\n",
      "     |  \n",
      "     |  __contains__(self, key, /)\n",
      "     |      Return key in self.\n",
      "     |  \n",
      "     |  __eq__(self, value, /)\n",
      "     |      Return self==value.\n",
      "     |  \n",
      "     |  __ge__(self, value, /)\n",
      "     |      Return self>=value.\n",
      "     |  \n",
      "     |  __getattribute__(self, name, /)\n",
      "     |      Return getattr(self, name).\n",
      "     |  \n",
      "     |  __getitem__(self, key, /)\n",
      "     |      Return self[key].\n",
      "     |  \n",
      "     |  __getnewargs__(self, /)\n",
      "     |  \n",
      "     |  __gt__(self, value, /)\n",
      "     |      Return self>value.\n",
      "     |  \n",
      "     |  __hash__(self, /)\n",
      "     |      Return hash(self).\n",
      "     |  \n",
      "     |  __iter__(self, /)\n",
      "     |      Implement iter(self).\n",
      "     |  \n",
      "     |  __le__(self, value, /)\n",
      "     |      Return self<=value.\n",
      "     |  \n",
      "     |  __len__(self, /)\n",
      "     |      Return len(self).\n",
      "     |  \n",
      "     |  __lt__(self, value, /)\n",
      "     |      Return self<value.\n",
      "     |  \n",
      "     |  __mul__(self, value, /)\n",
      "     |      Return self*value.\n",
      "     |  \n",
      "     |  __ne__(self, value, /)\n",
      "     |      Return self!=value.\n",
      "     |  \n",
      "     |  __rmul__(self, value, /)\n",
      "     |      Return value*self.\n",
      "     |  \n",
      "     |  count(self, value, /)\n",
      "     |      Return number of occurrences of value.\n",
      "     |  \n",
      "     |  index(self, value, start=0, stop=9223372036854775807, /)\n",
      "     |      Return first index of value.\n",
      "     |      \n",
      "     |      Raises ValueError if the value is not present.\n",
      "    \n",
      "    class terminal_size(builtins.tuple)\n",
      "     |  terminal_size(iterable=(), /)\n",
      "     |  \n",
      "     |  A tuple of (columns, lines) for holding terminal window size\n",
      "     |  \n",
      "     |  Method resolution order:\n",
      "     |      terminal_size\n",
      "     |      builtins.tuple\n",
      "     |      builtins.object\n",
      "     |  \n",
      "     |  Methods defined here:\n",
      "     |  \n",
      "     |  __reduce__(...)\n",
      "     |      Helper for pickle.\n",
      "     |  \n",
      "     |  __repr__(self, /)\n",
      "     |      Return repr(self).\n",
      "     |  \n",
      "     |  ----------------------------------------------------------------------\n",
      "     |  Static methods defined here:\n",
      "     |  \n",
      "     |  __new__(*args, **kwargs) from builtins.type\n",
      "     |      Create and return a new object.  See help(type) for accurate signature.\n",
      "     |  \n",
      "     |  ----------------------------------------------------------------------\n",
      "     |  Data descriptors defined here:\n",
      "     |  \n",
      "     |  columns\n",
      "     |      width of the terminal window in characters\n",
      "     |  \n",
      "     |  lines\n",
      "     |      height of the terminal window in characters\n",
      "     |  \n",
      "     |  ----------------------------------------------------------------------\n",
      "     |  Data and other attributes defined here:\n",
      "     |  \n",
      "     |  n_fields = 2\n",
      "     |  \n",
      "     |  n_sequence_fields = 2\n",
      "     |  \n",
      "     |  n_unnamed_fields = 0\n",
      "     |  \n",
      "     |  ----------------------------------------------------------------------\n",
      "     |  Methods inherited from builtins.tuple:\n",
      "     |  \n",
      "     |  __add__(self, value, /)\n",
      "     |      Return self+value.\n",
      "     |  \n",
      "     |  __contains__(self, key, /)\n",
      "     |      Return key in self.\n",
      "     |  \n",
      "     |  __eq__(self, value, /)\n",
      "     |      Return self==value.\n",
      "     |  \n",
      "     |  __ge__(self, value, /)\n",
      "     |      Return self>=value.\n",
      "     |  \n",
      "     |  __getattribute__(self, name, /)\n",
      "     |      Return getattr(self, name).\n",
      "     |  \n",
      "     |  __getitem__(self, key, /)\n",
      "     |      Return self[key].\n",
      "     |  \n",
      "     |  __getnewargs__(self, /)\n",
      "     |  \n",
      "     |  __gt__(self, value, /)\n",
      "     |      Return self>value.\n",
      "     |  \n",
      "     |  __hash__(self, /)\n",
      "     |      Return hash(self).\n",
      "     |  \n",
      "     |  __iter__(self, /)\n",
      "     |      Implement iter(self).\n",
      "     |  \n",
      "     |  __le__(self, value, /)\n",
      "     |      Return self<=value.\n",
      "     |  \n",
      "     |  __len__(self, /)\n",
      "     |      Return len(self).\n",
      "     |  \n",
      "     |  __lt__(self, value, /)\n",
      "     |      Return self<value.\n",
      "     |  \n",
      "     |  __mul__(self, value, /)\n",
      "     |      Return self*value.\n",
      "     |  \n",
      "     |  __ne__(self, value, /)\n",
      "     |      Return self!=value.\n",
      "     |  \n",
      "     |  __rmul__(self, value, /)\n",
      "     |      Return value*self.\n",
      "     |  \n",
      "     |  count(self, value, /)\n",
      "     |      Return number of occurrences of value.\n",
      "     |  \n",
      "     |  index(self, value, start=0, stop=9223372036854775807, /)\n",
      "     |      Return first index of value.\n",
      "     |      \n",
      "     |      Raises ValueError if the value is not present.\n",
      "    \n",
      "    class times_result(builtins.tuple)\n",
      "     |  times_result(iterable=(), /)\n",
      "     |  \n",
      "     |  times_result: Result from os.times().\n",
      "     |  \n",
      "     |  This object may be accessed either as a tuple of\n",
      "     |    (user, system, children_user, children_system, elapsed),\n",
      "     |  or via the attributes user, system, children_user, children_system,\n",
      "     |  and elapsed.\n",
      "     |  \n",
      "     |  See os.times for more information.\n",
      "     |  \n",
      "     |  Method resolution order:\n",
      "     |      times_result\n",
      "     |      builtins.tuple\n",
      "     |      builtins.object\n",
      "     |  \n",
      "     |  Methods defined here:\n",
      "     |  \n",
      "     |  __reduce__(...)\n",
      "     |      Helper for pickle.\n",
      "     |  \n",
      "     |  __repr__(self, /)\n",
      "     |      Return repr(self).\n",
      "     |  \n",
      "     |  ----------------------------------------------------------------------\n",
      "     |  Static methods defined here:\n",
      "     |  \n",
      "     |  __new__(*args, **kwargs) from builtins.type\n",
      "     |      Create and return a new object.  See help(type) for accurate signature.\n",
      "     |  \n",
      "     |  ----------------------------------------------------------------------\n",
      "     |  Data descriptors defined here:\n",
      "     |  \n",
      "     |  children_system\n",
      "     |      system time of children\n",
      "     |  \n",
      "     |  children_user\n",
      "     |      user time of children\n",
      "     |  \n",
      "     |  elapsed\n",
      "     |      elapsed time since an arbitrary point in the past\n",
      "     |  \n",
      "     |  system\n",
      "     |      system time\n",
      "     |  \n",
      "     |  user\n",
      "     |      user time\n",
      "     |  \n",
      "     |  ----------------------------------------------------------------------\n",
      "     |  Data and other attributes defined here:\n",
      "     |  \n",
      "     |  n_fields = 5\n",
      "     |  \n",
      "     |  n_sequence_fields = 5\n",
      "     |  \n",
      "     |  n_unnamed_fields = 0\n",
      "     |  \n",
      "     |  ----------------------------------------------------------------------\n",
      "     |  Methods inherited from builtins.tuple:\n",
      "     |  \n",
      "     |  __add__(self, value, /)\n",
      "     |      Return self+value.\n",
      "     |  \n",
      "     |  __contains__(self, key, /)\n",
      "     |      Return key in self.\n",
      "     |  \n",
      "     |  __eq__(self, value, /)\n",
      "     |      Return self==value.\n",
      "     |  \n",
      "     |  __ge__(self, value, /)\n",
      "     |      Return self>=value.\n",
      "     |  \n",
      "     |  __getattribute__(self, name, /)\n",
      "     |      Return getattr(self, name).\n",
      "     |  \n",
      "     |  __getitem__(self, key, /)\n",
      "     |      Return self[key].\n",
      "     |  \n",
      "     |  __getnewargs__(self, /)\n",
      "     |  \n",
      "     |  __gt__(self, value, /)\n",
      "     |      Return self>value.\n",
      "     |  \n",
      "     |  __hash__(self, /)\n",
      "     |      Return hash(self).\n",
      "     |  \n",
      "     |  __iter__(self, /)\n",
      "     |      Implement iter(self).\n",
      "     |  \n",
      "     |  __le__(self, value, /)\n",
      "     |      Return self<=value.\n",
      "     |  \n",
      "     |  __len__(self, /)\n",
      "     |      Return len(self).\n",
      "     |  \n",
      "     |  __lt__(self, value, /)\n",
      "     |      Return self<value.\n",
      "     |  \n",
      "     |  __mul__(self, value, /)\n",
      "     |      Return self*value.\n",
      "     |  \n",
      "     |  __ne__(self, value, /)\n",
      "     |      Return self!=value.\n",
      "     |  \n",
      "     |  __rmul__(self, value, /)\n",
      "     |      Return value*self.\n",
      "     |  \n",
      "     |  count(self, value, /)\n",
      "     |      Return number of occurrences of value.\n",
      "     |  \n",
      "     |  index(self, value, start=0, stop=9223372036854775807, /)\n",
      "     |      Return first index of value.\n",
      "     |      \n",
      "     |      Raises ValueError if the value is not present.\n",
      "    \n",
      "    class uname_result(builtins.tuple)\n",
      "     |  uname_result(iterable=(), /)\n",
      "     |  \n",
      "     |  uname_result: Result from os.uname().\n",
      "     |  \n",
      "     |  This object may be accessed either as a tuple of\n",
      "     |    (sysname, nodename, release, version, machine),\n",
      "     |  or via the attributes sysname, nodename, release, version, and machine.\n",
      "     |  \n",
      "     |  See os.uname for more information.\n",
      "     |  \n",
      "     |  Method resolution order:\n",
      "     |      uname_result\n",
      "     |      builtins.tuple\n",
      "     |      builtins.object\n",
      "     |  \n",
      "     |  Methods defined here:\n",
      "     |  \n",
      "     |  __reduce__(...)\n",
      "     |      Helper for pickle.\n",
      "     |  \n",
      "     |  __repr__(self, /)\n",
      "     |      Return repr(self).\n",
      "     |  \n",
      "     |  ----------------------------------------------------------------------\n",
      "     |  Static methods defined here:\n",
      "     |  \n",
      "     |  __new__(*args, **kwargs) from builtins.type\n",
      "     |      Create and return a new object.  See help(type) for accurate signature.\n",
      "     |  \n",
      "     |  ----------------------------------------------------------------------\n",
      "     |  Data descriptors defined here:\n",
      "     |  \n",
      "     |  machine\n",
      "     |      hardware identifier\n",
      "     |  \n",
      "     |  nodename\n",
      "     |      name of machine on network (implementation-defined)\n",
      "     |  \n",
      "     |  release\n",
      "     |      operating system release\n",
      "     |  \n",
      "     |  sysname\n",
      "     |      operating system name\n",
      "     |  \n",
      "     |  version\n",
      "     |      operating system version\n",
      "     |  \n",
      "     |  ----------------------------------------------------------------------\n",
      "     |  Data and other attributes defined here:\n",
      "     |  \n",
      "     |  n_fields = 5\n",
      "     |  \n",
      "     |  n_sequence_fields = 5\n",
      "     |  \n",
      "     |  n_unnamed_fields = 0\n",
      "     |  \n",
      "     |  ----------------------------------------------------------------------\n",
      "     |  Methods inherited from builtins.tuple:\n",
      "     |  \n",
      "     |  __add__(self, value, /)\n",
      "     |      Return self+value.\n",
      "     |  \n",
      "     |  __contains__(self, key, /)\n",
      "     |      Return key in self.\n",
      "     |  \n",
      "     |  __eq__(self, value, /)\n",
      "     |      Return self==value.\n",
      "     |  \n",
      "     |  __ge__(self, value, /)\n",
      "     |      Return self>=value.\n",
      "     |  \n",
      "     |  __getattribute__(self, name, /)\n",
      "     |      Return getattr(self, name).\n",
      "     |  \n",
      "     |  __getitem__(self, key, /)\n",
      "     |      Return self[key].\n",
      "     |  \n",
      "     |  __getnewargs__(self, /)\n",
      "     |  \n",
      "     |  __gt__(self, value, /)\n",
      "     |      Return self>value.\n",
      "     |  \n",
      "     |  __hash__(self, /)\n",
      "     |      Return hash(self).\n",
      "     |  \n",
      "     |  __iter__(self, /)\n",
      "     |      Implement iter(self).\n",
      "     |  \n",
      "     |  __le__(self, value, /)\n",
      "     |      Return self<=value.\n",
      "     |  \n",
      "     |  __len__(self, /)\n",
      "     |      Return len(self).\n",
      "     |  \n",
      "     |  __lt__(self, value, /)\n",
      "     |      Return self<value.\n",
      "     |  \n",
      "     |  __mul__(self, value, /)\n",
      "     |      Return self*value.\n",
      "     |  \n",
      "     |  __ne__(self, value, /)\n",
      "     |      Return self!=value.\n",
      "     |  \n",
      "     |  __rmul__(self, value, /)\n",
      "     |      Return value*self.\n",
      "     |  \n",
      "     |  count(self, value, /)\n",
      "     |      Return number of occurrences of value.\n",
      "     |  \n",
      "     |  index(self, value, start=0, stop=9223372036854775807, /)\n",
      "     |      Return first index of value.\n",
      "     |      \n",
      "     |      Raises ValueError if the value is not present.\n",
      "    \n",
      "    class waitid_result(builtins.tuple)\n",
      "     |  waitid_result(iterable=(), /)\n",
      "     |  \n",
      "     |  waitid_result: Result from waitid.\n",
      "     |  \n",
      "     |  This object may be accessed either as a tuple of\n",
      "     |    (si_pid, si_uid, si_signo, si_status, si_code),\n",
      "     |  or via the attributes si_pid, si_uid, and so on.\n",
      "     |  \n",
      "     |  See os.waitid for more information.\n",
      "     |  \n",
      "     |  Method resolution order:\n",
      "     |      waitid_result\n",
      "     |      builtins.tuple\n",
      "     |      builtins.object\n",
      "     |  \n",
      "     |  Methods defined here:\n",
      "     |  \n",
      "     |  __reduce__(...)\n",
      "     |      Helper for pickle.\n",
      "     |  \n",
      "     |  __repr__(self, /)\n",
      "     |      Return repr(self).\n",
      "     |  \n",
      "     |  ----------------------------------------------------------------------\n",
      "     |  Static methods defined here:\n",
      "     |  \n",
      "     |  __new__(*args, **kwargs) from builtins.type\n",
      "     |      Create and return a new object.  See help(type) for accurate signature.\n",
      "     |  \n",
      "     |  ----------------------------------------------------------------------\n",
      "     |  Data descriptors defined here:\n",
      "     |  \n",
      "     |  si_code\n",
      "     |  \n",
      "     |  si_pid\n",
      "     |  \n",
      "     |  si_signo\n",
      "     |  \n",
      "     |  si_status\n",
      "     |  \n",
      "     |  si_uid\n",
      "     |  \n",
      "     |  ----------------------------------------------------------------------\n",
      "     |  Data and other attributes defined here:\n",
      "     |  \n",
      "     |  n_fields = 5\n",
      "     |  \n",
      "     |  n_sequence_fields = 5\n",
      "     |  \n",
      "     |  n_unnamed_fields = 0\n",
      "     |  \n",
      "     |  ----------------------------------------------------------------------\n",
      "     |  Methods inherited from builtins.tuple:\n",
      "     |  \n",
      "     |  __add__(self, value, /)\n",
      "     |      Return self+value.\n",
      "     |  \n",
      "     |  __contains__(self, key, /)\n",
      "     |      Return key in self.\n",
      "     |  \n",
      "     |  __eq__(self, value, /)\n",
      "     |      Return self==value.\n",
      "     |  \n",
      "     |  __ge__(self, value, /)\n",
      "     |      Return self>=value.\n",
      "     |  \n",
      "     |  __getattribute__(self, name, /)\n",
      "     |      Return getattr(self, name).\n",
      "     |  \n",
      "     |  __getitem__(self, key, /)\n",
      "     |      Return self[key].\n",
      "     |  \n",
      "     |  __getnewargs__(self, /)\n",
      "     |  \n",
      "     |  __gt__(self, value, /)\n",
      "     |      Return self>value.\n",
      "     |  \n",
      "     |  __hash__(self, /)\n",
      "     |      Return hash(self).\n",
      "     |  \n",
      "     |  __iter__(self, /)\n",
      "     |      Implement iter(self).\n",
      "     |  \n",
      "     |  __le__(self, value, /)\n",
      "     |      Return self<=value.\n",
      "     |  \n",
      "     |  __len__(self, /)\n",
      "     |      Return len(self).\n",
      "     |  \n",
      "     |  __lt__(self, value, /)\n",
      "     |      Return self<value.\n",
      "     |  \n",
      "     |  __mul__(self, value, /)\n",
      "     |      Return self*value.\n",
      "     |  \n",
      "     |  __ne__(self, value, /)\n",
      "     |      Return self!=value.\n",
      "     |  \n",
      "     |  __rmul__(self, value, /)\n",
      "     |      Return value*self.\n",
      "     |  \n",
      "     |  count(self, value, /)\n",
      "     |      Return number of occurrences of value.\n",
      "     |  \n",
      "     |  index(self, value, start=0, stop=9223372036854775807, /)\n",
      "     |      Return first index of value.\n",
      "     |      \n",
      "     |      Raises ValueError if the value is not present.\n",
      "\n",
      "FUNCTIONS\n",
      "    WCOREDUMP(status, /)\n",
      "        Return True if the process returning status was dumped to a core file.\n",
      "    \n",
      "    WEXITSTATUS(status)\n",
      "        Return the process return code from status.\n",
      "    \n",
      "    WIFCONTINUED(status)\n",
      "        Return True if a particular process was continued from a job control stop.\n",
      "        \n",
      "        Return True if the process returning status was continued from a\n",
      "        job control stop.\n",
      "    \n",
      "    WIFEXITED(status)\n",
      "        Return True if the process returning status exited via the exit() system call.\n",
      "    \n",
      "    WIFSIGNALED(status)\n",
      "        Return True if the process returning status was terminated by a signal.\n",
      "    \n",
      "    WIFSTOPPED(status)\n",
      "        Return True if the process returning status was stopped.\n",
      "    \n",
      "    WSTOPSIG(status)\n",
      "        Return the signal that stopped the process that provided the status value.\n",
      "    \n",
      "    WTERMSIG(status)\n",
      "        Return the signal that terminated the process that provided the status value.\n",
      "    \n",
      "    _exit(status)\n",
      "        Exit to the system with specified status, without normal exit processing.\n",
      "    \n",
      "    abort()\n",
      "        Abort the interpreter immediately.\n",
      "        \n",
      "        This function 'dumps core' or otherwise fails in the hardest way possible\n",
      "        on the hosting operating system.  This function never returns.\n",
      "    \n",
      "    access(path, mode, *, dir_fd=None, effective_ids=False, follow_symlinks=True)\n",
      "        Use the real uid/gid to test for access to a path.\n",
      "        \n",
      "          path\n",
      "            Path to be tested; can be string, bytes, or a path-like object.\n",
      "          mode\n",
      "            Operating-system mode bitfield.  Can be F_OK to test existence,\n",
      "            or the inclusive-OR of R_OK, W_OK, and X_OK.\n",
      "          dir_fd\n",
      "            If not None, it should be a file descriptor open to a directory,\n",
      "            and path should be relative; path will then be relative to that\n",
      "            directory.\n",
      "          effective_ids\n",
      "            If True, access will use the effective uid/gid instead of\n",
      "            the real uid/gid.\n",
      "          follow_symlinks\n",
      "            If False, and the last element of the path is a symbolic link,\n",
      "            access will examine the symbolic link itself instead of the file\n",
      "            the link points to.\n",
      "        \n",
      "        dir_fd, effective_ids, and follow_symlinks may not be implemented\n",
      "          on your platform.  If they are unavailable, using them will raise a\n",
      "          NotImplementedError.\n",
      "        \n",
      "        Note that most operations will use the effective uid/gid, therefore this\n",
      "          routine can be used in a suid/sgid environment to test if the invoking user\n",
      "          has the specified access to the path.\n",
      "    \n",
      "    chdir(path)\n",
      "        Change the current working directory to the specified path.\n",
      "        \n",
      "        path may always be specified as a string.\n",
      "        On some platforms, path may also be specified as an open file descriptor.\n",
      "          If this functionality is unavailable, using it raises an exception.\n",
      "    \n",
      "    chmod(path, mode, *, dir_fd=None, follow_symlinks=True)\n",
      "        Change the access permissions of a file.\n",
      "        \n",
      "          path\n",
      "            Path to be modified.  May always be specified as a str, bytes, or a path-like object.\n",
      "            On some platforms, path may also be specified as an open file descriptor.\n",
      "            If this functionality is unavailable, using it raises an exception.\n",
      "          mode\n",
      "            Operating-system mode bitfield.\n",
      "          dir_fd\n",
      "            If not None, it should be a file descriptor open to a directory,\n",
      "            and path should be relative; path will then be relative to that\n",
      "            directory.\n",
      "          follow_symlinks\n",
      "            If False, and the last element of the path is a symbolic link,\n",
      "            chmod will modify the symbolic link itself instead of the file\n",
      "            the link points to.\n",
      "        \n",
      "        It is an error to use dir_fd or follow_symlinks when specifying path as\n",
      "          an open file descriptor.\n",
      "        dir_fd and follow_symlinks may not be implemented on your platform.\n",
      "          If they are unavailable, using them will raise a NotImplementedError.\n",
      "    \n",
      "    chown(path, uid, gid, *, dir_fd=None, follow_symlinks=True)\n",
      "        Change the owner and group id of path to the numeric uid and gid.\\\n",
      "        \n",
      "          path\n",
      "            Path to be examined; can be string, bytes, a path-like object, or open-file-descriptor int.\n",
      "          dir_fd\n",
      "            If not None, it should be a file descriptor open to a directory,\n",
      "            and path should be relative; path will then be relative to that\n",
      "            directory.\n",
      "          follow_symlinks\n",
      "            If False, and the last element of the path is a symbolic link,\n",
      "            stat will examine the symbolic link itself instead of the file\n",
      "            the link points to.\n",
      "        \n",
      "        path may always be specified as a string.\n",
      "        On some platforms, path may also be specified as an open file descriptor.\n",
      "          If this functionality is unavailable, using it raises an exception.\n",
      "        If dir_fd is not None, it should be a file descriptor open to a directory,\n",
      "          and path should be relative; path will then be relative to that directory.\n",
      "        If follow_symlinks is False, and the last element of the path is a symbolic\n",
      "          link, chown will modify the symbolic link itself instead of the file the\n",
      "          link points to.\n",
      "        It is an error to use dir_fd or follow_symlinks when specifying path as\n",
      "          an open file descriptor.\n",
      "        dir_fd and follow_symlinks may not be implemented on your platform.\n",
      "          If they are unavailable, using them will raise a NotImplementedError.\n",
      "    \n",
      "    chroot(path)\n",
      "        Change root directory to path.\n",
      "    \n",
      "    close(fd)\n",
      "        Close a file descriptor.\n",
      "    \n",
      "    closerange(fd_low, fd_high, /)\n",
      "        Closes all file descriptors in [fd_low, fd_high), ignoring errors.\n",
      "    \n",
      "    confstr(name, /)\n",
      "        Return a string-valued system configuration variable.\n",
      "    \n",
      "    copy_file_range(src, dst, count, offset_src=None, offset_dst=None)\n",
      "        Copy count bytes from one file descriptor to another.\n",
      "        \n",
      "          src\n",
      "            Source file descriptor.\n",
      "          dst\n",
      "            Destination file descriptor.\n",
      "          count\n",
      "            Number of bytes to copy.\n",
      "          offset_src\n",
      "            Starting offset in src.\n",
      "          offset_dst\n",
      "            Starting offset in dst.\n",
      "        \n",
      "        If offset_src is None, then src is read from the current position;\n",
      "        respectively for offset_dst.\n",
      "    \n",
      "    cpu_count()\n",
      "        Return the number of CPUs in the system; return None if indeterminable.\n",
      "        \n",
      "        This number is not equivalent to the number of CPUs the current process can\n",
      "        use.  The number of usable CPUs can be obtained with\n",
      "        ``len(os.sched_getaffinity(0))``\n",
      "    \n",
      "    ctermid()\n",
      "        Return the name of the controlling terminal for this process.\n",
      "    \n",
      "    device_encoding(fd)\n",
      "        Return a string describing the encoding of a terminal's file descriptor.\n",
      "        \n",
      "        The file descriptor must be attached to a terminal.\n",
      "        If the device is not a terminal, return None.\n",
      "    \n",
      "    dup(fd, /)\n",
      "        Return a duplicate of a file descriptor.\n",
      "    \n",
      "    dup2(fd, fd2, inheritable=True)\n",
      "        Duplicate file descriptor.\n",
      "    \n",
      "    execl(file, *args)\n",
      "        execl(file, *args)\n",
      "        \n",
      "        Execute the executable file with argument list args, replacing the\n",
      "        current process.\n",
      "    \n",
      "    execle(file, *args)\n",
      "        execle(file, *args, env)\n",
      "        \n",
      "        Execute the executable file with argument list args and\n",
      "        environment env, replacing the current process.\n",
      "    \n",
      "    execlp(file, *args)\n",
      "        execlp(file, *args)\n",
      "        \n",
      "        Execute the executable file (which is searched for along $PATH)\n",
      "        with argument list args, replacing the current process.\n",
      "    \n",
      "    execlpe(file, *args)\n",
      "        execlpe(file, *args, env)\n",
      "        \n",
      "        Execute the executable file (which is searched for along $PATH)\n",
      "        with argument list args and environment env, replacing the current\n",
      "        process.\n",
      "    \n",
      "    execv(path, argv, /)\n",
      "        Execute an executable path with arguments, replacing current process.\n",
      "        \n",
      "        path\n",
      "          Path of executable file.\n",
      "        argv\n",
      "          Tuple or list of strings.\n",
      "    \n",
      "    execve(path, argv, env)\n",
      "        Execute an executable path with arguments, replacing current process.\n",
      "        \n",
      "        path\n",
      "          Path of executable file.\n",
      "        argv\n",
      "          Tuple or list of strings.\n",
      "        env\n",
      "          Dictionary of strings mapping to strings.\n",
      "    \n",
      "    execvp(file, args)\n",
      "        execvp(file, args)\n",
      "        \n",
      "        Execute the executable file (which is searched for along $PATH)\n",
      "        with argument list args, replacing the current process.\n",
      "        args may be a list or tuple of strings.\n",
      "    \n",
      "    execvpe(file, args, env)\n",
      "        execvpe(file, args, env)\n",
      "        \n",
      "        Execute the executable file (which is searched for along $PATH)\n",
      "        with argument list args and environment env, replacing the\n",
      "        current process.\n",
      "        args may be a list or tuple of strings.\n",
      "    \n",
      "    fchdir(fd)\n",
      "        Change to the directory of the given file descriptor.\n",
      "        \n",
      "        fd must be opened on a directory, not a file.\n",
      "        Equivalent to os.chdir(fd).\n",
      "    \n",
      "    fchmod(fd, mode)\n",
      "        Change the access permissions of the file given by file descriptor fd.\n",
      "        \n",
      "        Equivalent to os.chmod(fd, mode).\n",
      "    \n",
      "    fchown(fd, uid, gid)\n",
      "        Change the owner and group id of the file specified by file descriptor.\n",
      "        \n",
      "        Equivalent to os.chown(fd, uid, gid).\n",
      "    \n",
      "    fdatasync(fd)\n",
      "        Force write of fd to disk without forcing update of metadata.\n",
      "    \n",
      "    fdopen(fd, *args, **kwargs)\n",
      "        # Supply os.fdopen()\n",
      "    \n",
      "    fork()\n",
      "        Fork a child process.\n",
      "        \n",
      "        Return 0 to child process and PID of child to parent process.\n",
      "    \n",
      "    forkpty()\n",
      "        Fork a new process with a new pseudo-terminal as controlling tty.\n",
      "        \n",
      "        Returns a tuple of (pid, master_fd).\n",
      "        Like fork(), return pid of 0 to the child process,\n",
      "        and pid of child to the parent process.\n",
      "        To both, return fd of newly opened pseudo-terminal.\n",
      "    \n",
      "    fpathconf(fd, name, /)\n",
      "        Return the configuration limit name for the file descriptor fd.\n",
      "        \n",
      "        If there is no limit, return -1.\n",
      "    \n",
      "    fsdecode(filename)\n",
      "        Decode filename (an os.PathLike, bytes, or str) from the filesystem\n",
      "        encoding with 'surrogateescape' error handler, return str unchanged. On\n",
      "        Windows, use 'strict' error handler if the file system encoding is\n",
      "        'mbcs' (which is the default encoding).\n",
      "    \n",
      "    fsencode(filename)\n",
      "        Encode filename (an os.PathLike, bytes, or str) to the filesystem\n",
      "        encoding with 'surrogateescape' error handler, return bytes unchanged.\n",
      "        On Windows, use 'strict' error handler if the file system encoding is\n",
      "        'mbcs' (which is the default encoding).\n",
      "    \n",
      "    fspath(path)\n",
      "        Return the file system path representation of the object.\n",
      "        \n",
      "        If the object is str or bytes, then allow it to pass through as-is. If the\n",
      "        object defines __fspath__(), then return the result of that method. All other\n",
      "        types raise a TypeError.\n",
      "    \n",
      "    fstat(fd)\n",
      "        Perform a stat system call on the given file descriptor.\n",
      "        \n",
      "        Like stat(), but for an open file descriptor.\n",
      "        Equivalent to os.stat(fd).\n",
      "    \n",
      "    fstatvfs(fd, /)\n",
      "        Perform an fstatvfs system call on the given fd.\n",
      "        \n",
      "        Equivalent to statvfs(fd).\n",
      "    \n",
      "    fsync(fd)\n",
      "        Force write of fd to disk.\n",
      "    \n",
      "    ftruncate(fd, length, /)\n",
      "        Truncate a file, specified by file descriptor, to a specific length.\n",
      "    \n",
      "    fwalk(top='.', topdown=True, onerror=None, *, follow_symlinks=False, dir_fd=None)\n",
      "        Directory tree generator.\n",
      "        \n",
      "        This behaves exactly like walk(), except that it yields a 4-tuple\n",
      "        \n",
      "            dirpath, dirnames, filenames, dirfd\n",
      "        \n",
      "        `dirpath`, `dirnames` and `filenames` are identical to walk() output,\n",
      "        and `dirfd` is a file descriptor referring to the directory `dirpath`.\n",
      "        \n",
      "        The advantage of fwalk() over walk() is that it's safe against symlink\n",
      "        races (when follow_symlinks is False).\n",
      "        \n",
      "        If dir_fd is not None, it should be a file descriptor open to a directory,\n",
      "          and top should be relative; top will then be relative to that directory.\n",
      "          (dir_fd is always supported for fwalk.)\n",
      "        \n",
      "        Caution:\n",
      "        Since fwalk() yields file descriptors, those are only valid until the\n",
      "        next iteration step, so you should dup() them if you want to keep them\n",
      "        for a longer period.\n",
      "        \n",
      "        Example:\n",
      "        \n",
      "        import os\n",
      "        for root, dirs, files, rootfd in os.fwalk('python/Lib/email'):\n",
      "            print(root, \"consumes\", end=\"\")\n",
      "            print(sum(os.stat(name, dir_fd=rootfd).st_size for name in files),\n",
      "                  end=\"\")\n",
      "            print(\"bytes in\", len(files), \"non-directory files\")\n",
      "            if 'CVS' in dirs:\n",
      "                dirs.remove('CVS')  # don't visit CVS directories\n",
      "    \n",
      "    get_blocking(fd, /)\n",
      "        Get the blocking mode of the file descriptor.\n",
      "        \n",
      "        Return False if the O_NONBLOCK flag is set, True if the flag is cleared.\n",
      "    \n",
      "    get_exec_path(env=None)\n",
      "        Returns the sequence of directories that will be searched for the\n",
      "        named executable (similar to a shell) when launching a process.\n",
      "        \n",
      "        *env* must be an environment variable dict or None.  If *env* is None,\n",
      "        os.environ will be used.\n",
      "    \n",
      "    get_inheritable(fd, /)\n",
      "        Get the close-on-exe flag of the specified file descriptor.\n",
      "    \n",
      "    get_terminal_size(...)\n",
      "        Return the size of the terminal window as (columns, lines).\n",
      "        \n",
      "        The optional argument fd (default standard output) specifies\n",
      "        which file descriptor should be queried.\n",
      "        \n",
      "        If the file descriptor is not connected to a terminal, an OSError\n",
      "        is thrown.\n",
      "        \n",
      "        This function will only be defined if an implementation is\n",
      "        available for this system.\n",
      "        \n",
      "        shutil.get_terminal_size is the high-level function which should\n",
      "        normally be used, os.get_terminal_size is the low-level implementation.\n",
      "    \n",
      "    getcwd()\n",
      "        Return a unicode string representing the current working directory.\n",
      "    \n",
      "    getcwdb()\n",
      "        Return a bytes string representing the current working directory.\n",
      "    \n",
      "    getegid()\n",
      "        Return the current process's effective group id.\n",
      "    \n",
      "    getenv(key, default=None)\n",
      "        Get an environment variable, return None if it doesn't exist.\n",
      "        The optional second argument can specify an alternate default.\n",
      "        key, default and the result are str.\n",
      "    \n",
      "    getenvb(key, default=None)\n",
      "        Get an environment variable, return None if it doesn't exist.\n",
      "        The optional second argument can specify an alternate default.\n",
      "        key, default and the result are bytes.\n",
      "    \n",
      "    geteuid()\n",
      "        Return the current process's effective user id.\n",
      "    \n",
      "    getgid()\n",
      "        Return the current process's group id.\n",
      "    \n",
      "    getgrouplist(...)\n",
      "        getgrouplist(user, group) -> list of groups to which a user belongs\n",
      "        \n",
      "        Returns a list of groups to which a user belongs.\n",
      "        \n",
      "            user: username to lookup\n",
      "            group: base group id of the user\n",
      "    \n",
      "    getgroups()\n",
      "        Return list of supplemental group IDs for the process.\n",
      "    \n",
      "    getloadavg()\n",
      "        Return average recent system load information.\n",
      "        \n",
      "        Return the number of processes in the system run queue averaged over\n",
      "        the last 1, 5, and 15 minutes as a tuple of three floats.\n",
      "        Raises OSError if the load average was unobtainable.\n",
      "    \n",
      "    getlogin()\n",
      "        Return the actual login name.\n",
      "    \n",
      "    getpgid(pid)\n",
      "        Call the system call getpgid(), and return the result.\n",
      "    \n",
      "    getpgrp()\n",
      "        Return the current process group id.\n",
      "    \n",
      "    getpid()\n",
      "        Return the current process id.\n",
      "    \n",
      "    getppid()\n",
      "        Return the parent's process id.\n",
      "        \n",
      "        If the parent process has already exited, Windows machines will still\n",
      "        return its id; others systems will return the id of the 'init' process (1).\n",
      "    \n",
      "    getpriority(which, who)\n",
      "        Return program scheduling priority.\n",
      "    \n",
      "    getrandom(size, flags=0)\n",
      "        Obtain a series of random bytes.\n",
      "    \n",
      "    getresgid()\n",
      "        Return a tuple of the current process's real, effective, and saved group ids.\n",
      "    \n",
      "    getresuid()\n",
      "        Return a tuple of the current process's real, effective, and saved user ids.\n",
      "    \n",
      "    getsid(pid, /)\n",
      "        Call the system call getsid(pid) and return the result.\n",
      "    \n",
      "    getuid()\n",
      "        Return the current process's user id.\n",
      "    \n",
      "    getxattr(path, attribute, *, follow_symlinks=True)\n",
      "        Return the value of extended attribute attribute on path.\n",
      "        \n",
      "        path may be either a string, a path-like object, or an open file descriptor.\n",
      "        If follow_symlinks is False, and the last element of the path is a symbolic\n",
      "          link, getxattr will examine the symbolic link itself instead of the file\n",
      "          the link points to.\n",
      "    \n",
      "    initgroups(...)\n",
      "        initgroups(username, gid) -> None\n",
      "        \n",
      "        Call the system initgroups() to initialize the group access list with all of\n",
      "        the groups of which the specified username is a member, plus the specified\n",
      "        group id.\n",
      "    \n",
      "    isatty(fd, /)\n",
      "        Return True if the fd is connected to a terminal.\n",
      "        \n",
      "        Return True if the file descriptor is an open file descriptor\n",
      "        connected to the slave end of a terminal.\n",
      "    \n",
      "    kill(pid, signal, /)\n",
      "        Kill a process with a signal.\n",
      "    \n",
      "    killpg(pgid, signal, /)\n",
      "        Kill a process group with a signal.\n",
      "    \n",
      "    lchown(path, uid, gid)\n",
      "        Change the owner and group id of path to the numeric uid and gid.\n",
      "        \n",
      "        This function will not follow symbolic links.\n",
      "        Equivalent to os.chown(path, uid, gid, follow_symlinks=False).\n",
      "    \n",
      "    link(src, dst, *, src_dir_fd=None, dst_dir_fd=None, follow_symlinks=True)\n",
      "        Create a hard link to a file.\n",
      "        \n",
      "        If either src_dir_fd or dst_dir_fd is not None, it should be a file\n",
      "          descriptor open to a directory, and the respective path string (src or dst)\n",
      "          should be relative; the path will then be relative to that directory.\n",
      "        If follow_symlinks is False, and the last element of src is a symbolic\n",
      "          link, link will create a link to the symbolic link itself instead of the\n",
      "          file the link points to.\n",
      "        src_dir_fd, dst_dir_fd, and follow_symlinks may not be implemented on your\n",
      "          platform.  If they are unavailable, using them will raise a\n",
      "          NotImplementedError.\n",
      "    \n",
      "    listdir(path=None)\n",
      "        Return a list containing the names of the files in the directory.\n",
      "        \n",
      "        path can be specified as either str, bytes, or a path-like object.  If path is bytes,\n",
      "          the filenames returned will also be bytes; in all other circumstances\n",
      "          the filenames returned will be str.\n",
      "        If path is None, uses the path='.'.\n",
      "        On some platforms, path may also be specified as an open file descriptor;\\\n",
      "          the file descriptor must refer to a directory.\n",
      "          If this functionality is unavailable, using it raises NotImplementedError.\n",
      "        \n",
      "        The list is in arbitrary order.  It does not include the special\n",
      "        entries '.' and '..' even if they are present in the directory.\n",
      "    \n",
      "    listxattr(path=None, *, follow_symlinks=True)\n",
      "        Return a list of extended attributes on path.\n",
      "        \n",
      "        path may be either None, a string, a path-like object, or an open file descriptor.\n",
      "        if path is None, listxattr will examine the current directory.\n",
      "        If follow_symlinks is False, and the last element of the path is a symbolic\n",
      "          link, listxattr will examine the symbolic link itself instead of the file\n",
      "          the link points to.\n",
      "    \n",
      "    lockf(fd, command, length, /)\n",
      "        Apply, test or remove a POSIX lock on an open file descriptor.\n",
      "        \n",
      "        fd\n",
      "          An open file descriptor.\n",
      "        command\n",
      "          One of F_LOCK, F_TLOCK, F_ULOCK or F_TEST.\n",
      "        length\n",
      "          The number of bytes to lock, starting at the current position.\n",
      "    \n",
      "    lseek(fd, position, how, /)\n",
      "        Set the position of a file descriptor.  Return the new position.\n",
      "        \n",
      "        Return the new cursor position in number of bytes\n",
      "        relative to the beginning of the file.\n",
      "    \n",
      "    lstat(path, *, dir_fd=None)\n",
      "        Perform a stat system call on the given path, without following symbolic links.\n",
      "        \n",
      "        Like stat(), but do not follow symbolic links.\n",
      "        Equivalent to stat(path, follow_symlinks=False).\n",
      "    \n",
      "    major(device, /)\n",
      "        Extracts a device major number from a raw device number.\n",
      "    \n",
      "    makedev(major, minor, /)\n",
      "        Composes a raw device number from the major and minor device numbers.\n",
      "    \n",
      "    makedirs(name, mode=511, exist_ok=False)\n",
      "        makedirs(name [, mode=0o777][, exist_ok=False])\n",
      "        \n",
      "        Super-mkdir; create a leaf directory and all intermediate ones.  Works like\n",
      "        mkdir, except that any intermediate path segment (not just the rightmost)\n",
      "        will be created if it does not exist. If the target directory already\n",
      "        exists, raise an OSError if exist_ok is False. Otherwise no exception is\n",
      "        raised.  This is recursive.\n",
      "    \n",
      "    memfd_create(name, flags=1)\n",
      "    \n",
      "    minor(device, /)\n",
      "        Extracts a device minor number from a raw device number.\n",
      "    \n",
      "    mkdir(path, mode=511, *, dir_fd=None)\n",
      "        Create a directory.\n",
      "        \n",
      "        If dir_fd is not None, it should be a file descriptor open to a directory,\n",
      "          and path should be relative; path will then be relative to that directory.\n",
      "        dir_fd may not be implemented on your platform.\n",
      "          If it is unavailable, using it will raise a NotImplementedError.\n",
      "        \n",
      "        The mode argument is ignored on Windows.\n",
      "    \n",
      "    mkfifo(path, mode=438, *, dir_fd=None)\n",
      "        Create a \"fifo\" (a POSIX named pipe).\n",
      "        \n",
      "        If dir_fd is not None, it should be a file descriptor open to a directory,\n",
      "          and path should be relative; path will then be relative to that directory.\n",
      "        dir_fd may not be implemented on your platform.\n",
      "          If it is unavailable, using it will raise a NotImplementedError.\n",
      "    \n",
      "    mknod(path, mode=384, device=0, *, dir_fd=None)\n",
      "        Create a node in the file system.\n",
      "        \n",
      "        Create a node in the file system (file, device special file or named pipe)\n",
      "        at path.  mode specifies both the permissions to use and the\n",
      "        type of node to be created, being combined (bitwise OR) with one of\n",
      "        S_IFREG, S_IFCHR, S_IFBLK, and S_IFIFO.  If S_IFCHR or S_IFBLK is set on mode,\n",
      "        device defines the newly created device special file (probably using\n",
      "        os.makedev()).  Otherwise device is ignored.\n",
      "        \n",
      "        If dir_fd is not None, it should be a file descriptor open to a directory,\n",
      "          and path should be relative; path will then be relative to that directory.\n",
      "        dir_fd may not be implemented on your platform.\n",
      "          If it is unavailable, using it will raise a NotImplementedError.\n",
      "    \n",
      "    nice(increment, /)\n",
      "        Add increment to the priority of process and return the new priority.\n",
      "    \n",
      "    open(path, flags, mode=511, *, dir_fd=None)\n",
      "        Open a file for low level IO.  Returns a file descriptor (integer).\n",
      "        \n",
      "        If dir_fd is not None, it should be a file descriptor open to a directory,\n",
      "          and path should be relative; path will then be relative to that directory.\n",
      "        dir_fd may not be implemented on your platform.\n",
      "          If it is unavailable, using it will raise a NotImplementedError.\n",
      "    \n",
      "    openpty()\n",
      "        Open a pseudo-terminal.\n",
      "        \n",
      "        Return a tuple of (master_fd, slave_fd) containing open file descriptors\n",
      "        for both the master and slave ends.\n",
      "    \n",
      "    pathconf(path, name)\n",
      "        Return the configuration limit name for the file or directory path.\n",
      "        \n",
      "        If there is no limit, return -1.\n",
      "        On some platforms, path may also be specified as an open file descriptor.\n",
      "          If this functionality is unavailable, using it raises an exception.\n",
      "    \n",
      "    pipe()\n",
      "        Create a pipe.\n",
      "        \n",
      "        Returns a tuple of two file descriptors:\n",
      "          (read_fd, write_fd)\n",
      "    \n",
      "    pipe2(flags, /)\n",
      "        Create a pipe with flags set atomically.\n",
      "        \n",
      "        Returns a tuple of two file descriptors:\n",
      "          (read_fd, write_fd)\n",
      "        \n",
      "        flags can be constructed by ORing together one or more of these values:\n",
      "        O_NONBLOCK, O_CLOEXEC.\n",
      "    \n",
      "    popen(cmd, mode='r', buffering=-1)\n",
      "        # Supply os.popen()\n",
      "    \n",
      "    posix_fadvise(fd, offset, length, advice, /)\n",
      "        Announce an intention to access data in a specific pattern.\n",
      "        \n",
      "        Announce an intention to access data in a specific pattern, thus allowing\n",
      "        the kernel to make optimizations.\n",
      "        The advice applies to the region of the file specified by fd starting at\n",
      "        offset and continuing for length bytes.\n",
      "        advice is one of POSIX_FADV_NORMAL, POSIX_FADV_SEQUENTIAL,\n",
      "        POSIX_FADV_RANDOM, POSIX_FADV_NOREUSE, POSIX_FADV_WILLNEED, or\n",
      "        POSIX_FADV_DONTNEED.\n",
      "    \n",
      "    posix_fallocate(fd, offset, length, /)\n",
      "        Ensure a file has allocated at least a particular number of bytes on disk.\n",
      "        \n",
      "        Ensure that the file specified by fd encompasses a range of bytes\n",
      "        starting at offset bytes from the beginning and continuing for length bytes.\n",
      "    \n",
      "    posix_spawn(...)\n",
      "        Execute the program specified by path in a new process.\n",
      "        \n",
      "        path\n",
      "          Path of executable file.\n",
      "        argv\n",
      "          Tuple or list of strings.\n",
      "        env\n",
      "          Dictionary of strings mapping to strings.\n",
      "        file_actions\n",
      "          A sequence of file action tuples.\n",
      "        setpgroup\n",
      "          The pgroup to use with the POSIX_SPAWN_SETPGROUP flag.\n",
      "        resetids\n",
      "          If the value is `true` the POSIX_SPAWN_RESETIDS will be activated.\n",
      "        setsid\n",
      "          If the value is `true` the POSIX_SPAWN_SETSID or POSIX_SPAWN_SETSID_NP will be activated.\n",
      "        setsigmask\n",
      "          The sigmask to use with the POSIX_SPAWN_SETSIGMASK flag.\n",
      "        setsigdef\n",
      "          The sigmask to use with the POSIX_SPAWN_SETSIGDEF flag.\n",
      "        scheduler\n",
      "          A tuple with the scheduler policy (optional) and parameters.\n",
      "    \n",
      "    posix_spawnp(...)\n",
      "        Execute the program specified by path in a new process.\n",
      "        \n",
      "        path\n",
      "          Path of executable file.\n",
      "        argv\n",
      "          Tuple or list of strings.\n",
      "        env\n",
      "          Dictionary of strings mapping to strings.\n",
      "        file_actions\n",
      "          A sequence of file action tuples.\n",
      "        setpgroup\n",
      "          The pgroup to use with the POSIX_SPAWN_SETPGROUP flag.\n",
      "        resetids\n",
      "          If the value is `True` the POSIX_SPAWN_RESETIDS will be activated.\n",
      "        setsid\n",
      "          If the value is `True` the POSIX_SPAWN_SETSID or POSIX_SPAWN_SETSID_NP will be activated.\n",
      "        setsigmask\n",
      "          The sigmask to use with the POSIX_SPAWN_SETSIGMASK flag.\n",
      "        setsigdef\n",
      "          The sigmask to use with the POSIX_SPAWN_SETSIGDEF flag.\n",
      "        scheduler\n",
      "          A tuple with the scheduler policy (optional) and parameters.\n",
      "    \n",
      "    pread(fd, length, offset, /)\n",
      "        Read a number of bytes from a file descriptor starting at a particular offset.\n",
      "        \n",
      "        Read length bytes from file descriptor fd, starting at offset bytes from\n",
      "        the beginning of the file.  The file offset remains unchanged.\n",
      "    \n",
      "    preadv(fd, buffers, offset, flags=0, /)\n",
      "        Reads from a file descriptor into a number of mutable bytes-like objects.\n",
      "        \n",
      "        Combines the functionality of readv() and pread(). As readv(), it will\n",
      "        transfer data into each buffer until it is full and then move on to the next\n",
      "        buffer in the sequence to hold the rest of the data. Its fourth argument,\n",
      "        specifies the file offset at which the input operation is to be performed. It\n",
      "        will return the total number of bytes read (which can be less than the total\n",
      "        capacity of all the objects).\n",
      "        \n",
      "        The flags argument contains a bitwise OR of zero or more of the following flags:\n",
      "        \n",
      "        - RWF_HIPRI\n",
      "        - RWF_NOWAIT\n",
      "        \n",
      "        Using non-zero flags requires Linux 4.6 or newer.\n",
      "    \n",
      "    putenv(name, value, /)\n",
      "        Change or add an environment variable.\n",
      "    \n",
      "    pwrite(fd, buffer, offset, /)\n",
      "        Write bytes to a file descriptor starting at a particular offset.\n",
      "        \n",
      "        Write buffer to fd, starting at offset bytes from the beginning of\n",
      "        the file.  Returns the number of bytes writte.  Does not change the\n",
      "        current file offset.\n",
      "    \n",
      "    pwritev(fd, buffers, offset, flags=0, /)\n",
      "        Writes the contents of bytes-like objects to a file descriptor at a given offset.\n",
      "        \n",
      "        Combines the functionality of writev() and pwrite(). All buffers must be a sequence\n",
      "        of bytes-like objects. Buffers are processed in array order. Entire contents of first\n",
      "        buffer is written before proceeding to second, and so on. The operating system may\n",
      "        set a limit (sysconf() value SC_IOV_MAX) on the number of buffers that can be used.\n",
      "        This function writes the contents of each object to the file descriptor and returns\n",
      "        the total number of bytes written.\n",
      "        \n",
      "        The flags argument contains a bitwise OR of zero or more of the following flags:\n",
      "        \n",
      "        - RWF_DSYNC\n",
      "        - RWF_SYNC\n",
      "        \n",
      "        Using non-zero flags requires Linux 4.7 or newer.\n",
      "    \n",
      "    read(fd, length, /)\n",
      "        Read from a file descriptor.  Returns a bytes object.\n",
      "    \n",
      "    readlink(path, *, dir_fd=None)\n",
      "        Return a string representing the path to which the symbolic link points.\n",
      "        \n",
      "        If dir_fd is not None, it should be a file descriptor open to a directory,\n",
      "        and path should be relative; path will then be relative to that directory.\n",
      "        \n",
      "        dir_fd may not be implemented on your platform.  If it is unavailable,\n",
      "        using it will raise a NotImplementedError.\n",
      "    \n",
      "    readv(fd, buffers, /)\n",
      "        Read from a file descriptor fd into an iterable of buffers.\n",
      "        \n",
      "        The buffers should be mutable buffers accepting bytes.\n",
      "        readv will transfer data into each buffer until it is full\n",
      "        and then move on to the next buffer in the sequence to hold\n",
      "        the rest of the data.\n",
      "        \n",
      "        readv returns the total number of bytes read,\n",
      "        which may be less than the total capacity of all the buffers.\n",
      "    \n",
      "    register_at_fork(...)\n",
      "        Register callables to be called when forking a new process.\n",
      "        \n",
      "          before\n",
      "            A callable to be called in the parent before the fork() syscall.\n",
      "          after_in_child\n",
      "            A callable to be called in the child after fork().\n",
      "          after_in_parent\n",
      "            A callable to be called in the parent after fork().\n",
      "        \n",
      "        'before' callbacks are called in reverse order.\n",
      "        'after_in_child' and 'after_in_parent' callbacks are called in order.\n",
      "    \n",
      "    remove(path, *, dir_fd=None)\n",
      "        Remove a file (same as unlink()).\n",
      "        \n",
      "        If dir_fd is not None, it should be a file descriptor open to a directory,\n",
      "          and path should be relative; path will then be relative to that directory.\n",
      "        dir_fd may not be implemented on your platform.\n",
      "          If it is unavailable, using it will raise a NotImplementedError.\n",
      "    \n",
      "    removedirs(name)\n",
      "        removedirs(name)\n",
      "        \n",
      "        Super-rmdir; remove a leaf directory and all empty intermediate\n",
      "        ones.  Works like rmdir except that, if the leaf directory is\n",
      "        successfully removed, directories corresponding to rightmost path\n",
      "        segments will be pruned away until either the whole path is\n",
      "        consumed or an error occurs.  Errors during this latter phase are\n",
      "        ignored -- they generally mean that a directory was not empty.\n",
      "    \n",
      "    removexattr(path, attribute, *, follow_symlinks=True)\n",
      "        Remove extended attribute attribute on path.\n",
      "        \n",
      "        path may be either a string, a path-like object, or an open file descriptor.\n",
      "        If follow_symlinks is False, and the last element of the path is a symbolic\n",
      "          link, removexattr will modify the symbolic link itself instead of the file\n",
      "          the link points to.\n",
      "    \n",
      "    rename(src, dst, *, src_dir_fd=None, dst_dir_fd=None)\n",
      "        Rename a file or directory.\n",
      "        \n",
      "        If either src_dir_fd or dst_dir_fd is not None, it should be a file\n",
      "          descriptor open to a directory, and the respective path string (src or dst)\n",
      "          should be relative; the path will then be relative to that directory.\n",
      "        src_dir_fd and dst_dir_fd, may not be implemented on your platform.\n",
      "          If they are unavailable, using them will raise a NotImplementedError.\n",
      "    \n",
      "    renames(old, new)\n",
      "        renames(old, new)\n",
      "        \n",
      "        Super-rename; create directories as necessary and delete any left\n",
      "        empty.  Works like rename, except creation of any intermediate\n",
      "        directories needed to make the new pathname good is attempted\n",
      "        first.  After the rename, directories corresponding to rightmost\n",
      "        path segments of the old name will be pruned until either the\n",
      "        whole path is consumed or a nonempty directory is found.\n",
      "        \n",
      "        Note: this function can fail with the new directory structure made\n",
      "        if you lack permissions needed to unlink the leaf directory or\n",
      "        file.\n",
      "    \n",
      "    replace(src, dst, *, src_dir_fd=None, dst_dir_fd=None)\n",
      "        Rename a file or directory, overwriting the destination.\n",
      "        \n",
      "        If either src_dir_fd or dst_dir_fd is not None, it should be a file\n",
      "          descriptor open to a directory, and the respective path string (src or dst)\n",
      "          should be relative; the path will then be relative to that directory.\n",
      "        src_dir_fd and dst_dir_fd, may not be implemented on your platform.\n",
      "          If they are unavailable, using them will raise a NotImplementedError.\n",
      "    \n",
      "    rmdir(path, *, dir_fd=None)\n",
      "        Remove a directory.\n",
      "        \n",
      "        If dir_fd is not None, it should be a file descriptor open to a directory,\n",
      "          and path should be relative; path will then be relative to that directory.\n",
      "        dir_fd may not be implemented on your platform.\n",
      "          If it is unavailable, using it will raise a NotImplementedError.\n",
      "    \n",
      "    scandir(path=None)\n",
      "        Return an iterator of DirEntry objects for given path.\n",
      "        \n",
      "        path can be specified as either str, bytes, or a path-like object.  If path\n",
      "        is bytes, the names of yielded DirEntry objects will also be bytes; in\n",
      "        all other circumstances they will be str.\n",
      "        \n",
      "        If path is None, uses the path='.'.\n",
      "    \n",
      "    sched_get_priority_max(policy)\n",
      "        Get the maximum scheduling priority for policy.\n",
      "    \n",
      "    sched_get_priority_min(policy)\n",
      "        Get the minimum scheduling priority for policy.\n",
      "    \n",
      "    sched_getaffinity(pid, /)\n",
      "        Return the affinity of the process identified by pid (or the current process if zero).\n",
      "        \n",
      "        The affinity is returned as a set of CPU identifiers.\n",
      "    \n",
      "    sched_getparam(pid, /)\n",
      "        Returns scheduling parameters for the process identified by pid.\n",
      "        \n",
      "        If pid is 0, returns parameters for the calling process.\n",
      "        Return value is an instance of sched_param.\n",
      "    \n",
      "    sched_getscheduler(pid, /)\n",
      "        Get the scheduling policy for the process identifiedy by pid.\n",
      "        \n",
      "        Passing 0 for pid returns the scheduling policy for the calling process.\n",
      "    \n",
      "    sched_rr_get_interval(pid, /)\n",
      "        Return the round-robin quantum for the process identified by pid, in seconds.\n",
      "        \n",
      "        Value returned is a float.\n",
      "    \n",
      "    sched_setaffinity(pid, mask, /)\n",
      "        Set the CPU affinity of the process identified by pid to mask.\n",
      "        \n",
      "        mask should be an iterable of integers identifying CPUs.\n",
      "    \n",
      "    sched_setparam(pid, param, /)\n",
      "        Set scheduling parameters for the process identified by pid.\n",
      "        \n",
      "        If pid is 0, sets parameters for the calling process.\n",
      "        param should be an instance of sched_param.\n",
      "    \n",
      "    sched_setscheduler(pid, policy, param, /)\n",
      "        Set the scheduling policy for the process identified by pid.\n",
      "        \n",
      "        If pid is 0, the calling process is changed.\n",
      "        param is an instance of sched_param.\n",
      "    \n",
      "    sched_yield()\n",
      "        Voluntarily relinquish the CPU.\n",
      "    \n",
      "    sendfile(...)\n",
      "        sendfile(out, in, offset, count) -> byteswritten\n",
      "        sendfile(out, in, offset, count[, headers][, trailers], flags=0)\n",
      "                    -> byteswritten\n",
      "        Copy count bytes from file descriptor in to file descriptor out.\n",
      "    \n",
      "    set_blocking(fd, blocking, /)\n",
      "        Set the blocking mode of the specified file descriptor.\n",
      "        \n",
      "        Set the O_NONBLOCK flag if blocking is False,\n",
      "        clear the O_NONBLOCK flag otherwise.\n",
      "    \n",
      "    set_inheritable(fd, inheritable, /)\n",
      "        Set the inheritable flag of the specified file descriptor.\n",
      "    \n",
      "    setegid(egid, /)\n",
      "        Set the current process's effective group id.\n",
      "    \n",
      "    seteuid(euid, /)\n",
      "        Set the current process's effective user id.\n",
      "    \n",
      "    setgid(gid, /)\n",
      "        Set the current process's group id.\n",
      "    \n",
      "    setgroups(groups, /)\n",
      "        Set the groups of the current process to list.\n",
      "    \n",
      "    setpgid(pid, pgrp, /)\n",
      "        Call the system call setpgid(pid, pgrp).\n",
      "    \n",
      "    setpgrp()\n",
      "        Make the current process the leader of its process group.\n",
      "    \n",
      "    setpriority(which, who, priority)\n",
      "        Set program scheduling priority.\n",
      "    \n",
      "    setregid(rgid, egid, /)\n",
      "        Set the current process's real and effective group ids.\n",
      "    \n",
      "    setresgid(rgid, egid, sgid, /)\n",
      "        Set the current process's real, effective, and saved group ids.\n",
      "    \n",
      "    setresuid(ruid, euid, suid, /)\n",
      "        Set the current process's real, effective, and saved user ids.\n",
      "    \n",
      "    setreuid(ruid, euid, /)\n",
      "        Set the current process's real and effective user ids.\n",
      "    \n",
      "    setsid()\n",
      "        Call the system call setsid().\n",
      "    \n",
      "    setuid(uid, /)\n",
      "        Set the current process's user id.\n",
      "    \n",
      "    setxattr(path, attribute, value, flags=0, *, follow_symlinks=True)\n",
      "        Set extended attribute attribute on path to value.\n",
      "        \n",
      "        path may be either a string, a path-like object,  or an open file descriptor.\n",
      "        If follow_symlinks is False, and the last element of the path is a symbolic\n",
      "          link, setxattr will modify the symbolic link itself instead of the file\n",
      "          the link points to.\n",
      "    \n",
      "    spawnl(mode, file, *args)\n",
      "        spawnl(mode, file, *args) -> integer\n",
      "        \n",
      "        Execute file with arguments from args in a subprocess.\n",
      "        If mode == P_NOWAIT return the pid of the process.\n",
      "        If mode == P_WAIT return the process's exit code if it exits normally;\n",
      "        otherwise return -SIG, where SIG is the signal that killed it.\n",
      "    \n",
      "    spawnle(mode, file, *args)\n",
      "        spawnle(mode, file, *args, env) -> integer\n",
      "        \n",
      "        Execute file with arguments from args in a subprocess with the\n",
      "        supplied environment.\n",
      "        If mode == P_NOWAIT return the pid of the process.\n",
      "        If mode == P_WAIT return the process's exit code if it exits normally;\n",
      "        otherwise return -SIG, where SIG is the signal that killed it.\n",
      "    \n",
      "    spawnlp(mode, file, *args)\n",
      "        spawnlp(mode, file, *args) -> integer\n",
      "        \n",
      "        Execute file (which is looked for along $PATH) with arguments from\n",
      "        args in a subprocess with the supplied environment.\n",
      "        If mode == P_NOWAIT return the pid of the process.\n",
      "        If mode == P_WAIT return the process's exit code if it exits normally;\n",
      "        otherwise return -SIG, where SIG is the signal that killed it.\n",
      "    \n",
      "    spawnlpe(mode, file, *args)\n",
      "        spawnlpe(mode, file, *args, env) -> integer\n",
      "        \n",
      "        Execute file (which is looked for along $PATH) with arguments from\n",
      "        args in a subprocess with the supplied environment.\n",
      "        If mode == P_NOWAIT return the pid of the process.\n",
      "        If mode == P_WAIT return the process's exit code if it exits normally;\n",
      "        otherwise return -SIG, where SIG is the signal that killed it.\n",
      "    \n",
      "    spawnv(mode, file, args)\n",
      "        spawnv(mode, file, args) -> integer\n",
      "        \n",
      "        Execute file with arguments from args in a subprocess.\n",
      "        If mode == P_NOWAIT return the pid of the process.\n",
      "        If mode == P_WAIT return the process's exit code if it exits normally;\n",
      "        otherwise return -SIG, where SIG is the signal that killed it.\n",
      "    \n",
      "    spawnve(mode, file, args, env)\n",
      "        spawnve(mode, file, args, env) -> integer\n",
      "        \n",
      "        Execute file with arguments from args in a subprocess with the\n",
      "        specified environment.\n",
      "        If mode == P_NOWAIT return the pid of the process.\n",
      "        If mode == P_WAIT return the process's exit code if it exits normally;\n",
      "        otherwise return -SIG, where SIG is the signal that killed it.\n",
      "    \n",
      "    spawnvp(mode, file, args)\n",
      "        spawnvp(mode, file, args) -> integer\n",
      "        \n",
      "        Execute file (which is looked for along $PATH) with arguments from\n",
      "        args in a subprocess.\n",
      "        If mode == P_NOWAIT return the pid of the process.\n",
      "        If mode == P_WAIT return the process's exit code if it exits normally;\n",
      "        otherwise return -SIG, where SIG is the signal that killed it.\n",
      "    \n",
      "    spawnvpe(mode, file, args, env)\n",
      "        spawnvpe(mode, file, args, env) -> integer\n",
      "        \n",
      "        Execute file (which is looked for along $PATH) with arguments from\n",
      "        args in a subprocess with the supplied environment.\n",
      "        If mode == P_NOWAIT return the pid of the process.\n",
      "        If mode == P_WAIT return the process's exit code if it exits normally;\n",
      "        otherwise return -SIG, where SIG is the signal that killed it.\n",
      "    \n",
      "    stat(path, *, dir_fd=None, follow_symlinks=True)\n",
      "        Perform a stat system call on the given path.\n",
      "        \n",
      "          path\n",
      "            Path to be examined; can be string, bytes, a path-like object or\n",
      "            open-file-descriptor int.\n",
      "          dir_fd\n",
      "            If not None, it should be a file descriptor open to a directory,\n",
      "            and path should be a relative string; path will then be relative to\n",
      "            that directory.\n",
      "          follow_symlinks\n",
      "            If False, and the last element of the path is a symbolic link,\n",
      "            stat will examine the symbolic link itself instead of the file\n",
      "            the link points to.\n",
      "        \n",
      "        dir_fd and follow_symlinks may not be implemented\n",
      "          on your platform.  If they are unavailable, using them will raise a\n",
      "          NotImplementedError.\n",
      "        \n",
      "        It's an error to use dir_fd or follow_symlinks when specifying path as\n",
      "          an open file descriptor.\n",
      "    \n",
      "    statvfs(path)\n",
      "        Perform a statvfs system call on the given path.\n",
      "        \n",
      "        path may always be specified as a string.\n",
      "        On some platforms, path may also be specified as an open file descriptor.\n",
      "          If this functionality is unavailable, using it raises an exception.\n",
      "    \n",
      "    strerror(code, /)\n",
      "        Translate an error code to a message string.\n",
      "    \n",
      "    symlink(src, dst, target_is_directory=False, *, dir_fd=None)\n",
      "        Create a symbolic link pointing to src named dst.\n",
      "        \n",
      "        target_is_directory is required on Windows if the target is to be\n",
      "          interpreted as a directory.  (On Windows, symlink requires\n",
      "          Windows 6.0 or greater, and raises a NotImplementedError otherwise.)\n",
      "          target_is_directory is ignored on non-Windows platforms.\n",
      "        \n",
      "        If dir_fd is not None, it should be a file descriptor open to a directory,\n",
      "          and path should be relative; path will then be relative to that directory.\n",
      "        dir_fd may not be implemented on your platform.\n",
      "          If it is unavailable, using it will raise a NotImplementedError.\n",
      "    \n",
      "    sync()\n",
      "        Force write of everything to disk.\n",
      "    \n",
      "    sysconf(name, /)\n",
      "        Return an integer-valued system configuration variable.\n",
      "    \n",
      "    system(command)\n",
      "        Execute the command in a subshell.\n",
      "    \n",
      "    tcgetpgrp(fd, /)\n",
      "        Return the process group associated with the terminal specified by fd.\n",
      "    \n",
      "    tcsetpgrp(fd, pgid, /)\n",
      "        Set the process group associated with the terminal specified by fd.\n",
      "    \n",
      "    times()\n",
      "        Return a collection containing process timing information.\n",
      "        \n",
      "        The object returned behaves like a named tuple with these fields:\n",
      "          (utime, stime, cutime, cstime, elapsed_time)\n",
      "        All fields are floating point numbers.\n",
      "    \n",
      "    truncate(path, length)\n",
      "        Truncate a file, specified by path, to a specific length.\n",
      "        \n",
      "        On some platforms, path may also be specified as an open file descriptor.\n",
      "          If this functionality is unavailable, using it raises an exception.\n",
      "    \n",
      "    ttyname(fd, /)\n",
      "        Return the name of the terminal device connected to 'fd'.\n",
      "        \n",
      "        fd\n",
      "          Integer file descriptor handle.\n",
      "    \n",
      "    umask(mask, /)\n",
      "        Set the current numeric umask and return the previous umask.\n",
      "    \n",
      "    uname()\n",
      "        Return an object identifying the current operating system.\n",
      "        \n",
      "        The object behaves like a named tuple with the following fields:\n",
      "          (sysname, nodename, release, version, machine)\n",
      "    \n",
      "    unlink(path, *, dir_fd=None)\n",
      "        Remove a file (same as remove()).\n",
      "        \n",
      "        If dir_fd is not None, it should be a file descriptor open to a directory,\n",
      "          and path should be relative; path will then be relative to that directory.\n",
      "        dir_fd may not be implemented on your platform.\n",
      "          If it is unavailable, using it will raise a NotImplementedError.\n",
      "    \n",
      "    unsetenv(name, /)\n",
      "        Delete an environment variable.\n",
      "    \n",
      "    urandom(size, /)\n",
      "        Return a bytes object containing random bytes suitable for cryptographic use.\n",
      "    \n",
      "    utime(...)\n",
      "        Set the access and modified time of path.\n",
      "        \n",
      "        path may always be specified as a string.\n",
      "        On some platforms, path may also be specified as an open file descriptor.\n",
      "          If this functionality is unavailable, using it raises an exception.\n",
      "        \n",
      "        If times is not None, it must be a tuple (atime, mtime);\n",
      "            atime and mtime should be expressed as float seconds since the epoch.\n",
      "        If ns is specified, it must be a tuple (atime_ns, mtime_ns);\n",
      "            atime_ns and mtime_ns should be expressed as integer nanoseconds\n",
      "            since the epoch.\n",
      "        If times is None and ns is unspecified, utime uses the current time.\n",
      "        Specifying tuples for both times and ns is an error.\n",
      "        \n",
      "        If dir_fd is not None, it should be a file descriptor open to a directory,\n",
      "          and path should be relative; path will then be relative to that directory.\n",
      "        If follow_symlinks is False, and the last element of the path is a symbolic\n",
      "          link, utime will modify the symbolic link itself instead of the file the\n",
      "          link points to.\n",
      "        It is an error to use dir_fd or follow_symlinks when specifying path\n",
      "          as an open file descriptor.\n",
      "        dir_fd and follow_symlinks may not be available on your platform.\n",
      "          If they are unavailable, using them will raise a NotImplementedError.\n",
      "    \n",
      "    wait()\n",
      "        Wait for completion of a child process.\n",
      "        \n",
      "        Returns a tuple of information about the child process:\n",
      "            (pid, status)\n",
      "    \n",
      "    wait3(options)\n",
      "        Wait for completion of a child process.\n",
      "        \n",
      "        Returns a tuple of information about the child process:\n",
      "          (pid, status, rusage)\n",
      "    \n",
      "    wait4(pid, options)\n",
      "        Wait for completion of a specific child process.\n",
      "        \n",
      "        Returns a tuple of information about the child process:\n",
      "          (pid, status, rusage)\n",
      "    \n",
      "    waitid(idtype, id, options, /)\n",
      "        Returns the result of waiting for a process or processes.\n",
      "        \n",
      "          idtype\n",
      "            Must be one of be P_PID, P_PGID or P_ALL.\n",
      "          id\n",
      "            The id to wait on.\n",
      "          options\n",
      "            Constructed from the ORing of one or more of WEXITED, WSTOPPED\n",
      "            or WCONTINUED and additionally may be ORed with WNOHANG or WNOWAIT.\n",
      "        \n",
      "        Returns either waitid_result or None if WNOHANG is specified and there are\n",
      "        no children in a waitable state.\n",
      "    \n",
      "    waitpid(pid, options, /)\n",
      "        Wait for completion of a given child process.\n",
      "        \n",
      "        Returns a tuple of information regarding the child process:\n",
      "            (pid, status)\n",
      "        \n",
      "        The options argument is ignored on Windows.\n",
      "    \n",
      "    walk(top, topdown=True, onerror=None, followlinks=False)\n",
      "        Directory tree generator.\n",
      "        \n",
      "        For each directory in the directory tree rooted at top (including top\n",
      "        itself, but excluding '.' and '..'), yields a 3-tuple\n",
      "        \n",
      "            dirpath, dirnames, filenames\n",
      "        \n",
      "        dirpath is a string, the path to the directory.  dirnames is a list of\n",
      "        the names of the subdirectories in dirpath (excluding '.' and '..').\n",
      "        filenames is a list of the names of the non-directory files in dirpath.\n",
      "        Note that the names in the lists are just names, with no path components.\n",
      "        To get a full path (which begins with top) to a file or directory in\n",
      "        dirpath, do os.path.join(dirpath, name).\n",
      "        \n",
      "        If optional arg 'topdown' is true or not specified, the triple for a\n",
      "        directory is generated before the triples for any of its subdirectories\n",
      "        (directories are generated top down).  If topdown is false, the triple\n",
      "        for a directory is generated after the triples for all of its\n",
      "        subdirectories (directories are generated bottom up).\n",
      "        \n",
      "        When topdown is true, the caller can modify the dirnames list in-place\n",
      "        (e.g., via del or slice assignment), and walk will only recurse into the\n",
      "        subdirectories whose names remain in dirnames; this can be used to prune the\n",
      "        search, or to impose a specific order of visiting.  Modifying dirnames when\n",
      "        topdown is false has no effect on the behavior of os.walk(), since the\n",
      "        directories in dirnames have already been generated by the time dirnames\n",
      "        itself is generated. No matter the value of topdown, the list of\n",
      "        subdirectories is retrieved before the tuples for the directory and its\n",
      "        subdirectories are generated.\n",
      "        \n",
      "        By default errors from the os.scandir() call are ignored.  If\n",
      "        optional arg 'onerror' is specified, it should be a function; it\n",
      "        will be called with one argument, an OSError instance.  It can\n",
      "        report the error to continue with the walk, or raise the exception\n",
      "        to abort the walk.  Note that the filename is available as the\n",
      "        filename attribute of the exception object.\n",
      "        \n",
      "        By default, os.walk does not follow symbolic links to subdirectories on\n",
      "        systems that support them.  In order to get this functionality, set the\n",
      "        optional argument 'followlinks' to true.\n",
      "        \n",
      "        Caution:  if you pass a relative pathname for top, don't change the\n",
      "        current working directory between resumptions of walk.  walk never\n",
      "        changes the current directory, and assumes that the client doesn't\n",
      "        either.\n",
      "        \n",
      "        Example:\n",
      "        \n",
      "        import os\n",
      "        from os.path import join, getsize\n",
      "        for root, dirs, files in os.walk('python/Lib/email'):\n",
      "            print(root, \"consumes\", end=\"\")\n",
      "            print(sum(getsize(join(root, name)) for name in files), end=\"\")\n",
      "            print(\"bytes in\", len(files), \"non-directory files\")\n",
      "            if 'CVS' in dirs:\n",
      "                dirs.remove('CVS')  # don't visit CVS directories\n",
      "    \n",
      "    write(fd, data, /)\n",
      "        Write a bytes object to a file descriptor.\n",
      "    \n",
      "    writev(fd, buffers, /)\n",
      "        Iterate over buffers, and write the contents of each to a file descriptor.\n",
      "        \n",
      "        Returns the total number of bytes written.\n",
      "        buffers must be a sequence of bytes-like objects.\n",
      "\n",
      "DATA\n",
      "    CLD_CONTINUED = 6\n",
      "    CLD_DUMPED = 3\n",
      "    CLD_EXITED = 1\n",
      "    CLD_TRAPPED = 4\n",
      "    EX_CANTCREAT = 73\n",
      "    EX_CONFIG = 78\n",
      "    EX_DATAERR = 65\n",
      "    EX_IOERR = 74\n",
      "    EX_NOHOST = 68\n",
      "    EX_NOINPUT = 66\n",
      "    EX_NOPERM = 77\n",
      "    EX_NOUSER = 67\n",
      "    EX_OK = 0\n",
      "    EX_OSERR = 71\n",
      "    EX_OSFILE = 72\n",
      "    EX_PROTOCOL = 76\n",
      "    EX_SOFTWARE = 70\n",
      "    EX_TEMPFAIL = 75\n",
      "    EX_UNAVAILABLE = 69\n",
      "    EX_USAGE = 64\n",
      "    F_LOCK = 1\n",
      "    F_OK = 0\n",
      "    F_TEST = 3\n",
      "    F_TLOCK = 2\n",
      "    F_ULOCK = 0\n",
      "    GRND_NONBLOCK = 1\n",
      "    GRND_RANDOM = 2\n",
      "    MFD_ALLOW_SEALING = 2\n",
      "    MFD_CLOEXEC = 1\n",
      "    MFD_HUGETLB = 4\n",
      "    MFD_HUGE_16GB = -2013265920\n",
      "    MFD_HUGE_16MB = 1610612736\n",
      "    MFD_HUGE_1GB = 2013265920\n",
      "    MFD_HUGE_1MB = 1342177280\n",
      "    MFD_HUGE_256MB = 1879048192\n",
      "    MFD_HUGE_2GB = 2080374784\n",
      "    MFD_HUGE_2MB = 1409286144\n",
      "    MFD_HUGE_32MB = 1677721600\n",
      "    MFD_HUGE_512KB = 1275068416\n",
      "    MFD_HUGE_512MB = 1946157056\n",
      "    MFD_HUGE_64KB = 1073741824\n",
      "    MFD_HUGE_8MB = 1543503872\n",
      "    MFD_HUGE_MASK = 63\n",
      "    MFD_HUGE_SHIFT = 26\n",
      "    NGROUPS_MAX = 65536\n",
      "    O_ACCMODE = 3\n",
      "    O_APPEND = 1024\n",
      "    O_ASYNC = 8192\n",
      "    O_CLOEXEC = 524288\n",
      "    O_CREAT = 64\n",
      "    O_DIRECT = 16384\n",
      "    O_DIRECTORY = 65536\n",
      "    O_DSYNC = 4096\n",
      "    O_EXCL = 128\n",
      "    O_LARGEFILE = 0\n",
      "    O_NDELAY = 2048\n",
      "    O_NOATIME = 262144\n",
      "    O_NOCTTY = 256\n",
      "    O_NOFOLLOW = 131072\n",
      "    O_NONBLOCK = 2048\n",
      "    O_PATH = 2097152\n",
      "    O_RDONLY = 0\n",
      "    O_RDWR = 2\n",
      "    O_RSYNC = 1052672\n",
      "    O_SYNC = 1052672\n",
      "    O_TMPFILE = 4259840\n",
      "    O_TRUNC = 512\n",
      "    O_WRONLY = 1\n",
      "    POSIX_FADV_DONTNEED = 4\n",
      "    POSIX_FADV_NOREUSE = 5\n",
      "    POSIX_FADV_NORMAL = 0\n",
      "    POSIX_FADV_RANDOM = 1\n",
      "    POSIX_FADV_SEQUENTIAL = 2\n",
      "    POSIX_FADV_WILLNEED = 3\n",
      "    POSIX_SPAWN_CLOSE = 1\n",
      "    POSIX_SPAWN_DUP2 = 2\n",
      "    POSIX_SPAWN_OPEN = 0\n",
      "    PRIO_PGRP = 1\n",
      "    PRIO_PROCESS = 0\n",
      "    PRIO_USER = 2\n",
      "    P_ALL = 0\n",
      "    P_NOWAIT = 1\n",
      "    P_NOWAITO = 1\n",
      "    P_PGID = 2\n",
      "    P_PID = 1\n",
      "    P_WAIT = 0\n",
      "    RTLD_DEEPBIND = 8\n",
      "    RTLD_GLOBAL = 256\n",
      "    RTLD_LAZY = 1\n",
      "    RTLD_LOCAL = 0\n",
      "    RTLD_NODELETE = 4096\n",
      "    RTLD_NOLOAD = 4\n",
      "    RTLD_NOW = 2\n",
      "    RWF_DSYNC = 2\n",
      "    RWF_HIPRI = 1\n",
      "    RWF_NOWAIT = 8\n",
      "    RWF_SYNC = 4\n",
      "    R_OK = 4\n",
      "    SCHED_BATCH = 3\n",
      "    SCHED_FIFO = 1\n",
      "    SCHED_IDLE = 5\n",
      "    SCHED_OTHER = 0\n",
      "    SCHED_RESET_ON_FORK = 1073741824\n",
      "    SCHED_RR = 2\n",
      "    SEEK_CUR = 1\n",
      "    SEEK_DATA = 3\n",
      "    SEEK_END = 2\n",
      "    SEEK_HOLE = 4\n",
      "    SEEK_SET = 0\n",
      "    ST_APPEND = 256\n",
      "    ST_MANDLOCK = 64\n",
      "    ST_NOATIME = 1024\n",
      "    ST_NODEV = 4\n",
      "    ST_NODIRATIME = 2048\n",
      "    ST_NOEXEC = 8\n",
      "    ST_NOSUID = 2\n",
      "    ST_RDONLY = 1\n",
      "    ST_RELATIME = 4096\n",
      "    ST_SYNCHRONOUS = 16\n",
      "    ST_WRITE = 128\n",
      "    TMP_MAX = 238328\n",
      "    WCONTINUED = 8\n",
      "    WEXITED = 4\n",
      "    WNOHANG = 1\n",
      "    WNOWAIT = 16777216\n",
      "    WSTOPPED = 2\n",
      "    WUNTRACED = 2\n",
      "    W_OK = 2\n",
      "    XATTR_CREATE = 1\n",
      "    XATTR_REPLACE = 2\n",
      "    XATTR_SIZE_MAX = 65536\n",
      "    X_OK = 1\n",
      "    __all__ = ['altsep', 'curdir', 'pardir', 'sep', 'pathsep', 'linesep', ...\n",
      "    altsep = None\n",
      "    confstr_names = {'CS_GNU_LIBC_VERSION': 2, 'CS_GNU_LIBPTHREAD_VERSION'...\n",
      "    curdir = '.'\n",
      "    defpath = '/bin:/usr/bin'\n",
      "    devnull = '/dev/null'\n",
      "    environ = environ({'USER': 'mz', 'VSCODE_WSL_EXT_LOCATION'...D': 'modu...\n",
      "    environb = environ({b'USER': b'mz', b'VSCODE_WSL_EXT_LOCATI...': b'mod...\n",
      "    extsep = '.'\n",
      "    linesep = '\\n'\n",
      "    name = 'posix'\n",
      "    pardir = '..'\n",
      "    pathconf_names = {'PC_ALLOC_SIZE_MIN': 18, 'PC_ASYNC_IO': 10, 'PC_CHOW...\n",
      "    pathsep = ':'\n",
      "    sep = '/'\n",
      "    supports_bytes_environ = True\n",
      "    sysconf_names = {'SC_2_CHAR_TERM': 95, 'SC_2_C_BIND': 47, 'SC_2_C_DEV'...\n",
      "\n",
      "FILE\n",
      "    /home/mz/.pyenv/versions/3.8.12/lib/python3.8/os.py\n",
      "\n",
      "\n",
      "None\n"
     ]
    }
   ],
   "source": [
    "print(help(os))               # extensive manual page created from the module's docstrings"
   ]
  },
  {
   "cell_type": "code",
   "execution_count": null,
   "id": "c3f08355",
   "metadata": {},
   "outputs": [
    {
     "name": "stdout",
     "output_type": "stream",
     "text": [
      "/home/mz/code/Stuff/pyfiles\n",
      "1000\n"
     ]
    }
   ],
   "source": [
    "import os\n",
    "\n",
    "#Returns the current working directory.\n",
    "print(os.getcwd())\n",
    "# Return the real group id of the current process.\n",
    "print(os.getgid())"
   ]
  },
  {
   "cell_type": "code",
   "execution_count": null,
   "id": "8135ed07",
   "metadata": {},
   "outputs": [
    {
     "name": "stdout",
     "output_type": "stream",
     "text": [
      "1000\n",
      "12550\n",
      "<built-in function umask>\n",
      "posix.uname_result(sysname='Linux', nodename='LAPTOP-FERQ4ACR', release='5.10.16.3-microsoft-standard-WSL2', version='#1 SMP Fri Apr 2 22:23:49 UTC 2021', machine='x86_64')\n"
     ]
    }
   ],
   "source": [
    "# Return the current process’s user id.\n",
    "print(os.getuid())\n",
    "# Returns the real process ID of the current process.\n",
    "print(os.getpid())\n",
    "# Set the current numeric umask and return the previous umask.\n",
    "print(os.umask)\n",
    "# Return information identifying the current operating system.\n",
    "print(os.uname())\n"
   ]
  },
  {
   "cell_type": "code",
   "execution_count": null,
   "id": "6a6f92b2",
   "metadata": {},
   "outputs": [],
   "source": [
    "# Change the root directory of the current process to path.\n",
    "print(os.chroot(path))\n",
    "# Return a list of the entries in the directory given by path.\n",
    "print(os.listdir(path))\n",
    "# Create a directory named path with numeric mode mode.\n",
    "print(os.mkdir(path))\n",
    "# Recursive directory creation function.\n",
    "os.makedirs(path)\n",
    "# Remove (delete) the file path.\n",
    "os.remove(path)\n",
    "# Remove directories recursively.\n",
    "os.removedirs(path)"
   ]
  },
  {
   "cell_type": "code",
   "execution_count": null,
   "id": "1321f6d4",
   "metadata": {},
   "outputs": [
    {
     "ename": "NameError",
     "evalue": "name 'src' is not defined",
     "output_type": "error",
     "traceback": [
      "\u001b[0;31m---------------------------------------------------------------------------\u001b[0m\n",
      "\u001b[0;31mNameError\u001b[0m                                 Traceback (most recent call last)\n",
      "\u001b[0;32m/tmp/ipykernel_12550/588415881.py\u001b[0m in \u001b[0;36m<module>\u001b[0;34m\u001b[0m\n",
      "\u001b[1;32m      1\u001b[0m \u001b[0;31m# Rename the file or directory src to dst.\u001b[0m\u001b[0;34m\u001b[0m\u001b[0;34m\u001b[0m\u001b[0;34m\u001b[0m\u001b[0m\n",
      "\u001b[0;32m----> 2\u001b[0;31m \u001b[0mos\u001b[0m\u001b[0;34m.\u001b[0m\u001b[0mrename\u001b[0m\u001b[0;34m(\u001b[0m\u001b[0msrc\u001b[0m\u001b[0;34m,\u001b[0m \u001b[0mdst\u001b[0m\u001b[0;34m)\u001b[0m\u001b[0;34m\u001b[0m\u001b[0;34m\u001b[0m\u001b[0m\n",
      "\u001b[0m\u001b[1;32m      3\u001b[0m \u001b[0;34m\u001b[0m\u001b[0m\n",
      "\u001b[1;32m      4\u001b[0m \u001b[0;31m# Remove (delete) the directory path.\u001b[0m\u001b[0;34m\u001b[0m\u001b[0;34m\u001b[0m\u001b[0;34m\u001b[0m\u001b[0m\n",
      "\u001b[1;32m      5\u001b[0m \u001b[0mos\u001b[0m\u001b[0;34m.\u001b[0m\u001b[0mrmdir\u001b[0m\u001b[0;34m(\u001b[0m\u001b[0mpath\u001b[0m\u001b[0;34m)\u001b[0m\u001b[0;34m\u001b[0m\u001b[0;34m\u001b[0m\u001b[0m\n",
      "\n",
      "\u001b[0;31mNameError\u001b[0m: name 'src' is not defined"
     ]
    }
   ],
   "source": [
    "# Rename the file or directory src to dst.\n",
    "os.rename(src, dst)\n",
    "# Remove (delete) the directory path.\n",
    "os.rmdir(path)"
   ]
  },
  {
   "cell_type": "markdown",
   "id": "e2bf7de5",
   "metadata": {},
   "source": [
    "## sys()"
   ]
  },
  {
   "cell_type": "code",
   "execution_count": null,
   "id": "21d3769d",
   "metadata": {},
   "outputs": [],
   "source": [
    "# search path is accessible in the Python variable sys.path\n",
    "import sys\n",
    "\n",
    "print(sys.path)\n",
    "# you can put the module file in any directory of your choice and then modify\n",
    "# sys.path at run-time so that it contains that directory.\n",
    "sys.path.append(r'C:\\Users\\john')\n"
   ]
  },
  {
   "cell_type": "code",
   "execution_count": null,
   "id": "f34bc95a",
   "metadata": {},
   "outputs": [
    {
     "name": "stderr",
     "output_type": "stream",
     "text": [
      "Warning, log file not found starting a new one\n"
     ]
    },
    {
     "ename": "SystemExit",
     "evalue": "",
     "output_type": "error",
     "traceback": [
      "An exception has occurred, use %tb to see the full traceback.\n",
      "\n",
      "\n",
      "\n",
      "\u001b[0;31mSystemExit\u001b[0m\n"
     ]
    },
    {
     "name": "stderr",
     "output_type": "stream",
     "text": [
      "/home/mz/.pyenv/versions/3.8.12/envs/lewagon/lib/python3.8/site-packages/IPython/core/interactiveshell.py:3465: UserWarning: To exit: use 'exit', 'quit', or Ctrl-D.\n",
      "  warn(\"To exit: use 'exit', 'quit', or Ctrl-D.\", stacklevel=1)\n"
     ]
    }
   ],
   "source": [
    "# The sys module also has attributes for stdin, stdout, and stderr. The latter is useful for emitting\n",
    "# warnings and error messages to make them visible even when stdout has been redirected:\n",
    "import sys\n",
    "sys.stderr.write('Warning, log file not found starting a new one\\n')\n"
   ]
  },
  {
   "cell_type": "code",
   "execution_count": null,
   "id": "962ee558",
   "metadata": {},
   "outputs": [
    {
     "ename": "SystemExit",
     "evalue": "",
     "output_type": "error",
     "traceback": [
      "An exception has occurred, use %tb to see the full traceback.\n",
      "\n",
      "\n",
      "\n",
      "\u001b[0;31mSystemExit\u001b[0m\n"
     ]
    }
   ],
   "source": [
    "# The most direct way to terminate a script is to use\n",
    "sys.exit()"
   ]
  },
  {
   "cell_type": "markdown",
   "id": "b88bb12f",
   "metadata": {},
   "source": [
    "## timeit - performance measurement\n",
    "- timeit module quickly demonstrates a modest performance advantage\n",
    "- https://www.guru99.com/timeit-python-examples.html"
   ]
  },
  {
   "cell_type": "code",
   "execution_count": null,
   "id": "ef000886",
   "metadata": {},
   "outputs": [
    {
     "name": "stdout",
     "output_type": "stream",
     "text": [
      "0.08800524700200185\n"
     ]
    }
   ],
   "source": [
    "import timeit\n",
    "\n",
    "import_module = \"import random\"\n",
    "testcode = ''' \n",
    "def test(): \n",
    "    return random.randint(10, 100)\n",
    "'''\n",
    "print(timeit.timeit(stmt=testcode, setup=import_module))\n"
   ]
  },
  {
   "cell_type": "markdown",
   "id": "b0564c1c",
   "metadata": {},
   "source": [
    "# testing\n",
    "- __UNIT TESTING__ is a type of software testing where individual units or components of a software are tested. \n",
    "- The __doctest__ module searches for pieces of text that look like interactive Python sessions, and then executes those sessions to verify that they work exactly as shown. There are several common ways to use doctest:\n",
    "\n",
    "    - To check that a module’s docstrings are up-to-date by verifying that all interactive examples still work as documented.\n",
    "\n",
    "    - To perform regression testing by verifying that interactive examples from a test file or a test object work as expected.\n",
    "\n",
    "    - To write tutorial documentation for a package, liberally illustrated with input-output examples. Depending on whether the examples or the expository text are emphasized, this has the flavor of “literate testing” or “executable documentation”.\n"
   ]
  },
  {
   "cell_type": "code",
   "execution_count": null,
   "id": "9e50a340",
   "metadata": {},
   "outputs": [],
   "source": [
    "import unittest\n"
   ]
  },
  {
   "cell_type": "code",
   "execution_count": null,
   "id": "71fd4df8",
   "metadata": {},
   "outputs": [],
   "source": []
  },
  {
   "cell_type": "code",
   "execution_count": null,
   "id": "4a6bfff9",
   "metadata": {},
   "outputs": [],
   "source": [
    "# quality control -> write tests for each function as it is developed\n",
    "import doctest\n"
   ]
  },
  {
   "cell_type": "markdown",
   "id": "262f0442",
   "metadata": {},
   "source": [
    "## data compression\n",
    "- Common data archiving and compression formats are directly supported by modules\n",
    "- including: zlib, gzip, bz2, lzma, zipfile and tarfile.\n"
   ]
  },
  {
   "cell_type": "code",
   "execution_count": null,
   "id": "48bca758",
   "metadata": {},
   "outputs": [],
   "source": [
    "import zlib\n",
    "s = b'witch which has which witches wrist watch'\n",
    "print(len(s))\n",
    "t = zlib.compress(s)\n",
    "print(t)\n",
    "print(len(t))\n",
    "print(zlib.decompress(t))\n",
    "print(zlib.crc32(s))\n"
   ]
  },
  {
   "cell_type": "markdown",
   "id": "6baa2544",
   "metadata": {},
   "source": [
    "## doctest & unittest\n",
    "https://mattermost.com/blog/testing-python-understanding-doctest-and-unittest/"
   ]
  }
 ],
 "metadata": {
  "interpreter": {
   "hash": "ad7afd56c4a9327988b254949fc9ff6c4de57fd051da33a62b5f87e3ddafe8d2"
  },
  "kernelspec": {
   "display_name": "Python 3.8.12 64-bit ('lewagon')",
   "language": "python",
   "name": "python3"
  },
  "language_info": {
   "codemirror_mode": {
    "name": "ipython",
    "version": 3
   },
   "file_extension": ".py",
   "mimetype": "text/x-python",
   "name": "python",
   "nbconvert_exporter": "python",
   "pygments_lexer": "ipython3",
   "version": "3.8.12"
  },
  "widgets": {
   "application/vnd.jupyter.widget-state+json": {
    "state": {},
    "version_major": 2,
    "version_minor": 0
   }
  }
 },
 "nbformat": 4,
 "nbformat_minor": 5
}
