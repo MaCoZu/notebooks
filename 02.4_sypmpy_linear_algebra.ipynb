{
 "cells": [
  {
   "cell_type": "markdown",
   "metadata": {},
   "source": [
    "# Linear Algebra\n",
    "- Linear algebra is the branch of mathematics that deals with vector spaces.\n",
    "-  Vectors can be added together to form new vectors and can be multiplied by scalars (numbers), also to form\n",
    "new vectors.\n",
    "- A list of three numbers corresponds to a vector in three-dimensional space, and vice versa."
   ]
  },
  {
   "cell_type": "markdown",
   "metadata": {},
   "source": [
    "# Vector arithmetic \n",
    "- A vector is a geometric object that has magnitude (or length) and direction.\n",
    "- A vector is what is needed to \"carry\" the point A to the point B, the Latin word vector means \"carrier\".\n",
    "- Vectors can be added to other vectors, they add componentwise. \n",
    "- If they’re not the same number of componentes (dimensions), then we’re not allowed to add them.\n",
    "- A Euclidean vector is frequently represented by a directed line segment, or graphically as an arrow <br>\n",
    "connecting an initial point $A$ with a terminal point $B$, and denoted by<br>\n",
    "$ {\\overrightarrow {AB}}$\n",
    "- The **magnitude** of the vector is the distance between the two points, <br>\n",
    "and the direction refers to the direction of displacement from A to B. "
   ]
  },
  {
   "cell_type": "code",
   "execution_count": 12,
   "metadata": {},
   "outputs": [
    {
     "data": {
      "text/latex": [
       "$\\displaystyle \\left[\\begin{matrix}1\\\\2\\\\3\\end{matrix}\\right]$"
      ],
      "text/plain": [
       "Matrix([\n",
       "[1],\n",
       "[2],\n",
       "[3]])"
      ]
     },
     "execution_count": 12,
     "metadata": {},
     "output_type": "execute_result"
    }
   ],
   "source": [
    "import sympy as sym\n",
    "a= sym.Matrix([1, 2, 3])\n",
    "b = sym.Matrix([4, 5, 6])\n",
    "zero_vector =sym.Matrix([0,0,0])\n",
    "a"
   ]
  },
  {
   "cell_type": "markdown",
   "metadata": {},
   "source": [
    "## Vector addition/subtraction\n",
    "- the additon of two vectors is geometrically equivalent to the succsessive appliccation <br>\n",
    "of displacements done by the single vectors. \n",
    "- $\\vec{a}+\\vec{b} = e_1(a_1+b_1)+e_2(a_2+b_2)+e_3(a_3+b_3)$\n",
    "- The resultant vector is a new displacement/vector  $\\vec{a}+\\vec{b}=\\vec{c}$\n",
    "- vector addition is **communicative**: $\\vec{a}+\\vec{b}=\\vec{b}+\\vec{a}$ <br>\n",
    "as well as **associative**: $(\\vec{a}+\\vec{b}) +\\vec{c}=\\vec{a}+(\\vec{b}+\\vec{c})$\n",
    "-  The **zero vector** is the vector with length zero, its arrows become points. <br>\n",
    "Addition of the a vectr a with the zero vector leads to the vector a itself  $0 + \\vec{a} = \\vec{a}$\n",
    "- $-\\vec{a}$ is like $\\vec{a}$ but with opposing direction\n",
    "- Vector subtraction:  $\\vec{a} − \\vec{b} = (-\\vec{b}) + \\vec{a}$\n",
    "- $\\vec{a}-\\vec{b} = e_1(a_1-b_1)+e_2(a_2-b_2)+e_3(a_3-b_3)$\n",
    "- Geometrically  the subtraction of b from a, place the tails of a and b at the same point, <br>\n",
    "and then draw an arrow from the head of b to the head of a. "
   ]
  },
  {
   "cell_type": "code",
   "execution_count": 14,
   "metadata": {},
   "outputs": [
    {
     "data": {
      "text/latex": [
       "$\\displaystyle \\left[\\begin{matrix}0\\\\0\\\\0\\end{matrix}\\right]$"
      ],
      "text/plain": [
       "Matrix([\n",
       "[0],\n",
       "[0],\n",
       "[0]])"
      ]
     },
     "execution_count": 14,
     "metadata": {},
     "output_type": "execute_result"
    }
   ],
   "source": [
    "a + b\n",
    "-a \n",
    "a+(-a) #\n",
    "a+zero_vector # a+0=a\n",
    "zero_vector # zero_vector = (0, 0, 0,)"
   ]
  },
  {
   "cell_type": "markdown",
   "metadata": {},
   "source": [
    "## scalar multiplication\n",
    "- A vector may also be multiplied, or **re-scaled**, by a real number **r**. \n",
    "- In the context of vector algebra, these real numbers are often called **scalars** (from scale).\n",
    "- $r\\vec{a}= e_1(ra_1)+e_2(ra_2)+e_3(ra_3)$\n",
    "- if $r > 0$  then $r\\vec{a}$ has the same direction as $\\vec{a}$  and $r$ times the length of $\\vec{a}$ \n",
    "- if $r < 0$  then $r\\vec{a}$ has the opposite direction as $\\vec{a}$  and $r$ times the length of $\\vec{a}$ \n",
    "- if $r = 0$  then $r\\vec{a}=0$ "
   ]
  },
  {
   "cell_type": "code",
   "execution_count": 17,
   "metadata": {},
   "outputs": [
    {
     "data": {
      "text/latex": [
       "$\\displaystyle \\left[\\begin{matrix}-4\\\\-8\\\\-12\\end{matrix}\\right]$"
      ],
      "text/plain": [
       "Matrix([\n",
       "[ -4],\n",
       "[ -8],\n",
       "[-12]])"
      ]
     },
     "execution_count": 17,
     "metadata": {},
     "output_type": "execute_result"
    }
   ],
   "source": [
    "4*a\n",
    "0*a\n",
    "-4*a"
   ]
  },
  {
   "cell_type": "markdown",
   "metadata": {},
   "source": [
    "## Norm or Magnitude \n",
    "The Norm of  $\\vec{a}$ is denoted ||a|| is defined as the length or magnitude of the vector and can be calculated using the formula: <br>\n",
    "$||a|| = \\sqrt{a_1^2+ ... + a_n^2}$"
   ]
  },
  {
   "cell_type": "code",
   "execution_count": 21,
   "metadata": {},
   "outputs": [
    {
     "data": {
      "text/latex": [
       "$\\displaystyle \\sqrt{14}$"
      ],
      "text/plain": [
       "sqrt(14)"
      ]
     },
     "execution_count": 21,
     "metadata": {},
     "output_type": "execute_result"
    }
   ],
   "source": [
    "a = sym.Matrix([3, 2, 1])\n",
    "a.norm()  # return the norm of a vector | v | = √ v · v :"
   ]
  },
  {
   "cell_type": "markdown",
   "metadata": {},
   "source": [
    "## inner/  dot product \n",
    "$ u\\cdotp v = u^Tv$<br>\n",
    "Sum of the element-wise products<br>\n",
    "The dot product of two vectors lie in the same plane of the two vectors. <br>\n",
    "The dot product may be a positive real number or a negative real number."
   ]
  },
  {
   "cell_type": "code",
   "execution_count": 17,
   "metadata": {},
   "outputs": [
    {
     "data": {
      "text/latex": [
       "$\\displaystyle \\left[\\begin{matrix}14\\end{matrix}\\right]$"
      ],
      "text/plain": [
       "Matrix([[14]])"
      ]
     },
     "execution_count": 17,
     "metadata": {},
     "output_type": "execute_result"
    }
   ],
   "source": [
    "u = sym.Matrix([1, 2, 3])\n",
    "v = sym.Matrix([1, 2, 3])\n",
    "u.dot(v)  # whereas this gives the scalar directly\n",
    "u.T * v  # note the result is a 1 by 1 matrix"
   ]
  },
  {
   "cell_type": "markdown",
   "metadata": {},
   "source": [
    "## Cross Product\n",
    "- a × b of two vectors is another (dual) vector that is at right angles (perpendicular) to both\n",
    "- if the vectors a & b have 3 dimensions x, y, z the cross product is the vector c <br>\n",
    "resulting from the cross product  c has the coordinates:\n",
    "- $c_x = a_yb_z − a_zb_y$\n",
    "- $c_y = a_zb_x − a_x b_z$\n",
    "- $c_z = a_xb_y − a_yb_x$"
   ]
  },
  {
   "cell_type": "code",
   "execution_count": 20,
   "metadata": {},
   "outputs": [
    {
     "data": {
      "text/latex": [
       "$\\displaystyle \\left[\\begin{matrix}4\\\\-8\\\\4\\end{matrix}\\right]$"
      ],
      "text/plain": [
       "Matrix([\n",
       "[ 4],\n",
       "[-8],\n",
       "[ 4]])"
      ]
     },
     "execution_count": 20,
     "metadata": {},
     "output_type": "execute_result"
    }
   ],
   "source": [
    "# cross product of two 3-vectors v × w :\n",
    "a = sym.Matrix([3, 2, 1])\n",
    "b = sym.Matrix([1, 2, 3])\n",
    "a.cross(b)"
   ]
  },
  {
   "cell_type": "markdown",
   "metadata": {},
   "source": [
    "## normalized Vector\n",
    "The normalized vector of X is a vector in the same direction but with norm (length) 1. <br>\n",
    "It is denoted $\\hat{X}$ and given by $\\hat{X}= \\frac{X}{||X||}$, where $||X||$ is the norm of $X$. <br>\n",
    "It is also called a unit vector.\n"
   ]
  },
  {
   "cell_type": "code",
   "execution_count": 23,
   "metadata": {},
   "outputs": [
    {
     "data": {
      "text/latex": [
       "$\\displaystyle \\left[\\begin{matrix}\\frac{3 \\sqrt{14}}{14}\\\\\\frac{\\sqrt{14}}{7}\\\\\\frac{\\sqrt{14}}{14}\\end{matrix}\\right]$"
      ],
      "text/plain": [
       "Matrix([\n",
       "[3*sqrt(14)/14],\n",
       "[   sqrt(14)/7],\n",
       "[  sqrt(14)/14]])"
      ]
     },
     "execution_count": 23,
     "metadata": {},
     "output_type": "execute_result"
    }
   ],
   "source": [
    "a.normalized()  # return the normalized vector "
   ]
  },
  {
   "cell_type": "markdown",
   "metadata": {},
   "source": [
    "## linear combination of two vectors"
   ]
  },
  {
   "cell_type": "code",
   "execution_count": null,
   "metadata": {},
   "outputs": [],
   "source": [
    "\n",
    "v_1 = sym.Matrix([c, d])\n",
    "v_2 = sym.Matrix([e, f])\n",
    "a * v_1 + b * v_2\n"
   ]
  },
  {
   "cell_type": "markdown",
   "metadata": {},
   "source": [
    "# Matrices\n",
    "- A matrix is a two-dimensional collection of numbers. \n",
    "- Matrices are represented as lists of lists, with each inner list having the same size and representing <br>\n",
    "a row of the matrix. \n",
    "- If A is a matrix, then $A[i][j]$ is the element in the $i_{th}$ row and the $j_{th}$ column. \n",
    "- If a matrix has **n rows and k columns**, we will refer to it as an **n × k matrix**.\n",
    "- **(n, k)** is  considered as the **shape** of a Matrix\n",
    "- We can use a matrix to represent a dataset consisting of multiple vectors, by considering each <br>\n",
    "vector as a row of the matrix.\n",
    "- We can use an n × k matrix to represent a linear function that maps k-dimensional vectors to <br>\n",
    "n-dimensional vectors. \n",
    "-  Matrices can be used to **represent binary relationships**."
   ]
  },
  {
   "cell_type": "code",
   "execution_count": 21,
   "metadata": {},
   "outputs": [
    {
     "name": "stdout",
     "output_type": "stream",
     "text": [
      "[[1 2 3]\n",
      " [4 5 6]\n",
      " [7 8 9]]\n"
     ]
    },
    {
     "data": {
      "text/latex": [
       "$\\displaystyle \\left[\\begin{matrix}a & b & c\\\\d & e & f\\\\g & h & i\\end{matrix}\\right]$"
      ],
      "text/plain": [
       "Matrix([\n",
       "[a, b, c],\n",
       "[d, e, f],\n",
       "[g, h, i]])"
      ]
     },
     "execution_count": 21,
     "metadata": {},
     "output_type": "execute_result"
    }
   ],
   "source": [
    "import sympy as sym\n",
    "import numpy as np\n",
    "a, b, c, d, e, f, g, h, i = sym.symbols('a:i')  # shorthand for multiple symbols\n",
    "A_ = np.array([[1, 2, 3], [4, 5, 6], [7, 8, 9]])\n",
    "A = sym.Matrix([[a, b, c], [d, e, f], [g,h,i]]) # symbolic matrix\n",
    "print(A_)\n",
    "A"
   ]
  },
  {
   "cell_type": "code",
   "execution_count": null,
   "metadata": {},
   "outputs": [
    {
     "data": {
      "text/plain": [
       "(3, 3)"
      ]
     },
     "metadata": {},
     "output_type": "display_data"
    }
   ],
   "source": [
    "# shape of a matrix - rows, cols\n",
    "A_.shape"
   ]
  },
  {
   "cell_type": "code",
   "execution_count": null,
   "metadata": {},
   "outputs": [
    {
     "data": {
      "text/latex": [
       "$\\displaystyle g$"
      ],
      "text/plain": [
       "g"
      ]
     },
     "metadata": {},
     "output_type": "display_data"
    }
   ],
   "source": [
    "A[2,0]"
   ]
  },
  {
   "cell_type": "code",
   "execution_count": null,
   "metadata": {},
   "outputs": [
    {
     "data": {
      "text/plain": [
       "True"
      ]
     },
     "metadata": {},
     "output_type": "display_data"
    }
   ],
   "source": [
    "# RELATIONSHIP\n",
    "#                               0  1  2   3  4  5  6  7  8  9\n",
    "friend_matrix =   [[0, 1, 1, 0, 0, 0, 0, 0, 0, 0],  # user 0\n",
    "                                [1, 0, 1, 1, 0, 0, 0, 0, 0, 0],  # user 1\n",
    "                                [1, 1, 0, 1, 0, 0, 0, 0, 0, 0],  # user 2\n",
    "                                [0, 1, 1, 0, 1, 0, 0, 0, 0, 0],  # user 3\n",
    "                                [0, 0, 0, 1, 0, 1, 0, 0, 0, 0],  # user 4\n",
    "                                [0, 0, 0, 0, 1, 0, 1, 1, 0, 0],  # user 5\n",
    "                                [0, 0, 0, 0, 0, 1, 0, 0, 1, 0],  # user 6\n",
    "                                [0, 0, 0, 0, 0, 1, 0, 0, 1, 0],  # user 7\n",
    "                                [0, 0, 0, 0, 0, 0, 1, 1, 0, 1],  # user 8\n",
    "                                [0, 0, 0, 0, 0, 0, 0, 0, 1, 0]]  # user 9\n",
    "\n",
    "friend_matrix[0][8] == 0, # \"0 and 8 are not connected\"\n",
    "friend_matrix[0][2] == 1  # \"0 and 2 connected"
   ]
  },
  {
   "cell_type": "code",
   "execution_count": 48,
   "metadata": {},
   "outputs": [
    {
     "data": {
      "image/png": "[encoded data removed]",
      "text/latex": [
       "$\\displaystyle \\left( 2, \\  3\\right)$"
      ],
      "text/plain": [
       "(2, 3)"
      ]
     },
     "execution_count": 48,
     "metadata": {},
     "output_type": "execute_result"
    }
   ],
   "source": [
    "A.rows\n",
    "A.cols\n",
    "A.shape"
   ]
  },
  {
   "cell_type": "code",
   "execution_count": 38,
   "metadata": {},
   "outputs": [
    {
     "data": {
      "image/png": "[encoded data removed]",
      "text/latex": [
       "$\\displaystyle d$"
      ],
      "text/plain": [
       "d"
      ]
     },
     "execution_count": 38,
     "metadata": {},
     "output_type": "execute_result"
    }
   ],
   "source": [
    "A[1, 0] # access element [row/col]\n",
    "A[:, 0], A[1, :] # access slices\n",
    "B = A[:, 0:2] # slice of A as B\n",
    "B[0, 0] = i # change element\n",
    "B"
   ]
  },
  {
   "cell_type": "markdown",
   "metadata": {},
   "source": [
    "## Transpose\n",
    "- $A^T$ is obtained by changing the rows into columns and columns into rows for a given matrix. \n",
    "- It is especially useful in applications where inverse and adjoint of matrices are to be obtained.\n",
    "- If A is a 3×5 matrix, then AT will be a 5×3 matrix.\n",
    "- A matrix is symmetric if it doesn’t change when you take its transpose."
   ]
  },
  {
   "cell_type": "code",
   "execution_count": 38,
   "metadata": {},
   "outputs": [
    {
     "data": {
      "text/latex": [
       "$\\displaystyle \\left[\\begin{matrix}1 & 2\\\\2 & 4\\\\3 & 5\\\\4 & 6\\end{matrix}\\right]$"
      ],
      "text/plain": [
       "Matrix([\n",
       "[1, 2],\n",
       "[2, 4],\n",
       "[3, 5],\n",
       "[4, 6]])"
      ]
     },
     "execution_count": 38,
     "metadata": {},
     "output_type": "execute_result"
    }
   ],
   "source": [
    "A.T # transpose"
   ]
  },
  {
   "cell_type": "markdown",
   "metadata": {},
   "source": [
    "## Diagonal Matrix\n",
    "- A diagonal matrix is an n×n matrix in which the only nonzero entries lie on the diagonal.\n",
    "- An upper (lower) triangular matrix is a matrix in which any nonzero entries lie on or above (below) the diagonal."
   ]
  },
  {
   "cell_type": "code",
   "execution_count": 41,
   "metadata": {},
   "outputs": [
    {
     "data": {
      "text/latex": [
       "$\\displaystyle \\left[\\begin{matrix}6 & 0 & 0 & 0 & 0\\\\0 & 5 & 0 & 0 & 0\\\\0 & 0 & 9 & 0 & 0\\\\0 & 0 & 0 & 4 & 0\\\\0 & 0 & 0 & 0 & 7\\end{matrix}\\right]$"
      ],
      "text/plain": [
       "Matrix([\n",
       "[6, 0, 0, 0, 0],\n",
       "[0, 5, 0, 0, 0],\n",
       "[0, 0, 9, 0, 0],\n",
       "[0, 0, 0, 4, 0],\n",
       "[0, 0, 0, 0, 7]])"
      ]
     },
     "execution_count": 41,
     "metadata": {},
     "output_type": "execute_result"
    }
   ],
   "source": [
    "D = sym.Matrix([\n",
    "        [6, 0, 0, 0, 0], \n",
    "        [0, 5, 0, 0, 0], \n",
    "        [0, 0, 9, 0, 0], \n",
    "        [0, 0, 0, 4, 0], \n",
    "        [0, 0, 0, 0, 7]])\n",
    "D"
   ]
  },
  {
   "cell_type": "code",
   "execution_count": 42,
   "metadata": {},
   "outputs": [],
   "source": [
    "# If the elements of a matrix should never be changed, one can use an ImmutableMatrix\n",
    "C = ImmutableMatrix([[a, b,],\n",
    "                                         [c, d]])\n",
    "\n",
    "# C[0, 0] = i  # this isn't allowed!"
   ]
  },
  {
   "cell_type": "code",
   "execution_count": 52,
   "metadata": {},
   "outputs": [
    {
     "data": {
      "text/latex": [
       "$\\displaystyle \\left[\\begin{matrix}a\\\\b\\end{matrix}\\right]$"
      ],
      "text/plain": [
       "⎡a⎤\n",
       "⎢ ⎥\n",
       "⎣b⎦"
      ]
     },
     "execution_count": 52,
     "metadata": {},
     "output_type": "execute_result"
    }
   ],
   "source": [
    "Matrix([[a, b]]) # row vector\n",
    "Matrix([[c], [d]])  # column vector\n",
    "Matrix( [a, b] )  # If we include only a single pair of brackets [], a column vector is produced by default"
   ]
  },
  {
   "cell_type": "markdown",
   "metadata": {},
   "source": [
    "## Identity Matrix \n",
    "- In linear algebra, the identity matrix of size $n$ denoted $I_n$  is the $n \\times n$ <br> \n",
    "square matrix with ones on the main diagonal and zeros elsewhere. \n",
    "- $I_n$ is an identity with respect to multiplication. \n",
    "- By multiplying any matrix A with the identity matrix of the same order, we get the same <br>\n",
    "matrix as the product and hence the name \"identity\" for it.\n",
    "- $AI = IA = A$\n",
    "- Multiplying by the  $I_n$  is like multiplying by 1 with numbers.\n",
    "- When working with matrix multiplication, the size of a matrix is important as the <br>\n",
    "multiplication is not always defined. Therefore for an m×n matrix A: $I_mA=A=AI_n$\n",
    "- If $A_{2×4}$  $\\rightarrow$  $I_2A = A$ and  $AI_4=A$\n",
    "- By definition, when you multiply two matrices that are **inverses** of each other, then you <br>\n",
    "will get the identity matrix.\n",
    "-  Invertible matrices, which are those matrices that have an inverse. <br>\n",
    "If A and B are invertible then: $AB=BA=I$ holds\n"
   ]
  },
  {
   "cell_type": "code",
   "execution_count": 31,
   "metadata": {},
   "outputs": [
    {
     "data": {
      "text/latex": [
       "$\\displaystyle \\left[\\begin{matrix}1 & 2 & 3 & 4\\\\2 & 4 & 5 & 6\\end{matrix}\\right]$"
      ],
      "text/plain": [
       "Matrix([\n",
       "[1, 2, 3, 4],\n",
       "[2, 4, 5, 6]])"
      ]
     },
     "execution_count": 31,
     "metadata": {},
     "output_type": "execute_result"
    }
   ],
   "source": [
    "I_2 = sym.eye(2)\n",
    "I_4 = sym.eye(4)\n",
    "A=sym.Matrix([[1,2,3,4], [2,4,5,6]])\n",
    "A"
   ]
  },
  {
   "cell_type": "code",
   "execution_count": 37,
   "metadata": {},
   "outputs": [
    {
     "data": {
      "text/latex": [
       "$\\displaystyle \\left[\\begin{matrix}1 & 0 & 0 & 0\\\\0 & 1 & 0 & 0\\\\0 & 0 & 1 & 0\\\\0 & 0 & 0 & 1\\end{matrix}\\right]$"
      ],
      "text/plain": [
       "Matrix([\n",
       "[1, 0, 0, 0],\n",
       "[0, 1, 0, 0],\n",
       "[0, 0, 1, 0],\n",
       "[0, 0, 0, 1]])"
      ]
     },
     "execution_count": 37,
     "metadata": {},
     "output_type": "execute_result"
    }
   ],
   "source": [
    "I_4"
   ]
  },
  {
   "cell_type": "code",
   "execution_count": 35,
   "metadata": {},
   "outputs": [
    {
     "data": {
      "text/latex": [
       "$\\displaystyle \\left[\\begin{matrix}1 & 2 & 3 & 4\\\\2 & 4 & 5 & 6\\end{matrix}\\right]$"
      ],
      "text/plain": [
       "Matrix([\n",
       "[1, 2, 3, 4],\n",
       "[2, 4, 5, 6]])"
      ]
     },
     "execution_count": 35,
     "metadata": {},
     "output_type": "execute_result"
    }
   ],
   "source": [
    "I_2*A # the columns of the former  = rows of the latter\n",
    "A*I_4 # a has four cols and I_4 has 4 rows"
   ]
  },
  {
   "cell_type": "code",
   "execution_count": null,
   "metadata": {},
   "outputs": [
    {
     "data": {
      "text/latex": [
       "$\\displaystyle \\left[\\begin{matrix}0 & 0 & 0 & 0\\\\0 & 0 & 0 & 0\\\\0 & 0 & 0 & 0\\\\0 & 0 & 0 & 0\\end{matrix}\\right]$"
      ],
      "text/plain": [
       "⎡0  0  0  0⎤\n",
       "⎢          ⎥\n",
       "⎢0  0  0  0⎥\n",
       "⎢          ⎥\n",
       "⎢0  0  0  0⎥\n",
       "⎢          ⎥\n",
       "⎣0  0  0  0⎦"
      ]
     },
     "metadata": {},
     "output_type": "display_data"
    }
   ],
   "source": [
    "# Zero matrix\n",
    "sym.zeros(4)"
   ]
  },
  {
   "cell_type": "code",
   "execution_count": null,
   "metadata": {},
   "outputs": [
    {
     "data": {
      "text/latex": [
       "$\\displaystyle \\left[\\begin{matrix}1 & 1 & 1\\\\1 & 1 & 1\\end{matrix}\\right]$"
      ],
      "text/plain": [
       "⎡1  1  1⎤\n",
       "⎢       ⎥\n",
       "⎣1  1  1⎦"
      ]
     },
     "metadata": {},
     "output_type": "display_data"
    }
   ],
   "source": [
    "# one matrix\n",
    "sym.ones(2, 3)"
   ]
  },
  {
   "cell_type": "markdown",
   "metadata": {},
   "source": [
    "## outer product\n",
    "$ u \\bigotimes v = uv^T$"
   ]
  },
  {
   "cell_type": "code",
   "execution_count": 64,
   "metadata": {},
   "outputs": [
    {
     "data": {
      "text/latex": [
       "$\\displaystyle \\left[\\begin{matrix}a d & a e & a f\\\\b d & b e & b f\\\\c d & c e & c f\\end{matrix}\\right]$"
      ],
      "text/plain": [
       "⎡a⋅d  a⋅e  a⋅f⎤\n",
       "⎢             ⎥\n",
       "⎢b⋅d  b⋅e  b⋅f⎥\n",
       "⎢             ⎥\n",
       "⎣c⋅d  c⋅e  c⋅f⎦"
      ]
     },
     "execution_count": 64,
     "metadata": {},
     "output_type": "execute_result"
    }
   ],
   "source": [
    "v_1 = sym.Matrix([a,b,c])\n",
    "v_2 = sym.Matrix([d,e,f,])\n",
    "v_1*v_2.T"
   ]
  },
  {
   "cell_type": "code",
   "execution_count": 31,
   "metadata": {},
   "outputs": [
    {
     "data": {
      "text/latex": [
       "$\\displaystyle \\left[\\begin{matrix}1 & 2 & 3\\\\2 & 4 & 6\\\\3 & 6 & 9\\end{matrix}\\right]$"
      ],
      "text/plain": [
       "Matrix([\n",
       "[1, 2, 3],\n",
       "[2, 4, 6],\n",
       "[3, 6, 9]])"
      ]
     },
     "execution_count": 31,
     "metadata": {},
     "output_type": "execute_result"
    }
   ],
   "source": [
    "u = sym.Matrix([1, 2, 3])\n",
    "v = sym.Matrix([1,2,3])\n",
    "u*v.T"
   ]
  },
  {
   "cell_type": "markdown",
   "metadata": {},
   "source": [
    "## product of matrix and a vector"
   ]
  },
  {
   "cell_type": "code",
   "execution_count": 66,
   "metadata": {},
   "outputs": [
    {
     "data": {
      "text/latex": [
       "$\\displaystyle \\left[\\begin{matrix}a & b & c\\\\d & e & f\\end{matrix}\\right]$"
      ],
      "text/plain": [
       "⎡a  b  c⎤\n",
       "⎢       ⎥\n",
       "⎣d  e  f⎦"
      ]
     },
     "execution_count": 66,
     "metadata": {},
     "output_type": "execute_result"
    }
   ],
   "source": [
    "A # 2x3"
   ]
  },
  {
   "cell_type": "code",
   "execution_count": 67,
   "metadata": {},
   "outputs": [
    {
     "data": {
      "text/latex": [
       "$\\displaystyle \\left[\\begin{matrix}g\\\\h\\\\i\\end{matrix}\\right]$"
      ],
      "text/plain": [
       "⎡g⎤\n",
       "⎢ ⎥\n",
       "⎢h⎥\n",
       "⎢ ⎥\n",
       "⎣i⎦"
      ]
     },
     "execution_count": 67,
     "metadata": {},
     "output_type": "execute_result"
    }
   ],
   "source": [
    "v = Matrix([g, h, i]) # 3x1\n",
    "v"
   ]
  },
  {
   "cell_type": "code",
   "execution_count": 65,
   "metadata": {},
   "outputs": [
    {
     "data": {
      "text/latex": [
       "$\\displaystyle \\left[\\begin{matrix}a g + b h + c i\\\\d g + e h + f i\\end{matrix}\\right]$"
      ],
      "text/plain": [
       "⎡a⋅g + b⋅h + c⋅i⎤\n",
       "⎢               ⎥\n",
       "⎣d⋅g + e⋅h + f⋅i⎦"
      ]
     },
     "execution_count": 65,
     "metadata": {},
     "output_type": "execute_result"
    }
   ],
   "source": [
    "A * v # 2x3"
   ]
  },
  {
   "cell_type": "code",
   "execution_count": 6,
   "metadata": {},
   "outputs": [
    {
     "data": {
      "text/latex": [
       "$\\displaystyle \\sqrt{14}$"
      ],
      "text/plain": [
       "sqrt(14)"
      ]
     },
     "execution_count": 6,
     "metadata": {},
     "output_type": "execute_result"
    }
   ],
   "source": [
    "x.norm() # lenght (norm) a vector"
   ]
  },
  {
   "cell_type": "markdown",
   "metadata": {},
   "source": [
    "## Matrix artithmetic"
   ]
  },
  {
   "cell_type": "code",
   "execution_count": 81,
   "metadata": {},
   "outputs": [
    {
     "data": {
      "text/latex": [
       "$\\displaystyle \\left[\\begin{matrix}2 & 5\\\\1 & 3\\end{matrix}\\right]$"
      ],
      "text/plain": [
       "⎡2  5⎤\n",
       "⎢    ⎥\n",
       "⎣1  3⎦"
      ]
     },
     "execution_count": 81,
     "metadata": {},
     "output_type": "execute_result"
    }
   ],
   "source": [
    "m=sym.Matrix([[1, 2], [3, 4]])\n",
    "n=sym.Matrix([[2, 5], [1, 3]])\n",
    "n"
   ]
  },
  {
   "cell_type": "code",
   "execution_count": 82,
   "metadata": {},
   "outputs": [
    {
     "data": {
      "text/latex": [
       "$\\displaystyle \\left[\\begin{matrix}10 & 25\\\\5 & 15\\end{matrix}\\right]$"
      ],
      "text/plain": [
       "⎡10  25⎤\n",
       "⎢      ⎥\n",
       "⎣5   15⎦"
      ]
     },
     "execution_count": 82,
     "metadata": {},
     "output_type": "execute_result"
    }
   ],
   "source": [
    "m + n\n",
    "m - n\n",
    "m * n  # Matrix Multiply\n",
    "5 * n  # Scalar Multiply"
   ]
  },
  {
   "cell_type": "code",
   "execution_count": 79,
   "metadata": {},
   "outputs": [
    {
     "data": {
      "text/latex": [
       "$\\displaystyle \\left[\\begin{matrix}2 & 5 & 5\\\\1 & 3 & 4\\\\2 & 4 & 1\\end{matrix}\\right]$"
      ],
      "text/plain": [
       "⎡2  5  5⎤\n",
       "⎢       ⎥\n",
       "⎢1  3  4⎥\n",
       "⎢       ⎥\n",
       "⎣2  4  1⎦"
      ]
     },
     "execution_count": 79,
     "metadata": {},
     "output_type": "execute_result"
    }
   ],
   "source": [
    "o = sym.Matrix([[2, 5, 5], [1, 3, 4], [2, 4, 1]])\n",
    "o"
   ]
  },
  {
   "cell_type": "code",
   "execution_count": null,
   "metadata": {},
   "outputs": [],
   "source": [
    "o.det()\n",
    "o.T\n",
    "o.trace()\n",
    "o.rank()\n",
    "o.eigenvects()\n",
    "o.eigenvals()"
   ]
  },
  {
   "cell_type": "markdown",
   "metadata": {},
   "source": [
    "## Inverse \n",
    "$A^{-1}$\n",
    "\n",
    "The inverse of an invertible square matrix $A$ is noted $A^{−1}$ and is the only matrix such that: $AA^{-1} = A^{−1}A = I$\n",
    "-  $A^{-1}$ is unique if it exists.\n",
    "-  $(A^{-1})^{-1}$ = A.\n",
    "- $(A^{-1})^T = (A^T)^{−1}$.\n",
    "- $(AB)^{-1} = B^{-1} A^{-1}$."
   ]
  },
  {
   "cell_type": "code",
   "execution_count": 9,
   "metadata": {},
   "outputs": [
    {
     "data": {
      "text/latex": [
       "$\\displaystyle \\left[\\begin{matrix}-2 & 1\\\\\\frac{3}{2} & - \\frac{1}{2}\\end{matrix}\\right]$"
      ],
      "text/plain": [
       "Matrix([\n",
       "[ -2,    1],\n",
       "[3/2, -1/2]])"
      ]
     },
     "execution_count": 9,
     "metadata": {},
     "output_type": "execute_result"
    }
   ],
   "source": [
    "m.inv()"
   ]
  },
  {
   "cell_type": "markdown",
   "metadata": {},
   "source": [
    "## Symmetric Matrix\n",
    "A symmetric matrix is a square matrix that is equal to its transpose $A=A^T$\n",
    "We see that in general, the outer product of vector (a) with itself is symmetric.\n",
    "The outer product $xy^T$ is generally not symmetric, because $\\mathbf{x}_ i \\mathbf{y}_ j \\neq \\mathbf{x}_ j \\mathbf{y}^ i$ for some $i, j$. "
   ]
  },
  {
   "cell_type": "code",
   "execution_count": 88,
   "metadata": {},
   "outputs": [
    {
     "data": {
      "text/latex": [
       "$\\displaystyle \\left[\\begin{matrix}1 & 2 & 3\\\\2 & 4 & 6\\\\3 & 6 & 9\\end{matrix}\\right]$"
      ],
      "text/plain": [
       "⎡1  2  3⎤\n",
       "⎢       ⎥\n",
       "⎢2  4  6⎥\n",
       "⎢       ⎥\n",
       "⎣3  6  9⎦"
      ]
     },
     "execution_count": 88,
     "metadata": {},
     "output_type": "execute_result"
    }
   ],
   "source": [
    "a = sym.Matrix([1,2,3])\n",
    "b = sym.Matrix([1,1,1])\n",
    "F = a*a.T\n",
    "F"
   ]
  },
  {
   "cell_type": "code",
   "execution_count": 89,
   "metadata": {},
   "outputs": [
    {
     "data": {
      "text/latex": [
       "$\\displaystyle \\left[\\begin{matrix}1 & 2 & 3\\\\2 & 4 & 6\\\\3 & 6 & 9\\end{matrix}\\right]$"
      ],
      "text/plain": [
       "⎡1  2  3⎤\n",
       "⎢       ⎥\n",
       "⎢2  4  6⎥\n",
       "⎢       ⎥\n",
       "⎣3  6  9⎦"
      ]
     },
     "execution_count": 89,
     "metadata": {},
     "output_type": "execute_result"
    }
   ],
   "source": [
    "F.T"
   ]
  },
  {
   "cell_type": "code",
   "execution_count": 90,
   "metadata": {},
   "outputs": [
    {
     "data": {
      "text/latex": [
       "$\\displaystyle \\left[\\begin{matrix}1 & 1 & 1\\\\2 & 2 & 2\\\\3 & 3 & 3\\end{matrix}\\right]$"
      ],
      "text/plain": [
       "⎡1  1  1⎤\n",
       "⎢       ⎥\n",
       "⎢2  2  2⎥\n",
       "⎢       ⎥\n",
       "⎣3  3  3⎦"
      ]
     },
     "execution_count": 90,
     "metadata": {},
     "output_type": "execute_result"
    }
   ],
   "source": [
    "B = a*b.T\n",
    "B"
   ]
  },
  {
   "cell_type": "code",
   "execution_count": 91,
   "metadata": {},
   "outputs": [
    {
     "data": {
      "text/latex": [
       "$\\displaystyle \\left[\\begin{matrix}1 & 2 & 3\\\\1 & 2 & 3\\\\1 & 2 & 3\\end{matrix}\\right]$"
      ],
      "text/plain": [
       "⎡1  2  3⎤\n",
       "⎢       ⎥\n",
       "⎢1  2  3⎥\n",
       "⎢       ⎥\n",
       "⎣1  2  3⎦"
      ]
     },
     "execution_count": 91,
     "metadata": {},
     "output_type": "execute_result"
    }
   ],
   "source": [
    "B.T"
   ]
  },
  {
   "cell_type": "markdown",
   "metadata": {},
   "source": [
    "# Other Matrix Operations"
   ]
  },
  {
   "cell_type": "code",
   "execution_count": 83,
   "metadata": {},
   "outputs": [
    {
     "data": {
      "text/latex": [
       "$\\displaystyle \\left[\\begin{matrix}2 x - y\\\\- x + 2 y\\end{matrix}\\right]$"
      ],
      "text/plain": [
       "⎡2⋅x - y ⎤\n",
       "⎢        ⎥\n",
       "⎣-x + 2⋅y⎦"
      ]
     },
     "execution_count": 83,
     "metadata": {},
     "output_type": "execute_result"
    }
   ],
   "source": [
    "C = Matrix([[2, -1], [-1, 2]])\n",
    "x, y = symbols('x y')\n",
    "v = Matrix([x, y])\n",
    "#dot product of matrix and symbol vector\n",
    "p = C * v\n",
    "p"
   ]
  },
  {
   "cell_type": "markdown",
   "metadata": {},
   "source": [
    "## differentiation of a Matrix"
   ]
  },
  {
   "cell_type": "code",
   "execution_count": 84,
   "metadata": {},
   "outputs": [
    {
     "data": {
      "text/latex": [
       "$\\displaystyle \\left[\\begin{matrix}2\\\\-1\\end{matrix}\\right]$"
      ],
      "text/plain": [
       "⎡2 ⎤\n",
       "⎢  ⎥\n",
       "⎣-1⎦"
      ]
     },
     "execution_count": 84,
     "metadata": {},
     "output_type": "execute_result"
    }
   ],
   "source": [
    "p.diff(x)"
   ]
  },
  {
   "cell_type": "code",
   "execution_count": 92,
   "metadata": {},
   "outputs": [
    {
     "data": {
      "text/plain": [
       "False"
      ]
     },
     "execution_count": 92,
     "metadata": {},
     "output_type": "execute_result"
    }
   ],
   "source": [
    "F.is_symbolic()"
   ]
  },
  {
   "cell_type": "code",
   "execution_count": 93,
   "metadata": {},
   "outputs": [
    {
     "data": {
      "text/plain": [
       "True"
      ]
     },
     "execution_count": 93,
     "metadata": {},
     "output_type": "execute_result"
    }
   ],
   "source": [
    "p.is_symbolic()"
   ]
  },
  {
   "cell_type": "markdown",
   "metadata": {},
   "source": [
    "# Numpy Arrays\n",
    "- Nump arrays can represent Vectors and Matrices"
   ]
  },
  {
   "cell_type": "code",
   "execution_count": null,
   "metadata": {},
   "outputs": [
    {
     "data": {
      "text/plain": [
       "14"
      ]
     },
     "metadata": {},
     "output_type": "display_data"
    }
   ],
   "source": [
    "import numpy as np\n",
    "a = np.array([1, 2, 3])\n",
    "b = np.array ([4, 5, 6])\n",
    "np.add(a,b) # adds componentwise\n",
    "np.subtract(b,a) # subtracts compwise\n",
    "np.sum([[1, 2], [3, 4], [5, 6], [7, 8]], axis=0) # sums compwise\n",
    "4*a # scalar mutiplication\n",
    "np.mean([[1, 2, 4], [3, 4, 6], [5, 6, 8]], axis=0) # compwise mean\n",
    "np.dot(a,b) #  dot product: sum of the componentwise products = 4+10+18\n",
    "np.dot(a,a) # sum of squares - vector multiplied with itself and summed is the sum of squares\n",
    "np.sqrt(np.dot(a,a)) # lenght or magnitude of a vector is the square root of the sum of squares"
   ]
  },
  {
   "cell_type": "markdown",
   "metadata": {},
   "source": [
    "distance between two vectors\n",
    "$\\sqrt((v_1 − w_1 )^2+ ... + (v_n − w_n )^2)$"
   ]
  },
  {
   "cell_type": "code",
   "execution_count": null,
   "metadata": {},
   "outputs": [
    {
     "data": {
      "text/plain": [
       "5.196152422706632"
      ]
     },
     "metadata": {},
     "output_type": "display_data"
    }
   ],
   "source": [
    "a = np.array([1, 2, 3])\n",
    "b = np.array([4, 5, 6])\n",
    "difference = np.subtract(a, b)\n",
    "sum_of_squares = np.dot(difference, difference)\n",
    "distance = np.sqrt((sum_of_squares))\n",
    "distance"
   ]
  },
  {
   "cell_type": "markdown",
   "metadata": {},
   "source": [
    "# differential calculus"
   ]
  },
  {
   "cell_type": "markdown",
   "metadata": {},
   "source": [
    "## Simplify"
   ]
  },
  {
   "cell_type": "code",
   "execution_count": 5,
   "metadata": {},
   "outputs": [
    {
     "data": {
      "text/latex": [
       "$\\displaystyle x - 1$"
      ],
      "text/plain": [
       "x - 1"
      ]
     },
     "execution_count": 5,
     "metadata": {},
     "output_type": "execute_result"
    }
   ],
   "source": [
    "x = sym.Symbol('x')\n",
    "# simplify() that attempts to arrive at the simplest form of an expression.\n",
    "sym.simplify((x**3 + x**2 - x - 1) / (x**2 + 2 * x + 1))"
   ]
  },
  {
   "cell_type": "code",
   "execution_count": 5,
   "metadata": {},
   "outputs": [
    {
     "data": {
      "image/png": "[encoded data removed]",
      "text/latex": [
       "$\\displaystyle x^{6} - 8 x^{3} + 16$"
      ],
      "text/plain": [
       " 6      3     \n",
       "x  - 8⋅x  + 16"
      ]
     },
     "execution_count": 5,
     "metadata": {},
     "output_type": "execute_result"
    }
   ],
   "source": [
    "# Given a polynomial, expand() will put it into a canonical form of a sum of monomials.\n",
    "(x**3 - 4)**2\n",
    "sym.expand( (x**3 - 4)**2 )"
   ]
  },
  {
   "cell_type": "code",
   "execution_count": 80,
   "metadata": {},
   "outputs": [
    {
     "data": {
      "text/latex": [
       "$\\displaystyle \\left(x - 1\\right) \\left(x^{2} + 1\\right)$"
      ],
      "text/plain": [
       "(x - 1)*(x**2 + 1)"
      ]
     },
     "execution_count": 80,
     "metadata": {},
     "output_type": "execute_result"
    }
   ],
   "source": [
    "# factor() takes a polynomial and factors it into irreducible factors over the rational numbers.\n",
    "f = x**3 - x**2 + x - 1\n",
    "sym.factor(f)"
   ]
  },
  {
   "cell_type": "code",
   "execution_count": 95,
   "metadata": {},
   "outputs": [
    {
     "data": {
      "text/latex": [
       "$\\displaystyle \\frac{x + 1}{x}$"
      ],
      "text/plain": [
       "(x + 1)/x"
      ]
     },
     "execution_count": 95,
     "metadata": {},
     "output_type": "execute_result"
    }
   ],
   "source": [
    "# cancel() will take any rational function and put it into the standard canonical form p/q, \n",
    "# where p and q are expanded polynomials with no common factors, and the \n",
    "# leading coefficients of p and q do not have denominators\n",
    "e = (x**2 + 2 * x + 1) / (x**2 + x)\n",
    "e\n",
    "sym.cancel(e)\n"
   ]
  },
  {
   "cell_type": "code",
   "execution_count": 6,
   "metadata": {},
   "outputs": [
    {
     "data": {
      "image/png": "[encoded data removed]",
      "text/latex": [
       "$\\displaystyle x^{3} - x^{2} z + 2 x^{2} + x y + x - 3$"
      ],
      "text/plain": [
       " 3    2        2              \n",
       "x  - x ⋅z + 2⋅x  + x⋅y + x - 3"
      ]
     },
     "execution_count": 6,
     "metadata": {},
     "output_type": "execute_result"
    }
   ],
   "source": [
    "# collect() collects common powers of a term in an expression.\n",
    "x, y, z = sym.symbols('x y z')\n",
    "expr = x * y + x - 3 + 2 * x**2 - z * x**2 + x**3\n",
    "expr\n",
    "sym.collect(expr, y)"
   ]
  },
  {
   "cell_type": "markdown",
   "metadata": {},
   "source": [
    "## plot"
   ]
  },
  {
   "cell_type": "code",
   "execution_count": 65,
   "metadata": {},
   "outputs": [
    {
     "data": {
      "image/png": "[encoded data removed]",
      "text/plain": [
       "<Figure size 432x288 with 1 Axes>"
      ]
     },
     "metadata": {
      "needs_background": "light"
     },
     "output_type": "display_data"
    },
    {
     "data": {
      "text/plain": [
       "<sympy.plotting.plot.Plot at 0x7f4a470301f0>"
      ]
     },
     "execution_count": 65,
     "metadata": {},
     "output_type": "execute_result"
    }
   ],
   "source": [
    "from sympy.plotting import plot3d\n",
    "g = x**2 - y**(0.5)\n",
    "plot3d(g, (x, -5, 5), (y, -5, 5))  # cartesian surface: x*y for x over (-5.0, 5.0) and y over (-5.0, 5.0)"
   ]
  },
  {
   "cell_type": "code",
   "execution_count": 7,
   "metadata": {},
   "outputs": [
    {
     "data": {
      "image/png": "[encoded data removed]",
      "text/latex": [
       "$\\displaystyle \\left(a^{2} x - y\\right)^{2} - \\left(b + x + y\\right)^{2}$"
      ],
      "text/plain": [
       "          2               \n",
       "⎛ 2      ⎞               2\n",
       "⎝a ⋅x - y⎠  - (b + x + y) "
      ]
     },
     "execution_count": 7,
     "metadata": {},
     "output_type": "execute_result"
    }
   ],
   "source": [
    "a, b, x, y = sym.symbols('a b x y')         # define symbols\n",
    "f = (a**2 * x - y)**2 - (b + x + y)**2    # create a symbolic fct\n",
    "f"
   ]
  },
  {
   "cell_type": "markdown",
   "metadata": {},
   "source": [
    "## derivatives"
   ]
  },
  {
   "cell_type": "code",
   "execution_count": 8,
   "metadata": {},
   "outputs": [
    {
     "data": {
      "image/png": "[encoded data removed]",
      "text/latex": [
       "$\\displaystyle - 2 a^{2} x - 2 b - 2 x$"
      ],
      "text/plain": [
       "     2              \n",
       "- 2⋅a ⋅x - 2⋅b - 2⋅x"
      ]
     },
     "execution_count": 8,
     "metadata": {},
     "output_type": "execute_result"
    }
   ],
   "source": [
    "fx = sym.diff(f, x)    # partial derivates of f wrt. x\n",
    "fy = sym.diff(f, y)    # partial derivates of f wrt. y\n",
    "fy"
   ]
  },
  {
   "cell_type": "markdown",
   "metadata": {},
   "source": [
    "## system of equations"
   ]
  },
  {
   "cell_type": "code",
   "execution_count": 48,
   "metadata": {},
   "outputs": [
    {
     "data": {
      "text/plain": [
       "{x: -b/(a**2 + 1), y: -a**2*b/(a**2 + 1)}"
      ]
     },
     "execution_count": 48,
     "metadata": {},
     "output_type": "execute_result"
    }
   ],
   "source": [
    "sys_eq = sym.solve([f_1x, f_1y], [x, y])  # solve system of equations\n",
    "sys_eq  # x value at critical point is..."
   ]
  },
  {
   "cell_type": "markdown",
   "metadata": {},
   "source": [
    "\n",
    "$\\left\\{ x : - \\frac{b}{a^{2} + 1}, \\  y : - \\frac{a^{2} b}{a^{2} + 1}\\right\\}$\n"
   ]
  }
 ],
 "metadata": {
  "kernelspec": {
   "display_name": "Python 3.8.12 64-bit ('lewagon')",
   "language": "python",
   "name": "python3"
  },
  "language_info": {
   "codemirror_mode": {
    "name": "ipython",
    "version": 3
   },
   "file_extension": ".py",
   "mimetype": "text/x-python",
   "name": "python",
   "nbconvert_exporter": "python",
   "pygments_lexer": "ipython3",
   "version": "3.8.12"
  },
  "orig_nbformat": 4,
  "vscode": {
   "interpreter": {
    "hash": "ad7afd56c4a9327988b254949fc9ff6c4de57fd051da33a62b5f87e3ddafe8d2"
   }
  }
 },
 "nbformat": 4,
 "nbformat_minor": 2
}
