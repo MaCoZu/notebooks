{
 "cells": [
  {
   "cell_type": "markdown",
   "id": "95b33dce",
   "metadata": {},
   "source": [
    "# error handling"
   ]
  },
  {
   "cell_type": "markdown",
   "id": "2ea48bf6",
   "metadata": {},
   "source": [
    "## try ... except"
   ]
  },
  {
   "cell_type": "code",
   "execution_count": null,
   "id": "7d30cb23",
   "metadata": {},
   "outputs": [
    {
     "name": "stdout",
     "output_type": "stream",
     "text": [
      "we have an error\n",
      "\n",
      " the code continues even if there was an error, \n",
      " because we skipped the usual error message \n",
      " replaced it with our own message and got on with work\n"
     ]
    }
   ],
   "source": [
    "try:\n",
    "    print(a)\n",
    "except:\n",
    "    print('we have an error')\n",
    "\n",
    "t = '\\n the code continues even if there was an error, \\n because we skipped the usual error message \\n replaced it with our own message and got on with work'\n",
    "print(t)"
   ]
  },
  {
   "cell_type": "markdown",
   "id": "5292ee0c",
   "metadata": {},
   "source": [
    "## try...except...else"
   ]
  },
  {
   "cell_type": "code",
   "execution_count": null,
   "id": "68adfcd4",
   "metadata": {},
   "outputs": [
    {
     "name": "stdout",
     "output_type": "stream",
     "text": [
      "hello\n",
      "all went well\n"
     ]
    }
   ],
   "source": [
    "try:\n",
    "    a ='Hello'\n",
    "    print(a)\n",
    "except:\n",
    "    print('we have an error')\n",
    "else: \n",
    "    print('All went well')\n"
   ]
  },
  {
   "cell_type": "markdown",
   "id": "97015723",
   "metadata": {},
   "source": [
    "## finally\n",
    "- get's executed in any case: error or no error"
   ]
  },
  {
   "cell_type": "code",
   "execution_count": null,
   "id": "588f6705",
   "metadata": {},
   "outputs": [
    {
     "name": "stdout",
     "output_type": "stream",
     "text": [
      "we have an error\n",
      "\n",
      "I wanted to inform you nonetheless\n"
     ]
    }
   ],
   "source": [
    "try:\n",
    "    # a = 'Hello'\n",
    "    print(d)\n",
    "except:\n",
    "    print('we have an error')\n",
    "finally:\n",
    "    print('\\nI wanted to inform you nonetheless')\n"
   ]
  },
  {
   "cell_type": "markdown",
   "id": "e6609df2",
   "metadata": {},
   "source": [
    "## raise exception"
   ]
  },
  {
   "cell_type": "code",
   "execution_count": null,
   "id": "475b2fc0",
   "metadata": {},
   "outputs": [
    {
     "ename": "Exception",
     "evalue": "num is more than 5",
     "output_type": "error",
     "traceback": [
      "\u001b[0;31m---------------------------------------------------------------------------\u001b[0m\n",
      "\u001b[0;31mException\u001b[0m                                 Traceback (most recent call last)\n",
      "\u001b[0;32m/tmp/ipykernel_3124/1864124054.py\u001b[0m in \u001b[0;36m<module>\u001b[0;34m\u001b[0m\n",
      "\u001b[1;32m      1\u001b[0m \u001b[0mnum\u001b[0m \u001b[0;34m=\u001b[0m \u001b[0;36m10\u001b[0m\u001b[0;34m\u001b[0m\u001b[0;34m\u001b[0m\u001b[0m\n",
      "\u001b[1;32m      2\u001b[0m \u001b[0;32mif\u001b[0m \u001b[0mnum\u001b[0m \u001b[0;34m>\u001b[0m \u001b[0;36m5\u001b[0m\u001b[0;34m:\u001b[0m\u001b[0;34m\u001b[0m\u001b[0;34m\u001b[0m\u001b[0m\n",
      "\u001b[0;32m----> 3\u001b[0;31m     \u001b[0;32mraise\u001b[0m \u001b[0mException\u001b[0m\u001b[0;34m(\u001b[0m\u001b[0;34m'num is more than 5'\u001b[0m\u001b[0;34m)\u001b[0m\u001b[0;34m\u001b[0m\u001b[0;34m\u001b[0m\u001b[0m\n",
      "\u001b[0m\n",
      "\u001b[0;31mException\u001b[0m: num is more than 5"
     ]
    }
   ],
   "source": [
    "num = 10 \n",
    "if num > 5:\n",
    "    raise Exception('num is more than 5')"
   ]
  },
  {
   "cell_type": "markdown",
   "id": "c31ccd95",
   "metadata": {},
   "source": [
    "## Exception kind"
   ]
  },
  {
   "cell_type": "code",
   "execution_count": null,
   "id": "ac595961",
   "metadata": {},
   "outputs": [
    {
     "name": "stdout",
     "output_type": "stream",
     "text": [
      "you useed a variable that is not defined\n"
     ]
    }
   ],
   "source": [
    "try: \n",
    "    print(x)\n",
    "except NameError:\n",
    "    print('You used a variable that is not defined')"
   ]
  },
  {
   "cell_type": "markdown",
   "id": "24e754e2",
   "metadata": {},
   "source": [
    "# logging\n",
    "- captures and records events while app is running\n",
    "- useful debugging feature\n",
    "- real-time debugging is not always possible\n",
    "- events can be categorized for easier analysis\n",
    "- provides a tranaction record of  a program's execution\n",
    "- highly customizable output<br><br>\n",
    "- **logging.debug('This is a debug message')**: diagnostic info for debugging\n",
    "- **logging.info('This is an info message')**: general info about execution results\n",
    "- **logging.warning('This is a warning message')**: sth. unexpected or approaching problem\n",
    "- **logging.error('This is an error message')**: unable to perform specific operation due to problem\n",
    "- **logging.critical('This is a critical message')**: prog may not be able to continue, serious error\n",
    "\n",
    "## Customizations\n",
    "- **%(acstime)s**: human-readable date format when the log was created\n",
    "- **%(filename)s**: filename where the log message originated\n",
    "- **%(funcName) s**: unction name where the log message originated\n",
    "- **%(levelname)s**: string representation of the message level (DEBUG, INFO, etc) \n",
    "- **%(levelno)d**: numeric representation of the message level\n",
    "- **%(lineno)d**: source line number where the logging call was issued (if available)\n",
    "- **%(message)s**: the logged meaasge string itself\n",
    "-**%(module)s**: module name portion of the filename where the message was logged"
   ]
  },
  {
   "cell_type": "code",
   "execution_count": null,
   "id": "9e5437f3",
   "metadata": {},
   "outputs": [
    {
     "name": "stderr",
     "output_type": "stream",
     "text": [
      "WARNING:root:This is a warning message\n",
      "ERROR:root:This is an error message\n",
      "CRITICAL:root:This is a critical message\n"
     ]
    }
   ],
   "source": [
    "import logging\n",
    "logging.debug('This is a debug message')\n",
    "logging.info('This is an info message')\n",
    "logging.warning('This is a warning message')\n",
    "logging.error('This is an error message')\n",
    "logging.critical('This is a critical message')"
   ]
  },
  {
   "cell_type": "code",
   "execution_count": null,
   "id": "955e6fbd",
   "metadata": {},
   "outputs": [],
   "source": [
    "# Notice that the debug() and info() messages didn’t get logged.\n",
    "# This is because, by default, the logging module logs the messages\n",
    "# with a severity level of WARNING or above. You can change that\n",
    "# by configuring the logging module to log events of all levels if you want.\n",
    "# you need to restart the kernel bc. the basicConfig can only be configured once"
   ]
  },
  {
   "cell_type": "code",
   "execution_count": null,
   "id": "78adb200",
   "metadata": {},
   "outputs": [],
   "source": [
    "import logging\n",
    "\n",
    "extData={'user': 'joe@example.com'}\n",
    "\n",
    "def anotherFunction():\n",
    "    logging.debug(\"A debug-level message\", extra=extData)\n",
    "\n",
    "# datetime, process ID along with the level,\n",
    "# fct name, line number and message\n",
    "fmtstr = \"User: %(user)s %(asctime)s: %(process)d: %(levelname)s: \\\n",
    "                 %(funcName)s Line:%(lineno)d %(message)s\"\n",
    "\n",
    "# customized date format\n",
    "datestr = \"%m/%d/%Y %I:%M:%S %p\"\n",
    "\n",
    "logging.basicConfig(\n",
    "    level=logging.DEBUG, # lower logging level specified\n",
    "    filemode='w', # 'write log into file default is 'a' for apppend\n",
    "    filename='output.log',\n",
    "    format=fmtstr,\n",
    "    datefmt=datestr)\n",
    "\n",
    "logging.info(\"This is an info-level log message\", extra=extData)\n",
    "logging.info(\"This is will get logged to a file\", extra=extData)\n",
    "logging.debug(\"This is a debug log message\", extra=extData)\n",
    "logging.warning('This a warning message', extra=extData)\n",
    "anotherFunction()"
   ]
  },
  {
   "cell_type": "markdown",
   "id": "b0564c1c",
   "metadata": {},
   "source": [
    "# testing\n",
    "- __UNIT TESTING__ is a type of software testing where individual units or components of a software are tested. \n",
    "- The __doctest__ module searches for pieces of text that look like interactive Python sessions, and then executes those sessions to verify that they work exactly as shown. There are several common ways to use doctest:\n",
    "\n",
    "    - To check that a module’s docstrings are up-to-date by verifying that all interactive examples still work as documented.\n",
    "\n",
    "    - To perform regression testing by verifying that interactive examples from a test file or a test object work as expected.\n",
    "\n",
    "    - To write tutorial documentation for a package, liberally illustrated with input-output examples. Depending on whether the examples or the expository text are emphasized, this has the flavor of “literate testing” or “executable documentation”.\n"
   ]
  },
  {
   "cell_type": "markdown",
   "id": "6baa2544",
   "metadata": {},
   "source": [
    "## doctest & unittest\n",
    "https://mattermost.com/blog/testing-python-understanding-doctest-and-unittest/"
   ]
  },
  {
   "cell_type": "code",
   "execution_count": null,
   "id": "9e50a340",
   "metadata": {},
   "outputs": [],
   "source": [
    "import unittest\n"
   ]
  },
  {
   "cell_type": "code",
   "execution_count": null,
   "id": "4a6bfff9",
   "metadata": {},
   "outputs": [],
   "source": [
    "# quality control -> write tests for each function as it is developed\n",
    "import doctest\n"
   ]
  }
 ],
 "metadata": {
  "kernelspec": {
   "display_name": "Python 3.8.12 64-bit ('3.8.12')",
   "language": "python",
   "name": "python3"
  },
  "language_info": {
   "name": "python",
   "version": "3.8.12"
  },
  "orig_nbformat": 4,
  "vscode": {
   "interpreter": {
    "hash": "90e46ec4b387b633a89cba001294dbacbdc2d7a1806327e4b9e9ce73f0e3d3ef"
   }
  }
 },
 "nbformat": 4,
 "nbformat_minor": 2
}
