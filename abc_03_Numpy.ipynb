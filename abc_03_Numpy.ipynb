{
 "cells": [
  {
   "cell_type": "markdown",
   "id": "100d8cc5-e422-417e-8192-0df6dc219791",
   "metadata": {},
   "source": [
    "# numpy\n",
    "- NumPy works w. multidimensional arrays. A two-dimensional array is known as a matrix.\n",
    "- every dimension is called an axis, the no. of axis is the rank (rank = 2, if we've two dimensions)\n",
    "- first (0) axis (X)- rows, second (1) axis (Y) - columns\n",
    "- create a NumPy array with numpy.array() - all elements have to be in the same datatype"
   ]
  },
  {
   "cell_type": "markdown",
   "metadata": {},
   "source": [
    "![Axis](https://fgnt.github.io/python_crashkurs_doc/_images/numpy_array_t.png)"
   ]
  },
  {
   "cell_type": "code",
   "execution_count": 2,
   "metadata": {},
   "outputs": [],
   "source": [
    "import numpy as np\n",
    "import os\n",
    "import csv"
   ]
  },
  {
   "cell_type": "markdown",
   "id": "f7940e33",
   "metadata": {},
   "source": [
    "# arrays \n",
    "numpy takes just one datatype"
   ]
  },
  {
   "cell_type": "code",
   "execution_count": 4,
   "id": "70d16ad3",
   "metadata": {},
   "outputs": [
    {
     "data": {
      "text/plain": [
       "array([[1, 2, 3],\n",
       "       [4, 5, 6]])"
      ]
     },
     "execution_count": 4,
     "metadata": {},
     "output_type": "execute_result"
    }
   ],
   "source": [
    "A=np.array([[1,2,3], [4,5,6]])\n",
    "A"
   ]
  },
  {
   "cell_type": "code",
   "execution_count": 15,
   "id": "34003ac6",
   "metadata": {},
   "outputs": [
    {
     "data": {
      "text/plain": [
       "2"
      ]
     },
     "execution_count": 15,
     "metadata": {},
     "output_type": "execute_result"
    }
   ],
   "source": [
    "A[0,1] # [row, column]\n",
    "A[ : ,2] # all rows of col no. 3"
   ]
  },
  {
   "cell_type": "code",
   "execution_count": 6,
   "id": "cd12c299",
   "metadata": {},
   "outputs": [
    {
     "data": {
      "text/plain": [
       "array([[1.3, 2. , 4. ],\n",
       "       [2. , 4. , 6. ]])"
      ]
     },
     "execution_count": 6,
     "metadata": {},
     "output_type": "execute_result"
    }
   ],
   "source": [
    "np.array([(1.3,2,4),(2,4,6)], dtype = float)"
   ]
  },
  {
   "cell_type": "code",
   "execution_count": 19,
   "id": "df7fc8bc",
   "metadata": {},
   "outputs": [
    {
     "name": "stdout",
     "output_type": "stream",
     "text": [
      "[ 3  6  9 12 15 18 21 24 27]\n",
      "[ 1.    3.25  5.5   7.75 10.  ]\n"
     ]
    }
   ],
   "source": [
    "print(np.arange(3,30,3))    # range with stride\n",
    "print(np.linspace(1,10,5))  # evenly spaced range "
   ]
  },
  {
   "cell_type": "code",
   "execution_count": 22,
   "metadata": {},
   "outputs": [
    {
     "data": {
      "text/plain": [
       "array([0.49376166, 0.56475364, 0.73002504, 0.80794995, 0.03722532,\n",
       "       0.6284991 , 0.98744847, 0.39112427, 0.7887692 , 0.24196182])"
      ]
     },
     "execution_count": 22,
     "metadata": {},
     "output_type": "execute_result"
    }
   ],
   "source": [
    "np.random.randint(1, 50, 10) #  random samples int from [x, y]\n",
    "np.random.rand(10) # random samples from [0, 1]"
   ]
  },
  {
   "cell_type": "code",
   "execution_count": 97,
   "metadata": {},
   "outputs": [
    {
     "name": "stdout",
     "output_type": "stream",
     "text": [
      "[[0.35451274 0.39837773 0.74674831 0.02924287]\n",
      " [0.7024449  0.46382488 0.65357255 0.21708788]\n",
      " [0.47331155 0.9351989  0.54669392 0.24826899]]\n"
     ]
    }
   ],
   "source": [
    "np.random.rand(3, 4) # random samples from [0, 1] of specific shape"
   ]
  },
  {
   "cell_type": "code",
   "execution_count": 98,
   "metadata": {},
   "outputs": [
    {
     "name": "stdout",
     "output_type": "stream",
     "text": [
      "[[63 41 41 16]\n",
      " [73 82 42  3]\n",
      " [95 35  1 35]]\n"
     ]
    }
   ],
   "source": [
    "print(np.random.randint(1, 100, (3, 4))) # randim int from [x, y], (shape)"
   ]
  },
  {
   "cell_type": "code",
   "execution_count": null,
   "metadata": {},
   "outputs": [
    {
     "data": {
      "text/plain": [
       "array([0.37454012, 0.95071431, 0.73199394, 0.59865848])"
      ]
     },
     "metadata": {},
     "output_type": "display_data"
    }
   ],
   "source": [
    "np.random.seed(42) # same seed -> not so random anymore\n",
    "np.random.rand(4)"
   ]
  },
  {
   "cell_type": "code",
   "execution_count": null,
   "metadata": {},
   "outputs": [
    {
     "data": {
      "text/plain": [
       "array([0.37454012, 0.95071431, 0.73199394, 0.59865848])"
      ]
     },
     "metadata": {},
     "output_type": "display_data"
    }
   ],
   "source": [
    "np.random.seed(42)\n",
    "np.random.rand(4)"
   ]
  },
  {
   "cell_type": "code",
   "execution_count": 13,
   "id": "945d0411",
   "metadata": {},
   "outputs": [
    {
     "name": "stdout",
     "output_type": "stream",
     "text": [
      "[[6 6 6 6]\n",
      " [6 6 6 6]\n",
      " [6 6 6 6]\n",
      " [6 6 6 6]]\n",
      "\n",
      "\n",
      "[[1. 0. 0. 0.]\n",
      " [0. 1. 0. 0.]\n",
      " [0. 0. 1. 0.]\n",
      " [0. 0. 0. 1.]]\n",
      "\n",
      "\n",
      "[[0.4747014  0.08063103 0.00263648]\n",
      " [0.9463365  0.4476092  0.69605628]]\n"
     ]
    }
   ],
   "source": [
    "print(np.full((4, 4), 6))  # constant array/matrix\n",
    "print(\"\\n\")\n",
    "print(np.eye(4))                # Identity matrix\n",
    "print(\"\\n\")\n",
    "print(np.random.random((2,3)))  # random values\n"
   ]
  },
  {
   "cell_type": "markdown",
   "id": "ae344aa0-fcca-4c5f-b260-f5776c9752e8",
   "metadata": {},
   "source": [
    "## Create empty list/array"
   ]
  },
  {
   "cell_type": "code",
   "execution_count": 14,
   "id": "ca1d4e07",
   "metadata": {},
   "outputs": [
    {
     "data": {
      "text/plain": [
       "array([[4.67265660e-310, 0.00000000e+000, 1.01855798e-312,\n",
       "        9.54898106e-313],\n",
       "       [1.10343781e-312, 1.03977794e-312, 1.23075756e-312,\n",
       "        1.16709769e-312],\n",
       "       [1.08221785e-312, 9.76118064e-313, 1.16709769e-312,\n",
       "        1.90979621e-312]])"
      ]
     },
     "execution_count": 14,
     "metadata": {},
     "output_type": "execute_result"
    }
   ],
   "source": [
    "np.empty((3,4))"
   ]
  },
  {
   "cell_type": "code",
   "execution_count": 254,
   "id": "3fe17113-8fba-4e6f-90b3-3f8d5d7ed165",
   "metadata": {},
   "outputs": [
    {
     "name": "stdout",
     "output_type": "stream",
     "text": [
      "<class 'list'>\n",
      "<class 'list'>\n",
      "[[0, 0, 0, 0, 0], [0, 0, 0, 0, 0], [0, 0, 0, 0, 0]]\n"
     ]
    },
    {
     "data": {
      "text/plain": [
       "list"
      ]
     },
     "execution_count": 254,
     "metadata": {},
     "output_type": "execute_result"
    }
   ],
   "source": [
    "# In python, we don’t have built-in support for the array, but python lists can be used. \n",
    "li = [0]*3\n",
    "print(type(li))\n",
    "\n",
    "arr = [0 for a in range(3)]\n",
    "print(type(arr))\n",
    "\n",
    "# 2D list/array\n",
    "rows, cols = (3, 5)\n",
    "array2 = [[0]*cols]*rows\n",
    "print(array2)\n",
    "type(array2)"
   ]
  },
  {
   "cell_type": "code",
   "execution_count": 65,
   "metadata": {},
   "outputs": [
    {
     "data": {
      "text/plain": [
       "array([0., 0.])"
      ]
     },
     "execution_count": 65,
     "metadata": {},
     "output_type": "execute_result"
    }
   ],
   "source": [
    "np.zeros(2)\n",
    "np.ones(4)\n",
    "np.ones((4, 10))"
   ]
  },
  {
   "cell_type": "markdown",
   "metadata": {},
   "source": [
    "# value assignment"
   ]
  },
  {
   "cell_type": "code",
   "execution_count": 119,
   "metadata": {},
   "outputs": [
    {
     "name": "stdout",
     "output_type": "stream",
     "text": [
      "[[15 21 54 22]\n",
      " [60 63 74 18]\n",
      " [41 86  5 26]]\n",
      "\n",
      "\n",
      "[15 21 54 22]\n",
      "\n",
      "\n",
      "[[ 1  2  3 22]\n",
      " [ 0 63 74 18]\n",
      " [41 86  5 26]]\n",
      "\n",
      "\n",
      "[[ 1  2  3 22]\n",
      " [ 0 63 74 18]\n",
      " [ 1  1  1  1]]\n"
     ]
    }
   ],
   "source": [
    "arr = np.random.randint(1, 100, (3,4))\n",
    "print(arr)\n",
    "print(\"\\n\")\n",
    "print(arr[0, :4])\n",
    "print(\"\\n\")\n",
    "# assign values to certain elements in arrays\n",
    "arr[0, 0] = 1;  arr[0, 1] = 2; arr[0, 2] = 3; arr[1,0] = 0\n",
    "print(arr)\n",
    "print(\"\\n\")\n",
    "arr[2, 0:] = 1 # override whole last row with 1\n",
    "print(arr)"
   ]
  },
  {
   "cell_type": "markdown",
   "id": "fd743694",
   "metadata": {},
   "source": [
    "# array inspection"
   ]
  },
  {
   "cell_type": "code",
   "execution_count": 67,
   "id": "95a6ae96-264d-4b32-917c-6f14c0e77f4b",
   "metadata": {},
   "outputs": [
    {
     "name": "stdout",
     "output_type": "stream",
     "text": [
      "[[0.75595024 0.27756537 0.62030613]\n",
      " [0.11573456 0.5372433  0.26211243]\n",
      " [0.83143025 0.18551281 0.07638904]\n",
      " [0.69870221 0.3203892  0.65798455]]\n"
     ]
    }
   ],
   "source": [
    "d = np.random.random((4,3))\n",
    "print(d)"
   ]
  },
  {
   "cell_type": "code",
   "execution_count": 72,
   "id": "afc856e3",
   "metadata": {},
   "outputs": [
    {
     "name": "stdout",
     "output_type": "stream",
     "text": [
      "(4, 3)\n",
      "2\n",
      "4\n",
      "12\n",
      "float64\n",
      "\n",
      "\n",
      "[[0 0 0]\n",
      " [0 0 0]\n",
      " [0 0 0]\n",
      " [0 0 0]]\n"
     ]
    }
   ],
   "source": [
    "print(d.shape)\n",
    "print(d.ndim)   # counts dimensions (x,y,z)\n",
    "print(len(d))    # counts rows\n",
    "print(d.size)    # count all elements\n",
    "print(d.dtype)\n",
    "print(\"\\n\")\n",
    "print(d.astype(int))    # convert type to int"
   ]
  },
  {
   "cell_type": "markdown",
   "id": "40613a9c",
   "metadata": {},
   "source": [
    "# Subsetting, Slicing, Indexing"
   ]
  },
  {
   "cell_type": "code",
   "execution_count": 24,
   "id": "9616de74",
   "metadata": {},
   "outputs": [
    {
     "name": "stdout",
     "output_type": "stream",
     "text": [
      "[[1 2 3]\n",
      " [4 5 6]\n",
      " [7 8 9]]\n"
     ]
    }
   ],
   "source": [
    "g = np.array([[1,2,3],[4,5,6],[7,8,9]])\n",
    "print(g)"
   ]
  },
  {
   "cell_type": "code",
   "execution_count": 53,
   "id": "ee12544e",
   "metadata": {},
   "outputs": [
    {
     "name": "stdout",
     "output_type": "stream",
     "text": [
      "6\n",
      "5\n",
      "\n",
      "\n",
      "[[5 6]\n",
      " [8 9]]\n"
     ]
    }
   ],
   "source": [
    "print(g[1,2])\n",
    "print(g[1,1])\n",
    "print(\"\\n\")\n",
    "print(g[1:,1:])"
   ]
  },
  {
   "cell_type": "markdown",
   "metadata": {},
   "source": [
    "## Fancy Indexing"
   ]
  },
  {
   "cell_type": "code",
   "execution_count": 35,
   "metadata": {},
   "outputs": [
    {
     "name": "stdout",
     "output_type": "stream",
     "text": [
      "[50 55 60 65 70 75 80 85 90 95]\n",
      "[95 70 85]\n"
     ]
    }
   ],
   "source": [
    "h = np.arange(50, 100, 5)\n",
    "print(h)\n",
    "l = np.array([9, 4, 7]) # pick elements from their position\n",
    "print(h[l])\n"
   ]
  },
  {
   "cell_type": "code",
   "execution_count": 26,
   "metadata": {},
   "outputs": [
    {
     "name": "stdout",
     "output_type": "stream",
     "text": [
      "[[1 2 3]\n",
      " [4 5 6]\n",
      " [7 8 9]]\n"
     ]
    }
   ],
   "source": [
    "print(g)"
   ]
  },
  {
   "cell_type": "code",
   "execution_count": 293,
   "metadata": {},
   "outputs": [
    {
     "data": {
      "text/plain": [
       "array([4, 2, 6, 1])"
      ]
     },
     "execution_count": 293,
     "metadata": {},
     "output_type": "execute_result"
    }
   ],
   "source": [
    "#Select elements (1,0),(0,1),(1,2) and (0,0)\n",
    "g[[1, 0, 1, 0], # rows index\n",
    "   [0, 1, 2, 0]] # column index\n"
   ]
  },
  {
   "cell_type": "code",
   "execution_count": 36,
   "metadata": {},
   "outputs": [
    {
     "name": "stdout",
     "output_type": "stream",
     "text": [
      "[[1 2 3]\n",
      " [4 5 6]\n",
      " [7 8 9]]\n",
      "\n",
      "\n",
      "[[4 5 6 4]\n",
      " [1 2 3 1]\n",
      " [4 5 6 4]\n",
      " [1 2 3 1]]\n"
     ]
    }
   ],
   "source": [
    "print(g)\n",
    "print(\"\\n\")\n",
    "#  Select a subset of the matrix’s rows and columns\n",
    "print(g[[1, 0, 1, 0]]\n",
    "         [:, [0, 1, 2, 0]])"
   ]
  },
  {
   "cell_type": "markdown",
   "metadata": {},
   "source": [
    "## sort ()"
   ]
  },
  {
   "cell_type": "code",
   "execution_count": 49,
   "metadata": {},
   "outputs": [
    {
     "name": "stdout",
     "output_type": "stream",
     "text": [
      "[[ 9  8  6]\n",
      " [10 34 12]\n",
      " [ 1 33  4]]\n"
     ]
    }
   ],
   "source": [
    "arr = np.array([[9,8,6], [10, 34, 12], [1, 33, 4]])\n",
    "print(arr)"
   ]
  },
  {
   "cell_type": "code",
   "execution_count": 45,
   "metadata": {},
   "outputs": [
    {
     "data": {
      "text/plain": [
       "array([[ 1,  8,  4],\n",
       "       [ 9, 33,  6],\n",
       "       [10, 34, 12]])"
      ]
     },
     "execution_count": 45,
     "metadata": {},
     "output_type": "execute_result"
    }
   ],
   "source": [
    "np.sort(arr, axis=1) # sorts rows\n",
    "np.sort(arr, axis=0) # sorts columns \n"
   ]
  },
  {
   "cell_type": "code",
   "execution_count": null,
   "metadata": {},
   "outputs": [],
   "source": [
    "rev =np.sort(arr, axis=None) # sorted and flattend\n",
    "rev"
   ]
  },
  {
   "cell_type": "code",
   "execution_count": null,
   "metadata": {},
   "outputs": [],
   "source": [
    "rev[::-1]  # reversed array"
   ]
  },
  {
   "cell_type": "markdown",
   "metadata": {},
   "source": [
    "## Subsetting - with comparison "
   ]
  },
  {
   "cell_type": "code",
   "execution_count": 231,
   "metadata": {},
   "outputs": [
    {
     "name": "stdout",
     "output_type": "stream",
     "text": [
      "[[ 7.4   0.7 ]\n",
      " [ 7.8   0.88]\n",
      " [ 7.8   0.76]\n",
      " [11.2   0.28]\n",
      " [ 7.4   0.7 ]]\n"
     ]
    }
   ],
   "source": [
    "high_quality = wines[:,11] > 5                       # only those w. quality over five\n",
    "\n",
    "# only the rows where high_quality contains a True value, and all of the columns.\n",
    "high_wines = wines[high_quality, :][:5,0:2]           #  5 first wines, first 3 attributes from wines w. quali > 5,\n",
    "print(high_wines)"
   ]
  },
  {
   "cell_type": "code",
   "execution_count": 247,
   "metadata": {},
   "outputs": [
    {
     "name": "stdout",
     "output_type": "stream",
     "text": [
      "['fixed_acidity', 'volatile_acidity', 'citric_acid', 'residual_sugar', 'chlorides', 'free_sulfur_dioxide', 'total_sulfur_dioxide', 'density', 'pH', 'sulphates', 'alcohol', 'quality']\n"
     ]
    }
   ],
   "source": [
    "print(results[0])"
   ]
  },
  {
   "cell_type": "code",
   "execution_count": 236,
   "metadata": {},
   "outputs": [
    {
     "name": "stdout",
     "output_type": "stream",
     "text": [
      "[[ 9.4 15. ]\n",
      " [ 9.8 15. ]\n",
      " [ 9.8 15. ]\n",
      " [ 9.8 16. ]\n",
      " [ 9.4 15. ]]\n"
     ]
    }
   ],
   "source": [
    "# 10 = alcohol, 11 = quality\n",
    "high_quality_and_alcohol = (wines[:, 10] > 9) & (wines[:, 11] >= 5)\n",
    "wines_high_alc = wines[high_quality_and_alcohol, :][:5, 10:12]\n",
    "print(wines_high_alc)\n"
   ]
  },
  {
   "cell_type": "markdown",
   "metadata": {},
   "source": [
    "## N-Dimensional NumPy Arrays"
   ]
  },
  {
   "cell_type": "code",
   "execution_count": 120,
   "metadata": {},
   "outputs": [
    {
     "name": "stdout",
     "output_type": "stream",
     "text": [
      "500\n"
     ]
    }
   ],
   "source": [
    "earnings = [\n",
    "    [   [500,505,490],\n",
    "        [810,450,678],\n",
    "        [234,897,430],\n",
    "        [560,1023,640]],\n",
    "    [   [600,605,490],\n",
    "        [345,900,1000],\n",
    "        [780,730,710],\n",
    "        [670,540,324]]]\n",
    "\n",
    "print(earnings[0][0][0])"
   ]
  },
  {
   "cell_type": "code",
   "execution_count": 124,
   "metadata": {},
   "outputs": [
    {
     "name": "stdout",
     "output_type": "stream",
     "text": [
      "500\n",
      "(2, 4, 3)\n"
     ]
    }
   ],
   "source": [
    "earnings = np.array(earnings)   # convert earnings to an array\n",
    "print(earnings[0][0][0])\n",
    "print(earnings.shape)"
   ]
  },
  {
   "cell_type": "code",
   "execution_count": 126,
   "metadata": {},
   "outputs": [
    {
     "name": "stdout",
     "output_type": "stream",
     "text": [
      "[500 600]\n",
      "\n",
      "\n",
      "[[500 505 490]\n",
      " [600 605 490]]\n"
     ]
    }
   ],
   "source": [
    "print(earnings[:,0,0])          # earnings for January of all years\n",
    "print(\"\\n\")\n",
    "print(earnings[:,0,:])          # first quarter earnings from both years, all matriices, first row all columns"
   ]
  },
  {
   "cell_type": "markdown",
   "metadata": {},
   "source": [
    "## dtypes"
   ]
  },
  {
   "cell_type": "code",
   "execution_count": 127,
   "metadata": {},
   "outputs": [
    {
     "name": "stdout",
     "output_type": "stream",
     "text": [
      "int64\n",
      "float64\n"
     ]
    }
   ],
   "source": [
    "print(earnings.dtype)\n",
    "earnings_float = earnings.astype(float)\n",
    "print(earnings_float.dtype)"
   ]
  },
  {
   "cell_type": "code",
   "execution_count": null,
   "metadata": {},
   "outputs": [],
   "source": [
    "earnigns_int = earnings_float.astype(np.int32)\n",
    "print(earnigns_int.dtype.name)\n",
    "print(earnigns_int)"
   ]
  },
  {
   "cell_type": "markdown",
   "metadata": {},
   "source": [
    "# Array Operations"
   ]
  },
  {
   "cell_type": "markdown",
   "id": "ae32a15b",
   "metadata": {},
   "source": [
    "## math"
   ]
  },
  {
   "cell_type": "code",
   "execution_count": 91,
   "id": "ae39a09f",
   "metadata": {},
   "outputs": [
    {
     "name": "stdout",
     "output_type": "stream",
     "text": [
      "[[1 2 3]\n",
      " [4 5 6]] \n",
      "\n",
      "  [[2 3 4]\n",
      " [3 1 2]]\n"
     ]
    }
   ],
   "source": [
    "e = np.array([[1,2,3], [4,5,6]])\n",
    "f = np.array([[2,3,4], [3,1,2]])\n",
    "print(f\"{e} \\n\\n  {f}\")"
   ]
  },
  {
   "cell_type": "code",
   "execution_count": 94,
   "id": "d904db81",
   "metadata": {},
   "outputs": [
    {
     "name": "stdout",
     "output_type": "stream",
     "text": [
      "[[-1 -1 -1]\n",
      " [ 1  4  4]]\n",
      "\n",
      "\n",
      "[[-1 -1 -1]\n",
      " [ 1  4  4]]\n",
      "\n",
      "\n",
      "[[3 5 7]\n",
      " [7 6 8]]\n"
     ]
    }
   ],
   "source": [
    "print(e-f)\n",
    "print(\"\\n\")\n",
    "print(np.subtract(e,f))   # the same as minus\n",
    "print(\"\\n\")\n",
    "print(np.add(e,f))\n"
   ]
  },
  {
   "cell_type": "code",
   "execution_count": 95,
   "metadata": {},
   "outputs": [
    {
     "name": "stdout",
     "output_type": "stream",
     "text": [
      "[[0.5        0.66666667 0.75      ]\n",
      " [1.33333333 5.         3.        ]]\n",
      "\n",
      "\n",
      "[[ 2  6 12]\n",
      " [12  5 12]]\n",
      "\n",
      "\n",
      "[[  2.71828183   7.3890561   20.08553692]\n",
      " [ 54.59815003 148.4131591  403.42879349]]\n",
      "\n",
      "\n",
      "2.718281828459045\n",
      "\n",
      "\n",
      "403.4287934927351\n",
      "\n",
      "\n"
     ]
    }
   ],
   "source": [
    "print(np.divide(e,f))\n",
    "print(\"\\n\")\n",
    "print(np.multiply(e,f))\n",
    "print(\"\\n\")\n",
    "print(np.exp(e))      # every element of the matrix is taken as the power of e(uler)\n",
    "print(\"\\n\")\n",
    "print(np.exp(1))  # euler**1\n",
    "print(\"\\n\")\n",
    "print(np.exp(6))\n",
    "print(\"\\n\")   # e**6\n"
   ]
  },
  {
   "cell_type": "code",
   "execution_count": 44,
   "id": "6e065c59",
   "metadata": {},
   "outputs": [
    {
     "name": "stdout",
     "output_type": "stream",
     "text": [
      "[[4 0]\n",
      " [0 4]]\n",
      "\n",
      "\n",
      "[[4 1]\n",
      " [2 2]]\n"
     ]
    }
   ],
   "source": [
    "a = [[1, 0], \n",
    "        [0, 1]]\n",
    "\n",
    "b = [[4, 1], \n",
    "        [2, 2]]\n",
    "print(np.dot(a, 4))  # dot product\n",
    "print(\"\\n\")\n",
    "print(np.dot(a, b))          # here dot is matrix product - first cell: 1*4+0*2, fourth cell: = 0*1+1*2"
   ]
  },
  {
   "cell_type": "code",
   "execution_count": null,
   "id": "eeeadc95",
   "metadata": {},
   "outputs": [
    {
     "data": {
      "text/plain": [
       "array([ 1,  3,  6, 10, 15, 21])"
      ]
     },
     "metadata": {},
     "output_type": "display_data"
    }
   ],
   "source": [
    "c = np.array([1,2,3,4,5,6])\n",
    "c.cumsum(axis=0)       # cumulative sum"
   ]
  },
  {
   "cell_type": "code",
   "execution_count": null,
   "id": "c4c2e38d-0c57-4c0a-9f34-3f8a071f8411",
   "metadata": {},
   "outputs": [
    {
     "data": {
      "text/plain": [
       "array([[1, 2, 3],\n",
       "       [5, 7, 9]])"
      ]
     },
     "metadata": {},
     "output_type": "display_data"
    }
   ],
   "source": [
    "d = np.array(([1,2,3],[4,5,6]))\n",
    "d.cumsum(axis=0)        # the axis changes with two dimensions, axis=0 -> columns wise"
   ]
  },
  {
   "cell_type": "code",
   "execution_count": 55,
   "id": "5ca1dafb",
   "metadata": {},
   "outputs": [
    {
     "name": "stdout",
     "output_type": "stream",
     "text": [
      "[[1 2 3]\n",
      " [4 5 6]\n",
      " [7 8 9]]\n",
      "\n",
      "\n",
      "[[1 4 7]\n",
      " [2 5 8]\n",
      " [3 6 9]]\n"
     ]
    }
   ],
   "source": [
    "print(g)\n",
    "print(\"\\n\")\n",
    "print(g.T)    # transpose"
   ]
  },
  {
   "cell_type": "code",
   "execution_count": 60,
   "id": "983877cc",
   "metadata": {},
   "outputs": [
    {
     "name": "stdout",
     "output_type": "stream",
     "text": [
      "[[1 2 3 4]\n",
      " [4 5 6 7]]\n",
      "\n",
      "\n",
      "[[1 2]\n",
      " [3 4]\n",
      " [4 5]\n",
      " [6 7]]\n"
     ]
    }
   ],
   "source": [
    "h = np.array([[1,2,3,4], [4,5,6,7]])\n",
    "print(h)\n",
    "print(\"\\n\")\n",
    "print(h.reshape(4,2))"
   ]
  },
  {
   "cell_type": "code",
   "execution_count": 61,
   "id": "d1201f91",
   "metadata": {},
   "outputs": [
    {
     "name": "stdout",
     "output_type": "stream",
     "text": [
      "[1 2 3 4 4 5 6 7]\n"
     ]
    }
   ],
   "source": [
    "print(h.ravel())    # flatten a matrix to one dim"
   ]
  },
  {
   "cell_type": "markdown",
   "metadata": {},
   "source": [
    "## open csv"
   ]
  },
  {
   "cell_type": "code",
   "execution_count": 166,
   "metadata": {},
   "outputs": [
    {
     "data": {
      "text/html": [
       "<div>\n",
       "<style scoped>\n",
       "    .dataframe tbody tr th:only-of-type {\n",
       "        vertical-align: middle;\n",
       "    }\n",
       "\n",
       "    .dataframe tbody tr th {\n",
       "        vertical-align: top;\n",
       "    }\n",
       "\n",
       "    .dataframe thead th {\n",
       "        text-align: right;\n",
       "    }\n",
       "</style>\n",
       "<table border=\"1\" class=\"dataframe\">\n",
       "  <thead>\n",
       "    <tr style=\"text-align: right;\">\n",
       "      <th></th>\n",
       "      <th>0</th>\n",
       "      <th>1</th>\n",
       "      <th>2</th>\n",
       "      <th>3</th>\n",
       "      <th>4</th>\n",
       "      <th>5</th>\n",
       "      <th>6</th>\n",
       "      <th>7</th>\n",
       "      <th>8</th>\n",
       "      <th>9</th>\n",
       "      <th>10</th>\n",
       "      <th>11</th>\n",
       "      <th>12</th>\n",
       "    </tr>\n",
       "  </thead>\n",
       "  <tbody>\n",
       "    <tr>\n",
       "      <th>0</th>\n",
       "      <td>fixed_acidity</td>\n",
       "      <td>volatile_acidity</td>\n",
       "      <td>citric_acid</td>\n",
       "      <td>residual_sugar</td>\n",
       "      <td>chlorides</td>\n",
       "      <td>free_sulfur_dioxide</td>\n",
       "      <td>total_sulfur_dioxide</td>\n",
       "      <td>density</td>\n",
       "      <td>pH</td>\n",
       "      <td>sulphates</td>\n",
       "      <td>alcohol</td>\n",
       "      <td>quality</td>\n",
       "      <td>style</td>\n",
       "    </tr>\n",
       "    <tr>\n",
       "      <th>1</th>\n",
       "      <td>7.4</td>\n",
       "      <td>0.7</td>\n",
       "      <td>0</td>\n",
       "      <td>1.9</td>\n",
       "      <td>0.076</td>\n",
       "      <td>11</td>\n",
       "      <td>34</td>\n",
       "      <td>0.9978</td>\n",
       "      <td>3.51</td>\n",
       "      <td>0.56</td>\n",
       "      <td>9.4</td>\n",
       "      <td>5</td>\n",
       "      <td>red</td>\n",
       "    </tr>\n",
       "    <tr>\n",
       "      <th>2</th>\n",
       "      <td>7.8</td>\n",
       "      <td>0.88</td>\n",
       "      <td>0</td>\n",
       "      <td>2.6</td>\n",
       "      <td>0.098</td>\n",
       "      <td>25</td>\n",
       "      <td>67</td>\n",
       "      <td>0.9968</td>\n",
       "      <td>3.2</td>\n",
       "      <td>0.68</td>\n",
       "      <td>9.8</td>\n",
       "      <td>5</td>\n",
       "      <td>red</td>\n",
       "    </tr>\n",
       "    <tr>\n",
       "      <th>3</th>\n",
       "      <td>7.8</td>\n",
       "      <td>0.76</td>\n",
       "      <td>0.04</td>\n",
       "      <td>2.3</td>\n",
       "      <td>0.092</td>\n",
       "      <td>15</td>\n",
       "      <td>54</td>\n",
       "      <td>0.997</td>\n",
       "      <td>3.26</td>\n",
       "      <td>0.65</td>\n",
       "      <td>9.8</td>\n",
       "      <td>5</td>\n",
       "      <td>red</td>\n",
       "    </tr>\n",
       "    <tr>\n",
       "      <th>4</th>\n",
       "      <td>11.2</td>\n",
       "      <td>0.28</td>\n",
       "      <td>0.56</td>\n",
       "      <td>1.9</td>\n",
       "      <td>0.075</td>\n",
       "      <td>17</td>\n",
       "      <td>60</td>\n",
       "      <td>0.998</td>\n",
       "      <td>3.16</td>\n",
       "      <td>0.58</td>\n",
       "      <td>9.8</td>\n",
       "      <td>6</td>\n",
       "      <td>red</td>\n",
       "    </tr>\n",
       "    <tr>\n",
       "      <th>...</th>\n",
       "      <td>...</td>\n",
       "      <td>...</td>\n",
       "      <td>...</td>\n",
       "      <td>...</td>\n",
       "      <td>...</td>\n",
       "      <td>...</td>\n",
       "      <td>...</td>\n",
       "      <td>...</td>\n",
       "      <td>...</td>\n",
       "      <td>...</td>\n",
       "      <td>...</td>\n",
       "      <td>...</td>\n",
       "      <td>...</td>\n",
       "    </tr>\n",
       "    <tr>\n",
       "      <th>6493</th>\n",
       "      <td>6.2</td>\n",
       "      <td>0.21</td>\n",
       "      <td>0.29</td>\n",
       "      <td>1.6</td>\n",
       "      <td>0.039</td>\n",
       "      <td>24</td>\n",
       "      <td>92</td>\n",
       "      <td>0.99114</td>\n",
       "      <td>3.27</td>\n",
       "      <td>0.5</td>\n",
       "      <td>11.2</td>\n",
       "      <td>6</td>\n",
       "      <td>white</td>\n",
       "    </tr>\n",
       "    <tr>\n",
       "      <th>6494</th>\n",
       "      <td>6.6</td>\n",
       "      <td>0.32</td>\n",
       "      <td>0.36</td>\n",
       "      <td>8</td>\n",
       "      <td>0.047</td>\n",
       "      <td>57</td>\n",
       "      <td>168</td>\n",
       "      <td>0.9949</td>\n",
       "      <td>3.15</td>\n",
       "      <td>0.46</td>\n",
       "      <td>9.6</td>\n",
       "      <td>5</td>\n",
       "      <td>white</td>\n",
       "    </tr>\n",
       "    <tr>\n",
       "      <th>6495</th>\n",
       "      <td>6.5</td>\n",
       "      <td>0.24</td>\n",
       "      <td>0.19</td>\n",
       "      <td>1.2</td>\n",
       "      <td>0.041</td>\n",
       "      <td>30</td>\n",
       "      <td>111</td>\n",
       "      <td>0.99254</td>\n",
       "      <td>2.99</td>\n",
       "      <td>0.46</td>\n",
       "      <td>9.4</td>\n",
       "      <td>6</td>\n",
       "      <td>white</td>\n",
       "    </tr>\n",
       "    <tr>\n",
       "      <th>6496</th>\n",
       "      <td>5.5</td>\n",
       "      <td>0.29</td>\n",
       "      <td>0.3</td>\n",
       "      <td>1.1</td>\n",
       "      <td>0.022</td>\n",
       "      <td>20</td>\n",
       "      <td>110</td>\n",
       "      <td>0.98869</td>\n",
       "      <td>3.34</td>\n",
       "      <td>0.38</td>\n",
       "      <td>12.8</td>\n",
       "      <td>7</td>\n",
       "      <td>white</td>\n",
       "    </tr>\n",
       "    <tr>\n",
       "      <th>6497</th>\n",
       "      <td>6</td>\n",
       "      <td>0.21</td>\n",
       "      <td>0.38</td>\n",
       "      <td>0.8</td>\n",
       "      <td>0.02</td>\n",
       "      <td>22</td>\n",
       "      <td>98</td>\n",
       "      <td>0.98941</td>\n",
       "      <td>3.26</td>\n",
       "      <td>0.32</td>\n",
       "      <td>11.8</td>\n",
       "      <td>6</td>\n",
       "      <td>white</td>\n",
       "    </tr>\n",
       "  </tbody>\n",
       "</table>\n",
       "<p>6498 rows × 13 columns</p>\n",
       "</div>"
      ],
      "text/plain": [
       "                 0                 1            2               3          4   \\\n",
       "0     fixed_acidity  volatile_acidity  citric_acid  residual_sugar  chlorides   \n",
       "1               7.4               0.7            0             1.9      0.076   \n",
       "2               7.8              0.88            0             2.6      0.098   \n",
       "3               7.8              0.76         0.04             2.3      0.092   \n",
       "4              11.2              0.28         0.56             1.9      0.075   \n",
       "...             ...               ...          ...             ...        ...   \n",
       "6493            6.2              0.21         0.29             1.6      0.039   \n",
       "6494            6.6              0.32         0.36               8      0.047   \n",
       "6495            6.5              0.24         0.19             1.2      0.041   \n",
       "6496            5.5              0.29          0.3             1.1      0.022   \n",
       "6497              6              0.21         0.38             0.8       0.02   \n",
       "\n",
       "                       5                     6        7     8          9   \\\n",
       "0     free_sulfur_dioxide  total_sulfur_dioxide  density    pH  sulphates   \n",
       "1                      11                    34   0.9978  3.51       0.56   \n",
       "2                      25                    67   0.9968   3.2       0.68   \n",
       "3                      15                    54    0.997  3.26       0.65   \n",
       "4                      17                    60    0.998  3.16       0.58   \n",
       "...                   ...                   ...      ...   ...        ...   \n",
       "6493                   24                    92  0.99114  3.27        0.5   \n",
       "6494                   57                   168   0.9949  3.15       0.46   \n",
       "6495                   30                   111  0.99254  2.99       0.46   \n",
       "6496                   20                   110  0.98869  3.34       0.38   \n",
       "6497                   22                    98  0.98941  3.26       0.32   \n",
       "\n",
       "           10       11     12  \n",
       "0     alcohol  quality  style  \n",
       "1         9.4        5    red  \n",
       "2         9.8        5    red  \n",
       "3         9.8        5    red  \n",
       "4         9.8        6    red  \n",
       "...       ...      ...    ...  \n",
       "6493     11.2        6  white  \n",
       "6494      9.6        5  white  \n",
       "6495      9.4        6  white  \n",
       "6496     12.8        7  white  \n",
       "6497     11.8        6  white  \n",
       "\n",
       "[6498 rows x 13 columns]"
      ]
     },
     "execution_count": 166,
     "metadata": {},
     "output_type": "execute_result"
    }
   ],
   "source": [
    "import csv\n",
    "import pandas as pd\n",
    "\n",
    "csv_file = open(\"../data/wine.csv\")  #Open the file as a usual text file. The open() is a built-in function for file handling in Python.\n",
    "csv_structured = csv.reader(csv_file) # we need CSV.reader() to get structured data from .csv files.\n",
    "csv_list = list(csv_structured) # convert to list\n",
    "\n",
    "df = pd.DataFrame(csv_list)  # make a dataframe \n",
    "df"
   ]
  },
  {
   "cell_type": "code",
   "execution_count": 186,
   "metadata": {},
   "outputs": [],
   "source": [
    "import csv\n",
    "results = []\n",
    "with open(\"../data/wine.csv\") as csvfile:\n",
    "    reader = csv.reader(csvfile)  # change contents to floats\n",
    "    for row in reader:  # each row is a list\n",
    "        results.append(row)\n",
    "        del row[-1]     # delete last columns in row\n"
   ]
  },
  {
   "cell_type": "code",
   "execution_count": 192,
   "metadata": {},
   "outputs": [
    {
     "name": "stdout",
     "output_type": "stream",
     "text": [
      "[5. 5. 5. ... 6. 7. 6.]\n",
      "[15. 15. 15. ... 16. 17. 16.]\n",
      "[5. 5. 5. ... 6. 7. 6.]\n",
      "[15. 15. 15. ... 16. 17. 16.]\n"
     ]
    }
   ],
   "source": [
    "wines = np.array(results[1:], dtype=float)     # convert csv.to numpy array - [1:] all rows except the first [0]\n",
    "print(wines[: , 11])\n",
    "print(wines[:,11] + 10)        # does not override the 12th column - just a copy\n",
    "print(wines[:,11])\n",
    "wines[:,11] += 10              # modify the array in place\n",
    "print(wines[:, 11])"
   ]
  },
  {
   "cell_type": "code",
   "execution_count": 198,
   "metadata": {},
   "outputs": [
    {
     "name": "stdout",
     "output_type": "stream",
     "text": [
      "[15. 15. 15. ... 16. 17. 16.]\n",
      "\n",
      "\n",
      "[30. 30. 30. ... 32. 34. 32.]\n",
      "\n",
      "\n",
      "[0. 0. 0. ... 0. 0. 0.]\n",
      "\n",
      "\n",
      "[225. 225. 225. ... 256. 289. 256.]\n"
     ]
    }
   ],
   "source": [
    "print(wines[:, 11]); print(\"\\n\")\n",
    "wines2 = wines[:,11] + wines[:,11]\n",
    "print(wines2); print(\"\\n\")\n",
    "wines4 = wines[:,11] - wines[:,11]\n",
    "print(wines4)\n",
    "print(\"\\n\")\n",
    "wines3 = wines[:,11] * wines[:,11]\n",
    "print(wines3)\n"
   ]
  },
  {
   "cell_type": "markdown",
   "metadata": {},
   "source": [
    "## Broadcasting\n",
    "The term broadcasting describes how NumPy treats arrays with different shapes during arithmetic operations. </br> \n",
    "Subject to certain constraints, the smaller array is “broadcast” across the larger array so that they have compatible shapes. \n",
    "\n",
    "Broadcasting involves a few steps:\n",
    "- When operating on two arrays, NumPy compares their shapes element-wise. \n",
    "- It starts with the trailing (i.e. rightmost) dimensions and works its way left. \n",
    "- Two dimensions are compatible when they are equal, or one of them is 1\n",
    "- in other words: Two dimensions are compatible when they are equal, or one of them is 1"
   ]
  },
  {
   "cell_type": "markdown",
   "metadata": {},
   "source": [
    "The simplest broadcasting example occurs when an array and a scalar value are combined in an operation:\n",
    "- We can think of the scalar b being stretched during the arithmetic operation into an array with the same shape as a."
   ]
  },
  {
   "cell_type": "code",
   "execution_count": 201,
   "metadata": {},
   "outputs": [
    {
     "data": {
      "text/plain": [
       "array([2., 4., 6.])"
      ]
     },
     "execution_count": 201,
     "metadata": {},
     "output_type": "execute_result"
    }
   ],
   "source": [
    "a = np.array([1.0, 2.0, 3.0])\n",
    "b = 2.0\n",
    "a * b"
   ]
  },
  {
   "cell_type": "code",
   "execution_count": 289,
   "metadata": {},
   "outputs": [
    {
     "name": "stdout",
     "output_type": "stream",
     "text": [
      "Dimension of a: (4, 3), and of b: (3,)\n",
      "[[ 1.  2.  3.]\n",
      " [11. 12. 13.]\n",
      " [21. 22. 23.]\n",
      " [31. 32. 33.]]\n"
     ]
    }
   ],
   "source": [
    "# An example of broadcasting when a 1-d array is added to a 2-d array:\n",
    "a = np.array([[0.0, 0.0, 0.0], [10.0, 10.0, 10.0], [20.0, 20.0, 20.0], [30.0, 30.0, 30.0]])\n",
    "b = np.array([1.0, 2.0, 3.0])\n",
    "print(f\"Dimension of a: {np.shape(a)}, and of b: {np.shape(b)}\")\n",
    "print(a + b)"
   ]
  },
  {
   "cell_type": "markdown",
   "metadata": {},
   "source": [
    "![Broadcasting](https://numpy.org/doc/stable/_images/broadcasting_2.png)"
   ]
  },
  {
   "cell_type": "code",
   "execution_count": 288,
   "metadata": {},
   "outputs": [
    {
     "ename": "ValueError",
     "evalue": "operands could not be broadcast together with shapes (4,3) (4,) ",
     "output_type": "error",
     "traceback": [
      "\u001b[0;31m---------------------------------------------------------------------------\u001b[0m",
      "\u001b[0;31mValueError\u001b[0m                                Traceback (most recent call last)",
      "\u001b[0;32m/tmp/ipykernel_5248/2214000768.py\u001b[0m in \u001b[0;36m<module>\u001b[0;34m\u001b[0m\n\u001b[1;32m      1\u001b[0m \u001b[0mb\u001b[0m \u001b[0;34m=\u001b[0m \u001b[0mnp\u001b[0m\u001b[0;34m.\u001b[0m\u001b[0marray\u001b[0m\u001b[0;34m(\u001b[0m\u001b[0;34m[\u001b[0m\u001b[0;36m1.0\u001b[0m\u001b[0;34m,\u001b[0m \u001b[0;36m2.0\u001b[0m\u001b[0;34m,\u001b[0m \u001b[0;36m3.0\u001b[0m\u001b[0;34m,\u001b[0m \u001b[0;36m4.0\u001b[0m\u001b[0;34m]\u001b[0m\u001b[0;34m)\u001b[0m\u001b[0;34m\u001b[0m\u001b[0;34m\u001b[0m\u001b[0m\n\u001b[0;32m----> 2\u001b[0;31m \u001b[0ma\u001b[0m \u001b[0;34m+\u001b[0m \u001b[0mb\u001b[0m\u001b[0;34m\u001b[0m\u001b[0;34m\u001b[0m\u001b[0m\n\u001b[0m",
      "\u001b[0;31mValueError\u001b[0m: operands could not be broadcast together with shapes (4,3) (4,) "
     ]
    }
   ],
   "source": [
    "b = np.array([1.0, 2.0, 3.0, 4.0])\n",
    "a + b"
   ]
  },
  {
   "cell_type": "markdown",
   "metadata": {},
   "source": [
    "![Broadcasting](https://numpy.org/doc/stable/_images/broadcasting_3.png)\n"
   ]
  },
  {
   "cell_type": "markdown",
   "metadata": {},
   "source": [
    "## NumPy Array Comparisons"
   ]
  },
  {
   "cell_type": "code",
   "execution_count": 223,
   "metadata": {},
   "outputs": [
    {
     "name": "stdout",
     "output_type": "stream",
     "text": [
      "[ True  True  True  True  True  True  True  True  True  True]\n"
     ]
    }
   ],
   "source": [
    "print(wines[190:200,11] >= 6)   # also <, >, <=,  =="
   ]
  },
  {
   "cell_type": "markdown",
   "id": "27e8eb5f",
   "metadata": {},
   "source": [
    "# Statistics"
   ]
  },
  {
   "cell_type": "markdown",
   "metadata": {},
   "source": [
    "## min, max, median, mean, std, var, corrcoef"
   ]
  },
  {
   "cell_type": "code",
   "execution_count": 403,
   "id": "da70009d",
   "metadata": {},
   "outputs": [
    {
     "name": "stdout",
     "output_type": "stream",
     "text": [
      "sum: 10\n",
      "min: 1\n",
      "max: 4\n",
      "min by row: [1 3]\n",
      "mean: 2.5\n",
      "median: 2.5\n",
      "variance: 1.25\n",
      "std: 1.118033988749895\n",
      " correlation coefficient:\n",
      " [[ 1.         -0.72389587  0.89206242]\n",
      " [-0.72389587  1.         -0.95753871]\n",
      " [ 0.89206242 -0.95753871  1.        ]]\n"
     ]
    }
   ],
   "source": [
    "a = np.array([[1, 2], [3, 4]])\n",
    "print(f\"sum: {a.sum()}\")\n",
    "print(f\"min: {a.min()}\")\n",
    "print(f\"max: {a.max()}\")\n",
    "print(f\"min by row: {a.min(axis=1)}\") # min in every row\n",
    "print(f\"mean: {a.mean()}\")\n",
    "print(f\"median: {np.median(a)}\")\n",
    "print(f\"variance: {np.var(a)}\")\n",
    "print(f\"std: {a.std()}\")\n",
    "h = np.random.randint(100, 200, (3, 3))\n",
    "print(f\" correlation coefficient:\\n {np.corrcoef(h)}\")"
   ]
  },
  {
   "cell_type": "markdown",
   "metadata": {},
   "source": [
    "## peak-to-peak - range"
   ]
  },
  {
   "cell_type": "code",
   "execution_count": 332,
   "metadata": {},
   "outputs": [
    {
     "name": "stdout",
     "output_type": "stream",
     "text": [
      "[[3 7 5]\n",
      " [8 4 3]\n",
      " [2 4 9]]\n",
      "range of an array a from min to max: 7\n",
      "column wise range: [6 3 6]\n",
      "rowwise wise range: [4 5 7]\n"
     ]
    }
   ],
   "source": [
    "# The numpy.ptp() function returns the range (maximum-minimum) of values along an axis.\n",
    "a = np.array([[3, 7, 5], [8, 4, 3], [2, 4, 9]])\n",
    "print(a)\n",
    "print(f\"range of an array from min to max: {np.ptp(a)}\")\n",
    "print(f\"column wise range: {np.ptp(a, axis=0)}\")\n",
    "print(f\"rowwise wise range: {np.ptp(a, axis=1)}\")"
   ]
  },
  {
   "cell_type": "markdown",
   "metadata": {},
   "source": [
    "## Percentile \n",
    "- (or a centile) is the value below which a given percentage of observations in a group of observations fall. \n",
    "- The function numpy.percentile() takes the following arguments.\n",
    "- numpy.percentile(a, q, axis) - a input array, b percentile (0-100), axis along which to calc"
   ]
  },
  {
   "cell_type": "code",
   "execution_count": 367,
   "metadata": {},
   "outputs": [
    {
     "name": "stdout",
     "output_type": "stream",
     "text": [
      "[[30 40 70]\n",
      " [80 20 10]\n",
      " [50 90 60]]\n",
      "what's the number, under which 30% of all the values fall:\n",
      "34.0\n",
      "what's the number, under which 10% of all the values fall along the columns:\n",
      "[34. 24. 20.]\n",
      "what's the number, under which 10% of all the values fall along the rows:\n",
      "[64. 68. 84.]\n"
     ]
    }
   ],
   "source": [
    "b = np.array([[30, 40, 70], [80, 20, 10], [50, 90, 60]])\n",
    "print(b)\n",
    "print(\"what's the number, under which 30% of all the values fall:\")\n",
    "print (np.percentile(b, 30))\n",
    "print(\"what's the number, under which 10% of all the values fall along the columns:\")\n",
    "print(np.percentile(b, 10, axis=0))\n",
    "print(\"what's the number, under which 10% of all the values fall along the rows:\")\n",
    "print(np.percentile(b, 90, axis=1))"
   ]
  },
  {
   "cell_type": "markdown",
   "metadata": {},
   "source": [
    "## weight average\n",
    "- average resulting from the multiplication of each component by a factor reflecting its importance."
   ]
  },
  {
   "cell_type": "code",
   "execution_count": 397,
   "metadata": {},
   "outputs": [
    {
     "name": "stdout",
     "output_type": "stream",
     "text": [
      "2.684\n",
      "190.0\n"
     ]
    }
   ],
   "source": [
    "# Weighted average = (1*10+2*30+3*40+4*50)/(10+30+40+50)\n",
    "a = np.array([1,2,3,4])\n",
    "wts = np.array([10, 90, 40, 50])\n",
    "w_avg = np.average(a,weights= wts, returned=True) # returned - sum af weights\n",
    "print(round(w_avg[0], 3))\n",
    "print(w_avg[1])"
   ]
  },
  {
   "cell_type": "code",
   "execution_count": 377,
   "metadata": {},
   "outputs": [
    {
     "name": "stdout",
     "output_type": "stream",
     "text": [
      "[[0 1]\n",
      " [2 3]\n",
      " [4 5]]\n",
      "\n",
      "\n",
      "Modified array:\n",
      "[0.625 2.625 4.625]\n",
      "\n",
      "\n",
      "Modified array:\n",
      "(array([0.625, 2.625, 4.625]), array([8., 8., 8.]))\n"
     ]
    }
   ],
   "source": [
    "a = np.arange(6).reshape(3, 2)\n",
    "print(a)\n",
    "print ('\\n')\n",
    "\n",
    "print ('Modified array:')\n",
    "wt = np.array([3, 5])\n",
    "# rowwise - row*weights/sum(weights)\n",
    "print( np.average(a, axis=1, weights=wt))\n",
    "print ('\\n')\n",
    "\n",
    "print( 'Modified array:')\n",
    "print( np.average(a, axis=1, weights=wt, returned=True))\n"
   ]
  },
  {
   "cell_type": "code",
   "execution_count": 399,
   "metadata": {},
   "outputs": [
    {
     "data": {
      "text/plain": [
       "2.625"
      ]
     },
     "execution_count": 399,
     "metadata": {},
     "output_type": "execute_result"
    }
   ],
   "source": [
    "21/8"
   ]
  },
  {
   "cell_type": "markdown",
   "metadata": {},
   "source": [
    "## statistical distributions\n",
    "- When you use the random() function in programming languages, you are saying to pick from the normal distribution. \n",
    "- Samples will tend to hover about some middle point, known as the mean. \n",
    "- And the volatility of observations is called the variance. \n",
    "- As the name suggests, if it varies a lot then the variance is large."
   ]
  },
  {
   "cell_type": "markdown",
   "metadata": {},
   "source": [
    "## Normal\n",
    "- The arguments for the normal distribution are:\n",
    "    - __loc__ is the mean\n",
    "    - __scale__ is the square root of the variance, i.e. the standard deviation\n",
    "    - __size__ is the sample size or the number of trials. The values can be more than one dimension e.g (200, 200)."
   ]
  },
  {
   "cell_type": "code",
   "execution_count": 4,
   "metadata": {},
   "outputs": [
    {
     "name": "stderr",
     "output_type": "stream",
     "text": [
      "Missing colon in file PosixPath('/home/mz/.config/matplotlib/stylelib/scientific.mplstyle'), line 15 (\"                               'fc4f30', \")\n",
      "Missing colon in file PosixPath('/home/mz/.config/matplotlib/stylelib/scientific.mplstyle'), line 16 (\"                               'e5ae38',\")\n",
      "Missing colon in file PosixPath('/home/mz/.config/matplotlib/stylelib/scientific.mplstyle'), line 17 (\"                               '6d904f',\")\n",
      "Missing colon in file PosixPath('/home/mz/.config/matplotlib/stylelib/scientific.mplstyle'), line 18 (\"                               '8b8b8b',\")\n",
      "Missing colon in file PosixPath('/home/mz/.config/matplotlib/stylelib/scientific.mplstyle'), line 19 (\"                               '810f7c'])\")\n",
      "Bad value in file PosixPath('/home/mz/.config/matplotlib/stylelib/scientific.mplstyle'), line 14 (\"axes.prop_cycle: cycler(color=['008fd5', \"): Key axes.prop_cycle: 'cycler(color=['008fd5',' is not a valid cycler construction: unexpected EOF while parsing (<unknown>, line 1)\n"
     ]
    },
    {
     "data": {
      "image/png": "[encoded data removed]",
      "text/plain": [
       "<Figure size 432x288 with 1 Axes>"
      ]
     },
     "metadata": {
      "needs_background": "light"
     },
     "output_type": "display_data"
    }
   ],
   "source": [
    "import matplotlib.pyplot as plt\n",
    "arr = np.random.normal(loc=0, scale=1, size=(400));\n",
    "plt.plot(arr);"
   ]
  },
  {
   "cell_type": "markdown",
   "metadata": {},
   "source": [
    "## Weibull\n",
    "- Weibull is most often used in preventive maintenance applications. It’s basically the failure rate over time. \n",
    "- In terms of machines like truck components this is called Time to Failure. Manufacturers publish for planning purposes.\n",
    "\n",
    "A Weibull distribution has a shape and scale parameter. Continuing with the truck example:\n",
    "- Shape is how quickly over time the component is likely to fail, or the steepness of the curve.\n",
    "- NumPy does not require the scale distribution. Instead, you simply multiply the Weibull value by scale to determine the scale distribution.\n"
   ]
  },
  {
   "cell_type": "code",
   "execution_count": 417,
   "metadata": {},
   "outputs": [
    {
     "data": {
      "image/png": "[encoded data removed]",
      "text/plain": [
       "<Figure size 432x288 with 1 Axes>"
      ]
     },
     "metadata": {
      "needs_background": "light"
     },
     "output_type": "display_data"
    }
   ],
   "source": [
    "shape = 5\n",
    "arr = np.random.weibull(shape, 400);\n",
    "plt.hist(arr);"
   ]
  },
  {
   "cell_type": "markdown",
   "metadata": {},
   "source": [
    "## Poisson\n",
    "- Poisson is the probability of a given number of people in a queue over a period of time.</br>\n",
    "- The line length varies, and varies a lot, over time. It’s not the same length all day. \n",
    "- Here we see the line length varies between 8 and 0. \n",
    "- An important property of the Poisson random variable is that it may be used to approximate a binomial random variable when the binomial parameter n is large and p is small.\n",
    "- Sie wird durch einen reellen Parameter λ > 0  bestimmt, der den Erwartungswert und gleichzeitig die Varianz der Verteilung beschreibt.\n",
    "- Die Poisson-Verteilung gibt dann die Wahrscheinlichkeit einer bestimmten Ereignisanzahl k im Einzelfall an, wenn die mittlere Ereignisrate λ bekannt ist.\n",
    "- The number function does not return a probability. It picks a number subject to the Weibull statistical cure.\n"
   ]
  },
  {
   "cell_type": "code",
   "execution_count": 419,
   "metadata": {},
   "outputs": [
    {
     "data": {
      "image/png": "[encoded data removed]",
      "text/plain": [
       "<Figure size 432x288 with 1 Axes>"
      ]
     },
     "metadata": {
      "needs_background": "light"
     },
     "output_type": "display_data"
    }
   ],
   "source": [
    "arr = np.random.poisson(2, 400);\n",
    "plt.plot(arr);"
   ]
  },
  {
   "cell_type": "markdown",
   "metadata": {},
   "source": [
    "## Binomial\n",
    "- Binomial is discrete outcomes, like rolling dice.\n",
    "- beschreibt die Anzahl der Erfolge in einer Serie von gleichartigen und unabhängigen Versuchen, die jeweils genau zwei mögliche Ergebnisse haben („Erfolg“ oder „Misserfolg“).\n",
    "- Solche Versuchsserien werden auch Bernoulli-Prozesse genannt.\n",
    "- np.random.binomial(n, p, size)\n",
    "- n - number of trials.\n",
    "- p - probability of occurence of each trial (e.g. for toss of a coin 0.5 each).\n",
    "- size (k) - The shape of the returned array. -> How often is the experiment replicated.\n",
    "\n"
   ]
  },
  {
   "cell_type": "code",
   "execution_count": 35,
   "metadata": {},
   "outputs": [
    {
     "name": "stdout",
     "output_type": "stream",
     "text": [
      "5.04\n",
      "4.9856\n"
     ]
    },
    {
     "data": {
      "image/png": "[encoded data removed]",
      "text/plain": [
       "<Figure size 1296x576 with 2 Axes>"
      ]
     },
     "metadata": {
      "needs_background": "light"
     },
     "output_type": "display_data"
    }
   ],
   "source": [
    "import seaborn as sns\n",
    "# 10 trials, success probability for every trails is 0.5, 1000 repetitions of the same coin toss\n",
    "x = np.random.binomial(n=10, p=1/2, size=50)\n",
    "print(sum(x)/len(x)) # average\n",
    "\n",
    "y = np.random.binomial(n=10, p=1 / 2, size=10000)\n",
    "print(sum(y) / len(y)) # average converges to p in size\n",
    "\n",
    "# plotting the graph\n",
    "n = np.arange(1,11)\n",
    "fig, axes = plt.subplots(1, 2, figsize=(18, 8))\n",
    "axes[0].hist(x, bins=n, align=\"right\", density=True )\n",
    "axes[1].hist(y, bins=n, align=\"right\", density=True) # with growing size (k) density function becomes bell curve\n",
    "plt.show()\n"
   ]
  },
  {
   "cell_type": "code",
   "execution_count": 43,
   "id": "9d924d9a",
   "metadata": {},
   "outputs": [
    {
     "data": {
      "image/png": "[encoded data removed]",
      "text/plain": [
       "<Figure size 360x360 with 1 Axes>"
      ]
     },
     "metadata": {
      "needs_background": "light"
     },
     "output_type": "display_data"
    }
   ],
   "source": [
    "sns.displot(np.random.binomial(n=10, p=0.5, size=50), kde=True);\n",
    "plt.show()\n"
   ]
  },
  {
   "cell_type": "markdown",
   "metadata": {},
   "source": [
    "## uniform distribution\n",
    "- The distribution describes an experiment where there is an arbitrary outcome that lies between certain bounds.\n",
    "- The bounds are defined by the parameters, a and b, which are the minimum and maximum values.\n",
    "- All  values on the intervals are equally probable. \n",
    "- It is the maximum entropy probability distribution for a random variable X under no constraint other than that it is contained in the distribution's support."
   ]
  },
  {
   "cell_type": "code",
   "execution_count": 32,
   "metadata": {},
   "outputs": [
    {
     "data": {
      "image/png": "[encoded data removed]",
      "text/plain": [
       "<Figure size 576x432 with 1 Axes>"
      ]
     },
     "metadata": {
      "needs_background": "light"
     },
     "output_type": "display_data"
    }
   ],
   "source": [
    "import numpy as np\n",
    "import matplotlib.pyplot as plt\n",
    "\n",
    "arr = np.random.uniform(-4, 5, 1000);\n",
    "plt.figure(figsize=(8,6))\n",
    "plt.hist(arr);"
   ]
  },
  {
   "cell_type": "markdown",
   "metadata": {},
   "source": [
    "# numba\n",
    "- speeds up your applications with high-performance functions\n",
    "\n",
    "Python is easy to understand and which is the same reason why it's slow<br>\n",
    "What makes Python slow?:\n",
    "- **Dynamically Typed**: If no data type is specified the interpreter checks the data type and associated conversion every time an operation is done.\n",
    "- **Memory Overheads**: Due to the flexibility of Python, individual memory is allocated for every object instead of an contiguous chunk of memory for an array the obkject are dispearsed in memory.\n",
    "- **Non-Compiled**: Python is not compiled. Compilers can have a look ahead on the program and make some high-level optimizations.\n",
    "- **GIL Lock**: The Global Interpreter Lock(GIL) does not allow multithreading. \n"
   ]
  },
  {
   "cell_type": "markdown",
   "metadata": {},
   "source": [
    "## JIT\n",
    "- Using the JIT decorator (wrapper), you can mark a function for optimization by Numba’s JIT compiler. \n",
    "- During the first execution, numba will infer the input type and compile the code based on that information. \n",
    "- The compiler also adds some optimizations specific to that input data type. \n",
    "- A direct consequence of this is, the function will have different execution code for different type of variables.\n",
    "- Changing the data type means numba can no longer infer the data type and optimize the function properly.\n",
    "\n",
    "When using @jit make sure your code has something numba can compile, like a compute-intensive loop, <br>\n",
    "maybe with libraries (numpy) and functions it supports. Otherwise, it won’t be able to compile anything.\n",
    "\n",
    "After the first time, it will be even faster because it doesn’t need to compile that code again, <br>\n",
    "given that you are using the same argument types that you used before.\n",
    "\n",
    "And if your code is parallelizable you can also pass parallel = True as an argument, <br>\n",
    "but it must be used in conjunction with nopython = True."
   ]
  },
  {
   "cell_type": "code",
   "execution_count": 56,
   "metadata": {},
   "outputs": [
    {
     "data": {
      "text/plain": [
       "88"
      ]
     },
     "execution_count": 56,
     "metadata": {},
     "output_type": "execute_result"
    }
   ],
   "source": [
    "from numba import jit\n",
    "import numpy as np\n",
    "\n",
    "@jit  # Placing the @jit marks the function for jit compilation\n",
    "def power_jit(a, b):\n",
    "    return a**b"
   ]
  },
  {
   "cell_type": "code",
   "execution_count": 60,
   "metadata": {},
   "outputs": [
    {
     "name": "stdout",
     "output_type": "stream",
     "text": [
      "290 ns ± 8 ns per loop (mean ± std. dev. of 7 runs, 1000000 loops each)\n"
     ]
    }
   ],
   "source": [
    "%%timeit\n",
    "2**90"
   ]
  },
  {
   "cell_type": "code",
   "execution_count": 67,
   "metadata": {},
   "outputs": [
    {
     "name": "stdout",
     "output_type": "stream",
     "text": [
      "157 ns ± 0.696 ns per loop (mean ± std. dev. of 7 runs, 10000000 loops each)\n"
     ]
    }
   ],
   "source": [
    "%%timeit\n",
    "power_jit(2, 90)"
   ]
  },
  {
   "cell_type": "markdown",
   "metadata": {},
   "source": [
    "## njit\n",
    "- For best performance numba recommends using @jit(nopython=True) or @njit.\n",
    "- @jit(nopython=True) won’t use the Python interpreter at all. \n",
    "- @njit will compile part of your code into machine code, and give the rest to the python interpreter."
   ]
  },
  {
   "cell_type": "code",
   "execution_count": 74,
   "metadata": {},
   "outputs": [],
   "source": [
    "@jit(nopython=True)\n",
    "def power_nopy(a, b):\n",
    "    return a**b\n",
    "\n",
    "from numba import njit\n",
    "@njit\n",
    "def power_njit(a, b):\n",
    "    return a**b\n"
   ]
  },
  {
   "cell_type": "code",
   "execution_count": 72,
   "metadata": {},
   "outputs": [
    {
     "name": "stdout",
     "output_type": "stream",
     "text": [
      "163 ns ± 1.88 ns per loop (mean ± std. dev. of 7 runs, 10000000 loops each)\n"
     ]
    }
   ],
   "source": [
    "%%timeit\n",
    "power_nopy(2, 90)"
   ]
  },
  {
   "cell_type": "code",
   "execution_count": 75,
   "metadata": {},
   "outputs": [
    {
     "name": "stdout",
     "output_type": "stream",
     "text": [
      "163 ns ± 0.797 ns per loop (mean ± std. dev. of 7 runs, 10000000 loops each)\n"
     ]
    }
   ],
   "source": [
    "%%timeit\n",
    "power_njit(2, 90)"
   ]
  },
  {
   "cell_type": "markdown",
   "metadata": {},
   "source": [
    "## Eager mode\n",
    "- One downside of this above approach is we must wait until the first execution for the compilation. \n",
    "- In eager mode, we specify the data type of the input, so the compiler need not infer from the input and compiles the function one the go. "
   ]
  },
  {
   "cell_type": "code",
   "execution_count": 65,
   "metadata": {},
   "outputs": [],
   "source": [
    "from numba import int32, int64\n",
    "\n",
    "@jit(int64(int32, int32))\n",
    "def power_eager(a, b):\n",
    "    return a**b"
   ]
  },
  {
   "cell_type": "code",
   "execution_count": 68,
   "metadata": {},
   "outputs": [
    {
     "name": "stdout",
     "output_type": "stream",
     "text": [
      "172 ns ± 3.14 ns per loop (mean ± std. dev. of 7 runs, 10000000 loops each)\n"
     ]
    }
   ],
   "source": [
    "%%timeit\n",
    "power_eager(2, 90)"
   ]
  },
  {
   "cell_type": "code",
   "execution_count": null,
   "metadata": {},
   "outputs": [],
   "source": []
  }
 ],
 "metadata": {
  "interpreter": {
   "hash": "ad7afd56c4a9327988b254949fc9ff6c4de57fd051da33a62b5f87e3ddafe8d2"
  },
  "kernelspec": {
   "display_name": "Python 3.8.12 64-bit ('lewagon')",
   "language": "python",
   "name": "python3"
  },
  "language_info": {
   "codemirror_mode": {
    "name": "ipython",
    "version": 3
   },
   "file_extension": ".py",
   "mimetype": "text/x-python",
   "name": "python",
   "nbconvert_exporter": "python",
   "pygments_lexer": "ipython3",
   "version": "3.8.12"
  },
  "orig_nbformat": 4
 },
 "nbformat": 4,
 "nbformat_minor": 2
}
