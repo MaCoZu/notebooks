{
 "cells": [
  {
   "cell_type": "markdown",
   "metadata": {},
   "source": [
    "# openpyxl\n",
    "- export database info in a spreadsheet\n",
    "- manipulate an existing spreadsheet\n",
    "https://www.askpython.com/python-modules/openpyxl-in-python\n",
    "https://realpython.com/openpyxl-excel-spreadsheets-python/"
   ]
  },
  {
   "cell_type": "code",
   "execution_count": null,
   "metadata": {},
   "outputs": [],
   "source": [
    "from openpyxl.workbook import Workbook\n",
    "from openpyxl import load_workbook\n",
    "\n",
    "# A workbook is always created with at least one worksheet.\n",
    "wb = Workbook()\n",
    "ws = wb.active  # selects the first available sheet\n",
    "ws.title = 'MySheet'\n",
    "\n",
    "ws1=wb.create_sheet('NewSheet')\n",
    "ws2=wb.create_sheet('AnotherSheet', 0) # position of worksheet\n",
    "\n",
    "ws[\"A1\"] = \"hello\" # insert info\n",
    "ws[\"B1\"] = \"world!\"\n",
    "wb.save('data/test_wb.xlsx')"
   ]
  },
  {
   "cell_type": "code",
   "execution_count": null,
   "metadata": {},
   "outputs": [
    {
     "name": "stdout",
     "output_type": "stream",
     "text": [
      "['AnotherSheet', 'MySheet', 'NewSheet']\n",
      "MySheet\n",
      "hello\n",
      "hello\n",
      "hello\n",
      "world!\n"
     ]
    }
   ],
   "source": [
    "print(wb.sheetnames)  # see all the sheets you have available\n",
    "print(ws.title)\n",
    "print(ws['a1'].value)\n",
    "print(ws.cell(row=1,column=1).value)\n",
    "print(ws.cell(1,1).value)\n",
    "print(ws.cell(1,2).value)\n"
   ]
  },
  {
   "cell_type": "code",
   "execution_count": null,
   "metadata": {},
   "outputs": [
    {
     "data": {
      "text/plain": [
       "['hello', 'world!']"
      ]
     },
     "metadata": {},
     "output_type": "display_data"
    }
   ],
   "source": [
    "cell_range = ws['A1':'b1']\n",
    "[x.value for x in cell_range[0]]"
   ]
  },
  {
   "cell_type": "markdown",
   "metadata": {},
   "source": [
    "## open external spreadsheet\n",
    "arguments you can pass to load_workbook()\n",
    "  1. **read_only** loads a spreadsheet in read-only mode allowing you to open very large Excel files.\n",
    "  2.  **data_only** ignores loading formulas and instead loads only the resulting values.\n"
   ]
  },
  {
   "cell_type": "code",
   "execution_count": null,
   "metadata": {},
   "outputs": [
    {
     "data": {
      "text/plain": [
       "['Sheet1']"
      ]
     },
     "metadata": {},
     "output_type": "display_data"
    }
   ],
   "source": [
    "wb2 = load_workbook('data/fao.xlsx') # load external file\n",
    "wb2.sheetnames"
   ]
  },
  {
   "cell_type": "code",
   "execution_count": null,
   "metadata": {},
   "outputs": [
    {
     "name": "stderr",
     "output_type": "stream",
     "text": [
      "/tmp/ipykernel_12744/1166990101.py:1: DeprecationWarning: Call to deprecated function get_sheet_by_name (Use wb[sheetname]).\n",
      "  ws = wb2.get_sheet_by_name('Sheet1')\n"
     ]
    },
    {
     "data": {
      "text/plain": [
       "'FPI'"
      ]
     },
     "metadata": {},
     "output_type": "display_data"
    }
   ],
   "source": [
    "ws = wb2.get_sheet_by_name('Sheet1')\n",
    "ws.title\n",
    "ws.title = 'FPI' # change sheet title\n",
    "ws.title"
   ]
  },
  {
   "cell_type": "code",
   "execution_count": null,
   "metadata": {},
   "outputs": [
    {
     "data": {
      "text/plain": [
       "53.5"
      ]
     },
     "metadata": {},
     "output_type": "display_data"
    }
   ],
   "source": [
    "cell = ws['c4']\n",
    "cell.value\n",
    "cell.row # row of cell\n",
    "cell.column # column of cell\n",
    "ws.cell(row=2, column=4).value # cell by row and column"
   ]
  },
  {
   "cell_type": "code",
   "execution_count": null,
   "metadata": {},
   "outputs": [],
   "source": [
    "# one whole column\n",
    "for cell in ws['B']:\n",
    "    print(cell.value)"
   ]
  },
  {
   "cell_type": "code",
   "execution_count": null,
   "metadata": {},
   "outputs": [],
   "source": [
    "# one whole row \n",
    "for date in fao[3]:\n",
    "    print(date.value)"
   ]
  },
  {
   "cell_type": "code",
   "execution_count": null,
   "metadata": {},
   "outputs": [
    {
     "name": "stdout",
     "output_type": "stream",
     "text": [
      "1 Food Price Index\n",
      "2 64.1\n",
      "3 64.5\n",
      "4 63.8\n",
      "5 65.8\n",
      "6 64.4\n",
      "7 63.7\n",
      "8 62.5\n"
     ]
    }
   ],
   "source": [
    "#  printing few column values\n",
    "for x in range(1, 9):\n",
    "    print(x, ws.cell(row=x, column=2).value)"
   ]
  },
  {
   "cell_type": "code",
   "execution_count": null,
   "metadata": {},
   "outputs": [
    {
     "name": "stdout",
     "output_type": "stream",
     "text": [
      "Date Food Price Index Meat Dairy Cereals Oils Sugar\n",
      "1990-01-01 00:00:00 64.1 73.4 53.5 64.1 44.59 87.9\n",
      "1990-02-01 00:00:00 64.5 76 52.2 62.2 44.5 90.7\n",
      "1990-03-01 00:00:00 63.8 77.8 41.4 61.3 45.75 95.1\n",
      "1990-04-01 00:00:00 65.8 80.4 48.4 62.8 44.02 94.3\n",
      "1990-05-01 00:00:00 64.4 81 39.2 62 45.5 90.4\n",
      "1990-06-01 00:00:00 63.7 83.1 39.2 60.7 43.8 80.3\n",
      "1990-07-01 00:00:00 62.5 83.4 39.2 57.9 43.72 74.2\n"
     ]
    }
   ],
   "source": [
    "# print many columns of a few rows\n",
    "for y in range(1, 9, 1):\n",
    "    print(\n",
    "        ws.cell(row=y, column=1).value,\n",
    "        ws.cell(row=y, column=2).value,\n",
    "        ws.cell(row=y, column=3).value,\n",
    "        ws.cell(row=y, column=4).value,\n",
    "        ws.cell(row=y, column=5).value,\n",
    "        ws.cell(row=y, column=6).value,\n",
    "        ws.cell(row=y, column=7).value)\n"
   ]
  },
  {
   "cell_type": "code",
   "execution_count": null,
   "metadata": {},
   "outputs": [
    {
     "name": "stdout",
     "output_type": "stream",
     "text": [
      "('Date', 'Food Price Index', 'Meat', 'Dairy', 'Cereals', 'Oils', 'Sugar')\n",
      "(datetime.datetime(1990, 1, 1, 0, 0), 64.1, 73.4, 53.5, 64.1, 44.59, 87.9)\n",
      "(datetime.datetime(1990, 2, 1, 0, 0), 64.5, 76, 52.2, 62.2, 44.5, 90.7)\n",
      "(datetime.datetime(1990, 3, 1, 0, 0), 63.8, 77.8, 41.4, 61.3, 45.75, 95.1)\n",
      "(datetime.datetime(1990, 4, 1, 0, 0), 65.8, 80.4, 48.4, 62.8, 44.02, 94.3)\n",
      "(datetime.datetime(1990, 5, 1, 0, 0), 64.4, 81, 39.2, 62, 45.5, 90.4)\n",
      "(datetime.datetime(1990, 6, 1, 0, 0), 63.7, 83.1, 39.2, 60.7, 43.8, 80.3)\n",
      "(datetime.datetime(1990, 7, 1, 0, 0), 62.5, 83.4, 39.2, 57.9, 43.72, 74.2)\n",
      "(datetime.datetime(1990, 8, 1, 0, 0), 61.5, 83.7, 36.8, 55.7, 45.37, 67.6)\n",
      "(datetime.datetime(1990, 9, 1, 0, 0), 61, 84.5, 38.1, 52.5, 44.79, 68.5)\n",
      "(datetime.datetime(1990, 10, 1, 0, 0), 61.1, 85.4, 38.9, 52.8, 45.72, 60.8)\n",
      "(datetime.datetime(1990, 11, 1, 0, 0), 61.9, 86.2, 39.4, 52.4, 48.3, 62.3)\n",
      "(datetime.datetime(1990, 12, 1, 0, 0), 61.9, 83.7, 45.1, 52.6, 49.6, 60.3)\n",
      "(datetime.datetime(1991, 1, 1, 0, 0), 60.8, 79.8, 46.9, 53.7, 49.47, 54.5)\n"
     ]
    }
   ],
   "source": [
    "# go over the rows with iter rows, set values_only=True for values\n",
    "for row in ws.iter_rows(min_row=1, max_row=14, min_col=1, max_col=7, values_only=True):\n",
    "    print(row)"
   ]
  },
  {
   "cell_type": "code",
   "execution_count": null,
   "metadata": {},
   "outputs": [
    {
     "name": "stdout",
     "output_type": "stream",
     "text": [
      "('Date', datetime.datetime(1990, 1, 1, 0, 0), datetime.datetime(1990, 2, 1, 0, 0), datetime.datetime(1990, 3, 1, 0, 0), datetime.datetime(1990, 4, 1, 0, 0))\n",
      "('Food Price Index', 64.1, 64.5, 63.8, 65.8)\n",
      "('Meat', 73.4, 76, 77.8, 80.4)\n",
      "('Dairy', 53.5, 52.2, 41.4, 48.4)\n",
      "('Cereals', 64.1, 62.2, 61.3, 62.8)\n",
      "('Oils', 44.59, 44.5, 45.75, 44.02)\n",
      "('Sugar', 87.9, 90.7, 95.1, 94.3)\n"
     ]
    }
   ],
   "source": [
    "# go over the columns\n",
    "for col in ws.iter_cols(min_row=1, max_row=5, min_col=1, max_col=7, values_only=True):\n",
    "    print(col)"
   ]
  },
  {
   "cell_type": "code",
   "execution_count": null,
   "metadata": {},
   "outputs": [],
   "source": [
    "# go through all rows\n",
    "for row in ws.rows:\n",
    "    print(row)"
   ]
  },
  {
   "cell_type": "code",
   "execution_count": null,
   "metadata": {},
   "outputs": [],
   "source": [
    "# go through all columns\n",
    "for col in ws.columns:\n",
    "    print(col)"
   ]
  },
  {
   "cell_type": "code",
   "execution_count": null,
   "metadata": {},
   "outputs": [
    {
     "data": {
      "text/plain": [
       "[datetime.datetime(1990, 1, 1, 0, 0), 64.1, 73.4, 53.5, 64.1, 44.59, 87.9]"
      ]
     },
     "metadata": {},
     "output_type": "display_data"
    }
   ],
   "source": [
    "# one row as a list\n",
    "[date.value for date in ws[2]]"
   ]
  },
  {
   "cell_type": "markdown",
   "metadata": {},
   "source": [
    "## create a json from sheet"
   ]
  },
  {
   "cell_type": "code",
   "execution_count": null,
   "metadata": {},
   "outputs": [
    {
     "name": "stdout",
     "output_type": "stream",
     "text": [
      "{\"1990\": {\"fpi\": 61.9, \"meat\": 83.7, \"sugar\": 60.3}, \"1991\": {\"fpi\": 64.1, \"meat\": 78.3, \"sugar\": 55.7}, \"1992\": {\"fpi\": 61, \"meat\": 72.8, \"sugar\": 50.4}, \"1993\": {\"fpi\": 64.3, \"meat\": 70.1, \"sugar\": 65.1}, \"1994\": {\"fpi\": 73.1, \"meat\": 78.2, \"sugar\": 90.8}, \"1995\": {\"fpi\": 78, \"meat\": 81.2, \"sugar\": 76.2}, \"1996\": {\"fpi\": 71.4, \"meat\": 81, \"sugar\": 66.5}, \"1997\": {\"fpi\": 68, \"meat\": 69.5, \"sugar\": 76.3}, \"1998\": {\"fpi\": 67.4, \"meat\": 67.8, \"sugar\": 60.9}}\n"
     ]
    }
   ],
   "source": [
    "import json\n",
    "from openpyxl import load_workbook\n",
    "\n",
    "workbook = load_workbook(filename='data/fao.xlsx')\n",
    "sheet = workbook.active\n",
    "\n",
    "food_price = {}\n",
    "\n",
    "# Using the values_only because you want to return the cells' values\n",
    "for row in sheet.iter_rows(min_row=2, max_row=100, min_col=1, max_col=7, values_only=True):\n",
    "    date= row[0].year\n",
    "    prices = {\"fpi\": row[1], \"meat\": row[2], \"sugar\": row[6]}\n",
    "    food_price[date] = prices\n",
    "\n",
    "# Using json here to be able to format the output for displaying later\n",
    "print(json.dumps(food_price))"
   ]
  },
  {
   "cell_type": "markdown",
   "metadata": {},
   "source": [
    "## create new Workbook"
   ]
  },
  {
   "cell_type": "code",
   "execution_count": null,
   "metadata": {},
   "outputs": [
    {
     "name": "stdout",
     "output_type": "stream",
     "text": [
      "('hello', 'world!')\n",
      "(None, None)\n",
      "(None, None)\n",
      "(None, None)\n",
      "(None, None)\n",
      "(None, None)\n",
      "(None, None)\n",
      "(None, None)\n",
      "(None, None)\n",
      "(None, 'test')\n"
     ]
    }
   ],
   "source": [
    "from openpyxl import Workbook\n",
    "\n",
    "workbook = Workbook()\n",
    "sheet = workbook.active\n",
    "\n",
    "sheet[\"A1\"] = \"hello\" # write value in cell\n",
    "sheet[\"B1\"] = \"world!\"\n",
    "sheet[\"B10\"] = \"test\" # now sheet has ten rows\n",
    "\n",
    "def print_rows(): # function to read rows\n",
    "    for row in sheet.iter_rows(values_only=True):\n",
    "        print(row)\n",
    "\n",
    "print_rows()\n",
    "\n",
    "workbook.save(filename=\"hello_world.xlsx\") # save file"
   ]
  },
  {
   "cell_type": "markdown",
   "metadata": {},
   "source": [
    "## manage rows and columns\n",
    "- the insertion happens before the idx parameter\n",
    "- if you do insert_rows(1), it inserts a new row before the existing first row.\n",
    "- However, when deleting rows or columns, .delete_... deletes data starting from the index passed as an argument."
   ]
  },
  {
   "cell_type": "code",
   "execution_count": null,
   "metadata": {},
   "outputs": [
    {
     "name": "stdout",
     "output_type": "stream",
     "text": [
      "('hello', 'world!')\n",
      "(None, None)\n",
      "(None, None)\n",
      "(None, None)\n",
      "(None, None)\n",
      "(None, None)\n",
      "(None, None)\n",
      "(None, None)\n",
      "(None, None)\n",
      "(None, 'test')\n",
      "\n",
      "(None, 'hello', 'world!')\n",
      "(None, None, None)\n",
      "(None, None, None)\n",
      "(None, None, None)\n",
      "(None, None, None)\n",
      "(None, None, None)\n",
      "(None, None, None)\n",
      "(None, None, None)\n",
      "(None, None, None)\n",
      "(None, None, 'test')\n"
     ]
    }
   ],
   "source": [
    "print_rows()\n",
    "print('')\n",
    "sheet.insert_cols(idx=1)   # Insert a column before the existing column 1 (\"A\")\n",
    "print_rows()"
   ]
  },
  {
   "cell_type": "code",
   "execution_count": null,
   "metadata": {},
   "outputs": [
    {
     "name": "stdout",
     "output_type": "stream",
     "text": [
      "(None, 'hello', None, None, None, None, None, 'world!')\n",
      "(None, None, None, None, None, None, None, None)\n",
      "(None, None, None, None, None, None, None, None)\n",
      "(None, None, None, None, None, None, None, None)\n",
      "(None, None, None, None, None, None, None, None)\n",
      "(None, None, None, None, None, None, None, None)\n",
      "(None, None, None, None, None, None, None, None)\n",
      "(None, None, None, None, None, None, None, None)\n",
      "(None, None, None, None, None, None, None, None)\n",
      "(None, None, None, None, None, None, None, 'test')\n"
     ]
    }
   ],
   "source": [
    "# Insert 5 columns between column 2 (\"B\") and 3 (\"C\")\n",
    "sheet.insert_cols(idx=3, amount=5)\n",
    "print_rows()"
   ]
  },
  {
   "cell_type": "code",
   "execution_count": null,
   "metadata": {},
   "outputs": [
    {
     "name": "stdout",
     "output_type": "stream",
     "text": [
      "('hello', 'world!')\n",
      "(None, None)\n",
      "(None, None)\n",
      "(None, None)\n",
      "(None, None)\n",
      "(None, None)\n",
      "(None, None)\n",
      "(None, None)\n",
      "(None, None)\n",
      "(None, 'test')\n"
     ]
    }
   ],
   "source": [
    "# Delete the created columns\n",
    "sheet.delete_cols(idx=1)\n",
    "sheet.delete_cols(idx=2, amount=5)\n",
    "print_rows()"
   ]
  },
  {
   "cell_type": "code",
   "execution_count": null,
   "metadata": {},
   "outputs": [
    {
     "name": "stdout",
     "output_type": "stream",
     "text": [
      "(None, None)\n",
      "(None, None)\n",
      "(None, None)\n",
      "(None, None)\n",
      "('hello', 'world!')\n",
      "(None, None)\n",
      "(None, None)\n",
      "(None, None)\n",
      "(None, None)\n",
      "(None, None)\n",
      "(None, None)\n",
      "(None, None)\n",
      "(None, None)\n",
      "(None, 'test')\n"
     ]
    }
   ],
   "source": [
    "# Insert 3 new rows in the beginning\n",
    "sheet.insert_rows(idx=1, amount=3)\n",
    "print_rows()"
   ]
  },
  {
   "cell_type": "code",
   "execution_count": null,
   "metadata": {},
   "outputs": [
    {
     "name": "stdout",
     "output_type": "stream",
     "text": [
      "('hello', 'world!')\n",
      "(None, None)\n",
      "(None, None)\n",
      "(None, None)\n",
      "(None, None)\n",
      "(None, None)\n",
      "(None, None)\n",
      "(None, None)\n",
      "(None, None)\n",
      "(None, 'test')\n"
     ]
    }
   ],
   "source": [
    "# Delete the first 4 rows\n",
    "sheet.delete_rows(idx=1, amount=4)\n",
    "print_rows()"
   ]
  },
  {
   "cell_type": "code",
   "execution_count": null,
   "metadata": {},
   "outputs": [],
   "source": [
    "https://realpython.com/openpyxl-excel-spreadsheets-python/"
   ]
  }
 ],
 "metadata": {
  "kernelspec": {
   "display_name": "Python 3.8.12 64-bit ('lewagon')",
   "language": "python",
   "name": "python3"
  },
  "language_info": {
   "name": "python",
   "version": "3.8.12"
  },
  "orig_nbformat": 4,
  "vscode": {
   "interpreter": {
    "hash": "ad7afd56c4a9327988b254949fc9ff6c4de57fd051da33a62b5f87e3ddafe8d2"
   }
  }
 },
 "nbformat": 4,
 "nbformat_minor": 2
}
