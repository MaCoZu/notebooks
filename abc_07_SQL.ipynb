{
 "cells": [
  {
   "cell_type": "markdown",
   "metadata": {},
   "source": [
    "# postgres\n",
    "-  To interact with PostgreSQL, you need to install a third-party Python SQL driver like  psycopg2.\n",
    "\n",
    "https://www.postgresqltutorial.com/postgresql-cheat-sheet/\n",
    "https://realpython.com/python-sql-libraries/#creating-tables"
   ]
  },
  {
   "cell_type": "markdown",
   "metadata": {},
   "source": [
    "##  connect"
   ]
  },
  {
   "cell_type": "code",
   "execution_count": 77,
   "metadata": {},
   "outputs": [
    {
     "name": "stdout",
     "output_type": "stream",
     "text": [
      "Connection to PostgreSQL DB successful\n"
     ]
    }
   ],
   "source": [
    "import psycopg2\n",
    "from psycopg2 import OperationalError\n",
    "\n",
    "db_name = 'imdb'\n",
    "db_user = 'user1'\n",
    "db_password = 'learning'\n",
    "db_host = '127.0.0.1'\n",
    "db_port =5432\n",
    "\n",
    "\n",
    "def create_connection(db_name, db_user, db_password, db_host, db_port):\n",
    "    connection = None\n",
    "    try:\n",
    "        connection = psycopg2.connect(\n",
    "            database=db_name,\n",
    "            user=db_user,\n",
    "            password=db_password,\n",
    "            host=db_host,\n",
    "            port=db_port,\n",
    "        )\n",
    "        print(\"Connection to PostgreSQL DB successful\")\n",
    "    except OperationalError as e:\n",
    "        print(f\"The error '{e}' occurred\")\n",
    "    return connection\n",
    "\n",
    "\n",
    "connection  = create_connection(db_name, db_user, db_password, db_host, db_port)"
   ]
  },
  {
   "cell_type": "markdown",
   "metadata": {},
   "source": [
    "## read "
   ]
  },
  {
   "cell_type": "code",
   "execution_count": 12,
   "metadata": {},
   "outputs": [],
   "source": [
    "def execute_read_query(connection, query):\n",
    "    cursor = connection.cursor()\n",
    "    result = None\n",
    "    try:\n",
    "        cursor.execute(query)\n",
    "        result = cursor.fetchall()\n",
    "        return result\n",
    "    except OperationalError as e:\n",
    "        print(f\"The error '{e}' occurred\")"
   ]
  },
  {
   "cell_type": "code",
   "execution_count": 64,
   "metadata": {},
   "outputs": [],
   "source": [
    "select_movie = \"\"\"SELECT title, year, director, avg_vote, metascore \n",
    "                                 FROM movies \n",
    "                                 WHERE title LIKE '%Killer' AND year > 2015 \n",
    "                                 ORDER BY avg_vote DESC\"\"\"\n",
    "movies = execute_read_query(connection, select_movie)"
   ]
  },
  {
   "cell_type": "code",
   "execution_count": 63,
   "metadata": {},
   "outputs": [
    {
     "name": "stdout",
     "output_type": "stream",
     "text": [
      "(\"I'm a Killer\", Decimal('2016'), 'Maciej Pieprzyca', Decimal('7.0'), Decimal('0.0'))\n",
      "(\"Gosnell: The Trial of America's Biggest Serial Killer\", Decimal('2018'), 'Nick Searcy', Decimal('6.7'), Decimal('0.0'))\n",
      "('The Clovehitch Killer', Decimal('2018'), 'Duncan Skiles', Decimal('6.5'), Decimal('59.0'))\n",
      "('I Am Not a Serial Killer', Decimal('2016'), \"Billy O'Brien\", Decimal('6.2'), Decimal('54.0'))\n",
      "('You Might Be the Killer', Decimal('2018'), 'Brett Simmons', Decimal('5.9'), Decimal('0.0'))\n",
      "('Malevolence 3: Killer', Decimal('2018'), 'Stevan Mena', Decimal('5.6'), Decimal('0.0'))\n",
      "('Hometown Killer', Decimal('2018'), 'Jeff Hare', Decimal('5.5'), Decimal('0.0'))\n",
      "('Mrs. Serial Killer', Decimal('2020'), 'Shirish Kunder', Decimal('4.9'), Decimal('0.0'))\n",
      "('DNA Killer', Decimal('2020'), 'Lisa France', Decimal('4.9'), Decimal('0.0'))\n",
      "('Social Killer', Decimal('2018'), 'Craig Goldstein', Decimal('4.9'), Decimal('0.0'))\n",
      "('Camper Killer', Decimal('2018'), 'Tom Nagel', Decimal('3.7'), Decimal('0.0'))\n",
      "('Bundy and the Green River Killer', Decimal('2019'), 'Andrew Jones', Decimal('3.7'), Decimal('0.0'))\n",
      "('Khali the Killer', Decimal('2017'), 'Jon Matthews', Decimal('3.6'), Decimal('0.0'))\n",
      "('Staged Killer', Decimal('2019'), 'Christopher Ray', Decimal('3.4'), Decimal('0.0'))\n",
      "('The Millennial Killer', Decimal('2020'), 'Sam Mason-Bell', Decimal('2.7'), Decimal('0.0'))\n"
     ]
    }
   ],
   "source": [
    "for movie in movies:\n",
    "    print(movie)"
   ]
  },
  {
   "cell_type": "markdown",
   "metadata": {},
   "source": [
    "## create new db"
   ]
  },
  {
   "cell_type": "code",
   "execution_count": 82,
   "metadata": {},
   "outputs": [
    {
     "name": "stdout",
     "output_type": "stream",
     "text": [
      "Connection to PostgreSQL DB successful\n"
     ]
    }
   ],
   "source": [
    "# connect to your defalut database\n",
    "connection = create_connection('postgres', 'postgres', 'password', db_host, db_port)"
   ]
  },
  {
   "cell_type": "code",
   "execution_count": 83,
   "metadata": {},
   "outputs": [
    {
     "name": "stdout",
     "output_type": "stream",
     "text": [
      "Query executed successfully\n"
     ]
    }
   ],
   "source": [
    "def create_database(connection, query):\n",
    "    connection.autocommit = True\n",
    "    cursor = connection.cursor()\n",
    "    try:\n",
    "        cursor.execute(query)\n",
    "        print(\"Query executed successfully\")\n",
    "    except OperationalError as e:\n",
    "        print(f\"The error '{e}' occurred\")\n",
    "\n",
    "\n",
    "create_database_query = \"CREATE DATABASE play_db OWNER user1;\"\n",
    "create_database(connection, create_database_query)"
   ]
  },
  {
   "cell_type": "markdown",
   "metadata": {},
   "source": [
    "## delete db"
   ]
  },
  {
   "cell_type": "code",
   "execution_count": 85,
   "metadata": {},
   "outputs": [
    {
     "name": "stdout",
     "output_type": "stream",
     "text": [
      "Query executed successfully\n"
     ]
    }
   ],
   "source": [
    "delete_database_query = \"DROP DATABASE IF EXISTS play_db;\"\n",
    "create_database(connection, delete_database_query)"
   ]
  },
  {
   "cell_type": "code",
   "execution_count": null,
   "metadata": {},
   "outputs": [],
   "source": []
  },
  {
   "cell_type": "code",
   "execution_count": null,
   "metadata": {},
   "outputs": [],
   "source": []
  },
  {
   "cell_type": "code",
   "execution_count": null,
   "metadata": {},
   "outputs": [],
   "source": []
  },
  {
   "cell_type": "code",
   "execution_count": null,
   "metadata": {},
   "outputs": [],
   "source": []
  },
  {
   "cell_type": "code",
   "execution_count": null,
   "metadata": {},
   "outputs": [],
   "source": []
  },
  {
   "cell_type": "markdown",
   "metadata": {},
   "source": [
    "## insert"
   ]
  },
  {
   "cell_type": "code",
   "execution_count": 66,
   "metadata": {},
   "outputs": [
    {
     "ename": "NotNullViolation",
     "evalue": "null value in column \"imdb_title_id\" of relation \"movies\" violates not-null constraint\nDETAIL:  Failing row contains (null, Marco Man, null, 2022, null, null, null, null, null, Self, null, null, null, null, null, null, null, null, null, 100.0, null, null).\n",
     "output_type": "error",
     "traceback": [
      "\u001b[0;31m---------------------------------------------------------------------------\u001b[0m",
      "\u001b[0;31mNotNullViolation\u001b[0m                          Traceback (most recent call last)",
      "\u001b[0;32m/tmp/ipykernel_16729/268798733.py\u001b[0m in \u001b[0;36m<module>\u001b[0;34m\u001b[0m\n\u001b[1;32m      8\u001b[0m \u001b[0mconnection\u001b[0m\u001b[0;34m.\u001b[0m\u001b[0mautocommit\u001b[0m \u001b[0;34m=\u001b[0m \u001b[0;32mTrue\u001b[0m\u001b[0;34m\u001b[0m\u001b[0;34m\u001b[0m\u001b[0m\n\u001b[1;32m      9\u001b[0m \u001b[0mcursor\u001b[0m \u001b[0;34m=\u001b[0m \u001b[0mconnection\u001b[0m\u001b[0;34m.\u001b[0m\u001b[0mcursor\u001b[0m\u001b[0;34m(\u001b[0m\u001b[0;34m)\u001b[0m\u001b[0;34m\u001b[0m\u001b[0;34m\u001b[0m\u001b[0m\n\u001b[0;32m---> 10\u001b[0;31m \u001b[0mcursor\u001b[0m\u001b[0;34m.\u001b[0m\u001b[0mexecute\u001b[0m\u001b[0;34m(\u001b[0m\u001b[0minsert_query\u001b[0m\u001b[0;34m,\u001b[0m \u001b[0mmovies\u001b[0m\u001b[0;34m)\u001b[0m\u001b[0;34m\u001b[0m\u001b[0;34m\u001b[0m\u001b[0m\n\u001b[0m",
      "\u001b[0;31mNotNullViolation\u001b[0m: null value in column \"imdb_title_id\" of relation \"movies\" violates not-null constraint\nDETAIL:  Failing row contains (null, Marco Man, null, 2022, null, null, null, null, null, Self, null, null, null, null, null, null, null, null, null, 100.0, null, null).\n"
     ]
    }
   ],
   "source": [
    "movie = (\"Marco Man\", \"Self\", 2022, 100)\n",
    "\n",
    "\n",
    "insert_query = (\n",
    "    f\"INSERT INTO movies (title, director, year, metascore) VALUES {movie}\"\n",
    ")\n",
    "\n",
    "connection.autocommit = True\n",
    "cursor = connection.cursor()\n",
    "cursor.execute(insert_query, movies)"
   ]
  },
  {
   "cell_type": "code",
   "execution_count": null,
   "metadata": {},
   "outputs": [],
   "source": []
  }
 ],
 "metadata": {
  "kernelspec": {
   "display_name": "Python 3.8.12 64-bit ('lewagon')",
   "language": "python",
   "name": "python3"
  },
  "language_info": {
   "codemirror_mode": {
    "name": "ipython",
    "version": 3
   },
   "file_extension": ".py",
   "mimetype": "text/x-python",
   "name": "python",
   "nbconvert_exporter": "python",
   "pygments_lexer": "ipython3",
   "version": "3.8.12"
  },
  "orig_nbformat": 4,
  "vscode": {
   "interpreter": {
    "hash": "ad7afd56c4a9327988b254949fc9ff6c4de57fd051da33a62b5f87e3ddafe8d2"
   }
  }
 },
 "nbformat": 4,
 "nbformat_minor": 2
}
