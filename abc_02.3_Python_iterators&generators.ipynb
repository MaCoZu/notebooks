{
 "cells": [
  {
   "cell_type": "markdown",
   "id": "20e52a9f",
   "metadata": {},
   "source": [
    "# Iterators\n",
    "- help cleaning up the code \n",
    "- uses them instead of for-loops"
   ]
  },
  {
   "cell_type": "code",
   "execution_count": null,
   "id": "d2514d39",
   "metadata": {},
   "outputs": [
    {
     "name": "stdout",
     "output_type": "stream",
     "text": [
      "Sunday\n",
      "Monday\n",
      "Tuesday\n",
      "Wednesday\n",
      "Thursday\n"
     ]
    }
   ],
   "source": [
    "days = ['Sunday', 'Monday', 'Tuesday', 'Wednesday', 'Thursday', 'Friday', 'Saturday']\n",
    "i=iter(days)\n",
    "print(next(i))\n",
    "print(next(i))\n",
    "print(next(i))\n",
    "print(next(i))\n",
    "print(next(i))"
   ]
  },
  {
   "cell_type": "markdown",
   "id": "c207f6d6",
   "metadata": {},
   "source": [
    "## enumerate"
   ]
  },
  {
   "cell_type": "code",
   "execution_count": null,
   "id": "9e7a5f44",
   "metadata": {},
   "outputs": [
    {
     "name": "stdout",
     "output_type": "stream",
     "text": [
      "1 Sun\n",
      "2 Mon\n",
      "3 Tue\n",
      "4 Wed\n",
      "5 Thu\n",
      "6 Fri\n",
      "7 Sat\n"
     ]
    }
   ],
   "source": [
    "for i, m in enumerate(days, start=1):\n",
    "    print(i, m)"
   ]
  },
  {
   "cell_type": "markdown",
   "id": "b86d71bc",
   "metadata": {},
   "source": [
    "## zip"
   ]
  },
  {
   "cell_type": "code",
   "execution_count": null,
   "id": "96e8f289",
   "metadata": {},
   "outputs": [
    {
     "name": "stdout",
     "output_type": "stream",
     "text": [
      "('Sunday', 'Sonntag')\n",
      "('Monday', 'Montag')\n",
      "('Tuesday', 'Dienstag')\n",
      "('Wednesday', 'Mittwoch')\n",
      "('Thursday', 'Donerstag')\n",
      "('Friday', 'Freitag')\n",
      "('Saturday', 'Samstag')\n"
     ]
    }
   ],
   "source": [
    "days = [ 'Sunday', 'Monday', 'Tuesday', 'Wednesday', 'Thursday', 'Friday', 'Saturday' ]\n",
    "day_ger = ['Sonntag', 'Montag', 'Dienstag', 'Mittwoch', 'Donerstag', 'Freitag', 'Samstag']\n",
    "for m in zip(days, day_ger):\n",
    "    print(m)"
   ]
  },
  {
   "cell_type": "code",
   "execution_count": null,
   "id": "61c4871c",
   "metadata": {},
   "outputs": [
    {
     "name": "stdout",
     "output_type": "stream",
     "text": [
      "[(1, 'a'), (2, 'b'), (3, 'c')]\n",
      "{1: 'a', 2: 'b', 3: 'c'}\n"
     ]
    }
   ],
   "source": [
    "l = list(zip([1, 2, 3], ['a', 'b', 'c']))   # pairs the two list to a list of tuples\n",
    "d = dict(zip([1, 2, 3], ['a', 'b', 'c']))   # pairs two lists to a dict\n",
    "print(l)\n",
    "print(d)\n"
   ]
  },
  {
   "cell_type": "code",
   "execution_count": null,
   "id": "8d5fddc4",
   "metadata": {},
   "outputs": [
    {
     "name": "stdout",
     "output_type": "stream",
     "text": [
      "0 Sunday = Sonntag in german\n",
      "1 Monday = Montag in german\n",
      "2 Tuesday = Dienstag in german\n",
      "3 Wednesday = Mittwoch in german\n",
      "4 Thursday = Donerstag in german\n",
      "5 Friday = Freitag in german\n",
      "6 Saturday = Samstag in german\n"
     ]
    }
   ],
   "source": [
    "for i, m in enumerate(zip(days, day_ger)):\n",
    "    print(i, m[0], '=', m[1], 'in german')"
   ]
  },
  {
   "cell_type": "markdown",
   "id": "b0537648",
   "metadata": {},
   "source": [
    "# itertools"
   ]
  },
  {
   "cell_type": "code",
   "execution_count": null,
   "id": "d79255da",
   "metadata": {},
   "outputs": [],
   "source": [
    "import itertools"
   ]
  },
  {
   "cell_type": "code",
   "execution_count": null,
   "id": "1f3759e5",
   "metadata": {},
   "outputs": [
    {
     "name": "stdout",
     "output_type": "stream",
     "text": [
      "Joe\n",
      "Jana\n",
      "Joseph\n",
      "Joe\n"
     ]
    }
   ],
   "source": [
    "# cycle iterator cycles over a collection\n",
    "seq1 = ['Joe', 'Jana', 'Joseph']\n",
    "cycle1 = itertools.cycle(seq1)\n",
    "print(next(cycle1))\n",
    "print(next(cycle1))\n",
    "print(next(cycle1))\n",
    "print(next(cycle1)) # cycles to the beginning"
   ]
  },
  {
   "cell_type": "code",
   "execution_count": null,
   "id": "48cae5ec",
   "metadata": {},
   "outputs": [
    {
     "name": "stdout",
     "output_type": "stream",
     "text": [
      "100\n",
      "110\n",
      "120\n",
      "130\n",
      "140\n"
     ]
    }
   ],
   "source": [
    "# count iterator\n",
    "count1 = itertools.count(100, 10)\n",
    "print(next(count1))\n",
    "print(next(count1))\n",
    "print(next(count1))\n",
    "print(next(count1))\n",
    "print(next(count1))"
   ]
  },
  {
   "cell_type": "code",
   "execution_count": null,
   "id": "0c7f5e86",
   "metadata": {},
   "outputs": [
    {
     "name": "stdout",
     "output_type": "stream",
     "text": [
      "[10, 30, 90, 130, 180, 195, 225]\n"
     ]
    }
   ],
   "source": [
    "# accumulate iterator - running addition\n",
    "vals = [10, 20, 60, 40, 50, 15, 30]\n",
    "accu = itertools.accumulate(vals)\n",
    "print(list(accu))"
   ]
  },
  {
   "cell_type": "code",
   "execution_count": null,
   "id": "3bb4d994",
   "metadata": {},
   "outputs": [
    {
     "name": "stdout",
     "output_type": "stream",
     "text": [
      "[10, 20, 60, 60, 60, 60, 60]\n"
     ]
    }
   ],
   "source": [
    "# goes over the numbers and sticks with the max \n",
    "accu2 = itertools.accumulate(vals, max)\n",
    "print(list(accu2))"
   ]
  },
  {
   "cell_type": "code",
   "execution_count": null,
   "id": "48f4db71",
   "metadata": {},
   "outputs": [
    {
     "name": "stdout",
     "output_type": "stream",
     "text": [
      "['A', 'B', 'C', 'D', '1', '2', '3', '4']\n"
     ]
    }
   ],
   "source": [
    "# chain - chains to sequences\n",
    "x =itertools.chain('ABCD', '1234')\n",
    "print(list(x))"
   ]
  },
  {
   "cell_type": "code",
   "execution_count": null,
   "id": "321c3e14",
   "metadata": {},
   "outputs": [],
   "source": [
    "def fct(x):\n",
    "    return x < 40"
   ]
  },
  {
   "cell_type": "code",
   "execution_count": null,
   "id": "7c5006f1",
   "metadata": {},
   "outputs": [
    {
     "name": "stdout",
     "output_type": "stream",
     "text": [
      "[10, 20, 60, 40, 50, 15, 30]\n",
      "[60, 40, 50, 15, 30]\n",
      "[10, 20]\n"
     ]
    }
   ],
   "source": [
    "print(vals)\n",
    "# drops values as long as (fct retuns True) trigger point is not reached\n",
    "print(list(itertools.dropwhile(fct, vals)))\n",
    "# returns values until (fct is False) trigger is reached\n",
    "print(list(itertools.takewhile(fct, vals)))"
   ]
  },
  {
   "cell_type": "markdown",
   "id": "a6312353",
   "metadata": {},
   "source": [
    "# generator functions\n",
    "- generator functions return a lazy iterator an iterator object with a sequence of values\n",
    "- These are objects that you can loop over but unlike lists, lazy iterators do not store their contents in memory. \n",
    "- Using __yield__ will result in a generator object. - Using __return__ will result in the first line of the file only.\n",
    "-  Calling a generator function creates an generator object.  However, it does not start running the function.\n",
    "- The function only executes on next()\n",
    "-  The difference between yield and return is that yield returns a value and pauses the execution while maintaining the internal states, </br>\n",
    "whereas the return statement returns a value and terminates the execution of the function. \n",
    "-  The generator is called just like a normal function. However, __its execution is paused on encountering the yield keyword.__ </br>\n",
    "This sends the first value of the iterator stream to the calling environment. However, __local variables and their states are saved internally.__ </br>\n",
    "This includes any variable bindings local to the generator, the instruction pointer, the internal stack, and any exception handling.</br>\n",
    "- This allows you to resume function execution whenever you call one of the generator’s methods.  </br>\n",
    "- That way, when next() is called on a generator object (either explicitly or implicitly within a for loop), </br>\n",
    "the previously yielded variable num is incremented, and then yielded again. \n",
    "- Unless your generator is infinite, __you can iterate through it one time only.__\n",
    "- Once all values have been evaluated, the generator is deemed exhausted. The iteration will stop and the for loop will exit. \n",
    "- If you used next(), then instead you’ll get an explicit StopIteration exception.\n",
    "\n",
    "One of the __advantages__ of the generator over the iterator is that __elements are generated dynamically.__</br>\n",
    "Since the next item is generated only after the first is consumed, it is __more memory efficient__ than the iterator. \n",
    "\n",
    "    1. Do you need the entire results in memory?\n",
    "    2. Do you need to reuse the raw results as is?\n",
    "    3. Is your result reasonably small to fit in the memory?\n",
    "    4. Do you want to process the results after you have obtained all the results?\n",
    "\n",
    "If all of the above is yes, then an iterator should suffice. Otherwise, you may want to consider using a generator to benefit from the delayed execution and yielding on the fly.\n"
   ]
  },
  {
   "cell_type": "code",
   "execution_count": null,
   "id": "6964d071",
   "metadata": {},
   "outputs": [],
   "source": [
    "def get_sequence_upto(x):\n",
    "    for i in range(x):\n",
    "        yield i"
   ]
  },
  {
   "cell_type": "code",
   "execution_count": null,
   "id": "b5b1d347",
   "metadata": {},
   "outputs": [
    {
     "name": "stdout",
     "output_type": "stream",
     "text": [
      "0\n",
      "1\n",
      "2\n",
      "3\n",
      "4\n"
     ]
    },
    {
     "ename": "StopIteration",
     "evalue": "",
     "output_type": "error",
     "traceback": [
      "\u001b[0;31m---------------------------------------------------------------------------\u001b[0m\n",
      "\u001b[0;31mStopIteration\u001b[0m                             Traceback (most recent call last)\n",
      "\u001b[0;32m/tmp/ipykernel_15928/488879664.py\u001b[0m in \u001b[0;36m<module>\u001b[0;34m\u001b[0m\n",
      "\u001b[1;32m      5\u001b[0m \u001b[0mprint\u001b[0m\u001b[0;34m(\u001b[0m\u001b[0mnext\u001b[0m\u001b[0;34m(\u001b[0m\u001b[0mseq\u001b[0m\u001b[0;34m)\u001b[0m\u001b[0;34m)\u001b[0m\u001b[0;34m\u001b[0m\u001b[0;34m\u001b[0m\u001b[0m\n",
      "\u001b[1;32m      6\u001b[0m \u001b[0mprint\u001b[0m\u001b[0;34m(\u001b[0m\u001b[0mnext\u001b[0m\u001b[0;34m(\u001b[0m\u001b[0mseq\u001b[0m\u001b[0;34m)\u001b[0m\u001b[0;34m)\u001b[0m\u001b[0;34m\u001b[0m\u001b[0;34m\u001b[0m\u001b[0m\n",
      "\u001b[0;32m----> 7\u001b[0;31m \u001b[0mprint\u001b[0m\u001b[0;34m(\u001b[0m\u001b[0mnext\u001b[0m\u001b[0;34m(\u001b[0m\u001b[0mseq\u001b[0m\u001b[0;34m)\u001b[0m\u001b[0;34m)\u001b[0m\u001b[0;34m\u001b[0m\u001b[0;34m\u001b[0m\u001b[0m\n",
      "\u001b[0m\u001b[1;32m      8\u001b[0m \u001b[0;34m\u001b[0m\u001b[0m\n",
      "\n",
      "\u001b[0;31mStopIteration\u001b[0m: "
     ]
    }
   ],
   "source": [
    "seq = get_sequence_upto(5)\n",
    "print(next(seq))\n",
    "print(next(seq))\n",
    "print(next(seq))\n",
    "print(next(seq))\n",
    "print(next(seq))\n",
    "print(next(seq))  # The function finally terminates when next() encounters the StopIteration error."
   ]
  },
  {
   "cell_type": "code",
   "execution_count": null,
   "id": "cfab2d4d",
   "metadata": {},
   "outputs": [
    {
     "name": "stdout",
     "output_type": "stream",
     "text": [
      "Received on next():  0\n",
      "Received on next():  1\n",
      "Received on next():  4\n",
      "Received on next():  9\n",
      "Received on next():  16\n"
     ]
    }
   ],
   "source": [
    "# In the following example, function square_of_sequence() acts as a generator.\n",
    "# It yields the square of a number successively on every call of next().\n",
    "\n",
    "def square_of_sequence(x):\n",
    "    for i in range(x):\n",
    "        yield i * i\n",
    "\n",
    "\n",
    "gen = square_of_sequence(5)\n",
    "\n",
    "while True:\n",
    "    try:\n",
    "        print(\"Received on next(): \", next(gen))\n",
    "    except StopIteration:\n",
    "        break"
   ]
  },
  {
   "cell_type": "code",
   "execution_count": null,
   "id": "a31ae4c1",
   "metadata": {},
   "outputs": [
    {
     "name": "stdout",
     "output_type": "stream",
     "text": [
      "0\n",
      "1\n",
      "4\n",
      "9\n",
      "16\n"
     ]
    }
   ],
   "source": [
    "# We can use the for loop to traverse the elements over the generator. \n",
    "# In this case, the next() function is called implicitly and the StopIteration is also automatically taken care of.\n",
    "squres = square_of_sequence(5)\n",
    "for sqr in squres:\n",
    "    print(sqr)"
   ]
  },
  {
   "cell_type": "markdown",
   "id": "b9848c31",
   "metadata": {},
   "source": [
    "## generator comprehension\n",
    "- shorter way of defining simple generator functions.\n",
    "- They’re useful in the same cases where list comprehensions are used, with an added benefit: </br>\n",
    "you can create them without building and holding the entire object in memory before iteration. "
   ]
  },
  {
   "cell_type": "code",
   "execution_count": null,
   "id": "db365997",
   "metadata": {},
   "outputs": [
    {
     "name": "stdout",
     "output_type": "stream",
     "text": [
      "[0, 4, 16, 36, 64]\n",
      "<generator object <genexpr> at 0x7ff81ec957b0>\n",
      "0\n",
      "4\n",
      "16\n"
     ]
    }
   ],
   "source": [
    "liste_ = [x * x for x in range(10) if x %2 ==0]\n",
    "print(liste_)\n",
    "\n",
    "# (expression for i in s if condition)\n",
    "gen = (x * x for x in range(10) if x % 2 == 0)\n",
    "print(gen)\n",
    "print(next(gen))\n",
    "print(next(gen))\n",
    "print(next(gen))"
   ]
  },
  {
   "cell_type": "code",
   "execution_count": null,
   "id": "f7b96a3c",
   "metadata": {},
   "outputs": [
    {
     "data": {
      "text/plain": [
       "285"
      ]
     },
     "metadata": {},
     "output_type": "display_data"
    }
   ],
   "source": [
    "# The generator expression can also be passed in a function. It should be passed without parentheses.\n",
    "sum(x * x for x in range(10))\n"
   ]
  },
  {
   "cell_type": "markdown",
   "id": "ae42305e",
   "metadata": {},
   "source": [
    "## A Generator Solution"
   ]
  },
  {
   "cell_type": "code",
   "execution_count": null,
   "id": "c3d5af9d",
   "metadata": {},
   "outputs": [
    {
     "name": "stdout",
     "output_type": "stream",
     "text": [
      "Total 135667\n"
     ]
    }
   ],
   "source": [
    "with open(\"../data/test.txt\") as wwwlog:\n",
    "    bytecolumn = (line.rsplit(\" \", 1)[1] for line in wwwlog)\n",
    "    bytes_sent = (int(x) for x in bytecolumn if x != '-')\n",
    "    print(\"Total\", sum(bytes_sent))"
   ]
  },
  {
   "cell_type": "markdown",
   "id": "a75a62a5",
   "metadata": {},
   "source": [
    "## Performance - of generator objects\n",
    "- list you get from the list comprehension is 87,624 bytes, while the generator object is only 120. \n",
    "- This means that the list is over 700 times larger than the generator object!"
   ]
  },
  {
   "cell_type": "code",
   "execution_count": null,
   "id": "14346d9e",
   "metadata": {},
   "outputs": [
    {
     "name": "stdout",
     "output_type": "stream",
     "text": [
      "87616\n",
      "112\n"
     ]
    }
   ],
   "source": [
    "import sys\n",
    "nums_squared_lc = [i * 2 for i in range(10000)]\n",
    "print(sys.getsizeof(nums_squared_lc))\n",
    "\n",
    "nums_squared_gc = (i ** 2 for i in range(10000))\n",
    "print(sys.getsizeof(nums_squared_gc))"
   ]
  },
  {
   "cell_type": "markdown",
   "id": "353fa130",
   "metadata": {},
   "source": [
    "## memory vs. speed\n",
    "- If the list is smaller than the running machine’s available memory, then list comprehensions can be faster to evaluate than the equivalent generator expression.\n",
    "- Here, you can see that summing across all values in the list comprehension took about a third of the time as summing across the generator. \n",
    "- If speed is an issue and memory isn’t, then a list comprehension is likely a better tool for the job."
   ]
  },
  {
   "cell_type": "code",
   "execution_count": null,
   "id": "8ab8292b",
   "metadata": {},
   "outputs": [
    {
     "name": "stdout",
     "output_type": "stream",
     "text": [
      "         5 function calls in 0.001 seconds\n",
      "\n",
      "   Ordered by: standard name\n",
      "\n",
      "   ncalls  tottime  percall  cumtime  percall filename:lineno(function)\n",
      "        1    0.001    0.001    0.001    0.001 <string>:1(<listcomp>)\n",
      "        1    0.000    0.000    0.001    0.001 <string>:1(<module>)\n",
      "        1    0.000    0.000    0.001    0.001 {built-in method builtins.exec}\n",
      "        1    0.000    0.000    0.000    0.000 {built-in method builtins.sum}\n",
      "        1    0.000    0.000    0.000    0.000 {method 'disable' of '_lsprof.Profiler' objects}\n",
      "\n",
      "\n"
     ]
    }
   ],
   "source": [
    "import cProfile\n",
    "cProfile.run('sum([i * 2 for i in range(10000)])')"
   ]
  },
  {
   "cell_type": "code",
   "execution_count": null,
   "id": "69788f1e",
   "metadata": {},
   "outputs": [
    {
     "name": "stdout",
     "output_type": "stream",
     "text": [
      "         10005 function calls in 0.002 seconds\n",
      "\n",
      "   Ordered by: standard name\n",
      "\n",
      "   ncalls  tottime  percall  cumtime  percall filename:lineno(function)\n",
      "    10001    0.001    0.000    0.001    0.000 <string>:1(<genexpr>)\n",
      "        1    0.000    0.000    0.002    0.002 <string>:1(<module>)\n",
      "        1    0.000    0.000    0.002    0.002 {built-in method builtins.exec}\n",
      "        1    0.001    0.001    0.002    0.002 {built-in method builtins.sum}\n",
      "        1    0.000    0.000    0.000    0.000 {method 'disable' of '_lsprof.Profiler' objects}\n",
      "\n",
      "\n"
     ]
    }
   ],
   "source": [
    "cProfile.run('sum((i * 2 for i in range(10000)))')"
   ]
  },
  {
   "cell_type": "markdown",
   "id": "4c03efa1",
   "metadata": {},
   "source": [
    "## send, throw, close - Advanced Generator Methods"
   ]
  },
  {
   "cell_type": "markdown",
   "id": "47189b74",
   "metadata": {},
   "source": [
    "### send()\n",
    "- Resumes the execution and “sends” a value into the generator function."
   ]
  },
  {
   "cell_type": "code",
   "execution_count": null,
   "id": "24b5220d",
   "metadata": {},
   "outputs": [
    {
     "data": {
      "text/plain": [
       "8"
      ]
     },
     "metadata": {},
     "output_type": "display_data"
    }
   ],
   "source": [
    "def f(x=None):\n",
    "    while True:\n",
    "        x = yield\n",
    "        yield x*2\n",
    "             \n",
    "g = f()\n",
    "next(g)\n",
    "g.send(4)"
   ]
  },
  {
   "cell_type": "code",
   "execution_count": null,
   "id": "ebf84aaf",
   "metadata": {},
   "outputs": [
    {
     "data": {
      "text/plain": [
       "20"
      ]
     },
     "metadata": {},
     "output_type": "display_data"
    }
   ],
   "source": [
    "next(g)\n",
    "g.send(10)"
   ]
  },
  {
   "cell_type": "markdown",
   "id": "17819e6f",
   "metadata": {},
   "source": [
    "### throw\n",
    "-allows you to throw exceptions with the generator."
   ]
  },
  {
   "cell_type": "markdown",
   "id": "65f6c574",
   "metadata": {},
   "source": [
    "### close\n",
    "- allows you to stop a generator."
   ]
  }
 ],
 "metadata": {
  "kernelspec": {
   "display_name": "Python 3.8.12 64-bit ('3.8.12')",
   "language": "python",
   "name": "python3"
  },
  "language_info": {
   "name": "python",
   "version": "3.8.12"
  },
  "orig_nbformat": 4,
  "vscode": {
   "interpreter": {
    "hash": "90e46ec4b387b633a89cba001294dbacbdc2d7a1806327e4b9e9ce73f0e3d3ef"
   }
  }
 },
 "nbformat": 4,
 "nbformat_minor": 2
}
