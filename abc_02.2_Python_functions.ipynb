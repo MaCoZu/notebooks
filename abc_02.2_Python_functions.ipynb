{
 "cells": [
  {
   "cell_type": "markdown",
   "id": "3fb3ddc6",
   "metadata": {},
   "source": [
    "# Functions\n",
    "- define a function - A function is a block of code, which only runs when it is called.\n",
    "- Arguments are specified after the function name, inside the parentheses."
   ]
  },
  {
   "cell_type": "code",
   "execution_count": null,
   "id": "3ea03c2e",
   "metadata": {},
   "outputs": [
    {
     "name": "stdout",
     "output_type": "stream",
     "text": [
      "Hi,  Hans, Z\n",
      "Welcome\n",
      "Hi,  Hans, Z\n",
      "Welcome\n"
     ]
    }
   ],
   "source": [
    "def greet_user(fname, lname):            # parameters are the placeholders\n",
    "    print(f\"Hi,  {fname}, {lname}\")         # argument is the definite value given to the function as a parameter\n",
    "    print(\"Welcome\")\n",
    "    \n",
    "greet_user(\"Hans\", \"Z\")             # positional arguments\n",
    "greet_user(lname=\"Z\", fname=\"Hans\") # keyword arguments"
   ]
  },
  {
   "cell_type": "markdown",
   "id": "befff812",
   "metadata": {},
   "source": [
    "## return \n",
    "- You can use the return statement to make your functions send Python objects back to the caller code.\n",
    "- every function returns a NONE when there is no return statement\n",
    "- return stops the functions execution"
   ]
  },
  {
   "cell_type": "code",
   "execution_count": null,
   "id": "a92a578d",
   "metadata": {},
   "outputs": [
    {
     "name": "stdout",
     "output_type": "stream",
     "text": [
      "9\n"
     ]
    }
   ],
   "source": [
    "def square(number):\n",
    "    return print(number*number)\n",
    "\n",
    "square(3)"
   ]
  },
  {
   "cell_type": "markdown",
   "id": "9031e2e4",
   "metadata": {},
   "source": [
    "## typing\n",
    "- In the following function, the argument name is expected to be of type str\n",
    "- and the return type shold be int. Subtypes are accepted as arguments."
   ]
  },
  {
   "cell_type": "code",
   "execution_count": null,
   "id": "ce750785",
   "metadata": {},
   "outputs": [
    {
     "data": {
      "text/plain": [
       "5"
      ]
     },
     "metadata": {},
     "output_type": "display_data"
    }
   ],
   "source": [
    "def name_len(name: str) -> int:\n",
    "    return len(name)\n",
    "\n",
    "name_len(\"Marco\")"
   ]
  },
  {
   "cell_type": "markdown",
   "id": "951582ea",
   "metadata": {},
   "source": [
    "## arguments (args)\n",
    "- **Parameters** are defined by the names that appear in a function definition, whereas **arguments** are the values actually passed to a function when calling it. \n",
    "- Parameters define what types of arguments a function can accept. \n",
    "- A __parameter__ is the variable listed inside the parentheses in the function definition.\n",
    "- An __argument__ is the value that are sent to the function when it is called.\n",
    "\n",
    "#### Parameters\n",
    "Parameters are part of a function definition (def or lambda). There are five different kinds of parameters:\n",
    "\n",
    "- **positional-or-keyword**: \n",
    "Normal parameters in a function definition, with or without default values. \n",
    "Each has a name and an index, and can accept a positional argument with the same index, \n",
    "or a keyword argument with the same name, or (if it has a default value) nothing. \n",
    "Technically, every parameter before the first bare *, var-positional, or var-keyword is a positional-or-keyword parameter.\n",
    "- **positional-only**: \n",
    "Only found in builtin/extension functions. \n",
    "Each has a name and an index, but only accepts positional arguments with the same index.\n",
    "- **var-positional**: \n",
    "This is the *args.\n",
    "This accepts a sequence consisting of all positional arguments whose index is larger \n",
    "than any positional-or-keyword or positional-only parameter.\n",
    "(Note that you can also specify a bare * here. In that case, you don't take variable positional arguments.\n",
    "You do this to set off keyword-only from positional-or-keyword parameters.)\n",
    "- **keyword-only**: \n",
    "These are parameters that come after a * or *args, with or without default values.\n",
    "Each has a name only, and accepts only keyword arguments with the same name. \n",
    "Technically, every parameter after the first bare * or var-positional,\n",
    "but before the var-keyword (if any), is a keyword-only parameter.\n",
    "- **var-keyword**: \n",
    "This is the **args.\n",
    "This accepts a mapping consisting of all keyword arguments whose name does not \n",
    "match any positional-or-keyword or keyword-only parameter.\n",
    "\n",
    "#### Arguments\n",
    "Arguments are part of a function call. There are four different kinds of arguments:\n",
    "\n",
    "- **positional**: Arguments without a name.\n",
    "        Each is matched to the positional-or-keyword or positional-only parameter with the same index, or to the var-positional parameter if there is no matching index (or, if there is no var-positional parameter, it's an error if there is no match).\n",
    "- **keyword**: Arguments with a name.\n",
    "        Each is matched to the postional-or-keyword or keyword-only parameter with the same name, or to the var-keyword parameter if there is no matching name (or, if there is no var-keyword parameter, it's an error if there is no match).\n",
    "- **packed positional**: An iterator preceded by *.\n",
    "        The iterator is unpacked, and the values treated as separate positional arguments.\n",
    "- **packed keyword**: A mapping preceded by **.\n",
    "        The mapping is iterated, and the key-value pairs treated as separate keyword arguments.\n",
    "\n",
    "There is no direct connection between parameters with a default value and keyword arguments. You can pass keyword arguments to parameters without default values, or positional arguments to parameters with them.\n"
   ]
  },
  {
   "cell_type": "markdown",
   "id": "0206eab3",
   "metadata": {},
   "source": [
    "### positional args\n",
    "-  By default, a function must be called with the correct number of arguments. \n",
    "-  the args passed are assigned according to their position"
   ]
  },
  {
   "cell_type": "code",
   "execution_count": null,
   "id": "d5749b9b",
   "metadata": {},
   "outputs": [
    {
     "name": "stdout",
     "output_type": "stream",
     "text": [
      "Emil Hauser\n"
     ]
    }
   ],
   "source": [
    "def my_function(fname, lname):\n",
    "  print(fname + \" \" + lname)\n",
    "\n",
    "my_function(\"Emil\", \"Hauser\") "
   ]
  },
  {
   "cell_type": "markdown",
   "id": "5f5126e2",
   "metadata": {},
   "source": [
    "### keyword args\n",
    "- Keyword Arguments (kwargs)\n",
    "-  You can also send arguments with the 'key = value' syntax.\n",
    "- This way the order of the arguments does not matter."
   ]
  },
  {
   "cell_type": "code",
   "execution_count": null,
   "id": "4de5d186",
   "metadata": {},
   "outputs": [],
   "source": [
    "def my_function(child3, child2, child1):\n",
    "  print(\"The youngest child is \" + child3)\n",
    "\n",
    "my_function(child1 = \"Emil\", child2 = \"Tobias\", child3 = \"Linus\")"
   ]
  },
  {
   "cell_type": "markdown",
   "id": "bbd630a2",
   "metadata": {},
   "source": [
    "#### keyword-only Arguments\n",
    "- if we want the function caller to explicitly use a keyword \n",
    "- the * here means ‘don’t allow any positional arguments beyond this point’\n",
    "- otherwise any further (accidentially) added parameter is taken as the keyword parameter"
   ]
  },
  {
   "cell_type": "code",
   "execution_count": null,
   "id": "f960ed3d",
   "metadata": {},
   "outputs": [
    {
     "name": "stdout",
     "output_type": "stream",
     "text": [
      "1 2 3\n"
     ]
    }
   ],
   "source": [
    "def k_only(arg1, arg2, *,  sub=False):\n",
    "    return print(arg1, arg2, sub)\n",
    "\n",
    "k_only(1, 2, sub=3)"
   ]
  },
  {
   "cell_type": "markdown",
   "id": "fb67e283",
   "metadata": {},
   "source": [
    "### *args\n",
    "-  *args, Variable Arguments\n",
    "-  *args gets all the excess positional arguments\n",
    "-  If you do not know how many arguments will be passed into your function\n",
    "-  This way the function will receive a tuple of arguments, and can access the items accordingly\n",
    "- good when # of args is small\n",
    "- add flexibility to the fct.\n"
   ]
  },
  {
   "cell_type": "code",
   "execution_count": null,
   "id": "11798b05",
   "metadata": {},
   "outputs": [],
   "source": [
    "def my_function(*kids):\n",
    "  print(\"The youngest child is \" + kids[2])\n",
    "\n",
    "my_function(\"Emil\", \"Tobias\", \"Linus\")"
   ]
  },
  {
   "cell_type": "code",
   "execution_count": null,
   "id": "affcda59",
   "metadata": {},
   "outputs": [
    {
     "name": "stdout",
     "output_type": "stream",
     "text": [
      "11\n",
      "156\n",
      "27\n"
     ]
    }
   ],
   "source": [
    "# if we add a positional param like this addition(base, *args)\n",
    "# the fct. is off bc it takes base and misses the last value in the *args\n",
    "def addition(*args):\n",
    "    result=0\n",
    "    for arg in args:\n",
    "        result += arg\n",
    "    return result\n",
    "\n",
    "print(addition(2, 4, 5))\n",
    "print(addition(10 ,20, 4, 81, 41))\n",
    "nums = [1, 4, 6, 6, 10]\n",
    "print(addition(*nums))"
   ]
  },
  {
   "cell_type": "markdown",
   "id": "931764da",
   "metadata": {},
   "source": [
    "### kwargs\n",
    "- var-keyword parameter/ keyword dictionary parameter slot\n",
    "- **kwargs, variable Keyword Arguments\n",
    "- **kwargs gets all the excess keyword arguments\n",
    "- If the number of keyword arguments is unknown, add a double ** before the parameter name.\n"
   ]
  },
  {
   "cell_type": "code",
   "execution_count": null,
   "id": "2cea0d3e",
   "metadata": {},
   "outputs": [],
   "source": [
    "def my_function(**kid):\n",
    "  print(\"His last name is \" + kid[\"lname\"])\n",
    "\n",
    "my_function(fname = \"Tobias\", lname = \"Refsnes\")"
   ]
  },
  {
   "cell_type": "code",
   "execution_count": null,
   "id": "43a6be75",
   "metadata": {},
   "outputs": [],
   "source": [
    "# default argument\n",
    "def my_function(country = \"Norway\"):\n",
    "  print(\"I am from \" + country)\n",
    "\n",
    "my_function(\"India\")\n",
    "my_function()"
   ]
  },
  {
   "cell_type": "markdown",
   "id": "2f509494",
   "metadata": {},
   "source": [
    "## higher order function \n",
    "- contains other functions as a parameter or returns a function as an output"
   ]
  },
  {
   "cell_type": "code",
   "execution_count": null,
   "id": "e3e44e93",
   "metadata": {},
   "outputs": [
    {
     "name": "stdout",
     "output_type": "stream",
     "text": [
      "HELLO\n"
     ]
    }
   ],
   "source": [
    "def shout(text):\n",
    "    return text.upper()\n",
    "\n",
    "print(shout('Hello'))\n"
   ]
  },
  {
   "cell_type": "markdown",
   "id": "09a18b82",
   "metadata": {},
   "source": [
    "## Passing a Function as an argument to another function"
   ]
  },
  {
   "cell_type": "code",
   "execution_count": null,
   "id": "e3cd5557",
   "metadata": {},
   "outputs": [
    {
     "name": "stdout",
     "output_type": "stream",
     "text": [
      "HI, I AM CREATED BY A FUNCTION PASSED AS AN ARGUMENT.\n",
      "hi, i am created by a function passed as an argument.\n"
     ]
    }
   ],
   "source": [
    "def shout(text):\n",
    "    return text.upper()\n",
    "\n",
    "def whisper(text):\n",
    "    return text.lower()\n",
    "\n",
    "def greet(func):\n",
    "    # storing the function in a variable\n",
    "    greeting = func(\"Hi, I am created by a function passed as an argument.\")\n",
    "    print(greeting)\n",
    "\n",
    "greet(shout)  # function greet which takes a function as an argument\n",
    "greet(whisper)"
   ]
  },
  {
   "cell_type": "markdown",
   "id": "1cbad3e8",
   "metadata": {},
   "source": [
    "## recursion"
   ]
  },
  {
   "cell_type": "code",
   "execution_count": null,
   "id": "7e45b6df",
   "metadata": {},
   "outputs": [
    {
     "name": "stdout",
     "output_type": "stream",
     "text": [
      "\n",
      "Recursion Example Results\n",
      "k: 1, k-1: 0, result: 1\n",
      "k: 2, k-1: 1, result: 3\n",
      "3\n"
     ]
    }
   ],
   "source": [
    "# recursion - means a defined function can call itself\n",
    "def tri_recursion(k):\n",
    "  if(k > 0):\n",
    "    result = k + tri_recursion(k - 1)\n",
    "    print(f\"k: {k}, k-1: {k-1}, result: {result}\")\n",
    "  else:\n",
    "    result = 0\n",
    "  return result\n",
    "print(\"\\nRecursion Example Results\")\n",
    "x = tri_recursion(2)\n",
    "print(x)"
   ]
  },
  {
   "cell_type": "markdown",
   "id": "a9c10c58",
   "metadata": {},
   "source": [
    "## Assigning function to a variable"
   ]
  },
  {
   "cell_type": "code",
   "execution_count": null,
   "id": "43fe1fe1",
   "metadata": {},
   "outputs": [
    {
     "name": "stdout",
     "output_type": "stream",
     "text": [
      "HELLO\n"
     ]
    }
   ],
   "source": [
    "yell = shout\n",
    "print(yell('Hello'))"
   ]
  },
  {
   "cell_type": "markdown",
   "id": "746e2cdc",
   "metadata": {},
   "source": [
    "## lambda function\n",
    "- lambda function is a small anonymous fct.\n",
    "- they don't have names\n",
    "- can be passed as arguments to other fct.\n",
    "- can take any number of arguments, but has only one expression\n",
    "- lambda(parameters) : (expression)"
   ]
  },
  {
   "cell_type": "code",
   "execution_count": null,
   "id": "74b2cf48",
   "metadata": {},
   "outputs": [
    {
     "name": "stdout",
     "output_type": "stream",
     "text": [
      "8\n"
     ]
    }
   ],
   "source": [
    "x = lambda a, b : a ** b           # two args followed by clause\n",
    "print(x(2, 3))                              # x is return"
   ]
  },
  {
   "cell_type": "code",
   "execution_count": null,
   "id": "c8a96647",
   "metadata": {},
   "outputs": [
    {
     "data": {
      "text/plain": [
       "[32.0, 53.6, 93.2, 212.0]"
      ]
     },
     "metadata": {},
     "output_type": "display_data"
    }
   ],
   "source": [
    "ctemp =[0, 12, 34, 100]\n",
    "#  temp conversion is a very mall fct\n",
    "# we can easliy put it in a lambda\n",
    "list(map(lambda t: (t*9/5)+32, ctemp))"
   ]
  },
  {
   "cell_type": "code",
   "execution_count": null,
   "id": "24ae6321",
   "metadata": {},
   "outputs": [
    {
     "name": "stdout",
     "output_type": "stream",
     "text": [
      "121\n",
      "16\n"
     ]
    }
   ],
   "source": [
    "# power of lambda is better shown when you use them \n",
    "# as an anonymous function inside another function\n",
    "def times(n):\n",
    "  return lambda a : a ** n\n",
    "\n",
    "squared = times(2)\n",
    "print(squared(11))\n",
    "\n",
    "power_4 = times(4)\n",
    "print(power_4(2))"
   ]
  },
  {
   "cell_type": "code",
   "execution_count": null,
   "id": "cfbd7ccb",
   "metadata": {},
   "outputs": [
    {
     "name": "stdout",
     "output_type": "stream",
     "text": [
      "2\n"
     ]
    }
   ],
   "source": [
    "# Example of lambda function using if-else\n",
    "max = lambda a, b : a if(a > b) else b\n",
    "print(max(1, 2))"
   ]
  },
  {
   "cell_type": "code",
   "execution_count": null,
   "id": "add8f433",
   "metadata": {},
   "outputs": [
    {
     "name": "stdout",
     "output_type": "stream",
     "text": [
      "[3, 16, 9]\n"
     ]
    }
   ],
   "source": [
    "# lambda - inner and outer function\n",
    "List = [[2,3,4],[1, 4, 16, 64],[3, 6, 9, 12]]\n",
    "sortList = lambda x: (sorted(i) for i in x)                     # Sort each sublist - inner fct.\n",
    "secondLargest = lambda l, sL : [i[-2] for i in sL(l)]     # Get the second largest element - outer fct.\n",
    "res = secondLargest(List, sortList)\n",
    "print(res)"
   ]
  },
  {
   "cell_type": "markdown",
   "id": "379bf67a",
   "metadata": {},
   "source": [
    "# map, reduce, filter"
   ]
  },
  {
   "cell_type": "markdown",
   "id": "d651625e",
   "metadata": {},
   "source": [
    "## map()\n",
    "- map() returns a map object (which is an iterator) of the results after\n",
    "- applying the given function to each item of a given iterable (list, tuple etc.)\n",
    "- The map() function executes a specified function for each item in an iterable.\n",
    "-  The item is sent to the function as a parameter."
   ]
  },
  {
   "cell_type": "code",
   "execution_count": null,
   "id": "f5ca9341",
   "metadata": {},
   "outputs": [
    {
     "name": "stdout",
     "output_type": "stream",
     "text": [
      "[25, 49, 484, 9409, 2916, 3844, 5929, 529, 5329, 3721]\n"
     ]
    }
   ],
   "source": [
    "li = [5, 7, 22, 97, 54, 62, 77, 23, 73, 61]\n",
    "final_list = list(map(lambda x: x**2, li))\n",
    "print(final_list)\n"
   ]
  },
  {
   "cell_type": "code",
   "execution_count": null,
   "id": "657378c5",
   "metadata": {},
   "outputs": [],
   "source": [
    "def toGrades(x):\n",
    "    if x > 90: return 'A'\n",
    "    elif 80 <= x & x < 90: return 'B'\n",
    "    elif 70 <= x & x <80: return 'C'\n",
    "    elif 65 <= x & x <70: return 'D'\n",
    "    else: return 'F'"
   ]
  },
  {
   "cell_type": "code",
   "execution_count": null,
   "id": "6db1a565",
   "metadata": {},
   "outputs": [
    {
     "name": "stdout",
     "output_type": "stream",
     "text": [
      "[50, 60, 67, 76, 81, 86, 99, 102]\n",
      "['F', 'F', 'D', 'C', 'B', 'B', 'A', 'A']\n"
     ]
    }
   ],
   "source": [
    "grades = (102, 99, 86, 67, 50, 81, 76, 60)\n",
    "grade_sort = sorted(grades)\n",
    "# maps letters to numbers according to the function\n",
    "letters = list(map(toGrades, grade_sort))\n",
    "print(grade_sort)\n",
    "print(letters)"
   ]
  },
  {
   "cell_type": "code",
   "execution_count": null,
   "id": "b7f76d8d",
   "metadata": {},
   "outputs": [
    {
     "data": {
      "text/plain": [
       "[100, 200, 300, 400]"
      ]
     },
     "metadata": {},
     "output_type": "display_data"
    }
   ],
   "source": [
    "numbers = (1, 2, 3, 4)\n",
    "scale = lambda a: a*100\n",
    "result = map(scale, numbers) # takes each item of numbers applies the fct. and returns a list\n",
    "list(result)"
   ]
  },
  {
   "cell_type": "code",
   "execution_count": null,
   "id": "87c41a7a",
   "metadata": {},
   "outputs": [
    {
     "name": "stdout",
     "output_type": "stream",
     "text": [
      "[5, 6, 6]\n"
     ]
    }
   ],
   "source": [
    "len_func = lambda x: len(x)\n",
    "\n",
    "x = list(map(len_func, ('apple', 'banana', 'cherry')))    # map creates an map object, thus convert it to a list\n",
    "print(x)\n"
   ]
  },
  {
   "cell_type": "markdown",
   "id": "ccd21378",
   "metadata": {},
   "source": [
    "## filter()\n",
    "- filter() takes in a function and a list as arguments.\n",
    "- __filters out all the elements of a sequence, for which the function returns True.__\n",
    "- filter(function, iterable)"
   ]
  },
  {
   "cell_type": "code",
   "execution_count": null,
   "id": "bc83179d",
   "metadata": {},
   "outputs": [
    {
     "data": {
      "text/plain": [
       "[22, 54, 62]"
      ]
     },
     "metadata": {},
     "output_type": "display_data"
    }
   ],
   "source": [
    "li = [5, 7, 22, 97, 54, 62, 77, 23, 73, 61]\n",
    "final_list = list(filter(lambda x: (x%2 == 0) , li))\n",
    "final_list"
   ]
  },
  {
   "cell_type": "code",
   "execution_count": null,
   "id": "d8098141",
   "metadata": {},
   "outputs": [
    {
     "name": "stdout",
     "output_type": "stream",
     "text": [
      "[90, 59, 21, 60]\n"
     ]
    }
   ],
   "source": [
    "ages = [13, 90, 17, 59, 21, 60, 5]\n",
    "adults = list(filter(lambda age: age>18, ages))\n",
    "print(adults)"
   ]
  },
  {
   "cell_type": "markdown",
   "id": "5932c4d6",
   "metadata": {},
   "source": [
    "## reduce()\n",
    "- needs to be imported as it resides in the functools module.\n",
    "- performs a repetitive operation over the pairs of the iterable.\n",
    "-  implements a technique called folding - reduce a list of items to a single cumulative value\n",
    "- takes an existing function, applys it cumulatively to all the items in an iterable"
   ]
  },
  {
   "cell_type": "code",
   "execution_count": null,
   "id": "d4edb61a",
   "metadata": {},
   "outputs": [
    {
     "name": "stdout",
     "output_type": "stream",
     "text": [
      "The maximum element of the list is : 76\n"
     ]
    }
   ],
   "source": [
    "from functools import reduce\n",
    "lis = [10, 32, 51, 76, 2]\n",
    "maximum = reduce(lambda a,b : a if a > b else b,lis)\n",
    "print (f\"The maximum element of the list is : {maximum}\")"
   ]
  },
  {
   "cell_type": "markdown",
   "id": "13ab0b38",
   "metadata": {},
   "source": [
    "# built-in functions"
   ]
  },
  {
   "cell_type": "code",
   "execution_count": null,
   "id": "570581a1",
   "metadata": {},
   "outputs": [],
   "source": [
    "abs()\t        # Returns the absolute value of a number\n",
    "all()\t          # Returns True if all items in an iterable object are true\n",
    "any()\t        # Returns True if any item in an iterable object is true\n",
    "ascii()\t        # Returns a readable version of an object. Replaces none-ascii characters with escape character\n",
    "bin()\t        # Returns the binary version of a number\n",
    "bool()\t            # Returns the boolean value of the specified object\n",
    "bytearray()\t    # Returns an array of bytes\n",
    "bytes()\t            # Returns a bytes object\n",
    "callable()\t              # Returns True if the specified object is callable, otherwise False\n",
    "chr()\t                     # Returns a character from the specified Unicode code.\n",
    "ord()\t                    # Convert an integer representing the Unicode of the specified character\n",
    "classmethod()\t    # Converts a method into a class method\n",
    "compile()\t            # Returns the specified source as an object, ready to be executed\n",
    "complex()\t           # Returns a complex number\n",
    "delattr()\t              # Deletes the specified attribute (property or method) from the specified object\n",
    "dict()\t                    # Returns a dictionary (Array)\n",
    "dir()\t                     # Returns a list of the specified object's properties and methods\n",
    "divmod()\t           # Returns the quotient and the remainder when argument1 is divided by argument2\n",
    "enumerate()\t        # Takes a collection (e.g. a tuple) and returns it as an enumerate object\n",
    "eval()\t                   # Evaluates and executes an expression\n",
    "exec()\t                  # Executes the specified code (or object)\n",
    "filter()\t          # Use a filter function to exclude items in an iterable object\n",
    "float()\t             # Returns a floating point number\n",
    "format()\t      # Formats a specified value     \n",
    "frozenset()\t    # Returns a frozenset object\n",
    "\n",
    "getattr()\t      # Returns the value of the specified attribute (property or method)\n",
    "setattr()\t       # Sets an attribute (property/method) of an object\n",
    "hasattr()\t      # Returns True if the specified object has the specified attribute (property/method)\n",
    "isinstance()\t             # Returns True if a specified object is an instance of a specified object\n",
    "issubclass()\t             # Returns True if a specified class is a subclass of a specified object\n",
    "\n",
    "globals()\t      # Returns the current global symbol table as a dictionary\n",
    "hash()\t            # Returns the hash value of a specified object\n",
    "help()\t            # Executes the built-in help system\n",
    "hex()\t            # Converts a number into a hexadecimal value\n",
    "id()\t              # Returns the id of an object\n",
    "input()\t           # Allowing user input\n",
    "int()\t             # Returns an integer number\n",
    "iter()\t             # Returns an iterator object\n",
    "len()\t             # Returns the length of an object\n",
    "list()\t              # Returns a list\n",
    "locals()\t        # Returns an updated dictionary of the current local symbol table\n",
    "map()\t            # Returns the specified iterator with the specified function applied to each item\n",
    "max()\t            # Returns the largest item in an iterable\n",
    "memoryview()\t             # Returns a memory view object\n",
    "min()\t             # Returns the smallest item in an iterable\n",
    "next()\t             # Returns the next item in an iterable\n",
    "object()\t       # Returns a new object\n",
    "oct()\t              # Converts a number into an octal\n",
    "open()\t           # Opens a file and returns a file object\n",
    "pow()\t            # Returns the value of x to the power of y\n",
    "print()\t             # Prints to the standard output device\n",
    "property()\t             # Gets, sets, deletes a property\n",
    "range()\t            # Returns a sequence of numbers, starting from 0 and increments by 1 (by default)\n",
    "repr()\t             # Returns a readable version of an object\n",
    "reversed()\t             # Returns a reversed iterator\n",
    "round()\t          # Rounds a numbers\n",
    "set()\t             # Returns a new set object\n",
    "slice()\t             # Returns a slice object\n",
    "sorted()\t      # Returns a sorted list\n",
    "staticmethod()\t             # Converts a method into a static method\n",
    "str()\t                # Returns a string object\n",
    "sum()\t             # Sums the items of an iterator\n",
    "super()\t            # Returns an object that represents the parent class\n",
    "tuple()\t             # Returns a tuple\n",
    "type()\t             # Returns the type of an object\n",
    "vars()\t             # Returns the __dict__ property of an object\n",
    "zip()\t              # Returns an iterator, from two or more iterators"
   ]
  },
  {
   "cell_type": "code",
   "execution_count": null,
   "id": "9b87cfad",
   "metadata": {},
   "outputs": [
    {
     "name": "stdout",
     "output_type": "stream",
     "text": [
      "True\n",
      "False\n"
     ]
    }
   ],
   "source": [
    "list1=[1, 2, 3, 0, 5, 6]\n",
    "# 'any' goes through the list and returns True if any of the values evaluates to True\n",
    "print(any(list1))\n",
    "print(all(list1)) # are all True?\n"
   ]
  }
 ],
 "metadata": {
  "kernelspec": {
   "display_name": "Python 3.8.12 64-bit ('3.8.12')",
   "language": "python",
   "name": "python3"
  },
  "language_info": {
   "name": "python",
   "version": "3.8.12"
  },
  "orig_nbformat": 4,
  "vscode": {
   "interpreter": {
    "hash": "90e46ec4b387b633a89cba001294dbacbdc2d7a1806327e4b9e9ce73f0e3d3ef"
   }
  }
 },
 "nbformat": 4,
 "nbformat_minor": 2
}
